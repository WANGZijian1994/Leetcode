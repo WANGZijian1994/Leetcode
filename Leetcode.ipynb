{
 "cells": [
  {
   "cell_type": "markdown",
   "metadata": {},
   "source": [
    "### 3. 无重复字符的最长子串"
   ]
  },
  {
   "cell_type": "code",
   "execution_count": 8,
   "metadata": {
    "scrolled": true
   },
   "outputs": [
    {
     "name": "stdout",
     "output_type": "stream",
     "text": [
      "What if we tell you that secret to immorality is in books?\n",
      "You don't get it from us, but from Yale University's new discovery\n",
      "links\n"
     ]
    }
   ],
   "source": [
    "print(\"What if we tell you that secret to immorality is in books?\")\n",
    "print(\"You don't get it from us, but from Yale University's new discovery\")\n",
    "print(\"links\")"
   ]
  },
  {
   "cell_type": "code",
   "execution_count": 286,
   "metadata": {},
   "outputs": [],
   "source": [
    "    def lengthOfLongestSubstring(s):\n",
    "        if(s==\"\"):\n",
    "            return 0\n",
    "        elif(len(s)==1 or s==\" \"):\n",
    "            return 1\n",
    "        elif len(s)==2:\n",
    "            if(s[1]==s[0]):\n",
    "                return 1\n",
    "            else:\n",
    "                return 2\n",
    "        else:\n",
    "            s2 = str()\n",
    "            l = [s[0]]\n",
    "            L = []\n",
    "            for i in range(1,len(s)):\n",
    "                s2 = s[i]\n",
    "                print(\"s2 = \",s2,\" l = \",l)\n",
    "                if(s2 not in l):\n",
    "                    l.append(s2)\n",
    "                    if s2 == s[-1]:\n",
    "                        L.append(l)\n",
    "                else:\n",
    "                    L.append(l)\n",
    "                    position = l.index(s2)\n",
    "                    if(position==len(l)-1):\n",
    "                        l = [s2]\n",
    "                    else:\n",
    "                        l = l[position+1:]+[s2]\n",
    "            print(L)\n",
    "            return max([len(x) for x in L])"
   ]
  },
  {
   "cell_type": "code",
   "execution_count": 287,
   "metadata": {
    "scrolled": false
   },
   "outputs": [
    {
     "name": "stdout",
     "output_type": "stream",
     "text": [
      "s2 =  k  l =  ['c']\n",
      "s2 =  i  l =  ['c', 'k']\n",
      "s2 =  l  l =  ['c', 'k', 'i']\n",
      "s2 =  b  l =  ['c', 'k', 'i', 'l']\n",
      "s2 =  k  l =  ['c', 'k', 'i', 'l', 'b']\n",
      "s2 =  d  l =  ['i', 'l', 'b', 'k']\n",
      "[['c', 'k', 'i', 'l', 'b'], ['i', 'l', 'b', 'k', 'd']]\n"
     ]
    },
    {
     "data": {
      "text/plain": [
       "5"
      ]
     },
     "execution_count": 287,
     "metadata": {},
     "output_type": "execute_result"
    }
   ],
   "source": [
    "lengthOfLongestSubstring(\"ckilbkd\")"
   ]
  },
  {
   "cell_type": "markdown",
   "metadata": {},
   "source": [
    "### 11.盛最多水的容器"
   ]
  },
  {
   "cell_type": "code",
   "execution_count": 29,
   "metadata": {},
   "outputs": [],
   "source": [
    "    def maxArea(height):\n",
    "        produit,tmp = 0,1\n",
    "        taille = len(height)\n",
    "        i = 0\n",
    "        k = taille - 1\n",
    "        while(i < k):\n",
    "            a1 = height[i]\n",
    "            a2 = height[i+1]\n",
    "            b1 = height[k]\n",
    "            b2 = height[k-1]\n",
    "            tmp = min(a1,b1)*(k-i)\n",
    "            if(produit < tmp):\n",
    "                print(\"height[{}] = \".format(i),height[i],\"height[{}] = \".format(k),height[k])\n",
    "                produit = tmp\n",
    "            if(a1 ^ b1==0):\n",
    "                i+=1\n",
    "            if(a1>b1):\n",
    "                k-=1\n",
    "            if(a1<b1):\n",
    "                i+=1\n",
    "        return produit"
   ]
  },
  {
   "cell_type": "code",
   "execution_count": 30,
   "metadata": {
    "scrolled": true
   },
   "outputs": [
    {
     "name": "stdout",
     "output_type": "stream",
     "text": [
      "height[0] =  1 height[6] =  5\n",
      "height[1] =  3 height[6] =  5\n",
      "height[4] =  25 height[5] =  24\n"
     ]
    },
    {
     "data": {
      "text/plain": [
       "24"
      ]
     },
     "execution_count": 30,
     "metadata": {},
     "output_type": "execute_result"
    }
   ],
   "source": [
    "maxArea([1,3,2,5,25,24,5])"
   ]
  },
  {
   "cell_type": "code",
   "execution_count": 31,
   "metadata": {},
   "outputs": [
    {
     "name": "stdout",
     "output_type": "stream",
     "text": [
      "height[0] =  1 height[8] =  7\n",
      "height[1] =  8 height[8] =  7\n"
     ]
    },
    {
     "data": {
      "text/plain": [
       "49"
      ]
     },
     "execution_count": 31,
     "metadata": {},
     "output_type": "execute_result"
    }
   ],
   "source": [
    "maxArea([1,8,6,2,5,4,8,3,7])"
   ]
  },
  {
   "cell_type": "markdown",
   "metadata": {},
   "source": [
    "### 14 编写一个函数来查找字符串数组中的最长公共前缀。\n",
    "\n",
    "### 如果不存在公共前缀，返回空字符串 \"\"。"
   ]
  },
  {
   "cell_type": "code",
   "execution_count": 4,
   "metadata": {},
   "outputs": [
    {
     "name": "stdout",
     "output_type": "stream",
     "text": [
      "f f\n",
      "f f\n",
      "l l\n",
      "l l\n",
      "o o\n",
      "o i\n"
     ]
    },
    {
     "data": {
      "text/plain": [
       "'fl'"
      ]
     },
     "execution_count": 4,
     "metadata": {},
     "output_type": "execute_result"
    }
   ],
   "source": [
    "    def longestCommonPrefix(strs):\n",
    "        tmp = min([len(x) for x in strs])\n",
    "        test = True\n",
    "        s = str()\n",
    "        j = 0\n",
    "        for i in range(tmp):\n",
    "            if(test):\n",
    "                for j in range(len(strs)-1):\n",
    "                    s1 = strs[j][i]\n",
    "                    s2 = strs[j+1][i]\n",
    "                    print(s1,s2)\n",
    "                    if(s1!=s2):\n",
    "                        test = False\n",
    "                        break\n",
    "                if(test):\n",
    "                    s+=s1\n",
    "        return s\n",
    "                    \n",
    "                \n",
    "longestCommonPrefix([\"flower\",\"flow\",\"flight\"])"
   ]
  },
  {
   "cell_type": "markdown",
   "metadata": {},
   "source": [
    "### 15 三数之和\n",
    "\n",
    "提示：先排序"
   ]
  },
  {
   "cell_type": "code",
   "execution_count": 65,
   "metadata": {},
   "outputs": [
    {
     "name": "stdout",
     "output_type": "stream",
     "text": [
      "[[0, 0, 0]]\n",
      "[[-1, -1, 2], [-1, 0, 1]]\n",
      "[[-15, 1, 14],\n",
      " [-15, 2, 13],\n",
      " [-15, 3, 12],\n",
      " [-15, 4, 11],\n",
      " [-15, 5, 10],\n",
      " [-15, 7, 8],\n",
      " [-13, -1, 14],\n",
      " [-13, 1, 12],\n",
      " [-13, 2, 11],\n",
      " [-13, 3, 10],\n",
      " [-13, 4, 9],\n",
      " [-13, 5, 8],\n",
      " [-12, -2, 14],\n",
      " [-12, -1, 13],\n",
      " [-12, 1, 11],\n",
      " [-12, 2, 10],\n",
      " [-12, 3, 9],\n",
      " [-12, 4, 8],\n",
      " [-12, 5, 7],\n",
      " [-11, -3, 14],\n",
      " [-11, -2, 13],\n",
      " [-11, -1, 12],\n",
      " [-11, 1, 10],\n",
      " [-11, 2, 9],\n",
      " [-11, 3, 8],\n",
      " [-11, 4, 7],\n",
      " [-10, -4, 14],\n",
      " [-10, -3, 13],\n",
      " [-10, -2, 12],\n",
      " [-10, -1, 11],\n",
      " [-10, 1, 9],\n",
      " [-10, 2, 8],\n",
      " [-10, 3, 7],\n",
      " [-10, 5, 5],\n",
      " [-9, -5, 14],\n",
      " [-9, -4, 13],\n",
      " [-9, -3, 12],\n",
      " [-9, -2, 11],\n",
      " [-9, -1, 10],\n",
      " [-9, 1, 8],\n",
      " [-9, 2, 7],\n",
      " [-9, 4, 5],\n",
      " [-8, -6, 14],\n",
      " [-8, -5, 13],\n",
      " [-8, -4, 12],\n",
      " [-8, -3, 11],\n",
      " [-8, -2, 10],\n",
      " [-8, -1, 9],\n",
      " [-8, 1, 7],\n",
      " [-8, 3, 5],\n",
      " [-7, -7, 14],\n",
      " [-7, -6, 13],\n",
      " [-7, -5, 12],\n",
      " [-7, -4, 11],\n",
      " [-7, -3, 10],\n",
      " [-7, -2, 9],\n",
      " [-7, -1, 8],\n",
      " [-7, 2, 5],\n",
      " [-7, 3, 4],\n",
      " [-6, -6, 12],\n",
      " [-6, -5, 11],\n",
      " [-6, -4, 10],\n",
      " [-6, -3, 9],\n",
      " [-6, -2, 8],\n",
      " [-6, -1, 7],\n",
      " [-6, 1, 5],\n",
      " [-6, 2, 4],\n",
      " [-6, 3, 3],\n",
      " [-5, -5, 10],\n",
      " [-5, -4, 9],\n",
      " [-5, -3, 8],\n",
      " [-5, -2, 7],\n",
      " [-5, 1, 4],\n",
      " [-5, 2, 3],\n",
      " [-4, -4, 8],\n",
      " [-4, -3, 7],\n",
      " [-4, -1, 5],\n",
      " [-4, 1, 3],\n",
      " [-4, 2, 2],\n",
      " [-3, -2, 5],\n",
      " [-3, -1, 4],\n",
      " [-3, 1, 2],\n",
      " [-2, -2, 4],\n",
      " [-2, -1, 3],\n",
      " [-2, 1, 1],\n",
      " [-1, -1, 2]]\n"
     ]
    }
   ],
   "source": [
    "def threeSum(nums):\n",
    "        if(len(nums)<3):\n",
    "            return [[]]\n",
    "        l = []\n",
    "        for x in range(len(nums)):\n",
    "            for y in range(sum([x,1]),len(nums)):\n",
    "                for z in range(sum([y,1]),len(nums)):\n",
    "                    a = nums[x]\n",
    "                    b = nums[y]\n",
    "                    c = nums[z]\n",
    "                    if (a+b+c)==0:\n",
    "                        l.append(sorted([a,b,c]))\n",
    "        if(len(l)<1):\n",
    "            return []\n",
    "        else:\n",
    "            l1 = l.copy()\n",
    "            for i in range(len(l)):\n",
    "                tmp = l1[i]\n",
    "                while(l.count(tmp)>1):\n",
    "                    l.remove(tmp)          \n",
    "        return l\n",
    "print(threeSum([0,0,0,0]))\n",
    "print(threeSum([-1, 0, 1, 2, -1, -4]))\n",
    "import pprint\n",
    "pprint.pprint(threeSum([-1,-12,14,-6,4,-11,2,-7,13,-15,-1,11,-15,-15,13,-9,-11,-10,-7,-13,7,9,-13,-3,10,1,-5,12,11,-9,2,-4,-6,-7,5,5,-2,14,13,-12,14,-3,14,14,-11,5,12,-6,10,-9,-4,-6,-15,-9,-1,2,-1,9,-9,-5,-15,8,-2,-6,9,10,7,14,9,5,-13,9,-12,8,8,-8,-2,-2,1,-15,-4,5,-13,-4,3,1,5,-13,-13,11,-11,10,5,3,11,-9,-2,3,-10,-7,-6,14,9,-11,7,2,-4,13,7,5,13,-12,-13,7,-9,5,-7,11,-1,-12,8,3,13,-10,13,1,-4]))"
   ]
  },
  {
   "cell_type": "code",
   "execution_count": 74,
   "metadata": {},
   "outputs": [
    {
     "data": {
      "text/plain": [
       "[[-1, -1, 2], [-1, 0, 1]]"
      ]
     },
     "execution_count": 74,
     "metadata": {},
     "output_type": "execute_result"
    }
   ],
   "source": [
    "def threeSum1(nums):\n",
    "        if(len(nums)<3):\n",
    "            print(nums)\n",
    "            return []\n",
    "        elif(len(nums)==3):\n",
    "            if sum(nums)==0:\n",
    "                return [nums]\n",
    "            else:\n",
    "                return []\n",
    "        else:\n",
    "            l = []\n",
    "            nums.sort()\n",
    "            if(nums[0]>0 or nums[len(nums)-1]<0):\n",
    "                return []\n",
    "            positif = list(filter(lambda x: x>=0,nums))\n",
    "            if(positif.count(0)>=3):\n",
    "                l.append([0,0,0])\n",
    "            positif1 = [-i for i in nums[:nums.index(positif[0])]]     \n",
    "            if(len(positif1)!=1):\n",
    "                for i in range(len(positif1)):\n",
    "                    for j in range(i+1,len(positif1)):\n",
    "                        x = positif1[i]\n",
    "                        y = positif1[j]\n",
    "                        total = sum([x,y])\n",
    "                        if(total in positif):\n",
    "                            l.append([-x,-y,total])\n",
    "            if(len(positif)!=1):\n",
    "                for i in range(len(positif)):\n",
    "                    for j in range(i+1,len(positif)):\n",
    "                        x = positif[i]\n",
    "                        y = positif[j]\n",
    "                        total = sum([x,y])\n",
    "                        if(total in positif1):\n",
    "                            l.append([-total,x,y])                            \n",
    "            l1 = l.copy()\n",
    "            for i in range(len(l1)):\n",
    "                tmp = l1[i]\n",
    "                while(l.count(tmp)>1):\n",
    "                    l.remove(tmp)\n",
    "            return l\n",
    "threeSum1([-1,0,1,2,-1,-4])"
   ]
  },
  {
   "cell_type": "code",
   "execution_count": 68,
   "metadata": {
    "scrolled": true
   },
   "outputs": [
    {
     "data": {
      "text/plain": [
       "[[-15, 1, 14],\n",
       " [-15, 2, 13],\n",
       " [-15, 3, 12],\n",
       " [-15, 4, 11],\n",
       " [-15, 5, 10],\n",
       " [-15, 6, 9],\n",
       " [-15, 7, 8],\n",
       " [-14, 0, 14],\n",
       " [-14, 1, 13],\n",
       " [-14, 2, 12],\n",
       " [-14, 3, 11],\n",
       " [-14, 4, 10],\n",
       " [-14, 5, 9],\n",
       " [-14, 6, 8],\n",
       " [-14, 7, 7],\n",
       " [-13, -1, 14],\n",
       " [-13, 0, 13],\n",
       " [-13, 1, 12],\n",
       " [-13, 2, 11],\n",
       " [-13, 3, 10],\n",
       " [-13, 4, 9],\n",
       " [-13, 5, 8],\n",
       " [-13, 6, 7],\n",
       " [-12, -2, 14],\n",
       " [-12, -1, 13],\n",
       " [-12, 0, 12],\n",
       " [-12, 1, 11],\n",
       " [-12, 2, 10],\n",
       " [-12, 3, 9],\n",
       " [-12, 4, 8],\n",
       " [-12, 5, 7],\n",
       " [-12, 6, 6],\n",
       " [-11, -3, 14],\n",
       " [-11, -2, 13],\n",
       " [-11, -1, 12],\n",
       " [-11, 0, 11],\n",
       " [-11, 1, 10],\n",
       " [-11, 2, 9],\n",
       " [-11, 3, 8],\n",
       " [-11, 4, 7],\n",
       " [-11, 5, 6],\n",
       " [-10, -4, 14],\n",
       " [-10, -3, 13],\n",
       " [-10, -2, 12],\n",
       " [-10, -1, 11],\n",
       " [-10, 0, 10],\n",
       " [-10, 1, 9],\n",
       " [-10, 2, 8],\n",
       " [-10, 3, 7],\n",
       " [-10, 4, 6],\n",
       " [-10, 5, 5],\n",
       " [-9, -5, 14],\n",
       " [-9, -4, 13],\n",
       " [-9, -3, 12],\n",
       " [-9, -2, 11],\n",
       " [-9, -1, 10],\n",
       " [-9, 0, 9],\n",
       " [-9, 1, 8],\n",
       " [-9, 2, 7],\n",
       " [-9, 3, 6],\n",
       " [-9, 4, 5],\n",
       " [-8, -6, 14],\n",
       " [-8, -5, 13],\n",
       " [-8, -4, 12],\n",
       " [-8, -3, 11],\n",
       " [-8, -2, 10],\n",
       " [-8, -1, 9],\n",
       " [-8, 0, 8],\n",
       " [-8, 1, 7],\n",
       " [-8, 2, 6],\n",
       " [-8, 3, 5],\n",
       " [-8, 4, 4],\n",
       " [-7, -7, 14],\n",
       " [-7, -6, 13],\n",
       " [-7, -5, 12],\n",
       " [-7, -4, 11],\n",
       " [-7, -3, 10],\n",
       " [-7, -2, 9],\n",
       " [-7, -1, 8],\n",
       " [-7, 0, 7],\n",
       " [-7, 1, 6],\n",
       " [-7, 2, 5],\n",
       " [-7, 3, 4],\n",
       " [-6, -6, 12],\n",
       " [-6, -5, 11],\n",
       " [-6, -4, 10],\n",
       " [-6, -3, 9],\n",
       " [-6, -2, 8],\n",
       " [-6, -1, 7],\n",
       " [-6, 0, 6],\n",
       " [-6, 1, 5],\n",
       " [-6, 2, 4],\n",
       " [-6, 3, 3],\n",
       " [-5, -5, 10],\n",
       " [-5, -4, 9],\n",
       " [-5, -3, 8],\n",
       " [-5, -2, 7],\n",
       " [-5, -1, 6],\n",
       " [-5, 0, 5],\n",
       " [-5, 1, 4],\n",
       " [-5, 2, 3],\n",
       " [-4, -4, 8],\n",
       " [-4, -3, 7],\n",
       " [-4, -2, 6],\n",
       " [-4, -1, 5],\n",
       " [-4, 0, 4],\n",
       " [-4, 1, 3],\n",
       " [-4, 2, 2],\n",
       " [-3, -3, 6],\n",
       " [-3, -2, 5],\n",
       " [-3, -1, 4],\n",
       " [-3, 0, 3],\n",
       " [-3, 1, 2],\n",
       " [-2, -2, 4],\n",
       " [-2, -1, 3],\n",
       " [-2, 0, 2],\n",
       " [-2, 1, 1],\n",
       " [-1, -1, 2],\n",
       " [-1, 0, 1],\n",
       " [0, 0, 0]]"
      ]
     },
     "execution_count": 68,
     "metadata": {},
     "output_type": "execute_result"
    }
   ],
   "source": [
    "threeSum([12,5,-12,4,-11,11,2,7,2,-5,-14,-3,-3,3,2,-10,9,-15,2,14,-3,-15,-3,-14,-1,-7,11,-4,-11,12,-15,-14,2,10,-2,-1,6,7,13,-15,-13,6,-10,-9,-14,7,-12,3,-1,5,2,11,6,14,12,-10,14,0,-7,11,-10,-7,4,-1,-12,-13,13,1,9,3,1,3,-5,6,9,-4,-2,5,14,12,-5,-6,1,8,-15,-10,5,-15,-2,5,3,3,13,-8,-13,8,-5,8,-6,11,-12,3,0,-2,-6,-14,2,0,6,1,-11,9,2,-3,-6,3,3,-15,-5,-14,5,13,-4,-4,-10,-10,11])"
   ]
  },
  {
   "cell_type": "markdown",
   "metadata": {},
   "source": [
    "Java    \n",
    "    \n",
    "    public static List<List<Integer>> threeSum(int[] nums) {\n",
    "        Set<List<Integer>>map = new HashSet<>();\n",
    "        List<List<Integer>>lT = new ArrayList<>();\n",
    "        List<Integer>l1;\n",
    "        \n",
    "        for(int i = 0;i < nums.length-2;i++){\n",
    "            for(int j = i+1;j < nums.length-1;j++){\n",
    "                for(int k = j+1;k < nums.length;k++){\n",
    "                    if((nums[i]+nums[j]+nums[k])==0){\n",
    "                        l1 = new ArrayList<>();\n",
    "                        l1.add(nums[i]);l1.add(nums[j]);l1.add(nums[k]);\n",
    "                        Collections.sort(l1);\n",
    "                        map.add(l1);\n",
    "                    }\n",
    "                }\n",
    "            }\n",
    "        }\n",
    "        Iterator<List<Integer>>it = map.iterator();\n",
    "        while (it.hasNext()) {  \n",
    "            lT.add(it.next());\n",
    "        }\n",
    "        return lT;\n",
    "    }"
   ]
  },
  {
   "cell_type": "code",
   "execution_count": 88,
   "metadata": {},
   "outputs": [
    {
     "data": {
      "text/plain": [
       "[[0, 0, 0], [0, 0, 0], [0, 0, 0], [0, 0, 0]]"
      ]
     },
     "execution_count": 88,
     "metadata": {},
     "output_type": "execute_result"
    }
   ],
   "source": [
    "partition3([0,0,0,0])"
   ]
  },
  {
   "cell_type": "code",
   "execution_count": 124,
   "metadata": {
    "scrolled": true
   },
   "outputs": [
    {
     "name": "stdout",
     "output_type": "stream",
     "text": [
      "[-2]\n",
      "[1, 1]\n",
      "[2]\n",
      "[-1, -1]\n"
     ]
    },
    {
     "data": {
      "text/plain": [
       "[[-2, 1, 1]]"
      ]
     },
     "execution_count": 124,
     "metadata": {},
     "output_type": "execute_result"
    }
   ],
   "source": [
    "    def threeSum(nums):\n",
    "        L = []\n",
    "        taille = len(nums)\n",
    "        if(taille<3):\n",
    "            return L\n",
    "        if nums.count(0)>=3:\n",
    "            L.append([0,0,0])\n",
    "        nums.sort()\n",
    "        if(nums[0]>=0 or nums[-1]<=0):\n",
    "            return L\n",
    "        index = 0\n",
    "        for i in range(taille-1):\n",
    "            if(nums[i] <= 0 and nums[i+1] >= 0):\n",
    "                index = i\n",
    "        l1 = nums[:index+1]\n",
    "        l2 = nums[index+1:]\n",
    "        taille1 = len(l1)\n",
    "        taille2 = len(l2)\n",
    "        for i in range(taille1-1):\n",
    "            for j in range(i+1,taille1):\n",
    "                tmp = l1[i]+l1[j]\n",
    "                if(-tmp in l2 and [l1[i],l1[j],-tmp] not in L):\n",
    "                    L.append([l1[i],l1[j],-tmp])\n",
    "        for i in range(taille2-1):\n",
    "            for j in range(i+1,taille2):\n",
    "                tmp = l2[i]+l2[j]\n",
    "                if(-tmp in l1 and [-tmp,l2[i],l2[j]] not in L):\n",
    "                    L.append([-tmp,l2[i],l2[j]])\n",
    "        return L\n",
    "threeSum([1,1,-2])"
   ]
  },
  {
   "cell_type": "code",
   "execution_count": 154,
   "metadata": {},
   "outputs": [
    {
     "data": {
      "text/plain": [
       "[[-1, -1, 2], [-1, 0, 1]]"
      ]
     },
     "execution_count": 154,
     "metadata": {},
     "output_type": "execute_result"
    }
   ],
   "source": [
    "    def threeSum1(nums):\n",
    "        import itertools\n",
    "        o = itertools.permutations(nums,3)\n",
    "        L = set([x for x in o])\n",
    "        L = list(filter(lambda x:sum(x)^0==0,L))\n",
    "        L = [[i for i in x] for x in L]\n",
    "        L = [sorted(l) for l in L]\n",
    "        l = L.copy()\n",
    "        for i in range(len(l)):\n",
    "            if(L.count(l[i])>1):\n",
    "                L.remove(l[i])\n",
    "        return L\n",
    "threeSum1([-1,0,1,2,-1,-4])"
   ]
  },
  {
   "cell_type": "code",
   "execution_count": null,
   "metadata": {},
   "outputs": [],
   "source": [
    "    def Sum3(nums):\n",
    "        nums.sort()\n",
    "        taille = len(nums)\n",
    "        L = []\n",
    "        for i in range(taille-2):\n",
    "            j = i+1\n",
    "            k = taille-1\n",
    "            while(j < k):\n",
    "                tmp = [nums[i],nums[j],nums[k]]\n",
    "                somme = nums[i]+nums[j]+nums[k]\n",
    "                if(somme^0==0):\n",
    "                    if(tmp not in L):\n",
    "                        L.append(tmp)\n",
    "                    j+=1\n",
    "                elif(somme > 0):\n",
    "                    k-=1\n",
    "                else:\n",
    "                    j+=1\n",
    "                if(j>=k):\n",
    "                    break\n",
    "        return L"
   ]
  },
  {
   "cell_type": "markdown",
   "metadata": {},
   "source": [
    "### 二分法"
   ]
  },
  {
   "cell_type": "code",
   "execution_count": 176,
   "metadata": {
    "scrolled": true
   },
   "outputs": [
    {
     "name": "stdout",
     "output_type": "stream",
     "text": [
      "positif =  [1, 4, 0, 4, 0, 3, 1, 0]\n",
      "négatif =  [-4, -2, -5, -4, -4, -2, -2, -5]\n",
      "l1 =  [[1, 4], [1, 0], [1, 4], [1, 0], [1, 3], [1, 1], [1, 0], [4, 0], [4, 4], [4, 0], [4, 3], [4, 1], [4, 0], [0, 4], [0, 0], [0, 3], [0, 1], [0, 0], [4, 0], [4, 3], [4, 1], [4, 0], [0, 3], [0, 1], [0, 0], [3, 1], [3, 0], [1, 0]]\n",
      "l2 =  [[-4, -2], [-4, -5], [-4, -4], [-4, -4], [-4, -2], [-4, -2], [-4, -5], [-2, -5], [-2, -4], [-2, -4], [-2, -2], [-2, -2], [-2, -5], [-5, -4], [-5, -4], [-5, -2], [-5, -2], [-5, -5], [-4, -4], [-4, -2], [-4, -2], [-4, -5], [-4, -2], [-4, -2], [-4, -5], [-2, -2], [-2, -5], [-2, -5]]\n"
     ]
    },
    {
     "data": {
      "text/plain": [
       "[[-2, -2, 4], [-4, 1, 3], [-4, 0, 4], [-2, 1, 1], [-5, 1, 4]]"
      ]
     },
     "execution_count": 176,
     "metadata": {},
     "output_type": "execute_result"
    }
   ],
   "source": [
    "def threeSum2(nums):\n",
    "    taille = len(nums)\n",
    "    if taille<3:\n",
    "        return []\n",
    "    elif taille==3:\n",
    "        if(sum(nums)==0):\n",
    "            return [nums]\n",
    "        else:\n",
    "            return []\n",
    "    else:\n",
    "        if(set(nums)=={0}):\n",
    "            return [[0,0,0]]\n",
    "        L = []\n",
    "        #nums.sort()\n",
    "        positif = list(filter(lambda x:x>=0,nums))\n",
    "        négatif = list(filter(lambda x:x<0,nums))\n",
    "        l1 = [[positif[i],positif[j]] for i in range(len(positif)) for j in range(i+1,len(positif))]\n",
    "        l2 = [[négatif[i],négatif[j]] for i in range(len(négatif)) for j in range(i+1,len(négatif))]\n",
    "        print(\"positif = \",positif)\n",
    "        print(\"négatif = \",négatif)\n",
    "        print(\"l1 = \",l1)\n",
    "        print(\"l2 = \",l2)\n",
    "        for x in positif:\n",
    "            for y in l2:\n",
    "                if(x + sum(y)==0):\n",
    "                    l = y + [x]\n",
    "                    l.sort()\n",
    "                    if(l not in L):\n",
    "                        L.append(l)\n",
    "        for x in négatif:\n",
    "            for y in l1:\n",
    "                if(x + sum(y)==0):\n",
    "                    l = y + [x]\n",
    "                    l.sort()\n",
    "                    if(l not in L):\n",
    "                        L.append(l)\n",
    "        return L\n",
    "threeSum2([-4,-2,1,-5,-4,-4,4,-2,0,4,0,-2,3,1,-5,0])"
   ]
  },
  {
   "cell_type": "markdown",
   "metadata": {},
   "source": [
    "### 16. 最接近的三数之和\n",
    "\n",
    "给定一个包括 n 个整数的数组 nums 和 一个目标值 target。找出 nums 中的三个整数，使得它们的和与 target 最接近。返回这三个数的和。假定每组输入只存在唯一答案。"
   ]
  },
  {
   "cell_type": "code",
   "execution_count": 53,
   "metadata": {},
   "outputs": [],
   "source": [
    "def threeSumClosest(nums, target):\n",
    "    nums.sort()\n",
    "    petit = nums[0]+nums[1]+nums[2]\n",
    "    grand = nums[-3]+nums[-2]+nums[-1]\n",
    "    if(target < petit):\n",
    "        return [[nums[0],nums[1],nums[2]]]\n",
    "    if(target > grand):\n",
    "        return [[nums[-3],nums[-2],nums[-1]]]\n",
    "    taille = len(nums)\n",
    "    tmp = petit\n",
    "    L = []\n",
    "    for i in range(taille-1):\n",
    "        j = i+1\n",
    "        k = taille - 1\n",
    "        while(j<k): \n",
    "            tmp = nums[i]+nums[j]+nums[k]\n",
    "            L.append((abs(target-tmp),[nums[i],nums[j],nums[k]]))\n",
    "            if(tmp < target):\n",
    "                j+=1        \n",
    "            if(tmp >= target):\n",
    "                k-=1\n",
    "    L.sort()\n",
    "    return L[0][1]"
   ]
  },
  {
   "cell_type": "code",
   "execution_count": 54,
   "metadata": {
    "scrolled": true
   },
   "outputs": [
    {
     "data": {
      "text/plain": [
       "[-1, 1, 2]"
      ]
     },
     "execution_count": 54,
     "metadata": {},
     "output_type": "execute_result"
    }
   ],
   "source": [
    "threeSumClosest([-1,1,-4,2],1)"
   ]
  },
  {
   "cell_type": "code",
   "execution_count": 60,
   "metadata": {},
   "outputs": [
    {
     "data": {
      "text/plain": [
       "[-4, 5, 6]"
      ]
     },
     "execution_count": 60,
     "metadata": {},
     "output_type": "execute_result"
    }
   ],
   "source": [
    "threeSumClosest([-1,1,-4,2,5,6],7)"
   ]
  },
  {
   "cell_type": "markdown",
   "metadata": {},
   "source": [
    "### 17 电话号码"
   ]
  },
  {
   "cell_type": "code",
   "execution_count": 28,
   "metadata": {},
   "outputs": [],
   "source": [
    "def letterCombinations(digits):\n",
    "    if not len(digits):# C'est vide ou pas\n",
    "        return []\n",
    "    table={'2':'abc','3':'def','4':'ghi','5':'jkl','6':'mno','7':'pqrs','8':'tuv','9':'wxyz'}\n",
    "    result=[]\n",
    "    for x in digits:\n",
    "        if not len(result):# Result est vide ou pas?\n",
    "            for y in table[x]:\n",
    "                result.append(y)\n",
    "        else:\n",
    "            result_new=[]\n",
    "            for tmp in result:\n",
    "                for y in table[x]:\n",
    "                    result_new.append(tmp+y)\n",
    "            result=result_new\n",
    "    return result"
   ]
  },
  {
   "cell_type": "code",
   "execution_count": 29,
   "metadata": {
    "scrolled": true
   },
   "outputs": [
    {
     "name": "stdout",
     "output_type": "stream",
     "text": [
      "result ['a']\n",
      "result ['a', 'b']\n",
      "result ['a', 'b', 'c']\n",
      "a 3 d\n",
      "result_new ['ad']\n",
      "a 3 e\n",
      "result_new ['ad', 'ae']\n",
      "a 3 f\n",
      "result_new ['ad', 'ae', 'af']\n",
      "b 3 d\n",
      "result_new ['ad', 'ae', 'af', 'bd']\n",
      "b 3 e\n",
      "result_new ['ad', 'ae', 'af', 'bd', 'be']\n",
      "b 3 f\n",
      "result_new ['ad', 'ae', 'af', 'bd', 'be', 'bf']\n",
      "c 3 d\n",
      "result_new ['ad', 'ae', 'af', 'bd', 'be', 'bf', 'cd']\n",
      "c 3 e\n",
      "result_new ['ad', 'ae', 'af', 'bd', 'be', 'bf', 'cd', 'ce']\n",
      "c 3 f\n",
      "result_new ['ad', 'ae', 'af', 'bd', 'be', 'bf', 'cd', 'ce', 'cf']\n",
      "ad 7 p\n",
      "result_new ['adp']\n",
      "ad 7 q\n",
      "result_new ['adp', 'adq']\n",
      "ad 7 r\n",
      "result_new ['adp', 'adq', 'adr']\n",
      "ad 7 s\n",
      "result_new ['adp', 'adq', 'adr', 'ads']\n",
      "ae 7 p\n",
      "result_new ['adp', 'adq', 'adr', 'ads', 'aep']\n",
      "ae 7 q\n",
      "result_new ['adp', 'adq', 'adr', 'ads', 'aep', 'aeq']\n",
      "ae 7 r\n",
      "result_new ['adp', 'adq', 'adr', 'ads', 'aep', 'aeq', 'aer']\n",
      "ae 7 s\n",
      "result_new ['adp', 'adq', 'adr', 'ads', 'aep', 'aeq', 'aer', 'aes']\n",
      "af 7 p\n",
      "result_new ['adp', 'adq', 'adr', 'ads', 'aep', 'aeq', 'aer', 'aes', 'afp']\n",
      "af 7 q\n",
      "result_new ['adp', 'adq', 'adr', 'ads', 'aep', 'aeq', 'aer', 'aes', 'afp', 'afq']\n",
      "af 7 r\n",
      "result_new ['adp', 'adq', 'adr', 'ads', 'aep', 'aeq', 'aer', 'aes', 'afp', 'afq', 'afr']\n",
      "af 7 s\n",
      "result_new ['adp', 'adq', 'adr', 'ads', 'aep', 'aeq', 'aer', 'aes', 'afp', 'afq', 'afr', 'afs']\n",
      "bd 7 p\n",
      "result_new ['adp', 'adq', 'adr', 'ads', 'aep', 'aeq', 'aer', 'aes', 'afp', 'afq', 'afr', 'afs', 'bdp']\n",
      "bd 7 q\n",
      "result_new ['adp', 'adq', 'adr', 'ads', 'aep', 'aeq', 'aer', 'aes', 'afp', 'afq', 'afr', 'afs', 'bdp', 'bdq']\n",
      "bd 7 r\n",
      "result_new ['adp', 'adq', 'adr', 'ads', 'aep', 'aeq', 'aer', 'aes', 'afp', 'afq', 'afr', 'afs', 'bdp', 'bdq', 'bdr']\n",
      "bd 7 s\n",
      "result_new ['adp', 'adq', 'adr', 'ads', 'aep', 'aeq', 'aer', 'aes', 'afp', 'afq', 'afr', 'afs', 'bdp', 'bdq', 'bdr', 'bds']\n",
      "be 7 p\n",
      "result_new ['adp', 'adq', 'adr', 'ads', 'aep', 'aeq', 'aer', 'aes', 'afp', 'afq', 'afr', 'afs', 'bdp', 'bdq', 'bdr', 'bds', 'bep']\n",
      "be 7 q\n",
      "result_new ['adp', 'adq', 'adr', 'ads', 'aep', 'aeq', 'aer', 'aes', 'afp', 'afq', 'afr', 'afs', 'bdp', 'bdq', 'bdr', 'bds', 'bep', 'beq']\n",
      "be 7 r\n",
      "result_new ['adp', 'adq', 'adr', 'ads', 'aep', 'aeq', 'aer', 'aes', 'afp', 'afq', 'afr', 'afs', 'bdp', 'bdq', 'bdr', 'bds', 'bep', 'beq', 'ber']\n",
      "be 7 s\n",
      "result_new ['adp', 'adq', 'adr', 'ads', 'aep', 'aeq', 'aer', 'aes', 'afp', 'afq', 'afr', 'afs', 'bdp', 'bdq', 'bdr', 'bds', 'bep', 'beq', 'ber', 'bes']\n",
      "bf 7 p\n",
      "result_new ['adp', 'adq', 'adr', 'ads', 'aep', 'aeq', 'aer', 'aes', 'afp', 'afq', 'afr', 'afs', 'bdp', 'bdq', 'bdr', 'bds', 'bep', 'beq', 'ber', 'bes', 'bfp']\n",
      "bf 7 q\n",
      "result_new ['adp', 'adq', 'adr', 'ads', 'aep', 'aeq', 'aer', 'aes', 'afp', 'afq', 'afr', 'afs', 'bdp', 'bdq', 'bdr', 'bds', 'bep', 'beq', 'ber', 'bes', 'bfp', 'bfq']\n",
      "bf 7 r\n",
      "result_new ['adp', 'adq', 'adr', 'ads', 'aep', 'aeq', 'aer', 'aes', 'afp', 'afq', 'afr', 'afs', 'bdp', 'bdq', 'bdr', 'bds', 'bep', 'beq', 'ber', 'bes', 'bfp', 'bfq', 'bfr']\n",
      "bf 7 s\n",
      "result_new ['adp', 'adq', 'adr', 'ads', 'aep', 'aeq', 'aer', 'aes', 'afp', 'afq', 'afr', 'afs', 'bdp', 'bdq', 'bdr', 'bds', 'bep', 'beq', 'ber', 'bes', 'bfp', 'bfq', 'bfr', 'bfs']\n",
      "cd 7 p\n",
      "result_new ['adp', 'adq', 'adr', 'ads', 'aep', 'aeq', 'aer', 'aes', 'afp', 'afq', 'afr', 'afs', 'bdp', 'bdq', 'bdr', 'bds', 'bep', 'beq', 'ber', 'bes', 'bfp', 'bfq', 'bfr', 'bfs', 'cdp']\n",
      "cd 7 q\n",
      "result_new ['adp', 'adq', 'adr', 'ads', 'aep', 'aeq', 'aer', 'aes', 'afp', 'afq', 'afr', 'afs', 'bdp', 'bdq', 'bdr', 'bds', 'bep', 'beq', 'ber', 'bes', 'bfp', 'bfq', 'bfr', 'bfs', 'cdp', 'cdq']\n",
      "cd 7 r\n",
      "result_new ['adp', 'adq', 'adr', 'ads', 'aep', 'aeq', 'aer', 'aes', 'afp', 'afq', 'afr', 'afs', 'bdp', 'bdq', 'bdr', 'bds', 'bep', 'beq', 'ber', 'bes', 'bfp', 'bfq', 'bfr', 'bfs', 'cdp', 'cdq', 'cdr']\n",
      "cd 7 s\n",
      "result_new ['adp', 'adq', 'adr', 'ads', 'aep', 'aeq', 'aer', 'aes', 'afp', 'afq', 'afr', 'afs', 'bdp', 'bdq', 'bdr', 'bds', 'bep', 'beq', 'ber', 'bes', 'bfp', 'bfq', 'bfr', 'bfs', 'cdp', 'cdq', 'cdr', 'cds']\n",
      "ce 7 p\n",
      "result_new ['adp', 'adq', 'adr', 'ads', 'aep', 'aeq', 'aer', 'aes', 'afp', 'afq', 'afr', 'afs', 'bdp', 'bdq', 'bdr', 'bds', 'bep', 'beq', 'ber', 'bes', 'bfp', 'bfq', 'bfr', 'bfs', 'cdp', 'cdq', 'cdr', 'cds', 'cep']\n",
      "ce 7 q\n",
      "result_new ['adp', 'adq', 'adr', 'ads', 'aep', 'aeq', 'aer', 'aes', 'afp', 'afq', 'afr', 'afs', 'bdp', 'bdq', 'bdr', 'bds', 'bep', 'beq', 'ber', 'bes', 'bfp', 'bfq', 'bfr', 'bfs', 'cdp', 'cdq', 'cdr', 'cds', 'cep', 'ceq']\n",
      "ce 7 r\n",
      "result_new ['adp', 'adq', 'adr', 'ads', 'aep', 'aeq', 'aer', 'aes', 'afp', 'afq', 'afr', 'afs', 'bdp', 'bdq', 'bdr', 'bds', 'bep', 'beq', 'ber', 'bes', 'bfp', 'bfq', 'bfr', 'bfs', 'cdp', 'cdq', 'cdr', 'cds', 'cep', 'ceq', 'cer']\n",
      "ce 7 s\n",
      "result_new ['adp', 'adq', 'adr', 'ads', 'aep', 'aeq', 'aer', 'aes', 'afp', 'afq', 'afr', 'afs', 'bdp', 'bdq', 'bdr', 'bds', 'bep', 'beq', 'ber', 'bes', 'bfp', 'bfq', 'bfr', 'bfs', 'cdp', 'cdq', 'cdr', 'cds', 'cep', 'ceq', 'cer', 'ces']\n",
      "cf 7 p\n",
      "result_new ['adp', 'adq', 'adr', 'ads', 'aep', 'aeq', 'aer', 'aes', 'afp', 'afq', 'afr', 'afs', 'bdp', 'bdq', 'bdr', 'bds', 'bep', 'beq', 'ber', 'bes', 'bfp', 'bfq', 'bfr', 'bfs', 'cdp', 'cdq', 'cdr', 'cds', 'cep', 'ceq', 'cer', 'ces', 'cfp']\n",
      "cf 7 q\n",
      "result_new ['adp', 'adq', 'adr', 'ads', 'aep', 'aeq', 'aer', 'aes', 'afp', 'afq', 'afr', 'afs', 'bdp', 'bdq', 'bdr', 'bds', 'bep', 'beq', 'ber', 'bes', 'bfp', 'bfq', 'bfr', 'bfs', 'cdp', 'cdq', 'cdr', 'cds', 'cep', 'ceq', 'cer', 'ces', 'cfp', 'cfq']\n",
      "cf 7 r\n",
      "result_new ['adp', 'adq', 'adr', 'ads', 'aep', 'aeq', 'aer', 'aes', 'afp', 'afq', 'afr', 'afs', 'bdp', 'bdq', 'bdr', 'bds', 'bep', 'beq', 'ber', 'bes', 'bfp', 'bfq', 'bfr', 'bfs', 'cdp', 'cdq', 'cdr', 'cds', 'cep', 'ceq', 'cer', 'ces', 'cfp', 'cfq', 'cfr']\n",
      "cf 7 s\n",
      "result_new ['adp', 'adq', 'adr', 'ads', 'aep', 'aeq', 'aer', 'aes', 'afp', 'afq', 'afr', 'afs', 'bdp', 'bdq', 'bdr', 'bds', 'bep', 'beq', 'ber', 'bes', 'bfp', 'bfq', 'bfr', 'bfs', 'cdp', 'cdq', 'cdr', 'cds', 'cep', 'ceq', 'cer', 'ces', 'cfp', 'cfq', 'cfr', 'cfs']\n"
     ]
    },
    {
     "data": {
      "text/plain": [
       "['adp',\n",
       " 'adq',\n",
       " 'adr',\n",
       " 'ads',\n",
       " 'aep',\n",
       " 'aeq',\n",
       " 'aer',\n",
       " 'aes',\n",
       " 'afp',\n",
       " 'afq',\n",
       " 'afr',\n",
       " 'afs',\n",
       " 'bdp',\n",
       " 'bdq',\n",
       " 'bdr',\n",
       " 'bds',\n",
       " 'bep',\n",
       " 'beq',\n",
       " 'ber',\n",
       " 'bes',\n",
       " 'bfp',\n",
       " 'bfq',\n",
       " 'bfr',\n",
       " 'bfs',\n",
       " 'cdp',\n",
       " 'cdq',\n",
       " 'cdr',\n",
       " 'cds',\n",
       " 'cep',\n",
       " 'ceq',\n",
       " 'cer',\n",
       " 'ces',\n",
       " 'cfp',\n",
       " 'cfq',\n",
       " 'cfr',\n",
       " 'cfs']"
      ]
     },
     "execution_count": 29,
     "metadata": {},
     "output_type": "execute_result"
    }
   ],
   "source": [
    "letterCombinations(\"237\")"
   ]
  },
  {
   "cell_type": "markdown",
   "metadata": {},
   "source": [
    "### 26. 删除排序数组中的重复项\n",
    "\n",
    "给定一个排序数组，你需要在原地删除重复出现的元素，使得每个元素只出现一次，返回移除后数组的新长度。\n",
    "\n",
    "不要使用额外的数组空间，你必须在原地修改输入数组并在使用 O(1) 额外空间的条件下完成。"
   ]
  },
  {
   "cell_type": "code",
   "execution_count": 49,
   "metadata": {
    "scrolled": true
   },
   "outputs": [
    {
     "name": "stdout",
     "output_type": "stream",
     "text": [
      "[0, 1, 1, 1, 2, 2, 3, 3, 4]\n",
      "[0, 1, 1, 2, 2, 3, 3, 4]\n",
      "[0, 1, 2, 2, 3, 3, 4]\n",
      "[0, 1, 2, 3, 3, 4]\n",
      "[0, 1, 2, 3, 4]\n"
     ]
    },
    {
     "data": {
      "text/plain": [
       "5"
      ]
     },
     "execution_count": 49,
     "metadata": {},
     "output_type": "execute_result"
    }
   ],
   "source": [
    "def removeDuplicates(nums):\n",
    "    for x in nums:\n",
    "        while not (nums.count(x)^1==0):\n",
    "            nums.remove(x)\n",
    "            print(nums)\n",
    "    return len(nums)\n",
    "removeDuplicates([0,0,1,1,1,2,2,3,3,4])"
   ]
  },
  {
   "cell_type": "code",
   "execution_count": 47,
   "metadata": {
    "scrolled": true
   },
   "outputs": [
    {
     "name": "stderr",
     "output_type": "stream",
     "text": [
      "IOPub data rate exceeded.\n",
      "The notebook server will temporarily stop sending output\n",
      "to the client in order to avoid crashing it.\n",
      "To change this limit, set the config variable\n",
      "`--NotebookApp.iopub_data_rate_limit`.\n",
      "\n",
      "Current values:\n",
      "NotebookApp.iopub_data_rate_limit=1000000.0 (bytes/sec)\n",
      "NotebookApp.rate_limit_window=3.0 (secs)\n",
      "\n"
     ]
    }
   ],
   "source": [
    "import time\n",
    "t1 = time.time()\n",
    "l = removeDuplicates([-999,-999,-998,-998,-997,-997,-996,-996,-995,-995,-994,-994,-993,-993,-992,-992,-991,-991,-990,-990,-989,-989,-988,-988,-987,-987,-986,-986,-985,-985,-984,-984,-983,-983,-982,-982,-981,-981,-980,-980,-979,-979,-978,-978,-977,-977,-976,-976,-975,-975,-974,-974,-973,-973,-972,-972,-971,-971,-970,-970,-969,-969,-968,-968,-967,-967,-966,-966,-965,-965,-964,-964,-963,-963,-962,-962,-961,-961,-960,-960,-959,-959,-958,-958,-957,-957,-956,-956,-955,-955,-954,-954,-953,-953,-952,-952,-951,-951,-950,-950,-949,-949,-948,-948,-947,-947,-946,-946,-945,-945,-944,-944,-943,-943,-942,-942,-941,-941,-940,-940,-939,-939,-938,-938,-937,-937,-936,-936,-935,-935,-934,-934,-933,-933,-932,-932,-931,-931,-930,-930,-929,-929,-928,-928,-927,-927,-926,-926,-925,-925,-924,-924,-923,-923,-922,-922,-921,-921,-920,-920,-919,-919,-918,-918,-917,-917,-916,-916,-915,-915,-914,-914,-913,-913,-912,-912,-911,-911,-910,-910,-909,-909,-908,-908,-907,-907,-906,-906,-905,-905,-904,-904,-903,-903,-902,-902,-901,-901,-900,-900,-899,-899,-898,-898,-897,-897,-896,-896,-895,-895,-894,-894,-893,-893,-892,-892,-891,-891,-890,-890,-889,-889,-888,-888,-887,-887,-886,-886,-885,-885,-884,-884,-883,-883,-882,-882,-881,-881,-880,-880,-879,-879,-878,-878,-877,-877,-876,-876,-875,-875,-874,-874,-873,-873,-872,-872,-871,-871,-870,-870,-869,-869,-868,-868,-867,-867,-866,-866,-865,-865,-864,-864,-863,-863,-862,-862,-861,-861,-860,-860,-859,-859,-858,-858,-857,-857,-856,-856,-855,-855,-854,-854,-853,-853,-852,-852,-851,-851,-850,-850,-849,-849,-848,-848,-847,-847,-846,-846,-845,-845,-844,-844,-843,-843,-842,-842,-841,-841,-840,-840,-839,-839,-838,-838,-837,-837,-836,-836,-835,-835,-834,-834,-833,-833,-832,-832,-831,-831,-830,-830,-829,-829,-828,-828,-827,-827,-826,-826,-825,-825,-824,-824,-823,-823,-822,-822,-821,-821,-820,-820,-819,-819,-818,-818,-817,-817,-816,-816,-815,-815,-814,-814,-813,-813,-812,-812,-811,-811,-810,-810,-809,-809,-808,-808,-807,-807,-806,-806,-805,-805,-804,-804,-803,-803,-802,-802,-801,-801,-800,-800,-799,-799,-798,-798,-797,-797,-796,-796,-795,-795,-794,-794,-793,-793,-792,-792,-791,-791,-790,-790,-789,-789,-788,-788,-787,-787,-786,-786,-785,-785,-784,-784,-783,-783,-782,-782,-781,-781,-780,-780,-779,-779,-778,-778,-777,-777,-776,-776,-775,-775,-774,-774,-773,-773,-772,-772,-771,-771,-770,-770,-769,-769,-768,-768,-767,-767,-766,-766,-765,-765,-764,-764,-763,-763,-762,-762,-761,-761,-760,-760,-759,-759,-758,-758,-757,-757,-756,-756,-755,-755,-754,-754,-753,-753,-752,-752,-751,-751,-750,-750,-749,-749,-748,-748,-747,-747,-746,-746,-745,-745,-744,-744,-743,-743,-742,-742,-741,-741,-740,-740,-739,-739,-738,-738,-737,-737,-736,-736,-735,-735,-734,-734,-733,-733,-732,-732,-731,-731,-730,-730,-729,-729,-728,-728,-727,-727,-726,-726,-725,-725,-724,-724,-723,-723,-722,-722,-721,-721,-720,-720,-719,-719,-718,-718,-717,-717,-716,-716,-715,-715,-714,-714,-713,-713,-712,-712,-711,-711,-710,-710,-709,-709,-708,-708,-707,-707,-706,-706,-705,-705,-704,-704,-703,-703,-702,-702,-701,-701,-700,-700,-699,-699,-698,-698,-697,-697,-696,-696,-695,-695,-694,-694,-693,-693,-692,-692,-691,-691,-690,-690,-689,-689,-688,-688,-687,-687,-686,-686,-685,-685,-684,-684,-683,-683,-682,-682,-681,-681,-680,-680,-679,-679,-678,-678,-677,-677,-676,-676,-675,-675,-674,-674,-673,-673,-672,-672,-671,-671,-670,-670,-669,-669,-668,-668,-667,-667,-666,-666,-665,-665,-664,-664,-663,-663,-662,-662,-661,-661,-660,-660,-659,-659,-658,-658,-657,-657,-656,-656,-655,-655,-654,-654,-653,-653,-652,-652,-651,-651,-650,-650,-649,-649,-648,-648,-647,-647,-646,-646,-645,-645,-644,-644,-643,-643,-642,-642,-641,-641,-640,-640,-639,-639,-638,-638,-637,-637,-636,-636,-635,-635,-634,-634,-633,-633,-632,-632,-631,-631,-630,-630,-629,-629,-628,-628,-627,-627,-626,-626,-625,-625,-624,-624,-623,-623,-622,-622,-621,-621,-620,-620,-619,-619,-618,-618,-617,-617,-616,-616,-615,-615,-614,-614,-613,-613,-612,-612,-611,-611,-610,-610,-609,-609,-608,-608,-607,-607,-606,-606,-605,-605,-604,-604,-603,-603,-602,-602,-601,-601,-600,-600,-599,-599,-598,-598,-597,-597,-596,-596,-595,-595,-594,-594,-593,-593,-592,-592,-591,-591,-590,-590,-589,-589,-588,-588,-587,-587,-586,-586,-585,-585,-584,-584,-583,-583,-582,-582,-581,-581,-580,-580,-579,-579,-578,-578,-577,-577,-576,-576,-575,-575,-574,-574,-573,-573,-572,-572,-571,-571,-570,-570,-569,-569,-568,-568,-567,-567,-566,-566,-565,-565,-564,-564,-563,-563,-562,-562,-561,-561,-560,-560,-559,-559,-558,-558,-557,-557,-556,-556,-555,-555,-554,-554,-553,-553,-552,-552,-551,-551,-550,-550,-549,-549,-548,-548,-547,-547,-546,-546,-545,-545,-544,-544,-543,-543,-542,-542,-541,-541,-540,-540,-539,-539,-538,-538,-537,-537,-536,-536,-535,-535,-534,-534,-533,-533,-532,-532,-531,-531,-530,-530,-529,-529,-528,-528,-527,-527,-526,-526,-525,-525,-524,-524,-523,-523,-522,-522,-521,-521,-520,-520,-519,-519,-518,-518,-517,-517,-516,-516,-515,-515,-514,-514,-513,-513,-512,-512,-511,-511,-510,-510,-509,-509,-508,-508,-507,-507,-506,-506,-505,-505,-504,-504,-503,-503,-502,-502,-501,-501,-500,-500,-499,-499,-498,-498,-497,-497,-496,-496,-495,-495,-494,-494,-493,-493,-492,-492,-491,-491,-490,-490,-489,-489,-488,-488,-487,-487,-486,-486,-485,-485,-484,-484,-483,-483,-482,-482,-481,-481,-480,-480,-479,-479,-478,-478,-477,-477,-476,-476,-475,-475,-474,-474,-473,-473,-472,-472,-471,-471,-470,-470,-469,-469,-468,-468,-467,-467,-466,-466,-465,-465,-464,-464,-463,-463,-462,-462,-461,-461,-460,-460,-459,-459,-458,-458,-457,-457,-456,-456,-455,-455,-454,-454,-453,-453,-452,-452,-451,-451,-450,-450,-449,-449,-448,-448,-447,-447,-446,-446,-445,-445,-444,-444,-443,-443,-442,-442,-441,-441,-440,-440,-439,-439,-438,-438,-437,-437,-436,-436,-435,-435,-434,-434,-433,-433,-432,-432,-431,-431,-430,-430,-429,-429,-428,-428,-427,-427,-426,-426,-425,-425,-424,-424,-423,-423,-422,-422,-421,-421,-420,-420,-419,-419,-418,-418,-417,-417,-416,-416,-415,-415,-414,-414,-413,-413,-412,-412,-411,-411,-410,-410,-409,-409,-408,-408,-407,-407,-406,-406,-405,-405,-404,-404,-403,-403,-402,-402,-401,-401,-400,-400,-399,-399,-398,-398,-397,-397,-396,-396,-395,-395,-394,-394,-393,-393,-392,-392,-391,-391,-390,-390,-389,-389,-388,-388,-387,-387,-386,-386,-385,-385,-384,-384,-383,-383,-382,-382,-381,-381,-380,-380,-379,-379,-378,-378,-377,-377,-376,-376,-375,-375,-374,-374,-373,-373,-372,-372,-371,-371,-370,-370,-369,-369,-368,-368,-367,-367,-366,-366,-365,-365,-364,-364,-363,-363,-362,-362,-361,-361,-360,-360,-359,-359,-358,-358,-357,-357,-356,-356,-355,-355,-354,-354,-353,-353,-352,-352,-351,-351,-350,-350,-349,-349,-348,-348,-347,-347,-346,-346,-345,-345,-344,-344,-343,-343,-342,-342,-341,-341,-340,-340,-339,-339,-338,-338,-337,-337,-336,-336,-335,-335,-334,-334,-333,-333,-332,-332,-331,-331,-330,-330,-329,-329,-328,-328,-327,-327,-326,-326,-325,-325,-324,-324,-323,-323,-322,-322,-321,-321,-320,-320,-319,-319,-318,-318,-317,-317,-316,-316,-315,-315,-314,-314,-313,-313,-312,-312,-311,-311,-310,-310,-309,-309,-308,-308,-307,-307,-306,-306,-305,-305,-304,-304,-303,-303,-302,-302,-301,-301,-300,-300,-299,-299,-298,-298,-297,-297,-296,-296,-295,-295,-294,-294,-293,-293,-292,-292,-291,-291,-290,-290,-289,-289,-288,-288,-287,-287,-286,-286,-285,-285,-284,-284,-283,-283,-282,-282,-281,-281,-280,-280,-279,-279,-278,-278,-277,-277,-276,-276,-275,-275,-274,-274,-273,-273,-272,-272,-271,-271,-270,-270,-269,-269,-268,-268,-267,-267,-266,-266,-265,-265,-264,-264,-263,-263,-262,-262,-261,-261,-260,-260,-259,-259,-258,-258,-257,-257,-256,-256,-255,-255,-254,-254,-253,-253,-252,-252,-251,-251,-250,-250,-249,-249,-248,-248,-247,-247,-246,-246,-245,-245,-244,-244,-243,-243,-242,-242,-241,-241,-240,-240,-239,-239,-238,-238,-237,-237,-236,-236,-235,-235,-234,-234,-233,-233,-232,-232,-231,-231,-230,-230,-229,-229,-228,-228,-227,-227,-226,-226,-225,-225,-224,-224,-223,-223,-222,-222,-221,-221,-220,-220,-219,-219,-218,-218,-217,-217,-216,-216,-215,-215,-214,-214,-213,-213,-212,-212,-211,-211,-210,-210,-209,-209,-208,-208,-207,-207,-206,-206,-205,-205,-204,-204,-203,-203,-202,-202,-201,-201,-200,-200,-199,-199,-198,-198,-197,-197,-196,-196,-195,-195,-194,-194,-193,-193,-192,-192,-191,-191,-190,-190,-189,-189,-188,-188,-187,-187,-186,-186,-185,-185,-184,-184,-183,-183,-182,-182,-181,-181,-180,-180,-179,-179,-178,-178,-177,-177,-176,-176,-175,-175,-174,-174,-173,-173,-172,-172,-171,-171,-170,-170,-169,-169,-168,-168,-167,-167,-166,-166,-165,-165,-164,-164,-163,-163,-162,-162,-161,-161,-160,-160,-159,-159,-158,-158,-157,-157,-156,-156,-155,-155,-154,-154,-153,-153,-152,-152,-151,-151,-150,-150,-149,-149,-148,-148,-147,-147,-146,-146,-145,-145,-144,-144,-143,-143,-142,-142,-141,-141,-140,-140,-139,-139,-138,-138,-137,-137,-136,-136,-135,-135,-134,-134,-133,-133,-132,-132,-131,-131,-130,-130,-129,-129,-128,-128,-127,-127,-126,-126,-125,-125,-124,-124,-123,-123,-122,-122,-121,-121,-120,-120,-119,-119,-118,-118,-117,-117,-116,-116,-115,-115,-114,-114,-113,-113,-112,-112,-111,-111,-110,-110,-109,-109,-108,-108,-107,-107,-106,-106,-105,-105,-104,-104,-103,-103,-102,-102,-101,-101,-100,-100,-99,-99,-98,-98,-97,-97,-96,-96,-95,-95,-94,-94,-93,-93,-92,-92,-91,-91,-90,-90,-89,-89,-88,-88,-87,-87,-86,-86,-85,-85,-84,-84,-83,-83,-82,-82,-81,-81,-80,-80,-79,-79,-78,-78,-77,-77,-76,-76,-75,-75,-74,-74,-73,-73,-72,-72,-71,-71,-70,-70,-69,-69,-68,-68,-67,-67,-66,-66,-65,-65,-64,-64,-63,-63,-62,-62,-61,-61,-60,-60,-59,-59,-58,-58,-57,-57,-56,-56,-55,-55,-54,-54,-53,-53,-52,-52,-51,-51,-50,-50,-49,-49,-48,-48,-47,-47,-46,-46,-45,-45,-44,-44,-43,-43,-42,-42,-41,-41,-40,-40,-39,-39,-38,-38,-37,-37,-36,-36,-35,-35,-34,-34,-33,-33,-32,-32,-31,-31,-30,-30,-29,-29,-28,-28,-27,-27,-26,-26,-25,-25,-24,-24,-23,-23,-22,-22,-21,-21,-20,-20,-19,-19,-18,-18,-17,-17,-16,-16,-15,-15,-14,-14,-13,-13,-12,-12,-11,-11,-10,-10,-9,-9,-8,-8,-7,-7,-6,-6,-5,-5,-4,-4,-3,-3,-2,-2,-1,-1,0,0,1,1,2,2,3,3,4,4,5,5,6,6,7,7,8,8,9,9,10,10,11,11,12,12,13,13,14,14,15,15,16,16,17,17,18,18,19,19,20,20,21,21,22,22,23,23,24,24,25,25,26,26,27,27,28,28,29,29,30,30,31,31,32,32,33,33,34,34,35,35,36,36,37,37,38,38,39,39,40,40,41,41,42,42,43,43,44,44,45,45,46,46,47,47,48,48,49,49,50,50,51,51,52,52,53,53,54,54,55,55,56,56,57,57,58,58,59,59,60,60,61,61,62,62,63,63,64,64,65,65,66,66,67,67,68,68,69,69,70,70,71,71,72,72,73,73,74,74,75,75,76,76,77,77,78,78,79,79,80,80,81,81,82,82,83,83,84,84,85,85,86,86,87,87,88,88,89,89,90,90,91,91,92,92,93,93,94,94,95,95,96,96,97,97,98,98,99,99,100,100,101,101,102,102,103,103,104,104,105,105,106,106,107,107,108,108,109,109,110,110,111,111,112,112,113,113,114,114,115,115,116,116,117,117,118,118,119,119,120,120,121,121,122,122,123,123,124,124,125,125,126,126,127,127,128,128,129,129,130,130,131,131,132,132,133,133,134,134,135,135,136,136,137,137,138,138,139,139,140,140,141,141,142,142,143,143,144,144,145,145,146,146,147,147,148,148,149,149,150,150,151,151,152,152,153,153,154,154,155,155,156,156,157,157,158,158,159,159,160,160,161,161,162,162,163,163,164,164,165,165,166,166,167,167,168,168,169,169,170,170,171,171,172,172,173,173,174,174,175,175,176,176,177,177,178,178,179,179,180,180,181,181,182,182,183,183,184,184,185,185,186,186,187,187,188,188,189,189,190,190,191,191,192,192,193,193,194,194,195,195,196,196,197,197,198,198,199,199,200,200,201,201,202,202,203,203,204,204,205,205,206,206,207,207,208,208,209,209,210,210,211,211,212,212,213,213,214,214,215,215,216,216,217,217,218,218,219,219,220,220,221,221,222,222,223,223,224,224,225,225,226,226,227,227,228,228,229,229,230,230,231,231,232,232,233,233,234,234,235,235,236,236,237,237,238,238,239,239,240,240,241,241,242,242,243,243,244,244,245,245,246,246,247,247,248,248,249,249,250,250,251,251,252,252,253,253,254,254,255,255,256,256,257,257,258,258,259,259,260,260,261,261,262,262,263,263,264,264,265,265,266,266,267,267,268,268,269,269,270,270,271,271,272,272,273,273,274,274,275,275,276,276,277,277,278,278,279,279,280,280,281,281,282,282,283,283,284,284,285,285,286,286,287,287,288,288,289,289,290,290,291,291,292,292,293,293,294,294,295,295,296,296,297,297,298,298,299,299,300,300,301,301,302,302,303,303,304,304,305,305,306,306,307,307,308,308,309,309,310,310,311,311,312,312,313,313,314,314,315,315,316,316,317,317,318,318,319,319,320,320,321,321,322,322,323,323,324,324,325,325,326,326,327,327,328,328,329,329,330,330,331,331,332,332,333,333,334,334,335,335,336,336,337,337,338,338,339,339,340,340,341,341,342,342,343,343,344,344,345,345,346,346,347,347,348,348,349,349,350,350,351,351,352,352,353,353,354,354,355,355,356,356,357,357,358,358,359,359,360,360,361,361,362,362,363,363,364,364,365,365,366,366,367,367,368,368,369,369,370,370,371,371,372,372,373,373,374,374,375,375,376,376,377,377,378,378,379,379,380,380,381,381,382,382,383,383,384,384,385,385,386,386,387,387,388,388,389,389,390,390,391,391,392,392,393,393,394,394,395,395,396,396,397,397,398,398,399,399,400,400,401,401,402,402,403,403,404,404,405,405,406,406,407,407,408,408,409,409,410,410,411,411,412,412,413,413,414,414,415,415,416,416,417,417,418,418,419,419,420,420,421,421,422,422,423,423,424,424,425,425,426,426,427,427,428,428,429,429,430,430,431,431,432,432,433,433,434,434,435,435,436,436,437,437,438,438,439,439,440,440,441,441,442,442,443,443,444,444,445,445,446,446,447,447,448,448,449,449,450,450,451,451,452,452,453,453,454,454,455,455,456,456,457,457,458,458,459,459,460,460,461,461,462,462,463,463,464,464,465,465,466,466,467,467,468,468,469,469,470,470,471,471,472,472,473,473,474,474,475,475,476,476,477,477,478,478,479,479,480,480,481,481,482,482,483,483,484,484,485,485,486,486,487,487,488,488,489,489,490,490,491,491,492,492,493,493,494,494,495,495,496,496,497,497,498,498,499,499,500,500,501,501,502,502,503,503,504,504,505,505,506,506,507,507,508,508,509,509,510,510,511,511,512,512,513,513,514,514,515,515,516,516,517,517,518,518,519,519,520,520,521,521,522,522,523,523,524,524,525,525,526,526,527,527,528,528,529,529,530,530,531,531,532,532,533,533,534,534,535,535,536,536,537,537,538,538,539,539,540,540,541,541,542,542,543,543,544,544,545,545,546,546,547,547,548,548,549,549,550,550,551,551,552,552,553,553,554,554,555,555,556,556,557,557,558,558,559,559,560,560,561,561,562,562,563,563,564,564,565,565,566,566,567,567,568,568,569,569,570,570,571,571,572,572,573,573,574,574,575,575,576,576,577,577,578,578,579,579,580,580,581,581,582,582,583,583,584,584,585,585,586,586,587,587,588,588,589,589,590,590,591,591,592,592,593,593,594,594,595,595,596,596,597,597,598,598,599,599,600,600,601,601,602,602,603,603,604,604,605,605,606,606,607,607,608,608,609,609,610,610,611,611,612,612,613,613,614,614,615,615,616,616,617,617,618,618,619,619,620,620,621,621,622,622,623,623,624,624,625,625,626,626,627,627,628,628,629,629,630,630,631,631,632,632,633,633,634,634,635,635,636,636,637,637,638,638,639,639,640,640,641,641,642,642,643,643,644,644,645,645,646,646,647,647,648,648,649,649,650,650,651,651,652,652,653,653,654,654,655,655,656,656,657,657,658,658,659,659,660,660,661,661,662,662,663,663,664,664,665,665,666,666,667,667,668,668,669,669,670,670,671,671,672,672,673,673,674,674,675,675,676,676,677,677,678,678,679,679,680,680,681,681,682,682,683,683,684,684,685,685,686,686,687,687,688,688,689,689,690,690,691,691,692,692,693,693,694,694,695,695,696,696,697,697,698,698,699,699,700,700,701,701,702,702,703,703,704,704,705,705,706,706,707,707,708,708,709,709,710,710,711,711,712,712,713,713,714,714,715,715,716,716,717,717,718,718,719,719,720,720,721,721,722,722,723,723,724,724,725,725,726,726,727,727,728,728,729,729,730,730,731,731,732,732,733,733,734,734,735,735,736,736,737,737,738,738,739,739,740,740,741,741,742,742,743,743,744,744,745,745,746,746,747,747,748,748,749,749,750,750,751,751,752,752,753,753,754,754,755,755,756,756,757,757,758,758,759,759,760,760,761,761,762,762,763,763,764,764,765,765,766,766,767,767,768,768,769,769,770,770,771,771,772,772,773,773,774,774,775,775,776,776,777,777,778,778,779,779,780,780,781,781,782,782,783,783,784,784,785,785,786,786,787,787,788,788,789,789,790,790,791,791,792,792,793,793,794,794,795,795,796,796,797,797,798,798,799,799,800,800,801,801,802,802,803,803,804,804,805,805,806,806,807,807,808,808,809,809,810,810,811,811,812,812,813,813,814,814,815,815,816,816,817,817,818,818,819,819,820,820,821,821,822,822,823,823,824,824,825,825,826,826,827,827,828,828,829,829,830,830,831,831,832,832,833,833,834,834,835,835,836,836,837,837,838,838,839,839,840,840,841,841,842,842,843,843,844,844,845,845,846,846,847,847,848,848,849,849,850,850,851,851,852,852,853,853,854,854,855,855,856,856,857,857,858,858,859,859,860,860,861,861,862,862,863,863,864,864,865,865,866,866,867,867,868,868,869,869,870,870,871,871,872,872,873,873,874,874,875,875,876,876,877,877,878,878,879,879,880,880,881,881,882,882,883,883,884,884,885,885,886,886,887,887,888,888,889,889,890,890,891,891,892,892,893,893,894,894,895,895,896,896,897,897,898,898,899,899,900,900,901,901,902,902,903,903,904,904,905,905,906,906,907,907,908,908,909,909,910,910,911,911,912,912,913,913,914,914,915,915,916,916,917,917,918,918,919,919,920,920,921,921,922,922,923,923,924,924,925,925,926,926,927,927,928,928,929,929,930,930,931,931,932,932,933,933,934,934,935,935,936,936,937,937,938,938,939,939,940,940,941,941,942,942,943,943,944,944,945,945,946,946,947,947,948,948,949,949,950,950,951,951,952,952,953,953,954,954,955,955,956,956,957,957,958,958,959,959,960,960,961,961,962,962,963,963,964,964,965,965,966,966,967,967,968,968,969,969,970,970,971,971,972,972,973,973,974,974,975,975,976,976,977,977,978,978,979,979,980,980,981,981,982,982,983,983,984,984,985,985,986,986,987,987,988,988,989,989,990,990,991,991,992,992,993,993,994,994,995,995,996,996,997,997,998,998,999,999,1000,1000,1001,1001,1002,1002,1003,1003,1004,1004,1005,1005,1006,1006,1007,1007,1008,1008,1009,1009,1010,1010,1011,1011,1012,1012,1013,1013,1014,1014,1015,1015,1016,1016,1017,1017,1018,1018,1019,1019,1020,1020,1021,1021,1022,1022,1023,1023,1024,1024,1025,1025,1026,1026,1027,1027,1028,1028,1029,1029,1030,1030,1031,1031,1032,1032,1033,1033,1034,1034,1035,1035,1036,1036,1037,1037,1038,1038,1039,1039,1040,1040,1041,1041,1042,1042,1043,1043,1044,1044,1045,1045,1046,1046,1047,1047,1048,1048,1049,1049,1050,1050,1051,1051,1052,1052,1053,1053,1054,1054,1055,1055,1056,1056,1057,1057,1058,1058,1059,1059,1060,1060,1061,1061,1062,1062,1063,1063,1064,1064,1065,1065,1066,1066,1067,1067,1068,1068,1069,1069,1070,1070,1071,1071,1072,1072,1073,1073,1074,1074,1075,1075,1076,1076,1077,1077,1078,1078,1079,1079,1080,1080,1081,1081,1082,1082,1083,1083,1084,1084,1085,1085,1086,1086,1087,1087,1088,1088,1089,1089,1090,1090,1091,1091,1092,1092,1093,1093,1094,1094,1095,1095,1096,1096,1097,1097,1098,1098,1099,1099,1100,1100,1101,1101,1102,1102,1103,1103,1104,1104,1105,1105,1106,1106,1107,1107,1108,1108,1109,1109,1110,1110,1111,1111,1112,1112,1113,1113,1114,1114,1115,1115,1116,1116,1117,1117,1118,1118,1119,1119,1120,1120,1121,1121,1122,1122,1123,1123,1124,1124,1125,1125,1126,1126,1127,1127,1128,1128,1129,1129,1130,1130,1131,1131,1132,1132,1133,1133,1134,1134,1135,1135,1136,1136,1137,1137,1138,1138,1139,1139,1140,1140,1141,1141,1142,1142,1143,1143,1144,1144,1145,1145,1146,1146,1147,1147,1148,1148,1149,1149,1150,1150,1151,1151,1152,1152,1153,1153,1154,1154,1155,1155,1156,1156,1157,1157,1158,1158,1159,1159,1160,1160,1161,1161,1162,1162,1163,1163,1164,1164,1165,1165,1166,1166,1167,1167,1168,1168,1169,1169,1170,1170,1171,1171,1172,1172,1173,1173,1174,1174,1175,1175,1176,1176,1177,1177,1178,1178,1179,1179,1180,1180,1181,1181,1182,1182,1183,1183,1184,1184,1185,1185,1186,1186,1187,1187,1188,1188,1189,1189,1190,1190,1191,1191,1192,1192,1193,1193,1194,1194,1195,1195,1196,1196,1197,1197,1198,1198,1199,1199,1200,1200,1201,1201,1202,1202,1203,1203,1204,1204,1205,1205,1206,1206,1207,1207,1208,1208,1209,1209,1210,1210,1211,1211,1212,1212,1213,1213,1214,1214,1215,1215,1216,1216,1217,1217,1218,1218,1219,1219,1220,1220,1221,1221,1222,1222,1223,1223,1224,1224,1225,1225,1226,1226,1227,1227,1228,1228,1229,1229,1230,1230,1231,1231,1232,1232,1233,1233,1234,1234,1235,1235,1236,1236,1237,1237,1238,1238,1239,1239,1240,1240,1241,1241,1242,1242,1243,1243,1244,1244,1245,1245,1246,1246,1247,1247,1248,1248,1249,1249,1250,1250,1251,1251,1252,1252,1253,1253,1254,1254,1255,1255,1256,1256,1257,1257,1258,1258,1259,1259,1260,1260,1261,1261,1262,1262,1263,1263,1264,1264,1265,1265,1266,1266,1267,1267,1268,1268,1269,1269,1270,1270,1271,1271,1272,1272,1273,1273,1274,1274,1275,1275,1276,1276,1277,1277,1278,1278,1279,1279,1280,1280,1281,1281,1282,1282,1283,1283,1284,1284,1285,1285,1286,1286,1287,1287,1288,1288,1289,1289,1290,1290,1291,1291,1292,1292,1293,1293,1294,1294,1295,1295,1296,1296,1297,1297,1298,1298,1299,1299,1300,1300,1301,1301,1302,1302,1303,1303,1304,1304,1305,1305,1306,1306,1307,1307,1308,1308,1309,1309,1310,1310,1311,1311,1312,1312,1313,1313,1314,1314,1315,1315,1316,1316,1317,1317,1318,1318,1319,1319,1320,1320,1321,1321,1322,1322,1323,1323,1324,1324,1325,1325,1326,1326,1327,1327,1328,1328,1329,1329,1330,1330,1331,1331,1332,1332,1333,1333,1334,1334,1335,1335,1336,1336,1337,1337,1338,1338,1339,1339,1340,1340,1341,1341,1342,1342,1343,1343,1344,1344,1345,1345,1346,1346,1347,1347,1348,1348,1349,1349,1350,1350,1351,1351,1352,1352,1353,1353,1354,1354,1355,1355,1356,1356,1357,1357,1358,1358,1359,1359,1360,1360,1361,1361,1362,1362,1363,1363,1364,1364,1365,1365,1366,1366,1367,1367,1368,1368,1369,1369,1370,1370,1371,1371,1372,1372,1373,1373,1374,1374,1375,1375,1376,1376,1377,1377,1378,1378,1379,1379,1380,1380,1381,1381,1382,1382,1383,1383,1384,1384,1385,1385,1386,1386,1387,1387,1388,1388,1389,1389,1390,1390,1391,1391,1392,1392,1393,1393,1394,1394,1395,1395,1396,1396,1397,1397,1398,1398,1399,1399,1400,1400,1401,1401,1402,1402,1403,1403,1404,1404,1405,1405,1406,1406,1407,1407,1408,1408,1409,1409,1410,1410,1411,1411,1412,1412,1413,1413,1414,1414,1415,1415,1416,1416,1417,1417,1418,1418,1419,1419,1420,1420,1421,1421,1422,1422,1423,1423,1424,1424,1425,1425,1426,1426,1427,1427,1428,1428,1429,1429,1430,1430,1431,1431,1432,1432,1433,1433,1434,1434,1435,1435,1436,1436,1437,1437,1438,1438,1439,1439,1440,1440,1441,1441,1442,1442,1443,1443,1444,1444,1445,1445,1446,1446,1447,1447,1448,1448,1449,1449,1450,1450,1451,1451,1452,1452,1453,1453,1454,1454,1455,1455,1456,1456,1457,1457,1458,1458,1459,1459,1460,1460,1461,1461,1462,1462,1463,1463,1464,1464,1465,1465,1466,1466,1467,1467,1468,1468,1469,1469,1470,1470,1471,1471,1472,1472,1473,1473,1474,1474,1475,1475,1476,1476,1477,1477,1478,1478,1479,1479,1480,1480,1481,1481,1482,1482,1483,1483,1484,1484,1485,1485,1486,1486,1487,1487,1488,1488,1489,1489,1490,1490,1491,1491,1492,1492,1493,1493,1494,1494,1495,1495,1496,1496,1497,1497,1498,1498,1499,1499,1500,1500,1501,1501,1502,1502,1503,1503,1504,1504,1505,1505,1506,1506,1507,1507,1508,1508,1509,1509,1510,1510,1511,1511,1512,1512,1513,1513,1514,1514,1515,1515,1516,1516,1517,1517,1518,1518,1519,1519,1520,1520,1521,1521,1522,1522,1523,1523,1524,1524,1525,1525,1526,1526,1527,1527,1528,1528,1529,1529,1530,1530,1531,1531,1532,1532,1533,1533,1534,1534,1535,1535,1536,1536,1537,1537,1538,1538,1539,1539,1540,1540,1541,1541,1542,1542,1543,1543,1544,1544,1545,1545,1546,1546,1547,1547,1548,1548,1549,1549,1550,1550,1551,1551,1552,1552,1553,1553,1554,1554,1555,1555,1556,1556,1557,1557,1558,1558,1559,1559,1560,1560,1561,1561,1562,1562,1563,1563,1564,1564,1565,1565,1566,1566,1567,1567,1568,1568,1569,1569,1570,1570,1571,1571,1572,1572,1573,1573,1574,1574,1575,1575,1576,1576,1577,1577,1578,1578,1579,1579,1580,1580,1581,1581,1582,1582,1583,1583,1584,1584,1585,1585,1586,1586,1587,1587,1588,1588,1589,1589,1590,1590,1591,1591,1592,1592,1593,1593,1594,1594,1595,1595,1596,1596,1597,1597,1598,1598,1599,1599,1600,1600,1601,1601,1602,1602,1603,1603,1604,1604,1605,1605,1606,1606,1607,1607,1608,1608,1609,1609,1610,1610,1611,1611,1612,1612,1613,1613,1614,1614,1615,1615,1616,1616,1617,1617,1618,1618,1619,1619,1620,1620,1621,1621,1622,1622,1623,1623,1624,1624,1625,1625,1626,1626,1627,1627,1628,1628,1629,1629,1630,1630,1631,1631,1632,1632,1633,1633,1634,1634,1635,1635,1636,1636,1637,1637,1638,1638,1639,1639,1640,1640,1641,1641,1642,1642,1643,1643,1644,1644,1645,1645,1646,1646,1647,1647,1648,1648,1649,1649,1650,1650,1651,1651,1652,1652,1653,1653,1654,1654,1655,1655,1656,1656,1657,1657,1658,1658,1659,1659,1660,1660,1661,1661,1662,1662,1663,1663,1664,1664,1665,1665,1666,1666,1667,1667,1668,1668,1669,1669,1670,1670,1671,1671,1672,1672,1673,1673,1674,1674,1675,1675,1676,1676,1677,1677,1678,1678,1679,1679,1680,1680,1681,1681,1682,1682,1683,1683,1684,1684,1685,1685,1686,1686,1687,1687,1688,1688,1689,1689,1690,1690,1691,1691,1692,1692,1693,1693,1694,1694,1695,1695,1696,1696,1697,1697,1698,1698,1699,1699,1700,1700,1701,1701,1702,1702,1703,1703,1704,1704,1705,1705,1706,1706,1707,1707,1708,1708,1709,1709,1710,1710,1711,1711,1712,1712,1713,1713,1714,1714,1715,1715,1716,1716,1717,1717,1718,1718,1719,1719,1720,1720,1721,1721,1722,1722,1723,1723,1724,1724,1725,1725,1726,1726,1727,1727,1728,1728,1729,1729,1730,1730,1731,1731,1732,1732,1733,1733,1734,1734,1735,1735,1736,1736,1737,1737,1738,1738,1739,1739,1740,1740,1741,1741,1742,1742,1743,1743,1744,1744,1745,1745,1746,1746,1747,1747,1748,1748,1749,1749,1750,1750,1751,1751,1752,1752,1753,1753,1754,1754,1755,1755,1756,1756,1757,1757,1758,1758,1759,1759,1760,1760,1761,1761,1762,1762,1763,1763,1764,1764,1765,1765,1766,1766,1767,1767,1768,1768,1769,1769,1770,1770,1771,1771,1772,1772,1773,1773,1774,1774,1775,1775,1776,1776,1777,1777,1778,1778,1779,1779,1780,1780,1781,1781,1782,1782,1783,1783,1784,1784,1785,1785,1786,1786,1787,1787,1788,1788,1789,1789,1790,1790,1791,1791,1792,1792,1793,1793,1794,1794,1795,1795,1796,1796,1797,1797,1798,1798,1799,1799,1800,1800,1801,1801,1802,1802,1803,1803,1804,1804,1805,1805,1806,1806,1807,1807,1808,1808,1809,1809,1810,1810,1811,1811,1812,1812,1813,1813,1814,1814,1815,1815,1816,1816,1817,1817,1818,1818,1819,1819,1820,1820,1821,1821,1822,1822,1823,1823,1824,1824,1825,1825,1826,1826,1827,1827,1828,1828,1829,1829,1830,1830,1831,1831,1832,1832,1833,1833,1834,1834,1835,1835,1836,1836,1837,1837,1838,1838,1839,1839,1840,1840,1841,1841,1842,1842,1843,1843,1844,1844,1845,1845,1846,1846,1847,1847,1848,1848,1849,1849,1850,1850,1851,1851,1852,1852,1853,1853,1854,1854,1855,1855,1856,1856,1857,1857,1858,1858,1859,1859,1860,1860,1861,1861,1862,1862,1863,1863,1864,1864,1865,1865,1866,1866,1867,1867,1868,1868,1869,1869,1870,1870,1871,1871,1872,1872,1873,1873,1874,1874,1875,1875,1876,1876,1877,1877,1878,1878,1879,1879,1880,1880,1881,1881,1882,1882,1883,1883,1884,1884,1885,1885,1886,1886,1887,1887,1888,1888,1889,1889,1890,1890,1891,1891,1892,1892,1893,1893,1894,1894,1895,1895,1896,1896,1897,1897,1898,1898,1899,1899,1900,1900,1901,1901,1902,1902,1903,1903,1904,1904,1905,1905,1906,1906,1907,1907,1908,1908,1909,1909,1910,1910,1911,1911,1912,1912,1913,1913,1914,1914,1915,1915,1916,1916,1917,1917,1918,1918,1919,1919,1920,1920,1921,1921,1922,1922,1923,1923,1924,1924,1925,1925,1926,1926,1927,1927,1928,1928,1929,1929,1930,1930,1931,1931,1932,1932,1933,1933,1934,1934,1935,1935,1936,1936,1937,1937,1938,1938,1939,1939,1940,1940,1941,1941,1942,1942,1943,1943,1944,1944,1945,1945,1946,1946,1947,1947,1948,1948,1949,1949,1950,1950,1951,1951,1952,1952,1953,1953,1954,1954,1955,1955,1956,1956,1957,1957,1958,1958,1959,1959,1960,1960,1961,1961,1962,1962,1963,1963,1964,1964,1965,1965,1966,1966,1967,1967,1968,1968,1969,1969,1970,1970,1971,1971,1972,1972,1973,1973,1974,1974,1975,1975,1976,1976,1977,1977,1978,1978,1979,1979,1980,1980,1981,1981,1982,1982,1983,1983,1984,1984,1985,1985,1986,1986,1987,1987,1988,1988,1989,1989,1990,1990,1991,1991,1992,1992,1993,1993,1994,1994,1995,1995,1996,1996,1997,1997,1998,1998,1999,1999,2000,2000,2001,2001,2002,2002,2003,2003,2004,2004,2005,2005,2006,2006,2007,2007,2008,2008,2009,2009,2010,2010,2011,2011,2012,2012,2013,2013,2014,2014,2015,2015,2016,2016,2017,2017,2018,2018,2019,2019,2020,2020,2021,2021,2022,2022,2023,2023,2024,2024,2025,2025,2026,2026,2027,2027,2028,2028,2029,2029,2030,2030,2031,2031,2032,2032,2033,2033,2034,2034,2035,2035,2036,2036,2037,2037,2038,2038,2039,2039,2040,2040,2041,2041,2042,2042,2043,2043,2044,2044,2045,2045,2046,2046,2047,2047,2048,2048,2049,2049,2050,2050,2051,2051,2052,2052,2053,2053,2054,2054,2055,2055,2056,2056,2057,2057,2058,2058,2059,2059,2060,2060,2061,2061,2062,2062,2063,2063,2064,2064,2065,2065,2066,2066,2067,2067,2068,2068,2069,2069,2070,2070,2071,2071,2072,2072,2073,2073,2074,2074,2075,2075,2076,2076,2077,2077,2078,2078,2079,2079,2080,2080,2081,2081,2082,2082,2083,2083,2084,2084,2085,2085,2086,2086,2087,2087,2088,2088,2089,2089,2090,2090,2091,2091,2092,2092,2093,2093,2094,2094,2095,2095,2096,2096,2097,2097,2098,2098,2099,2099,2100,2100,2101,2101,2102,2102,2103,2103,2104,2104,2105,2105,2106,2106,2107,2107,2108,2108,2109,2109,2110,2110,2111,2111,2112,2112,2113,2113,2114,2114,2115,2115,2116,2116,2117,2117,2118,2118,2119,2119,2120,2120,2121,2121,2122,2122,2123,2123,2124,2124,2125,2125,2126,2126,2127,2127,2128,2128,2129,2129,2130,2130,2131,2131,2132,2132,2133,2133,2134,2134,2135,2135,2136,2136,2137,2137,2138,2138,2139,2139,2140,2140,2141,2141,2142,2142,2143,2143,2144,2144,2145,2145,2146,2146,2147,2147,2148,2148,2149,2149,2150,2150,2151,2151,2152,2152,2153,2153,2154,2154,2155,2155,2156,2156,2157,2157,2158,2158,2159,2159,2160,2160,2161,2161,2162,2162,2163,2163,2164,2164,2165,2165,2166,2166,2167,2167,2168,2168,2169,2169,2170,2170,2171,2171,2172,2172,2173,2173,2174,2174,2175,2175,2176,2176,2177,2177,2178,2178,2179,2179,2180,2180,2181,2181,2182,2182,2183,2183,2184,2184,2185,2185,2186,2186,2187,2187,2188,2188,2189,2189,2190,2190,2191,2191,2192,2192,2193,2193,2194,2194,2195,2195,2196,2196,2197,2197,2198,2198,2199,2199,2200,2200,2201,2201,2202,2202,2203,2203,2204,2204,2205,2205,2206,2206,2207,2207,2208,2208,2209,2209,2210,2210,2211,2211,2212,2212,2213,2213,2214,2214,2215,2215,2216,2216,2217,2217,2218,2218,2219,2219,2220,2220,2221,2221,2222,2222,2223,2223,2224,2224,2225,2225,2226,2226,2227,2227,2228,2228,2229,2229,2230,2230,2231,2231,2232,2232,2233,2233,2234,2234,2235,2235,2236,2236,2237,2237,2238,2238,2239,2239,2240,2240,2241,2241,2242,2242,2243,2243,2244,2244,2245,2245,2246,2246,2247,2247,2248,2248,2249,2249,2250,2250,2251,2251,2252,2252,2253,2253,2254,2254,2255,2255,2256,2256,2257,2257,2258,2258,2259,2259,2260,2260,2261,2261,2262,2262,2263,2263,2264,2264,2265,2265,2266,2266,2267,2267,2268,2268,2269,2269,2270,2270,2271,2271,2272,2272,2273,2273,2274,2274,2275,2275,2276,2276,2277,2277,2278,2278,2279,2279,2280,2280,2281,2281,2282,2282,2283,2283,2284,2284,2285,2285,2286,2286,2287,2287,2288,2288,2289,2289,2290,2290,2291,2291,2292,2292,2293,2293,2294,2294,2295,2295,2296,2296,2297,2297,2298,2298,2299,2299,2300,2300,2301,2301,2302,2302,2303,2303,2304,2304,2305,2305,2306,2306,2307,2307,2308,2308,2309,2309,2310,2310,2311,2311,2312,2312,2313,2313,2314,2314,2315,2315,2316,2316,2317,2317,2318,2318,2319,2319,2320,2320,2321,2321,2322,2322,2323,2323,2324,2324,2325,2325,2326,2326,2327,2327,2328,2328,2329,2329,2330,2330,2331,2331,2332,2332,2333,2333,2334,2334,2335,2335,2336,2336,2337,2337,2338,2338,2339,2339,2340,2340,2341,2341,2342,2342,2343,2343,2344,2344,2345,2345,2346,2346,2347,2347,2348,2348,2349,2349,2350,2350,2351,2351,2352,2352,2353,2353,2354,2354,2355,2355,2356,2356,2357,2357,2358,2358,2359,2359,2360,2360,2361,2361,2362,2362,2363,2363,2364,2364,2365,2365,2366,2366,2367,2367,2368,2368,2369,2369,2370,2370,2371,2371,2372,2372,2373,2373,2374,2374,2375,2375,2376,2376,2377,2377,2378,2378,2379,2379,2380,2380,2381,2381,2382,2382,2383,2383,2384,2384,2385,2385,2386,2386,2387,2387,2388,2388,2389,2389,2390,2390,2391,2391,2392,2392,2393,2393,2394,2394,2395,2395,2396,2396,2397,2397,2398,2398,2399,2399,2400,2400,2401,2401,2402,2402,2403,2403,2404,2404,2405,2405,2406,2406,2407,2407,2408,2408,2409,2409,2410,2410,2411,2411,2412,2412,2413,2413,2414,2414,2415,2415,2416,2416,2417,2417,2418,2418,2419,2419,2420,2420,2421,2421,2422,2422,2423,2423,2424,2424,2425,2425,2426,2426,2427,2427,2428,2428,2429,2429,2430,2430,2431,2431,2432,2432,2433,2433,2434,2434,2435,2435,2436,2436,2437,2437,2438,2438,2439,2439,2440,2440,2441,2441,2442,2442,2443,2443,2444,2444,2445,2445,2446,2446,2447,2447,2448,2448,2449,2449,2450,2450,2451,2451,2452,2452,2453,2453,2454,2454,2455,2455,2456,2456,2457,2457,2458,2458,2459,2459,2460,2460,2461,2461,2462,2462,2463,2463,2464,2464,2465,2465,2466,2466,2467,2467,2468,2468,2469,2469,2470,2470,2471,2471,2472,2472,2473,2473,2474,2474,2475,2475,2476,2476,2477,2477,2478,2478,2479,2479,2480,2480,2481,2481,2482,2482,2483,2483,2484,2484,2485,2485,2486,2486,2487,2487,2488,2488,2489,2489,2490,2490,2491,2491,2492,2492,2493,2493,2494,2494,2495,2495,2496,2496,2497,2497,2498,2498,2499,2499,2500,2500,2501,2501,2502,2502,2503,2503,2504,2504,2505,2505,2506,2506,2507,2507,2508,2508,2509,2509,2510,2510,2511,2511,2512,2512,2513,2513,2514,2514,2515,2515,2516,2516,2517,2517,2518,2518,2519,2519,2520,2520,2521,2521,2522,2522,2523,2523,2524,2524,2525,2525,2526,2526,2527,2527,2528,2528,2529,2529,2530,2530,2531,2531,2532,2532,2533,2533,2534,2534,2535,2535,2536,2536,2537,2537,2538,2538,2539,2539,2540,2540,2541,2541,2542,2542,2543,2543,2544,2544,2545,2545,2546,2546,2547,2547,2548,2548,2549,2549,2550,2550,2551,2551,2552,2552,2553,2553,2554,2554,2555,2555,2556,2556,2557,2557,2558,2558,2559,2559,2560,2560,2561,2561,2562,2562,2563,2563,2564,2564,2565,2565,2566,2566,2567,2567,2568,2568,2569,2569,2570,2570,2571,2571,2572,2572,2573,2573,2574,2574,2575,2575,2576,2576,2577,2577,2578,2578,2579,2579,2580,2580,2581,2581,2582,2582,2583,2583,2584,2584,2585,2585,2586,2586,2587,2587,2588,2588,2589,2589,2590,2590,2591,2591,2592,2592,2593,2593,2594,2594,2595,2595,2596,2596,2597,2597,2598,2598,2599,2599,2600,2600,2601,2601,2602,2602,2603,2603,2604,2604,2605,2605,2606,2606,2607,2607,2608,2608,2609,2609,2610,2610,2611,2611,2612,2612,2613,2613,2614,2614,2615,2615,2616,2616,2617,2617,2618,2618,2619,2619,2620,2620,2621,2621,2622,2622,2623,2623,2624,2624,2625,2625,2626,2626,2627,2627,2628,2628,2629,2629,2630,2630,2631,2631,2632,2632,2633,2633,2634,2634,2635,2635,2636,2636,2637,2637,2638,2638,2639,2639,2640,2640,2641,2641,2642,2642,2643,2643,2644,2644,2645,2645,2646,2646,2647,2647,2648,2648,2649,2649,2650,2650,2651,2651,2652,2652,2653,2653,2654,2654,2655,2655,2656,2656,2657,2657,2658,2658,2659,2659,2660,2660,2661,2661,2662,2662,2663,2663,2664,2664,2665,2665,2666,2666,2667,2667,2668,2668,2669,2669,2670,2670,2671,2671,2672,2672,2673,2673,2674,2674,2675,2675,2676,2676,2677,2677,2678,2678,2679,2679,2680,2680,2681,2681,2682,2682,2683,2683,2684,2684,2685,2685,2686,2686,2687,2687,2688,2688,2689,2689,2690,2690,2691,2691,2692,2692,2693,2693,2694,2694,2695,2695,2696,2696,2697,2697,2698,2698,2699,2699,2700,2700,2701,2701,2702,2702,2703,2703,2704,2704,2705,2705,2706,2706,2707,2707,2708,2708,2709,2709,2710,2710,2711,2711,2712,2712,2713,2713,2714,2714,2715,2715,2716,2716,2717,2717,2718,2718,2719,2719,2720,2720,2721,2721,2722,2722,2723,2723,2724,2724,2725,2725,2726,2726,2727,2727,2728,2728,2729,2729,2730,2730,2731,2731,2732,2732,2733,2733,2734,2734,2735,2735,2736,2736,2737,2737,2738,2738,2739,2739,2740,2740,2741,2741,2742,2742,2743,2743,2744,2744,2745,2745,2746,2746,2747,2747,2748,2748,2749,2749,2750,2750,2751,2751,2752,2752,2753,2753,2754,2754,2755,2755,2756,2756,2757,2757,2758,2758,2759,2759,2760,2760,2761,2761,2762,2762,2763,2763,2764,2764,2765,2765,2766,2766,2767,2767,2768,2768,2769,2769,2770,2770,2771,2771,2772,2772,2773,2773,2774,2774,2775,2775,2776,2776,2777,2777,2778,2778,2779,2779,2780,2780,2781,2781,2782,2782,2783,2783,2784,2784,2785,2785,2786,2786,2787,2787,2788,2788,2789,2789,2790,2790,2791,2791,2792,2792,2793,2793,2794,2794,2795,2795,2796,2796,2797,2797,2798,2798,2799,2799,2800,2800,2801,2801,2802,2802,2803,2803,2804,2804,2805,2805,2806,2806,2807,2807,2808,2808,2809,2809,2810,2810,2811,2811,2812,2812,2813,2813,2814,2814,2815,2815,2816,2816,2817,2817,2818,2818,2819,2819,2820,2820,2821,2821,2822,2822,2823,2823,2824,2824,2825,2825,2826,2826,2827,2827,2828,2828,2829,2829,2830,2830,2831,2831,2832,2832,2833,2833,2834,2834,2835,2835,2836,2836,2837,2837,2838,2838,2839,2839,2840,2840,2841,2841,2842,2842,2843,2843,2844,2844,2845,2845,2846,2846,2847,2847,2848,2848,2849,2849,2850,2850,2851,2851,2852,2852,2853,2853,2854,2854,2855,2855,2856,2856,2857,2857,2858,2858,2859,2859,2860,2860,2861,2861,2862,2862,2863,2863,2864,2864,2865,2865,2866,2866,2867,2867,2868,2868,2869,2869,2870,2870,2871,2871,2872,2872,2873,2873,2874,2874,2875,2875,2876,2876,2877,2877,2878,2878,2879,2879,2880,2880,2881,2881,2882,2882,2883,2883,2884,2884,2885,2885,2886,2886,2887,2887,2888,2888,2889,2889,2890,2890,2891,2891,2892,2892,2893,2893,2894,2894,2895,2895,2896,2896,2897,2897,2898,2898,2899,2899,2900,2900,2901,2901,2902,2902,2903,2903,2904,2904,2905,2905,2906,2906,2907,2907,2908,2908,2909,2909,2910,2910,2911,2911,2912,2912,2913,2913,2914,2914,2915,2915,2916,2916,2917,2917,2918,2918,2919,2919,2920,2920,2921,2921,2922,2922,2923,2923,2924,2924,2925,2925,2926,2926,2927,2927,2928,2928,2929,2929,2930,2930,2931,2931,2932,2932,2933,2933,2934,2934,2935,2935,2936,2936,2937,2937,2938,2938,2939,2939,2940,2940,2941,2941,2942,2942,2943,2943,2944,2944,2945,2945,2946,2946,2947,2947,2948,2948,2949,2949,2950,2950,2951,2951,2952,2952,2953,2953,2954,2954,2955,2955,2956,2956,2957,2957,2958,2958,2959,2959,2960,2960,2961,2961,2962,2962,2963,2963,2964,2964,2965,2965,2966,2966,2967,2967,2968,2968,2969,2969,2970,2970,2971,2971,2972,2972,2973,2973,2974,2974,2975,2975,2976,2976,2977,2977,2978,2978,2979,2979,2980,2980,2981,2981,2982,2982,2983,2983,2984,2984,2985,2985,2986,2986,2987,2987,2988,2988,2989,2989,2990,2990,2991,2991,2992,2992,2993,2993,2994,2994,2995,2995,2996,2996,2997,2997,2998,2998,2999,2999,3000,3000,3001,3001,3002,3002,3003,3003,3004,3004,3005,3005,3006,3006,3007,3007,3008,3008,3009,3009,3010,3010,3011,3011,3012,3012,3013,3013,3014,3014,3015,3015,3016,3016,3017,3017,3018,3018,3019,3019,3020,3020,3021,3021,3022,3022,3023,3023,3024,3024,3025,3025,3026,3026,3027,3027,3028,3028,3029,3029,3030,3030,3031,3031,3032,3032,3033,3033,3034,3034,3035,3035,3036,3036,3037,3037,3038,3038,3039,3039,3040,3040,3041,3041,3042,3042,3043,3043,3044,3044,3045,3045,3046,3046,3047,3047,3048,3048,3049,3049,3050,3050,3051,3051,3052,3052,3053,3053,3054,3054,3055,3055,3056,3056,3057,3057,3058,3058,3059,3059,3060,3060,3061,3061,3062,3062,3063,3063,3064,3064,3065,3065,3066,3066,3067,3067,3068,3068,3069,3069,3070,3070,3071,3071,3072,3072,3073,3073,3074,3074,3075,3075,3076,3076,3077,3077,3078,3078,3079,3079,3080,3080,3081,3081,3082,3082,3083,3083,3084,3084,3085,3085,3086,3086,3087,3087,3088,3088,3089,3089,3090,3090,3091,3091,3092,3092,3093,3093,3094,3094,3095,3095,3096,3096,3097,3097,3098,3098,3099,3099,3100,3100,3101,3101,3102,3102,3103,3103,3104,3104,3105,3105,3106,3106,3107,3107,3108,3108,3109,3109,3110,3110,3111,3111,3112,3112,3113,3113,3114,3114,3115,3115,3116,3116,3117,3117,3118,3118,3119,3119,3120,3120,3121,3121,3122,3122,3123,3123,3124,3124,3125,3125,3126,3126,3127,3127,3128,3128,3129,3129,3130,3130,3131,3131,3132,3132,3133,3133,3134,3134,3135,3135,3136,3136,3137,3137,3138,3138,3139,3139,3140,3140,3141,3141,3142,3142,3143,3143,3144,3144,3145,3145,3146,3146,3147,3147,3148,3148,3149,3149,3150,3150,3151,3151,3152,3152,3153,3153,3154,3154,3155,3155,3156,3156,3157,3157,3158,3158,3159,3159,3160,3160,3161,3161,3162,3162,3163,3163,3164,3164,3165,3165,3166,3166,3167,3167,3168,3168,3169,3169,3170,3170,3171,3171,3172,3172,3173,3173,3174,3174,3175,3175,3176,3176,3177,3177,3178,3178,3179,3179,3180,3180,3181,3181,3182,3182,3183,3183,3184,3184,3185,3185,3186,3186,3187,3187,3188,3188,3189,3189,3190,3190,3191,3191,3192,3192,3193,3193,3194,3194,3195,3195,3196,3196,3197,3197,3198,3198,3199,3199,3200,3200,3201,3201,3202,3202,3203,3203,3204,3204,3205,3205,3206,3206,3207,3207,3208,3208,3209,3209,3210,3210,3211,3211,3212,3212,3213,3213,3214,3214,3215,3215,3216,3216,3217,3217,3218,3218,3219,3219,3220,3220,3221,3221,3222,3222,3223,3223,3224,3224,3225,3225,3226,3226,3227,3227,3228,3228,3229,3229,3230,3230,3231,3231,3232,3232,3233,3233,3234,3234,3235,3235,3236,3236,3237,3237,3238,3238,3239,3239,3240,3240,3241,3241,3242,3242,3243,3243,3244,3244,3245,3245,3246,3246,3247,3247,3248,3248,3249,3249,3250,3250,3251,3251,3252,3252,3253,3253,3254,3254,3255,3255,3256,3256,3257,3257,3258,3258,3259,3259,3260,3260,3261,3261,3262,3262,3263,3263,3264,3264,3265,3265,3266,3266,3267,3267,3268,3268,3269,3269,3270,3270,3271,3271,3272,3272,3273,3273,3274,3274,3275,3275,3276,3276,3277,3277,3278,3278,3279,3279,3280,3280,3281,3281,3282,3282,3283,3283,3284,3284,3285,3285,3286,3286,3287,3287,3288,3288,3289,3289,3290,3290,3291,3291,3292,3292,3293,3293,3294,3294,3295,3295,3296,3296,3297,3297,3298,3298,3299,3299,3300,3300,3301,3301,3302,3302,3303,3303,3304,3304,3305,3305,3306,3306,3307,3307,3308,3308,3309,3309,3310,3310,3311,3311,3312,3312,3313,3313,3314,3314,3315,3315,3316,3316,3317,3317,3318,3318,3319,3319,3320,3320,3321,3321,3322,3322,3323,3323,3324,3324,3325,3325,3326,3326,3327,3327,3328,3328,3329,3329,3330,3330,3331,3331,3332,3332,3333,3333,3334,3334,3335,3335,3336,3336,3337,3337,3338,3338,3339,3339,3340,3340,3341,3341,3342,3342,3343,3343,3344,3344,3345,3345,3346,3346,3347,3347,3348,3348,3349,3349,3350,3350,3351,3351,3352,3352,3353,3353,3354,3354,3355,3355,3356,3356,3357,3357,3358,3358,3359,3359,3360,3360,3361,3361,3362,3362,3363,3363,3364,3364,3365,3365,3366,3366,3367,3367,3368,3368,3369,3369,3370,3370,3371,3371,3372,3372,3373,3373,3374,3374,3375,3375,3376,3376,3377,3377,3378,3378,3379,3379,3380,3380,3381,3381,3382,3382,3383,3383,3384,3384,3385,3385,3386,3386,3387,3387,3388,3388,3389,3389,3390,3390,3391,3391,3392,3392,3393,3393,3394,3394,3395,3395,3396,3396,3397,3397,3398,3398,3399,3399,3400,3400,3401,3401,3402,3402,3403,3403,3404,3404,3405,3405,3406,3406,3407,3407,3408,3408,3409,3409,3410,3410,3411,3411,3412,3412,3413,3413,3414,3414,3415,3415,3416,3416,3417,3417,3418,3418,3419,3419,3420,3420,3421,3421,3422,3422,3423,3423,3424,3424,3425,3425,3426,3426,3427,3427,3428,3428,3429,3429,3430,3430,3431,3431,3432,3432,3433,3433,3434,3434,3435,3435,3436,3436,3437,3437,3438,3438,3439,3439,3440,3440,3441,3441,3442,3442,3443,3443,3444,3444,3445,3445,3446,3446,3447,3447,3448,3448,3449,3449,3450,3450,3451,3451,3452,3452,3453,3453,3454,3454,3455,3455,3456,3456,3457,3457,3458,3458,3459,3459,3460,3460,3461,3461,3462,3462,3463,3463,3464,3464,3465,3465,3466,3466,3467,3467,3468,3468,3469,3469,3470,3470,3471,3471,3472,3472,3473,3473,3474,3474,3475,3475,3476,3476,3477,3477,3478,3478,3479,3479,3480,3480,3481,3481,3482,3482,3483,3483,3484,3484,3485,3485,3486,3486,3487,3487,3488,3488,3489,3489,3490,3490,3491,3491,3492,3492,3493,3493,3494,3494,3495,3495,3496,3496,3497,3497,3498,3498,3499,3499,3500,3500,3501,3501,3502,3502,3503,3503,3504,3504,3505,3505,3506,3506,3507,3507,3508,3508,3509,3509,3510,3510,3511,3511,3512,3512,3513,3513,3514,3514,3515,3515,3516,3516,3517,3517,3518,3518,3519,3519,3520,3520,3521,3521,3522,3522,3523,3523,3524,3524,3525,3525,3526,3526,3527,3527,3528,3528,3529,3529,3530,3530,3531,3531,3532,3532,3533,3533,3534,3534,3535,3535,3536,3536,3537,3537,3538,3538,3539,3539,3540,3540,3541,3541,3542,3542,3543,3543,3544,3544,3545,3545,3546,3546,3547,3547,3548,3548,3549,3549,3550,3550,3551,3551,3552,3552,3553,3553,3554,3554,3555,3555,3556,3556,3557,3557,3558,3558,3559,3559,3560,3560,3561,3561,3562,3562,3563,3563,3564,3564,3565,3565,3566,3566,3567,3567,3568,3568,3569,3569,3570,3570,3571,3571,3572,3572,3573,3573,3574,3574,3575,3575,3576,3576,3577,3577,3578,3578,3579,3579,3580,3580,3581,3581,3582,3582,3583,3583,3584,3584,3585,3585,3586,3586,3587,3587,3588,3588,3589,3589,3590,3590,3591,3591,3592,3592,3593,3593,3594,3594,3595,3595,3596,3596,3597,3597,3598,3598,3599,3599,3600,3600,3601,3601,3602,3602,3603,3603,3604,3604,3605,3605,3606,3606,3607,3607,3608,3608,3609,3609,3610,3610,3611,3611,3612,3612,3613,3613,3614,3614,3615,3615,3616,3616,3617,3617,3618,3618,3619,3619,3620,3620,3621,3621,3622,3622,3623,3623,3624,3624,3625,3625,3626,3626,3627,3627,3628,3628,3629,3629,3630,3630,3631,3631,3632,3632,3633,3633,3634,3634,3635,3635,3636,3636,3637,3637,3638,3638,3639,3639,3640,3640,3641,3641,3642,3642,3643,3643,3644,3644,3645,3645,3646,3646,3647,3647,3648,3648,3649,3649,3650,3650,3651,3651,3652,3652,3653,3653,3654,3654,3655,3655,3656,3656,3657,3657,3658,3658,3659,3659,3660,3660,3661,3661,3662,3662,3663,3663,3664,3664,3665,3665,3666,3666,3667,3667,3668,3668,3669,3669,3670,3670,3671,3671,3672,3672,3673,3673,3674,3674,3675,3675,3676,3676,3677,3677,3678,3678,3679,3679,3680,3680,3681,3681,3682,3682,3683,3683,3684,3684,3685,3685,3686,3686,3687,3687,3688,3688,3689,3689,3690,3690,3691,3691,3692,3692,3693,3693,3694,3694,3695,3695,3696,3696,3697,3697,3698,3698,3699,3699,3700,3700,3701,3701,3702,3702,3703,3703,3704,3704,3705,3705,3706,3706,3707,3707,3708,3708,3709,3709,3710,3710,3711,3711,3712,3712,3713,3713,3714,3714,3715,3715,3716,3716,3717,3717,3718,3718,3719,3719,3720,3720,3721,3721,3722,3722,3723,3723,3724,3724,3725,3725,3726,3726,3727,3727,3728,3728,3729,3729,3730,3730,3731,3731,3732,3732,3733,3733,3734,3734,3735,3735,3736,3736,3737,3737,3738,3738,3739,3739,3740,3740,3741,3741,3742,3742,3743,3743,3744,3744,3745,3745,3746,3746,3747,3747,3748,3748,3749,3749,3750,3750,3751,3751,3752,3752,3753,3753,3754,3754,3755,3755,3756,3756,3757,3757,3758,3758,3759,3759,3760,3760,3761,3761,3762,3762,3763,3763,3764,3764,3765,3765,3766,3766,3767,3767,3768,3768,3769,3769,3770,3770,3771,3771,3772,3772,3773,3773,3774,3774,3775,3775,3776,3776,3777,3777,3778,3778,3779,3779,3780,3780,3781,3781,3782,3782,3783,3783,3784,3784,3785,3785,3786,3786,3787,3787,3788,3788,3789,3789,3790,3790,3791,3791,3792,3792,3793,3793,3794,3794,3795,3795,3796,3796,3797,3797,3798,3798,3799,3799,3800,3800,3801,3801,3802,3802,3803,3803,3804,3804,3805,3805,3806,3806,3807,3807,3808,3808,3809,3809,3810,3810,3811,3811,3812,3812,3813,3813,3814,3814,3815,3815,3816,3816,3817,3817,3818,3818,3819,3819,3820,3820,3821,3821,3822,3822,3823,3823,3824,3824,3825,3825,3826,3826,3827,3827,3828,3828,3829,3829,3830,3830,3831,3831,3832,3832,3833,3833,3834,3834,3835,3835,3836,3836,3837,3837,3838,3838,3839,3839,3840,3840,3841,3841,3842,3842,3843,3843,3844,3844,3845,3845,3846,3846,3847,3847,3848,3848,3849,3849,3850,3850,3851,3851,3852,3852,3853,3853,3854,3854,3855,3855,3856,3856,3857,3857,3858,3858,3859,3859,3860,3860,3861,3861,3862,3862,3863,3863,3864,3864,3865,3865,3866,3866,3867,3867,3868,3868,3869,3869,3870,3870,3871,3871,3872,3872,3873,3873,3874,3874,3875,3875,3876,3876,3877,3877,3878,3878,3879,3879,3880,3880,3881,3881,3882,3882,3883,3883,3884,3884,3885,3885,3886,3886,3887,3887,3888,3888,3889,3889,3890,3890,3891,3891,3892,3892,3893,3893,3894,3894,3895,3895,3896,3896,3897,3897,3898,3898,3899,3899,3900,3900,3901,3901,3902,3902,3903,3903,3904,3904,3905,3905,3906,3906,3907,3907,3908,3908,3909,3909,3910,3910,3911,3911,3912,3912,3913,3913,3914,3914,3915,3915,3916,3916,3917,3917,3918,3918,3919,3919,3920,3920,3921,3921,3922,3922,3923,3923,3924,3924,3925,3925,3926,3926,3927,3927,3928,3928,3929,3929,3930,3930,3931,3931,3932,3932,3933,3933,3934,3934,3935,3935,3936,3936,3937,3937,3938,3938,3939,3939,3940,3940,3941,3941,3942,3942,3943,3943,3944,3944,3945,3945,3946,3946,3947,3947,3948,3948,3949,3949,3950,3950,3951,3951,3952,3952,3953,3953,3954,3954,3955,3955,3956,3956,3957,3957,3958,3958,3959,3959,3960,3960,3961,3961,3962,3962,3963,3963,3964,3964,3965,3965,3966,3966,3967,3967,3968,3968,3969,3969,3970,3970,3971,3971,3972,3972,3973,3973,3974,3974,3975,3975,3976,3976,3977,3977,3978,3978,3979,3979,3980,3980,3981,3981,3982,3982,3983,3983,3984,3984,3985,3985,3986,3986,3987,3987,3988,3988,3989,3989,3990,3990,3991,3991,3992,3992,3993,3993,3994,3994,3995,3995,3996,3996,3997,3997,3998,3998,3999,3999,4000,4000,4001,4001,4002,4002,4003,4003,4004,4004,4005,4005,4006,4006,4007,4007,4008,4008,4009,4009,4010,4010,4011,4011,4012,4012,4013,4013,4014,4014,4015,4015,4016,4016,4017,4017,4018,4018,4019,4019,4020,4020,4021,4021,4022,4022,4023,4023,4024,4024,4025,4025,4026,4026,4027,4027,4028,4028,4029,4029,4030,4030,4031,4031,4032,4032,4033,4033,4034,4034,4035,4035,4036,4036,4037,4037,4038,4038,4039,4039,4040,4040,4041,4041,4042,4042,4043,4043,4044,4044,4045,4045,4046,4046,4047,4047,4048,4048,4049,4049,4050,4050,4051,4051,4052,4052,4053,4053,4054,4054,4055,4055,4056,4056,4057,4057,4058,4058,4059,4059,4060,4060,4061,4061,4062,4062,4063,4063,4064,4064,4065,4065,4066,4066,4067,4067,4068,4068,4069,4069,4070,4070,4071,4071,4072,4072,4073,4073,4074,4074,4075,4075,4076,4076,4077,4077,4078,4078,4079,4079,4080,4080,4081,4081,4082,4082,4083,4083,4084,4084,4085,4085,4086,4086,4087,4087,4088,4088,4089,4089,4090,4090,4091,4091,4092,4092,4093,4093,4094,4094,4095,4095,4096,4096,4097,4097,4098,4098,4099,4099,4100,4100,4101,4101,4102,4102,4103,4103,4104,4104,4105,4105,4106,4106,4107,4107,4108,4108,4109,4109,4110,4110,4111,4111,4112,4112,4113,4113,4114,4114,4115,4115,4116,4116,4117,4117,4118,4118,4119,4119,4120,4120,4121,4121,4122,4122,4123,4123,4124,4124,4125,4125,4126,4126,4127,4127,4128,4128,4129,4129,4130,4130,4131,4131,4132,4132,4133,4133,4134,4134,4135,4135,4136,4136,4137,4137,4138,4138,4139,4139,4140,4140,4141,4141,4142,4142,4143,4143,4144,4144,4145,4145,4146,4146,4147,4147,4148,4148,4149,4149,4150,4150,4151,4151,4152,4152,4153,4153,4154,4154,4155,4155,4156,4156,4157,4157,4158,4158,4159,4159,4160,4160,4161,4161,4162,4162,4163,4163,4164,4164,4165,4165,4166,4166,4167,4167,4168,4168,4169,4169,4170,4170,4171,4171,4172,4172,4173,4173,4174,4174,4175,4175,4176,4176,4177,4177,4178,4178,4179,4179,4180,4180,4181,4181,4182,4182,4183,4183,4184,4184,4185,4185,4186,4186,4187,4187,4188,4188,4189,4189,4190,4190,4191,4191,4192,4192,4193,4193,4194,4194,4195,4195,4196,4196,4197,4197,4198,4198,4199,4199,4200,4200,4201,4201,4202,4202,4203,4203,4204,4204,4205,4205,4206,4206,4207,4207,4208,4208,4209,4209,4210,4210,4211,4211,4212,4212,4213,4213,4214,4214,4215,4215,4216,4216,4217,4217,4218,4218,4219,4219,4220,4220,4221,4221,4222,4222,4223,4223,4224,4224,4225,4225,4226,4226,4227,4227,4228,4228,4229,4229,4230,4230,4231,4231,4232,4232,4233,4233,4234,4234,4235,4235,4236,4236,4237,4237,4238,4238,4239,4239,4240,4240,4241,4241,4242,4242,4243,4243,4244,4244,4245,4245,4246,4246,4247,4247,4248,4248,4249,4249,4250,4250,4251,4251,4252,4252,4253,4253,4254,4254,4255,4255,4256,4256,4257,4257,4258,4258,4259,4259,4260,4260,4261,4261,4262,4262,4263,4263,4264,4264,4265,4265,4266,4266,4267,4267,4268,4268,4269,4269,4270,4270,4271,4271,4272,4272,4273,4273,4274,4274,4275,4275,4276,4276,4277,4277,4278,4278,4279,4279,4280,4280,4281,4281,4282,4282,4283,4283,4284,4284,4285,4285,4286,4286,4287,4287,4288,4288,4289,4289,4290,4290,4291,4291,4292,4292,4293,4293,4294,4294,4295,4295,4296,4296,4297,4297,4298,4298,4299,4299,4300,4300,4301,4301,4302,4302,4303,4303,4304,4304,4305,4305,4306,4306,4307,4307,4308,4308,4309,4309,4310,4310,4311,4311,4312,4312,4313,4313,4314,4314,4315,4315,4316,4316,4317,4317,4318,4318,4319,4319,4320,4320,4321,4321,4322,4322,4323,4323,4324,4324,4325,4325,4326,4326,4327,4327,4328,4328,4329,4329,4330,4330,4331,4331,4332,4332,4333,4333,4334,4334,4335,4335,4336,4336,4337,4337,4338,4338,4339,4339,4340,4340,4341,4341,4342,4342,4343,4343,4344,4344,4345,4345,4346,4346,4347,4347,4348,4348,4349,4349,4350,4350,4351,4351,4352,4352,4353,4353,4354,4354,4355,4355,4356,4356,4357,4357,4358,4358,4359,4359,4360,4360,4361,4361,4362,4362,4363,4363,4364,4364,4365,4365,4366,4366,4367,4367,4368,4368,4369,4369,4370,4370,4371,4371,4372,4372,4373,4373,4374,4374,4375,4375,4376,4376,4377,4377,4378,4378,4379,4379,4380,4380,4381,4381,4382,4382,4383,4383,4384,4384,4385,4385,4386,4386,4387,4387,4388,4388,4389,4389,4390,4390,4391,4391,4392,4392,4393,4393,4394,4394,4395,4395,4396,4396,4397,4397,4398,4398,4399,4399,4400,4400,4401,4401,4402,4402,4403,4403,4404,4404,4405,4405,4406,4406,4407,4407,4408,4408,4409,4409,4410,4410,4411,4411,4412,4412,4413,4413,4414,4414,4415,4415,4416,4416,4417,4417,4418,4418,4419,4419,4420,4420,4421,4421,4422,4422,4423,4423,4424,4424,4425,4425,4426,4426,4427,4427,4428,4428,4429,4429,4430,4430,4431,4431,4432,4432,4433,4433,4434,4434,4435,4435,4436,4436,4437,4437,4438,4438,4439,4439,4440,4440,4441,4441,4442,4442,4443,4443,4444,4444,4445,4445,4446,4446,4447,4447,4448,4448,4449,4449,4450,4450,4451,4451,4452,4452,4453,4453,4454,4454,4455,4455,4456,4456,4457,4457,4458,4458,4459,4459,4460,4460,4461,4461,4462,4462,4463,4463,4464,4464,4465,4465,4466,4466,4467,4467,4468,4468,4469,4469,4470,4470,4471,4471,4472,4472,4473,4473,4474,4474,4475,4475,4476,4476,4477,4477,4478,4478,4479,4479,4480,4480,4481,4481,4482,4482,4483,4483,4484,4484,4485,4485,4486,4486,4487,4487,4488,4488,4489,4489,4490,4490,4491,4491,4492,4492,4493,4493,4494,4494,4495,4495,4496,4496,4497,4497,4498,4498,4499,4499,4500,4500,4501,4501,4502,4502,4503,4503,4504,4504,4505,4505,4506,4506,4507,4507,4508,4508,4509,4509,4510,4510,4511,4511,4512,4512,4513,4513,4514,4514,4515,4515,4516,4516,4517,4517,4518,4518,4519,4519,4520,4520,4521,4521,4522,4522,4523,4523,4524,4524,4525,4525,4526,4526,4527,4527,4528,4528,4529,4529,4530,4530,4531,4531,4532,4532,4533,4533,4534,4534,4535,4535,4536,4536,4537,4537,4538,4538,4539,4539,4540,4540,4541,4541,4542,4542,4543,4543,4544,4544,4545,4545,4546,4546,4547,4547,4548,4548,4549,4549,4550,4550,4551,4551,4552,4552,4553,4553,4554,4554,4555,4555,4556,4556,4557,4557,4558,4558,4559,4559,4560,4560,4561,4561,4562,4562,4563,4563,4564,4564,4565,4565,4566,4566,4567,4567,4568,4568,4569,4569,4570,4570,4571,4571,4572,4572,4573,4573,4574,4574,4575,4575,4576,4576,4577,4577,4578,4578,4579,4579,4580,4580,4581,4581,4582,4582,4583,4583,4584,4584,4585,4585,4586,4586,4587,4587,4588,4588,4589,4589,4590,4590,4591,4591,4592,4592,4593,4593,4594,4594,4595,4595,4596,4596,4597,4597,4598,4598,4599,4599,4600,4600,4601,4601,4602,4602,4603,4603,4604,4604,4605,4605,4606,4606,4607,4607,4608,4608,4609,4609,4610,4610,4611,4611,4612,4612,4613,4613,4614,4614,4615,4615,4616,4616,4617,4617,4618,4618,4619,4619,4620,4620,4621,4621,4622,4622,4623,4623,4624,4624,4625,4625,4626,4626,4627,4627,4628,4628,4629,4629,4630,4630,4631,4631,4632,4632,4633,4633,4634,4634,4635,4635,4636,4636,4637,4637,4638,4638,4639,4639,4640,4640,4641,4641,4642,4642,4643,4643,4644,4644,4645,4645,4646,4646,4647,4647,4648,4648,4649,4649,4650,4650,4651,4651,4652,4652,4653,4653,4654,4654,4655,4655,4656,4656,4657,4657,4658,4658,4659,4659,4660,4660,4661,4661,4662,4662,4663,4663,4664,4664,4665,4665,4666,4666,4667,4667,4668,4668,4669,4669,4670,4670,4671,4671,4672,4672,4673,4673,4674,4674,4675,4675,4676,4676,4677,4677,4678,4678,4679,4679,4680,4680,4681,4681,4682,4682,4683,4683,4684,4684,4685,4685,4686,4686,4687,4687,4688,4688,4689,4689,4690,4690,4691,4691,4692,4692,4693,4693,4694,4694,4695,4695,4696,4696,4697,4697,4698,4698,4699,4699,4700,4700,4701,4701,4702,4702,4703,4703,4704,4704,4705,4705,4706,4706,4707,4707,4708,4708,4709,4709,4710,4710,4711,4711,4712,4712,4713,4713,4714,4714,4715,4715,4716,4716,4717,4717,4718,4718,4719,4719,4720,4720,4721,4721,4722,4722,4723,4723,4724,4724,4725,4725,4726,4726,4727,4727,4728,4728,4729,4729,4730,4730,4731,4731,4732,4732,4733,4733,4734,4734,4735,4735,4736,4736,4737,4737,4738,4738,4739,4739,4740,4740,4741,4741,4742,4742,4743,4743,4744,4744,4745,4745,4746,4746,4747,4747,4748,4748,4749,4749,4750,4750,4751,4751,4752,4752,4753,4753,4754,4754,4755,4755,4756,4756,4757,4757,4758,4758,4759,4759,4760,4760,4761,4761,4762,4762,4763,4763,4764,4764,4765,4765,4766,4766,4767,4767,4768,4768,4769,4769,4770,4770,4771,4771,4772,4772,4773,4773,4774,4774,4775,4775,4776,4776,4777,4777,4778,4778,4779,4779,4780,4780,4781,4781,4782,4782,4783,4783,4784,4784,4785,4785,4786,4786,4787,4787,4788,4788,4789,4789,4790,4790,4791,4791,4792,4792,4793,4793,4794,4794,4795,4795,4796,4796,4797,4797,4798,4798,4799,4799,4800,4800,4801,4801,4802,4802,4803,4803,4804,4804,4805,4805,4806,4806,4807,4807,4808,4808,4809,4809,4810,4810,4811,4811,4812,4812,4813,4813,4814,4814,4815,4815,4816,4816,4817,4817,4818,4818,4819,4819,4820,4820,4821,4821,4822,4822,4823,4823,4824,4824,4825,4825,4826,4826,4827,4827,4828,4828,4829,4829,4830,4830,4831,4831,4832,4832,4833,4833,4834,4834,4835,4835,4836,4836,4837,4837,4838,4838,4839,4839,4840,4840,4841,4841,4842,4842,4843,4843,4844,4844,4845,4845,4846,4846,4847,4847,4848,4848,4849,4849,4850,4850,4851,4851,4852,4852,4853,4853,4854,4854,4855,4855,4856,4856,4857,4857,4858,4858,4859,4859,4860,4860,4861,4861,4862,4862,4863,4863,4864,4864,4865,4865,4866,4866,4867,4867,4868,4868,4869,4869,4870,4870,4871,4871,4872,4872,4873,4873,4874,4874,4875,4875,4876,4876,4877,4877,4878,4878,4879,4879,4880,4880,4881,4881,4882,4882,4883,4883,4884,4884,4885,4885,4886,4886,4887,4887,4888,4888,4889,4889,4890,4890,4891,4891,4892,4892,4893,4893,4894,4894,4895,4895,4896,4896,4897,4897,4898,4898,4899,4899,4900,4900,4901,4901,4902,4902,4903,4903,4904,4904,4905,4905,4906,4906,4907,4907,4908,4908,4909,4909,4910,4910,4911,4911,4912,4912,4913,4913,4914,4914,4915,4915,4916,4916,4917,4917,4918,4918,4919,4919,4920,4920,4921,4921,4922,4922,4923,4923,4924,4924,4925,4925,4926,4926,4927,4927,4928,4928,4929,4929,4930,4930,4931,4931,4932,4932,4933,4933,4934,4934,4935,4935,4936,4936,4937,4937,4938,4938,4939,4939,4940,4940,4941,4941,4942,4942,4943,4943,4944,4944,4945,4945,4946,4946,4947,4947,4948,4948,4949,4949,4950,4950,4951,4951,4952,4952,4953,4953,4954,4954,4955,4955,4956,4956,4957,4957,4958,4958,4959,4959,4960,4960,4961,4961,4962,4962,4963,4963,4964,4964,4965,4965,4966,4966,4967,4967,4968,4968,4969,4969,4970,4970,4971,4971,4972,4972,4973,4973,4974,4974,4975,4975,4976,4976,4977,4977,4978,4978,4979,4979,4980,4980,4981,4981,4982,4982,4983,4983,4984,4984,4985,4985,4986,4986,4987,4987,4988,4988,4989,4989,4990,4990,4991,4991,4992,4992,4993,4993,4994,4994,4995,4995,4996,4996,4997,4997,4998,4998,4999,4999,5000,5000,5001,5001,5002,5002,5003,5003,5004,5004,5005,5005,5006,5006,5007,5007,5008,5008,5009,5009,5010,5010,5011,5011,5012,5012,5013,5013,5014,5014,5015,5015,5016,5016,5017,5017,5018,5018,5019,5019,5020,5020,5021,5021,5022,5022,5023,5023,5024,5024,5025,5025,5026,5026,5027,5027,5028,5028,5029,5029,5030,5030,5031,5031,5032,5032,5033,5033,5034,5034,5035,5035,5036,5036,5037,5037,5038,5038,5039,5039,5040,5040,5041,5041,5042,5042,5043,5043,5044,5044,5045,5045,5046,5046,5047,5047,5048,5048,5049,5049,5050,5050,5051,5051,5052,5052,5053,5053,5054,5054,5055,5055,5056,5056,5057,5057,5058,5058,5059,5059,5060,5060,5061,5061,5062,5062,5063,5063,5064,5064,5065,5065,5066,5066,5067,5067,5068,5068,5069,5069,5070,5070,5071,5071,5072,5072,5073,5073,5074,5074,5075,5075,5076,5076,5077,5077,5078,5078,5079,5079,5080,5080,5081,5081,5082,5082,5083,5083,5084,5084,5085,5085,5086,5086,5087,5087,5088,5088,5089,5089,5090,5090,5091,5091,5092,5092,5093,5093,5094,5094,5095,5095,5096,5096,5097,5097,5098,5098,5099,5099,5100,5100,5101,5101,5102,5102,5103,5103,5104,5104,5105,5105,5106,5106,5107,5107,5108,5108,5109,5109,5110,5110,5111,5111,5112,5112,5113,5113,5114,5114,5115,5115,5116,5116,5117,5117,5118,5118,5119,5119,5120,5120,5121,5121,5122,5122,5123,5123,5124,5124,5125,5125,5126,5126,5127,5127,5128,5128,5129,5129,5130,5130,5131,5131,5132,5132,5133,5133,5134,5134,5135,5135,5136,5136,5137,5137,5138,5138,5139,5139,5140,5140,5141,5141,5142,5142,5143,5143,5144,5144,5145,5145,5146,5146,5147,5147,5148,5148,5149,5149,5150,5150,5151,5151,5152,5152,5153,5153,5154,5154,5155,5155,5156,5156,5157,5157,5158,5158,5159,5159,5160,5160,5161,5161,5162,5162,5163,5163,5164,5164,5165,5165,5166,5166,5167,5167,5168,5168,5169,5169,5170,5170,5171,5171,5172,5172,5173,5173,5174,5174,5175,5175,5176,5176,5177,5177,5178,5178,5179,5179,5180,5180,5181,5181,5182,5182,5183,5183,5184,5184,5185,5185,5186,5186,5187,5187,5188,5188,5189,5189,5190,5190,5191,5191,5192,5192,5193,5193,5194,5194,5195,5195,5196,5196,5197,5197,5198,5198,5199,5199,5200,5200,5201,5201,5202,5202,5203,5203,5204,5204,5205,5205,5206,5206,5207,5207,5208,5208,5209,5209,5210,5210,5211,5211,5212,5212,5213,5213,5214,5214,5215,5215,5216,5216,5217,5217,5218,5218,5219,5219,5220,5220,5221,5221,5222,5222,5223,5223,5224,5224,5225,5225,5226,5226,5227,5227,5228,5228,5229,5229,5230,5230,5231,5231,5232,5232,5233,5233,5234,5234,5235,5235,5236,5236,5237,5237,5238,5238,5239,5239,5240,5240,5241,5241,5242,5242,5243,5243,5244,5244,5245,5245,5246,5246,5247,5247,5248,5248,5249,5249,5250,5250,5251,5251,5252,5252,5253,5253,5254,5254,5255,5255,5256,5256,5257,5257,5258,5258,5259,5259,5260,5260,5261,5261,5262,5262,5263,5263,5264,5264,5265,5265,5266,5266,5267,5267,5268,5268,5269,5269,5270,5270,5271,5271,5272,5272,5273,5273,5274,5274,5275,5275,5276,5276,5277,5277,5278,5278,5279,5279,5280,5280,5281,5281,5282,5282,5283,5283,5284,5284,5285,5285,5286,5286,5287,5287,5288,5288,5289,5289,5290,5290,5291,5291,5292,5292,5293,5293,5294,5294,5295,5295,5296,5296,5297,5297,5298,5298,5299,5299,5300,5300,5301,5301,5302,5302,5303,5303,5304,5304,5305,5305,5306,5306,5307,5307,5308,5308,5309,5309,5310,5310,5311,5311,5312,5312,5313,5313,5314,5314,5315,5315,5316,5316,5317,5317,5318,5318,5319,5319,5320,5320,5321,5321,5322,5322,5323,5323,5324,5324,5325,5325,5326,5326,5327,5327,5328,5328,5329,5329,5330,5330,5331,5331,5332,5332,5333,5333,5334,5334,5335,5335,5336,5336,5337,5337,5338,5338,5339,5339,5340,5340,5341,5341,5342,5342,5343,5343,5344,5344,5345,5345,5346,5346,5347,5347,5348,5348,5349,5349,5350,5350,5351,5351,5352,5352,5353,5353,5354,5354,5355,5355,5356,5356,5357,5357,5358,5358,5359,5359,5360,5360,5361,5361,5362,5362,5363,5363,5364,5364,5365,5365,5366,5366,5367,5367,5368,5368,5369,5369,5370,5370,5371,5371,5372,5372,5373,5373,5374,5374,5375,5375,5376,5376,5377,5377,5378,5378,5379,5379,5380,5380,5381,5381,5382,5382,5383,5383,5384,5384,5385,5385,5386,5386,5387,5387,5388,5388,5389,5389,5390,5390,5391,5391,5392,5392,5393,5393,5394,5394,5395,5395,5396,5396,5397,5397,5398,5398,5399,5399,5400,5400,5401,5401,5402,5402,5403,5403,5404,5404,5405,5405,5406,5406,5407,5407,5408,5408,5409,5409,5410,5410,5411,5411,5412,5412,5413,5413,5414,5414,5415,5415,5416,5416,5417,5417,5418,5418,5419,5419,5420,5420,5421,5421,5422,5422,5423,5423,5424,5424,5425,5425,5426,5426,5427,5427,5428,5428,5429,5429,5430,5430,5431,5431,5432,5432,5433,5433,5434,5434,5435,5435,5436,5436,5437,5437,5438,5438,5439,5439,5440,5440,5441,5441,5442,5442,5443,5443,5444,5444,5445,5445,5446,5446,5447,5447,5448,5448,5449,5449,5450,5450,5451,5451,5452,5452,5453,5453,5454,5454,5455,5455,5456,5456,5457,5457,5458,5458,5459,5459,5460,5460,5461,5461,5462,5462,5463,5463,5464,5464,5465,5465,5466,5466,5467,5467,5468,5468,5469,5469,5470,5470,5471,5471,5472,5472,5473,5473,5474,5474,5475,5475,5476,5476,5477,5477,5478,5478,5479,5479,5480,5480,5481,5481,5482,5482,5483,5483,5484,5484,5485,5485,5486,5486,5487,5487,5488,5488,5489,5489,5490,5490,5491,5491,5492,5492,5493,5493,5494,5494,5495,5495,5496,5496,5497,5497,5498,5498,5499,5499,5500,5500,5501,5501,5502,5502,5503,5503,5504,5504,5505,5505,5506,5506,5507,5507,5508,5508,5509,5509,5510,5510,5511,5511,5512,5512,5513,5513,5514,5514,5515,5515,5516,5516,5517,5517,5518,5518,5519,5519,5520,5520,5521,5521,5522,5522,5523,5523,5524,5524,5525,5525,5526,5526,5527,5527,5528,5528,5529,5529,5530,5530,5531,5531,5532,5532,5533,5533,5534,5534,5535,5535,5536,5536,5537,5537,5538,5538,5539,5539,5540,5540,5541,5541,5542,5542,5543,5543,5544,5544,5545,5545,5546,5546,5547,5547,5548,5548,5549,5549,5550,5550,5551,5551,5552,5552,5553,5553,5554,5554,5555,5555,5556,5556,5557,5557,5558,5558,5559,5559,5560,5560,5561,5561,5562,5562,5563,5563,5564,5564,5565,5565,5566,5566,5567,5567,5568,5568,5569,5569,5570,5570,5571,5571,5572,5572,5573,5573,5574,5574,5575,5575,5576,5576,5577,5577,5578,5578,5579,5579,5580,5580,5581,5581,5582,5582,5583,5583,5584,5584,5585,5585,5586,5586,5587,5587,5588,5588,5589,5589,5590,5590,5591,5591,5592,5592,5593,5593,5594,5594,5595,5595,5596,5596,5597,5597,5598,5598,5599,5599,5600,5600,5601,5601,5602,5602,5603,5603,5604,5604,5605,5605,5606,5606,5607,5607,5608,5608,5609,5609,5610,5610,5611,5611,5612,5612,5613,5613,5614,5614,5615,5615,5616,5616,5617,5617,5618,5618,5619,5619,5620,5620,5621,5621,5622,5622,5623,5623,5624,5624,5625,5625,5626,5626,5627,5627,5628,5628,5629,5629,5630,5630,5631,5631,5632,5632,5633,5633,5634,5634,5635,5635,5636,5636,5637,5637,5638,5638,5639,5639,5640,5640,5641,5641,5642,5642,5643,5643,5644,5644,5645,5645,5646,5646,5647,5647,5648,5648,5649,5649,5650,5650,5651,5651,5652,5652,5653,5653,5654,5654,5655,5655,5656,5656,5657,5657,5658,5658,5659,5659,5660,5660,5661,5661,5662,5662,5663,5663,5664,5664,5665,5665,5666,5666,5667,5667,5668,5668,5669,5669,5670,5670,5671,5671,5672,5672,5673,5673,5674,5674,5675,5675,5676,5676,5677,5677,5678,5678,5679,5679,5680,5680,5681,5681,5682,5682,5683,5683,5684,5684,5685,5685,5686,5686,5687,5687,5688,5688,5689,5689,5690,5690,5691,5691,5692,5692,5693,5693,5694,5694,5695,5695,5696,5696,5697,5697,5698,5698,5699,5699,5700,5700,5701,5701,5702,5702,5703,5703,5704,5704,5705,5705,5706,5706,5707,5707,5708,5708,5709,5709,5710,5710,5711,5711,5712,5712,5713,5713,5714,5714,5715,5715,5716,5716,5717,5717,5718,5718,5719,5719,5720,5720,5721,5721,5722,5722,5723,5723,5724,5724,5725,5725,5726,5726,5727,5727,5728,5728,5729,5729,5730,5730,5731,5731,5732,5732,5733,5733,5734,5734,5735,5735,5736,5736,5737,5737,5738,5738,5739,5739,5740,5740,5741,5741,5742,5742,5743,5743,5744,5744,5745,5745,5746,5746,5747,5747,5748,5748,5749,5749,5750,5750,5751,5751,5752,5752,5753,5753,5754,5754,5755,5755,5756,5756,5757,5757,5758,5758,5759,5759,5760,5760,5761,5761,5762,5762,5763,5763,5764,5764,5765,5765,5766,5766,5767,5767,5768,5768,5769,5769,5770,5770,5771,5771,5772,5772,5773,5773,5774,5774,5775,5775,5776,5776,5777,5777,5778,5778,5779,5779,5780,5780,5781,5781,5782,5782,5783,5783,5784,5784,5785,5785,5786,5786,5787,5787,5788,5788,5789,5789,5790,5790,5791,5791,5792,5792,5793,5793,5794,5794,5795,5795,5796,5796,5797,5797,5798,5798,5799,5799,5800,5800,5801,5801,5802,5802,5803,5803,5804,5804,5805,5805,5806,5806,5807,5807,5808,5808,5809,5809,5810,5810,5811,5811,5812,5812,5813,5813,5814,5814,5815,5815,5816,5816,5817,5817,5818,5818,5819,5819,5820,5820,5821,5821,5822,5822,5823,5823,5824,5824,5825,5825,5826,5826,5827,5827,5828,5828,5829,5829,5830,5830,5831,5831,5832,5832,5833,5833,5834,5834,5835,5835,5836,5836,5837,5837,5838,5838,5839,5839,5840,5840,5841,5841,5842,5842,5843,5843,5844,5844,5845,5845,5846,5846,5847,5847,5848,5848,5849,5849,5850,5850,5851,5851,5852,5852,5853,5853,5854,5854,5855,5855,5856,5856,5857,5857,5858,5858,5859,5859,5860,5860,5861,5861,5862,5862,5863,5863,5864,5864,5865,5865,5866,5866,5867,5867,5868,5868,5869,5869,5870,5870,5871,5871,5872,5872,5873,5873,5874,5874,5875,5875,5876,5876,5877,5877,5878,5878,5879,5879,5880,5880,5881,5881,5882,5882,5883,5883,5884,5884,5885,5885,5886,5886,5887,5887,5888,5888,5889,5889,5890,5890,5891,5891,5892,5892,5893,5893,5894,5894,5895,5895,5896,5896,5897,5897,5898,5898,5899,5899,5900,5900,5901,5901,5902,5902,5903,5903,5904,5904,5905,5905,5906,5906,5907,5907,5908,5908,5909,5909,5910,5910,5911,5911,5912,5912,5913,5913,5914,5914,5915,5915,5916,5916,5917,5917,5918,5918,5919,5919,5920,5920,5921,5921,5922,5922,5923,5923,5924,5924,5925,5925,5926,5926,5927,5927,5928,5928,5929,5929,5930,5930,5931,5931,5932,5932,5933,5933,5934,5934,5935,5935,5936,5936,5937,5937,5938,5938,5939,5939,5940,5940,5941,5941,5942,5942,5943,5943,5944,5944,5945,5945,5946,5946,5947,5947,5948,5948,5949,5949,5950,5950,5951,5951,5952,5952,5953,5953,5954,5954,5955,5955,5956,5956,5957,5957,5958,5958,5959,5959,5960,5960,5961,5961,5962,5962,5963,5963,5964,5964,5965,5965,5966,5966,5967,5967,5968,5968,5969,5969,5970,5970,5971,5971,5972,5972,5973,5973,5974,5974,5975,5975,5976,5976,5977,5977,5978,5978,5979,5979,5980,5980,5981,5981,5982,5982,5983,5983,5984,5984,5985,5985,5986,5986,5987,5987,5988,5988,5989,5989,5990,5990,5991,5991,5992,5992,5993,5993,5994,5994,5995,5995,5996,5996,5997,5997,5998,5998,5999,5999,6000,6000,6001,6001,6002,6002,6003,6003,6004,6004,6005,6005,6006,6006,6007,6007,6008,6008,6009,6009,6010,6010,6011,6011,6012,6012,6013,6013,6014,6014,6015,6015,6016,6016,6017,6017,6018,6018,6019,6019,6020,6020,6021,6021,6022,6022,6023,6023,6024,6024,6025,6025,6026,6026,6027,6027,6028,6028,6029,6029,6030,6030,6031,6031,6032,6032,6033,6033,6034,6034,6035,6035,6036,6036,6037,6037,6038,6038,6039,6039,6040,6040,6041,6041,6042,6042,6043,6043,6044,6044,6045,6045,6046,6046,6047,6047,6048,6048,6049,6049,6050,6050,6051,6051,6052,6052,6053,6053,6054,6054,6055,6055,6056,6056,6057,6057,6058,6058,6059,6059,6060,6060,6061,6061,6062,6062,6063,6063,6064,6064,6065,6065,6066,6066,6067,6067,6068,6068,6069,6069,6070,6070,6071,6071,6072,6072,6073,6073,6074,6074,6075,6075,6076,6076,6077,6077,6078,6078,6079,6079,6080,6080,6081,6081,6082,6082,6083,6083,6084,6084,6085,6085,6086,6086,6087,6087,6088,6088,6089,6089,6090,6090,6091,6091,6092,6092,6093,6093,6094,6094,6095,6095,6096,6096,6097,6097,6098,6098,6099,6099,6100,6100,6101,6101,6102,6102,6103,6103,6104,6104,6105,6105,6106,6106,6107,6107,6108,6108,6109,6109,6110,6110,6111,6111,6112,6112,6113,6113,6114,6114,6115,6115,6116,6116,6117,6117,6118,6118,6119,6119,6120,6120,6121,6121,6122,6122,6123,6123,6124,6124,6125,6125,6126,6126,6127,6127,6128,6128,6129,6129,6130,6130,6131,6131,6132,6132,6133,6133,6134,6134,6135,6135,6136,6136,6137,6137,6138,6138,6139,6139,6140,6140,6141,6141,6142,6142,6143,6143,6144,6144,6145,6145,6146,6146,6147,6147,6148,6148,6149,6149,6150,6150,6151,6151,6152,6152,6153,6153,6154,6154,6155,6155,6156,6156,6157,6157,6158,6158,6159,6159,6160,6160,6161,6161,6162,6162,6163,6163,6164,6164,6165,6165,6166,6166,6167,6167,6168,6168,6169,6169,6170,6170,6171,6171,6172,6172,6173,6173,6174,6174,6175,6175,6176,6176,6177,6177,6178,6178,6179,6179,6180,6180,6181,6181,6182,6182,6183,6183,6184,6184,6185,6185,6186,6186,6187,6187,6188,6188,6189,6189,6190,6190,6191,6191,6192,6192,6193,6193,6194,6194,6195,6195,6196,6196,6197,6197,6198,6198,6199,6199,6200,6200,6201,6201,6202,6202,6203,6203,6204,6204,6205,6205,6206,6206,6207,6207,6208,6208,6209,6209,6210,6210,6211,6211,6212,6212,6213,6213,6214,6214,6215,6215,6216,6216,6217,6217,6218,6218,6219,6219,6220,6220,6221,6221,6222,6222,6223,6223,6224,6224,6225,6225,6226,6226,6227,6227,6228,6228,6229,6229,6230,6230,6231,6231,6232,6232,6233,6233,6234,6234,6235,6235,6236,6236,6237,6237,6238,6238,6239,6239,6240,6240,6241,6241,6242,6242,6243,6243,6244,6244,6245,6245,6246,6246,6247,6247,6248,6248,6249,6249,6250,6250,6251,6251,6252,6252,6253,6253,6254,6254,6255,6255,6256,6256,6257,6257,6258,6258,6259,6259,6260,6260,6261,6261,6262,6262,6263,6263,6264,6264,6265,6265,6266,6266,6267,6267,6268,6268,6269,6269,6270,6270,6271,6271,6272,6272,6273,6273,6274,6274,6275,6275,6276,6276,6277,6277,6278,6278,6279,6279,6280,6280,6281,6281,6282,6282,6283,6283,6284,6284,6285,6285,6286,6286,6287,6287,6288,6288,6289,6289,6290,6290,6291,6291,6292,6292,6293,6293,6294,6294,6295,6295,6296,6296,6297,6297,6298,6298,6299,6299,6300,6300,6301,6301,6302,6302,6303,6303,6304,6304,6305,6305,6306,6306,6307,6307,6308,6308,6309,6309,6310,6310,6311,6311,6312,6312,6313,6313,6314,6314,6315,6315,6316,6316,6317,6317,6318,6318,6319,6319,6320,6320,6321,6321,6322,6322,6323,6323,6324,6324,6325,6325,6326,6326,6327,6327,6328,6328,6329,6329,6330,6330,6331,6331,6332,6332,6333,6333,6334,6334,6335,6335,6336,6336,6337,6337,6338,6338,6339,6339,6340,6340,6341,6341,6342,6342,6343,6343,6344,6344,6345,6345,6346,6346,6347,6347,6348,6348,6349,6349,6350,6350,6351,6351,6352,6352,6353,6353,6354,6354,6355,6355,6356,6356,6357,6357,6358,6358,6359,6359,6360,6360,6361,6361,6362,6362,6363,6363,6364,6364,6365,6365,6366,6366,6367,6367,6368,6368,6369,6369,6370,6370,6371,6371,6372,6372,6373,6373,6374,6374,6375,6375,6376,6376,6377,6377,6378,6378,6379,6379,6380,6380,6381,6381,6382,6382,6383,6383,6384,6384,6385,6385,6386,6386,6387,6387,6388,6388,6389,6389,6390,6390,6391,6391,6392,6392,6393,6393,6394,6394,6395,6395,6396,6396,6397,6397,6398,6398,6399,6399,6400,6400,6401,6401,6402,6402,6403,6403,6404,6404,6405,6405,6406,6406,6407,6407,6408,6408,6409,6409,6410,6410,6411,6411,6412,6412,6413,6413,6414,6414,6415,6415,6416,6416,6417,6417,6418,6418,6419,6419,6420,6420,6421,6421,6422,6422,6423,6423,6424,6424,6425,6425,6426,6426,6427,6427,6428,6428,6429,6429,6430,6430,6431,6431,6432,6432,6433,6433,6434,6434,6435,6435,6436,6436,6437,6437,6438,6438,6439,6439,6440,6440,6441,6441,6442,6442,6443,6443,6444,6444,6445,6445,6446,6446,6447,6447,6448,6448,6449,6449,6450,6450,6451,6451,6452,6452,6453,6453,6454,6454,6455,6455,6456,6456,6457,6457,6458,6458,6459,6459,6460,6460,6461,6461,6462,6462,6463,6463,6464,6464,6465,6465,6466,6466,6467,6467,6468,6468,6469,6469,6470,6470,6471,6471,6472,6472,6473,6473,6474,6474,6475,6475,6476,6476,6477,6477,6478,6478,6479,6479,6480,6480,6481,6481,6482,6482,6483,6483,6484,6484,6485,6485,6486,6486,6487,6487,6488,6488,6489,6489,6490,6490,6491,6491,6492,6492,6493,6493,6494,6494,6495,6495,6496,6496,6497,6497,6498,6498,6499,6499,6500,6500,6501,6501,6502,6502,6503,6503,6504,6504,6505,6505,6506,6506,6507,6507,6508,6508,6509,6509,6510,6510,6511,6511,6512,6512,6513,6513,6514,6514,6515,6515,6516,6516,6517,6517,6518,6518,6519,6519,6520,6520,6521,6521,6522,6522,6523,6523,6524,6524,6525,6525,6526,6526,6527,6527,6528,6528,6529,6529,6530,6530,6531,6531,6532,6532,6533,6533,6534,6534,6535,6535,6536,6536,6537,6537,6538,6538,6539,6539,6540,6540,6541,6541,6542,6542,6543,6543,6544,6544,6545,6545,6546,6546,6547,6547,6548,6548,6549,6549,6550,6550,6551,6551,6552,6552,6553,6553,6554,6554,6555,6555,6556,6556,6557,6557,6558,6558,6559,6559,6560,6560,6561,6561,6562,6562,6563,6563,6564,6564,6565,6565,6566,6566,6567,6567,6568,6568,6569,6569,6570,6570,6571,6571,6572,6572,6573,6573,6574,6574,6575,6575,6576,6576,6577,6577,6578,6578,6579,6579,6580,6580,6581,6581,6582,6582,6583,6583,6584,6584,6585,6585,6586,6586,6587,6587,6588,6588,6589,6589,6590,6590,6591,6591,6592,6592,6593,6593,6594,6594,6595,6595,6596,6596,6597,6597,6598,6598,6599,6599,6600,6600,6601,6601,6602,6602,6603,6603,6604,6604,6605,6605,6606,6606,6607,6607,6608,6608,6609,6609,6610,6610,6611,6611,6612,6612,6613,6613,6614,6614,6615,6615,6616,6616,6617,6617,6618,6618,6619,6619,6620,6620,6621,6621,6622,6622,6623,6623,6624,6624,6625,6625,6626,6626,6627,6627,6628,6628,6629,6629,6630,6630,6631,6631,6632,6632,6633,6633,6634,6634,6635,6635,6636,6636,6637,6637,6638,6638,6639,6639,6640,6640,6641,6641,6642,6642,6643,6643,6644,6644,6645,6645,6646,6646,6647,6647,6648,6648,6649,6649,6650,6650,6651,6651,6652,6652,6653,6653,6654,6654,6655,6655,6656,6656,6657,6657,6658,6658,6659,6659,6660,6660,6661,6661,6662,6662,6663,6663,6664,6664,6665,6665,6666,6666,6667,6667,6668,6668,6669,6669,6670,6670,6671,6671,6672,6672,6673,6673,6674,6674,6675,6675,6676,6676,6677,6677,6678,6678,6679,6679,6680,6680,6681,6681,6682,6682,6683,6683,6684,6684,6685,6685,6686,6686,6687,6687,6688,6688,6689,6689,6690,6690,6691,6691,6692,6692,6693,6693,6694,6694,6695,6695,6696,6696,6697,6697,6698,6698,6699,6699,6700,6700,6701,6701,6702,6702,6703,6703,6704,6704,6705,6705,6706,6706,6707,6707,6708,6708,6709,6709,6710,6710,6711,6711,6712,6712,6713,6713,6714,6714,6715,6715,6716,6716,6717,6717,6718,6718,6719,6719,6720,6720,6721,6721,6722,6722,6723,6723,6724,6724,6725,6725,6726,6726,6727,6727,6728,6728,6729,6729,6730,6730,6731,6731,6732,6732,6733,6733,6734,6734,6735,6735,6736,6736,6737,6737,6738,6738,6739,6739,6740,6740,6741,6741,6742,6742,6743,6743,6744,6744,6745,6745,6746,6746,6747,6747,6748,6748,6749,6749,6750,6750,6751,6751,6752,6752,6753,6753,6754,6754,6755,6755,6756,6756,6757,6757,6758,6758,6759,6759,6760,6760,6761,6761,6762,6762,6763,6763,6764,6764,6765,6765,6766,6766,6767,6767,6768,6768,6769,6769,6770,6770,6771,6771,6772,6772,6773,6773,6774,6774,6775,6775,6776,6776,6777,6777,6778,6778,6779,6779,6780,6780,6781,6781,6782,6782,6783,6783,6784,6784,6785,6785,6786,6786,6787,6787,6788,6788,6789,6789,6790,6790,6791,6791,6792,6792,6793,6793,6794,6794,6795,6795,6796,6796,6797,6797,6798,6798,6799,6799,6800,6800,6801,6801,6802,6802,6803,6803,6804,6804,6805,6805,6806,6806,6807,6807,6808,6808,6809,6809,6810,6810,6811,6811,6812,6812,6813,6813,6814,6814,6815,6815,6816,6816,6817,6817,6818,6818,6819,6819,6820,6820,6821,6821,6822,6822,6823,6823,6824,6824,6825,6825,6826,6826,6827,6827,6828,6828,6829,6829,6830,6830,6831,6831,6832,6832,6833,6833,6834,6834,6835,6835,6836,6836,6837,6837,6838,6838,6839,6839,6840,6840,6841,6841,6842,6842,6843,6843,6844,6844,6845,6845,6846,6846,6847,6847,6848,6848,6849,6849,6850,6850,6851,6851,6852,6852,6853,6853,6854,6854,6855,6855,6856,6856,6857,6857,6858,6858,6859,6859,6860,6860,6861,6861,6862,6862,6863,6863,6864,6864,6865,6865,6866,6866,6867,6867,6868,6868,6869,6869,6870,6870,6871,6871,6872,6872,6873,6873,6874,6874,6875,6875,6876,6876,6877,6877,6878,6878,6879,6879,6880,6880,6881,6881,6882,6882,6883,6883,6884,6884,6885,6885,6886,6886,6887,6887,6888,6888,6889,6889,6890,6890,6891,6891,6892,6892,6893,6893,6894,6894,6895,6895,6896,6896,6897,6897,6898,6898,6899,6899,6900,6900,6901,6901,6902,6902,6903,6903,6904,6904,6905,6905,6906,6906,6907,6907,6908,6908,6909,6909,6910,6910,6911,6911,6912,6912,6913,6913,6914,6914,6915,6915,6916,6916,6917,6917,6918,6918,6919,6919,6920,6920,6921,6921,6922,6922,6923,6923,6924,6924,6925,6925,6926,6926,6927,6927,6928,6928,6929,6929,6930,6930,6931,6931,6932,6932,6933,6933,6934,6934,6935,6935,6936,6936,6937,6937,6938,6938,6939,6939,6940,6940,6941,6941,6942,6942,6943,6943,6944,6944,6945,6945,6946,6946,6947,6947,6948,6948,6949,6949,6950,6950,6951,6951,6952,6952,6953,6953,6954,6954,6955,6955,6956,6956,6957,6957,6958,6958,6959,6959,6960,6960,6961,6961,6962,6962,6963,6963,6964,6964,6965,6965,6966,6966,6967,6967,6968,6968,6969,6969,6970,6970,6971,6971,6972,6972,6973,6973,6974,6974,6975,6975,6976,6976,6977,6977,6978,6978,6979,6979,6980,6980,6981,6981,6982,6982,6983,6983,6984,6984,6985,6985,6986,6986,6987,6987,6988,6988,6989,6989,6990,6990,6991,6991,6992,6992,6993,6993,6994,6994,6995,6995,6996,6996,6997,6997,6998,6998,6999,6999,7000,7000,7001,7001,7002,7002,7003,7003,7004,7004,7005,7005,7006,7006,7007,7007,7008,7008,7009,7009,7010,7010,7011,7011,7012,7012,7013,7013,7014,7014,7015,7015,7016,7016,7017,7017,7018,7018,7019,7019,7020,7020,7021,7021,7022,7022,7023,7023,7024,7024,7025,7025,7026,7026,7027,7027,7028,7028,7029,7029,7030,7030,7031,7031,7032,7032,7033,7033,7034,7034,7035,7035,7036,7036,7037,7037,7038,7038,7039,7039,7040,7040,7041,7041,7042,7042,7043,7043,7044,7044,7045,7045,7046,7046,7047,7047,7048,7048,7049,7049,7050,7050,7051,7051,7052,7052,7053,7053,7054,7054,7055,7055,7056,7056,7057,7057,7058,7058,7059,7059,7060,7060,7061,7061,7062,7062,7063,7063,7064,7064,7065,7065,7066,7066,7067,7067,7068,7068,7069,7069,7070,7070,7071,7071,7072,7072,7073,7073,7074,7074,7075,7075,7076,7076,7077,7077,7078,7078,7079,7079,7080,7080,7081,7081,7082,7082,7083,7083,7084,7084,7085,7085,7086,7086,7087,7087,7088,7088,7089,7089,7090,7090,7091,7091,7092,7092,7093,7093,7094,7094,7095,7095,7096,7096,7097,7097,7098,7098,7099,7099,7100,7100,7101,7101,7102,7102,7103,7103,7104,7104,7105,7105,7106,7106,7107,7107,7108,7108,7109,7109,7110,7110,7111,7111,7112,7112,7113,7113,7114,7114,7115,7115,7116,7116,7117,7117,7118,7118,7119,7119,7120,7120,7121,7121,7122,7122,7123,7123,7124,7124,7125,7125,7126,7126,7127,7127,7128,7128,7129,7129,7130,7130,7131,7131,7132,7132,7133,7133,7134,7134,7135,7135,7136,7136,7137,7137,7138,7138,7139,7139,7140,7140,7141,7141,7142,7142,7143,7143,7144,7144,7145,7145,7146,7146,7147,7147,7148,7148,7149,7149,7150,7150,7151,7151,7152,7152,7153,7153,7154,7154,7155,7155,7156,7156,7157,7157,7158,7158,7159,7159,7160,7160,7161,7161,7162,7162,7163,7163,7164,7164,7165,7165,7166,7166,7167,7167,7168,7168,7169,7169,7170,7170,7171,7171,7172,7172,7173,7173,7174,7174,7175,7175,7176,7176,7177,7177,7178,7178,7179,7179,7180,7180,7181,7181,7182,7182,7183,7183,7184,7184,7185,7185,7186,7186,7187,7187,7188,7188,7189,7189,7190,7190,7191,7191,7192,7192,7193,7193,7194,7194,7195,7195,7196,7196,7197,7197,7198,7198,7199,7199,7200,7200,7201,7201,7202,7202,7203,7203,7204,7204,7205,7205,7206,7206,7207,7207,7208,7208,7209,7209,7210,7210,7211,7211,7212,7212,7213,7213,7214,7214,7215,7215,7216,7216,7217,7217,7218,7218,7219,7219,7220,7220,7221,7221,7222,7222,7223,7223,7224,7224,7225,7225,7226,7226,7227,7227,7228,7228,7229,7229,7230,7230,7231,7231,7232,7232,7233,7233,7234,7234,7235,7235,7236,7236,7237,7237,7238,7238,7239,7239,7240,7240,7241,7241,7242,7242,7243,7243,7244,7244,7245,7245,7246,7246,7247,7247,7248,7248,7249,7249,7250,7250,7251,7251,7252,7252,7253,7253,7254,7254,7255,7255,7256,7256,7257,7257,7258,7258,7259,7259,7260,7260,7261,7261,7262,7262,7263,7263,7264,7264,7265,7265,7266,7266,7267,7267,7268,7268,7269,7269,7270,7270,7271,7271,7272,7272,7273,7273,7274,7274,7275,7275,7276,7276,7277,7277,7278,7278,7279,7279,7280,7280,7281,7281,7282,7282,7283,7283,7284,7284,7285,7285,7286,7286,7287,7287,7288,7288,7289,7289,7290,7290,7291,7291,7292,7292,7293,7293,7294,7294,7295,7295,7296,7296,7297,7297,7298,7298,7299,7299,7300,7300,7301,7301,7302,7302,7303,7303,7304,7304,7305,7305,7306,7306,7307,7307,7308,7308,7309,7309,7310,7310,7311,7311,7312,7312,7313,7313,7314,7314,7315,7315,7316,7316,7317,7317,7318,7318,7319,7319,7320,7320,7321,7321,7322,7322,7323,7323,7324,7324,7325,7325,7326,7326,7327,7327,7328,7328,7329,7329,7330,7330,7331,7331,7332,7332,7333,7333,7334,7334,7335,7335,7336,7336,7337,7337,7338,7338,7339,7339,7340,7340,7341,7341,7342,7342,7343,7343,7344,7344,7345,7345,7346,7346,7347,7347,7348,7348,7349,7349,7350,7350,7351,7351,7352,7352,7353,7353,7354,7354,7355,7355,7356,7356,7357,7357,7358,7358,7359,7359,7360,7360,7361,7361,7362,7362,7363,7363,7364,7364,7365,7365,7366,7366,7367,7367,7368,7368,7369,7369,7370,7370,7371,7371,7372,7372,7373,7373,7374,7374,7375,7375,7376,7376,7377,7377,7378,7378,7379,7379,7380,7380,7381,7381,7382,7382,7383,7383,7384,7384,7385,7385,7386,7386,7387,7387,7388,7388,7389,7389,7390,7390,7391,7391,7392,7392,7393,7393,7394,7394,7395,7395,7396,7396,7397,7397,7398,7398,7399,7399,7400,7400,7401,7401,7402,7402,7403,7403,7404,7404,7405,7405,7406,7406,7407,7407,7408,7408,7409,7409,7410,7410,7411,7411,7412,7412,7413,7413,7414,7414,7415,7415,7416,7416,7417,7417,7418,7418,7419,7419,7420,7420,7421,7421,7422,7422,7423,7423,7424,7424,7425,7425,7426,7426,7427,7427,7428,7428,7429,7429,7430,7430,7431,7431,7432,7432,7433,7433,7434,7434,7435,7435,7436,7436,7437,7437,7438,7438,7439,7439,7440,7440,7441,7441,7442,7442,7443,7443,7444,7444,7445,7445,7446,7446,7447,7447,7448,7448,7449,7449,7450,7450,7451,7451,7452,7452,7453,7453,7454,7454,7455,7455,7456,7456,7457,7457,7458,7458,7459,7459,7460,7460,7461,7461,7462,7462,7463,7463,7464,7464,7465,7465,7466,7466,7467,7467,7468,7468,7469,7469,7470,7470,7471,7471,7472,7472,7473,7473,7474,7474,7475,7475,7476,7476,7477,7477,7478,7478,7479,7479,7480,7480,7481,7481,7482,7482,7483,7483,7484,7484,7485,7485,7486,7486,7487,7487,7488,7488,7489,7489,7490,7490,7491,7491,7492,7492,7493,7493,7494,7494,7495,7495,7496,7496,7497,7497,7498,7498,7499,7499,7500,7500,7501,7501,7502,7502,7503,7503,7504,7504,7505,7505,7506,7506,7507,7507,7508,7508,7509,7509,7510,7510,7511,7511,7512,7512,7513,7513,7514,7514,7515,7515,7516,7516,7517,7517,7518,7518,7519,7519,7520,7520,7521,7521,7522,7522,7523,7523,7524,7524,7525,7525,7526,7526,7527,7527,7528,7528,7529,7529,7530,7530,7531,7531,7532,7532,7533,7533,7534,7534,7535,7535,7536,7536,7537,7537,7538,7538,7539,7539,7540,7540,7541,7541,7542,7542,7543,7543,7544,7544,7545,7545,7546,7546,7547,7547,7548,7548,7549,7549,7550,7550,7551,7551,7552,7552,7553,7553,7554,7554,7555,7555,7556,7556,7557,7557,7558,7558,7559,7559,7560,7560,7561,7561,7562,7562,7563,7563,7564,7564,7565,7565,7566,7566,7567,7567,7568,7568,7569,7569,7570,7570,7571,7571,7572,7572,7573,7573,7574,7574,7575,7575,7576,7576,7577,7577,7578,7578,7579,7579,7580,7580,7581,7581,7582,7582,7583,7583,7584,7584,7585,7585,7586,7586,7587,7587,7588,7588,7589,7589,7590,7590,7591,7591,7592,7592,7593,7593,7594,7594,7595,7595,7596,7596,7597,7597,7598,7598,7599,7599,7600,7600,7601,7601,7602,7602,7603,7603,7604,7604,7605,7605,7606,7606,7607,7607,7608,7608,7609,7609,7610,7610,7611,7611,7612,7612,7613,7613,7614,7614,7615,7615,7616,7616,7617,7617,7618,7618,7619,7619,7620,7620,7621,7621,7622,7622,7623,7623,7624,7624,7625,7625,7626,7626,7627,7627,7628,7628,7629,7629,7630,7630,7631,7631,7632,7632,7633,7633,7634,7634,7635,7635,7636,7636,7637,7637,7638,7638,7639,7639,7640,7640,7641,7641,7642,7642,7643,7643,7644,7644,7645,7645,7646,7646,7647,7647,7648,7648,7649,7649,7650,7650,7651,7651,7652,7652,7653,7653,7654,7654,7655,7655,7656,7656,7657,7657,7658,7658,7659,7659,7660,7660,7661,7661,7662,7662,7663,7663,7664,7664,7665,7665,7666,7666,7667,7667,7668,7668,7669,7669,7670,7670,7671,7671,7672,7672,7673,7673,7674,7674,7675,7675,7676,7676,7677,7677,7678,7678,7679,7679,7680,7680,7681,7681,7682,7682,7683,7683,7684,7684,7685,7685,7686,7686,7687,7687,7688,7688,7689,7689,7690,7690,7691,7691,7692,7692,7693,7693,7694,7694,7695,7695,7696,7696,7697,7697,7698,7698,7699,7699,7700,7700,7701,7701,7702,7702,7703,7703,7704,7704,7705,7705,7706,7706,7707,7707,7708,7708,7709,7709,7710,7710,7711,7711,7712,7712,7713,7713,7714,7714,7715,7715,7716,7716,7717,7717,7718,7718,7719,7719,7720,7720,7721,7721,7722,7722,7723,7723,7724,7724,7725,7725,7726,7726,7727,7727,7728,7728,7729,7729,7730,7730,7731,7731,7732,7732,7733,7733,7734,7734,7735,7735,7736,7736,7737,7737,7738,7738,7739,7739,7740,7740,7741,7741,7742,7742,7743,7743,7744,7744,7745,7745,7746,7746,7747,7747,7748,7748,7749,7749,7750,7750,7751,7751,7752,7752,7753,7753,7754,7754,7755,7755,7756,7756,7757,7757,7758,7758,7759,7759,7760,7760,7761,7761,7762,7762,7763,7763,7764,7764,7765,7765,7766,7766,7767,7767,7768,7768,7769,7769,7770,7770,7771,7771,7772,7772,7773,7773,7774,7774,7775,7775,7776,7776,7777,7777,7778,7778,7779,7779,7780,7780,7781,7781,7782,7782,7783,7783,7784,7784,7785,7785,7786,7786,7787,7787,7788,7788,7789,7789,7790,7790,7791,7791,7792,7792,7793,7793,7794,7794,7795,7795,7796,7796,7797,7797,7798,7798,7799,7799,7800,7800,7801,7801,7802,7802,7803,7803,7804,7804,7805,7805,7806,7806,7807,7807,7808,7808,7809,7809,7810,7810,7811,7811,7812,7812,7813,7813,7814,7814,7815,7815,7816,7816,7817,7817,7818,7818,7819,7819,7820,7820,7821,7821,7822,7822,7823,7823,7824,7824,7825,7825,7826,7826,7827,7827,7828,7828,7829,7829,7830,7830,7831,7831,7832,7832,7833,7833,7834,7834,7835,7835,7836,7836,7837,7837,7838,7838,7839,7839,7840,7840,7841,7841,7842,7842,7843,7843,7844,7844,7845,7845,7846,7846,7847,7847,7848,7848,7849,7849,7850,7850,7851,7851,7852,7852,7853,7853,7854,7854,7855,7855,7856,7856,7857,7857,7858,7858,7859,7859,7860,7860,7861,7861,7862,7862,7863,7863,7864,7864,7865,7865,7866,7866,7867,7867,7868,7868,7869,7869,7870,7870,7871,7871,7872,7872,7873,7873,7874,7874,7875,7875,7876,7876,7877,7877,7878,7878,7879,7879,7880,7880,7881,7881,7882,7882,7883,7883,7884,7884,7885,7885,7886,7886,7887,7887,7888,7888,7889,7889,7890,7890,7891,7891,7892,7892,7893,7893,7894,7894,7895,7895,7896,7896,7897,7897,7898,7898,7899,7899,7900,7900,7901,7901,7902,7902,7903,7903,7904,7904,7905,7905,7906,7906,7907,7907,7908,7908,7909,7909,7910,7910,7911,7911,7912,7912,7913,7913,7914,7914,7915,7915,7916,7916,7917,7917,7918,7918,7919,7919,7920,7920,7921,7921,7922,7922,7923,7923,7924,7924,7925,7925,7926,7926,7927,7927,7928,7928,7929,7929,7930,7930,7931,7931,7932,7932,7933,7933,7934,7934,7935,7935,7936,7936,7937,7937,7938,7938,7939,7939,7940,7940,7941,7941,7942,7942,7943,7943,7944,7944,7945,7945,7946,7946,7947,7947,7948,7948,7949,7949,7950,7950,7951,7951,7952,7952,7953,7953,7954,7954,7955,7955,7956,7956,7957,7957,7958,7958,7959,7959,7960,7960,7961,7961,7962,7962,7963,7963,7964,7964,7965,7965,7966,7966,7967,7967,7968,7968,7969,7969,7970,7970,7971,7971,7972,7972,7973,7973,7974,7974,7975,7975,7976,7976,7977,7977,7978,7978,7979,7979,7980,7980,7981,7981,7982,7982,7983,7983,7984,7984,7985,7985,7986,7986,7987,7987,7988,7988,7989,7989,7990,7990,7991,7991,7992,7992,7993,7993,7994,7994,7995,7995,7996,7996,7997,7997,7998,7998,7999,7999,8000,8000,8001,8001,8002,8002,8003,8003,8004,8004,8005,8005,8006,8006,8007,8007,8008,8008,8009,8009,8010,8010,8011,8011,8012,8012,8013,8013,8014,8014,8015,8015,8016,8016,8017,8017,8018,8018,8019,8019,8020,8020,8021,8021,8022,8022,8023,8023,8024,8024,8025,8025,8026,8026,8027,8027,8028,8028,8029,8029,8030,8030,8031,8031,8032,8032,8033,8033,8034,8034,8035,8035,8036,8036,8037,8037,8038,8038,8039,8039,8040,8040,8041,8041,8042,8042,8043,8043,8044,8044,8045,8045,8046,8046,8047,8047,8048,8048,8049,8049,8050,8050,8051,8051,8052,8052,8053,8053,8054,8054,8055,8055,8056,8056,8057,8057,8058,8058,8059,8059,8060,8060,8061,8061,8062,8062,8063,8063,8064,8064,8065,8065,8066,8066,8067,8067,8068,8068,8069,8069,8070,8070,8071,8071,8072,8072,8073,8073,8074,8074,8075,8075,8076,8076,8077,8077,8078,8078,8079,8079,8080,8080,8081,8081,8082,8082,8083,8083,8084,8084,8085,8085,8086,8086,8087,8087,8088,8088,8089,8089,8090,8090,8091,8091,8092,8092,8093,8093,8094,8094,8095,8095,8096,8096,8097,8097,8098,8098,8099,8099,8100,8100,8101,8101,8102,8102,8103,8103,8104,8104,8105,8105,8106,8106,8107,8107,8108,8108,8109,8109,8110,8110,8111,8111,8112,8112,8113,8113,8114,8114,8115,8115,8116,8116,8117,8117,8118,8118,8119,8119,8120,8120,8121,8121,8122,8122,8123,8123,8124,8124,8125,8125,8126,8126,8127,8127,8128,8128,8129,8129,8130,8130,8131,8131,8132,8132,8133,8133,8134,8134,8135,8135,8136,8136,8137,8137,8138,8138,8139,8139,8140,8140,8141,8141,8142,8142,8143,8143,8144,8144,8145,8145,8146,8146,8147,8147,8148,8148,8149,8149,8150,8150,8151,8151,8152,8152,8153,8153,8154,8154,8155,8155,8156,8156,8157,8157,8158,8158,8159,8159,8160,8160,8161,8161,8162,8162,8163,8163,8164,8164,8165,8165,8166,8166,8167,8167,8168,8168,8169,8169,8170,8170,8171,8171,8172,8172,8173,8173,8174,8174,8175,8175,8176,8176,8177,8177,8178,8178,8179,8179,8180,8180,8181,8181,8182,8182,8183,8183,8184,8184,8185,8185,8186,8186,8187,8187,8188,8188,8189,8189,8190,8190,8191,8191,8192,8192,8193,8193,8194,8194,8195,8195,8196,8196,8197,8197,8198,8198,8199,8199,8200,8200,8201,8201,8202,8202,8203,8203,8204,8204,8205,8205,8206,8206,8207,8207,8208,8208,8209,8209,8210,8210,8211,8211,8212,8212,8213,8213,8214,8214,8215,8215,8216,8216,8217,8217,8218,8218,8219,8219,8220,8220,8221,8221,8222,8222,8223,8223,8224,8224,8225,8225,8226,8226,8227,8227,8228,8228,8229,8229,8230,8230,8231,8231,8232,8232,8233,8233,8234,8234,8235,8235,8236,8236,8237,8237,8238,8238,8239,8239,8240,8240,8241,8241,8242,8242,8243,8243,8244,8244,8245,8245,8246,8246,8247,8247,8248,8248,8249,8249,8250,8250,8251,8251,8252,8252,8253,8253,8254,8254,8255,8255,8256,8256,8257,8257,8258,8258,8259,8259,8260,8260,8261,8261,8262,8262,8263,8263,8264,8264,8265,8265,8266,8266,8267,8267,8268,8268,8269,8269,8270,8270,8271,8271,8272,8272,8273,8273,8274,8274,8275,8275,8276,8276,8277,8277,8278,8278,8279,8279,8280,8280,8281,8281,8282,8282,8283,8283,8284,8284,8285,8285,8286,8286,8287,8287,8288,8288,8289,8289,8290,8290,8291,8291,8292,8292,8293,8293,8294,8294,8295,8295,8296,8296,8297,8297,8298,8298,8299,8299,8300,8300,8301,8301,8302,8302,8303,8303,8304,8304,8305,8305,8306,8306,8307,8307,8308,8308,8309,8309,8310,8310,8311,8311,8312,8312,8313,8313,8314,8314,8315,8315,8316,8316,8317,8317,8318,8318,8319,8319,8320,8320,8321,8321,8322,8322,8323,8323,8324,8324,8325,8325,8326,8326,8327,8327,8328,8328,8329,8329,8330,8330,8331,8331,8332,8332,8333,8333,8334,8334,8335,8335,8336,8336,8337,8337,8338,8338,8339,8339,8340,8340,8341,8341,8342,8342,8343,8343,8344,8344,8345,8345,8346,8346,8347,8347,8348,8348,8349,8349,8350,8350,8351,8351,8352,8352,8353,8353,8354,8354,8355,8355,8356,8356,8357,8357,8358,8358,8359,8359,8360,8360,8361,8361,8362,8362,8363,8363,8364,8364,8365,8365,8366,8366,8367,8367,8368,8368,8369,8369,8370,8370,8371,8371,8372,8372,8373,8373,8374,8374,8375,8375,8376,8376,8377,8377,8378,8378,8379,8379,8380,8380,8381,8381,8382,8382,8383,8383,8384,8384,8385,8385,8386,8386,8387,8387,8388,8388,8389,8389,8390,8390,8391,8391,8392,8392,8393,8393,8394,8394,8395,8395,8396,8396,8397,8397,8398,8398,8399,8399,8400,8400,8401,8401,8402,8402,8403,8403,8404,8404,8405,8405,8406,8406,8407,8407,8408,8408,8409,8409,8410,8410,8411,8411,8412,8412,8413,8413,8414,8414,8415,8415,8416,8416,8417,8417,8418,8418,8419,8419,8420,8420,8421,8421,8422,8422,8423,8423,8424,8424,8425,8425,8426,8426,8427,8427,8428,8428,8429,8429,8430,8430,8431,8431,8432,8432,8433,8433,8434,8434,8435,8435,8436,8436,8437,8437,8438,8438,8439,8439,8440,8440,8441,8441,8442,8442,8443,8443,8444,8444,8445,8445,8446,8446,8447,8447,8448,8448,8449,8449,8450,8450,8451,8451,8452,8452,8453,8453,8454,8454,8455,8455,8456,8456,8457,8457,8458,8458,8459,8459,8460,8460,8461,8461,8462,8462,8463,8463,8464,8464,8465,8465,8466,8466,8467,8467,8468,8468,8469,8469,8470,8470,8471,8471,8472,8472,8473,8473,8474,8474,8475,8475,8476,8476,8477,8477,8478,8478,8479,8479,8480,8480,8481,8481,8482,8482,8483,8483,8484,8484,8485,8485,8486,8486,8487,8487,8488,8488,8489,8489,8490,8490,8491,8491,8492,8492,8493,8493,8494,8494,8495,8495,8496,8496,8497,8497,8498,8498,8499,8499,8500,8500,8501,8501,8502,8502,8503,8503,8504,8504,8505,8505,8506,8506,8507,8507,8508,8508,8509,8509,8510,8510,8511,8511,8512,8512,8513,8513,8514,8514,8515,8515,8516,8516,8517,8517,8518,8518,8519,8519,8520,8520,8521,8521,8522,8522,8523,8523,8524,8524,8525,8525,8526,8526,8527,8527,8528,8528,8529,8529,8530,8530,8531,8531,8532,8532,8533,8533,8534,8534,8535,8535,8536,8536,8537,8537,8538,8538,8539,8539,8540,8540,8541,8541,8542,8542,8543,8543,8544,8544,8545,8545,8546,8546,8547,8547,8548,8548,8549,8549,8550,8550,8551,8551,8552,8552,8553,8553,8554,8554,8555,8555,8556,8556,8557,8557,8558,8558,8559,8559,8560,8560,8561,8561,8562,8562,8563,8563,8564,8564,8565,8565,8566,8566,8567,8567,8568,8568,8569,8569,8570,8570,8571,8571,8572,8572,8573,8573,8574,8574,8575,8575,8576,8576,8577,8577,8578,8578,8579,8579,8580,8580,8581,8581,8582,8582,8583,8583,8584,8584,8585,8585,8586,8586,8587,8587,8588,8588,8589,8589,8590,8590,8591,8591,8592,8592,8593,8593,8594,8594,8595,8595,8596,8596,8597,8597,8598,8598,8599,8599,8600,8600,8601,8601,8602,8602,8603,8603,8604,8604,8605,8605,8606,8606,8607,8607,8608,8608,8609,8609,8610,8610,8611,8611,8612,8612,8613,8613,8614,8614,8615,8615,8616,8616,8617,8617,8618,8618,8619,8619,8620,8620,8621,8621,8622,8622,8623,8623,8624,8624,8625,8625,8626,8626,8627,8627,8628,8628,8629,8629,8630,8630,8631,8631,8632,8632,8633,8633,8634,8634,8635,8635,8636,8636,8637,8637,8638,8638,8639,8639,8640,8640,8641,8641,8642,8642,8643,8643,8644,8644,8645,8645,8646,8646,8647,8647,8648,8648,8649,8649,8650,8650,8651,8651,8652,8652,8653,8653,8654,8654,8655,8655,8656,8656,8657,8657,8658,8658,8659,8659,8660,8660,8661,8661,8662,8662,8663,8663,8664,8664,8665,8665,8666,8666,8667,8667,8668,8668,8669,8669,8670,8670,8671,8671,8672,8672,8673,8673,8674,8674,8675,8675,8676,8676,8677,8677,8678,8678,8679,8679,8680,8680,8681,8681,8682,8682,8683,8683,8684,8684,8685,8685,8686,8686,8687,8687,8688,8688,8689,8689,8690,8690,8691,8691,8692,8692,8693,8693,8694,8694,8695,8695,8696,8696,8697,8697,8698,8698,8699,8699,8700,8700,8701,8701,8702,8702,8703,8703,8704,8704,8705,8705,8706,8706,8707,8707,8708,8708,8709,8709,8710,8710,8711,8711,8712,8712,8713,8713,8714,8714,8715,8715,8716,8716,8717,8717,8718,8718,8719,8719,8720,8720,8721,8721,8722,8722,8723,8723,8724,8724,8725,8725,8726,8726,8727,8727,8728,8728,8729,8729,8730,8730,8731,8731,8732,8732,8733,8733,8734,8734,8735,8735,8736,8736,8737,8737,8738,8738,8739,8739,8740,8740,8741,8741,8742,8742,8743,8743,8744,8744,8745,8745,8746,8746,8747,8747,8748,8748,8749,8749,8750,8750,8751,8751,8752,8752,8753,8753,8754,8754,8755,8755,8756,8756,8757,8757,8758,8758,8759,8759,8760,8760,8761,8761,8762,8762,8763,8763,8764,8764,8765,8765,8766,8766,8767,8767,8768,8768,8769,8769,8770,8770,8771,8771,8772,8772,8773,8773,8774,8774,8775,8775,8776,8776,8777,8777,8778,8778,8779,8779,8780,8780,8781,8781,8782,8782,8783,8783,8784,8784,8785,8785,8786,8786,8787,8787,8788,8788,8789,8789,8790,8790,8791,8791,8792,8792,8793,8793,8794,8794,8795,8795,8796,8796,8797,8797,8798,8798,8799,8799,8800,8800,8801,8801,8802,8802,8803,8803,8804,8804,8805,8805,8806,8806,8807,8807,8808,8808,8809,8809,8810,8810,8811,8811,8812,8812,8813,8813,8814,8814,8815,8815,8816,8816,8817,8817,8818,8818,8819,8819,8820,8820,8821,8821,8822,8822,8823,8823,8824,8824,8825,8825,8826,8826,8827,8827,8828,8828,8829,8829,8830,8830,8831,8831,8832,8832,8833,8833,8834,8834,8835,8835,8836,8836,8837,8837,8838,8838,8839,8839,8840,8840,8841,8841,8842,8842,8843,8843,8844,8844,8845,8845,8846,8846,8847,8847,8848,8848,8849,8849,8850,8850,8851,8851,8852,8852,8853,8853,8854,8854,8855,8855,8856,8856,8857,8857,8858,8858,8859,8859,8860,8860,8861,8861,8862,8862,8863,8863,8864,8864,8865,8865,8866,8866,8867,8867,8868,8868,8869,8869,8870,8870,8871,8871,8872,8872,8873,8873,8874,8874,8875,8875,8876,8876,8877,8877,8878,8878,8879,8879,8880,8880,8881,8881,8882,8882,8883,8883,8884,8884,8885,8885,8886,8886,8887,8887,8888,8888,8889,8889,8890,8890,8891,8891,8892,8892,8893,8893,8894,8894,8895,8895,8896,8896,8897,8897,8898,8898,8899,8899,8900,8900,8901,8901,8902,8902,8903,8903,8904,8904,8905,8905,8906,8906,8907,8907,8908,8908,8909,8909,8910,8910,8911,8911,8912,8912,8913,8913,8914,8914,8915,8915,8916,8916,8917,8917,8918,8918,8919,8919,8920,8920,8921,8921,8922,8922,8923,8923,8924,8924,8925,8925,8926,8926,8927,8927,8928,8928,8929,8929,8930,8930,8931,8931,8932,8932,8933,8933,8934,8934,8935,8935,8936,8936,8937,8937,8938,8938,8939,8939,8940,8940,8941,8941,8942,8942,8943,8943,8944,8944,8945,8945,8946,8946,8947,8947,8948,8948,8949,8949,8950,8950,8951,8951,8952,8952,8953,8953,8954,8954,8955,8955,8956,8956,8957,8957,8958,8958,8959,8959,8960,8960,8961,8961,8962,8962,8963,8963,8964,8964,8965,8965,8966,8966,8967,8967,8968,8968,8969,8969,8970,8970,8971,8971,8972,8972,8973,8973,8974,8974,8975,8975,8976,8976,8977,8977,8978,8978,8979,8979,8980,8980,8981,8981,8982,8982,8983,8983,8984,8984,8985,8985,8986,8986,8987,8987,8988,8988,8989,8989,8990,8990,8991,8991,8992,8992,8993,8993,8994,8994,8995,8995,8996,8996,8997,8997,8998,8998,8999,8999,9000,9000,9001,9001,9002,9002,9003,9003,9004,9004,9005,9005,9006,9006,9007,9007,9008,9008,9009,9009,9010,9010,9011,9011,9012,9012,9013,9013,9014,9014,9015,9015,9016,9016,9017,9017,9018,9018,9019,9019,9020,9020,9021,9021,9022,9022,9023,9023,9024,9024,9025,9025,9026,9026,9027,9027,9028,9028,9029,9029,9030,9030,9031,9031,9032,9032,9033,9033,9034,9034,9035,9035,9036,9036,9037,9037,9038,9038,9039,9039,9040,9040,9041,9041,9042,9042,9043,9043,9044,9044,9045,9045,9046,9046,9047,9047,9048,9048,9049,9049,9050,9050,9051,9051,9052,9052,9053,9053,9054,9054,9055,9055,9056,9056,9057,9057,9058,9058,9059,9059,9060,9060,9061,9061,9062,9062,9063,9063,9064,9064,9065,9065,9066,9066,9067,9067,9068,9068,9069,9069,9070,9070,9071,9071,9072,9072,9073,9073,9074,9074,9075,9075,9076,9076,9077,9077,9078,9078,9079,9079,9080,9080,9081,9081,9082,9082,9083,9083,9084,9084,9085,9085,9086,9086,9087,9087,9088,9088,9089,9089,9090,9090,9091,9091,9092,9092,9093,9093,9094,9094,9095,9095,9096,9096,9097,9097,9098,9098,9099,9099,9100,9100,9101,9101,9102,9102,9103,9103,9104,9104,9105,9105,9106,9106,9107,9107,9108,9108,9109,9109,9110,9110,9111,9111,9112,9112,9113,9113,9114,9114,9115,9115,9116,9116,9117,9117,9118,9118,9119,9119,9120,9120,9121,9121,9122,9122,9123,9123,9124,9124,9125,9125,9126,9126,9127,9127,9128,9128,9129,9129,9130,9130,9131,9131,9132,9132,9133,9133,9134,9134,9135,9135,9136,9136,9137,9137,9138,9138,9139,9139,9140,9140,9141,9141,9142,9142,9143,9143,9144,9144,9145,9145,9146,9146,9147,9147,9148,9148,9149,9149,9150,9150,9151,9151,9152,9152,9153,9153,9154,9154,9155,9155,9156,9156,9157,9157,9158,9158,9159,9159,9160,9160,9161,9161,9162,9162,9163,9163,9164,9164,9165,9165,9166,9166,9167,9167,9168,9168,9169,9169,9170,9170,9171,9171,9172,9172,9173,9173,9174,9174,9175,9175,9176,9176,9177,9177,9178,9178,9179,9179,9180,9180,9181,9181,9182,9182,9183,9183,9184,9184,9185,9185,9186,9186,9187,9187,9188,9188,9189,9189,9190,9190,9191,9191,9192,9192,9193,9193,9194,9194,9195,9195,9196,9196,9197,9197,9198,9198,9199,9199,9200,9200,9201,9201,9202,9202,9203,9203,9204,9204,9205,9205,9206,9206,9207,9207,9208,9208,9209,9209,9210,9210,9211,9211,9212,9212,9213,9213,9214,9214,9215,9215,9216,9216,9217,9217,9218,9218,9219,9219,9220,9220,9221,9221,9222,9222,9223,9223,9224,9224,9225,9225,9226,9226,9227,9227,9228,9228,9229,9229,9230,9230,9231,9231,9232,9232,9233,9233,9234,9234,9235,9235,9236,9236,9237,9237,9238,9238,9239,9239,9240,9240,9241,9241,9242,9242,9243,9243,9244,9244,9245,9245,9246,9246,9247,9247,9248,9248,9249,9249,9250,9250,9251,9251,9252,9252,9253,9253,9254,9254,9255,9255,9256,9256,9257,9257,9258,9258,9259,9259,9260,9260,9261,9261,9262,9262,9263,9263,9264,9264,9265,9265,9266,9266,9267,9267,9268,9268,9269,9269,9270,9270,9271,9271,9272,9272,9273,9273,9274,9274,9275,9275,9276,9276,9277,9277,9278,9278,9279,9279,9280,9280,9281,9281,9282,9282,9283,9283,9284,9284,9285,9285,9286,9286,9287,9287,9288,9288,9289,9289,9290,9290,9291,9291,9292,9292,9293,9293,9294,9294,9295,9295,9296,9296,9297,9297,9298,9298,9299,9299,9300,9300,9301,9301,9302,9302,9303,9303,9304,9304,9305,9305,9306,9306,9307,9307,9308,9308,9309,9309,9310,9310,9311,9311,9312,9312,9313,9313,9314,9314,9315,9315,9316,9316,9317,9317,9318,9318,9319,9319,9320,9320,9321,9321,9322,9322,9323,9323,9324,9324,9325,9325,9326,9326,9327,9327,9328,9328,9329,9329,9330,9330,9331,9331,9332,9332,9333,9333,9334,9334,9335,9335,9336,9336,9337,9337,9338,9338,9339,9339,9340,9340,9341,9341,9342,9342,9343,9343,9344,9344,9345,9345,9346,9346,9347,9347,9348,9348,9349,9349,9350,9350,9351,9351,9352,9352,9353,9353,9354,9354,9355,9355,9356,9356,9357,9357,9358,9358,9359,9359,9360,9360,9361,9361,9362,9362,9363,9363,9364,9364,9365,9365,9366,9366,9367,9367,9368,9368,9369,9369,9370,9370,9371,9371,9372,9372,9373,9373,9374,9374,9375,9375,9376,9376,9377,9377,9378,9378,9379,9379,9380,9380,9381,9381,9382,9382,9383,9383,9384,9384,9385,9385,9386,9386,9387,9387,9388,9388,9389,9389,9390,9390,9391,9391,9392,9392,9393,9393,9394,9394,9395,9395,9396,9396,9397,9397,9398,9398,9399,9399,9400,9400,9401,9401,9402,9402,9403,9403,9404,9404,9405,9405,9406,9406,9407,9407,9408,9408,9409,9409,9410,9410,9411,9411,9412,9412,9413,9413,9414,9414,9415,9415,9416,9416,9417,9417,9418,9418,9419,9419,9420,9420,9421,9421,9422,9422,9423,9423,9424,9424,9425,9425,9426,9426,9427,9427,9428,9428,9429,9429,9430,9430,9431,9431,9432,9432,9433,9433,9434,9434,9435,9435,9436,9436,9437,9437,9438,9438,9439,9439,9440,9440,9441,9441,9442,9442,9443,9443,9444,9444,9445,9445,9446,9446,9447,9447,9448,9448,9449,9449,9450,9450,9451,9451,9452,9452,9453,9453,9454,9454,9455,9455,9456,9456,9457,9457,9458,9458,9459,9459,9460,9460,9461,9461,9462,9462,9463,9463,9464,9464,9465,9465,9466,9466,9467,9467,9468,9468,9469,9469,9470,9470,9471,9471,9472,9472,9473,9473,9474,9474,9475,9475,9476,9476,9477,9477,9478,9478,9479,9479,9480,9480,9481,9481,9482,9482,9483,9483,9484,9484,9485,9485,9486,9486,9487,9487,9488,9488,9489,9489,9490,9490,9491,9491,9492,9492,9493,9493,9494,9494,9495,9495,9496,9496,9497,9497,9498,9498,9499,9499,9500,9500,9501,9501,9502,9502,9503,9503,9504,9504,9505,9505,9506,9506,9507,9507,9508,9508,9509,9509,9510,9510,9511,9511,9512,9512,9513,9513,9514,9514,9515,9515,9516,9516,9517,9517,9518,9518,9519,9519,9520,9520,9521,9521,9522,9522,9523,9523,9524,9524,9525,9525,9526,9526,9527,9527,9528,9528,9529,9529,9530,9530,9531,9531,9532,9532,9533,9533,9534,9534,9535,9535,9536,9536,9537,9537,9538,9538,9539,9539,9540,9540,9541,9541,9542,9542,9543,9543,9544,9544,9545,9545,9546,9546,9547,9547,9548,9548,9549,9549,9550,9550,9551,9551,9552,9552,9553,9553,9554,9554,9555,9555,9556,9556,9557,9557,9558,9558,9559,9559,9560,9560,9561,9561,9562,9562,9563,9563,9564,9564,9565,9565,9566,9566,9567,9567,9568,9568,9569,9569,9570,9570,9571,9571,9572,9572,9573,9573,9574,9574,9575,9575,9576,9576,9577,9577,9578,9578,9579,9579,9580,9580,9581,9581,9582,9582,9583,9583,9584,9584,9585,9585,9586,9586,9587,9587,9588,9588,9589,9589,9590,9590,9591,9591,9592,9592,9593,9593,9594,9594,9595,9595,9596,9596,9597,9597,9598,9598,9599,9599,9600,9600,9601,9601,9602,9602,9603,9603,9604,9604,9605,9605,9606,9606,9607,9607,9608,9608,9609,9609,9610,9610,9611,9611,9612,9612,9613,9613,9614,9614,9615,9615,9616,9616,9617,9617,9618,9618,9619,9619,9620,9620,9621,9621,9622,9622,9623,9623,9624,9624,9625,9625,9626,9626,9627,9627,9628,9628,9629,9629,9630,9630,9631,9631,9632,9632,9633,9633,9634,9634,9635,9635,9636,9636,9637,9637,9638,9638,9639,9639,9640,9640,9641,9641,9642,9642,9643,9643,9644,9644,9645,9645,9646,9646,9647,9647,9648,9648,9649,9649,9650,9650,9651,9651,9652,9652,9653,9653,9654,9654,9655,9655,9656,9656,9657,9657,9658,9658,9659,9659,9660,9660,9661,9661,9662,9662,9663,9663,9664,9664,9665,9665,9666,9666,9667,9667,9668,9668,9669,9669,9670,9670,9671,9671,9672,9672,9673,9673,9674,9674,9675,9675,9676,9676,9677,9677,9678,9678,9679,9679,9680,9680,9681,9681,9682,9682,9683,9683,9684,9684,9685,9685,9686,9686,9687,9687,9688,9688,9689,9689,9690,9690,9691,9691,9692,9692,9693,9693,9694,9694,9695,9695,9696,9696,9697,9697,9698,9698,9699,9699,9700,9700,9701,9701,9702,9702,9703,9703,9704,9704,9705,9705,9706,9706,9707,9707,9708,9708,9709,9709,9710,9710,9711,9711,9712,9712,9713,9713,9714,9714,9715,9715,9716,9716,9717,9717,9718,9718,9719,9719,9720,9720,9721,9721,9722,9722,9723,9723,9724,9724,9725,9725,9726,9726,9727,9727,9728,9728,9729,9729,9730,9730,9731,9731,9732,9732,9733,9733,9734,9734,9735,9735,9736,9736,9737,9737,9738,9738,9739,9739,9740,9740,9741,9741,9742,9742,9743,9743,9744,9744,9745,9745,9746,9746,9747,9747,9748,9748,9749,9749,9750,9750,9751,9751,9752,9752,9753,9753,9754,9754,9755,9755,9756,9756,9757,9757,9758,9758,9759,9759,9760,9760,9761,9761,9762,9762,9763,9763,9764,9764,9765,9765,9766,9766,9767,9767,9768,9768,9769,9769,9770,9770,9771,9771,9772,9772,9773,9773,9774,9774,9775,9775,9776,9776,9777,9777,9778,9778,9779,9779,9780,9780,9781,9781,9782,9782,9783,9783,9784,9784,9785,9785,9786,9786,9787,9787,9788,9788,9789,9789,9790,9790,9791,9791,9792,9792,9793,9793,9794,9794,9795,9795,9796,9796,9797,9797,9798,9798,9799,9799,9800,9800,9801,9801,9802,9802,9803,9803,9804,9804,9805,9805,9806,9806,9807,9807,9808,9808,9809,9809,9810,9810,9811,9811,9812,9812,9813,9813,9814,9814,9815,9815,9816,9816,9817,9817,9818,9818,9819,9819,9820,9820,9821,9821,9822,9822,9823,9823,9824,9824,9825,9825,9826,9826,9827,9827,9828,9828,9829,9829,9830,9830,9831,9831,9832,9832,9833,9833,9834,9834,9835,9835,9836,9836,9837,9837,9838,9838,9839,9839,9840,9840,9841,9841,9842,9842,9843,9843,9844,9844,9845,9845,9846,9846,9847,9847,9848,9848,9849,9849,9850,9850,9851,9851,9852,9852,9853,9853,9854,9854,9855,9855,9856,9856,9857,9857,9858,9858,9859,9859,9860,9860,9861,9861,9862,9862,9863,9863,9864,9864,9865,9865,9866,9866,9867,9867,9868,9868,9869,9869,9870,9870,9871,9871,9872,9872,9873,9873,9874,9874,9875,9875,9876,9876,9877,9877,9878,9878,9879,9879,9880,9880,9881,9881,9882,9882,9883,9883,9884,9884,9885,9885,9886,9886,9887,9887,9888,9888,9889,9889,9890,9890,9891,9891,9892,9892,9893,9893,9894,9894,9895,9895,9896,9896,9897,9897,9898,9898,9899,9899,9900,9900,9901,9901,9902,9902,9903,9903,9904,9904,9905,9905,9906,9906,9907,9907,9908,9908,9909,9909,9910,9910,9911,9911,9912,9912,9913,9913,9914,9914,9915,9915,9916,9916,9917,9917,9918,9918,9919,9919,9920,9920,9921,9921,9922,9922,9923,9923,9924,9924,9925,9925,9926,9926,9927,9927,9928,9928,9929,9929,9930,9930,9931,9931,9932,9932,9933,9933,9934,9934,9935,9935,9936,9936,9937,9937,9938,9938,9939,9939,9940,9940,9941,9941,9942,9942,9943,9943,9944,9944,9945,9945,9946,9946,9947,9947,9948,9948,9949,9949,9950,9950,9951,9951,9952,9952,9953,9953,9954,9954,9955,9955,9956,9956,9957,9957,9958,9958,9959,9959,9960,9960,9961,9961,9962,9962,9963,9963,9964,9964,9965,9965,9966,9966,9967,9967,9968,9968,9969,9969,9970,9970,9971,9971,9972,9972,9973,9973,9974,9974,9975,9975,9976,9976,9977,9977,9978,9978,9979,9979,9980,9980,9981,9981,9982,9982,9983,9983,9984,9984,9985,9985,9986,9986,9987,9987,9988,9988,9989,9989,9990,9990,9991,9991,9992,9992,9993,9993,9994,9994,9995,9995,9996,9996,9997,9997,9998,9998,9999,9999])\n",
    "t2 = time.time()\n",
    "print(t2 - t1)\n",
    "print(l)"
   ]
  },
  {
   "cell_type": "markdown",
   "metadata": {},
   "source": [
    "### 27 移除元素\n",
    "\n",
    "给定一个数组 nums 和一个值 val，你需要原地移除所有数值等于 val 的元素，返回移除后数组的新长度。\n",
    "\n",
    "不要使用额外的数组空间，你必须在原地修改输入数组并在使用 O(1) 额外空间的条件下完成。"
   ]
  },
  {
   "cell_type": "code",
   "execution_count": 119,
   "metadata": {},
   "outputs": [
    {
     "data": {
      "text/plain": [
       "[2, 2]"
      ]
     },
     "execution_count": 119,
     "metadata": {},
     "output_type": "execute_result"
    }
   ],
   "source": [
    "def removeElement(nums,val):\n",
    "    while(val in nums):\n",
    "        nums.remove(val)\n",
    "    print(nums)\n",
    "    print(val) \n",
    "    return nums\n",
    "removeElement([3,2,2,3],3)"
   ]
  },
  {
   "cell_type": "code",
   "execution_count": 120,
   "metadata": {},
   "outputs": [
    {
     "data": {
      "text/plain": [
       "[0, 1, 3, 0, 4]"
      ]
     },
     "execution_count": 120,
     "metadata": {},
     "output_type": "execute_result"
    }
   ],
   "source": [
    "removeElement([0,1,2,2,3,0,4,2],2)"
   ]
  },
  {
   "cell_type": "markdown",
   "metadata": {},
   "source": [
    "### 39 组合总和\n",
    "\n",
    "给定一个无重复元素的数组 candidates 和一个目标数 target ，找出 candidates 中所有可以使数字和为 target 的组合。\n",
    "\n",
    "candidates 中的数字可以无限制重复被选取。\n",
    "\n",
    "说明：\n",
    "\n",
    "所有数字（包括 target）都是正整数。\n",
    "解集不能包含重复的组合。 "
   ]
  },
  {
   "cell_type": "code",
   "execution_count": 36,
   "metadata": {},
   "outputs": [
    {
     "data": {
      "text/plain": [
       "[[2, 2, 2], [3, 3], [6]]"
      ]
     },
     "execution_count": 36,
     "metadata": {},
     "output_type": "execute_result"
    }
   ],
   "source": [
    "def combinationSum(List, target: int):\n",
    "    L = []\n",
    "    L1 = []\n",
    "    for x in range(len(List)):\n",
    "        if(List[x] ^ target==0):\n",
    "            L.append([target])\n",
    "        if(List[x] < target):\n",
    "            for y in range(x+1)\n",
    "            l = [x for i in range(0,int(target / x))] \n",
    "            L1.append(l)\n",
    "    \n",
    "    return L\n",
    "combinationSum([2,3,6,7],7)"
   ]
  },
  {
   "cell_type": "markdown",
   "metadata": {},
   "source": [
    "### 48. 旋转图像\n",
    "\n",
    "https://leetcode-cn.com/problems/rotate-image/\n",
    "\n",
    "[\n",
    "  [ 5, 1, 9,11],\n",
    "  [ 2, 4, 8,10],\n",
    "  [13, 3, 6, 7],\n",
    "  [15,14,12,16]\n",
    "]\n",
    "\n",
    "[\n",
    "  [15,13, 2, 5],\n",
    "  [14, 3, 4, 1],\n",
    "  [12, 6, 8, 9],\n",
    "  [16, 7,10,11]\n",
    "]\n",
    "\n",
    "1  2  3  4  5  6\n",
    "7  8  9  10 11 12\n",
    "13 14 15 16 17 18\n",
    "19 20 21 22 23 24\n",
    "25 26 27 28 29 30\n",
    "31 32 33 34 35 36\n",
    "\n",
    "i  j  x  j-x   distance - x - 1\n",
    "0  5  1   4          4\n",
    "      2   3          3\n",
    "      3   2          2\n",
    "      4   1          1\n",
    "1  4  2   2          3\n",
    "      3   1          2\n",
    "2  3  2   1          3\n",
    "\n",
    "i  j  x  j-x   distance - x - 1\n",
    "0  4  1   3          3\n",
    "      2   2          2\n",
    "      3   1          1\n",
    "1  3  2   1          2 "
   ]
  },
  {
   "cell_type": "code",
   "execution_count": 92,
   "metadata": {
    "scrolled": true
   },
   "outputs": [
    {
     "name": "stdout",
     "output_type": "stream",
     "text": [
      "[21, 16, 11, 6, 1]\n",
      "[22, 17, 12, 7, 2]\n",
      "[23, 18, 13, 8, 3]\n",
      "[24, 19, 14, 9, 4]\n",
      "[25, 20, 15, 10, 5]\n",
      "\n",
      "l1 : \n",
      "[21, 16, 11, 6, 1]\n",
      "[22, 17, 12, 7, 2]\n",
      "[23, 18, 13, 8, 3]\n",
      "[24, 19, 14, 9, 4]\n",
      "[25, 20, 15, 10, 5]\n"
     ]
    }
   ],
   "source": [
    "    def rotate(matrix):\n",
    "        \"\"\"\n",
    "        Do not return anything, modify matrix in-place instead.\n",
    "        \"\"\"\n",
    "        distance = len(matrix)\n",
    "        tmp = distance\n",
    "        if distance ^ 2 == 0:\n",
    "            matrix[0][0],matrix[0][1] = matrix[0][1],matrix[0][0]\n",
    "            matrix[0][0],matrix[1][1] = matrix[1][1],matrix[0][0]\n",
    "            matrix[0][0],matrix[1][0] = matrix[1][0],matrix[0][0]\n",
    "        else:\n",
    "            i = 0\n",
    "            j = distance - 1\n",
    "            while distance >= 2:\n",
    "                matrix[i][i],matrix[i][j] = matrix[i][j],matrix[i][i]\n",
    "                matrix[i][i],matrix[j][j] = matrix[j][j],matrix[i][i]\n",
    "                matrix[i][i],matrix[j][i] = matrix[j][i],matrix[i][i]\n",
    "                for x in range(i+1,j):\n",
    "                    #print(\"distance : \",distance,\" i = \",i,\" j = \",j,\" x = \",x,\" \",distance-x-1)\n",
    "                    matrix[i][x],matrix[x][j] = matrix[x][j],matrix[i][x]\n",
    "                    matrix[i][x],matrix[j][tmp-x-1] = matrix[j][tmp-x-1],matrix[i][x]\n",
    "                    matrix[i][x],matrix[tmp-x-1][i] = matrix[tmp-x-1][i],matrix[i][x]\n",
    "                distance -= 2\n",
    "                i+=1\n",
    "                j-=1\n",
    "                    \n",
    "        \n",
    "\n",
    "    l = [[1,2,3,4,5],[6,7,8,9,10],[11,12,13,14,15],[16,17,18,19,20],[21,22,23,24,25]]\n",
    "    rotate(l)\n",
    "    l1 = [[21,16,11,6,1],[22,17,12,7,2],[23,18,13,8,3],[24,19,14,9,4],[25,20,15,10,5]]\n",
    "    for x in l:\n",
    "        print(x)\n",
    "    print()\n",
    "    print(\"l1 : \")\n",
    "    for x in l1:\n",
    "        print(x)"
   ]
  },
  {
   "cell_type": "code",
   "execution_count": 50,
   "metadata": {
    "scrolled": true
   },
   "outputs": [
    {
     "name": "stdout",
     "output_type": "stream",
     "text": [
      "[15, 10, 7, 5]\n",
      "[2, 4, 8, 1]\n",
      "[13, 3, 6, 9]\n",
      "[16, 14, 12, 11]\n",
      "\n",
      "10 12\n",
      "7 14\n",
      "[15, 13, 2, 5]\n",
      "[14, 3, 4, 1]\n",
      "[12, 6, 8, 9]\n",
      "[16, 7, 10, 11]\n",
      "\n",
      "[15, 13, 2, 5]\n",
      "[14, 3, 4, 1]\n",
      "[12, 6, 8, 9]\n",
      "[16, 7, 10, 11]\n"
     ]
    }
   ],
   "source": [
    "l = [\n",
    "  [ 5, 1, 9,11],\n",
    "  [ 2, 4, 8,10],\n",
    "  [13, 3, 6, 7],\n",
    "  [15,14,12,16]\n",
    "]\n",
    "rotate(l)\n",
    "for x in l:\n",
    "    print(x)"
   ]
  },
  {
   "cell_type": "markdown",
   "metadata": {},
   "source": [
    "### 53. 最大子序和\n",
    "\n",
    "##### 动态规划\n",
    "\n",
    "O(n2)"
   ]
  },
  {
   "cell_type": "code",
   "execution_count": 44,
   "metadata": {
    "scrolled": true
   },
   "outputs": [
    {
     "data": {
      "text/plain": [
       "1378"
      ]
     },
     "execution_count": 44,
     "metadata": {},
     "output_type": "execute_result"
    }
   ],
   "source": [
    "l = [-2,1,-3,4,-1,2,1,-5,4]\n",
    "l1 = [1,2]\n",
    "def MaxSubArray(l):\n",
    "    Max = l[0]\n",
    "    for k in range(1,len(l)):\n",
    "        tmp = sum(l[:k])\n",
    "        i = 0\n",
    "        while((i+k)<=(len(l))):\n",
    "            target = sum(l[i:i+k])\n",
    "            if(tmp < target):\n",
    "                tmp = target\n",
    "            #print(\"i = \",i,\"k = \",k,\"tmp = \",tmp,\"max = \",Max,'\\n',l[i:i+k])\n",
    "            i+=1\n",
    "        if(Max < tmp):\n",
    "            Max = tmp\n",
    "    if(Max > sum(l)):\n",
    "        return Max\n",
    "    else:\n",
    "        return sum(l)\n",
    "MaxSubArray([84,38,65,52,-9,70,81,58,-33,87,-47,48,23,-53,86,-2,45,56,35,5,90,47,-84,-21,55,-8,37,0,-3,-60,-11,-42,54,-68,-89,-54,-98,68,80,-31,55,-67,93,-45,-21,79,52,-75,12,-12,29,-21,-88,21,57,67,-87,-6,-33,-14,10,32,44,-35,63,54,-13,65,22,-33,-66,-46,0,-73,8,78,82,-62,79,-6,2,-15,72,13,83,30,-20,72,-99,46,-41,11,-21,-97,52,-81,33,-61,83,-45,-18,-83,-15,81,-80,69,37,-98,-93,-7,-28,8,55,-55,-78,38,51,-22,-13,51,-75,45,-61,-20,24,90,-2,-43,-94,-41,-12,-12,-25,72,-54,-28,42,59,-27,25,-70,22,-89,84,66,-91,-1,-6,-14,85,-78,-13,8,-39,66,-68,-72,-58,-11,-89,0,53,-25,51,26,20,-77,-55,-43,-27,46,-14,94,33,-53,37,41,45,-69,-72,7,-48,14,-85,-11,-42,-76,-6,-1,-11,4,98,-58,78,49,44,-25,49,65,31,-78,12,93,-84,-55,-83,52,86,61,59,90,-54,-89,-19,-63,-23,38,-40,47,-86,48,-49,-88,67,-94,38,11,-43,-36,-23,65,-15,65,58,-23,-90,75,-94,72,13,64,62,35,51,-79,72,-72,58,-91,74,72,34,-98,60,1,83,-25,-88,-59,38,-35,-94,99,-70,40,-47,-83,15,-42,88,-94,-78,28,40,73,48,-11,77,-17,-2,29,-68,-68,7,69,9,-9,-56,20,8,59,62,13,35,91,-47,88,84,45,-54,73,27,-55,-22,-56,94,-97,33,71,-15,-92,-23,17,-84,61,-37,24,-48,6,-79,36,-58,82,-51,54,51,-22,42,35,99,64,-15,26,-91,62,47,-97,64,-43,51,-73,-36,-95,20,-21,65,82,-97,93,-35,99,29,-16,82,54,-62,10,-90,79,-78,-91,20,7,12,29,-54,-41,8,87,-8,-41,-86,55,-36,10,-89,-94,-8,89,99,33,88,5,-83,47,-40,-46,-66,-54,-90,-44,-46,30,62,65,-64,84,-99,43,71,-8,-97,61,-76,-57,-29,-89,-75,39,99,-76,-27,65,6,-11,-11,42,20,23,87,6,78,-82,-64,17,60,-29,1,60,91,-27,-70,93,-66,-70,-87,-18,-59,-63,-79,-83,-62,-7,58,20,59,-52,-38,-44,70,-74,61,48,-57,74,-58,-97,-78,42,40,-87,91,46,82,-97,75,94,-16,92,-91,4,86,-77,97,44,42,33,68,80,88,38,-94,49,-37,-75,23,4,-72,22,-76,67,34,91,-10,17,93,-58,-12,-23,-65,-27,58,97,-5,32,18,-86,-35,-13,93,-70,-75,75,55,-35,-99,-21,45,-95,77,68,48,11,37,-62,-72,30,-21,-7,84,-10,65,19,-13,-62,-49,82,-49,-8,-31,-78,21,-30,96,-24,34,73,31,-20,77,8,-75,25,-80,61,62,-76,-31,-81,-7,-70,8,-41,48,72,-27,98,54,23,-10,-77,21,87,-8,18,-37,-96,-32,71,-17,-77,-21,-16,47,-25,-77,-13,-24,-9,-18,68,20,89,-96,-32,61,-24,-57,-8,76,32,14,-3,-4,83,91,58,86,-40,6,-54,-18,85,29,-94,-63,28,-31,12,-81,50,-42,15,40,-62,82,-22,14,-98,70,-10,10,-39,63,-94,-56,55,41,-93,-85,-53,-71,-27,-91,35,-22,-54,-37,47,34,-18,-3,68,96,-86,-93,56,-31,-3,34,-61,86,-55,-24,26,-50,-3,-19,90,3,-5,-85,32,44,-77,-33,-77,-55,29,46,56,87,-80,24,61,-66,7,-6,2,-96,-72,17,66,-28,69,-7,-1,-34,73,-34,69,-54,-20,-22,89,3,21,88,24,-73,34,-20,-85,54,-95,52,64,11,-77,-57,-8,-50,36,-42,-1,5,50,97,71,1,-37,17,46,20,71,12,99,-8,1,23,18,-88,-96,9,42,84,-62,-17,-28,-40,25,63,10,-62,-78,85,43,48,59,-9,-51,98,-92,71,18,78,-16,17,-53,61,-59,64,72,-56,-49,-8,-95,-12,74,-24,25,-23,-83,-88,14,-85,96,-66,62,55,24,88,53,8,59,-28,-14,-80,65,32,80,-94,-26,30,-74,1,98,-93,88,72,-17,13,-51,-24,1,40,-10,-3,73,-48,-71,-25,-83,59,82,76,-92,-31,72,72,77,53,55,-72,-40,80,28,-42,87,-6,-93,-53,83,-67,22,-15,72,-88,58,22,-60,87,96,-43,46,79,-90,53,-75,81,25,78,11,-20,-93,70,-62,11,-95,-98,-95,-88,-52,88,-79,46,-50,92,34,-92,-9,73,94,-12,-93,17,-56,-84,-30,-55,97,72,-77,-15,-48,-94,-44,-34,-6,-63,-33,-2,-75,-9,-37,-55,-63,-11,-86,70,-3,-18,21,-32,46,27,85,66,20,-45,-89,-6,-96,-90,78,-44,92,-89,-2,-14,-52,65,60,-51,-67,-99,-29,-30,-11,-39,-83,62,42,37,-69,-12,-58,-84,-46,61,-53,-59,-45,-49,-49,-67,-17,-80,-56,80,5,-32,22,-58,-7,55,-58,63,-98,31,-75,-82,-30,66,32,0,-68,50,-8,-38,-12,39,3,19,66,30,28,-51,49,48,-94,-69,-84,5,-51,9,-40,-9,-51,-39])"
   ]
  },
  {
   "cell_type": "code",
   "execution_count": 50,
   "metadata": {},
   "outputs": [
    {
     "name": "stdout",
     "output_type": "stream",
     "text": [
      "num =  -2\n",
      "somme =  -2\n",
      "num =  1\n",
      "somme =  1\n",
      "num =  -3\n",
      "somme =  -2\n",
      "num =  4\n",
      "somme =  4\n",
      "num =  -1\n",
      "somme =  3\n",
      "num =  2\n",
      "somme =  5\n",
      "num =  1\n",
      "somme =  6\n",
      "num =  -5\n",
      "somme =  1\n",
      "num =  4\n",
      "somme =  5\n"
     ]
    },
    {
     "data": {
      "text/plain": [
       "6"
      ]
     },
     "execution_count": 50,
     "metadata": {},
     "output_type": "execute_result"
    }
   ],
   "source": [
    "#DP 动态规划\n",
    "def maxSubArray(nums):\n",
    "    somme = 0\n",
    "    tmp = l[0]\n",
    "    for num in nums:\n",
    "        print(\"num = \",num)\n",
    "        if(somme > 0):\n",
    "            somme += num\n",
    "        else:\n",
    "            somme = num\n",
    "        print(\"somme = \",somme)\n",
    "        tmp = max(somme,tmp)\n",
    "    return tmp\n",
    "maxSubArray([-2,1,-3,4,-1,2,1,-5,4])"
   ]
  },
  {
   "cell_type": "markdown",
   "metadata": {},
   "source": [
    "### 58. 最后一个单词的长度"
   ]
  },
  {
   "cell_type": "code",
   "execution_count": 13,
   "metadata": {},
   "outputs": [
    {
     "name": "stdout",
     "output_type": "stream",
     "text": [
      "-1\n"
     ]
    },
    {
     "data": {
      "text/plain": [
       "1"
      ]
     },
     "execution_count": 13,
     "metadata": {},
     "output_type": "execute_result"
    }
   ],
   "source": [
    "def lengthOfLastWord(s) -> int:\n",
    "    print(s.find(\" \"))\n",
    "    if (s.find(\" \")>0):\n",
    "        l = s.split(\" \")\n",
    "        print(l)\n",
    "        if(l[len(l)-1]!=\"\"):\n",
    "            return len(l[len(l)-1])\n",
    "        else:\n",
    "            return len(l[len(l)-2])\n",
    "    else:\n",
    "        return 1\n",
    "lengthOfLastWord(\"abc\")"
   ]
  },
  {
   "cell_type": "markdown",
   "metadata": {},
   "source": [
    "### 60. 第k个排列\n",
    "\n",
    "给出集合 [1,2,3,…,n]，其所有元素共有 n! 种排列。\n",
    "\n",
    "按大小顺序列出所有排列情况，并一一标记，当 n = 3 时, 所有排列如下：\n",
    "\n",
    "n = 3\n",
    "123\n",
    "132\n",
    "213\n",
    "231\n",
    "312\n",
    "321\n",
    "\n",
    "n = 4\n",
    "1234\n",
    "1243\n",
    "1324\n",
    "1423\n",
    "1342\n",
    "1432\n",
    "2134\n",
    "2143\n",
    "2314\n",
    "2413\n",
    "2341\n",
    "2431\n",
    "3124\n",
    "3142\n",
    "3214\n",
    "3241\n",
    "3421\n",
    "3412\n",
    "4123\n",
    "4132\n",
    "4213\n",
    "4231\n",
    "4321\n",
    "4312\n"
   ]
  },
  {
   "cell_type": "code",
   "execution_count": 11,
   "metadata": {},
   "outputs": [
    {
     "name": "stdout",
     "output_type": "stream",
     "text": [
      "L =  [['1', '2', '3'], ['1', '3', '2'], ['2', '1', '3'], ['2', '3', '1'], ['3', '1', '2'], ['3', '2', '1']] 6\n"
     ]
    }
   ],
   "source": [
    "s = \"123\"\n",
    "L = []\n",
    "for i in range(len(s)):\n",
    "    l1 = [x for x in s[i]]\n",
    "    l2 = [x for x in s[:i]+s[i+1:]]\n",
    "    L.append(l1 + l2)\n",
    "    l2[0],l2[1] = l2[1],l2[0]\n",
    "    L.append(l1 + l2)\n",
    "print(\"L = \",L,len(L))"
   ]
  },
  {
   "cell_type": "code",
   "execution_count": 14,
   "metadata": {},
   "outputs": [
    {
     "name": "stdout",
     "output_type": "stream",
     "text": [
      "L1 =  [['1', '2', '3', '4'], ['1', '2', '4', '3'], ['1', '3', '2', '4'], ['1', '3', '4', '2'], ['1', '4', '2', '3'], ['1', '4', '3', '2'], ['2', '1', '3', '4'], ['2', '1', '4', '3'], ['2', '3', '1', '4'], ['2', '3', '4', '1'], ['2', '4', '1', '3'], ['2', '4', '3', '1'], ['3', '1', '2', '4'], ['3', '1', '4', '2'], ['3', '2', '1', '4'], ['3', '2', '4', '1'], ['3', '4', '1', '2'], ['3', '4', '2', '1'], ['4', '1', '2', '3'], ['4', '1', '3', '2'], ['4', '2', '1', '3'], ['4', '2', '3', '1'], ['4', '3', '1', '2'], ['4', '3', '2', '1']] 24\n"
     ]
    }
   ],
   "source": [
    "s1 = \"1234\"\n",
    "L1 = []\n",
    "for k in range(len(s1)):\n",
    "    l1 = [x for x in s1[k]]\n",
    "    l2 = [x for x in s1[:k]+s1[k+1:]]\n",
    "    s = s1[:k]+s1[k+1:]\n",
    "    for i in range(len(s)):\n",
    "        l1 = [x for x in s[i]]\n",
    "        l2 = [x for x in s[:i]+s[i+1:]]\n",
    "        L1.append([s1[k]]+l1 + l2)\n",
    "        l2[0],l2[1] = l2[1],l2[0]\n",
    "        L1.append([s1[k]]+l1 + l2)\n",
    "print(\"L1 = \",L1,len(L1))"
   ]
  },
  {
   "cell_type": "code",
   "execution_count": 121,
   "metadata": {
    "scrolled": false
   },
   "outputs": [
    {
     "name": "stdout",
     "output_type": "stream",
     "text": [
      "- [1, 2, 3]  begin =  0  i =  0 \n",
      "\n",
      "- [1, 2, 3]  begin =  1  i =  1 \n",
      "\n",
      "- [1, 2, 3]  begin =  2  i =  2 \n",
      "\n",
      "-- [1, 2, 3]  begin =  2  i =  2 \n",
      "\n",
      "--- [1, 2, 3]  begin =  2  i =  2 \n",
      "\n",
      "-- [1, 2, 3]  begin =  1  i =  1 \n",
      "\n",
      "--- [1, 2, 3]  begin =  1  i =  1 \n",
      "\n",
      "- [1, 3, 2]  begin =  1  i =  2 \n",
      "\n",
      "- [1, 3, 2]  begin =  2  i =  2 \n",
      "\n",
      "-- [1, 3, 2]  begin =  2  i =  2 \n",
      "\n",
      "--- [1, 3, 2]  begin =  2  i =  2 \n",
      "\n",
      "-- [1, 3, 2]  begin =  1  i =  2 \n",
      "\n",
      "--- [1, 2, 3]  begin =  1  i =  2 \n",
      "\n",
      "-- [1, 2, 3]  begin =  0  i =  0 \n",
      "\n",
      "--- [1, 2, 3]  begin =  0  i =  0 \n",
      "\n",
      "- [2, 1, 3]  begin =  0  i =  1 \n",
      "\n",
      "- [2, 1, 3]  begin =  1  i =  1 \n",
      "\n",
      "- [2, 1, 3]  begin =  2  i =  2 \n",
      "\n",
      "-- [2, 1, 3]  begin =  2  i =  2 \n",
      "\n",
      "--- [2, 1, 3]  begin =  2  i =  2 \n",
      "\n",
      "-- [2, 1, 3]  begin =  1  i =  1 \n",
      "\n",
      "--- [2, 1, 3]  begin =  1  i =  1 \n",
      "\n",
      "- [2, 3, 1]  begin =  1  i =  2 \n",
      "\n",
      "- [2, 3, 1]  begin =  2  i =  2 \n",
      "\n",
      "-- [2, 3, 1]  begin =  2  i =  2 \n",
      "\n",
      "--- [2, 3, 1]  begin =  2  i =  2 \n",
      "\n",
      "-- [2, 3, 1]  begin =  1  i =  2 \n",
      "\n",
      "--- [2, 1, 3]  begin =  1  i =  2 \n",
      "\n",
      "-- [2, 1, 3]  begin =  0  i =  1 \n",
      "\n",
      "--- [1, 2, 3]  begin =  0  i =  1 \n",
      "\n",
      "- [3, 2, 1]  begin =  0  i =  2 \n",
      "\n",
      "- [3, 2, 1]  begin =  1  i =  1 \n",
      "\n",
      "- [3, 2, 1]  begin =  2  i =  2 \n",
      "\n",
      "-- [3, 2, 1]  begin =  2  i =  2 \n",
      "\n",
      "--- [3, 2, 1]  begin =  2  i =  2 \n",
      "\n",
      "-- [3, 2, 1]  begin =  1  i =  1 \n",
      "\n",
      "--- [3, 2, 1]  begin =  1  i =  1 \n",
      "\n",
      "- [3, 1, 2]  begin =  1  i =  2 \n",
      "\n",
      "- [3, 1, 2]  begin =  2  i =  2 \n",
      "\n",
      "-- [3, 1, 2]  begin =  2  i =  2 \n",
      "\n",
      "--- [3, 1, 2]  begin =  2  i =  2 \n",
      "\n",
      "-- [3, 1, 2]  begin =  1  i =  2 \n",
      "\n",
      "--- [3, 2, 1]  begin =  1  i =  2 \n",
      "\n",
      "-- [3, 2, 1]  begin =  0  i =  2 \n",
      "\n",
      "--- [1, 2, 3]  begin =  0  i =  2 \n",
      "\n",
      "6\n",
      "[[1, 2, 3], [1, 2, 3], [1, 2, 3], [1, 2, 3], [1, 2, 3], [1, 2, 3]]\n"
     ]
    }
   ],
   "source": [
    "    COUNT = 0\n",
    "    L = []\n",
    "    def getPermutation(n,begin,end):\n",
    "        global COUNT,L\n",
    "        if(begin >= end):\n",
    "            L.append(n)\n",
    "            COUNT+=1\n",
    "        else:\n",
    "            for i in range(begin,end):\n",
    "                n[begin],n[i]=n[i],n[begin]\n",
    "                print('-',n,\" begin = \",begin,\" i = \",i,\"\\n\")\n",
    "                getPermutation(n,begin+1,end)\n",
    "                print(\"--\",n,\" begin = \",begin,\" i = \",i,\"\\n\")\n",
    "                n[begin],n[i]=n[i],n[begin]\n",
    "                print(\"---\",n,\" begin = \",begin,\" i = \",i,\"\\n\")\n",
    "getPermutation([1,2,3],0,3) \n",
    "print(COUNT)\n",
    "print(L)"
   ]
  },
  {
   "cell_type": "code",
   "execution_count": 71,
   "metadata": {},
   "outputs": [
    {
     "data": {
      "text/plain": [
       "'2314'"
      ]
     },
     "execution_count": 71,
     "metadata": {},
     "output_type": "execute_result"
    }
   ],
   "source": [
    "def getPermutation(n,k):\n",
    "    import itertools\n",
    "    L = []\n",
    "    s = \"\".join([str(x) for x in range(1,n+1)])\n",
    "    for x in itertools.permutations(s,n):\n",
    "        tmp = \"\".join([i for i in x])\n",
    "        L.append(tmp)\n",
    "    return L[k-1]\n",
    "getPermutation(4,9)"
   ]
  },
  {
   "cell_type": "markdown",
   "metadata": {},
   "source": [
    "### 66 加一"
   ]
  },
  {
   "cell_type": "code",
   "execution_count": 59,
   "metadata": {},
   "outputs": [
    {
     "data": {
      "text/plain": [
       "[1, 2, 4]"
      ]
     },
     "execution_count": 59,
     "metadata": {},
     "output_type": "execute_result"
    }
   ],
   "source": [
    "def plusOne(digits):\n",
    "    i = \"\".join([str(k) for k in digits])\n",
    "    i = int(i)+1\n",
    "    return [int(a) for a in str(i)]\n",
    "    return i\n",
    "plusOne([1,2,3])"
   ]
  },
  {
   "cell_type": "code",
   "execution_count": 74,
   "metadata": {},
   "outputs": [
    {
     "name": "stdout",
     "output_type": "stream",
     "text": [
      "[8, 9, 0]\n"
     ]
    }
   ],
   "source": [
    "def plusOne1(digits):\n",
    "    if(set(digits)=={9}):\n",
    "        return [1]+[0 for i in range(len(digits))]\n",
    "    else:\n",
    "        i = 0\n",
    "        while(digits[len(digits)-1-i]^9==0):\n",
    "            digits[len(digits)-1-i]=0\n",
    "            i+=1\n",
    "        digits[len(digits)-1-i]+=1\n",
    "        return digits\n",
    "print(plusOne1([8,8,9]))"
   ]
  },
  {
   "cell_type": "markdown",
   "metadata": {},
   "source": [
    "###  67. 二进制求和\n",
    "\n",
    "输入: a = \"11\", b = \"1\"\n",
    "输出: \"100\""
   ]
  },
  {
   "cell_type": "code",
   "execution_count": 260,
   "metadata": {},
   "outputs": [
    {
     "name": "stdout",
     "output_type": "stream",
     "text": [
      "0 1 1 1 11\n",
      "00 1 1 1 11\n",
      "100 1 1 1 12\n",
      "1100 0 1 0 11\n",
      "11100 1 0 0 11\n",
      "111100 1 0 0 11\n"
     ]
    },
    {
     "data": {
      "text/plain": [
       "'111100'"
      ]
     },
     "execution_count": 260,
     "metadata": {},
     "output_type": "execute_result"
    }
   ],
   "source": [
    "def ajouterBinaire(a,b):\n",
    "    if(len(a) < len(b)):\n",
    "        difference = len(b) - len(a)\n",
    "        a = difference * \"0\" + a\n",
    "    if(len(a) > len(b)):\n",
    "        difference = len(a) - len(b)\n",
    "        b = difference * \"0\" + b\n",
    "    s1 = str()\n",
    "    s2 = str()\n",
    "    s3 = \"0\"\n",
    "    s4 = \"11\"\n",
    "    s = str()\n",
    "    for i in range(len(a)-1,-1,-1):\n",
    "        if s3==\"0\" and s4==\"11\":\n",
    "            s1 = a[i]\n",
    "            s2 = b[i]\n",
    "        else:\n",
    "            if(a[i]==\"0\" and b[i]==\"0\"):\n",
    "                s1 =\"0\"\n",
    "                s2 =\"1\"\n",
    "            if((a[i]==\"1\" and b[i]==\"0\")or(a[i]==\"0\" and b[i]==\"1\")):\n",
    "                s1 = \"1\"\n",
    "                s2 = \"1\"\n",
    "                s4 = \"11\"\n",
    "            if(a[i]==\"1\" and b[i]==\"1\"):\n",
    "                s1 = \"1\"\n",
    "                s2 = \"1\"\n",
    "                s4 = \"12\"\n",
    "        if(s1==\"0\" and s2 == \"0\"):\n",
    "            s = \"0\" + s\n",
    "            s3 = \"0\"\n",
    "            s4 = \"11\"\n",
    "        if((s1 == \"0\" and s2 == \"1\") or (s1 == \"1\" and s2 == \"0\")):\n",
    "            s = \"1\" + s\n",
    "            s3 = \"0\"\n",
    "            s4 = \"11\"\n",
    "        if(s1==\"1\" and s2==\"1\"):\n",
    "            s3 = \"1\"\n",
    "            if(i!=0):\n",
    "                if(s4==\"11\"):\n",
    "                    s = \"0\"+s;\n",
    "                if(s4==\"12\"):\n",
    "                    s = \"1\"+s\n",
    "            else:\n",
    "                if(s4==\"11\"):\n",
    "                    s = \"10\"+s;\n",
    "                elif(s4==\"12\"):\n",
    "                    s = \"11\"+s\n",
    "    return s\n",
    "       \n",
    "ajouterBinaire(\"110111\",\"101\")"
   ]
  },
  {
   "cell_type": "markdown",
   "metadata": {},
   "source": [
    "### 69 sqrt"
   ]
  },
  {
   "cell_type": "code",
   "execution_count": 6,
   "metadata": {},
   "outputs": [
    {
     "data": {
      "text/plain": [
       "2"
      ]
     },
     "execution_count": 6,
     "metadata": {},
     "output_type": "execute_result"
    }
   ],
   "source": [
    "import math\n",
    "def racine_carré(x):\n",
    "    return math.floor(x**(1/2))\n",
    "racine_carré(8)"
   ]
  },
  {
   "cell_type": "code",
   "execution_count": 5,
   "metadata": {},
   "outputs": [],
   "source": [
    "?math.floor"
   ]
  },
  {
   "cell_type": "markdown",
   "metadata": {},
   "source": [
    "### 70 爬楼梯"
   ]
  },
  {
   "cell_type": "markdown",
   "metadata": {},
   "source": [
    "假设你正在爬楼梯。需要 n 阶你才能到达楼顶。\n",
    "\n",
    "每次你可以爬 1 或 2 个台阶。你有多少种不同的方法可以爬到楼顶呢？\n",
    "\n",
    "输入： 2\n",
    "输出： 2\n",
    "解释： 有两种方法可以爬到楼顶。\n",
    "1.  1 阶 + 1 阶\n",
    "2.  2 阶"
   ]
  },
  {
   "cell_type": "code",
   "execution_count": 35,
   "metadata": {},
   "outputs": [
    {
     "data": {
      "text/plain": [
       "63245986"
      ]
     },
     "execution_count": 35,
     "metadata": {},
     "output_type": "execute_result"
    }
   ],
   "source": [
    "def Febonnaci(x):\n",
    "    if(x^1==0):\n",
    "        return 1\n",
    "    if(x^2==0):\n",
    "        return 2\n",
    "    else:\n",
    "        return Febonnaci(x-1)+Febonnaci(x-2)\n",
    "Febonnaci(38)"
   ]
  },
  {
   "cell_type": "markdown",
   "metadata": {},
   "source": [
    "### 78 子集"
   ]
  },
  {
   "cell_type": "code",
   "execution_count": 10,
   "metadata": {
    "scrolled": true
   },
   "outputs": [
    {
     "name": "stdout",
     "output_type": "stream",
     "text": [
      "[1, 2, 3, 4, 5, 6, 7, 8, 9, 10]\n",
      "[2, 6]\n"
     ]
    },
    {
     "data": {
      "text/plain": [
       "[1, 3, 4, 5, 7, 8, 9, 10]"
      ]
     },
     "execution_count": 10,
     "metadata": {},
     "output_type": "execute_result"
    }
   ],
   "source": [
    "def Reste(nums,num):\n",
    "    l = nums.copy()\n",
    "    return list(filter(lambda x:(x in nums and x not in num),nums))\n",
    "print([i for i in range(1,11)])\n",
    "print([2,6])\n",
    "Reste([i for i in range(1,11)],[2,6])"
   ]
  },
  {
   "cell_type": "code",
   "execution_count": 34,
   "metadata": {
    "scrolled": true
   },
   "outputs": [
    {
     "name": "stdout",
     "output_type": "stream",
     "text": [
      "[[1, 2, 3, 4],\n",
      " [1, 2, 3, 5],\n",
      " [1, 2, 3, 6],\n",
      " [1, 2, 3, 7],\n",
      " [1, 2, 3, 8],\n",
      " [1, 2, 3, 9],\n",
      " [1, 2, 3, 10],\n",
      " [1, 2, 4, 5],\n",
      " [1, 2, 4, 6],\n",
      " [1, 2, 4, 7],\n",
      " [1, 2, 4, 8],\n",
      " [1, 2, 4, 9],\n",
      " [1, 2, 4, 10],\n",
      " [1, 2, 5, 6],\n",
      " [1, 2, 5, 7],\n",
      " [1, 2, 5, 8],\n",
      " [1, 2, 5, 9],\n",
      " [1, 2, 5, 10],\n",
      " [1, 2, 6, 7],\n",
      " [1, 2, 6, 8],\n",
      " [1, 2, 6, 9],\n",
      " [1, 2, 6, 10],\n",
      " [1, 2, 7, 8],\n",
      " [1, 2, 7, 9],\n",
      " [1, 2, 7, 10],\n",
      " [1, 2, 8, 9],\n",
      " [1, 2, 8, 10],\n",
      " [1, 2, 9, 10],\n",
      " [1, 3, 4, 5],\n",
      " [1, 3, 4, 6],\n",
      " [1, 3, 4, 7],\n",
      " [1, 3, 4, 8],\n",
      " [1, 3, 4, 9],\n",
      " [1, 3, 4, 10],\n",
      " [1, 3, 5, 6],\n",
      " [1, 3, 5, 7],\n",
      " [1, 3, 5, 8],\n",
      " [1, 3, 5, 9],\n",
      " [1, 3, 5, 10],\n",
      " [1, 3, 6, 7],\n",
      " [1, 3, 6, 8],\n",
      " [1, 3, 6, 9],\n",
      " [1, 3, 6, 10],\n",
      " [1, 3, 7, 8],\n",
      " [1, 3, 7, 9],\n",
      " [1, 3, 7, 10],\n",
      " [1, 3, 8, 9],\n",
      " [1, 3, 8, 10],\n",
      " [1, 3, 9, 10],\n",
      " [1, 4, 5, 6],\n",
      " [1, 4, 5, 7],\n",
      " [1, 4, 5, 8],\n",
      " [1, 4, 5, 9],\n",
      " [1, 4, 5, 10],\n",
      " [1, 4, 6, 7],\n",
      " [1, 4, 6, 8],\n",
      " [1, 4, 6, 9],\n",
      " [1, 4, 6, 10],\n",
      " [1, 4, 7, 8],\n",
      " [1, 4, 7, 9],\n",
      " [1, 4, 7, 10],\n",
      " [1, 4, 8, 9],\n",
      " [1, 4, 8, 10],\n",
      " [1, 4, 9, 10],\n",
      " [1, 5, 6, 7],\n",
      " [1, 5, 6, 8],\n",
      " [1, 5, 6, 9],\n",
      " [1, 5, 6, 10],\n",
      " [1, 5, 7, 8],\n",
      " [1, 5, 7, 9],\n",
      " [1, 5, 7, 10],\n",
      " [1, 5, 8, 9],\n",
      " [1, 5, 8, 10],\n",
      " [1, 5, 9, 10],\n",
      " [1, 6, 7, 8],\n",
      " [1, 6, 7, 9],\n",
      " [1, 6, 7, 10],\n",
      " [1, 6, 8, 9],\n",
      " [1, 6, 8, 10],\n",
      " [1, 6, 9, 10],\n",
      " [1, 7, 8, 9],\n",
      " [1, 7, 8, 10],\n",
      " [1, 7, 9, 10],\n",
      " [1, 8, 9, 10],\n",
      " [2, 3, 4, 5],\n",
      " [2, 3, 4, 6],\n",
      " [2, 3, 4, 7],\n",
      " [2, 3, 4, 8],\n",
      " [2, 3, 4, 9],\n",
      " [2, 3, 4, 10],\n",
      " [2, 3, 5, 6],\n",
      " [2, 3, 5, 7],\n",
      " [2, 3, 5, 8],\n",
      " [2, 3, 5, 9],\n",
      " [2, 3, 5, 10],\n",
      " [2, 3, 6, 7],\n",
      " [2, 3, 6, 8],\n",
      " [2, 3, 6, 9],\n",
      " [2, 3, 6, 10],\n",
      " [2, 3, 7, 8],\n",
      " [2, 3, 7, 9],\n",
      " [2, 3, 7, 10],\n",
      " [2, 3, 8, 9],\n",
      " [2, 3, 8, 10],\n",
      " [2, 3, 9, 10],\n",
      " [2, 4, 5, 6],\n",
      " [2, 4, 5, 7],\n",
      " [2, 4, 5, 8],\n",
      " [2, 4, 5, 9],\n",
      " [2, 4, 5, 10],\n",
      " [2, 4, 6, 7],\n",
      " [2, 4, 6, 8],\n",
      " [2, 4, 6, 9],\n",
      " [2, 4, 6, 10],\n",
      " [2, 4, 7, 8],\n",
      " [2, 4, 7, 9],\n",
      " [2, 4, 7, 10],\n",
      " [2, 4, 8, 9],\n",
      " [2, 4, 8, 10],\n",
      " [2, 4, 9, 10],\n",
      " [2, 5, 6, 7],\n",
      " [2, 5, 6, 8],\n",
      " [2, 5, 6, 9],\n",
      " [2, 5, 6, 10],\n",
      " [2, 5, 7, 8],\n",
      " [2, 5, 7, 9],\n",
      " [2, 5, 7, 10],\n",
      " [2, 5, 8, 9],\n",
      " [2, 5, 8, 10],\n",
      " [2, 5, 9, 10],\n",
      " [2, 6, 7, 8],\n",
      " [2, 6, 7, 9],\n",
      " [2, 6, 7, 10],\n",
      " [2, 6, 8, 9],\n",
      " [2, 6, 8, 10],\n",
      " [2, 6, 9, 10],\n",
      " [2, 7, 8, 9],\n",
      " [2, 7, 8, 10],\n",
      " [2, 7, 9, 10],\n",
      " [2, 8, 9, 10],\n",
      " [3, 4, 5, 6],\n",
      " [3, 4, 5, 7],\n",
      " [3, 4, 5, 8],\n",
      " [3, 4, 5, 9],\n",
      " [3, 4, 5, 10],\n",
      " [3, 4, 6, 7],\n",
      " [3, 4, 6, 8],\n",
      " [3, 4, 6, 9],\n",
      " [3, 4, 6, 10],\n",
      " [3, 4, 7, 8],\n",
      " [3, 4, 7, 9],\n",
      " [3, 4, 7, 10],\n",
      " [3, 4, 8, 9],\n",
      " [3, 4, 8, 10],\n",
      " [3, 4, 9, 10],\n",
      " [3, 5, 6, 7],\n",
      " [3, 5, 6, 8],\n",
      " [3, 5, 6, 9],\n",
      " [3, 5, 6, 10],\n",
      " [3, 5, 7, 8],\n",
      " [3, 5, 7, 9],\n",
      " [3, 5, 7, 10],\n",
      " [3, 5, 8, 9],\n",
      " [3, 5, 8, 10],\n",
      " [3, 5, 9, 10],\n",
      " [3, 6, 7, 8],\n",
      " [3, 6, 7, 9],\n",
      " [3, 6, 7, 10],\n",
      " [3, 6, 8, 9],\n",
      " [3, 6, 8, 10],\n",
      " [3, 6, 9, 10],\n",
      " [3, 7, 8, 9],\n",
      " [3, 7, 8, 10],\n",
      " [3, 7, 9, 10],\n",
      " [3, 8, 9, 10],\n",
      " [4, 5, 6, 7],\n",
      " [4, 5, 6, 8],\n",
      " [4, 5, 6, 9],\n",
      " [4, 5, 6, 10],\n",
      " [4, 5, 7, 8],\n",
      " [4, 5, 7, 9],\n",
      " [4, 5, 7, 10],\n",
      " [4, 5, 8, 9],\n",
      " [4, 5, 8, 10],\n",
      " [4, 5, 9, 10],\n",
      " [4, 6, 7, 8],\n",
      " [4, 6, 7, 9],\n",
      " [4, 6, 7, 10],\n",
      " [4, 6, 8, 9],\n",
      " [4, 6, 8, 10],\n",
      " [4, 6, 9, 10],\n",
      " [4, 7, 8, 9],\n",
      " [4, 7, 8, 10],\n",
      " [4, 7, 9, 10],\n",
      " [4, 8, 9, 10],\n",
      " [5, 6, 7, 8],\n",
      " [5, 6, 7, 9],\n",
      " [5, 6, 7, 10],\n",
      " [5, 6, 8, 9],\n",
      " [5, 6, 8, 10],\n",
      " [5, 6, 9, 10],\n",
      " [5, 7, 8, 9],\n",
      " [5, 7, 8, 10],\n",
      " [5, 7, 9, 10],\n",
      " [5, 8, 9, 10],\n",
      " [6, 7, 8, 9],\n",
      " [6, 7, 8, 10],\n",
      " [6, 7, 9, 10],\n",
      " [6, 8, 9, 10],\n",
      " [7, 8, 9, 10]]\n"
     ]
    }
   ],
   "source": [
    "import pprint\n",
    "def partition2(nums):\n",
    "    l = []\n",
    "    for i in range(len(nums)-1):\n",
    "        for j in range(i+1,len(nums)):\n",
    "            tmp = [nums[i],nums[j]]\n",
    "            l.append(tmp)\n",
    "            l.append(Reste(nums,tmp))\n",
    "    return l\n",
    "#pprint.pprint(partition2([i for i in range(1,6)]))\n",
    "\n",
    "def partition3(nums):\n",
    "    l = []\n",
    "    for i in range(len(nums)-2):\n",
    "        for j in range(i+1,len(nums)-1):\n",
    "            for k in range(j+1,len(nums)):\n",
    "                l.append([nums[i],nums[j],nums[k]])\n",
    "    return l \n",
    "#pprint.pprint(partition3([i for i in range(1,6)]))\n",
    "\n",
    "def partition4(nums):\n",
    "    l = []\n",
    "    for i in range(len(nums)-3):\n",
    "        for j in range(i+1,len(nums)-2):\n",
    "            for k in range(j+1,len(nums)-1):\n",
    "                for m in range(k+1,len(nums)):\n",
    "                    l.append([nums[i],nums[j],nums[k],nums[m]])\n",
    "    return l \n",
    "pprint.pprint(partition4([i for i in range(1,11)]))\n",
    "\n",
    "def partitionN(nums):\n",
    "    l = []\n",
    "    "
   ]
  },
  {
   "cell_type": "markdown",
   "metadata": {},
   "source": [
    "###  79. 单词搜索\n",
    "\n",
    "给定一个二维网格和一个单词，找出该单词是否存在于网格中。\n",
    "\n",
    "单词必须按照字母顺序，通过相邻的单元格内的字母构成，其中“相邻”单元格是那些水平相邻或垂直相邻的单元格。同一个单元格内的字母不允许被重复使用。\n",
    "    "
   ]
  },
  {
   "cell_type": "code",
   "execution_count": null,
   "metadata": {},
   "outputs": [],
   "source": [
    "    def exist(board,word):\n",
    "        flag = False\n",
    "        trace = dict()\n",
    "        m = len(board)\n",
    "        n = len(board[0])\n",
    "        taille = len(word)\n",
    "        '''\n",
    "        trace[\"00\"]=board[1][0]+board[0][1]\n",
    "        trace[\"0{}\".format(n-1)] = board[0][n-2]+board[1][n-1]\n",
    "        trace[\"{}0\".format(m-1)] = board[m-1][1]+board[m-2][0]\n",
    "        trace[\"{}\".format(str(m-1)+str(n-1))]=board[m-2][n-1]+board[m-1][n-2]\n",
    "        for i in range(1,n-1):\n",
    "            k1 = \"0{}\".format(i)\n",
    "            k2 = \"{}\".format(str(m-1)+str(i))\n",
    "            v1 = board[0][i-1]+board[0][i+1]+board[1][i]\n",
    "            v2 = board[m-1][i-1]+board[m-1][i+1]+board[m-2][i]\n",
    "            if(k1 in trace):\n",
    "                trace[k1].append(v1)\n",
    "            else:\n",
    "                trace[k1] = [v1]\n",
    "            if(k2 in trace):\n",
    "                trace[k2].append(v2)\n",
    "            else:\n",
    "                trace[k2]=[v2]\n",
    "        for i in range(1,m-1):\n",
    "            k1 = \"{}0\".format(i)\n",
    "            v1 = board[i][1]+board[i-1][0]+board[i+1][0]\n",
    "            k2 = \"{}\".format(str(i)+str(n-1))\n",
    "            v2 = board[i][n-2]+board[i-1][n-1]+board[i+1][n-1]\n",
    "            trace[k1] = [v1]\n",
    "            trace[k2] = [v2]\n",
    "        for i in range(1,m-1):\n",
    "            for j in range(1,n-1):\n",
    "                tmp = \"{}\".format(str(i)+str(j))\n",
    "                trace[tmp]=board[i+1][j]+board[i][j+1]+board[i-1][j]+board[i][j-1]\n",
    "        '''\n",
    "        position = []\n",
    "        i = 0\n",
    "        counter+=1\n",
    "        while(i<taille-1):\n",
    "            s = word[i]\n",
    "            tmp = word[i+1]\n",
    "            if(s==word[0][0]):\n",
    "                if(tmp==word[0][1] or tmp==word[1][0]):\n",
    "                    counter+=1\n",
    "            elif(s==word[0][n-1]):\n",
    "                if(tmp==word[0][n-2] or tmp==word[1][n-1]):\n",
    "                    counter+=1\n",
    "            elif(s==word[m-1][0]):\n",
    "                if(tmp==word(m-1)[1] or tmp==word[m-2][0]):\n",
    "                    counter+=1\n",
    "            elif(s==word[m-1][n-1]):\n",
    "                if(tmp==word[m-2][n-1] or tmp==word[m-1][n-2]):\n",
    "                    counter+=1\n",
    "            else:    \n",
    "                for a in range(1,m-1):\n",
    "                    for b in range(1,n-1):\n",
    "                        if(board[a][b]==s):\n",
    "                            l = [word[a+1][b],word[a-1][b],word[a][b+1],word[a][b-1]]\n",
    "                            if(tmp in l):\n",
    "                                counter+=1\n",
    "            i+=1\n",
    "        \n",
    "            \n",
    "        return flag"
   ]
  },
  {
   "cell_type": "markdown",
   "metadata": {},
   "source": [
    "### 80. 删除排序数组中的重复项 II\n",
    "\n",
    "给定一个排序数组，你需要在原地删除重复出现的元素，使得每个元素最多出现两次，返回移除后数组的新长度。\n",
    "\n",
    "不要使用额外的数组空间，你必须在原地修改输入数组并在使用 O(1) 额外空间的条件下完成。"
   ]
  },
  {
   "cell_type": "code",
   "execution_count": 117,
   "metadata": {
    "scrolled": false
   },
   "outputs": [
    {
     "name": "stdout",
     "output_type": "stream",
     "text": [
      "4 4\n",
      "[0, 0, 1, 1, 2, 2, 3, 3, 3, 4, 4, 4]\n",
      "8 8\n",
      "[0, 0, 1, 1, 2, 2, 3, 3, 4, 4, 4]\n",
      "10 10\n",
      "[0, 0, 1, 1, 2, 2, 3, 3, 4, 4]\n"
     ]
    },
    {
     "data": {
      "text/plain": [
       "[0, 0, 1, 1, 2, 2, 3, 3, 4, 4]"
      ]
     },
     "execution_count": 117,
     "metadata": {},
     "output_type": "execute_result"
    }
   ],
   "source": [
    "    def removeDuplicates(nums):\n",
    "        i = 0\n",
    "        counter = 1\n",
    "        while(i < len(nums)-1):\n",
    "            if(nums[i]^nums[i+1]==0):\n",
    "                counter+=1\n",
    "                i+=1\n",
    "            else:\n",
    "                counter = 1\n",
    "                i+=1\n",
    "            if(counter>2):\n",
    "                j=i\n",
    "                print(i,j)\n",
    "                if(j<len(nums)-1):\n",
    "                    nums.pop(j)\n",
    "                    while(nums[i-1]^nums[j]==0):\n",
    "                        nums.pop(j)\n",
    "                        if(j > len(nums)-1):\n",
    "                            break\n",
    "                else:\n",
    "                    nums.pop(j)\n",
    "                print(nums)\n",
    "                counter=1\n",
    "        return nums\n",
    "removeDuplicates([0,0,1,1,1,1,1,1,2,2,3,3,3,4,4,4])"
   ]
  },
  {
   "cell_type": "code",
   "execution_count": 118,
   "metadata": {
    "scrolled": true
   },
   "outputs": [
    {
     "name": "stdout",
     "output_type": "stream",
     "text": [
      "2 2\n",
      "[1, 1, 2, 2, 3]\n"
     ]
    },
    {
     "data": {
      "text/plain": [
       "[1, 1, 2, 2, 3]"
      ]
     },
     "execution_count": 118,
     "metadata": {},
     "output_type": "execute_result"
    }
   ],
   "source": [
    "removeDuplicates([1,1,1,2,2,3])"
   ]
  },
  {
   "cell_type": "markdown",
   "metadata": {},
   "source": [
    "### 83  给定两个有序正整数数组 nums1 和 nums2，将 nums2 合并到 nums1 中，使得 num1 成为一个有序数组。   \n",
    "\n",
    "输入:\n",
    "nums1 = [1,2,3,0,0,0], m = 3\n",
    "nums2 = [2,5,6],       n = 3\n",
    "\n",
    "输出: [1,2,2,3,5,6]"
   ]
  },
  {
   "cell_type": "code",
   "execution_count": 142,
   "metadata": {},
   "outputs": [],
   "source": [
    "def merge(nums1,nums2):\n",
    "        while(0 in nums1):\n",
    "            nums1.remove(0)\n",
    "        if(nums1!=[] and nums2!=[]):\n",
    "            if(nums1[len(nums1)-1] < nums2[0]):\n",
    "                for x in nums2:\n",
    "                    nums1.append(x)\n",
    "            if(nums1[0] > nums2[len(nums2) - 1]):\n",
    "                for x in nums2[::-1]:\n",
    "                    nums1.insert(0,x)\n",
    "        else:\n",
    "            for x in nums2:\n",
    "                for i in range(len(nums1)-1):\n",
    "                    if(x > nums1[i] and x <= nums1[i+1]):\n",
    "                        nums1.insert(i+1,x)\n",
    "                    if(x > nums1[-1]):\n",
    "                        nums1.append(x)\n",
    "                    if(x < nums1[0]):\n",
    "                        nums1.insert(0,x)\n",
    "        if (nums1==[] and nums2 != []):\n",
    "            nums1 = [x for x in nums2]\n",
    "        return nums1"
   ]
  },
  {
   "cell_type": "code",
   "execution_count": 143,
   "metadata": {},
   "outputs": [
    {
     "data": {
      "text/plain": [
       "[1]"
      ]
     },
     "execution_count": 143,
     "metadata": {},
     "output_type": "execute_result"
    }
   ],
   "source": [
    "merge([0],[1])"
   ]
  },
  {
   "cell_type": "code",
   "execution_count": 152,
   "metadata": {},
   "outputs": [
    {
     "data": {
      "text/plain": [
       "[1]"
      ]
     },
     "execution_count": 152,
     "metadata": {},
     "output_type": "execute_result"
    }
   ],
   "source": [
    "def merge1(nums1,m,nums2,n):\n",
    "        if(m==0 and n!=0):\n",
    "            nums1,nums2 = nums2,nums1\n",
    "            print(\"1 \",nums1)\n",
    "            print(\"2 \",nums2)\n",
    "        if(n==0 or (nums1==nums2)):\n",
    "            pass\n",
    "        if(m!=0 and n!=0):\n",
    "            print(1)\n",
    "            i = -1\n",
    "            while(nums1[i]==0):\n",
    "                nums1.remove(nums1[i])\n",
    "                i-=1   \n",
    "            nums1 += nums2\n",
    "            nums1.sort()\n",
    "        return nums1\n",
    "merge1([1],1,[0],0)"
   ]
  },
  {
   "cell_type": "markdown",
   "metadata": {},
   "source": [
    "### 121. 买卖股票的最佳时机\n",
    "\n",
    "给定一个数组，它的第 i 个元素是一支给定股票第 i 天的价格。\n",
    "\n",
    "如果你最多只允许完成一笔交易（即买入和卖出一支股票），设计一个算法来计算你所能获取的最大利润。\n",
    "\n",
    "注意你不能在买入股票前卖出股票。"
   ]
  },
  {
   "cell_type": "code",
   "execution_count": 283,
   "metadata": {},
   "outputs": [],
   "source": [
    "    def maxProfit(prices):\n",
    "        if prices==[]:\n",
    "            return 0\n",
    "        else:\n",
    "            dif = 0\n",
    "            Max_dif = 0\n",
    "            for i in range(len(prices)):\n",
    "                tmp = prices[i]\n",
    "                for j in range(i+1,len(prices)):\n",
    "                    tmp1 = prices[j]\n",
    "                    dif = tmp1 - tmp\n",
    "                    if(Max_dif < dif):\n",
    "                        Max_dif = dif\n",
    "            return Max_dif"
   ]
  },
  {
   "cell_type": "markdown",
   "metadata": {},
   "source": [
    "### 122. 买卖股票的最佳时机\n",
    "给定一个数组，它的第 i 个元素是一支给定股票第 i 天的价格。\n",
    "\n",
    "设计一个算法来计算你所能获取的最大利润。你可以尽可能地完成更多的交易（多次买卖一支股票）。"
   ]
  },
  {
   "cell_type": "code",
   "execution_count": 10,
   "metadata": {},
   "outputs": [
    {
     "data": {
      "text/plain": [
       "11"
      ]
     },
     "execution_count": 10,
     "metadata": {},
     "output_type": "execute_result"
    }
   ],
   "source": [
    "    def maxProfit(prices):\n",
    "        result = 0\n",
    "        i=0\n",
    "        while(i < len(prices)-1):\n",
    "            j = i+1\n",
    "            a = prices[i]\n",
    "            b = prices[j]\n",
    "            while(a<b):\n",
    "                tmp = b-a\n",
    "                result += tmp\n",
    "                j+=1\n",
    "                i+=1\n",
    "                if(i>=len(prices)-1):\n",
    "                    return result\n",
    "                a = prices[i]\n",
    "                b = prices[j] \n",
    "            i+=1\n",
    "        return result\n",
    "maxProfit([2,1,4,5,2,9,7])"
   ]
  },
  {
   "cell_type": "markdown",
   "metadata": {},
   "source": [
    "### 136 只出现一个数字"
   ]
  },
  {
   "cell_type": "code",
   "execution_count": 266,
   "metadata": {},
   "outputs": [
    {
     "data": {
      "text/plain": [
       "1"
      ]
     },
     "execution_count": 266,
     "metadata": {},
     "output_type": "execute_result"
    }
   ],
   "source": [
    "def singleNumber(nums):\n",
    "    for x in l:\n",
    "        if(l.count(x)==1):\n",
    "            return x\n",
    "l = [2,2,1]\n",
    "singleNumber(l)"
   ]
  },
  {
   "cell_type": "markdown",
   "metadata": {},
   "source": [
    "### 139 单词拆分\n",
    "\n",
    "https://leetcode-cn.com/problems/word-break/"
   ]
  },
  {
   "cell_type": "code",
   "execution_count": 266,
   "metadata": {},
   "outputs": [],
   "source": [
    "    def wordBreak(s,wordDict):\n",
    "        dp = [0 for i in range(len(s)+1)] \n",
    "        for i in range(len(s)-1):\n",
    "            for j in range(i + 1, len(s)+1):\n",
    "                #print(s[i:j])\n",
    "                #if s[i:j] in wordDict:\n",
    "                    #dp[j] = 1\n",
    "                if i > 0 and dp[i] != 1:\n",
    "                    break\n",
    "                if s[i:j] in wordDict:\n",
    "                    dp[j] = 1\n",
    "        print(dp)\n",
    "        if dp[len(s)]:\n",
    "            return True\n",
    "        return False"
   ]
  },
  {
   "cell_type": "code",
   "execution_count": 267,
   "metadata": {
    "scrolled": false
   },
   "outputs": [
    {
     "name": "stdout",
     "output_type": "stream",
     "text": [
      "[0, 1, 1, 1, 1, 1, 1, 1, 1, 1, 1, 1, 1, 1, 0, 0, 0, 0, 0, 0, 0, 0, 0, 0, 0, 0, 0, 0, 0, 0]\n"
     ]
    },
    {
     "data": {
      "text/plain": [
       "False"
      ]
     },
     "execution_count": 267,
     "metadata": {},
     "output_type": "execute_result"
    }
   ],
   "source": [
    "wordBreak(\"aaaaaaaaaaaaabaaaaaaaaaaaaaaa\",[\"a\",\"aa\",\"aaa\",\"aaaa\",\"aaaaa\",\"aaaaaa\",\"aaaaaaa\",\"aaaaaaaa\",\"aaaaaaaaa\",\"aaaaaaaaaa\"])"
   ]
  },
  {
   "cell_type": "code",
   "execution_count": 246,
   "metadata": {
    "scrolled": false
   },
   "outputs": [
    {
     "name": "stdout",
     "output_type": "stream",
     "text": [
      "l\n",
      "le\n",
      "lee\n",
      "leet\n",
      "leetc\n",
      "leetco\n",
      "leetcod\n",
      "leetcode\n",
      "e\n",
      "e\n",
      "t\n",
      "c\n",
      "co\n",
      "cod\n",
      "code\n",
      "o\n",
      "d\n",
      "[0, 0, 0, 0, 1, 0, 0, 0, 1]\n",
      "True\n"
     ]
    }
   ],
   "source": [
    "print(wordBreak(\"leetcode\",[\"leet\",\"code\"]))"
   ]
  },
  {
   "cell_type": "code",
   "execution_count": 247,
   "metadata": {
    "scrolled": true
   },
   "outputs": [
    {
     "name": "stdout",
     "output_type": "stream",
     "text": [
      "g\n",
      "go\n",
      "goa\n",
      "goal\n",
      "goals\n",
      "goalsp\n",
      "goalspe\n",
      "goalspec\n",
      "goalspeci\n",
      "goalspecia\n",
      "goalspecial\n",
      "o\n",
      "a\n",
      "al\n",
      "als\n",
      "alsp\n",
      "alspe\n",
      "alspec\n",
      "alspeci\n",
      "alspecia\n",
      "alspecial\n",
      "l\n",
      "s\n",
      "sp\n",
      "spe\n",
      "spec\n",
      "speci\n",
      "specia\n",
      "special\n",
      "p\n",
      "pe\n",
      "pec\n",
      "peci\n",
      "pecia\n",
      "pecial\n",
      "e\n",
      "c\n",
      "i\n",
      "a\n",
      "[0, 0, 1, 0, 1, 1, 0, 0, 0, 0, 0, 1]\n",
      "True\n"
     ]
    }
   ],
   "source": [
    "print(wordBreak(\"goalspecial\",[\"go\",\"goal\",\"goals\",\"special\"]))"
   ]
  },
  {
   "cell_type": "code",
   "execution_count": 250,
   "metadata": {
    "scrolled": true
   },
   "outputs": [
    {
     "name": "stdout",
     "output_type": "stream",
     "text": [
      "c\n",
      "[0, 0, 0, 0, 0, 0, 0, 0, 0, 0]\n",
      "ca\n",
      "[0, 0, 0, 0, 0, 0, 0, 0, 0, 0]\n",
      "cat\n",
      "[0, 0, 0, 1, 0, 0, 0, 0, 0, 0]\n",
      "cats\n",
      "[0, 0, 0, 1, 1, 0, 0, 0, 0, 0]\n",
      "catsa\n",
      "[0, 0, 0, 1, 1, 0, 0, 0, 0, 0]\n",
      "catsan\n",
      "[0, 0, 0, 1, 1, 0, 0, 0, 0, 0]\n",
      "catsand\n",
      "[0, 0, 0, 1, 1, 0, 0, 0, 0, 0]\n",
      "catsando\n",
      "[0, 0, 0, 1, 1, 0, 0, 0, 0, 0]\n",
      "catsandog\n",
      "[0, 0, 0, 1, 1, 0, 0, 0, 0, 0]\n",
      "a\n",
      "t\n",
      "s\n",
      "[0, 0, 0, 1, 1, 0, 0, 0, 0, 0]\n",
      "sa\n",
      "[0, 0, 0, 1, 1, 0, 0, 0, 0, 0]\n",
      "san\n",
      "[0, 0, 0, 1, 1, 0, 0, 0, 0, 0]\n",
      "sand\n",
      "[0, 0, 0, 1, 1, 0, 0, 1, 0, 0]\n",
      "sando\n",
      "[0, 0, 0, 1, 1, 0, 0, 1, 0, 0]\n",
      "sandog\n",
      "[0, 0, 0, 1, 1, 0, 0, 1, 0, 0]\n",
      "a\n",
      "[0, 0, 0, 1, 1, 0, 0, 1, 0, 0]\n",
      "an\n",
      "[0, 0, 0, 1, 1, 0, 0, 1, 0, 0]\n",
      "and\n",
      "[0, 0, 0, 1, 1, 0, 0, 1, 0, 0]\n",
      "ando\n",
      "[0, 0, 0, 1, 1, 0, 0, 1, 0, 0]\n",
      "andog\n",
      "[0, 0, 0, 1, 1, 0, 0, 1, 0, 0]\n",
      "n\n",
      "d\n",
      "o\n",
      "[0, 0, 0, 1, 1, 0, 0, 1, 0, 0]\n",
      "og\n",
      "[0, 0, 0, 1, 1, 0, 0, 1, 0, 0]\n",
      "False\n"
     ]
    }
   ],
   "source": [
    "print(wordBreak(\"catsandog\",[\"cats\", \"dog\", \"sand\", \"and\", \"cat\"]))"
   ]
  },
  {
   "cell_type": "code",
   "execution_count": null,
   "metadata": {},
   "outputs": [],
   "source": [
    "\n",
    "print(wordBreak(\"fohhemkkaecojceoaejkkoedkofhmohkcjmkggcmnami\",[\"kfomka\",\"hecagbngambii\",\"anobmnikj\",\"c\",\"nnkmfelneemfgcl\",\"ah\",\"bgomgohl\",\"lcbjbg\",\"ebjfoiddndih\",\"hjknoamjbfhckb\",\"eioldlijmmla\",\"nbekmcnakif\",\"fgahmihodolmhbi\",\"gnjfe\",\"hk\",\"b\",\"jbfgm\",\"ecojceoaejkkoed\",\"cemodhmbcmgl\",\"j\",\"gdcnjj\",\"kolaijoicbc\",\"liibjjcini\",\"lmbenj\",\"eklingemgdjncaa\",\"m\",\"hkh\",\"fblb\",\"fk\",\"nnfkfanaga\",\"eldjml\",\"iejn\",\"gbmjfdooeeko\",\"jafogijka\",\"ngnfggojmhclkjd\",\"bfagnfclg\",\"imkeobcdidiifbm\",\"ogeo\",\"gicjog\",\"cjnibenelm\",\"ogoloc\",\"edciifkaff\",\"kbeeg\",\"nebn\",\"jdd\",\"aeojhclmdn\",\"dilbhl\",\"dkk\",\"bgmck\",\"ohgkefkadonafg\",\"labem\",\"fheoglj\",\"gkcanacfjfhogjc\",\"eglkcddd\",\"lelelihakeh\",\"hhjijfiodfi\",\"enehbibnhfjd\",\"gkm\",\"ggj\",\"ag\",\"hhhjogk\",\"lllicdhihn\",\"goakjjnk\",\"lhbn\",\"fhheedadamlnedh\",\"bin\",\"cl\",\"ggjljjjf\",\"fdcdaobhlhgj\",\"nijlf\",\"i\",\"gaemagobjfc\",\"dg\",\"g\",\"jhlelodgeekj\",\"hcimohlni\",\"fdoiohikhacgb\",\"k\",\"doiaigclm\",\"bdfaoncbhfkdbjd\",\"f\",\"jaikbciac\",\"cjgadmfoodmba\",\"molokllh\",\"gfkngeebnggo\",\"lahd\",\"n\",\"ehfngoc\",\"lejfcee\",\"kofhmoh\",\"cgda\",\"de\",\"kljnicikjeh\",\"edomdbibhif\",\"jehdkgmmofihdi\",\"hifcjkloebel\",\"gcghgbemjege\",\"kobhhefbbb\",\"aaikgaolhllhlm\",\"akg\",\"kmmikgkhnn\",\"dnamfhaf\",\"mjhj\",\"ifadcgmgjaa\",\"acnjehgkflgkd\",\"bjj\",\"maihjn\",\"ojakklhl\",\"ign\",\"jhd\",\"kndkhbebgh\",\"amljjfeahcdlfdg\",\"fnboolobch\",\"gcclgcoaojc\",\"kfokbbkllmcd\",\"fec\",\"dljma\",\"noa\",\"cfjie\",\"fohhemkka\",\"bfaldajf\",\"nbk\",\"kmbnjoalnhki\",\"ccieabbnlhbjmj\",\"nmacelialookal\",\"hdlefnbmgklo\",\"bfbblofk\",\"doohocnadd\",\"klmed\",\"e\",\"hkkcmbljlojkghm\",\"jjiadlgf\",\"ogadjhambjikce\",\"bglghjndlk\",\"gackokkbhj\",\"oofohdogb\",\"leiolllnjj\",\"edekdnibja\",\"gjhglilocif\",\"ccfnfjalchc\",\"gl\",\"ihee\",\"cfgccdmecem\",\"mdmcdgjelhgk\",\"laboglchdhbk\",\"ajmiim\",\"cebhalkngloae\",\"hgohednmkahdi\",\"ddiecjnkmgbbei\",\"ajaengmcdlbk\",\"kgg\",\"ndchkjdn\",\"heklaamafiomea\",\"ehg\",\"imelcifnhkae\",\"hcgadilb\",\"elndjcodnhcc\",\"nkjd\",\"gjnfkogkjeobo\",\"eolega\",\"lm\",\"jddfkfbbbhia\",\"cddmfeckheeo\",\"bfnmaalmjdb\",\"fbcg\",\"ko\",\"mojfj\",\"kk\",\"bbljjnnikdhg\",\"l\",\"calbc\",\"mkekn\",\"ejlhdk\",\"hkebdiebecf\",\"emhelbbda\",\"mlba\",\"ckjmih\",\"odfacclfl\",\"lgfjjbgookmnoe\",\"begnkogf\",\"gakojeblk\",\"bfflcmdko\",\"cfdclljcg\",\"ho\",\"fo\",\"acmi\",\"oemknmffgcio\",\"mlkhk\",\"kfhkndmdojhidg\",\"ckfcibmnikn\",\"dgoecamdliaeeoa\",\"ocealkbbec\",\"kbmmihb\",\"ncikad\",\"hi\",\"nccjbnldneijc\",\"hgiccigeehmdl\",\"dlfmjhmioa\",\"kmff\",\"gfhkd\",\"okiamg\",\"ekdbamm\",\"fc\",\"neg\",\"cfmo\",\"ccgahikbbl\",\"khhoc\",\"elbg\",\"cbghbacjbfm\",\"jkagbmfgemjfg\",\"ijceidhhajmja\",\"imibemhdg\",\"ja\",\"idkfd\",\"ndogdkjjkf\",\"fhic\",\"ooajkki\",\"fdnjhh\",\"ba\",\"jdlnidngkfffbmi\",\"jddjfnnjoidcnm\",\"kghljjikbacd\",\"idllbbn\",\"d\",\"mgkajbnjedeiee\",\"fbllleanknmoomb\",\"lom\",\"kofjmmjm\",\"mcdlbglonin\",\"gcnboanh\",\"fggii\",\"fdkbmic\",\"bbiln\",\"cdjcjhonjgiagkb\",\"kooenbeoongcle\",\"cecnlfbaanckdkj\",\"fejlmog\",\"fanekdneoaammb\",\"maojbcegdamn\",\"bcmanmjdeabdo\",\"amloj\",\"adgoej\",\"jh\",\"fhf\",\"cogdljlgek\",\"o\",\"joeiajlioggj\",\"oncal\",\"lbgg\",\"elainnbffk\",\"hbdi\",\"femcanllndoh\",\"ke\",\"hmib\",\"nagfahhljh\",\"ibifdlfeechcbal\",\"knec\",\"oegfcghlgalcnno\",\"abiefmjldmln\",\"mlfglgni\",\"jkofhjeb\",\"ifjbneblfldjel\",\"nahhcimkjhjgb\",\"cdgkbn\",\"nnklfbeecgedie\",\"gmllmjbodhgllc\",\"hogollongjo\",\"fmoinacebll\",\"fkngbganmh\",\"jgdblmhlmfij\",\"fkkdjknahamcfb\",\"aieakdokibj\",\"hddlcdiailhd\",\"iajhmg\",\"jenocgo\",\"embdib\",\"dghbmljjogka\",\"bahcggjgmlf\",\"fb\",\"jldkcfom\",\"mfi\",\"kdkke\",\"odhbl\",\"jin\",\"kcjmkggcmnami\",\"kofig\",\"bid\",\"ohnohi\",\"fcbojdgoaoa\",\"dj\",\"ifkbmbod\",\"dhdedohlghk\",\"nmkeakohicfdjf\",\"ahbifnnoaldgbj\",\"egldeibiinoac\",\"iehfhjjjmil\",\"bmeimi\",\"ombngooicknel\",\"lfdkngobmik\",\"ifjcjkfnmgjcnmi\",\"fmf\",\"aoeaa\",\"an\",\"ffgddcjblehhggo\",\"hijfdcchdilcl\",\"hacbaamkhblnkk\",\"najefebghcbkjfl\",\"hcnnlogjfmmjcma\",\"njgcogemlnohl\",\"ihejh\",\"ej\",\"ofn\",\"ggcklj\",\"omah\",\"hg\",\"obk\",\"giig\",\"cklna\",\"lihaiollfnem\",\"ionlnlhjckf\",\"cfdlijnmgjoebl\",\"dloehimen\",\"acggkacahfhkdne\",\"iecd\",\"gn\",\"odgbnalk\",\"ahfhcd\",\"dghlag\",\"bchfe\",\"dldblmnbifnmlo\",\"cffhbijal\",\"dbddifnojfibha\",\"mhh\",\"cjjol\",\"fed\",\"bhcnf\",\"ciiibbedklnnk\",\"ikniooicmm\",\"ejf\",\"ammeennkcdgbjco\",\"jmhmd\",\"cek\",\"bjbhcmda\",\"kfjmhbf\",\"chjmmnea\",\"ifccifn\",\"naedmco\",\"iohchafbega\",\"kjejfhbco\",\"anlhhhhg\"]))"
   ]
  },
  {
   "cell_type": "code",
   "execution_count": 251,
   "metadata": {
    "scrolled": true
   },
   "outputs": [
    {
     "name": "stdout",
     "output_type": "stream",
     "text": [
      "a\n",
      "[0, 0, 0, 0, 0, 0, 0, 0, 0, 0, 0, 0, 0, 0]\n",
      "ap\n",
      "[0, 0, 0, 0, 0, 0, 0, 0, 0, 0, 0, 0, 0, 0]\n",
      "app\n",
      "[0, 0, 0, 0, 0, 0, 0, 0, 0, 0, 0, 0, 0, 0]\n",
      "appl\n",
      "[0, 0, 0, 0, 0, 0, 0, 0, 0, 0, 0, 0, 0, 0]\n",
      "apple\n",
      "[0, 0, 0, 0, 0, 1, 0, 0, 0, 0, 0, 0, 0, 0]\n",
      "applep\n",
      "[0, 0, 0, 0, 0, 1, 0, 0, 0, 0, 0, 0, 0, 0]\n",
      "applepe\n",
      "[0, 0, 0, 0, 0, 1, 0, 0, 0, 0, 0, 0, 0, 0]\n",
      "applepen\n",
      "[0, 0, 0, 0, 0, 1, 0, 0, 0, 0, 0, 0, 0, 0]\n",
      "applepena\n",
      "[0, 0, 0, 0, 0, 1, 0, 0, 0, 0, 0, 0, 0, 0]\n",
      "applepenap\n",
      "[0, 0, 0, 0, 0, 1, 0, 0, 0, 0, 0, 0, 0, 0]\n",
      "applepenapp\n",
      "[0, 0, 0, 0, 0, 1, 0, 0, 0, 0, 0, 0, 0, 0]\n",
      "applepenappl\n",
      "[0, 0, 0, 0, 0, 1, 0, 0, 0, 0, 0, 0, 0, 0]\n",
      "applepenapple\n",
      "[0, 0, 0, 0, 0, 1, 0, 0, 0, 0, 0, 0, 0, 0]\n",
      "p\n",
      "p\n",
      "l\n",
      "e\n",
      "p\n",
      "[0, 0, 0, 0, 0, 1, 0, 0, 0, 0, 0, 0, 0, 0]\n",
      "pe\n",
      "[0, 0, 0, 0, 0, 1, 0, 0, 0, 0, 0, 0, 0, 0]\n",
      "pen\n",
      "[0, 0, 0, 0, 0, 1, 0, 0, 1, 0, 0, 0, 0, 0]\n",
      "pena\n",
      "[0, 0, 0, 0, 0, 1, 0, 0, 1, 0, 0, 0, 0, 0]\n",
      "penap\n",
      "[0, 0, 0, 0, 0, 1, 0, 0, 1, 0, 0, 0, 0, 0]\n",
      "penapp\n",
      "[0, 0, 0, 0, 0, 1, 0, 0, 1, 0, 0, 0, 0, 0]\n",
      "penappl\n",
      "[0, 0, 0, 0, 0, 1, 0, 0, 1, 0, 0, 0, 0, 0]\n",
      "penapple\n",
      "[0, 0, 0, 0, 0, 1, 0, 0, 1, 0, 0, 0, 0, 0]\n",
      "e\n",
      "n\n",
      "a\n",
      "[0, 0, 0, 0, 0, 1, 0, 0, 1, 0, 0, 0, 0, 0]\n",
      "ap\n",
      "[0, 0, 0, 0, 0, 1, 0, 0, 1, 0, 0, 0, 0, 0]\n",
      "app\n",
      "[0, 0, 0, 0, 0, 1, 0, 0, 1, 0, 0, 0, 0, 0]\n",
      "appl\n",
      "[0, 0, 0, 0, 0, 1, 0, 0, 1, 0, 0, 0, 0, 0]\n",
      "apple\n",
      "[0, 0, 0, 0, 0, 1, 0, 0, 1, 0, 0, 0, 0, 1]\n",
      "p\n",
      "p\n",
      "l\n",
      "True\n"
     ]
    }
   ],
   "source": [
    "print(wordBreak(\"applepenapple\",[\"apple\", \"pen\"]))"
   ]
  },
  {
   "cell_type": "markdown",
   "metadata": {},
   "source": [
    "### 如果我们对 0 和二进制位做 XOR 运算，得到的仍然是这个二进制位\n",
    "### a ⊕ 0 = a a ⊕ 0 = a\n",
    "\n",
    "### 如果我们对相同的二进制位做 XOR 运算，返回的结果是 0\n",
    "### a ⊕ a = 0 a ⊕ a = 0\n",
    "### XOR 满足交换律和结合律\n",
    "\n",
    "### a ⊕ b ⊕ a = (a ⊕ a) ⊕ b = 0 ⊕ b = b a ⊕ b ⊕ a = (a ⊕ a) ⊕ b = 0 ⊕ b = b\n",
    "### 所以我们只需要将所有的数进行 XOR 操作，得到那个唯一的数字"
   ]
  },
  {
   "cell_type": "code",
   "execution_count": 281,
   "metadata": {
    "scrolled": true
   },
   "outputs": [
    {
     "name": "stdout",
     "output_type": "stream",
     "text": [
      "1\n",
      "5\n",
      "4\n",
      "6\n",
      "7\n",
      "5\n",
      "7\n"
     ]
    },
    {
     "data": {
      "text/plain": [
       "7"
      ]
     },
     "execution_count": 281,
     "metadata": {},
     "output_type": "execute_result"
    }
   ],
   "source": [
    "def singleNumber1(nums):\n",
    "    a = 0\n",
    "    for i in nums:\n",
    "        a = a^i\n",
    "        print(a)\n",
    "    return a\n",
    "singleNumber1([1,4,1,2,1,2,2])"
   ]
  },
  {
   "cell_type": "markdown",
   "metadata": {},
   "source": [
    "### 152. 乘积最大子序列\n",
    "\n",
    "给定一个整数数组 nums ，找出一个序列中乘积最大的连续子序列（该序列至少包含一个数）。"
   ]
  },
  {
   "cell_type": "code",
   "execution_count": 144,
   "metadata": {
    "scrolled": true
   },
   "outputs": [],
   "source": [
    "    def maxProduct(nums):\n",
    "        if(nums==[]):\n",
    "            return 0\n",
    "        taille = len(nums)\n",
    "        if(taille==1):\n",
    "            return nums[0]\n",
    "        if(taille==2):\n",
    "            return max([nums[0],nums[1],nums[0]*nums[1]])\n",
    "        i = 1\n",
    "        largest = nums[0]\n",
    "        tmp = nums[0]\n",
    "        while(i<taille):\n",
    "            j = i\n",
    "            tmp*=nums[j]\n",
    "            #print(tmp)\n",
    "            while(tmp > largest):\n",
    "                largest = tmp\n",
    "                j+=1\n",
    "                if(j<taille):\n",
    "                    tmp *= nums[j]\n",
    "                else:\n",
    "                    break       \n",
    "            while(tmp<=largest):\n",
    "                j+=1\n",
    "                if(j<taille):\n",
    "                    tmp*=nums[j]\n",
    "                    while(tmp > largest):\n",
    "                        largest = tmp\n",
    "                        j+=1\n",
    "                        if(j<taille):\n",
    "                            tmp *= nums[j]\n",
    "                        else:\n",
    "                            break\n",
    "                else:\n",
    "                    break\n",
    "            #print(i,nums[i],tmp,largest)\n",
    "            tmp = nums[i]\n",
    "            largest = max(tmp,largest)\n",
    "            i+=1\n",
    "            if(set(nums[i:])=={1,-1}):\n",
    "                break\n",
    "        return largest"
   ]
  },
  {
   "cell_type": "code",
   "execution_count": 145,
   "metadata": {
    "scrolled": true
   },
   "outputs": [
    {
     "data": {
      "text/plain": [
       "298598400"
      ]
     },
     "execution_count": 145,
     "metadata": {},
     "output_type": "execute_result"
    }
   ],
   "source": [
    "maxProduct([-5,2,4,1,-2,2,-6,3,-1,-1,-1,-2,-3,5,1,-3,-4,2,-4,6,-1,5,-6])"
   ]
  },
  {
   "cell_type": "code",
   "execution_count": 139,
   "metadata": {},
   "outputs": [],
   "source": [
    "a = [1,-1,-1,1,1,-1,1,1,-1,-1,1,-1,-1,1,1,-1,1,1,1,-1,-1,-1,-1,1,-1,1,-1,1,1,-1,-1,-1,-1,1,-1,-1,1,-1,-1,1,1,-1,-1,1,1,-1,1,-1,-1,1,-1,-1,-1,-1,1,1,1,1,1,1,-1,1,-1,1,-1,-1,1,-1,-1,1,-1,1,1,-1,1,-1,-1,1,-1,-1,-1,1,1,-1,1,1,-1,-1,1,-1,1,-1,1,-1,-1,-1,-1,1,1,1,1,1,1,-1,1,1,-1,-1,1,1,1,-1,1,-1,-1,-1,-1,-1,1,1,1,1,-1,-1,1,-1,-1,1,1,-1,-1,1,1,-1,1,1,1,1,-1,1,-1,-1,1,1,-1,-1,-1,1,1,-1,-1,1,1,-1,-1,1,-1,1,-1,1,-1,1,-1,-1,1,-1,-1,-1,-1,1,1,1,1,-1,1,1,1,-1,1,-1,-1,-1,-1,-1,-1,1,-1,-1,1,1,-1,-1,-1,1,-1,-1,-1,1,1,-1,1,-1,1,-1,1,1,-1,1,-1,1,1,-1,1,1,-1,1,1,-1,1,-1,-1,-1,1,1,1,1,-1,-1,1,-1,-1,1,1,-1,1,1,-1,-1,1,1,-1,-1,1,-1,-1,1,-1,1,1,1,1,1,-1,1,1,1,1,-1,1,1,-1,-1,1,-1,1,-1,-1,1,1,-1,-1,-1,1,1,-1,-1,1,-1,-1,-1,1,1,-1,1,1,1,1,-1,1,-1,1,1,-1,-1,-1,-1,-1,1,1,1,-1,-1,-1,-1,1,-1,-1,-1,-1,1,-1,1,1,1,1,1,-1,-1,1,1,1,1,-1,-1,1,1,-1,1,-1,1,-1,1,1,1,-1,1,1,1,-1,1,1,-1,-1,1,1,1,-1,-1,-1,1,-1,-1,1,-1,-1,-1,-1,-1,1,1,-1,-1,1,-1,1,1,1,-1,-1,-1,-1,-1,1,1,-1,-1,1,-1,-1,1,-1,-1,-1,1,-1,1,1,-1,1,1,-1,-1,1,-1,1,1,1,-1,-1,1,1,1,1,-1,1,1,-1,1,1,-1,1,1,-1,-1,-1,1,-1,1,1,-1,1,1,1,1,-1,-1,-1,1,1,1,1,1,-1,1,-1,-1,1,1,-1,1,-1,-1,1,1,1,-1,-1,1,1,-1,1,-1,1,1,-1,1,1,-1,-1,-1,-1,-1,-1,-1,-1,-1,-1,-1,1,1,1,-1,-1,1,1,-1,-1,-1,1,1,-1,1,1,1,1,-1,1,1,1,-1,-1,-1,-1,1,-1,-1,1,1,1,-1,1,1,1,1,-1,-1,-1,-1,-1,-1,-1,-1,-1,1,1,-1,1,1,1,-1,-1,-1,-1,1,1,-1,1,-1,1,-1,-1,1,-1,1,1,-1,1,-1,1,-1,1,-1,1,1,1,1,1,-1,1,-1,-1,-1,-1,-1,-1,-1,1,-1,-1,1,-1,-1,-1,1,-1,-1,-1,-1,1,1,1,-1,-1,-1,-1,1,-1,1,1,1,1,-1,1,1,1,-1,-1,-1,-1,1,-1,-1,1,1,1,1,-1,1,-1,-1,-1,-1,-1,-1,1,-1,-1,-1,-1,-1,1,1,-1,1,1,1,-1,1,1,1,-1,-1,1,-1,-1,1,-1,-1,-1,-1,-1,1,-1,1,-1,-1,-1,1,-1,1,1,-1,-1,1,-1,1,1,-1,1,1,1,1,1,1,1,-1,1,1,-1,1,1,1,-1,-1,-1,-1,-1,-1,-1,-1,1,1,1,-1,-1,1,1,1,-1,-1,1,-1,1,-1,-1,-1,1,1,-1,-1,-1,-1,1,1,-1,-1,1,1,-1,1,1,1,-1,1,1,1,-1,-1,-1,1,1,1,-1,1,1,-1,-1,1,-1,-1,-1,1,1,-1,-1,-1,-1,1,-1,1,-1,1,1,1,1,1,1,-1,-1,-1,-1,1,-1,-1,-1,-1,1,1,-1,1,1,-1,1,1,-1,-1,-1,-1,-1,-1,1,-1,1,-1,-1,-1,-1,-1,1,-1,-1,-1,1,-1,1,1,1,1,1,1,1,1,-1,1,1,1,-1,-1,1,1,1,1,1,-1,-1,1,1,1,1,1,1,-1,-1,1,1,-1,1,-1,-1,-1,1,1,1,1,1,-1,1,-1,-1,-1,-1,-1,-1,-1,1,-1,-1,1,-1,-1,-1,1,1,-1,1,1,1,1,1,1,-1,1,-1,-1,1,1,1,-1,-1,1,-1,-1,-1,1,-1,1,-1,1,-1,-1,-1,1,1,-1,-1,-1,-1,1,1,1,-1,1,-1,-1,-1,-1,-1,1,-1,1,-1,-1,-1,1,-1,1,-1,1,1,-1,-1,-1,-1,1,-1,1,-1,1,1,-1,-1,1,-1,1,1,-1,1,-1,1,-1,-1,-1,-1,1,1,-1,-1,-1,1,1,-1,-1,-1,1,1,-1,-1,-1,-1,1,1,1,-1,1,1,1,-1,-1,1,1,-1,1,1,1,-1,-1,-1,1,1,1,1,1,-1,-1,-1,1,1,-1,1,-1,-1,-1,-1,-1,-1,1,-1,-1,-1,-1,1,-1,-1,1,1,1,-1,-1,-1,1,-1,-1,-1,1,-1,-1,1,1,-1,-1,-1,1,1,-1,-1,1,1,1,-1,1,1,1,1,1,1,1,1,-1,-1,1,-1,-1,1,-1,-1,1,1,-1,-1,-1,-1,-1,-1,1,-1,1,1,1,1,-1,1,1,1,-1,-1,-1,1,1,1,-1,1,-1,-1,1,1,-1,-1,1,-1,-1,-1,1,-1,1,1,1,1,-1,-1,1,-1,1,-1,1,-1,-1,-1,1,1,-1,-1,-1,1,-1,1,-1,-1,1,-1,1,-1,-1,-1,1,1,1,-1,1,-1,-1,-1,1,1,1,1,-1,1,-1,1,1,1,1,-1,-1,-1,1,1,-1,-1,-1,1,-1,-1,1,1,1,1,1,-1,1,-1,1,-1,-1,1,1,1,1,1,-1,-1,1,-1,1,1,-1,1,-1,-1,1,-1,-1,1,1,1,1,1,1,-1,1,-1,1,1,1,1,-1,-1,-1,1,1,1,1,-1,-1,1,1,1,1,1,-1,1,1,1,-1,1,1,1,-1,-1,-1,1,1,1,-1,1,-1,1,-1,1,1,-1,1,1,1,1,-1,-1,1,1,1,-1,1,-1,1,1,-1,-1,-1,1,-1,-1,1,1,-1,1,1,1,-1,-1,1,1,-1,1,-1,-1,-1,1,1,1,-1,1,1,1,-1,-1,1,-1,-1,1,1,-1,-1,-1,-1,-1,1,-1,-1,1,1,1,1,-1,-1,-1,-1,-1,-1,1,-1,-1,1,-1,1,1,-1,1,1,1,1,1,1,1,-1,-1,-1,-1,1,-1,1,1,-1,1,-1,-1,-1,-1,-1,1,1,-1,1,1,-1,1,-1,1,1,1,-1,-1,1,1,1,1,-1,1,1,1,1,-1,-1,1,-1,-1,1,-1,-1,1,1,-1,1,-1,-1,1,1,1,-1,-1,1,1,-1,1,-1,1,1,-1,-1,1,1,-1,-1,-1,-1,-1,1,-1,1,-1,1,1,1,1,1,1,1,1,-1,-1,1,-1,1,-1,-1,-1,-1,-1,1,1,-1,1,1,1,1,1,-1,1,-1,1,1,1,-1,1,1,1,-1,1,-1,-1,-1,1,-1,1,-1,-1,-1,-1,1,1,-1,1,-1,-1,1,-1,1,-1,1,-1,1,1,1,-1,-1,1,-1,1,1,-1,-1,-1,1,1,-1,-1,1,1,1,-1,1,1,1,-1,-1,-1,1,-1,-1,1,-1,1,1,-1,-1,-1,1,1,-1,-1,1,1,1,1,1,1,1,1,-1,-1,-1,-1,1,-1,1,-1,1,1,1,1,-1,-1,-1,1,1,-1,-1,-1,1,-1,1,1,1,-1,-1,-1,1,-1,-1,1,1,1,1,1,-1,-1,1,-1,-1,-1,1,-1,1,1,1,1,1,-1,1,-1,-1,-1,1,1,-1,1,1,-1,1,-1,1,-1,-1,1,-1,1,-1,1,-1,-1,1,-1,-1,1,1,-1,-1,-1,1,-1,1,1,1,1,1,-1,-1,-1,1,1,1,-1,1,1,-1,1,-1,1,-1,-1,-1,1,-1,-1,1,-1,1,1,1,1,-1,1,1,-1,-1,1,-1,1,1,-1,1,-1,-1,1,1,-1,1,1,1,1,1,-1,1,1,-1,-1,1,1,-1,1,1,-1,-1,-1,1,1,1,1,-1,1,-1,-1,1,1,1,-1,-1,1,-1,-1,1,1,1,-1,-1,1,1,-1,1,-1,1,1,-1,1,-1,-1,1,-1,-1,1,1,-1,-1,-1,1,1,-1,1,-1,1,1,1,-1,1,1,1,-1,-1,1,-1,-1,1,-1,-1,-1,-1,-1,-1,1,1,1,-1,1,1,1,1,-1,1,-1,1,-1,-1,-1,-1,1,-1,1,-1,-1,1,1,-1,1,1,1,1,1,1,1,1,-1,-1,1,1,-1,-1,1,-1,-1,1,1,1,-1,1,-1,-1,1,1,-1,-1,-1,-1,1,1,1,-1,-1,-1,1,-1,-1,1,-1,1,1,-1,-1,-1,-1,1,1,1,1,-1,1,1,1,1,1,1,1,1,1,1,1,-1,1,-1,-1,1,1,-1,-1,-1,-1,1,-1,-1,1,-1,1,-1,1,1,1,1,-1,-1,1,1,-1,1,-1,1,1,-1,-1,-1,1,-1,-1,1,1,-1,1,-1,-1,1,-1,1,-1,1,1,-1,-1,1,-1,1,-1,-1,-1,-1,1,1,1,-1,1,1,1,-1,-1,1,1,-1,-1,-1,1,1,-1,-1,1,1,1,-1,-1,1,1,-1,1,-1,-1,1,-1,-1,1,-1,1,-1,-1,-1,-1,-1,1,1,1,1,-1,-1,1,-1,-1,1,1,-1,1,1,1,-1,1,-1,-1,-1,1,1,1,1,1,-1,1,-1,-1,-1,-1,-1,-1,1,-1,-1,1,-1,1,-1,-1,-1,1,-1,-1,-1,1,-1,1,1,1,-1,1,-1,-1,1,1,-1,1,1,-1,-1,-1,1,1,1,-1,-1,-1,1,1,1,-1,1,1,-1,-1,1,-1,1,-1,1,1,1,-1,1,-1,-1,1,-1,-1,1,1,1,1,-1,1,-1,1,-1,1,1,-1,-1,1,-1,-1,1,1,1,-1,1,1,-1,1,1,-1,1,-1,-1,-1,1,1,1,-1,-1,1,1,1,-1,1,-1,-1,1,-1,1,-1,1,-1,1,-1,-1,-1,-1,1,1,1,1,-1,-1,1,-1,1,-1,-1,-1,1,1,1,1,-1,-1,1,-1,-1,-1,-1,-1,-1,-1,1,1,1,-1,1,-1,1,1,-1,-1,-1,1,1,1,1,1,-1,-1,1,1,-1,-1,1,-1,1,1,1,-1,-1,1,-1,-1,-1,-1,-1,1,-1,1,1,-1,-1,1,-1,-1,-1,-1,-1,1,1,-1,-1,-1,1,1,1,1,1,1,1,-1,-1,1,-1,-1,1,1,1,-1,1,1,-1,1,1,1,1,-1,1,-1,-1,1,-1,1,1,1,1,1,-1,-1,-1,-1,-1,1,-1,-1,1,-1,-1,1,-1,-1,1,1,-1,1,-1,1,1,1,1,-1,-1,1,1,-1,-1,1,-1,-1,-1,1,1,1,-1,1,1,-1,-1,-1,-1,-1,-1,-1,1,1,-1,-1,-1,-1,-1,-1,1,-1,1,1,1,1,1,1,1,1,-1,1,1,1,1,-1,-1,-1,1,-1,-1,1,1,-1,1,-1,-1,1,-1,1,-1,-1,-1,-1,1,-1,-1,1,1,1,1,1,1,1,1,-1,1,-1,-1,1,1,-1,1,-1,-1,1,-1,1,-1,1,1,1,-1,-1,-1,1,-1,-1,1,1,1,-1,-1,-1,-1,-1,1,-1,-1,-1,1,-1,-1,1,-1,1,1,-1,-1,1,1,-1,1,-1,-1,-1,1,-1,-1,1,-1,1,-1,1,1,1,1,-1,-1,-1,-1,-1,-1,-1,-1,-1,-1,-1,-1,-1,-1,-1,1,-1,-1,-1,-1,1,-1,-1,-1,1,-1,-1,-1,1,-1,-1,-1,-1,1,1,1,-1,1,-1,-1,1,-1,1,1,-1,1,-1,-1,-1,1,1,1,1,-1,1,-1,-1,1,-1,-1,-1,1,-1,1,1,-1,-1,1,1,1,1,-1,-1,-1,1,-1,-1,1,1,-1,-1,-1,1,1,1,-1,1,-1,-1,-1,-1,-1,1,1,-1,1,-1,1,-1,1,1,1,1,-1,-1,-1,-1,1,1,1,-1,1,1,1,1,-1,1,1,-1,1,-1,1,-1,1,1,1,1,-1,1,1,1,-1,1,1,1,1,1,-1,1,1,1,-1,-1,-1,1,1,1,-1,-1,-1,1,1,-1,1,-1,-1,1,-1,1,-1,1,-1,1,-1,1,-1,1,1,1,1,-1,1,1,1,-1,1,-1,1,-1,1,-1,1,1,-1,-1,-1,1,-1,-1,-1,-1,-1,-1,1,1,-1,1,-1,1,1,-1,1,1,-1,-1,-1,1,-1,-1,-1,1,1,-1,-1,1,1,-1,1,1,-1,-1,1,-1,1,-1,-1,1,-1,-1,-1,-1,1,1,1,1,1,-1,-1,-1,1,1,-1,-1,-1,-1,1,-1,1,1,-1,1,-1,-1,1,-1,1,-1,1,-1,-1,-1,1,-1,-1,1,-1,-1,-1,1,1,-1,1,-1,-1,1,-1,1,-1,1,-1,-1,1,1,1,1,-1,1,-1,1,1,1,1,-1,-1,-1,-1,-1,1,-1,1,1,-1,1,1,-1,-1,1,1,1,-1,-1,-1,-1,1,1,1,-1,1,1,1,-1,-1,-1,-1,-1,1,-1,1,-1,1,-1,-1,-1,1,-1,1,-1,-1,-1,-1,1,1,1,-1,-1,1,1,1,1,-1,-1,-1,1,1,1,-1,-1,1,-1,1,-1,1,1,1,1,1,1,-1,-1,1,-1,1,1,-1,1,1,-1,-1,-1,1,1,1,-1,1,1,1,-1,1,1,1,-1,-1,-1,1,-1,-1,-1,1,1,1,-1,1,1,1,1,1,-1,1,-1,1,1,-1,1,-1,1,1,-1,1,-1,-1,1,1,-1,-1,1,1,-1,1,1,-1,-1,-1,-1,1,1,-1,-1,-1,1,-1,-1,1,1,1,-1,1,-1,1,1,-1,1,1,-1,1,1,1,1,-1,1,1,-1,-1,-1,-1,-1,-1,-1,-1,-1,-1,1,1,-1,1,1,1,1,1,1,1,-1,-1,-1,1,-1,1,-1,-1,-1,1,1,-1,1,-1,1,-1,1,1,-1,1,1,-1,1,1,-1,1,1,1,-1,-1,1,1,1,-1,1,1,1,1,1,-1,-1,1,-1,1,-1,1,1,1,-1,1,-1,1,1,-1,1,-1,-1,-1,1,1,1,1,-1,-1,-1,1,-1,-1,-1,-1,-1,1,-1,1,-1,-1,-1,1,-1,1,1,1,-1,-1,-1,1,-1,-1,-1,1,-1,1,-1,1,-1,1,1,1,1,-1,1,-1,-1,-1,-1,-1,-1,-1,-1,-1,1,-1,1,1,-1,-1,-1,1,-1,1,-1,1,1,1,1,-1,-1,1,-1,-1,1,-1,-1,-1,1,-1,1,1,-1,1,1,1,-1,-1,-1,1,-1,-1,1,-1,1,-1,-1,-1,-1,1,-1,-1,-1,1,-1,1,-1,1,-1,-1,1,-1,-1,-1,-1,1,-1,-1,-1,-1,-1,1,1,-1,-1,1,1,-1,-1,1,1,-1,-1,1,1,-1,1,-1,-1,-1,1,-1,-1,1,-1,-1,1,-1,-1,-1,-1,1,-1,-1,1,1,-1,1,-1,-1,1,1,-1,1,1,1,1,1,-1,-1,1,-1,1,-1,-1,1,1,-1,1,1,1,-1,1,1,1,1,-1,-1,1,1,-1,1,-1,-1,1,-1,1,1,1,-1,1,1,-1,1,-1,-1,-1,1,1,1,-1,1,-1,1,1,1,-1,-1,-1,1,1,-1,1,1,1,1,1,1,1,1,-1,1,-1,-1,1,1,1,1,-1,-1,-1,1,1,-1,1,1,-1,1,1,-1,-1,1,-1,-1,1,1,-1,-1,1,-1,1,-1,1,-1,1,1,-1,-1,-1,-1,1,1,-1,1,-1,-1,1,-1,-1,1,1,-1,1,-1,-1,-1,1,-1,-1,-1,1,-1,1,-1,-1,1,-1,-1,1,-1,1,-1,1,1,-1,-1,1,-1,-1,-1,1,1,1,-1,-1,-1,1,-1,1,1,-1,1,-1,-1,-1,-1,-1,-1,1,1,-1,-1,-1,1,1,-1,-1,1,1,1,-1,1,1,-1,-1,1,-1,1,-1,-1,1,-1,1,-1,-1,-1,-1,1,-1,-1,-1,-1,1,-1,1,1,1,-1,1,-1,1,1,-1,1,-1,-1,-1,-1,-1,-1,1,1,-1,-1,1,1,-1,-1,-1,1,-1,1,-1,-1,1,-1,1,-1,-1,1,-1,-1,1,1,-1,-1,1,1,-1,-1,-1,-1,1,1,1,1,-1,1,-1,-1,-1,1,1,1,-1,1,-1,1,-1,-1,1,1,-1,-1,1,1,-1,-1,1,1,-1,1,-1,-1,-1,1,1,1,1,1,-1,-1,1,-1,1,1,-1,-1,1,1,1,-1,-1,1,-1,1,-1,-1,1,-1,-1,-1,1,-1,1,1,1,-1,-1,-1,-1,-1,1,-1,-1,1,-1,1,-1,1,-1,-1,-1,-1,1,1,1,-1,1,-1,-1,-1,1,-1,1,-1,-1,-1,1,-1,1,-1,1,1,1,-1,1,1,-1,-1,1,1,-1,1,1,-1,-1,-1,-1,1,-1,-1,1,-1,1,1,1,1,1,-1,1,1,-1,-1,-1,-1,1,1,-1,-1,-1,-1,-1,-1,-1,1,1,-1,-1,1,1,1,-1,1,1,-1,1,-1,-1,1,-1,1,1,-1,1,1,1,1,1,-1,1,-1,1,-1,1,1,-1,1,-1,-1,-1,1,1,1,-1,-1,-1,-1,1,-1,-1,-1,-1,1,1,1,-1,1,1,1,1,-1,1,-1,1,1,1,1,-1,1,-1,1,1,1,1,-1,1,-1,1,-1,-1,1,1,1,1,-1,-1,1,1,-1,1,-1,-1,1,-1,-1,-1,1,-1,-1,-1,-1,1,1,1,1,-1,-1,1,1,-1,-1,1,-1,1,1,1,-1,-1,1,-1,1,1,1,1,1,-1,-1,1,-1,-1,1,-1,1,-1,-1,-1,1,-1,1,-1,1,-1,1,-1,1,1,1,-1,1,-1,-1,-1,-1,-1,1,-1,1,-1,-1,1,-1,1,1,-1,-1,-1,-1,1,1,-1,1,-1,-1,1,1,1,1,1,-1,-1,1,-1,1,-1,-1,1,-1,1,1,-1,-1,1,-1,1,1,-1,-1,-1,1,-1,1,1,1,-1,-1,-1,1,1,-1,1,1,1,1,-1,1,-1,1,-1,-1,-1,1,1,1,1,1,-1,1,1,1,1,1,1,-1,1,1,1,1,-1,1,1,-1,1,-1,1,1,1,1,-1,-1,1,-1,-1,-1,-1,1,-1,1,-1,1,-1,-1,-1,1,1,1,-1,-1,-1,-1,-1,-1,1,-1,1,1,-1,1,-1,-1,-1,-1,-1,1,1,1,1,1,-1,1,-1,-1,1,1,-1,1,1,1,1,1,1,-1,1,-1,1,1,1,1,1,-1,-1,-1,1,-1,-1,-1,1,-1,-1,-1,1,-1,1,-1,-1,1,1,-1,-1,-1,-1,1,1,-1,-1,-1,1,-1,1,1,-1,1,-1,-1,-1,1,-1,-1,-1,1,-1,1,-1,-1,1,-1,-1,-1,-1,1,-1,1,-1,-1,1,1,1,1,1,1,1,-1,-1,-1,1,-1,1,-1,1,-1,1,1,-1,-1,-1,1,1,1,1,-1,1,-1,-1,-1,-1,1,-1,1,-1,-1,-1,-1,1,1,-1,-1,-1,-1,-1,-1,-1,-1,1,1,1,-1,-1,-1,1,-1,-1,1,1,-1,-1,1,1,1,1,-1,-1,1,-1,1,1,-1,1,-1,1,1,-1,1,1,1,-1,-1,-1,1,-1,1,1,1,-1,1,1,1,-1,1,-1,-1,1,-1,1,-1,-1,-1,-1,1,1,-1,1,1,1,1,1,-1,1,1,1,1,1,1,1,-1,1,-1,1,1,-1,-1,1,-1,1,-1,1,1,1,1,-1,1,-1,1,-1,1,-1,1,-1,1,1,1,1,-1,1,-1,1,-1,-1,1,-1,-1,1,-1,-1,-1,-1,1,-1,-1,1,-1,1,1,1,-1,-1,-1,1,1,1,-1,-1,-1,-1,-1,-1,1,1,1,1,1,1,1,-1,-1,1,1,-1,-1,-1,1,1,1,-1,-1,-1,1,-1,-1,-1,-1,-1,-1,-1,-1,1,1,1,1,-1,1,-1,1,-1,-1,1,-1,-1,1,1,-1,1,-1,1,-1,-1,1,1,1,1,-1,-1,1,1,-1,1,-1,1,-1,-1,-1,-1,1,-1,1,1,1,1,1,1,-1,-1,-1,-1,1,-1,-1,-1,-1,-1,-1,1,1,-1,-1,-1,-1,1,-1,-1,-1,1,-1,1,-1,1,-1,-1,1,1,-1,1,1,1,-1,1,-1,-1,-1,1,-1,-1,1,1,-1,-1,1,-1,-1,-1,-1,-1,-1,-1,1,-1,1,1,-1,-1,1,1,1,-1,-1,-1,1,-1,-1,1,1,1,1,1,1,-1,-1,-1,-1,1,1,-1,-1,1,-1,1,1,-1,1,-1,1,1,-1,1,-1,1,1,1,1,-1,-1,1,1,-1,1,-1,1,1,1,1,-1,1,-1,1,1,-1,1,-1,1,1,1,1,1,-1,1,1,1,1,-1,1,-1,-1,1,-1,1,-1,-1,-1,-1,1,1,1,-1,-1,1,1,-1,-1,-1,1,1,-1,1,1,1,1,1,-1,1,-1,1,1,1,1,-1,1,-1,1,1,1,-1,-1,1,-1,-1,-1,1,1,-1,1,-1,-1,-1,1,-1,1,-1,1,-1,-1,-1,-1,-1,-1,1,1,1,1,-1,-1,1,1,-1,1,1,1,-1,1,-1,-1,-1,-1,1,-1,1,-1,1,1,1,1,-1,-1,-1,-1,1,1,-1,-1,1,-1,1,-1,-1,-1,-1,-1,-1,1,1,1,1,1,-1,1,-1,-1,-1,1,1,1,-1,-1,-1,1,1,-1,1,-1,1,1,-1,-1,-1,1,-1,-1,-1,1,-1,-1,-1,1,-1,-1,1,-1,-1,-1,1,-1,1,1,1,1,-1,-1,-1,1,1,-1,-1,-1,-1,1,-1,-1,-1,-1,-1,-1,1,-1,1,-1,1,-1,-1,1,1,1,-1,-1,-1,1,1,1,-1,-1,-1,1,1,1,1,1,-1,1,1,-1,1,-1,-1,1,1,-1,1,1,1,-1,1,-1,-1,1,1,-1,-1,1,-1,-1,1,1,1,-1,-1,1,-1,-1,1,1,-1,-1,1,1,1,1,-1,1,1,1,-1,-1,1,1,-1,-1,-1,-1,1,-1,1,1,-1,1,-1,1,-1,-1,1,-1,1,-1,1,1,1,-1,1,1,-1,1,1,-1,-1,1,1,-1,-1,1,1,1,1,-1,-1,1,1,1,1,-1,1,-1,1,1,1,1,1,1,1,-1,-1,-1,1,1,-1,1,1,-1,1,1,1,1,-1,-1,-1,1,-1,1,-1,-1,-1,1,1,-1,1,-1,1,-1,1,-1,1,1,1,1,-1,-1,1,-1,1,-1,1,1,-1,1,-1,-1,-1,-1,1,1,-1,-1,1,1,1,-1,1,1,1,1,1,-1,1,1,-1,1,1,-1,1,1,1,1,1,1,-1,1,1,1,-1,-1,1,1,1,-1,-1,-1,-1,-1,1,-1,-1,1,-1,1,1,-1,-1,-1,-1,-1,-1,-1,1,1,1,1,1,1,1,1,-1,-1,1,-1,1,-1,1,1,-1,1,-1,-1,-1,-1,-1,1,1,-1,-1,-1,-1,1,-1,1,-1,-1,1,1,-1,1,1,-1,1,-1,-1,1,-1,-1,-1,-1,-1,1,1,-1,1,-1,-1,-1,1,1,-1,1,1,1,1,-1,1,-1,1,1,-1,1,1,1,-1,-1,-1,-1,-1,-1,-1,1,1,1,1,-1,-1,-1,-1,1,-1,-1,-1,1,1,1,-1,-1,1,-1,-1,-1,-1,-1,1,-1,-1,-1,-1,1,-1,-1,-1,-1,-1,-1,-1,1,-1,1,1,1,-1,1,-1,-1,-1,1,-1,1,-1,1,1,-1,-1,1,-1,1,1,-1,1,1,1,-1,1,1,1,1,1,1,-1,1,1,-1,1,1,1,1,1,-1,1,-1,-1,1,-1,-1,-1,1,1,1,-1,-1,-1,1,-1,1,1,1,1,1,1,-1,1,1,1,1,-1,-1,1,1,-1,1,1,-1,-1,-1,1,-1,1,1,-1,-1,1,1,1,1,-1,1,1,-1,1,-1,1,-1,-1,1,1,1,-1,1,1,-1,1,1,1,1,1,-1,1,1,-1,-1,1,1,1,-1,-1,1,1,-1,1,1,-1,1,1,1,1,1,-1,-1,1,-1,-1,1,1,-1,1,-1,1,1,1,1,1,-1,1,-1,-1,1,-1,1,1,-1,1,-1,1,1,-1,1,-1,-1,1,1,-1,1,1,-1,-1,-1,1,1,1,1,1,-1,-1,-1,-1,1,1,1,-1,1,1,-1,1,-1,-1,-1,-1,1,1,-1,1,-1,-1,-1,1,1,1,1,1,1,1,-1,-1,1,-1,1,1,1,1,-1,-1,1,-1,-1,-1,-1,-1,1,-1,-1,-1,-1,-1,-1,-1,-1,1,-1,1,1,-1,-1,-1,1,1,1,-1,-1,1,1,-1,-1,1,1,-1,1,1,1,1,1,-1,1,-1,-1,-1,1,1,-1,-1,-1,1,1,1,1,1,-1,-1,1,1,-1,-1,1,1,1,-1,1,-1,1,-1,-1,1,-1,-1,1,-1,1,-1,1,-1,1,-1,-1,1,-1,-1,1,1,-1,1,-1,1,1,-1,-1,-1,-1,1,1,1,1,-1,-1,-1,-1,1,-1,1,1,-1,1,1,1,1,-1,-1,1,-1,1,-1,-1,1,-1,-1,1,1,-1,1,-1,-1,1,-1,1,1,-1,1,-1,1,1,1,-1,1,-1,-1,-1,-1,-1,1,1,-1,-1,1,1,-1,-1,-1,1,-1,1,-1,-1,1,1,-1,1,1,-1,1,-1,-1,1,-1,-1,-1,-1,1,-1,-1,1,1,1,-1,1,-1,1,-1,-1,-1,1,1,-1,1,1,-1,-1,1,-1,-1,-1,1,1,1,-1,1,1,-1,-1,-1,-1,-1,-1,1,1,-1,1,-1,-1,-1,1,1,1,-1,-1,-1,1,-1,1,1,-1,-1,-1,1,1,-1,1,-1,-1,1,-1,-1,1,1,1,-1,1,1,1,-1,-1,-1,-1,-1,-1,-1,-1,-1,1,-1,1,1,-1,-1,-1,-1,-1,-1,-1,1,-1,1,-1,-1,1,1,1,-1,-1,1,-1,1,1,1,1,1,-1,-1,-1,-1,-1,1,1,1,1,-1,-1,1,1,1,-1,1,1,1,1,-1,1,-1,-1,1,1,-1,1,-1,1,1,-1,-1,-1,1,-1,-1,1,1,1,1,1,-1,-1,1,-1,-1,-1,1,-1,1,-1,-1,1,-1,1,-1,-1,-1,1,-1,-1,-1,1,1,1,1,1,-1,1,-1,1,1,1,1,1,1,-1,1,-1,1,-1,1,1,-1,1,-1,-1,-1,1,1,-1,1,-1,-1,1,1,-1,1,-1,1,-1,1,1,-1,-1,1,1,1,-1,-1,1,1,-1,-1,-1,1,-1,-1,-1,-1,1,-1,1,-1,-1,-1,-1,-1,-1,-1,-1,1,1,-1,1,-1,-1,-1,1,1,1,-1,1,-1,-1,-1,1,1,1,1,1,-1,1,-1,1,-1,1,1,1,-1,1,1,-1,1,-1,1,1,1,1,1,1,1,1,1,-1,1,-1,1,1,-1,-1,-1,1,1,-1,1,-1,-1,1,1,-1,-1,1,1,-1,1,1,1,1,1,1,1,1,1,1,-1,-1,1,1,-1,-1,1,-1,-1,-1,-1,-1,-1,-1,1,1,1,-1,1,1,-1,-1,-1,1,1,-1,1,-1,-1,-1,1,-1,-1,-1,-1,-1,-1,1,1,-1,1,1,1,1,-1,-1,1,1,-1,1,1,-1,-1,1,1,-1,1,1,-1,1,-1,-1,-1,1,1,-1,1,-1,-1,1,-1,-1,1,-1,1,-1,1,1,-1,-1,1,1,-1,1,1,1,1,1,1,-1,-1,-1,1,1,1,-1,1,1,1,1,-1,-1,-1,1,1,1,1,-1,1,1,-1,1,-1,1,1,-1,1,1,1,1,1,-1,-1,-1,1,-1,-1,-1,-1,1,-1,1,-1,1,-1,1,1,-1,1,-1,1,1,-1,-1,1,1,1,1,1,1,-1,-1,1,-1,-1,1,1,1,-1,1,-1,1,1,1,-1,1,-1,1,1,-1,-1,1,-1,-1,1,1,-1,-1,1,-1,-1,-1,1,-1,-1,1,1,-1,1,-1,1,-1,1,1,-1,-1,-1,1,1,1,1,1,-1,-1,-1,-1,-1,-1,-1,1,-1,-1,-1,1,1,-1,-1,1,-1,-1,1,-1,1,-1,-1,-1,-1,-1,-1,1,1,-1,-1,-1,-1,1,-1,1,1,1,1,1,-1,-1,-1,-1,-1,-1,1,-1,1,1,-1,-1,-1,1,1,1,1,-1,1,-1,1,1,-1,-1,-1,-1,-1,-1,1,-1,-1,1,-1,1,-1,1,-1,1,-1,-1,-1,-1,1,1,1,-1,1,-1,-1,1,1,-1,-1,1,-1,1,1,-1,-1,-1,-1,1,1,-1,-1,1,-1,-1,-1,1,-1,-1,1,1,-1,1,-1,-1,1,-1,-1,-1,1,-1,-1,-1,1,1,1,1,1,1,1,1,1,-1,-1,1,1,1,-1,1,-1,-1,-1,-1,1,1,-1,-1,-1,-1,-1,-1,1,-1,1,1,-1,1,1,-1,1,1,1,1,1,1,-1,1,-1,-1,1,1,1,-1,1,1,1,1,1,-1,-1,-1,-1,-1,-1,-1,-1,-1,1,1,1,1,1,1,1,1,-1,-1,-1,1,-1,-1,1,-1,-1,-1,1,-1,1,1,-1,-1,1,-1,-1,-1,1,1,1,1,1,-1,1,-1,-1,1,1,1,-1,1,1,1,1,1,-1,-1,-1,-1,-1,-1,1,1,1,-1,1,-1,-1,1,1,-1,-1,-1,1,-1,-1,-1,1,-1,-1,-1,1,-1,-1,-1,1,-1,1,1,1,-1,-1,-1,-1,-1,1,1,-1,-1,-1,-1,-1,1,-1,-1,-1,1,1,1,-1,1,1,-1,1,-1,-1,1,1,1,1,1,1,1,-1,1,1,-1,-1,-1,1,1,-1,-1,1,1,-1,1,-1,1,1,-1,1,-1,-1,1,1,-1,-1,1,-1,1,1,1,1,1,-1,-1,-1,1,-1,-1,-1,-1,-1,-1,-1,1,1,-1,1,1,-1,-1,1,-1,1,-1,-1,1,1,-1,-1,-1,1,-1,1,1,1,-1,-1,1,-1,-1,1,-1,-1,1,1,1,1,-1,-1,1,1,1,1,-1,1,-1,1,1,1,1,-1,-1,1,1,-1,-1,-1,-1,-1,1,1,1,1,1,1,1,-1,1,1,1,-1,1,-1,-1,-1,1,-1,1,1,-1,1,-1,-1,-1,1,-1,1,-1,-1,1,-1,1,-1,-1,1,-1,-1,-1,-1,-1,-1,1,-1,-1,1,-1,1,1,1,1,1,-1,-1,-1,-1,-1,-1,1,1,-1,-1,1,1,1,1,-1,1,1,1,1,-1,1,-1,-1,1,-1,1,1,-1,1,-1,1,-1,-1,1,-1,-1,1,-1,-1,-1,-1,-1,-1,-1,-1,-1,-1,-1,-1,1,-1,-1,1,-1,1,1,-1,1,1,-1,1,-1,-1,-1,-1,1,1,1,1,-1,-1,1,-1,-1,1,1,-1,1,-1,-1,-1,1,1,1,-1,1,-1,-1,1,1,-1,1,-1,1,1,1,1,1,1,1,-1,-1,1,1,1,1,-1,-1,-1,-1,-1,-1,1,1,-1,1,-1,1,-1,-1,-1,1,1,1,1,1,1,-1,-1,1,-1,1,1,-1,1,1,1,-1,-1,1,-1,1,1,1,-1,-1,1,-1,-1,-1,-1,-1,1,1,-1,-1,-1,1,-1,-1,1,-1,1,1,1,-1,1,1,-1,1,-1,-1,-1,1,1,1,-1,-1,1,-1,1,-1,-1,1,1,-1,-1,-1,1,-1,-1,1,1,1,1,1,-1,-1,-1,1,1,1,-1,-1,1,-1,-1,1,1,-1,-1,-1,-1,1,-1,-1,1,-1,1,1,1,-1,-1,1,-1,-1,-1,1,-1,1,-1,1,1,1,1,-1,-1,1,1,1,-1,-1,-1,1,1,1,-1,-1,-1,-1,-1,1,1,1,1,1,1,1,1,1,1,-1,1,-1,1,-1,1,-1,-1,1,1,1,-1,1,-1,1,1,1,-1,1,1,-1,-1,1,1,-1,-1,-1,-1,-1,1,-1,-1,-1,1,-1,-1,1,1,-1,1,1,-1,1,1,1,1,1,-1,-1,1,1,1,-1,-1,1,1,-1,1,1,1,1,1,-1,1,-1,1,-1,1,1,1,1,1,-1,-1,-1,-1,-1,1,1,1,1,1,-1,1,-1,1,1,1,1,1,-1,-1,1,-1,-1,-1,-1,-1,-1,-1,-1,-1,1,-1,1,-1,-1,1,1,1,-1,1,1,1,1,1,1,1,-1,-1,-1,1,-1,1,-1,-1,1,-1,-1,-1,-1,-1,-1,1,-1,1,-1,-1,1,1,-1,-1,1,1,1,1,-1,-1,1,1,-1,-1,1,-1,1,-1,-1,1,1,1,1,-1,-1,-1,-1,1,-1,1,1,1,1,1,-1,-1,-1,1,-1,-1,1,1,-1,1,1,-1,-1,1,1,1,1,1,1,1,1,1,1,-1,1,1,-1,-1,1,-1,-1,-1,-1,1,-1,1,-1,-1,1,-1,1,1,-1,1,-1,-1,-1,1,1,1,-1,-1,-1,1,1,1,1,-1,-1,-1,1,1,1,1,1,1,1,-1,-1,1,-1,-1,1,-1,-1,-1,1,-1,-1,1,-1,1,1,1,-1,1,1,-1,1,-1,-1,-1,-1,-1,-1,1,-1,1,-1,-1,-1,1,-1,1,1,1,-1,1,-1,-1,1,-1,-1,1,1,1,1,-1,-1,1,1,1,-1,-1,1,-1,-1,-1,1,1,1,-1,1,1,1,1,1,1,1,1,-1,-1,-1,-1,-1,-1,-1,-1,1,1,-1,-1,1,-1,-1,1,1,1,-1,-1,-1,1,1,-1,1,-1,-1,-1,-1,-1,1,-1,-1,1,-1,-1,1,1,-1,1,1,1,-1,1,1,-1,1,-1,1,-1,-1,1,1,1,1,-1,-1,-1,1,-1,1,-1,-1,1,-1,1,1,-1,1,-1,1,1,-1,-1,-1,1,1,1,1,1,1,-1,1,-1,1,-1,1,-1,-1,-1,-1,1,-1,1,1,-1,1,-1,1,-1,-1,1,1,1,1,1,-1,1,1,1,-1,-1,-1,-1,-1,-1,-1,-1,-1,-1,-1,1,1,-1,1,-1,1,-1,-1,1,1,-1,-1,1,1,1,1,-1,-1,-1,1,1,1,-1,1,-1,1,1,1,1,-1,1,1,1,-1,-1,1,1,1,-1,-1,1,1,1,1,-1,-1,-1,1,1,-1,1,1,1,1,1,1,-1,1,-1,1,1,-1,-1,1,1,-1,-1,1,1,1,-1,-1,-1,1,1,1,1,-1,1,-1,-1,1,1,-1,-1,1,1,-1,-1,-1,-1,-1,1,1,-1,-1,-1,1,-1,1,-1,-1,-1,1,1,1,-1,1,1,-1,1,1,-1,-1,1,1,1,1,-1,-1,1,1,-1,1,1,1,1,1,-1,1,-1,-1,-1,1,1,-1,-1,-1,1,-1,1,-1,-1,1,-1,-1,1,-1,1,-1,-1,-1,1,1,-1,-1,1,-1,-1,1,1,1,-1,-1,-1,-1,1,1,1,-1,1,1,-1,1,1,1,1,1,-1,1,-1,1,1,-1,1,-1,-1,1,-1,-1,1,1,-1,-1,1,-1,1,1,-1,-1,1,-1,-1,1,-1,1,-1,-1,-1,-1,-1,-1,-1,-1,-1,1,-1,1,-1,1,1,1,-1,-1,1,-1,-1,1,1,1,-1,1,1,1,1,1,1,1,-1,1,-1,1,1,1,-1,-1,1,1,-1,-1,-1,-1,1,-1,-1,1,1,-1,1,-1,1,1,-1,1,1,-1,-1,1,1,-1,-1,1,1,-1,1,-1,1,-1,1,1,-1,1,-1,1,-1,-1,-1,-1,1,1,1,-1,-1,1,-1,-1,1,1,-1,1,1,-1,1,-1,1,-1,-1,-1,1,-1,-1,-1,-1,-1,1,-1,-1,-1,1,-1,-1,-1,1,1,-1,-1,-1,1,1,1,-1,1,1,-1,-1,1,-1,-1,-1,-1,-1,-1,-1,-1,-1,1,1,1,-1,-1,-1,-1,-1,1,-1,1,1,1,-1,-1,-1,-1,-1,1,1,-1,-1,-1,1,1,1,1,-1,1,-1,1,1,1,-1,-1,1,1,1,1,-1,1,-1,-1,-1,-1,-1,1,-1,1,1,-1,-1,1,-1,1,1,1,-1,-1,-1,1,-1,-1,1,-1,-1,-1,1,1,-1,1,-1,1,1,-1,-1,1,1,1,1,1,1,-1,1,-1,-1,-1,-1,-1,-1,-1,-1,1,-1,-1,-1,1,1,1,-1,-1,1,-1,-1,1,1,-1,1,1,-1,1,-1,-1,1,-1,-1,-1,1,1,1,-1,1,1,-1,1,-1,1,1,-1,1,1,1,-1,-1,1,1,1,-1,1,-1,1,-1,1,1,-1,-1,-1,-1,-1,-1,1,1,1,-1,-1,1,1,1,1,-1,-1,1,1,1,1,-1,1,-1,-1,1,-1,-1,1,-1,1,-1,-1,-1,1,-1,-1,1,1,-1,1,-1,1,-1,1,-1,-1,1,1,-1,-1,1,-1,1,-1,1,-1,1,1,-1,1,-1,-1,1,-1,-1,-1,1,1,1,-1,1,-1,-1,1,1,-1,1,-1,-1,-1,-1,-1,1,-1,-1,-1,-1,1,1,-1,1,-1,-1,1,1,-1,1,-1,-1,-1,-1,-1,-1,-1,-1,1,1,-1,1,-1,-1,-1,-1,1,1,-1,-1,-1,-1,1,1,1,-1,-1,-1,-1,1,1,-1,1,-1,1,1,-1,1,1,1,1,-1,1,1,-1,-1,-1,1,-1,-1,1,1,-1,1,1,-1,-1,-1,1,1,1,-1,1,1,1,-1,1,-1,-1,-1,-1,1,1,-1,-1,-1,1,-1,1,-1,1,-1,-1,1,-1,1,-1,-1,-1,1,1,-1,-1,-1,1,-1,1,-1,1,1,1,1,1,1,-1,1,1,-1,-1,-1,1,-1,-1,-1,1,-1,1,-1,-1,-1,-1,-1,-1,1,-1,1,1,-1,1,1,-1,-1,1,-1,1,-1,1,-1,-1,-1,-1,-1,-1,1,-1,1,-1,-1,1,1,-1,1,-1,1,-1,-1,-1,-1,1,1,1,1,-1,-1,1,-1,1,-1,-1,-1,-1,-1,1,-1,1,-1,-1,-1,1,1,1,-1,-1,1,-1,-1,1,1,-1,-1,-1,-1,-1,1,-1,1,-1,-1,1,1,1,1,-1,1,-1,-1,-1,1,-1,-1,-1,1,1,-1,-1,1,-1,-1,-1,-1,1,1,-1,1,-1,-1,1,-1,-1,1,-1,-1,-1,-1,-1,1,-1,-1,1,1,-1,1,-1,1,1,-1,1,1,1,-1,-1,1,1,-1,-1,-1,-1,1,1,1,1,-1,1,1,1,1,-1,1,1,-1,1,-1,1,1,1,-1,-1,-1,1,-1,-1,1,-1,1,-1,-1,-1,1,-1,1,1,1,1,1,1,1,1,-1,-1,1,-1,-1,1,-1,1,1,1,-1,-1,-1,-1,-1,1,-1,1,1,-1,-1,1,-1,1,1,-1,-1,-1,-1,1,-1,1,-1,1,-1,1,-1,-1,-1,-1,-1,-1,-1,1,-1,1,1,-1,-1,1,-1,1,-1,1,-1,1,-1,-1,1,1,-1,-1,1,-1,-1,-1,1,-1,-1,1,1,-1,1,-1,1,-1,-1,1,1,1,-1,-1,-1,1,1,-1,1,1,-1,1,-1,-1,-1,-1,-1,-1,-1,1,-1,-1,1,-1,-1,1,1,-1,1,1,-1,1,-1,1,1,1,1,1,1,1,-1,-1,1,1,-1,-1,1,-1,1,1,1,-1,-1,-1,1,-1,1,-1,1,-1,-1,-1,-1,1,-1,1,1,1,-1,1,-1,-1,-1,-1,1,1,-1,-1,1,1,-1,1,1,1,1,-1,-1,1,-1,1,1,1,-1,-1,1,-1,-1,-1,-1,1,1,1,-1,1,1,1,-1,-1,-1,-1,-1,-1,1,1,-1,-1,-1,-1,-1,1,-1,-1,1,1,1,-1,1,1,-1,-1,-1,1,-1,1,1,-1,1,1,1,1,-1,-1,1,-1,-1,1,1,1,1,1,1,-1,1,-1,-1,1,-1,1,1,1,1,1,1,1,1,1,1,1,-1,1,1,1,-1,1,-1,-1,1,-1,1,1,1,1,1,1,-1,-1,1,1,1,-1,1,1,1,1,-1,-1,-1,-1,1,-1,1,1,1,1,1,-1,-1,-1,1,1,-1,-1,-1,-1,1,-1,1,-1,-1,1,-1,1,-1,-1,1,-1,-1,1,-1,1,-1,1,-1,-1,-1,-1,1,1,1,1,-1,-1,1,1,1,-1,1,-1,1,-1,-1,-1,-1,-1,1,1,-1,1,1,1,-1,-1,1,-1,1,-1,-1,-1,1,1,-1,1,-1,1,1,1,-1,-1,1,-1,-1,-1,-1,-1,1,-1,-1,1,1,1,-1,-1,1,1,1,1,-1,-1,-1,-1,1,-1,1,1,-1,1,1,-1,1,1,-1,-1,-1,1,-1,1,-1,-1,-1,-1,-1,1,-1,-1,1,-1,1,-1,1,1,1,-1,-1,-1,-1,1,1,-1,1,1,1,1,-1,1,-1,1,1,1,-1,-1,1,1,-1,-1,1,1,1,-1,-1,1,-1,1,1,-1,1,1,-1,1,1,1,1,1,-1,1,1,1,1,-1,-1,-1,1,1,1,-1,-1,1,1,1,1,-1,-1,-1,1,1,-1,1,1,-1,-1,-1,1,1,-1,-1,1,-1,-1,-1,1,-1,1,1,-1,1,-1,1,-1,1,1,1,-1,-1,1,-1,1,-1,1,-1,-1,-1,1,1,-1,1,1,-1,-1,-1,1,1,-1,1,1,-1,-1,-1,1,1,1,-1,1,1,-1,1,1,1,1,1,1,1,-1,1,1,-1,-1,-1,1,1,1,-1,-1,-1,-1,1,-1,1,-1,-1,1,-1,1,1,-1,1,-1,1,1,1,1,1,-1,1,1,-1,-1,-1,1,1,-1,-1,1,1,-1,-1,1,-1,1,-1,1,-1,-1,-1,1,1,-1,-1,1,1,1,1,-1,-1,1,1,1,1,1,-1,1,-1,-1,-1,1,-1,1,1,1,1,-1,-1,1,1,1,1,-1,-1,1,1,-1,-1,-1,1,1,-1,1,1,1,-1,-1,-1,1,1,1,1,1,1,1,1,-1,1,-1,-1,-1,-1,1,-1,-1,1,1,-1,1,-1,1,1,1,1,-1,-1,1,1,1,-1,1,1,1,1,-1,1,1,1,-1,-1,1,1,-1,1,1,-1,1,-1,-1,1,1,-1,1,-1,1,1,-1,-1,-1,-1,-1,-1,-1,-1,1,-1,1,-1,-1,-1,-1,1,1,-1,-1,1,1,-1,1,-1,-1,1,1,1,-1,-1,1,-1,-1,-1,1,1,-1,-1,-1,-1,-1,-1,1,-1,1,1,-1,1,1,1,-1,-1,1,1,-1,-1,-1,-1,1,1,1,1,-1,1,1,-1,-1,1,-1,1,1,-1,-1,-1,1,1,-1,1,1,-1,-1,1,1,-1,-1,-1,-1,-1,-1,-1,-1,-1,-1,-1,1,-1,-1,1,-1,1,-1,1,1,1,1,1,-1,1,1,-1,1,-1,1,-1,-1,-1,-1,1,-1,1,1,-1,-1,1,-1,1,1,1,-1,-1,1,-1,-1,-1,-1,1,-1,-1,1,1,-1,1,-1,1,1,-1,-1,1,1,-1,1,1,-1,1,-1,1,-1,1,-1,-1,-1,1,-1,1,1,1,-1,-1,-1,-1,1,-1,1,-1,-1,1,1,-1,-1,-1,-1,1,-1,-1,-1,-1,1,1,1,-1,-1,1,-1,-1,-1,-1,1,1,1,-1,-1,1,-1,1,-1,1,1,1,-1,-1,-1,-1,1,-1,1,1,1,-1,-1,1,-1,-1,-1,1,-1,-1,-1,1,1,1,1,1,-1,-1,1,1,1,1,-1,-1,1,1,-1,1,1,1,-1,-1,1,-1,-1,-1,-1,1,-1,1,-1,-1,-1,-1,1,-1,1,1,1,1,-1,-1,-1,-1,-1,-1,1,1,-1,-1,-1,1,-1,-1,-1,-1,1,1,1,1,-1,1,-1,1,-1,1,1,-1,1,1,1,-1,-1,1,1,1,1,-1,1,-1,-1,1,-1,1,1,-1,-1,1,1,1,1,-1,1,-1,1,-1,1,-1,-1,-1,-1,1,1,1,1,1,-1,-1,1,1,-1,-1,1,1,1,1,-1,1,1,1,-1,-1,1,-1,1,-1,1,-1,-1,-1,-1,1,-1,1,1,1,-1,1,-1,1,1,1,1,-1,-1,-1,1,-1,-1,1,1,1,-1,1,-1,1,-1,1,1,-1,1,1,-1,-1,-1,1,1,1,1,1,1,1,1,1,-1,-1,1,1,-1,1,-1,1,-1,-1,1,-1,-1,1,-1,1,1,1,1,-1,1,1,1,1,1,1,-1,1,1,-1,1,1,1,1,-1,1,1,-1,1,-1,-1,-1,1,1,-1,1,1,-1,1,-1,1,-1,-1,1,-1,-1,1,1,1,-1,1,-1,1,-1,-1,-1,1,-1,-1,1,1,1,-1,-1,1,-1,1,-1,1,1,-1,1,1,-1,1,1,1,-1,1,-1,-1,1,-1,-1,1,-1,1,1,1,-1,1,1,1,1,1,-1,-1,-1,-1,-1,1,1,-1,1,-1,1,-1,1,1,1,-1,1,-1,-1,-1,1,1,-1,-1,-1,1,1,-1,1,1,-1,-1,1,-1,1,1,-1,1,1,1,1,-1,1,1,-1,1,1,-1,-1,1,-1,1,-1,1,-1,-1,-1,1,-1,1,1,1,-1,-1,1,1,1,1,1,-1,-1,1,-1,-1,-1,1,1,-1,-1,-1,-1,1,1,-1,-1,-1,-1,1,1,-1,1,-1,1,-1,1,-1,1,1,-1,1,1,1,-1,1,-1,1,-1,1,-1,1,-1,-1,-1,-1,-1,-1,-1,-1,1,1,-1,1,1,-1,-1,-1,1,1,1,-1,1,-1,1,1,1,1,1,-1,-1,1,1,1,1,1,1,-1,1,1,1,-1,1,1,-1,-1,-1,1,1,-1,1,-1,1,1,1,-1,1,1,1,1,1,-1,-1,1,1,1,1,-1,1,1,1,1,-1,1,1,1,1,-1,1,-1,-1,1,1,-1,1,1,1,-1,1,-1,-1,-1,-1,1,-1,1,1,1,1,-1,-1,-1,1,-1,-1,1,1,-1,-1,1,-1,1,-1,1,1,-1,-1,-1,-1,1,-1,-1,-1,-1,1,-1,-1,1,1,-1,1,-1,-1,1,1,-1,-1,1,1,1,1,1,-1,-1,1,-1,1,1,1,-1,-1,1,1,-1,1,1,-1,1,1,-1,1,-1,1,-1,-1,1,-1,1,1,-1,1,1,1,-1,1,-1,1,1,-1,1,-1,-1,-1,1,-1,1,-1,-1,-1,-1,-1,-1,-1,1,-1,-1,1,1,-1,1,1,-1,1,1,1,-1,-1,1,-1,-1,-1,-1,-1,1,1,-1,1,1,-1,-1,1,-1,-1,1,-1,-1,-1,-1,1,-1,-1,1,-1,-1,1,1,-1,-1,1,-1,-1,-1,-1,1,1,1,1,1,-1,-1,-1,1,-1,1,1,1,1,1,1,-1,-1,-1,1,1,1,1,-1,-1,1,1,1,-1,-1,-1,-1,1,-1,-1,-1,1,-1,1,-1,-1,-1,-1,1,1,1,1,1,-1,1,1,-1,1,1,-1,1,-1,1,1,-1,-1,1,1,1,1,1,-1,-1,1,1,1,1,1,-1,1,-1,-1,1,-1,1,-1,1,1,1,1,-1,-1,1,1,-1,1,1,1,1,1,1,1,-1,-1,1,-1,-1,-1,-1,1,-1,-1,1,1,1,1,1,1,1,1,1,1,-1,1,1,-1,-1,-1,-1,1,1,1,1,-1,-1,1,-1,-1,1,1,1,1,-1,-1,-1,1,-1,-1,-1,1,1,-1,-1,1,1,1,-1,-1,1,1,1,1,-1,1,1,-1,1,1,-1,-1,1,-1,-1,-1,1,1,-1,-1,1,1,1,-1,-1,-1,1,-1,1,-1,-1,-1,1,-1,-1,-1,1,1,1,1,-1,1,-1,-1,-1,-1,-1,1,1,1,1,-1,1,-1,-1,-1,-1,1,-1,-1,-1,1,-1,-1,1,-1,1,1,-1,1,1,-1,1,-1,-1,-1,-1,-1,1,-1,1,1,-1,1,1,-1,1,1,-1,1,-1,-1,-1,-1,1,1,-1,1,1,-1,-1,1,1,1,-1,1,1,1,-1,-1,-1,-1,1,-1,-1,1,-1,-1,-1,1,-1,1,1,-1,-1,-1,-1,1,1,-1,1,1,1,-1,-1,-1,1,1,-1,1,1,1,-1,-1,1,1,-1,-1,1,1,-1,-1,1,-1,1,1,-1,1,-1,-1,1,-1,-1,-1,-1,1,1,1,-1,-1,1,-1,-1,-1,-1,1,1,1,-1,-1,1,1,1,-1,1,1,-1,-1,1,-1,-1,-1,-1,-1,1,-1,1,-1,1,-1,1,-1,1,-1,1,-1,-1,1,-1,-1,1,-1,-1,-1,-1,-1,-1,1,-1,1,-1,-1,-1,1,1,1,-1,1,1,-1,-1,1,1,1,1,-1,1,-1,1,-1,1,-1,1,1,-1,1,1,1,1,1,-1,1,1,-1,1,-1,-1,1,1,1,1,-1,1,1,1,-1,-1,1,1,1,-1,-1,-1,1,-1,-1,1,-1,-1,1,-1,-1,-1,1,-1,1,1,-1,1,-1,1,1,1,1,-1,1,1,-1,-1,-1,-1,-1,1,1,1,-1,1,1,-1,1,-1,1,-1,-1,-1,-1,-1,-1,-1,-1,1,-1,-1,-1,-1,-1,-1,-1,-1,-1,-1,-1,1,1,-1,-1,1,-1,-1,1,-1,-1,1,-1,1,-1,1,-1,1,-1,-1,-1,-1,-1,1,1,1,-1,1,-1,-1,-1,1,1,1,1,-1,-1,-1,-1,1,1,-1,1,1,-1,1,-1,1,1,-1,-1,-1,-1,-1,1,1,-1,1,-1,-1,-1,-1,-1,1,-1,1,1,-1,-1,1,1,1,-1,1,1,1,-1,1,-1,-1,1,1,1,-1,-1,1,1,-1,-1,1,-1,-1,1,1,1,-1,1,1,-1,-1,1,-1,1,1,1,-1,-1,1,-1,1,1,1,-1,-1,1,-1,1,1,-1,-1,1,1,1,1,-1,1,1,-1,-1,1,-1,-1,-1,1,1,1,1,-1,1,-1,1,1,1,1,1,1,-1,-1,-1,1,-1,1,1,1,-1,-1,-1,1,-1,1,-1,1,-1,1,1,-1,-1,1,-1,1,1,-1,1,-1,-1,-1,1,-1,-1,1,-1,1,1,1,-1,-1,-1,1,-1,-1,-1,1,1,-1,-1,-1,-1,-1,-1,-1,-1,-1,-1,-1,-1,1,-1,-1,1,-1,-1,-1,-1,-1,1,-1,1,-1,-1,-1,-1,1,-1,-1,-1,-1,1,1,-1,1,-1,-1,-1,1,-1,-1,1,1,-1,-1,1,1,1,-1,1,-1,1,1,1,-1,-1,1,-1,1,-1,-1,-1,1,-1,-1,1,1,-1,1,1,1,-1,1,-1,1,1,-1,-1,1,-1,1,1,-1,-1,-1,-1,1,1,-1,-1,1,1,1,-1,1,-1,-1,-1,-1,1,-1,-1,1,-1,-1,1,1,1,-1,-1,1,-1,-1,-1,-1,1,1,1,-1,-1,-1,1,1,-1,1,1,-1,1,-1,1,1,1,1,-1,-1,-1,-1,1,-1,-1,1,1,-1,1,1,1,1,-1,-1,1,-1,-1,-1,-1,-1,-1,-1,1,1,1,-1,1,1,-1,1,1,1,1,-1,1,-1,-1,-1,-1,-1,1,1,1,-1,1,1,1,-1,1,-1,1,-1,1,1,-1,-1,-1,-1,-1,1,1,1,-1,-1,-1,-1,-1,-1,-1,-1,-1,1,1,1,-1,1,-1,1,-1,1,-1,-1,-1,-1,1,1,-1,-1,1,1,-1,1,-1,-1,-1,-1,1,1,-1,-1,1,-1,1,1,-1,1,1,-1,-1,-1,1,-1,-1,1,-1,1,1,1,-1,1,1,-1,-1,-1,-1,1,-1,-1,1,-1,1,-1,-1,-1,-1,1,1,-1,-1,1,1,-1,-1,-1,1,1,1,1,-1,-1,1,-1,-1,1,1,-1,1,-1,-1,-1,1,-1,-1,-1,-1,1,-1,1,1,1,1,1,-1,1,-1,-1,-1,-1,1,-1,1,-1,-1,-1,-1,1,1,1,-1,1,-1,1,-1,1,1,1,1,1,1,1,-1,-1,1,1,1,1,1,1,1,-1,-1,1,-1,1,-1,-1,1,1,1,1,1,-1,1,-1,-1,1,1,1,-1,-1,1,1,-1,1,-1,1,1,-1,-1,1,-1,-1,-1,-1,1,-1,-1,1,-1,1,1,-1,-1,1,1,-1,-1,1,-1,-1,1,1,-1,1,1,-1,-1,-1,1,1,-1,1,1,1,-1,-1,-1,1,1,1,-1,1,-1,-1,-1,1,1,1,-1,1,1,1,-1,-1,1,1,-1,1,-1,1,-1,-1,1,1,-1,-1,1,1,-1,1,-1,1,-1,1,-1,-1,-1,1,-1,1,-1,1,-1,-1,-1,1,-1,1,-1,-1,1,1,-1,1,1,-1,-1,1,1,-1,-1,-1,1,-1,1,-1,-1,-1,-1,-1,-1,1,-1,-1,1,-1,-1,-1,1,1,-1,-1,-1,1,-1,1,-1,-1,-1,1,1,1,1,-1,-1,1,1,1,-1,1,1,1,1,-1,1,1,-1,-1,1,-1,1,1,1,-1,-1,1,-1,-1,1,-1,1,1,-1,-1,-1,-1,-1,-1,1,1,1,-1,-1,1,-1,1,1,-1,1,-1,1,-1,-1,-1,1,1,1,1,-1,-1,1,1,-1,1,1,-1,1,-1,-1,-1,1,1,1,-1,1,-1,1,-1,1,1,-1,-1,-1,1,1,1,1,1,1,-1,1,-1,-1,1,1,1,-1,-1,1,1,-1,1,1,-1,1,1,-1,1,-1,1,-1,1,-1,1,-1,1,-1,-1,-1,-1,-1,1,1,1,1,1,-1,-1,-1,1,-1,-1,-1,-1,1,-1,1,1,-1,1,-1,1,1,1,1,-1,-1,1,-1,-1,1,-1,1,-1,-1,1,-1,1,1,1,1,1,-1,-1,-1,1,-1,-1,-1,-1,-1,1,1,1,1,-1,-1,1,1,-1,1,1,1,-1,1,1,-1,1,-1,1,1,1,1,1,1,-1,-1,1,1,1,-1,1,1,1,1,1,1,1,1,-1,-1,1,-1,-1,1,-1,-1,1,1,-1,-1,-1,1,1,1,-1,1,1,-1,1,-1,-1,-1,1,1,1,-1,1,1,1,1,-1,-1,1,1,1,-1,1,-1,1,-1,1,1,1,-1,-1,1,-1,-1,1,-1,1,1,-1,1,-1,1,1,1,-1,-1,1,-1,-1,-1,-1,-1,1,1,1,1,-1,-1,1,1,-1,-1,1,1,-1,1,1,1,-1,-1,-1,-1,1,-1,-1,-1,-1,1,-1,1,1,1,1,-1,-1,-1,1,-1,1,-1,1,1,-1,1,-1,1,-1,-1,1,-1,-1,1,-1,-1,1,1,1,-1,-1,-1,-1,-1,-1,1,-1,1,1,1,-1,-1,1,-1,1,1,-1,1,-1,1,1,1,1,-1,-1,-1,-1,-1,1,1,-1,1,-1,-1,1,1,1,-1,1,-1,1,-1,1,-1,1,-1,-1,1,-1,1,1,-1,-1,1,1,-1,-1,1,1,1,1,1,1,1,1,1,-1,1,1,-1,1,1,1,1,-1,1,-1,-1,-1,-1,1,1,-1,1,1,-1,1,-1,-1,1,1,-1,-1,-1,1,-1,-1,1,1,1,1,1,-1,-1,-1,-1,1,1,-1,-1,-1,-1,1,-1,-1,-1,-1,-1,-1,1,1,1,-1,-1,-1,1,-1,1,1,-1,-1,-1,1,-1,-1,-1,-1,1,1,-1,1,-1,-1,1,1,1,-1,-1,1,1,1,1,-1,-1,-1,1,-1,-1,1,-1,1,-1,1,-1,-1,-1,1,-1,-1,-1,1,-1,-1,-1,1,-1,1,1,1,-1,-1,1,1,-1,-1,1,-1,1,1,1,-1,1,1,1,1,-1,-1,1,-1,1,1,-1,-1,-1,-1,1,1,-1,-1,1,-1,1,-1,1,-1,-1,-1,-1,-1,-1,1,-1,-1,1,1,1,-1,1,-1,1,1,1,1,-1,-1,1,-1,-1,1,1,1,1,1,1,-1,-1,1,1,1,1,1,1,1,-1,1,-1,-1,1,-1,-1,-1,1,1,-1,1,-1,-1,1,-1,1,1,1,1,1,-1,-1,1,1,-1,1,-1,1,-1,1,-1,-1,-1,-1,-1,-1,1,-1,-1,-1,-1,1,1,-1,1,1,1,1,-1,1,-1,1,-1,-1,1,1,1,1,1,1,-1,-1,-1,1,1,-1,1,-1,1,1,-1,1,1,1,-1,-1,-1,-1,-1,-1,-1,-1,-1,1,1,-1,-1,1,1,1,1,-1,-1,-1,-1,-1,-1,-1,-1,-1,-1,-1,-1,-1,-1,1,1,-1,1,-1,1,1,-1,-1,-1,1,1,1,-1,-1,-1,1,1,-1,-1,-1,-1,1,1,1,-1,-1,-1,-1,1,1,-1,1,-1,1,-1,1,1,1,-1,1,1,-1,1,-1,-1,-1,-1,-1,-1,-1,-1,-1,-1,1,-1,-1,-1,-1,1,-1,1,1,1,1,1,-1,1,1,-1,-1,-1,1,-1,1,1,1,-1,1,1,1,1,1,1,-1,1,1,-1,-1,1,1,-1,1,-1,1,-1,-1,1,1,1,-1,1,1,1,1,-1,-1,1,-1,-1,1,1,-1,1,-1,-1,-1,-1,1,1,-1,1,-1,-1,-1,-1,1,-1,-1,-1,-1,1,1,1,1,1,-1,-1,-1,1,1,1,1,-1,-1,-1,-1,1,1,1,-1,1,-1,1,-1,-1,1,-1,-1,1,-1,-1,-1,-1,1,-1,-1,1,-1,1,-1,-1,1,1,-1,-1,-1,-1,1,-1,1,1,-1,-1,-1,1,1,-1,1,-1,1,1,-1,-1,1,1,-1,1,-1,1,1,1,1,1,-1,-1,1,-1,1,-1,1,-1,1,-1,1,-1,-1,-1,1,1,-1,-1,1,-1,1,-1,-1,-1,-1,-1,1,-1,1,-1,1,1,1,-1,-1,1,1,-1,1,1,1,1,-1,-1,-1,-1,-1,-1,-1,1,-1,-1,-1,1,-1,1,1,1,1,1,1,-1,1,-1,1,1,-1,-1,1,-1,-1,-1,1,1,-1,-1,-1,-1,-1,1,1,-1,1,1,-1,-1,-1,-1,1,-1,-1,-1,-1,1,1,-1,1,-1,-1,-1,-1,1,1,1,-1,-1,-1,1,1,1,1,1,-1,-1,1,1,1,-1,1,-1,1,1,-1,1,-1,1,1,-1,1,1,1,-1,-1,-1,-1,-1,-1,-1,-1,-1,1,1,1,1,1,-1,-1,1,1,1,1,1,-1,1,1,1,-1,-1,1,1,-1,-1,1,1,1,1,-1,-1,-1,-1,-1,-1,-1,-1,-1,-1,-1,-1,-1,-1,1,-1,1,1,-1,1,-1,1,-1,-1,-1,-1,-1,-1,-1,1,1,-1,1,-1,1,1,-1,1,-1,-1,1,-1,1,1,1,-1,-1,1,1,1,1,1,-1,1,1,-1,-1,-1,1,1,1,1,-1,-1,-1,1,-1,-1,-1,-1,-1,-1,-1,-1,1,-1,-1,-1,1,-1,-1,-1,1,-1,1,-1,1,-1,-1,-1,1,-1,-1,1,-1,-1,-1,1,1,1,-1,-1,-1,1,1,1,-1,1,1,1,1,-1,-1,1,-1,-1,1,-1,-1,-1,-1,1,1,1,1,1,1,1,1,-1,1,-1,1,-1,1,-1,1,-1,-1,1,1,1,-1,-1,-1,1,1,1,1,1,1,-1,-1,-1,1,1,1,1,1,1,1,1,1,-1,1,1,-1,-1,1,1,-1,1,1,1,1,1,1,-1,1,-1,-1,-1,-1,-1,-1,1,1,-1,-1,1,1,-1,1,-1,-1,-1,1,-1,-1,1,-1,1,-1,1,-1,1,-1,-1,-1,1,1,-1,-1,-1,-1,1,1,1,-1,1,-1,-1,-1,1,-1,1,-1,1,-1,-1,-1,1,1,-1,-1,1,-1,-1,-1,-1,-1,1,1,-1,-1,-1,-1,-1,1,-1,-1,-1,1,1,-1,-1,-1,1,1,1,-1,-1,1,-1,-1,1,-1,-1,-1,-1,1,-1,-1,-1,1,1,1,-1,-1,-1,-1,-1,1,1,1,1,-1,1,-1,1,1,1,-1,1,-1,-1,1,-1,-1,-1,1,-1,-1,1,-1,-1,-1,1,-1,-1,1,1,-1,-1,1,1,1,-1,1,1,1,-1,-1,1,-1,1,-1,-1,-1,-1,1,-1,1,1,1,1,1,1,1,-1,1,1,-1,-1,1,-1,1,-1,1,1,1,1,1,-1,-1,1,1,-1,1,-1,-1,1,1,-1,-1,-1,1,-1,-1,-1,1,1,1,1,1,1,1,1,-1,-1,-1,-1,1,1,-1,1,1,-1,-1,1,-1,1,1,1,-1,1,-1,-1,1,-1,1,-1,1,1,-1,1,-1,1,1,1,-1,-1,-1,1,1,-1,-1,1,1,-1,1,-1,-1,-1,-1,1,1,1,-1,1,1,-1,1,1,1,1,1,-1,-1,-1,-1,-1,1,-1,-1,1,1,-1,1,1,-1,1,1,-1,-1,-1,1,1,-1,1,-1,1,1,-1,-1,1,1,-1,1,-1,-1,-1,1,-1,1,-1,1,1,1,1,1,-1,-1,1,1,-1,1,-1,-1,-1,-1,-1,1,-1,-1,1,1,-1,1,-1,-1,-1,-1,-1,-1,-1,1,1,-1,1,1,1,1,1,1,-1,-1,-1,1,-1,1,-1,1,1,-1,-1,1,-1,-1,-1,-1,-1,1,-1,1,-1,1,1,-1,1,-1,-1,1,1,1,1,-1,1,1,1,1,1,1,1,-1,1,1,-1,-1,-1,-1,-1,-1,1,-1,1,-1,-1,1,-1,1,1,-1,-1,1,1,1,-1,1,-1,1,1,1,-1,1,-1,-1,1,1,1,1,1,-1,-1,1,-1,-1,1,-1,1,-1,1,-1,1,1,1,-1,1,1,1,1,-1,-1,-1,1,-1,1,-1,-1,-1,1,1,-1,1,1,1,-1,1,-1,1,1,1,1,-1,1,-1,-1,1,-1,-1,-1,-1,1,1,-1,-1,1,1,1,-1,1,-1,1,1,1,-1,-1,-1,1,-1,1,-1,-1,-1,1,1,1,1,1,-1,1,1,1,1,-1,1,-1,1,1,1,1,1,1,1,-1,-1,1,1,1,-1,1,1,-1,-1,1,-1,-1,-1,1,-1,-1,1,-1,1,1,-1,1,1,-1,1,1,1,-1,1,-1,1,-1,-1,-1,1,-1,-1,-1,-1,1,1,-1,-1,1,-1,-1,1,-1,1,1,1,-1,1,1,-1,1,1,1,1,1,-1,-1,-1,-1,-1,-1,1,-1,1,1,-1,1,1,1,-1,-1,-1,-1,1,-1,1,-1,1,-1,1,1,-1,-1,-1,1,-1,-1,-1,1,1,1,1,1,1,-1,1,1,-1,-1,-1,1,-1,1,1,-1,-1,-1,-1,-1,1,1,-1,1,1,-1,-1,1,-1,-1,-1,1,-1,1,1,1,1,-1,-1,-1,1,-1,1,1,-1,1,-1,-1,1,-1,1,-1,1,-1,1,1,-1,-1,1,1,1,-1,1,-1,-1,1,-1,-1,1,-1,-1,-1,1,1,-1,-1,-1,-1,-1,-1,1,-1,-1,-1,1,1,-1,-1,1,1,1,-1,-1,-1,1,1,1,-1,1,-1,-1,1,-1,1,-1,-1,1,-1,1,1,1,1,1,1,-1,-1,-1,1,-1,-1,-1,-1,-1,-1,1,-1,-1,-1,-1,1,-1,1,-1,1,-1,-1,1,-1,1,1,-1,-1,1,-1,1,1,1,1,-1,1,-1,1,1,1,1,1,-1,-1,-1,-1,1,-1,-1,-1,-1,1,1,1,1,1,1,1,-1,-1,-1,-1,-1,1,1,-1,-1,-1,-1,-1,1,-1,1,-1,-1,-1,-1,-1,1,-1,-1,1,1,1,-1,-1,1,-1,-1,1,-1,1,1,1,1,-1,-1,1,1,-1,1,-1,1,1,1,-1,1,1,1,1,-1,1,1,1,-1,1,-1,1,-1,1,-1,1,-1,1,1,1,1,-1,1,-1,-1,-1,1,1,-1,1,-1,-1,1,-1,1,1,1,-1,-1,1,-1,-1,1,-1,-1,-1,-1,1,-1,1,1,1,1,1,1,-1,-1,-1,1,1,-1,-1,1,1,1,1,-1,1,1,1,-1,1,-1,-1,1,-1,1,1,-1,-1,1,1,1,-1,-1,-1,1,-1,-1,-1,-1,1,-1,1,1,-1,1,-1,1,1,1,-1,1,-1,1,-1,-1,-1,-1,-1,-1,1,1,1,-1,-1,1,-1,1,-1,1,-1,1,-1,1,-1,1,-1,-1,1,-1,1,-1,1,-1,1,-1,-1,1,-1,-1,1,-1,-1,1,1,-1,-1,1,-1,-1,1,1,1,-1,1,-1,1,1,-1,-1,1,1,-1,1,1,-1,1,-1,-1,1,-1,1,-1,-1,-1,-1,1,-1,1,1,-1,-1,1,1,1,-1,-1,1,1,-1,-1,1,1,-1,1,-1,1,1,-1,1,1,-1,-1,1,-1,1,1,1,1,1,-1,-1,1,-1,1,-1,1,1,1,-1,1,-1,1,1,-1,-1,1,-1,-1,1,1,1,1,1,1,-1,1,1,-1,-1,-1,-1,1,1,1,1,-1,-1,-1,1,-1,-1,1,1,-1,-1,1,-1,-1,1,1,-1,1,1,-1,1,1,-1,-1,1,1,1,1,1,-1,-1,1,1,1,1,1,-1,1,1,1,-1,-1,-1,1,-1,-1,-1,-1,-1,1,1,-1,-1,-1,1,1,-1,-1,1,-1,1,1,1,-1,-1,1,1,-1,-1,1,-1,1,1,-1,1,-1,-1,1,1,1,1,-1,-1,-1,-1,1,1,-1,-1,1,1,-1,-1,1,1,-1,1,1,-1,1,-1,1,-1,-1,-1,1,1,1,-1,1,1,-1,1,-1,1,1,1,1,-1,1,-1,-1,1,-1,1,1,1,1,-1,-1,-1,-1,-1,-1,1,-1,-1,-1,-1,-1,-1,-1,-1,-1,1,1,1,1,-1,1,-1,-1,1,-1,1,1,1,-1,-1,1,-1,1,1,-1,-1,-1,-1,1,-1,1,-1,1,1,-1,-1,-1,1,-1,1,1,-1,1,-1,1,-1,-1,1,-1,-1,-1,-1,-1,1,1,1,-1,-1,1,1,1,1,1,-1,1,1,1,-1,-1,1,1,-1,1,1,-1,1,1,1,1,1,1,-1,-1,1,-1,1,-1,1,-1,1,-1,1,-1,-1,-1,1,-1,1,1,-1,1,-1,-1,-1,-1,-1,1,1,1,1,1,1,-1,1,1,1,1,-1,1,-1,1,1,1,1,1,1,-1,-1,-1,-1,1,1,1,-1,1,1,-1,-1,-1,1,1,-1,1,-1,1,-1,1,-1,1,1,-1,1,1,-1,1,-1,-1,-1,1,1,1,-1,1,-1,-1,1,-1,-1,-1,-1,1,-1,-1,-1,-1,1,1,1,1,-1,-1,1,-1,1,-1,-1,1,1,-1,-1,-1,-1,1,-1,1,-1,1,1,-1,-1,1,1,-1,1,1,1,-1,-1,1,-1,-1,-1,1,-1,1,-1,1,-1,1,1,1,1,-1,1,-1,1,1,-1,-1,-1,-1,-1,-1,1,-1,1,-1,1,-1,1,1,-1,-1,-1,1,1,1,1,1,1,1,-1,-1,-1,1,-1,1,1,1,1,-1,1,1,-1,1,1,1,-1,1,-1,-1,-1,-1,1,-1,-1,1,-1,-1,-1,1,-1,-1,-1,1,1,1,-1,-1,1,1,-1,-1,-1,-1,-1,-1,1,1,-1,1,-1,-1,-1,1,-1,1,1,-1,-1,1,-1,-1,-1,-1,-1,1,1,1,-1,-1,-1,1,1,-1,-1,1,-1,-1,-1,1,1,1,-1,-1,1,-1,-1,-1,-1,1,-1,-1,1,1,-1,-1,1,-1,1,1,-1,1,-1,-1,1,-1,-1,1,1,-1,-1,-1,1,-1,1,-1,-1,-1,-1,-1,-1,-1,1,-1,-1,1,1,-1,1,-1,-1,1,1,-1,1,-1,1,-1,-1,1,1,1,-1,-1,-1,-1,-1,1,-1,-1,-1,1,1,1,1,1,1,-1,-1,-1,1,1,-1,1,1,-1,-1,-1,1,-1,-1,1,-1,1,1,-1,-1,1,-1,-1,1,1,-1,-1,1,1,1,1,-1,-1,1,1,1,1,1,1,1,1,1,1,-1,-1,1,-1,-1,1,1,1,-1,-1,-1,-1,-1,1,-1,1,1,1,1,1,1,1,1,1,-1,1,1,-1,-1,1,-1,-1,1,1,1,-1,1,-1,1,-1,-1,-1,-1,-1,1,1,1,1,1,-1,-1,1,-1,1,-1,1,1,1,1,-1,1,1,-1,1,1,-1,-1,-1,1,-1,-1,1,1,1,1,-1,1,-1,-1,1,-1,-1,1,1,1,-1,1,-1,1,-1,-1,-1,1,1,-1,1,-1,1,-1,-1,-1,-1,1,1,1,-1,-1,1,1,-1,-1,1,-1,-1,-1,1,-1,-1,-1,1,-1,-1,1,1,-1,-1,1,1,1,1,-1,1,-1,1,-1,1,-1,1,-1,1,1,1,-1,1,-1,1,-1,1,1,-1,1,1,1,1,-1,-1,1,1,-1,-1,-1,1,-1,1,-1,1,1,-1,1,-1,1,-1,1,1,-1,1,1,-1,-1,-1,1,-1,-1,1,-1,1,1,-1,-1,1,1,-1,1,1,1,1,1,-1,1,1,1,1,-1,-1,1,-1,1,-1,-1,1,1,1,1,-1,1,-1,-1,1,-1,-1,1,1,1,-1,1,-1,-1,1,-1,1,-1,1,-1,-1,-1,-1,-1,-1,1,-1,1,1,-1,1,1,-1,1,-1,-1,1,-1,-1,1,-1,-1,1,1,-1,1,-1,-1,-1,1,-1,1,1,1,-1,-1,1,1,1,1,-1,1,-1,-1,-1,-1,-1,1,1,1,-1,1,-1,1,1,-1,1,-1,-1,1,1,-1,-1,1,1,1,1,-1,1,-1,1,-1,-1,1,1,-1,-1,-1,-1,-1,-1,1,1,1,-1,1,1,1,1,1,-1,-1,-1,-1,1,-1,-1,1,-1,-1,1,1,1,-1,-1,1,1,-1,1,-1,-1,-1,1,-1,1,1,-1,1,1,1,-1,1,1,-1,-1,1,-1,-1,-1,1,1,1,-1,-1,-1,-1,1,1,-1,-1,-1,-1,-1,-1,1,-1,1,-1,1,1,-1,1,1,1,1,-1,-1,-1,-1,1,1,1,-1,1,-1,-1,1,-1,-1,-1,-1,-1,-1,1,-1,-1,-1,1,-1,1,1,-1,-1,-1,-1,-1,-1,1,1,-1,-1,1,1,-1,-1,1,-1,1,-1,-1,-1,1,-1,1,-1,1,1,1,-1,1,1,-1,1,-1,-1,1,-1,1,1,1,-1,1,-1,1,1,1,-1,-1,1,-1,1,-1,-1,1,-1,-1,1,1,1,-1,1,-1,1,1,1,-1,-1,-1,1,-1,-1,-1,1,1,1,1,-1,-1,-1,1,1,-1,1,-1,-1,-1,-1,1,-1,-1,-1,1,1,-1,-1,1,-1,-1,-1,-1,-1,1,1,-1,1,-1,-1,1,-1,1,-1,-1,1,-1,1,-1,-1,1,-1,-1,1,-1,-1,1,1,1,-1,1,1,1,1,1,1,-1,-1,1,1,1,-1,-1,1,-1,1,-1,-1,-1,-1,1,1,1,-1,-1,1,-1,1,1,-1,-1,-1,1,1,-1,1,1,-1,1,-1,1,-1,-1,1,-1,1,-1,-1,-1,1,-1,1,-1,1,1,-1,1,-1,1,1,1,1,-1,1,1,-1,1,-1,-1,-1,-1,1,-1,1,1,1,-1,1,-1,-1,1,1,-1,-1,1,-1,-1,1,1,1,-1,-1,1,-1,1,1,-1,1,-1,1,1,1,-1,1,1,1,-1,-1,-1,1,-1,-1,-1,1,-1,-1,-1,-1,-1,1,1,-1,-1,-1,1,-1,1,-1,-1,-1,1,-1,1,1,-1,1,1,1,-1,1,1,-1,-1,1,1,-1,-1,-1,1,1,-1,-1,1,-1,1,-1,-1,-1,1,1,1,-1,1,-1,-1,-1,-1,-1,1,-1,1,-1,1,-1,-1,-1,-1,-1,-1,1,1,-1,-1,-1,1,1,-1,1,-1,-1,-1,-1,-1,1,1,-1,-1,-1,-1,1,1,-1,-1,-1,-1,-1,-1,-1,-1,-1,1,1,1,-1,1,-1,-1,-1,-1,-1,-1,-1,-1,-1,-1,1,-1,-1,1,1,1,-1,1,-1,1,-1,1,1,1,-1,1,1,1,-1,1,-1,-1,1,-1,-1,-1,1,-1,1,-1,-1,1,1,1,-1,-1,1,-1,1,1,-1,1,-1,1,-1,1,-1,-1,1,1,-1,-1,-1,-1,1,-1,1,1,1,1,1,-1,-1,-1,1,1,1,1,1,1,-1,1,-1,-1,-1,1,-1,1,1,-1,1,1,-1,-1,1,1,-1,-1,-1,-1,-1,1,-1,1,1,-1,-1,-1,1,-1,1,1,-1,-1,-1,1,-1,-1,-1,1,1,1,-1,-1,1,1,1,-1,-1,-1,-1,-1,-1,1,1,-1,-1,1,1,1,-1,-1,-1,1,1,1,-1,-1,1,1,1,-1,-1,1,1,1,1,1,-1,-1,1,-1,-1,1,-1,1,1,-1,-1,-1,1,1,1,1,-1,1,1,1,-1,-1,1,1,-1,1,1,1,-1,-1,1,1,-1,1,1,1,-1,-1,1,1,-1,-1,1,1,1,-1,1,-1,1,1,-1,1,1,-1,1,-1,1,1,-1,-1,-1,-1,1,-1,1,-1,-1,1,-1,-1,1,1,-1,1,1,-1,-1,-1,-1,1,1,1,-1,1,1,1,1,-1,1,-1,1,1,1,1,-1,1,-1,-1,-1,1,1,-1,-1,-1,1,1,1,-1,-1,-1,1,-1,-1,1,1,1,1,1,1,1,1,1,-1,1,-1,1,1,-1,1,1,-1,-1,1,1,-1,-1,-1,1,1,-1,-1,1,-1,-1,-1,1,-1,-1,-1,-1,-1,-1,-1,-1,-1,-1,1,-1,1,-1,-1,-1,-1,1,1,-1,1,-1,-1,1,-1,-1,1,-1,-1,1,1,-1,1,1,1,1,1,1,-1,1,-1,-1,-1,1,-1,-1,1,-1,-1,1,-1,1,1,1,-1,-1,-1,1,1,-1,-1,1,1,-1,-1,-1,1,-1,-1,-1,-1,1,-1,1,1,-1,1,1,1,1,1,1,-1,1,-1,1,1,1,-1,1,1,-1,-1,-1,-1,-1,1,-1,-1,-1,1,-1,-1,1,1,1,1,1,-1,-1,-1,1,1,1,1,1,1,1,-1,1,1,1,-1,1,-1,-1,1,1,1,1,1,1,-1,-1,-1,1,1,-1,-1,-1,1,1,1,1,1,1,-1,1,-1,-1,-1,1,-1,-1,1,-1,-1,1,1,-1,-1,-1,-1,-1,1,-1,1,-1,-1,1,1,1,1,1,-1,1,-1,1,1,-1,1,-1,1,-1,-1,1,1,1,1,1,1,1,-1,1,-1,1,1,1,1,-1,1,-1,1,-1,-1,-1,1,1,1,1,1,1,1,-1,1,-1,1,-1,1,1,1,-1,1,1,1,-1,-1,1,-1,1,-1,1,1,-1,1,-1,1,1,1,-1,-1,-1,-1,1,1,1,1,1,1,-1,1,-1,1,-1,1,-1,1,-1,1,1,-1,-1,-1,1,-1,-1,1,1,-1,1,1,1,-1,-1,-1,-1,-1,-1,1,1,1,-1,-1,1,-1,1,-1,1,1,1,-1,-1,1,1,1,1,-1,1,1,-1,1,-1,1,-1,-1,-1,1,-1,1,-1,-1,1,1,1,-1,-1,1,1,1,-1,-1,1,-1,1,1,-1,1,1,1,-1,-1,-1,-1,1,1,1,-1,1,1,1,1,-1,1,-1,-1,-1,1,1,1,-1,-1,1,1,1,-1,1,-1,-1,1,-1,1,-1,-1,1,-1,1,1,1,-1,-1,-1,1,1,1,-1,-1,1,1,1,1,-1,-1,1,-1,-1,1,1,-1,-1,1,1,1,-1,1,-1,-1,1,-1,-1,-1,1,-1,-1,1,1,1,-1,-1,-1,1,-1,-1,-1,1,-1,-1,-1,1,1,-1,-1,1,1,1,-1,-1,-1,1,1,1,1,1,-1,-1,-1,1,1,1,1,-1,-1,1,1,-1,-1,1,-1,-1,1,-1,-1,1,-1,1,1,1,1,1,1,-1,-1,-1,-1,1,1,1,-1,-1,1,-1,-1,-1,1,1,-1,-1,-1,-1,-1,1,-1,1,1,1,1,1,1,-1,-1,-1,1,1,-1,1,-1,1,1,-1,1,-1,1,1,-1,1,1,1,1,1,-1,1,-1,1,-1,-1,-1,1,-1,-1,-1,1,-1,-1,1,-1,-1,1,-1,-1,1,-1,-1,-1,1,1,1,-1,-1,1,-1,1,1,1,-1,-1,-1,1,-1,-1,1,1,1,-1,1,-1,-1,1,-1,1,-1,-1,-1,1,-1,-1,1,1,1,1,-1,-1,1,1,-1,1,-1,1,1,-1,1,1,1,-1,1,-1,1,-1,-1,1,-1,1,1,-1,1,1,-1,1,-1,1,-1,-1,-1,1,1,1,1,1,1,1,1,1,1,1,-1,-1,1,1,-1,-1,-1,-1,-1,-1,-1,1,1,1,1,-1,-1,1,1,1,1,-1,1,1,-1,1,-1,-1,1,-1,-1,-1,-1,1,-1,-1,1,-1,1,-1,-1,-1,-1,-1,-1,-1,-1,1,-1,1,-1,1,1,-1,1,-1,1,-1,-1,-1,-1,-1,1,1,1,1,1,-1,-1,-1,-1,-1,-1,-1,1,1,-1,-1,-1,-1,-1,1,1,1,-1,-1,1,1,1,-1,-1,-1,1,-1,-1,-1,-1,-1,1,1,1,-1,1,-1,1,-1,1,1,1,-1,-1,-1,1,-1,-1,-1,-1,-1,-1]"
   ]
  },
  {
   "cell_type": "code",
   "execution_count": 146,
   "metadata": {},
   "outputs": [
    {
     "data": {
      "text/plain": [
       "1"
      ]
     },
     "execution_count": 146,
     "metadata": {},
     "output_type": "execute_result"
    }
   ],
   "source": [
    "maxProduct(a)"
   ]
  },
  {
   "cell_type": "code",
   "execution_count": 126,
   "metadata": {
    "scrolled": true
   },
   "outputs": [
    {
     "name": "stdout",
     "output_type": "stream",
     "text": [
      "-1 -2 2\n",
      "1 -1 2\n",
      "1 1 2\n"
     ]
    },
    {
     "data": {
      "text/plain": [
       "2"
      ]
     },
     "execution_count": 126,
     "metadata": {},
     "output_type": "execute_result"
    }
   ],
   "source": [
    "maxProduct([2,-1,1,1])"
   ]
  },
  {
   "cell_type": "code",
   "execution_count": 116,
   "metadata": {
    "scrolled": true
   },
   "outputs": [
    {
     "data": {
      "text/plain": [
       "6"
      ]
     },
     "execution_count": 116,
     "metadata": {},
     "output_type": "execute_result"
    }
   ],
   "source": [
    "maxProduct([-1,-2,-3,0])"
   ]
  },
  {
   "cell_type": "code",
   "execution_count": 118,
   "metadata": {
    "scrolled": false
   },
   "outputs": [
    {
     "data": {
      "text/plain": [
       "4"
      ]
     },
     "execution_count": 118,
     "metadata": {},
     "output_type": "execute_result"
    }
   ],
   "source": [
    "maxProduct([3,-1,4])"
   ]
  },
  {
   "cell_type": "code",
   "execution_count": 117,
   "metadata": {
    "scrolled": false
   },
   "outputs": [
    {
     "data": {
      "text/plain": [
       "24"
      ]
     },
     "execution_count": 117,
     "metadata": {},
     "output_type": "execute_result"
    }
   ],
   "source": [
    "maxProduct([-2,3,-4])"
   ]
  },
  {
   "cell_type": "markdown",
   "metadata": {},
   "source": [
    "### 162 "
   ]
  },
  {
   "cell_type": "code",
   "execution_count": 39,
   "metadata": {},
   "outputs": [],
   "source": [
    "    def findPeakElement(nums):\n",
    "        gauche = 0\n",
    "        droite = len(nums)\n",
    "        if(droite<=1):\n",
    "            return 0\n",
    "        if(droite^2==0):\n",
    "            if(nums[0]<nums[1]):\n",
    "                return 1\n",
    "            else:\n",
    "                return 0\n",
    "        tmp = (gauche+droite)//2\n",
    "        while not (isPeak(tmp,nums)):\n",
    "            flag1 = whichDeserve(nums[:tmp+1])\n",
    "            #print(1,flag1)\n",
    "            flag2 = whichDeserve(nums[tmp:])\n",
    "            #print(2,flag2)\n",
    "            if(flag1==\"yes\" and flag2 == \"yes\"):\n",
    "                gauche = tmp\n",
    "            elif(flag1==\"yes\" and flag2 == \"no\"):\n",
    "                droite = tmp\n",
    "            elif(flag1==\"no\" and flag2 == \"yes\"):\n",
    "                gauche = tmp\n",
    "            else:\n",
    "                return 0\n",
    "            tmp = (gauche+droite)//2\n",
    "        return tmp\n",
    "        \n",
    "    def isPeak(i,nums):\n",
    "        if(nums[i-1]<nums[i] and nums[i]>nums[i+1]):\n",
    "            return True\n",
    "        else:\n",
    "            return False\n",
    "        \n",
    "    def whichDeserve(nums):\n",
    "        l = sorted(nums)\n",
    "        if(l==nums or l[::-1]==nums):\n",
    "            return 'no'\n",
    "        else:\n",
    "            return 'yes'"
   ]
  },
  {
   "cell_type": "code",
   "execution_count": 40,
   "metadata": {
    "scrolled": true
   },
   "outputs": [
    {
     "data": {
      "text/plain": [
       "2"
      ]
     },
     "execution_count": 40,
     "metadata": {},
     "output_type": "execute_result"
    }
   ],
   "source": [
    "findPeakElement([1,2,3,1])"
   ]
  },
  {
   "cell_type": "code",
   "execution_count": 41,
   "metadata": {
    "scrolled": false
   },
   "outputs": [
    {
     "data": {
      "text/plain": [
       "5"
      ]
     },
     "execution_count": 41,
     "metadata": {},
     "output_type": "execute_result"
    }
   ],
   "source": [
    "findPeakElement([1,2,1,3,5,6,4])"
   ]
  },
  {
   "cell_type": "code",
   "execution_count": 42,
   "metadata": {},
   "outputs": [
    {
     "data": {
      "text/plain": [
       "0"
      ]
     },
     "execution_count": 42,
     "metadata": {},
     "output_type": "execute_result"
    }
   ],
   "source": [
    "findPeakElement([3,2,1])"
   ]
  },
  {
   "cell_type": "code",
   "execution_count": 43,
   "metadata": {
    "scrolled": true
   },
   "outputs": [
    {
     "data": {
      "text/plain": [
       "0"
      ]
     },
     "execution_count": 43,
     "metadata": {},
     "output_type": "execute_result"
    }
   ],
   "source": [
    "findPeakElement([1])"
   ]
  },
  {
   "cell_type": "code",
   "execution_count": 45,
   "metadata": {
    "scrolled": true
   },
   "outputs": [
    {
     "data": {
      "text/plain": [
       "1"
      ]
     },
     "execution_count": 45,
     "metadata": {},
     "output_type": "execute_result"
    }
   ],
   "source": [
    "findPeakElement([1,2,1])"
   ]
  },
  {
   "cell_type": "markdown",
   "metadata": {},
   "source": [
    "### 167 给定长度为 n 的整数数组 nums，其中 n > 1，返回输出数组 output ，其中 output[i] 等于 nums 中除 nums[i] 之外其余各元素的乘积。\n",
    "\n",
    "左边右边分别遍历累积"
   ]
  },
  {
   "cell_type": "code",
   "execution_count": 2,
   "metadata": {},
   "outputs": [],
   "source": [
    "    def productExceptSelf(nums):        \n",
    "        L = []\n",
    "        L1 = [1]\n",
    "        L2 = []\n",
    "        L21 = []\n",
    "        produit = 1\n",
    "        for i in range(1,len(nums)):\n",
    "            produit*=nums[i]\n",
    "        L2.append(produit)\n",
    "        left = 1\n",
    "        right = 1\n",
    "        for i in range(1,len(nums)):\n",
    "            left *= nums[i-1]\n",
    "            L1.append(left)\n",
    "        for i in range(len(nums)-1,1,-1):\n",
    "            right *= nums[i]\n",
    "            L21.append(right)\n",
    "        L21 = L21[::-1]\n",
    "        L21.append(1)\n",
    "        L2 += L21\n",
    "        for i in range(len(nums)):\n",
    "            tmp = L1[i]*L2[i]\n",
    "            L.append(tmp)\n",
    "        return L"
   ]
  },
  {
   "cell_type": "markdown",
   "metadata": {},
   "source": [
    "### 177. 给定一组非负整数，重新排列它们的顺序使之组成一个最大的整数。\n",
    "\n",
    "输入: [10,2]\n",
    "输出: 210\n",
    "\n",
    "输入: [3,30,34,5,9]\n",
    "输出: 9534330"
   ]
  },
  {
   "cell_type": "markdown",
   "metadata": {},
   "source": [
    "    def largestNumber(nums):\n",
    "        nums = [str(x) for x in nums]\n",
    "        taille = len(nums)\n",
    "        for i in range(taille-1):\n",
    "            for j in range(i+1,taille):\n",
    "                a = nums[i]\n",
    "                b = nums[j]\n",
    "                la = len(nums[i])\n",
    "                lb = len(nums[j])\n",
    "                if(la==lb and a < b):\n",
    "                    nums[i],nums[j] = nums[j],nums[i]\n",
    "                if(la > lb):\n",
    "                    c = b+b[-1]*(la - lb)\n",
    "                    if(a < c):\n",
    "                        nums[i],nums[j] = nums[j],nums[i]\n",
    "                if(la < lb):\n",
    "                    c = a+a[-1]*(lb - la)\n",
    "                    if(c < b):\n",
    "                        nums[i],nums[j] = nums[j],nums[i]\n",
    "        if(set(nums)=={'0'}):#[0,0]\n",
    "            return '0'\n",
    "        return \"\".join(nums)\n",
    "largestNumber([10,2])"
   ]
  },
  {
   "cell_type": "code",
   "execution_count": 72,
   "metadata": {},
   "outputs": [
    {
     "data": {
      "text/plain": [
       "'210'"
      ]
     },
     "execution_count": 72,
     "metadata": {},
     "output_type": "execute_result"
    }
   ],
   "source": [
    "    def largestNumber(nums):\n",
    "        nums = [str(x) for x in nums]\n",
    "        taille = len(nums)\n",
    "        for i in range(taille-1):\n",
    "            for j in range(i+1,taille):\n",
    "                a = nums[i]\n",
    "                b = nums[j]\n",
    "                la = a + b\n",
    "                lb = b + a\n",
    "                if(la < lb):\n",
    "                    nums[i],nums[j] = nums[j],nums[i]\n",
    "        if(set(nums)=={'0'}):#[0,0]\n",
    "            return '0'\n",
    "        return \"\".join(nums)\n",
    "largestNumber1([10,2])"
   ]
  },
  {
   "cell_type": "code",
   "execution_count": 73,
   "metadata": {
    "scrolled": false
   },
   "outputs": [
    {
     "name": "stdout",
     "output_type": "stream",
     "text": [
      "995998549642963295795569525905189958985890288238775871870185978591838283748308830827481618052787813771758475277519744072727265721971071006861683682268046787640663256310614560285906582858175752573156385565552654905441522852245213513750414822478747104662455545424532434289408839763963946391038663723370035134023393328828692788270926232581243924362362304226421162109163016131603127210891014\n"
     ]
    }
   ],
   "source": [
    "print(largestNumber([9051,5526,2264,5041,1630,5906,6787,8382,4662,4532,6804,4710,4542,2116,7219,8701,8308,957,8775,4822,396,8995,8597,2304,8902,830,8591,5828,9642,7100,3976,5565,5490,1613,5731,8052,8985,2623,6325,3723,5224,8274,4787,6310,3393,78,3288,7584,7440,5752,351,4555,7265,9959,3866,9854,2709,5817,7272,43,1014,7527,3946,4289,1272,5213,710,1603,2436,8823,5228,2581,771,3700,2109,5638,3402,3910,871,5441,6861,9556,1089,4088,2788,9632,6822,6145,5137,236,683,2869,9525,8161,8374,2439,6028,7813,6406,7519]))"
   ]
  },
  {
   "cell_type": "code",
   "execution_count": 74,
   "metadata": {
    "scrolled": true
   },
   "outputs": [
    {
     "name": "stdout",
     "output_type": "stream",
     "text": [
      "9609938824824769735703560743981399\n"
     ]
    },
    {
     "data": {
      "text/plain": [
       "-42300000000000000000000"
      ]
     },
     "execution_count": 74,
     "metadata": {},
     "output_type": "execute_result"
    }
   ],
   "source": [
    "print(largestNumber([824,938,1399,5607,6973,5703,9609,4398,8247]))\n",
    "9609938824782469735703560743981399 - 9609938824824769735703560743981399"
   ]
  },
  {
   "cell_type": "code",
   "execution_count": 37,
   "metadata": {},
   "outputs": [
    {
     "data": {
      "text/plain": [
       "[3, 5, 6, 9, 18, 30, 34]"
      ]
     },
     "execution_count": 37,
     "metadata": {},
     "output_type": "execute_result"
    }
   ],
   "source": [
    "def Bubble_Sort(l):\n",
    "    for i in range(len(l)):\n",
    "        for j in range(i+1,len(l)):\n",
    "            if(l[i] > l[j]):\n",
    "                l[i],l[j]=l[j],l[i]\n",
    "    return l\n",
    "Bubble_Sort([3,30,34,5,9,6,18])"
   ]
  },
  {
   "cell_type": "code",
   "execution_count": 70,
   "metadata": {},
   "outputs": [
    {
     "data": {
      "text/plain": [
       "True"
      ]
     },
     "execution_count": 70,
     "metadata": {},
     "output_type": "execute_result"
    }
   ],
   "source": [
    "'8247824'<'8248247'"
   ]
  },
  {
   "cell_type": "markdown",
   "metadata": {},
   "source": [
    "### 189. 给定一个数组，将数组中的元素向右移动 k 个位置，其中 k 是非负数。\n",
    "\n",
    "输入: [1,2,3,4,5,6,7] 和 k = 3\n",
    "输出: [5,6,7,1,2,3,4]\n",
    "解释:\n",
    "向右旋转 1 步: [7,1,2,3,4,5,6]\n",
    "向右旋转 2 步: [6,7,1,2,3,4,5]\n",
    "向右旋转 3 步: [5,6,7,1,2,3,4]"
   ]
  },
  {
   "cell_type": "code",
   "execution_count": 58,
   "metadata": {},
   "outputs": [
    {
     "data": {
      "text/plain": [
       "[7, 1, 2, 3, 4, 5, 6]"
      ]
     },
     "execution_count": 58,
     "metadata": {},
     "output_type": "execute_result"
    }
   ],
   "source": [
    "    def rotate(nums,k):\n",
    "        \"\"\"\n",
    "        Do not return anything, modify nums in-place instead.\n",
    "        \"\"\"\n",
    "        if(k > len(nums)):\n",
    "            k %= len(nums)\n",
    "        for i in range(len(nums)-k,len(nums)):\n",
    "            j = i - 1\n",
    "            while(j >= i - len(nums)+k):\n",
    "                nums[j],nums[j+1] = nums[j+1],nums[j]\n",
    "                j-=1\n",
    "        return nums\n",
    "rotate([1,2,3,4,5,6,7],1)"
   ]
  },
  {
   "cell_type": "code",
   "execution_count": 59,
   "metadata": {},
   "outputs": [
    {
     "data": {
      "text/plain": [
       "[2, 3, 4, 5, 6, 7, 1]"
      ]
     },
     "execution_count": 59,
     "metadata": {},
     "output_type": "execute_result"
    }
   ],
   "source": [
    "rotate([1,2,3,4,5,6,7],6)"
   ]
  },
  {
   "cell_type": "code",
   "execution_count": 56,
   "metadata": {},
   "outputs": [
    {
     "data": {
      "text/plain": [
       "[5, 6, 7, 1, 2, 3, 4]"
      ]
     },
     "execution_count": 56,
     "metadata": {},
     "output_type": "execute_result"
    }
   ],
   "source": [
    "   def rotate(nums,k):\n",
    "        \"\"\"\n",
    "        Do not return anything, modify nums in-place instead.\n",
    "        \"\"\"\n",
    "        if(k > len(nums)):\n",
    "            k = k - len(nums)\n",
    "        nums = nums[len(nums)-k:]+nums[:len(nums)-k]\n",
    "        return nums \n",
    "rotate([1,2,3,4,5,6,7],3)"
   ]
  },
  {
   "cell_type": "code",
   "execution_count": 61,
   "metadata": {},
   "outputs": [
    {
     "data": {
      "text/plain": [
       "[1, 2, 3, 4, 5, 6, 7, [1, 2, 3, 4]]"
      ]
     },
     "execution_count": 61,
     "metadata": {},
     "output_type": "execute_result"
    }
   ],
   "source": [
    "   def rotate(nums,k):\n",
    "        \"\"\"\n",
    "        Do not return anything, modify nums in-place instead.\n",
    "        \"\"\"\n",
    "        if(k > len(nums)):\n",
    "            k = k - len(nums)\n",
    "        nums.append(nums[:len(nums)-k])\n",
    "        return nums\n",
    "rotate([1,2,3,4,5,6,7],3)"
   ]
  },
  {
   "cell_type": "code",
   "execution_count": 65,
   "metadata": {},
   "outputs": [
    {
     "data": {
      "text/plain": [
       "[1, 2, 3, 4, 5, 6, 7, 1, 2, 3, 4]"
      ]
     },
     "execution_count": 65,
     "metadata": {},
     "output_type": "execute_result"
    }
   ],
   "source": [
    "   def rotate(nums,k):\n",
    "        \"\"\"\n",
    "        Do not return anything, modify nums in-place instead.\n",
    "        \"\"\"\n",
    "        if(k > len(nums)):\n",
    "            k = k - len(nums)\n",
    "        for i in range(len(nums)-k):\n",
    "            nums.append(nums[i])\n",
    "        nums.\n",
    "        return nums\n",
    "rotate([1,2,3,4,5,6,7],3)"
   ]
  },
  {
   "cell_type": "markdown",
   "metadata": {},
   "source": [
    "### 198. 打家劫舍\n",
    "\n",
    "https://leetcode-cn.com/problems/house-robber/\n",
    "\n",
    "4,1,2,7,5,3,1\n",
    "4 2 5 1\n",
    "  7 3\n",
    "  \n",
    "1 7 3\n",
    "  \n",
    "4,1,2,7,8,3,1\n",
    "4 2 8 1\n",
    "  7 3"
   ]
  },
  {
   "cell_type": "code",
   "execution_count": 88,
   "metadata": {
    "scrolled": true
   },
   "outputs": [
    {
     "name": "stdout",
     "output_type": "stream",
     "text": [
      "17 17\n"
     ]
    },
    {
     "data": {
      "text/plain": [
       "17"
      ]
     },
     "execution_count": 88,
     "metadata": {},
     "output_type": "execute_result"
    }
   ],
   "source": [
    "    def rob(nums):\n",
    "        taille = len(nums)\n",
    "        if(taille^0==0):\n",
    "            return 0\n",
    "        if(taille^1==0):\n",
    "            return nums[0]\n",
    "        if(taille^2==0):\n",
    "            return max(nums)\n",
    "        i,j = 0,1\n",
    "        tmp1,tmp2 = nums[i],nums[j]\n",
    "        a,b = 0,0\n",
    "        i+=2\n",
    "        j+=2\n",
    "        L1 = []\n",
    "        L2 = []\n",
    "        while(i+4 < taille):\n",
    "            choix = [(nums[i]+nums[i+2],i+2),(nums[i]+nums[i+3],i+3),(nums[i+1]+nums[i+3],i+3),(nums[i+1]+nums[i+4],i+4)]\n",
    "            choix.sort()\n",
    "            tmp1 += choix[-1][0]\n",
    "            if(choix[-1][0]^choix[-2][0]==0):\n",
    "                i=min(choix[-1][1],choix[-2][1])+2\n",
    "            else:\n",
    "                i=choix[-1][1]+2\n",
    "            #print(tmp1,i)\n",
    "        else:\n",
    "            if (i + 3)^(taille - 1)==0:\n",
    "                choix = [(nums[i]+nums[i+2],i+2),(nums[i]+nums[i+3],i+3),(nums[i+1]+nums[i+3],i+3)]\n",
    "                choix.sort()\n",
    "                tmp1+=choix[-1][0]\n",
    "            if (i + 2)^(taille - 1)==0:\n",
    "                tmp1+=nums[i+2]+nums[i]\n",
    "            if (i + 1)^(taille - 1)==0:\n",
    "                tmp1+=max(nums[i],nums[i+1])\n",
    "            if i^(taille - 1)==0:\n",
    "                tmp1+=nums[i]\n",
    "        while(j+4 < taille):\n",
    "            choix = [(nums[j]+nums[j+2],j+2),(nums[j]+nums[j+3],j+3),(nums[j+1]+nums[j+3],j+3),(nums[j+1]+nums[j+4],j+4)]\n",
    "            choix.sort()\n",
    "            tmp2 += choix[-1][0]\n",
    "            if(choix[-1][0]^choix[-2][0]==0):\n",
    "                j=min(choix[-1][1],choix[-2][1])+2\n",
    "            else:\n",
    "                j=choix[-1][1]+2\n",
    "        else:\n",
    "            if (j + 3)^(taille-1)==0:\n",
    "                choix = [(nums[j]+nums[j+2],j+2),(nums[j]+nums[j+3],j+3),(nums[j+1]+nums[j+3],j+3)]\n",
    "                choix.sort()\n",
    "                tmp2+=choix[-1][0]\n",
    "            if (j + 2)^(taille-1)==0:\n",
    "                tmp2+=nums[j+2]+nums[j]\n",
    "            if (j+1)^(taille-1)==0:\n",
    "                tmp2+=max(nums[j],nums[j+1])\n",
    "            if j^(taille-1)==0:\n",
    "                tmp2+=nums[j]\n",
    "        print(tmp1,tmp2)\n",
    "        return max(tmp1,tmp2,sum([nums[x] for x in range(0,taille,2)]))\n",
    "rob([1,1,3,6,7,10])"
   ]
  },
  {
   "cell_type": "code",
   "execution_count": null,
   "metadata": {},
   "outputs": [],
   "source": [
    "def rob1(nums):\n",
    "    def optimizeImPaire(a,b,c):\n",
    "        return max(a+c,b)\n",
    "    def optimizePaire(a,b,c,d):\n",
    "        return max([a+c,a+d,b+d])"
   ]
  },
  {
   "cell_type": "code",
   "execution_count": null,
   "metadata": {},
   "outputs": [],
   "source": [
    "rob1([1,1,3,6,7,10,7,1,8,5,9,1,4,4,3])"
   ]
  },
  {
   "cell_type": "code",
   "execution_count": 87,
   "metadata": {
    "scrolled": true
   },
   "outputs": [
    {
     "name": "stdout",
     "output_type": "stream",
     "text": [
      "18 17\n"
     ]
    },
    {
     "data": {
      "text/plain": [
       "18"
      ]
     },
     "execution_count": 87,
     "metadata": {},
     "output_type": "execute_result"
    }
   ],
   "source": [
    "rob1([2,1,2,6,1,8,10,10])"
   ]
  },
  {
   "cell_type": "markdown",
   "metadata": {},
   "source": [
    "1  3  7  7  8  9  4  3   42\n",
    "1  6  10 8  9  4  3"
   ]
  },
  {
   "cell_type": "code",
   "execution_count": 66,
   "metadata": {
    "scrolled": true
   },
   "outputs": [
    {
     "data": {
      "text/plain": [
       "4"
      ]
     },
     "execution_count": 66,
     "metadata": {},
     "output_type": "execute_result"
    }
   ],
   "source": [
    "rob1([2,1,1,2])"
   ]
  },
  {
   "cell_type": "code",
   "execution_count": 67,
   "metadata": {
    "scrolled": true
   },
   "outputs": [
    {
     "data": {
      "text/plain": [
       "12"
      ]
     },
     "execution_count": 67,
     "metadata": {},
     "output_type": "execute_result"
    }
   ],
   "source": [
    "rob1([2,7,9,3,1])"
   ]
  },
  {
   "cell_type": "code",
   "execution_count": 68,
   "metadata": {},
   "outputs": [
    {
     "data": {
      "text/plain": [
       "4"
      ]
     },
     "execution_count": 68,
     "metadata": {},
     "output_type": "execute_result"
    }
   ],
   "source": [
    "rob1([1,2,3,1])"
   ]
  },
  {
   "cell_type": "code",
   "execution_count": 69,
   "metadata": {
    "scrolled": true
   },
   "outputs": [
    {
     "data": {
      "text/plain": [
       "14"
      ]
     },
     "execution_count": 69,
     "metadata": {},
     "output_type": "execute_result"
    }
   ],
   "source": [
    "rob1([4,1,2,7,5,3,1])"
   ]
  },
  {
   "cell_type": "code",
   "execution_count": 70,
   "metadata": {},
   "outputs": [
    {
     "data": {
      "text/plain": [
       "15"
      ]
     },
     "execution_count": 70,
     "metadata": {},
     "output_type": "execute_result"
    }
   ],
   "source": [
    "rob1([4,1,2,7,8,3,1])"
   ]
  },
  {
   "cell_type": "code",
   "execution_count": 71,
   "metadata": {},
   "outputs": [
    {
     "data": {
      "text/plain": [
       "21"
      ]
     },
     "execution_count": 71,
     "metadata": {},
     "output_type": "execute_result"
    }
   ],
   "source": [
    "rob1([4,1,2,7,8,10,1])"
   ]
  },
  {
   "cell_type": "markdown",
   "metadata": {},
   "source": [
    "### 205. 同构字符串"
   ]
  },
  {
   "cell_type": "code",
   "execution_count": null,
   "metadata": {},
   "outputs": [],
   "source": [
    "    import collections\n",
    "    def isIsomorphic(s,t) -> bool:\n",
    "        a = list(collections.Counter(s))\n",
    "        b = list(collections.Counter(t))\n",
    "        print(a)\n",
    "        print(b)\n",
    "        return True\n",
    "isIsomorphic(\"foo\",)"
   ]
  },
  {
   "cell_type": "markdown",
   "metadata": {},
   "source": [
    "### https://leetcode-cn.com/problems/minimum-size-subarray-sum/\n",
    "\n",
    "给定一个含有 n 个正整数的数组和一个正整数 s ，找出该数组中满足其和 ≥ s 的长度最小的连续子数组。如果不存在符合条件的连续子数组，返回 0。\n",
    "\n",
    "输入: s = 7, nums = [2,3,1,2,4,3]\n",
    "输出: 2\n",
    "解释: 子数组 [4,3] 是该条件下的长度最小的连续子数组。\n",
    "\n",
    "2 3 1 2\n",
    "  3 1 2  \n",
    "  3 1 2 4\n",
    "    1 2 4\n",
    "      2 4\n",
    "      2 4 3\n",
    "        4 3"
   ]
  },
  {
   "cell_type": "code",
   "execution_count": 35,
   "metadata": {},
   "outputs": [
    {
     "name": "stdout",
     "output_type": "stream",
     "text": [
      "[28, 83, 4, 25, 26, 25, 2, 25]\n",
      "[83, 4, 25, 26, 25, 2, 25, 25]\n",
      "[83, 4, 25, 26, 25, 2, 25, 25, 25, 12]\n"
     ]
    },
    {
     "data": {
      "text/plain": [
       "8"
      ]
     },
     "execution_count": 35,
     "metadata": {},
     "output_type": "execute_result"
    }
   ],
   "source": [
    "    def minSubArrayLen(s, nums):\n",
    "        left,right,somme=0,0,0\n",
    "        taille = len(nums)\n",
    "        res = []\n",
    "        while right < taille:\n",
    "            while somme < s:\n",
    "                somme += nums[right]\n",
    "                right += 1\n",
    "                if right >= taille:\n",
    "                    break\n",
    "            while somme >= s:\n",
    "                somme -= nums[left]\n",
    "                left += 1\n",
    "            print(nums[(left-1):right])\n",
    "            res.append(right - left + 1)\n",
    "        return min(res)\n",
    "minSubArrayLen(213,[12,28,83,4,25,26,25,2,25,25,25,12])"
   ]
  },
  {
   "cell_type": "markdown",
   "metadata": {},
   "source": [
    "### 345. 反转字符串中的元音字母\n",
    "\n",
    "编写一个函数，以字符串作为输入，反转该字符串中的元音字母。"
   ]
  },
  {
   "cell_type": "code",
   "execution_count": 8,
   "metadata": {},
   "outputs": [
    {
     "name": "stdout",
     "output_type": "stream",
     "text": [
      "0 1\n"
     ]
    },
    {
     "data": {
      "text/plain": [
       "'aA'"
      ]
     },
     "execution_count": 8,
     "metadata": {},
     "output_type": "execute_result"
    }
   ],
   "source": [
    "    def reverseVowels(s):\n",
    "        L = ['a','e','i','o','u','A','E','I','O','U']\n",
    "        s = [x for x in s]\n",
    "        taille = len(s)\n",
    "        i = 0\n",
    "        j = taille-1\n",
    "        while(i<j):\n",
    "            if(s[i] in L):\n",
    "                print(i,j)\n",
    "                if(s[j] in L):\n",
    "                    s[i],s[j]=s[j],s[i]\n",
    "                    print(i,j)\n",
    "                    i+=1\n",
    "                    j-=1\n",
    "                    print(i,j)\n",
    "                else:\n",
    "                    j-=1\n",
    "            else:\n",
    "                i+=1    \n",
    "        return \"\".join(s)\n",
    "reverseVowels(\"aA\")"
   ]
  },
  {
   "cell_type": "markdown",
   "metadata": {},
   "source": [
    "### 350 两个数组的交集 II"
   ]
  },
  {
   "cell_type": "code",
   "execution_count": 74,
   "metadata": {},
   "outputs": [],
   "source": [
    "    def intersect(nums1,nums2):\n",
    "        inter = set(nums1) & set(nums2)\n",
    "        L = []\n",
    "        for i in inter:\n",
    "            L+=[i] * min(nums1.count(i),nums2.count(i))\n",
    "        return L"
   ]
  },
  {
   "cell_type": "code",
   "execution_count": 269,
   "metadata": {},
   "outputs": [
    {
     "data": {
      "text/plain": [
       "True"
      ]
     },
     "execution_count": 269,
     "metadata": {},
     "output_type": "execute_result"
    }
   ],
   "source": [
    "s1 = \"111\"\n",
    "a = \"111\"\n",
    "s2 = a+\"\";\n",
    "s2 == s1"
   ]
  },
  {
   "cell_type": "code",
   "execution_count": 270,
   "metadata": {},
   "outputs": [
    {
     "data": {
      "text/plain": [
       "True"
      ]
     },
     "execution_count": 270,
     "metadata": {},
     "output_type": "execute_result"
    }
   ],
   "source": [
    "s3 = \"111\"+\"\"\n",
    "s3==s1"
   ]
  },
  {
   "cell_type": "markdown",
   "metadata": {},
   "source": [
    "### 补集"
   ]
  },
  {
   "cell_type": "code",
   "execution_count": 77,
   "metadata": {
    "scrolled": true
   },
   "outputs": [
    {
     "data": {
      "text/plain": [
       "{2}"
      ]
     },
     "execution_count": 77,
     "metadata": {},
     "output_type": "execute_result"
    }
   ],
   "source": [
    "{1,2,3} ^ {1,3}"
   ]
  },
  {
   "cell_type": "markdown",
   "metadata": {},
   "source": [
    "### 交集"
   ]
  },
  {
   "cell_type": "code",
   "execution_count": 78,
   "metadata": {},
   "outputs": [
    {
     "data": {
      "text/plain": [
       "{1, 3}"
      ]
     },
     "execution_count": 78,
     "metadata": {},
     "output_type": "execute_result"
    }
   ],
   "source": [
    "{1,2,3} & {1,3}"
   ]
  },
  {
   "cell_type": "markdown",
   "metadata": {},
   "source": [
    "### 并集"
   ]
  },
  {
   "cell_type": "code",
   "execution_count": 79,
   "metadata": {
    "scrolled": false
   },
   "outputs": [
    {
     "data": {
      "text/plain": [
       "{1, 2, 3}"
      ]
     },
     "execution_count": 79,
     "metadata": {},
     "output_type": "execute_result"
    }
   ],
   "source": [
    "{1,2,3} | {1,3}"
   ]
  },
  {
   "cell_type": "markdown",
   "metadata": {},
   "source": [
    "### 300. 最长上升子序列"
   ]
  },
  {
   "cell_type": "code",
   "execution_count": 101,
   "metadata": {},
   "outputs": [
    {
     "name": "stdout",
     "output_type": "stream",
     "text": [
      "9 dp =  [1, 1, 1, 1, 1, 1, 1, 1]\n",
      "2 dp =  [1, 1, 1, 1, 1, 1, 1, 1]\n",
      "2 dp =  [1, 1, 1, 1, 1, 1, 1, 1]\n",
      "5 dp =  [1, 1, 1, 1, 1, 1, 1, 1]\n",
      "5 dp =  [1, 1, 1, 1, 1, 1, 1, 1]\n",
      "5 dp =  [1, 1, 1, 2, 1, 1, 1, 1]\n",
      "3 dp =  [1, 1, 1, 2, 1, 1, 1, 1]\n",
      "3 dp =  [1, 1, 1, 2, 1, 1, 1, 1]\n",
      "3 dp =  [1, 1, 1, 2, 2, 1, 1, 1]\n",
      "3 dp =  [1, 1, 1, 2, 2, 1, 1, 1]\n",
      "7 dp =  [1, 1, 1, 2, 2, 1, 1, 1]\n",
      "7 dp =  [1, 1, 1, 2, 2, 1, 1, 1]\n",
      "7 dp =  [1, 1, 1, 2, 2, 2, 1, 1]\n",
      "7 dp =  [1, 1, 1, 2, 2, 3, 1, 1]\n",
      "7 dp =  [1, 1, 1, 2, 2, 3, 1, 1]\n",
      "101 dp =  [1, 1, 1, 2, 2, 3, 2, 1]\n",
      "101 dp =  [1, 1, 1, 2, 2, 3, 2, 1]\n",
      "101 dp =  [1, 1, 1, 2, 2, 3, 2, 1]\n",
      "101 dp =  [1, 1, 1, 2, 2, 3, 3, 1]\n",
      "101 dp =  [1, 1, 1, 2, 2, 3, 3, 1]\n",
      "101 dp =  [1, 1, 1, 2, 2, 3, 4, 1]\n",
      "18 dp =  [1, 1, 1, 2, 2, 3, 4, 2]\n",
      "18 dp =  [1, 1, 1, 2, 2, 3, 4, 2]\n",
      "18 dp =  [1, 1, 1, 2, 2, 3, 4, 2]\n",
      "18 dp =  [1, 1, 1, 2, 2, 3, 4, 3]\n",
      "18 dp =  [1, 1, 1, 2, 2, 3, 4, 3]\n",
      "18 dp =  [1, 1, 1, 2, 2, 3, 4, 4]\n",
      "18 dp =  [1, 1, 1, 2, 2, 3, 4, 4]\n"
     ]
    },
    {
     "data": {
      "text/plain": [
       "4"
      ]
     },
     "execution_count": 101,
     "metadata": {},
     "output_type": "execute_result"
    }
   ],
   "source": [
    "    def lengthOfLIS(nums):\n",
    "        taille = len(nums)\n",
    "        if(taille <= 1):\n",
    "            return taille \n",
    "        DP = []\n",
    "        dp=[1 for i in range(taille)]\n",
    "        for i in range(1,taille):\n",
    "            #print(nums[:i])\n",
    "            for j in range(i):\n",
    "                if(nums[j]<nums[i]):\n",
    "                    dp[i] = max(dp[j] + 1,dp[i])\n",
    "                print(nums[i],\"dp = \",dp)\n",
    "        return max(dp)\n",
    "lengthOfLIS([10,9,2,5,3,7,101,18])"
   ]
  },
  {
   "cell_type": "markdown",
   "metadata": {},
   "source": [
    "### 373. 查找和最小的K对数字\n",
    "\n",
    "https://leetcode-cn.com/problems/find-k-pairs-with-smallest-sums/"
   ]
  },
  {
   "cell_type": "code",
   "execution_count": null,
   "metadata": {},
   "outputs": [],
   "source": [
    "    def kSmallestPairs(nums1, nums2, k):\n",
    "        length1 = len(nums1)\n",
    "        length2 = len(nums2)\n",
    "        fin = min(k,length1,length2)\n",
    "        if(k^1==0):\n",
    "            return [[nums1[0],nums2[0]]"
   ]
  },
  {
   "cell_type": "markdown",
   "metadata": {},
   "source": [
    "### 378 \n",
    "\n",
    "给定一个 n x n 矩阵，其中每行和每列元素均按升序排序，找到矩阵中第k小的元素。\n",
    "请注意，它是排序后的第k小元素，而不是第k个元素。"
   ]
  },
  {
   "cell_type": "code",
   "execution_count": 14,
   "metadata": {},
   "outputs": [],
   "source": [
    "    def kthSmallest(matrix, k):\n",
    "        L = [matrix[i][j] for j in range(len(matrix[0])) for i in range(len(matrix))]\n",
    "        L.sort()\n",
    "        print(L)\n",
    "        return L[k-1]\n",
    "matrix = [[1,5,9,10],[10,11,13,16],[12,13,15,18],[2,4,7,10]]"
   ]
  },
  {
   "cell_type": "code",
   "execution_count": 17,
   "metadata": {
    "scrolled": false
   },
   "outputs": [
    {
     "name": "stdout",
     "output_type": "stream",
     "text": [
      "[1, 2, 4, 5, 7, 9, 10, 10, 10, 11, 12, 13, 13, 15, 16, 18]\n"
     ]
    },
    {
     "data": {
      "text/plain": [
       "10"
      ]
     },
     "execution_count": 17,
     "metadata": {},
     "output_type": "execute_result"
    }
   ],
   "source": [
    "kthSmallest(matrix,8)"
   ]
  },
  {
   "cell_type": "code",
   "execution_count": 16,
   "metadata": {},
   "outputs": [
    {
     "name": "stdout",
     "output_type": "stream",
     "text": [
      "[1, 2, 4, 5, 7, 9, 10, 10, 10, 11, 12, 13, 13, 15, 16, 18]\n"
     ]
    },
    {
     "data": {
      "text/plain": [
       "9"
      ]
     },
     "execution_count": 16,
     "metadata": {},
     "output_type": "execute_result"
    }
   ],
   "source": [
    "kthSmallest(matrix,6)"
   ]
  },
  {
   "cell_type": "code",
   "execution_count": 10,
   "metadata": {},
   "outputs": [
    {
     "name": "stdout",
     "output_type": "stream",
     "text": [
      "[1, 5, 9, 10, 11, 12, 13, 13, 15]\n"
     ]
    },
    {
     "data": {
      "text/plain": [
       "13"
      ]
     },
     "execution_count": 10,
     "metadata": {},
     "output_type": "execute_result"
    }
   ],
   "source": [
    "kthSmallest([\n",
    "   [ 1,  5,  9],\n",
    "   [10, 11, 13],\n",
    "   [12, 13, 15]\n",
    "],8)"
   ]
  },
  {
   "cell_type": "markdown",
   "metadata": {},
   "source": [
    "### 383 \n",
    "\n",
    "给定一个赎金信 (ransom) 字符串和一个杂志(magazine)字符串，判断第一个字符串ransom能不能由第二个字符串magazines里面的字符构成。如果可以构成，返回 true ；否则返回 false。"
   ]
  },
  {
   "cell_type": "markdown",
   "metadata": {},
   "source": [
    "统计两个字符串的char，进行减法操作，如果有剩余证明false。"
   ]
  },
  {
   "cell_type": "code",
   "execution_count": 1,
   "metadata": {},
   "outputs": [],
   "source": [
    "import collections\n",
    "def canConstruct(a,b):\n",
    "    return not collections.Counter(a) - collections.Counter(b)"
   ]
  },
  {
   "cell_type": "code",
   "execution_count": 5,
   "metadata": {},
   "outputs": [
    {
     "name": "stdout",
     "output_type": "stream",
     "text": [
      "Counter({'a': 2})\n",
      "Counter({'a': 2, 'b': 2})\n",
      "Counter()\n"
     ]
    }
   ],
   "source": [
    "a = collections.Counter(\"aa\")\n",
    "print(a)\n",
    "b = collections.Counter(\"abab\")\n",
    "print(b)\n",
    "print(a - b)"
   ]
  },
  {
   "cell_type": "code",
   "execution_count": 6,
   "metadata": {
    "scrolled": true
   },
   "outputs": [
    {
     "data": {
      "text/plain": [
       "False"
      ]
     },
     "execution_count": 6,
     "metadata": {},
     "output_type": "execute_result"
    }
   ],
   "source": [
    "canConstruct(\"aa\",\"ab\")"
   ]
  },
  {
   "cell_type": "markdown",
   "metadata": {},
   "source": [
    "### 387. 字符串中的第一个唯一字符\n"
   ]
  },
  {
   "cell_type": "code",
   "execution_count": 11,
   "metadata": {
    "scrolled": true
   },
   "outputs": [
    {
     "name": "stdout",
     "output_type": "stream",
     "text": [
      "('v', 41)\n",
      "('p', 36)\n",
      "('b', 55)\n",
      "('x', 36)\n",
      "('a', 40)\n",
      "('q', 39)\n",
      "('j', 52)\n",
      "('i', 37)\n",
      "('n', 37)\n",
      "('e', 33)\n",
      "('t', 54)\n",
      "('f', 38)\n",
      "('w', 40)\n",
      "('g', 45)\n",
      "('r', 42)\n",
      "('m', 51)\n",
      "('o', 33)\n",
      "('u', 49)\n",
      "('h', 41)\n",
      "('k', 49)\n",
      "('c', 35)\n",
      "('d', 42)\n",
      "('l', 28)\n",
      "('s', 46)\n",
      "\n"
     ]
    }
   ],
   "source": [
    "import collections\n",
    "s = \"vvpbxaqjinettqfwggigrmvoufibbahvkrmkmpncmwdbqwahjletpwbsougrrgbhejignwkmomcfmvutuplihmrlcmasujbhcldwffpgwqsgahkbxcunigvirfpvktpgurvbbveqvjkmtsskceabsfmckhdbekldlrwqtuiucouavitggfhnvhqrfdmxqauxgvflsdepfjokpxhmsobasghucxkwremsnutrglqugrrbabmfxvvtiqktkmuxunbtioqtqseqwwnwqntaddvnhhjaudekdvecqduaxcqoeisahlmgqrhpajtiakigndnintoqdkdmjpxawlxwovurkqcghdbtlhlfnwqnerpsetwfmvdjdrukflehieptmbaicuqntrkcnmvakbcpjugsjksotpjdqbsklfhqabnjmkvbppchivmthmubjkjgpxccqrvxrjackvwhtxejogusgdjijhvcsdabsbskirsswnhtgbhhvgpcxgdmlnohqodhqtvaejfmrlkergngmnfbjnifaeuwsoftkapjgbxojfndlumjulfhmbbsoughwmenjjqxejjiqnbpmmwoeqjvaawmavgjojbgueihabldobojvxbvuuptgtxktxsnkduodlpeksmhjdtjfmfhupiivslnbkdcqmfmxvmubswttcsgukumnbmnnomfbwbrstmrxjrhndxidfjittfdgcdbxvarteujxhqndruwwtivkwbbropmptffcrarqsltisspeegbvmblpusgokdrbsbigampxbpxetsxbcxhbmrrshuctrbitqqtuutqicretsqwctgjsfkqdhwdokabggkwtuxxulodwxmmxhfoqwcitusrkvkvaspatpgjcortlcvijoshmwcirwwfmkfdtgpjnpjrkkjfflmdxaolwhcjgvtpwjsuwrrsalafngnabsjekfjdeaksbjjwxdbikdwtutkvkeonjxuuqocpijk\"\n",
    "a = collections.Counter(s)\n",
    "result = str()\n",
    "for x in a.items():\n",
    "    print(x)\n",
    "    if(x[1]^1==0):\n",
    "        result = x[0]\n",
    "        break\n",
    "print(result)"
   ]
  },
  {
   "cell_type": "code",
   "execution_count": 17,
   "metadata": {},
   "outputs": [],
   "source": [
    "    def firstUniqChar(s):\n",
    "        a = collections.Counter(s)\n",
    "        result = str()\n",
    "        for x in a.items():\n",
    "            if(x[1]^1==0):\n",
    "                result = x[0]\n",
    "                break\n",
    "        if(result==\"\"):\n",
    "            return -1\n",
    "        return s.find(result)"
   ]
  },
  {
   "cell_type": "code",
   "execution_count": 18,
   "metadata": {
    "scrolled": true
   },
   "outputs": [
    {
     "name": "stdout",
     "output_type": "stream",
     "text": [
      "v\n"
     ]
    },
    {
     "data": {
      "text/plain": [
       "2"
      ]
     },
     "execution_count": 18,
     "metadata": {},
     "output_type": "execute_result"
    }
   ],
   "source": [
    "firstUniqChar(\"loveleetetcode\")"
   ]
  },
  {
   "cell_type": "code",
   "execution_count": 19,
   "metadata": {},
   "outputs": [
    {
     "name": "stdout",
     "output_type": "stream",
     "text": [
      "\n"
     ]
    },
    {
     "data": {
      "text/plain": [
       "0"
      ]
     },
     "execution_count": 19,
     "metadata": {},
     "output_type": "execute_result"
    }
   ],
   "source": [
    "firstUniqChar(\"vvpbxaqjinettqfwggigrmvoufibbahvkrmkmpncmwdbqwahjletpwbsougrrgbhejignwkmomcfmvutuplihmrlcmasujbhcldwffpgwqsgahkbxcunigvirfpvktpgurvbbveqvjkmtsskceabsfmckhdbekldlrwqtuiucouavitggfhnvhqrfdmxqauxgvflsdepfjokpxhmsobasghucxkwremsnutrglqugrrbabmfxvvtiqktkmuxunbtioqtqseqwwnwqntaddvnhhjaudekdvecqduaxcqoeisahlmgqrhpajtiakigndnintoqdkdmjpxawlxwovurkqcghdbtlhlfnwqnerpsetwfmvdjdrukflehieptmbaicuqntrkcnmvakbcpjugsjksotpjdqbsklfhqabnjmkvbppchivmthmubjkjgpxccqrvxrjackvwhtxejogusgdjijhvcsdabsbskirsswnhtgbhhvgpcxgdmlnohqodhqtvaejfmrlkergngmnfbjnifaeuwsoftkapjgbxojfndlumjulfhmbbsoughwmenjjqxejjiqnbpmmwoeqjvaawmavgjojbgueihabldobojvxbvuuptgtxktxsnkduodlpeksmhjdtjfmfhupiivslnbkdcqmfmxvmubswttcsgukumnbmnnomfbwbrstmrxjrhndxidfjittfdgcdbxvarteujxhqndruwwtivkwbbropmptffcrarqsltisspeegbvmblpusgokdrbsbigampxbpxetsxbcxhbmrrshuctrbitqqtuutqicretsqwctgjsfkqdhwdokabggkwtuxxulodwxmmxhfoqwcitusrkvkvaspatpgjcortlcvijoshmwcirwwfmkfdtgpjnpjrkkjfflmdxaolwhcjgvtpwjsuwrrsalafngnabsjekfjdeaksbjjwxdbikdwtutkvkeonjxuuqocpijkesthkpwsogdourhbsbtutulndlrlwbkbwbjxvxdfhkljtihtetlhtkmdalpsbadqrxnhmwkjsxcxlqlbcouxnmtiuojaxdehndvikvehidaxcsdtfnwlarrkowffjeogjvlsncxpjbftbmibevrvvrusolfjwtpnnonnfxvjewrjhqisiantlnoxwlithhqlcvfadtfnjuvsmweibnswtegtmafnuisbqcsexhwsbcpnsvnroeqfmgtuicgfmwdhhvljqcksmaqexfrohgasxmhlthsuhsfvfpsxpealjhavtgcpocalenrqnrjswlolnawotgigjoicxqxdarcbsrblvhdgbjqanwpofhckmnorsuheireecixetcikxeconlvwvxwjjvmcvcuilmqmdtlcrqaejnllxoaxsgmjqnjpaanqmreawjnguulnxtfqixrrufetsfmwcqkujrkcktvixdjvihhvcpoeutgphopjmrddktjiqhtaihlduarjvvihcrcfwxjonmapipjdpiiwphpjmodgbcxuvnqniaswwibolwctqtkrfdgfajvsfeubwrjombkixngbsxdilckdserihcigrfnhentrdljwxdxqgsojhmbknjossaccwvmwahawevxgotulgxdpfbnppcptjumvucagkjgfiqurouorlxikekichidccuwrsgiobdhwxlipeglevjocvgbkgkjjasbejqoholkaiodatcnklnvxhfxqlalgjgtxijrsqlwmujolqpcevugidxmnxkikgwgsaabuakfccnpsonmkvfxpjnxhcrqewmquavgqvroklrhllvjdijbkqgagdelwsidhbjpnipjuovxhpgdrbofsrtxedmjwbqwjlkpkaeoqesgotqbkvgrxtluxrikomgbdvddaginfvplhxethprhixgpboiwusjuvarupsuouqeaukrqivvwomeiqbmvbmcgxdocplxjfwsetfpsmhmwkdghflfausqbbhrniksxiwagnpwinwvgklluhtsnpdtmstswboeombgasbpkjcrqogeaqslvahtqtasldavhdwmjklbrjcpdajpboqjbqirleoqgohftdwtjemndfhphpworsmlhhumgfuufcmninakarmjjvarecnjomprjvlvjwspshouqbvkosupdaogdcnocuqugjosvgriduhkjonbumuhcqjvcxhpdjidvuuvqgrhstexfgpsislhmlqxkitulvggapoolosnocpmlxukllkjtstslhqdbodowqudpgsqpsartkldogbffvmagsgonvxchhfodwelfsoeepnehexbelqjjcompkrslgchgvotiusxiwjvqnuphwkloxigpukostseknikigmrwgaxhrjhvehidbtlvvbhmioxoedxvjddgjsjgqgpqosqsqatjdhmbdnhsdpdhfhtbnwdtbkbpujbstwolxtwbuifosdmgcbuflmvinwukfenclovtjglnvhqsiautirttsfimubjjtuleqqhjjqnlfbiwpwluwosdubehoegmubupktewgqumdxfcvmpcfjqgpaprtgwtjkptrxnqrwgraiiotckgncvsvqlcsbowsaeimvjjctfauvisjrmooicbuehknsiopclgevaxbpbdgvogojlualwrmkubcttrxjnnsgleobqrqjidejjhkubehsahkmhqefbnljjobcmbirihbsggglmquofmnmvmmfapkochbsnvxuomolatshoxclljsuulabqrwepwpqrmvkqalvrvhbhaseqesdehallegtptlukgkeivhpqumqhtmogpwswxlqrrlukwnpptwkwrecgqtvpqqunqebrsddqwfxipvjrdauqwqwcjcpgxnudrmxncorcvulkwkrgobqatusmpshnqmgcaiftwffxvxrptnabebrfaaxektvddvlkxpcrgafffiaaggfhvivineutlfaiaatbfipskorwpnjehfjscwmacasqiqbmpfvbbuddcjcbkpulgsebjkpnxlatctxqbmcrnlhgghqpgwqvuevulggpmwhfsptteujsaeckwjkxdjftpfmujiixjjxngnefcotlkbvpkhrbbkemjllabbwuwexdacdprcautqagcjuvahvqqphinqahexhagjaitqhnmkcgxgueariqgqdnuxfobradsjkqwiqxlxeahibnbqllbiewfevdwlcudbjaebujrpvkuncbuubbtnndkijomfemjchhmfdegroomgpwxuaslqmucdrvrppstubnnkmgtpwujtbglcahrrjkfvekxrdgdpktjbqrwxocjdqbjesanioedgtffkxqqcipxrpvrkocwqdvhlglgnatunfmcedrkodepmxicavlpidexodshxboadtjinqqcemhralmdqugumigxpkefxrnximtgwgogkdkfwbrkmsseubjrusbboaibublmhubpapeuwcnbkahjpwpuxectrniphkqchdenqafmivkhtvgspqxawigtdiepagkqadebaawoutxepsfxsxknjnoslcukjgroildrceodjlvqwgorrspdclqoqlrbqjweatipmxfjqwttpsrwmsospuwitskdwiacqmdrpxejjtbvuofhlgpkkvijuixxkkabpovbcukeudxwdrkmvxddjbualujxgimhhifnphhjrooonmiwmfrffvuexxxbirovoldpeimxpdvvrwilwxsafeqhjirhrggufwxoswaqhtuejirvmfefdugiciqajxktmskkbctlrfertblsoqksfvixixlmilujkwttrlwansmoqspedqbbuqvttestwdeirddjbcaptbebidukvudiinowvpnnkgapxbredpraldnudtctkfgjrlkpekfsfvknnxnmvrrluignjkjjtdvkpljhkkbsharulopjqabqhhhobcctqvnvbvduvkcwaggtjnqtmfqheironqeritqjixrxgaweahqsxvptaapadntftxqtvowguukiuepnwuxbufehoiemtlvkdfnjngndfsgpbpnsdftqboiqugrjgvahhkllbkhsdkwnljobabfxohkxljwqsbcloxkjjltcndbidbemcjmhdcdstcbsqxwopmtmnacmevhcbapremioaurdtrmviibblifcekkgakbrfvfkflsnmporfnhtbevksuruajnrbaopwbagugjvqljlpxalncbcmhvdxelvhxwlolxmkeoeupddcojeclfbaklfsltscasvlmtohvxuiuligdjajgcqqetmbpfjjsruoudtllodukrklfjwsexfcwtxtibqvxtsxsplfdstxinrinqwfeesphfvcvqjgmqwnhiwpquldwqnxswabpcvhjiimxjsuljiskeuphlkonrgofdeqeiqrrnhcgmfgevieenfgdpcjnruwwqkqnwsprlcejbjgpvhuedsukjkufpqpemscxvkxbcrribgctadkdvrruakwgdaaqannemksrsutmettagvgqlteducrqfftbkbdedjapetqfikbhpvxmvrwenctroaoqnhkwshjwpwbshctammghujhbulfufpkmoiudcuemevgeqdtkmqlahfpkidhhsupgxsxtcikscqxcmnpohlwiwtghjlatonunhpevdtdpjqtvriadothgkfmpitspieldgnsjufxtbtuvrnwkakodscqsmutmaacnugtjvhoidtqjucrkfxchojdjwuujoisvcbnsoxidooqrjaiegserwmfmufvxlwldqgrxiomhsgugiquijcmrtcgsafwnhjnounxfsvdcijtirqofbjsqelvejowuqrhhqvhxeknepbxovkultowocheripoeiodglqadphcwhnojlmomrbpcewbsuioeoihcgodjsssaanjjdiovksgnkqfovqwnkqelxvbcfnmrlqingfcrxjdwuoqwebwonmskbwxwbxjshiknsktwghootgrchkoawfipjbqmmirsfejckbjmrkxvwrcrjdfswlabbodvjqukumdedjmuqtnsfarupvmftxqbqopqvwccejjcxseobtkvbrxklolqhhjxgxfocusbvbdvfuibhaehrgemexcmkfdsudfhxkgxavbewhsgxuuafvarkijrsaosrqhkfomgefsiitqesfjigikcwkpwjxbavqtpsbftbsajoqtujnnftgmohdfmomnujcipqdqiakbwfxsnutwsewewvulscwkfefqcpuhvapopxoxijwnfccdcjwjbefiuwtjxonikrppvdgqfkasgujrbsipjmbpixtehfmnomulqbqodwingcdfeirfjtkpsanabmdmrivupssrcwgwvuabcelcjxqprabpweanefbatforebkuslqlevfpkttigqppomfcxekquctgoxeigotecdxemedkrhxjaejbbuhmbsqxtqmdqgcelxjbouinbfbvfmtednqtsepnbvdkjblkxxdvjckrxkntevnrmhnxqaxiafpqrrxapovsmosvspmlogorvtgodwaarqrmxgpeljxgijgsldumsqgdgqlrcpkfupcvegjhccrsfsiibgppbkvjwheqocfgarqmpthrnatosjwpfrtekmlrfocdoabuwhfrivpsllvjipcxpdclwgaeeitjdaohvhxurkdrnuqvodkxwucufbmctsqefsmhglaeqekqdkkafnqqcfnoomaljgkktgeuakhdvklvunnduoddfncskqsopdheffufuvtprvarigpomutfmmraidtvfjbkugvuktgrmeiubusbukibkdjqrxmwcaxtibapbuxavxtfehetfvconimsuudkgrqjahlxsrgguprgeqpvpxjlnwbosasrkmwsfxaueqlkdckfpwcxrpfjdsildvxkwpaxxrvfimotxswdvrnjeogqpobcwtuxregivgeevcpklpoihsalxceaabfltqagmcqupnupemxxfqatuxlndvqbodcgeolqokofoofhurerfffoolgwpxasdnbkgmffqdqjsrxewrxcegwhctbhewveugdrelgfrngbkpsncnjqcubpljuijuihuoojmcgxsqifxpgmpmieogqwwuprpjxdrwulgrnetvwniclxooggrmjuoetcwteadflhdadvdtjqwxbhwebgspwibswknuwnddvetiaxtcparoimqvtdswoepfrsfmnubbievquvklsdahagdrspibawrfvcfbqdmgofjipornqctdkuqjainaohplakwfbtfsgijrcrhqtnlruhxmmpjupoigusqxhldoqntctpvnblqbhqpcgetetnfwascacnpjmuhemidluwbeemjtwgubcknmdbexshblsuontuqklmxjkomqehtsuxbppapepkqucpppctvtwgkiavbiifjhbcixdpthjomnullbqubfmersiapmkrnacllmhwprrdgfabseuivixnegrqpkslawnukhlmmjvjwvgrlpqpiewtumdvqmjtjalmexhdjxghltxspsdjtsbebenxdkvqbwnckntjpmfowbrvfgnovbbjkpjoalplabrhdqphghqgwhndwroghsekquwjgpiuvibtaadvnibxmdmkkgwajdtpsemkgogtbtloqnicfaojqpmtisfvswwxrgexhrdadtbpuqmivgbdrtxfixlnllwufcuqcowluxsxliinvcjhavmsdmradabefivhwqwdtpnxxnfshnwtehdqjbnvlhbqbjptmunjjuuvnichjopiwalarpawcqmiculteesnguojxawmlfonnrocuvdjrjutabxqfxfhrctnvfdigcsmkjtoktuxaeqdsbfsqogxtlthoiaesotteqktskfqobxgjllbmavmtrwaliuioismewdsurndlwlfvplesfkpclvrmfrmcjnncmgebitkrftqnguvbvfqhcohqhgqqhfwvrthriblffhojpvccjoptusfpxlegfcbgotldaopshhrkkimvqweglrrsuapmavembmsiisoortpixulrtdwxhevrxnstkejifxsxavxrwtbkhrwoqgpwwrxlhknccjwrxnejbpumtxpbrphnjinmksqbmaqsqktiruinsitpkaruwgeoghbjtfxcwvtdfjsmkogmminrsmgmvgwifvsexugpwcvuaekhkkwoopcdteabwivuajkgigdadaxojvsorhxcqnsmojvsbsbcwkhpvtxmnnrqalldqhljklvfkjgxxfjriskgxkcdntttgwnopbqknpcnhwdjhkpjnqltvfmxkinpcoaguvhgakcvwplijpbdnmshpdvveoptvdtmrtxulnvnotqlwoaxjgxkvmmaemaxgnianlcvhodupmidnndmhwblaacgrjrevmvbrfordhuskjmqogulcuslxiphthkksidhtrexxhhjnkurspbdhqqjdstecnlagrrtwhuquovgthhgakmnaclwtxgnptlxiijfxxglrtombixaqgdbmdfshhpbjjmoadbeibcroakrrnspttwodbneptaqjxeoptdrqoxbtmrfkgjcxbhewvcemrhewwuhebvehugejxsjulmsxqvumqfmftncqeeiatqmgfhjhjxvaudgaaxwvqgjkxbfhsdcjlljmxkbgcoavcnpmbobcpfoepnteqluraimjehmutqsulmmktkgkebrbkpmwpcghrvvodvbmcefdbwhkpkffgmcuqibffjseiltktfbtiehekmvntivupmssqqssmighushvwhtlvwixioqkiswggcqnmpgecpkinkixtlilsdbsrtqrhjjtlggudvgtjvhplkhjkrxdfljhhfutwvwdwpbifbbaitvfgelcdbjmqgcnbkvhxgexxhlqsmachbtjggvlgkgvcebnpldfjeewgmeetgsbfhrudbfdtvvokmaoqqugtonjtxeewxqnuvbngvcsscghkqpqoqtbpfihoicrmxkxtdienbfiercrrowuingwmrnahowknnhosqbjrpvwpbbmxwtagnogcstehtrpscqlcnsntfdtemtoecjorrchracemntjbxevjslxrugpeiwbijgoxjdersuhavtpubemqpvxvuptngnudkkxrfiskbwvjlkbrtpihuawvuogjgwqnghjpmsluodxrxhiceoshqlldgsigxbtwvcmsiqgxgamgadlwdjrguxwwqdkgtqpohgbqxdtdeqmsafknrhvvidpvlllqiqugtihdsldbpjhmvwwooihnmqxcppdmxmqettgbrpvpwlwmawndkfgvagoueccbirojffhmtqbhsxjcjestfwkuuukdjkjrlsdgcgrdkvaptnogxikgwkumpsnpipathviskpmfuhjjrehqmuhewsdusrwqxcfpokgmuaqukvmttvdiwnqgvwxmvrvxpdswwknocqohmisptpkwwovcdfimartsarggavlxkqowriceptfcufxraphmkcpsjerauccwnportmmkabtmasftdvduftchmgumrkjflwiiinbbwafnbgqrnhnehvsshmgtbujduflljkqbiirlqroromdurabrlrptsrbihdhkwurkatbqwkbfofqetdpwitigvjrufivgxcemmgfkikbdfrjueokqnsicsdrxgfmfdvkhfmdtrqundbivwdeouhxjihksckfieusltkvrinusxfmfphesdkobjgllbowiaieawtdguqqkcenwafddlseetanddcblarbpnvtjgsrvuhmwrlqbmarrpuwtxwgdmoaosqhcglokvfqhcbdmwlgifdajgrdhdqsgdnwjekhleojhcafmbusrvvdpidcgxwfqrmjgqquhdeqiciurulnuwqndfnssgbtltuhbjmgpqndrdaltqhxbbpahfxecrqtotgacaxejujnskqpkfqrqxamjhaxoauolxcebvihwxjttkkkwthcjwextmbtolftjrwugiqowbvxucllxbeteoktumbasjcsxpvhrrorkbuqnbokwrwscrtpexbhklempjnvtxeiqiwpwabirrwjjfoutnrporciabhpcmpmjgfkxpmuccticdujbnqrwlfwknkuhorewtgmioiwhegfgteogjoecjewnxgulgcawhmckfvxshpsefhdchmattirsfnantrjqrfgltkgksfpdjnbnasnpqiwhafpmhxvgdrxejadoobkfwnppmpuijngnhojkaephlrnwqopqdkvbgqnjceuugxheujhgxhmlsfbhnfqpjjhwhnmjlrfnxflvnvaauqgraukrtujdifjwsfdbqmijdisotuexpieluxilbuxuixkiwpsxxiucuxsrgdtvapxqqnleonmkqosuvmsnqtbxatvmwuwbguorkhugtohvjtjcnecbfwhiqtlbtxmutibmlmtiqqjntwakxwcnmipmmqcxmewufsqstfosvsacgoontclipcqvmcmvksdkmdedjsxebfofkumbjcucmttkhaavvjdwctmqhcnwgqlmghqpjtnkumhdotxwvcobojqxdorqcmnadiuhkqhcwmmjjkiqkvfbxfrbwnbsojwkboacvpqjeeccaolltjpxoboxaapmcograsdgkithmukploixjhmmtcpqbotxvdleidunjmffpddiktiuuwfpwtvtqqebbcxnadowslabvsvgemklexrpwrxcpoclmislkxoieuleoibhschcbbqwnxfuehngpicnmjgfaawgjggfmvnskfttjlqbqdoacabnxrgexocaqtmwkugerlqnlvwatlutfiokcomvgpoabieelicwecsodgsduhxohjsmxjciickqfffwrahsukovqorbnopqjlmduspfmihgubxlsnxwjvosuevlebndmnupcqeurimmvflvpocmsijffbfhsirgfhcqbthviejqciqdqmwsjwqpenbohsbjxlxhrekirbxubdovfpvsmvjorocikphurokckdfvmbfxlffdvgodevoddppgfqchsldcdxxfiedraxovbcsnbxxgeobggvlctilivrqwhjbcqiqtbcqakdcikuwbofqnmfjsqrirprikkrmffxambibxoqiavbljnlfkmgapbehbasaefqsrmhufishslremwcaobixwnbhxqsxgbghxupjqqujoxdkxobraoinasixmtcweaiogbrccneqwlkntwrihngteslxqibhpdxapluhcjklbvmfohrodmrqbdxhebibfkltirjgqchlxoslsossdmcurowaouwuqfdrseabtrtxintovwlebuipllajikeaxlakovqhnwnxlmqgjwneewukhsfsilcojgrukkrbvantdbalnnateafensmmqppgiuhrqtvwdrnmfgewietakdmonvngwwtwtobjhsbghhkjcjthudxmuhrxxjrqmhqakmqswnajcdhlklwmistflmtxdhaljldtnouohvaakfkantvpeaiwhslwshrvflhqmluujkrkavdludphapnebiancafjhmkgxujfuuehmkdbnreeeftbppddumlmrbuvgrcaadjihfcmcgoxjdselilqrruicbonbcivvwxuxpxtjkcxnjjflabfxqqustipapkethxtwnloeftnboqvrkfrajwbsabcuirgsuaocsvvrwppnmrctvweslofaisoteuccoluvfwrsgwicjrhtquxharsvtkuxmurdupvgfnkoojvggtbamjrwghqbiklwibjwinsedtgfeaxdduskrckpgxwnjjtsasnbqfsjxihxqkphqxbjxkssqcupeifbdikgnwferdummafeukpfnhsompsjshqfdckdxrlnbfoeorpbanlgujbfbpbrlvmvwjtswvfmwvmpiwhgfknufrqpikibgccjneijrlcjbuonawmcigvxohwcsphavqraauoscktmcbmwosxheemhhcdxvpwvgejuprhehdpgbfxkecpeqrrnsshgbrwccrcerkdprnwfghwkrnurtimpvrdpaoggbfvaxiqtirisaabuemwhgpwgsmgtqfxrcqbjjkapehoojabkwwwurwolxwiqthqlxtpvxjkvuwhhpgnshetjeomuefkqhtreownnruhvrplxttfwwvoophrtlrdbucseaqnjhmnflbtuuwkufkfmbiuxltlnuemdvrhsqagocfgauidoktkjdcvpdtdtfagcvljgfbcqosucrjalgxfgwennmicsrhrximfhwhimorgbfhkdrgumhpdawliewqtdvetdljaqmckpgnxotjbcrcxiblwqnmoxvmjmdakvgetdmrkmeauplgjvmrlovskjqlbjitxuvqwnjuqnldlnmtcxrfpwatnlwdlridodjnnflvtbraitvirwgwcqexbdpbfgephuruxdmfsagskbgohsumvucnwlspjxmikowufpctfkcpkppmtesipkkfkcafwuaoqjroncfanpvxpvplfkkcqcmbpibknvhirmarrchejaodbdasvntrrfqomfnxucchdbugjixgslxlqbqsuwuwjrnhkqumglbcaxufuvmwosownhitjloqjaukitniqquspwkfcpxfplmfhfaeugbapivpggsdmslojoehdaalvaiiptpvgfuwndahmhjprxohuxlkiwpxgpentkpiwsjblpncdhljxqmuckphxldcusgpfawcmuwchodpcgxmxwwglfantwgugahmfxvgalualpdwsupnipmfgbvfrggufrhfbfertgtmgbojbcbxcvoqthpptnesanordetgnxlnrwjwrgpqohtisvgkasqxpueblkjdmndelfxncsxituvuuvcpbnjdcwqeprhqcqvqegphkebibwsvintfnwjvcdddriwpgahkejaddwharudsopbfenwogdvvahtvigsseotsuhphrwauhcdogsbvxwwlvojujawhtwqewodwemjtjfcbmvkdtmgnxnpuapkccppqifbepgnwxcgofxqauousweungmacxsppslssemnwoixeconlkccccljwbvwimqkanafqsgrkixfljexumkopeswhtlfdrhguhmmvjejdmhhuehxncmbhdrdruxvmeimddxfbcgvqlioplivtmcccijaukifcpuemgjrvevfctclduarrssljjiuxhnphkcgpckqbapiihvtbbgdvvocdqpalsirqlbbvolkmuwpdusbrjjkpfvijfhnpmaexmdwwksgpcacdexucndhqapndwwauufqmnpnrhaockpjhwvduetkpiubifoerkhvouvwhmwqesjtqkvhiwjlgeuujkoqhxocwtnbqjcvvuasfbfagmfbkvpfntnlojsjurxfdhgvghtexshwnmhowrvvfcvwfttqxhdmanqppuccnvsqobpixlgebgvrvkrqptbmitsfhkeuidvqainaqqkcqifuviurfhbwlklnxrlcakkumtjohsrhcpnooeucbddcqjlawsgtmfifkbuseiesalfbxwkvcwihiqcontvanrxtbsulakrecmvtbhmqrqwxkxixmwbjcahvbxssdjcghdvnmgeugboqhhvsktqoerqvtpxieenvapnhplajqsjtgxraxjlxkfkjhsrseluuubwqchkxpcnqaqmkeikmvtnkejstcpfcmhgcwbbnubuwfjgnraoumdbqdljkxhswilglljmuhanpekpmnsnqavxtuqnoctkjpvpmravexvxbgdqorvrqrknkwbiqmtftrdxnwulfnlmfkvxkujqugruxrvjivqdeixagviwpqxllrpvrxhulqkfiomagesmdbjroujokrlelsjdtcgexgwowvofckpichxjotbtfpgpuwupqegxwrmjqneidwrhppdkxupnbtjeanhtigxpraueaxnrcjhjlmelxueeofllvwkocpcdqexbeskixsjogelegfoqmuumekgxxqxllvuhwxjvckioqhhfgxxskbuqmasipqexrctweonrlatcqhqofcxisdefpiwqkilxteewogdkrntqhrwxufumcltulecxqhtljcapgxvjwjgcfpcqtiimlajgkspfromdtfwrldsxitowsbtccudcndhrkcecunxaruhmmpksimkowxjdbrluieuplvcgsddidasicgwmntlbjqfexgkmtsawptqbtbbmiihnnvfejraokeogweabhveqmtwmpgpnrvodehprcfbhkufxeclknppeewmvftprgxqdjsmfcqplbaijrbnjsnjcvtlfhhjchfutsofpxcrsxpbcxqnnjsskqdkvdtlptakniurprcputcxmvimgjmlumfjtsxxxmxdhterfsjbrhqdwkbrmjdlalsbjdsumatwtlnubaoqrrsmxxcexsalgtsrgqvdnqdlxqistvslecpsbmufhmlkonerjqhlseidnjeltxmtscqwdbwvfpliibarukjeteknmxsajxvouqvpnnrlxdqnuxxkopswixibuckqoungqgvfxsupoxesshbepxlkbwcpucteqitlpcbaboqktuuwdqonhrlxwbkighvsabhlcvijlcvdecdjvdmhgptwpanljqsmxqcippdhookktrpekqgbextwedwbowxctvmcqajsqbpigjagqpcmrkkhwcdbdbhsoauhexdlkfnupjpxjqqwvijrtemljjxowqljkwqbfiegvtequccbqbhvvscpqwkfnxbamtjnpttxivoqapfvtnfksmfgaqwiklvkbhgnswloaigpxvmjetkqmkupswdonvhbbkotejulmltwammnumparlakejlpovieudsgplfogagltgabuiujdjaiijlencimsujhsfwqvnxbaswwchidrcvimoflkgoxttefniiaclffxxociqdodhoscxrhfxdipblqpslplcqriojqvfhtaqmxjwxfgwwuwofbktgdrsjulxpfbejrsvpobbnxndinrjswvfchudigjshlloebinwxjbgekvrsgetkawxanueiigcrfdoskbjsdgqegoadovictpeacwgrjvhqglhubbkawxuqpmfrcvqahqbgfrvcvfhhofaxtvoqswrhxastieulcbhkenkbcxkgvlbujfatxbxjucmjckttvswnjsvacthndtbslrgqvbahasompgobjsvvchfxtrovjgrjciqpnwcabintwcveedvfjodepqinnlacetpavqfurdmwjehehtfknfgbfbnwqehudsduogkuxejfxfeclcoownhvnmuglhvxnvtsrkjptlujavonpcxienvrgjwxuvtmelasusjfnaxjmtkfcsbrhxjesitjegbspojnjxkwnsxwtrtlwbuaxjsgqibcecgbfexkgigttdwpvvowsihnefrxidleljcsiwrrnxclpbemkioooxtioroidhxhqcwmpuqdvsjxjnrvscbmkwxsfnaqxvgbvhcxswmxvkrgrhtdosxwoeussdqqnfxurggdjlmnpxkahhvfekkhsdritrvwvwthehabumigcjnfuentvapegrxvjbqeqsrtwutitrkqwacwoxugsnaxsxvqfbikmxchxmnjospgttishjrnrrvxgffbfjgwdgvlpwxcopcfjuarfiniuuoukcertdccdplpglawjqrpibbesmxikvchpqehwwtgwreuutqsiumlidecmpqusgrxlfvtfrbqswxjjgbimemjcrqtfppeonmeikgwkvvsruvoolrptqrsenohevvbvddpmxahmsxlkmfereaxpicnpfgprjkcppfxjulolawmvgisdpxbxlqcmspdulvxuddefigtpgluckvrvvftkdkcrmjbndoaevmpkmjpafwdbhfxoodqcobuidodmapophbhprfrwwgssxqovjbvwnmqihliblninpreevksjhdxnivneqwuwqexqplimmdxoffpbaxrkapuslencjtmcpjqkummvlprllfwwefoxlxbrpxnofxwsbktfogleqjiciqmdpujbgfvlglfcmdbwhxjrvswkcceudpwqcstrlbagolwvwhforcaoridndklcnbwfvklnqlstjvwxskcshqtmbxmwbipswxdkakrhwkednbaarmjkbmploarwnniwoqvptlgfugnvcaradxjxheotasamxqmnuvfnfubbuqnasktaiqsxiaxehglhgkfwjfcsiockuqfgmwfwasvenjswtlsbdcdlgrmikqjafftoxupldsrmwhqcdkdrprudrrevllxkpqcxegkaitobtrqwbdahapcwkerlvwekkapdtsnlalnbtikmdfakwdmuttljhswxvgubdqqglsfoatpksaeutwlnkvtoaphrsbqbwrmhbrwpadosgotenxnbqlaubmoqxcetsuiqsabeexxkwmntgxvqwfccssdvvjxxidupfgfmmqduevshmvqkjkrilipwmnbgaljotecbawrpgpdrakiiesgwdxbudhcwkgouebqcxqbdncprjneafoqmuwcieodawetjaoaxcomqjxgajxedooqsmoqivldmduavpdrjrkjgbormgqbsnrviewvvxvctspoiqpeourqfpwxojxcldqpomqbqcfbdtfecvcxpdobnraipkfxixsovtbkifdhgovldunmugpvwatfvbrjalqttttcmcwmtdpcdoqtgmudaeifsnmpkfknbswawhgrbjnbslsktwotdfgafigrqohuqbrvvvnnccuarkelnunwacgpwqwproxrgavibmiavewaoewgsoqdfmibegmsnvetvxsrsekkcididcxjmladludgbcrjmdlsuvhramrmjndigshwknmedxqwudfnopphctmgdgnvsffrbehflsfamiwsndpvlkwbjsktdahonwrkschertsgvgwjmaartuqaqqrfqdpwcrillkwvdamhiaxecdpjgvwuxviwchunrocftgvxrrtcuxcsnmfgfviootivrlgdsfwwsutltfgpbdgdgskhwtvffaisobpjnfvjxvbxrffxgmupnhfesbfkmvrwxpewdqodmaowtrsbfsmhtjowsnkmlctqooascesoqhuvbbkffunsgbweearttxnajgrousrrtiaomvalguaqahfgsbfxcuaxkgprpscfoumasvcebqmchtdntkmrbalmiqddnenqhtiluqqpmbshffwqojgijnppccnnfpdvhfditptvagjhbmbhfheuabdjcfmgwmujobggnstenrcllrclxegoaeqqhbrwkdxovbqnmbxgmanbsubluatfpifxrwdgimvtstswhtqdtejmavpxudurputtieteqhvqhimafcvbuvhbmeephualxxcoecrlclawkaftamhkntocoipmnmikocjpfbmiwcgevswixkfgqfxwwsjfodlgwfbhtjmfuswcwawvceilevrgvcjdsrkxgaregckjuubqhagvbkqtarfqjaimcovowcsiplgexqgpxtvfmtevwscgdugcurlkwndluoxxdvghobmpdqmcnqrqdnkvcdvegpvdpjobjvawmskkwrsbvkcusfntsnsdobpsovklkovwrvigvglkgceegkgowulpptkalcutebugntgmixcvqgqabfvgmtxipeoluquljogwantdiuvdtpngbfmrwrpxhgknlwrlxudhcrauleetanuqambbcnstahxgpvubqfcaexufsiiwfafgfimfkikuqquuxvuplxmsmjqawijslpgghcggvkelrjcrvokeitidlfdnwmordmkkqcplttshjkjmqanbgjhnkuosjtaldvpbpqoemleaccqoqlwfpbiaporjrxowftouuudsqjrxdlpgvwmakkukutlbnojmpgokhvidhgctetpehkakhwlvpdftmbivtnidiukjjcxmmtqahpcupdujsvogiimppjthxbemhvhcnsrtdnjfacpmeswcalfeftqpfeetpxsogsleuugwtswqvlpqubctujpsqfkgsxbhhjntclanqfwumfhgedtfmlpqrdhfrwmoqiirodauabsbddgpbrsbfdisbadrsmkskxungendbiagjevajlmxxadpgcfjhrmtlwqhmoiifaqdwxutfbmxsriaskgvofrrufvaobrvkjlidnkpfdqcgpgldavwjqsfwdkpwepkkfrgwoqecaahlcgsdddtxbxwpcpelbsvtljmqkfdsbfpcjiurepexbpmiqgqfolaxsdtjacthwxijglsuesbdadicgvsmuskntbrckgehpnujpxdgjmlkgcruducxcguvgqqjgkpmdittnfhwtebekmpnruiqcifxclaavgdnextnqnpeudmrgtdxwvfpkavdbaxfxbirqtwjiwbasidbivujdgactnvbrhhstdwsqdmgfjpkhugubcctipcknptblbhwdowpeqddwnjkrgvtbdvvfcrhqabdhwiivhaiekncudwrbpbmqqwwrvqruvppnvbckbcvhqjcxdwfogrqvimroqurqiegfhctksggwsidxerhcunijtadkmhnfrawwdulesldrkrfuoqqdjocmlrvwaqptilrjcgcssjmifmavssosetqwfphkfpvcewfweqaskbctobulqplxwmahusbntvrsfimvisfnbstclbrpxafswkewwtejbibcujewonjlinaeulxgiewknudvtjoeatpmrsxqxqfegicskawlldnjckeceujhhdcglbevtthimfxmngxvxorngvbgrnlspccbdbktjxqgbmbkuhatemepjejrrlgnixxmqptdkljholhdqtlglfnxspmsvoqxbdjjtvwugxqdkeqbqqwgmjuesgslupdssfagdklqeuhcxwocvaddwbbaqklspewuenuejxsfubeeccixglamkuervkhanqrohtftntlupwjqvxgqehhdplnqaxhvhaehsqdlgwxffefhqnqfpghwwmevspbafohrolpmnaeafsabtmofgpqgxjsiduotojkckuxfbctnqacgunabrlcdrcvqcwhudkvlhuupdtntfpkwwpobsrvumwwgptsmdxiuncxdslilnfcaplqvgjblknwstfjlhtdntwggxtfvhmcgpqwviuooihdegusbglgwsjddskvbeeioigrjoieorfxepopvjjkwbkfqkahhuufbpnpqaxddsvrcpfxbiefpijlhhosowmjwhojtpjtfwcavoirdserhrphwddaxdmmxvaactfvdtjggdipmhkuhktqgthaskvpkettvllphbusnweamanaolngxskkpuoqrsijtptcxrsusqumsvfuonnjagnooipjkpwewrwpuluenjblavdpvimbcphmxhjivuntmhlvngjcnibnejvtulrgwgberblpebfnojkdmlrwdgwsxboxtwfastconfffnnxmeqlthjeihcaljmddctxagfcsdearsbshgepuirdqjfowbkohqxxmmejadvtnbuxwleovnlnhrhiujmwdpnvnckijeaoqtpvjeioqggttohogpkmxntsucmwdapjchsmjbbrenkdncvbcudotlbfhknlhnanthemukxwrirpglticiaoprqoaktioudblrngtxkwhrqpmkotulieeoqgveouofbgsowjoarxhosrrgrdceuxauquahxhrxklioxfoeelxafxubbhtnuhmbjqqcokwufqwjhtruusqgbqmrjhoexerwscfosuuklfkwhkbirlschvdphdnkopvtedodunvsldfpxseakoocwnqllehgixkaxtnrdgqugjakgmmtpdcpiatfxjecvupucijhavvqdxjiepidkdqjcpufqtmepglbvespdfmvtgsjclhgjvgqwalkqrpwewinroihldnfgvruqjdvubouuwivhlvwuevrgouiirqwdeidnqlimxpumodwvrpvawkmlfujlwfbsugekixpqaarmcuvrmlkiwxirsjemknvudlqojxjketdpbmsdlshldethgeisowmjmphkulpprpcdtjfugfkjojoopdugjbujekjwalkbbuwbjenmgcumfwbgpxrxehxkfefroxxqdkoicwdscdnbcmmwgbhofgthovmleijeqjdaonhxkwndvjpgcanloqqgqfxvvmhtwjvdgdbcpvtivojindnvglqxjudxwmiqadupjpqmihaqcmurgmfvgjkudclijjvrtniuxqvundneujweokgcvjfsoiwrvjohrqjlrijlxdimexahmvafdlserelkkotrrngmookjvgrxbujcqflvbpbxmhdsrhmptkqwwkqnpecwtslwtcwlgukoxkoralatibxrbmfxnnjasaudtmdwkuepdluqkeatxqlxqupbqjiwhnnqtlixfhiswuvxmjepijtvskaihqvhkdonapgoilpiduqfqsmimcboiwwhllamrjpmuinccrwrpkwtvxqvbvliiasmsatfoppcggmumjqmuqpamqhakbklfalxwanrafiswsvdelmsjnlnunkgmooiehtrxenbqtisvsoqmarcxjcbvwkjrmohxtqctcumebackaacmgivfmlfhtejqlmxvwdjumktwqilnktckxjldwqbdutoklojggehcqgngohnxkwqarmtjpxeacgwwevutnlddicdsuxhphddworfixjhgtmumwjbdjxwblufntosviidcfpshhgbwigomcshgekxtjvsmbnvchgrgfaspfvdxcuvhoxpmfkpsbfkjaujednnrisewchebioiedjrwmignvugkgdvgunguvgjwxvnvjmptkremrmlmeswsvjcfkffwmtjxcnwshvevjfiuufhxowrguqatnxspftchfxoarcfrsfpqvfjxtjaatgwpfbmxamhapfgqwlkhmdwhecklmllpbmvksutpvhwkxwfrqieqofqrjnbepujmajukeibwemalxbetojsdselpewhbvmsgphmbeedfotmvohswivoixqhanvdcgchfgemxqsltbudxuiqtgfnpvrvvvbphlaqrfrnckibiwwusrdnjrsbrmhnustqjceudfghuahvuociffkcbpbcfejghwdihvxmcelbnuxgqpiwqadpjjniufjjwxrhbkqiptqtduqutlqhlshtlxfjfpvfhxnmqtrwakexicbinakdhdoxpsaaisotmmhisparxcrsevdcgivbdlqcliptfwdcviwlsoghurfhvmwrpscsplnnrtcdvmwtikdefpdbvrrefrcoqorvubuxbjbhxkfopkgtnupwejmjltpihlcdboojbmehtcrkrihrbusxjqqhqkvawlvtpllttlkfkscphuogkxttcatododvevswegtuxnepluipaokrhfldbagfuxcisjaesjnmdecngwdqmwmlqhkgfqbulgkrohiuqldnbhuiesssdmelnlqnhhevjrthlisghedeqwkhuhwowikchkvaghofnbmdgcwugtgebjtmwfplesoinmigcqbhxgxmrotdfsedkqimkuvkvtpehklhlilribktdvtgfavbotcbblalkrpogkensavlpaoxuvudmvqhskwtcuxvcwuqjomogqpwmvdrvqxknrpnqwhkgxljfahhamksqqqsaobjvuuefuqkpveuucugebhoewasgjsocfpgulsrwxmxpaummgsfwhocelmnkjdtcroqdttqpqstjiaawlvvlmcwatpeuseijcxbrgfrqiuxmlajlkmhexeabnrhkkfgoqhoolrwkaicateocjbdqiuaflcngtomjkbsccpvmopnghextjsihpsxhekpqtolccutglpwwdbifwxwxliprlgvuaamouxdsihrboicjqgcvcgavflxpgprghnvkfhdakdfmtuaeuglhcjqnrkraiwmesbrlopufjapgsbspwafbgamqgxefpugwherchgfpfgohlindignwwlmnmarvegvfxovoqgprwfcpoqlxrwgdkbbecwhqxxuqkwmprnbafmvpedetjqgcctlncrhgrojibfxfcfewquewtphxqgvkgkjjtqbqqcndsmnblmisjnsmeovewhmewtmpfvunfuhlpqhsukeeohfcaogbdklgkjdqiojfbuhaweujvbqfbcvhvqjxparctdhlmupblsxabpvuxhwlqndtnlgnsjoihaqisppacfnnhicvaotrvshhpbplmnughjnhahakihrgaikmsusuhxqctqjjglrwmwwjpltaeoum\")"
   ]
  },
  {
   "cell_type": "markdown",
   "metadata": {},
   "source": [
    "### 389  找不同\n",
    "\n",
    "给定两个字符串 s 和 t，它们只包含小写字母。\n",
    "\n",
    "字符串 t 由字符串 s 随机重排，然后在随机位置添加一个字母。\n",
    "\n",
    "请找出在 t 中被添加的字母。"
   ]
  },
  {
   "cell_type": "code",
   "execution_count": 81,
   "metadata": {},
   "outputs": [],
   "source": [
    "    def findTheDifference(s,t):\n",
    "        s = [x for x in s]\n",
    "        s.sort()\n",
    "        t = [x for x in t]\n",
    "        t.sort()\n",
    "        f = str()\n",
    "        print(s)\n",
    "        print(t)\n",
    "        for i in range(len(s)):\n",
    "            if(s[i]!=t[i]):\n",
    "                f = t[i]\n",
    "                break\n",
    "        if(f==\"\"):\n",
    "            f=t[-1]\n",
    "        return f"
   ]
  },
  {
   "cell_type": "code",
   "execution_count": 84,
   "metadata": {},
   "outputs": [],
   "source": [
    "a = \"ymbgaraibkfmvocpizdydugvalagaivdbfsfbepeyccqfepzvtpyxtbadkhmwmoswrcxnargtlswqemafandgkmydtimuzvjwxvlfwlhvkrgcsithaqlcvrihrwqkpjdhgfgreqoxzfvhjzojhghfwbvpfzectwwhexthbsndovxejsntmjihchaotbgcysfdaojkjldprwyrnischrgmtvjcorypvopfmegizfkvudubnejzfqffvgdoxohuinkyygbdzmshvyqyhsozwvlhevfepdvafgkqpkmcsikfyxczcovrmwqxxbnhfzcjjcpgzjjfateajnnvlbwhyppdleahgaypxidkpwmfqwqyofwdqgxhjaxvyrzupfwesmxbjszolgwqvfiozofncbohduqgiswuiyddmwlwubetyaummenkdfptjczxemryuotrrymrfdxtrebpbjtpnuhsbnovhectpjhfhahbqrfbyxggobsweefcwxpqsspyssrmdhuelkkvyjxswjwofngpwfxvknkjviiavorwyfzlnktmfwxkvwkrwdcxjfzikdyswsuxegmhtnxjraqrdchaauazfhtklxsksbhwgjphgbasfnlwqwukprgvihntsyymdrfovaszjywuqygpvjtvlsvvqbvzsmgweiayhlubnbsitvfxawhfmfiatxvqrcwjshvovxknnxnyyfexqycrlyksderlqarqhkxyaqwlwoqcribumrqjtelhwdvaiysgjlvksrfvjlcaiwrirtkkxbwgicyhvakxgdjwnwmubkiazdjkfmotglclqndqjxethoutvjchjbkoasnnfbgrnycucfpeovruguzumgmgddqwjgdvaujhyqsqtoexmnfuluaqbxoofvotvfoiexbnprrxptchmlctzgqtkivsilwgwgvpidpvasurraqfkcmxhdapjrlrnkbklwkrvoaziznlpor\"\n",
    "b = \"qhxepbshlrhoecdaodgpousbzfcqjxulatciapuftffahhlmxbufgjuxstfjvljybfxnenlacmjqoymvamphpxnolwijwcecgwbcjhgdybfffwoygikvoecdggplfohemfypxfsvdrseyhmvkoovxhdvoavsqqbrsqrkqhbtmgwaurgisloqjixfwfvwtszcxwktkwesaxsmhsvlitegrlzkvfqoiiwxbzskzoewbkxtphapavbyvhzvgrrfriddnsrftfowhdanvhjvurhljmpxvpddxmzfgwwpkjrfgqptrmumoemhfpojnxzwlrxkcafvbhlwrapubhveattfifsmiounhqusvhywnxhwrgamgnesxmzliyzisqrwvkiyderyotxhwspqrrkeczjysfujvovsfcfouykcqyjoobfdgnlswfzjmyucaxuaslzwfnetekymrwbvponiaojdqnbmboldvvitamntwnyaeppjaohwkrisrlrgwcjqqgxeqerjrbapfzurcwxhcwzugcgnirkkrxdthtbmdqgvqxilllrsbwjhwqszrjtzyetwubdrlyakzxcveufvhqugyawvkivwonvmrgnchkzdysngqdibhkyboyftxcvvjoggecjsajbuqkjjxfvynrjsnvtfvgpgveycxidhhfauvjovmnbqgoxsafknluyimkczykwdgvqwlvvgdmufxdypwnajkncoynqticfetcdafvtqszuwfmrdggifokwmkgzuxnhncmnsstffqpqbplypapctctfhqpihavligbrutxmmygiyaklqtakdidvnvrjfteazeqmbgklrgrorudayokxptswwkcircwuhcavhdparjfkjypkyxhbgwxbkvpvrtzjaetahmxevmkhdfyidhrdeejapfbafwmdqjqszwnwzgclitdhlnkaiyldwkwwzvhyorgbysyjbxsspnjdewjxbhpsvj\""
   ]
  },
  {
   "cell_type": "markdown",
   "metadata": {},
   "source": [
    "### 435. 无重叠区间\n",
    "\n",
    "给定一个区间的集合，找到需要移除区间的最小数量，使剩余区间互不重叠。\n",
    "\n",
    "注意:\n",
    "\n",
    "可以认为区间的终点总是大于它的起点。\n",
    "区间 [1,2] 和 [2,3] 的边界相互“接触”，但没有相互重叠。"
   ]
  },
  {
   "cell_type": "code",
   "execution_count": 129,
   "metadata": {
    "scrolled": true
   },
   "outputs": [
    {
     "name": "stdout",
     "output_type": "stream",
     "text": [
      "[[-100, -87], [-85, -76], [-66, -50], [-50, -43], [-36, -29], [-17, -10], [0, 7], [9, 19], [23, 37], [39, 46], [58, 69], [97, 114]]\n",
      "[[-100, -87], [-85, -76], [-66, -50], [-36, -29], [-17, -10], [0, 7], [9, 19], [23, 37], [39, 46], [58, 69], [97, 114]]\n",
      "[[-100, -87], [-85, -76], [-66, -50], [-41, -32], [-17, -10], [0, 7], [9, 19], [23, 37], [39, 46], [58, 69], [97, 114]]\n",
      "[[-100, -87], [-85, -76], [-66, -50], [-41, -32], [-13, -3], [0, 7], [9, 19], [23, 37], [39, 46], [58, 69], [97, 114]]\n",
      "[[-100, -87], [-85, -76], [-66, -50], [-41, -32], [-13, -3], [9, 19], [23, 37], [39, 46], [58, 69], [97, 114]]\n",
      "[[-100, -87], [-85, -76], [-66, -50], [-41, -32], [-13, -3], [9, 19], [28, 40], [58, 69], [97, 114]]\n",
      "[[-100, -87], [-80, -71], [-66, -50], [-41, -32], [-13, -3], [9, 19], [28, 40], [58, 69], [97, 114]]\n",
      "[[-100, -87], [-78, -63], [-41, -32], [-13, -3], [9, 19], [28, 40], [58, 69], [97, 114]]\n",
      "[[-100, -87], [-78, -63], [-48, -34], [-33, -19], [-13, -3], [9, 19], [28, 40], [58, 69], [97, 114]]\n",
      "[[-100, -87], [-78, -63], [-48, -34], [-33, -19], [-14, -3], [9, 19], [28, 40], [58, 69], [97, 114]]\n",
      "[[-100, -87], [-78, -63], [-48, -34], [-33, -19], [-14, -3], [10, 25], [28, 40], [58, 69], [97, 114]]\n",
      "[[-100, -87], [-78, -63], [-48, -34], [-33, -19], [-8, 3], [10, 25], [28, 40], [58, 69], [97, 114]]\n",
      "[[-100, -87], [-78, -63], [-48, -34], [-33, -19], [-16, 7], [10, 25], [28, 40], [58, 69], [97, 114]]\n",
      "[[-100, -87], [-78, -63], [-48, -34], [-33, -19], [-16, 7], [10, 25], [28, 40], [49, 61], [61, 73], [97, 114]]\n",
      "[[-100, -87], [-78, -63], [-48, -34], [-33, -19], [-4, 18], [23, 37], [49, 61], [61, 73], [97, 114]]\n",
      "[[-100, -87], [-78, -63], [-48, -34], [-33, -19], [-4, 18], [23, 37], [37, 55], [61, 73], [97, 114]]\n",
      "[[-100, -87], [-78, -63], [-48, -34], [-33, -19], [-4, 18], [23, 37], [37, 55], [62, 81], [97, 114]]\n",
      "[[-91, -76], [-66, -50], [-48, -34], [-33, -19], [-4, 18], [23, 37], [37, 55], [62, 81], [97, 114]]\n",
      "[[-91, -76], [-66, -50], [-33, -19], [-4, 18], [23, 37], [37, 55], [62, 81], [97, 114]]\n",
      "[[-91, -76], [-66, -50], [-27, -8], [-4, 18], [23, 37], [37, 55], [62, 81], [97, 114]]\n"
     ]
    },
    {
     "data": {
      "text/plain": [
       "188"
      ]
     },
     "execution_count": 129,
     "metadata": {},
     "output_type": "execute_result"
    }
   ],
   "source": [
    "    def eraseOverlapIntervals(intervals):\n",
    "        if(isSystem(intervals)):\n",
    "            return 0\n",
    "        taille = len(intervals)\n",
    "        if(taille<=1):\n",
    "            return 0\n",
    "        else:\n",
    "            intervals = [(x[1]-x[0],x) for x in intervals]\n",
    "            intervals.sort()\n",
    "            intervals = [x[1] for x in intervals]\n",
    "            l,L = [],[]\n",
    "            for i in range(taille-1):\n",
    "                l.append(intervals[i])\n",
    "                for j in range(i+1,taille):\n",
    "                    l.append(intervals[j])\n",
    "                    if not isSystem(l):\n",
    "                        l.remove(intervals[j])\n",
    "                L.append(l)\n",
    "                l = []\n",
    "            for x in L[:20]:\n",
    "                print(sorted(x))\n",
    "            return taille - max([len(x) for x in L])\n",
    "                            \n",
    "                    \n",
    "                \n",
    "                        \n",
    "    def notIntersect(l1,l2):\n",
    "        a1 = min(l1)\n",
    "        a2 = max(l1)\n",
    "        b1 = min(l2)\n",
    "        b2 = max(l2)\n",
    "        if(a1>=b2 or a2<=b1):\n",
    "            return True\n",
    "        else:\n",
    "            return False\n",
    "        \n",
    "    def isSystem(l):\n",
    "        drapeau = True\n",
    "        longueur = len(l)\n",
    "        for i in range(longueur-1):\n",
    "            tmp1 = l[i]\n",
    "            for j in range(i+1,longueur):\n",
    "                tmp2 = l[j]\n",
    "                if(notIntersect(tmp1,tmp2)==False):\n",
    "                    drapeau = False\n",
    "                    break\n",
    "        return drapeau\n",
    "\n",
    "eraseOverlapIntervals([[-100,-87],[-99,-44],[-98,-19],[-97,-33],[-96,-60],[-95,-17],[-94,-44],[-93,-9],[-92,-63],[-91,-76],[-90,-44],[-89,-18],[-88,10],[-87,-39],[-86,7],[-85,-76],[-84,-51],[-83,-48],[-82,-36],[-81,-63],[-80,-71],[-79,-4],[-78,-63],[-77,-14],[-76,-10],[-75,-36],[-74,31],[-73,11],[-72,-50],[-71,-30],[-70,33],[-69,-37],[-68,-50],[-67,6],[-66,-50],[-65,-26],[-64,21],[-63,-8],[-62,23],[-61,-34],[-60,13],[-59,19],[-58,41],[-57,-15],[-56,35],[-55,-4],[-54,-20],[-53,44],[-52,48],[-51,12],[-50,-43],[-49,10],[-48,-34],[-47,3],[-46,28],[-45,51],[-44,-14],[-43,59],[-42,-6],[-41,-32],[-40,-12],[-39,33],[-38,17],[-37,-7],[-36,-29],[-35,24],[-34,49],[-33,-19],[-32,2],[-31,8],[-30,74],[-29,58],[-28,13],[-27,-8],[-26,45],[-25,-5],[-24,45],[-23,19],[-22,9],[-21,54],[-20,1],[-19,81],[-18,17],[-17,-10],[-16,7],[-15,86],[-14,-3],[-13,-3],[-12,45],[-11,93],[-10,84],[-9,20],[-8,3],[-7,81],[-6,52],[-5,67],[-4,18],[-3,40],[-2,42],[-1,49],[0,7],[1,104],[2,79],[3,37],[4,47],[5,69],[6,89],[7,110],[8,108],[9,19],[10,25],[11,48],[12,63],[13,94],[14,55],[15,119],[16,64],[17,122],[18,92],[19,37],[20,86],[21,84],[22,122],[23,37],[24,125],[25,99],[26,45],[27,63],[28,40],[29,97],[30,78],[31,102],[32,120],[33,91],[34,107],[35,62],[36,137],[37,55],[38,115],[39,46],[40,136],[41,78],[42,86],[43,106],[44,66],[45,141],[46,92],[47,132],[48,89],[49,61],[50,128],[51,155],[52,153],[53,78],[54,114],[55,84],[56,151],[57,123],[58,69],[59,91],[60,89],[61,73],[62,81],[63,139],[64,108],[65,165],[66,92],[67,117],[68,140],[69,109],[70,102],[71,171],[72,141],[73,117],[74,124],[75,171],[76,132],[77,142],[78,107],[79,132],[80,171],[81,104],[82,160],[83,128],[84,137],[85,176],[86,188],[87,178],[88,117],[89,115],[90,140],[91,165],[92,133],[93,114],[94,125],[95,135],[96,144],[97,114],[98,183],[99,157]])\n"
   ]
  },
  {
   "cell_type": "code",
   "execution_count": 133,
   "metadata": {},
   "outputs": [
    {
     "name": "stdout",
     "output_type": "stream",
     "text": [
      "[-50, -43]\n",
      "[-36, -29]\n",
      "[-17, -10]\n",
      "[0, 7]\n",
      "[39, 46]\n",
      "[-85, -76]\n",
      "[-80, -71]\n",
      "[-41, -32]\n",
      "[-13, -3]\n",
      "[9, 19]\n",
      "[-14, -3]\n",
      "[-8, 3]\n",
      "[58, 69]\n",
      "[28, 40]\n",
      "[49, 61]\n",
      "[61, 73]\n",
      "[-100, -87]\n",
      "[-48, -34]\n",
      "[-33, -19]\n",
      "[23, 37]\n",
      "[-91, -76]\n",
      "[-78, -63]\n",
      "[10, 25]\n",
      "[-66, -50]\n",
      "[97, 114]\n",
      "[-81, -63]\n",
      "[-68, -50]\n",
      "[19, 37]\n",
      "[37, 55]\n",
      "[-27, -8]\n",
      "[26, 45]\n",
      "[62, 81]\n",
      "[-25, -5]\n",
      "[-20, 1]\n",
      "[93, 114]\n",
      "[-72, -50]\n",
      "[-4, 18]\n",
      "[44, 66]\n",
      "[-16, 7]\n",
      "[81, 104]\n",
      "[53, 78]\n",
      "[66, 92]\n",
      "[89, 115]\n",
      "[-61, -34]\n",
      "[35, 62]\n",
      "[-40, -12]\n",
      "[-92, -63]\n",
      "[-9, 20]\n",
      "[55, 84]\n",
      "[60, 89]\n",
      "[78, 107]\n",
      "[88, 117]\n",
      "[-44, -14]\n",
      "[-37, -7]\n",
      "[-22, 9]\n",
      "[94, 125]\n",
      "[-69, -37]\n",
      "[59, 91]\n",
      "[70, 102]\n",
      "[-84, -51]\n",
      "[-54, -20]\n",
      "[-32, 2]\n",
      "[3, 37]\n",
      "[-83, -48]\n",
      "[-18, 17]\n",
      "[-96, -60]\n",
      "[-42, -6]\n",
      "[27, 63]\n",
      "[11, 48]\n",
      "[41, 78]\n",
      "[-75, -36]\n",
      "[-65, -26]\n",
      "[-31, 8]\n",
      "[69, 109]\n",
      "[95, 135]\n",
      "[-71, -30]\n",
      "[-28, 13]\n",
      "[14, 55]\n",
      "[48, 89]\n",
      "[92, 133]\n",
      "[-57, -15]\n",
      "[-23, 19]\n",
      "[-3, 40]\n",
      "[4, 47]\n",
      "[-2, 42]\n",
      "[42, 86]\n",
      "[64, 108]\n",
      "[73, 117]\n",
      "[83, 128]\n",
      "[-90, -44]\n",
      "[-82, -36]\n",
      "[46, 92]\n",
      "[-87, -39]\n",
      "[16, 64]\n",
      "[30, 78]\n",
      "[96, 144]\n",
      "[-94, -44]\n",
      "[-47, 3]\n",
      "[-1, 49]\n",
      "[67, 117]\n",
      "[74, 124]\n",
      "[90, 140]\n",
      "[-55, -4]\n",
      "[12, 63]\n",
      "[79, 132]\n",
      "[84, 137]\n",
      "[-99, -44]\n",
      "[-63, -8]\n",
      "[-38, 17]\n",
      "[76, 132]\n",
      "[-12, 45]\n",
      "[-6, 52]\n",
      "[33, 91]\n",
      "[99, 157]\n",
      "[-49, 10]\n",
      "[-35, 24]\n",
      "[54, 114]\n",
      "[-77, -14]\n",
      "[-51, 12]\n",
      "[21, 84]\n",
      "[43, 106]\n",
      "[-97, -33]\n",
      "[5, 69]\n",
      "[77, 142]\n",
      "[-76, -10]\n",
      "[20, 86]\n",
      "[57, 123]\n",
      "[29, 97]\n",
      "[-24, 45]\n",
      "[72, 141]\n",
      "[-89, -18]\n",
      "[-26, 45]\n",
      "[31, 102]\n",
      "[-39, 33]\n",
      "[-5, 67]\n",
      "[68, 140]\n",
      "[-67, 6]\n",
      "[-60, 13]\n",
      "[34, 107]\n",
      "[-46, 28]\n",
      "[18, 92]\n",
      "[25, 99]\n",
      "[91, 165]\n",
      "[-79, -4]\n",
      "[-21, 54]\n",
      "[63, 139]\n",
      "[2, 79]\n",
      "[38, 115]\n",
      "[-95, -17]\n",
      "[-59, 19]\n",
      "[50, 128]\n",
      "[82, 160]\n",
      "[-98, -19]\n",
      "[13, 94]\n",
      "[-34, 49]\n",
      "[6, 89]\n",
      "[-93, -9]\n",
      "[-73, 11]\n",
      "[-64, 21]\n",
      "[-62, 23]\n",
      "[47, 132]\n",
      "[98, 183]\n",
      "[-29, 58]\n",
      "[-7, 81]\n",
      "[32, 120]\n",
      "[-56, 35]\n",
      "[80, 171]\n",
      "[85, 176]\n",
      "[87, 178]\n",
      "[-86, 7]\n",
      "[-10, 84]\n",
      "[56, 151]\n",
      "[-45, 51]\n",
      "[40, 136]\n",
      "[45, 141]\n",
      "[75, 171]\n",
      "[-53, 44]\n",
      "[-88, 10]\n",
      "[-58, 41]\n",
      "[-52, 48]\n",
      "[-19, 81]\n",
      "[8, 108]\n",
      "[22, 122]\n",
      "[65, 165]\n",
      "[71, 171]\n",
      "[-15, 86]\n",
      "[24, 125]\n",
      "[36, 137]\n",
      "[52, 153]\n",
      "[-43, 59]\n",
      "[86, 188]\n",
      "[-70, 33]\n",
      "[1, 104]\n",
      "[7, 110]\n",
      "[-30, 74]\n",
      "[-11, 93]\n",
      "[15, 119]\n",
      "[51, 155]\n",
      "[-74, 31]\n",
      "[17, 122]\n"
     ]
    }
   ],
   "source": [
    "l = [[-100,-87],[-99,-44],[-98,-19],[-97,-33],[-96,-60],[-95,-17],[-94,-44],[-93,-9],[-92,-63],[-91,-76],[-90,-44],[-89,-18],[-88,10],[-87,-39],[-86,7],[-85,-76],[-84,-51],[-83,-48],[-82,-36],[-81,-63],[-80,-71],[-79,-4],[-78,-63],[-77,-14],[-76,-10],[-75,-36],[-74,31],[-73,11],[-72,-50],[-71,-30],[-70,33],[-69,-37],[-68,-50],[-67,6],[-66,-50],[-65,-26],[-64,21],[-63,-8],[-62,23],[-61,-34],[-60,13],[-59,19],[-58,41],[-57,-15],[-56,35],[-55,-4],[-54,-20],[-53,44],[-52,48],[-51,12],[-50,-43],[-49,10],[-48,-34],[-47,3],[-46,28],[-45,51],[-44,-14],[-43,59],[-42,-6],[-41,-32],[-40,-12],[-39,33],[-38,17],[-37,-7],[-36,-29],[-35,24],[-34,49],[-33,-19],[-32,2],[-31,8],[-30,74],[-29,58],[-28,13],[-27,-8],[-26,45],[-25,-5],[-24,45],[-23,19],[-22,9],[-21,54],[-20,1],[-19,81],[-18,17],[-17,-10],[-16,7],[-15,86],[-14,-3],[-13,-3],[-12,45],[-11,93],[-10,84],[-9,20],[-8,3],[-7,81],[-6,52],[-5,67],[-4,18],[-3,40],[-2,42],[-1,49],[0,7],[1,104],[2,79],[3,37],[4,47],[5,69],[6,89],[7,110],[8,108],[9,19],[10,25],[11,48],[12,63],[13,94],[14,55],[15,119],[16,64],[17,122],[18,92],[19,37],[20,86],[21,84],[22,122],[23,37],[24,125],[25,99],[26,45],[27,63],[28,40],[29,97],[30,78],[31,102],[32,120],[33,91],[34,107],[35,62],[36,137],[37,55],[38,115],[39,46],[40,136],[41,78],[42,86],[43,106],[44,66],[45,141],[46,92],[47,132],[48,89],[49,61],[50,128],[51,155],[52,153],[53,78],[54,114],[55,84],[56,151],[57,123],[58,69],[59,91],[60,89],[61,73],[62,81],[63,139],[64,108],[65,165],[66,92],[67,117],[68,140],[69,109],[70,102],[71,171],[72,141],[73,117],[74,124],[75,171],[76,132],[77,142],[78,107],[79,132],[80,171],[81,104],[82,160],[83,128],[84,137],[85,176],[86,188],[87,178],[88,117],[89,115],[90,140],[91,165],[92,133],[93,114],[94,125],[95,135],[96,144],[97,114],[98,183],[99,157]]\n",
    "l = [(x[1]-x[0],x) for x in l]\n",
    "l.sort()\n",
    "l = [x[1] for x in l]\n",
    "for x in l:\n",
    "    print(x)"
   ]
  },
  {
   "cell_type": "code",
   "execution_count": 112,
   "metadata": {
    "scrolled": true
   },
   "outputs": [
    {
     "data": {
      "text/plain": [
       "2"
      ]
     },
     "execution_count": 112,
     "metadata": {},
     "output_type": "execute_result"
    }
   ],
   "source": [
    "eraseOverlapIntervals([[0,2],[1,3],[2,4],[3,5],[4,6]])"
   ]
  },
  {
   "cell_type": "code",
   "execution_count": 113,
   "metadata": {
    "scrolled": true
   },
   "outputs": [
    {
     "data": {
      "text/plain": [
       "2"
      ]
     },
     "execution_count": 113,
     "metadata": {},
     "output_type": "execute_result"
    }
   ],
   "source": [
    "eraseOverlapIntervals([[1,2], [1,2], [1,2]])"
   ]
  },
  {
   "cell_type": "code",
   "execution_count": 72,
   "metadata": {
    "scrolled": true
   },
   "outputs": [
    {
     "data": {
      "text/plain": [
       "True"
      ]
     },
     "execution_count": 72,
     "metadata": {},
     "output_type": "execute_result"
    }
   ],
   "source": [
    "isSystem([[0,1],[3,4],[1,2]])"
   ]
  },
  {
   "cell_type": "code",
   "execution_count": 114,
   "metadata": {
    "scrolled": true
   },
   "outputs": [
    {
     "data": {
      "text/plain": [
       "2"
      ]
     },
     "execution_count": 114,
     "metadata": {},
     "output_type": "execute_result"
    }
   ],
   "source": [
    "eraseOverlapIntervals([[1,100], [11,22], [1,11], [2,12]])"
   ]
  },
  {
   "cell_type": "code",
   "execution_count": 115,
   "metadata": {
    "scrolled": true
   },
   "outputs": [
    {
     "data": {
      "text/plain": [
       "2"
      ]
     },
     "execution_count": 115,
     "metadata": {},
     "output_type": "execute_result"
    }
   ],
   "source": [
    "eraseOverlapIntervals([[0,2],[1,3],[2,4],[3,5],[4,6]])"
   ]
  },
  {
   "cell_type": "code",
   "execution_count": 83,
   "metadata": {},
   "outputs": [
    {
     "data": {
      "text/plain": [
       "True"
      ]
     },
     "execution_count": 83,
     "metadata": {},
     "output_type": "execute_result"
    }
   ],
   "source": [
    "isSystem([[0,2],[2,4]])"
   ]
  },
  {
   "cell_type": "markdown",
   "metadata": {},
   "source": [
    "### 438. 找到字符串中所有字母异位词\n",
    "\n",
    "给定一个字符串 s 和一个非空字符串 p，找到 s 中所有是 p 的字母异位词的子串，返回这些子串的起始索引。\n",
    "\n",
    "字符串只包含小写英文字母，并且字符串 s 和 p 的长度都不超过 20100。"
   ]
  },
  {
   "cell_type": "code",
   "execution_count": 2,
   "metadata": {},
   "outputs": [
    {
     "data": {
      "text/plain": [
       "[1, 2, 3, 5]"
      ]
     },
     "execution_count": 2,
     "metadata": {},
     "output_type": "execute_result"
    }
   ],
   "source": [
    "    def findAnagrams(s,p):\n",
    "        sl = len(s)\n",
    "        pl = len(p)\n",
    "        if(len(s)<len(p)):\n",
    "            return []\n",
    "        parcours = sl-pl\n",
    "        if(len(set(s))^1==0 and len(set(p))^1==0):\n",
    "            return [i for i in range(parcours+1)]\n",
    "        tmp = str()\n",
    "        L = []\n",
    "        s = [x for x in s]\n",
    "        P = sorted([x for x in p])\n",
    "        for i in range(parcours+1):\n",
    "            if(i+pl<sl):\n",
    "                tmp = s[i:i+pl]\n",
    "            else:\n",
    "                tmp = s[i:sl]\n",
    "            tmp.sort()\n",
    "            if(tmp==P):\n",
    "                L.append(i)\n",
    "        return L\n",
    "findAnagrams(\"abacbabc\",\"abc\")"
   ]
  },
  {
   "cell_type": "code",
   "execution_count": 26,
   "metadata": {},
   "outputs": [
    {
     "data": {
      "text/plain": [
       "[0, 1, 2]"
      ]
     },
     "execution_count": 26,
     "metadata": {},
     "output_type": "execute_result"
    }
   ],
   "source": [
    "findAnagrams(\"abab\",\"ab\")"
   ]
  },
  {
   "cell_type": "code",
   "execution_count": 27,
   "metadata": {
    "scrolled": false
   },
   "outputs": [
    {
     "data": {
      "text/plain": [
       "[0, 6]"
      ]
     },
     "execution_count": 27,
     "metadata": {},
     "output_type": "execute_result"
    }
   ],
   "source": [
    "findAnagrams(\"cbaebabacd\",\"abc\")"
   ]
  },
  {
   "cell_type": "code",
   "execution_count": 29,
   "metadata": {
    "scrolled": true
   },
   "outputs": [
    {
     "data": {
      "text/plain": [
       "[0, 1, 2, 3]"
      ]
     },
     "execution_count": 29,
     "metadata": {},
     "output_type": "execute_result"
    }
   ],
   "source": [
    "findAnagrams(\"aaaaaaa\",\"aaaa\")"
   ]
  },
  {
   "cell_type": "code",
   "execution_count": null,
   "metadata": {},
   "outputs": [],
   "source": [
    "occur = {1:2,2:4,3:8}\n",
    "x = []\n",
    "y = []\n",
    "for k,v in occur.items():\n",
    "    x.append(k)\n",
    "    y.append(y)\n",
    "print(x)\n",
    "print(y)\n",
    "import matplotlib\n",
    "from matplotlib import pyplot as plt\n",
    "plt.plot(x,y)"
   ]
  },
  {
   "cell_type": "code",
   "execution_count": 78,
   "metadata": {
    "scrolled": true
   },
   "outputs": [
    {
     "data": {
      "text/plain": [
       "[1, 3, 6, 7]"
      ]
     },
     "execution_count": 78,
     "metadata": {},
     "output_type": "execute_result"
    }
   ],
   "source": [
    "    def findAnagrams1(s,p):\n",
    "        sl = len(s)\n",
    "        droite,taille = len(p),len(p)\n",
    "        if(sl<droite):\n",
    "            return []\n",
    "        res = []\n",
    "        window = dict()\n",
    "        need = dict()\n",
    "        for c in p: \n",
    "            need[c] = need.get(c, 0) + 1\n",
    "        tmp = s[0]\n",
    "        gauche = 0\n",
    "        droite = gauche+taille\n",
    "        for c in s[:droite]:\n",
    "            window[c] = window.get(c,0)+1\n",
    "        if(window==need):\n",
    "            res.append(0)\n",
    "        #print(\"window = \",window,s[gauche:droite])\n",
    "        while(droite<sl):\n",
    "            debut = s[gauche]\n",
    "            value = window.get(debut)\n",
    "            if(value<=1):\n",
    "                del window[debut]\n",
    "            else:\n",
    "                window[debut]-=1\n",
    "            tmp = s[droite]\n",
    "            #print(\"tmp = \",tmp)\n",
    "            if(tmp not in need):\n",
    "                window.clear()\n",
    "                gauche+=1\n",
    "                droite = gauche+taille\n",
    "                for c in s[gauche:droite]:\n",
    "                    window[c]=window.get(c,0)+1\n",
    "            else:\n",
    "                window[tmp] = window.get(tmp,0)+1 \n",
    "                gauche+=1\n",
    "                droite = gauche+taille    \n",
    "            if(window==need):\n",
    "                res.append(gauche)\n",
    "        return res\n",
    "\n",
    "findAnagrams1(\"acdcaeccde\",\"c\")                                    "
   ]
  },
  {
   "cell_type": "code",
   "execution_count": 76,
   "metadata": {
    "scrolled": true
   },
   "outputs": [
    {
     "name": "stdout",
     "output_type": "stream",
     "text": [
      "window =  {'a': 1}  need =  {'c': 1}\n",
      "tmp =  c\n",
      "window =  {'c': 1}  need =  {'c': 1}\n",
      "tmp =  d\n",
      "window =  {'d': 1}  need =  {'c': 1}\n",
      "tmp =  c\n",
      "window =  {'c': 1}  need =  {'c': 1}\n",
      "tmp =  a\n",
      "window =  {'a': 1}  need =  {'c': 1}\n",
      "tmp =  e\n",
      "window =  {'e': 1}  need =  {'c': 1}\n",
      "tmp =  c\n",
      "window =  {'c': 1}  need =  {'c': 1}\n",
      "tmp =  c\n",
      "window =  {'c': 1}  need =  {'c': 1}\n",
      "tmp =  d\n",
      "window =  {'d': 1}  need =  {'c': 1}\n",
      "tmp =  e\n",
      "window =  {'e': 1}  need =  {'c': 1}\n",
      "[1, 3, 6, 7]\n"
     ]
    }
   ],
   "source": [
    "import collections\n",
    "s = \"acdcaeccde\"\n",
    "b = \"c\"\n",
    "sl = len(s)\n",
    "taille = len(b)\n",
    "gauche = 0\n",
    "droite = gauche+taille\n",
    "need = dict(collections.Counter(b))\n",
    "window = dict(collections.Counter(s[gauche:droite]))\n",
    "print(\"window = \",window,\" need = \",need)\n",
    "res = []\n",
    "while(droite<sl):\n",
    "    debut = s[gauche]\n",
    "    value = window.get(debut)\n",
    "    if(value<=1):\n",
    "        del window[debut]\n",
    "    else:\n",
    "        window[debut]-=1\n",
    "    tmp = s[droite]\n",
    "    print(\"tmp = \",tmp)\n",
    "    if(tmp not in need):\n",
    "        window.clear()\n",
    "        gauche+=1\n",
    "        droite = gauche+taille\n",
    "        for c in s[gauche:droite]:\n",
    "            window[c]=window.get(c,0)+1\n",
    "    else:\n",
    "        window[tmp] = window.get(tmp,0)+1 \n",
    "        gauche+=1\n",
    "        droite = gauche+taille    \n",
    "    if(window==need):\n",
    "        res.append(gauche)\n",
    "    print(\"window = \",window,\" need = \",need)\n",
    "s = \"acdcaeccde\"\n",
    "b = \"cd\"    \n",
    "print(res)"
   ]
  },
  {
   "cell_type": "code",
   "execution_count": 86,
   "metadata": {
    "scrolled": true
   },
   "outputs": [
    {
     "data": {
      "text/plain": [
       "[4,\n",
       " 30,\n",
       " 56,\n",
       " 82,\n",
       " 108,\n",
       " 134,\n",
       " 160,\n",
       " 186,\n",
       " 212,\n",
       " 238,\n",
       " 264,\n",
       " 290,\n",
       " 316,\n",
       " 342,\n",
       " 368,\n",
       " 394,\n",
       " 420,\n",
       " 446,\n",
       " 472,\n",
       " 498,\n",
       " 524,\n",
       " 550,\n",
       " 576,\n",
       " 602,\n",
       " 628,\n",
       " 654,\n",
       " 680,\n",
       " 706,\n",
       " 732,\n",
       " 758,\n",
       " 784,\n",
       " 810,\n",
       " 836,\n",
       " 862,\n",
       " 888,\n",
       " 914,\n",
       " 940,\n",
       " 966]"
      ]
     },
     "execution_count": 86,
     "metadata": {},
     "output_type": "execute_result"
    }
   ],
   "source": [
    "findAnagrams1(\"eklpyqrbgjdwtcaxzsnifvhmoueklpyqrbgjdwtcaxzsnifvhmoueklpyqrbgjdwtcaxzsnifvhmoueklpyqrbgjdwtcaxzsnifvhmoueklpyqrbgjdwtcaxzsnifvhmoueklpyqrbgjdwtcaxzsnifvhmoueklpyqrbgjdwtcaxzsnifvhmoueklpyqrbgjdwtcaxzsnifvhmoueklpyqrbgjdwtcaxzsnifvhmoueklpyqrbgjdwtcaxzsnifvhmoueklpyqrbgjdwtcaxzsnifvhmoueklpyqrbgjdwtcaxzsnifvhmoueklpyqrbgjdwtcaxzsnifvhmoueklpyqrbgjdwtcaxzsnifvhmoueklpyqrbgjdwtcaxzsnifvhmoueklpyqrbgjdwtcaxzsnifvhmoueklpyqrbgjdwtcaxzsnifvhmoueklpyqrbgjdwtcaxzsnifvhmoueklpyqrbgjdwtcaxzsnifvhmoueklpyqrbgjdwtcaxzsnifvhmoueklpyqrbgjdwtcaxzsnifvhmoueklpyqrbgjdwtcaxzsnifvhmoueklpyqrbgjdwtcaxzsnifvhmoueklpyqrbgjdwtcaxzsnifvhmoueklpyqrbgjdwtcaxzsnifvhmoueklpyqrbgjdwtcaxzsnifvhmoueklpyqrbgjdwtcaxzsnifvhmoueklpyqrbgjdwtcaxzsnifvhmoueklpyqrbgjdwtcaxzsnifvhmoueklpyqrbgjdwtcaxzsnifvhmoueklpyqrbgjdwtcaxzsnifvhmoueklpyqrbgjdwtcaxzsnifvhmoueklpyqrbgjdwtcaxzsnifvhmoueklpyqrbgjdwtcaxzsnifvhmoueklpyqrbgjdwtcaxzsnifvhmoueklpyqrbgjdwtcaxzsnifvhmoueklpyqrbgjdwtcaxzsnifvhmoueklpyqrbgjdwtcaxzsnifvhmoueklpyqrbgjd\",\n",
    "              \"yqrbgjdwtcaxzsnifvhmou\")"
   ]
  },
  {
   "cell_type": "code",
   "execution_count": 79,
   "metadata": {
    "scrolled": false
   },
   "outputs": [
    {
     "data": {
      "text/plain": [
       "[0, 6]"
      ]
     },
     "execution_count": 79,
     "metadata": {},
     "output_type": "execute_result"
    }
   ],
   "source": [
    "findAnagrams1(\"cbaebabacd\",\"abc\")     "
   ]
  },
  {
   "cell_type": "code",
   "execution_count": 80,
   "metadata": {
    "scrolled": false
   },
   "outputs": [
    {
     "data": {
      "text/plain": [
       "[0, 1, 2]"
      ]
     },
     "execution_count": 80,
     "metadata": {},
     "output_type": "execute_result"
    }
   ],
   "source": [
    "findAnagrams1(\"abab\",\"ab\")"
   ]
  },
  {
   "cell_type": "code",
   "execution_count": 81,
   "metadata": {
    "scrolled": false
   },
   "outputs": [
    {
     "data": {
      "text/plain": [
       "[1, 2, 3, 5]"
      ]
     },
     "execution_count": 81,
     "metadata": {},
     "output_type": "execute_result"
    }
   ],
   "source": [
    "findAnagrams1(\"abacbabc\",\"abc\")"
   ]
  },
  {
   "cell_type": "code",
   "execution_count": 82,
   "metadata": {
    "scrolled": true
   },
   "outputs": [
    {
     "data": {
      "text/plain": [
       "[0, 1, 2, 3]"
      ]
     },
     "execution_count": 82,
     "metadata": {},
     "output_type": "execute_result"
    }
   ],
   "source": [
    "findAnagrams1(\"aaaaaaa\",\"aaaa\")"
   ]
  },
  {
   "cell_type": "code",
   "execution_count": 83,
   "metadata": {},
   "outputs": [],
   "source": [
    "a = \"aaaaaaaaaaaaaaaaaaaaaaaaaaaaaaaaaaaaaaaaaaaaaaaaaaaaaaaaaaaaaaaaaaaaaaaaaaaaaaaaaaaaaaaaaaaaaaaaaaaaaaaaaaaaaaaaaaaaaaaaaaaaaaaaaaaaaaaaaaaaaaaaaaaaaaaaaaaaaaaaaaaaaaaaaaaaaaaaaaaaaaaaaaaaaaaaaaaaaaaaaaaaaaaaaaaaaaaaaaaaaaaaaaaaaaaaaaaaaaaaaaaaaaaaaaaaaaaaaaaaaaaaaaaaaaaaaaaaaaaaaaaaaaaaaaaaaaaaaaaaaaaaaaaaaaaaaaaaaaaaaaaaaaaaaaaaaaaaaaaaaaaaaaaaaaaaaaaaaaaaaaaaaaaaaaaaaaaaaaaaaaaaaaaaaaaaaaaaaaaaaaaaaaaaaaaaaaaaaaaaaaaaaaaaaaaaaaaaaaaaaaaaaaaaaaaaaaaaaaaaaaaaaaaaaaaaaaaaaaaaaaaaaaaaaaaaaaaaaaaaaaaaaaaaaaaaaaaaaaaaaaaaaaaaaaaaaaaaaaaaaaaaaaaaaaaaaaaaaaaaaaaaaaaaaaaaaaaaaaaaaaaaaaaaaaaaaaaaaaaaaaaaaaaaaaaaaaaaaaaaaaaaaaaaaaaaaaaaaaaaaaaaaaaaaaaaaaaaaaaaaaaaaaaaaaaaaaaaaaaaaaaaaaaaaaaaaaaaaaaaaaaaaaaaaaaaaaaaaaaaaaaaaaaaaaaaaaaaaaaaaaaaaaaaaaaaaaaaaaaaaaaaaaaaaaaaaaaaaaaaaaaaaaaaaaaaaaaaaaaaaaaaaaaaaaaaaaaaaaaaaaaaaaaaaaaaaaaaaaaaaaaaaaaaaaaaaaaaaaaaaaaaaaaaaaaaaaaaaaaaaaaaaaaaaaaaaaaaaaaaaaaaaaaaaaaaaaaaaaaaaaaaaaaaaaaaaaaaaaaaaaaaaaaaaaaaaaaaaaaaaaaaaaaaaaaaaaaaaaaaaaaaaaaaaaaaaaaaaaaaaaaaaaaaaaaaaaaaaaaaaaaaaaaaaaaaaaaaaaaaaaaaaaaaaaaaaaaaaaaaaaaaaaaaaaaaaaaaaaaaaaaaaaaaaaaaaaaaaaaaaaaaaaaaaaaaaaaaaaaaaaaaaaaaaaaaaaaaaaaaaaaaaaaaaaaaaaaaaaaaaaaaaaaaaaaaaaaaaaaaaaaaaaaaaaaaaaaaaaaaaaaaaaaaaaaaaaaaaaaaaaaaaaaaaaaaaaaaaaaaaaaaaaaaaaaaaaaaaaaaaaaaaaaaaaaaaaaaaaaaaaaaaaaaaaaaaaaaaaaaaaaaaaaaaaaaaaaaaaaaaaaaaaaaaaaaaaaaaaaaaaaaaaaaaaaaaaaaaaaaaaaaaaaaaaaaaaaaaaaaaaaaaaaaaaaaaaaaaaaaaaaaaaaaaaaaaaaaaaaaaaaaaaaaaaaaaaaaaaaaaaaaaaaaaaaaaaaaaaaaaaaaaaaaaaaaaaaaaaaaaaaaaaaaaaaaaaaaaaaaaaaaaaaaaaaaaaaaaaaaaaaaaaaaaaaaaaaaaaaaaaaaaaaaaaaaaaaaaaaaaaaaaaaaaaaaaaaaaaaaaaaaaaaaaaaaaaaaaaaaaaaaaaaaaaaaaaaaaaaaaaaaaaaaaaaaaaaaaaaaaaaaaaaaaaaaaaaaaaaaaaaaaaaaaaaaaaaaaaaaaaaaaaaaaaaaaaaaaaaaaaaaaaaaaaaaaaaaaaaaaaaaaaaaaaaaaaaaaaaaaaaaaaaaaaaaaaaaaaaaaaaaaaaaaaaaaaaaaaaaaaaaaaaaaaaaaaaaaaaaaaaaaaaaaaaaaaaaaaaaaaaaaaaaaaaaaaaaaaaaaaaaaaaaaaaaaaaaaaaaaaaaaaaaaaaaaaaaaaaaaaaaaaaaaaaaaaaaaaaaaaaaaaaaaaaaaaaaaaaaaaaaaaaaaaaaaaaaaaaaaaaaaaaaaaaaaaaaaaaaaaaaaaaaaaaaaaaaaaaaaaaaaaaaaaaaaaaaaaaaaaaaaaaaaaaaaaaaaaaaaaaaaaaaaaaaaaaaaaaaaaaaaaaaaaaaaaaaaaaaaaaaaaaaaaaaaaaaaaaaaaaaaaaaaaaaaaaaaaaaaaaaaaaaaaaaaaaaaaaaaaaaaaaaaaaaaaaaaaaaaaaaaaaaaaaaaaaaaaaaaaaaaaaaaaaaaaaaaaaaaaaaaaaaaaaaaaaaaaaaaaaaaaaaaaaaaaaaaaaaaaaaaaaaaaaaaaaaaaaaaaaaaaaaaaaaaaaaaaaaaaaaaaaaaaaaaaaaaaaaaaaaaaaaaaaaaaaaaaaaaaaaaaaaaaaaaaaaaaaaaaaaaaaaaaaaaaaaaaaaaaaaaaaaaaaaaaaaaaaaaaaaaaaaaaaaaaaaaaaaaaaaaaaaaaaaaaaaaaaaaaaaaaaaaaaaaaaaaaaaaaaaaaaaaaaaaaaaaaaaaaaaaaaaaaaaaaaaaaaaaaaaaaaaaaaaaaaaaaaaaaaaaaaaaaaaaaaaaaaaaaaaaaaaaaaaaaaaaaaaaaaaaaaaaaaaaaaaaaaaaaaaaaaaaaaaaaaaaaaaaaaaaaaaaaaaaaaaaaaaaaaaaaaaaaaaaaaaaaaaaaaaaaaaaaaaaaaaaaaaaaaaaaaaaaaaaaaaaaaaaaaaaaaaaaaaaaaaaaaaaaaaaaaaaaaaaaaaaaaaaaaaaaaaaaaaaaaaaaaaaaaaaaaaaaaaaaaaaaaaaaaaaaaaaaaaaaaaaaaaaaaaaaaaaaaaaaaaaaaaaaaaaaaaaaaaaaaaaaaaaaaaaaaaaaaaaaaaaaaaaaaaaaaaaaaaaaaaaaaaaaaaaaaaaaaaaaaaaaaaaaaaaaaaaaaaaaaaaaaaaaaaaaaaaaaaaaaaaaaaaaaaaaaaaaaaaaaaaaaaaaaaaaaaaaaaaaaaaaaaaaaaaaaaaaaaaaaaaaaaaaaaaaaaaaaaaaaaaaaaaaaaaaaaaaaaaaaaaaaaaaaaaaaaaaaaaaaaaaaaaaaaaaaaaaaaaaaaaaaaaaaaaaaaaaaaaaaaaaaaaaaaaaaaaaaaaaaaaaaaaaaaaaaaaaaaaaaaaaaaaaaaaaaaaaaaaaaaaaaaaaaaaaaaaaaaaaaaaaaaaaaaaaaaaaaaaaaaaaaaaaaaaaaaaaaaaaaaaaaaaaaaaaaaaaaaaaaaaaaaaaaaaaaaaaaaaaaaaaaaaaaaaaaaaaaaaaaaaaaaaaaaaaaaaaaaaaaaaaaaaaaaaaaaaaaaaaaaaaaaaaaaaaaaaaaaaaaaaaaaaaaaaaaaaaaaaaaaaaaaaaaaaaaaaaaaaaaaaaaaaaaaaaaaaaaaaaaaaaaaaaaaaaaaaaaaaaaaaaaaaaaaaaaaaaaaaaaaaaaaaaaaaaaaaaaaaaaaaaaaaaaaaaaaaaaaaaaaaaaaaaaaaaaaaaaaaaaaaaaaaaaaaaaaaaaaaaaaaaaaaaaaaaaaaaaaaaaaaaaaaaaaaaaaaaaaaaaaaaaaaaaaaaaaaaaaaaaaaaaaaaaaaaaaaaaaaaaaaaaaaaaaaaaaaaaaaaaaaaaaaaaaaaaaaaaaaaaaaaaaaaaaaaaaaaaaaaaaaaaaaaaaaaaaaaaaaaaaaaaaaaaaaaaaaaaaaaaaaaaaaaaaaaaaaaaaaaaaaaaaaaaaaaaaaaaaaaaaaaaaaaaaaaaaaaaaaaaaaaaaaaaaaaaaaaaaaaaaaaaaaaaaaaaaaaaaaaaaaaaaaaaaaaaaaaaaaaaaaaaaaaaaaaaaaaaaaaaaaaaaaaaaaaaaaaaaaaaaaaaaaaaaaaaaaaaaaaaaaaaaaaaaaaaaaaaaaaaaaaaaaaaaaaaaaaaaaaaaaaaaaaaaaaaaaaaaaaaaaaaaaaaaaaaaaaaaaaaaaaaaaaaaaaaaaaaaaaaaaaaaaaaaaaaaaaaaaaaaaaaaaaaaaaaaaaaaaaaaaaaaaaaaaaaaaaaaaaaaaaaaaaaaaaaaaaaaaaaaaaaaaaaaaaaaaaaaaaaaaaaaaaaaaaaaaaaaaaaaaaaaaaaaaaaaaaaaaaaaaaaaaaaaaaaaaaaaaaaaaaaaaaaaaaaaaaaaaaaaaaaaaaaaaaaaaaaaaaaaaaaaaaaaaaaaaaaaaaaaaaaaaaaaaaaaaaaaaaaaaaaaaaaaaaaaaaaaaaaaaaaaaaaaaaaaaaaaaaaaaaaaaaaaaaaaaaaaaaaaaaaaaaaaaaaaaaaaaaaaaaaaaaaaaaaaaaaaaaaaaaaaaaaaaaaaaaaaaaaaaaaaaaaaaaaaaaaaaaaaaaaaaaaaaaaaaaaaaaaaaaaaaaaaaaaaaaaaaaaaaaaaaaaaaaaaaaaaaaaaaaaaaaaaaaaaaaaaaaaaaaaaaaaaaaaaaaaaaaaaaaaaaaaaaaaaaaaaaaaaaaaaaaaaaaaaaaaaaaaaaaaaaaaaaaaaaaaaaaaaaaaaaaaaaaaaaaaaaaaaaaaaaaaaaaaaaaaaaaaaaaaaaaaaaaaaaaaaaaaaaaaaaaaaaaaaaaaaaaaaaaaaaaaaaaaaaaaaaaaaaaaaaaaaaaaaaaaaaaaaaaaaaaaaaaaaaaaaaaaaaaaaaaaaaaaaaaaaaaaaaaaaaaaaaaaaaaaaaaaaaaaaaaaaaaaaaaaaaaaaaaaaaaaaaaaaaaaaaaaaaaaaaaaaaaaaaaaaaaaaaaaaaaaaaaaaaaaaaaaaaaaaaaaaaaaaaaaaaaaaaaaaaaaaaaaaaaaaaaaaaaaaaaaaaaaaaaaaaaaaaaaaaaaaaaaaaaaaaaaaaaaaaaaaaaaaaaaaaaaaaaaaaaaaaaaaaaaaaaaaaaaaaaaaaaaaaaaaaaaaaaaaaaaaaaaaaaaaaaaaaaaaaaaaaaaaaaaaaaaaaaaaaaaaaaaaaaaaaaaaaaaaaaaaaaaaaaaaaaaaaaaaaaaaaaaaaaaaaaaaaaaaaaaaaaaaaaaaaaaaaaaaaaaaaaaaaaaaaaaaaaaaaaaaaaaaaaaaaaaaaaaaaaaaaaaaaaaaaaaaaaaaaaaaaaaaaaaaaaaaaaaaaaaaaaaaaaaaaaaaaaaaaaaaaaaaaaaaaaaaaaaaaaaaaaaaaaaaaaaaaaaaaaaaaaaaaaaaaaaaaaaaaaaaaaaaaaaaaaaaaaaaaaaaaaaaaaaaaaaaaaaaaaaaaaaaaaaaaaaaaaaaaaaaaaaaaaaaaaaaaaaaaaaaaaaaaaaaaaaaaaaaaaaaaaaaaaaaaaaaaaaaaaaaaaaaaaaaaaaaaaaaaaaaaaaaaaaaaaaaaaaaaaaaaaaaaaaaaaaaaaaaaaaaaaaaaaaaaaaaaaaaaaaaaaaaaaaaaaaaaaaaaaaaaaaaaaaaaaaaaaaaaaaaaaaaaaaaaaaaaaaaaaaaaaaaaaaaaaaaaaaaaaaaaaaaaaaaaaaaaaaaaaaaaaaaaaaaaaaaaaaaaaaaaaaaaaaaaaaaaaaaaaaaaaaaaaaaaaaaaaaaaaaaaaaaaaaaaaaaaaaaaaaaaaaaaaaaaaaaaaaaaaaaaaaaaaaaaaaaaaaaaaaaaaaaaaaaaaaaaaaaaaaaaaaaaaaaaaaaaaaaaaaaaaaaaaaaaaaaaaaaaaaaaaaaaaaaaaaaaaaaaaaaaaaaaaaaaaaaaaaaaaaaaaaaaaaaaaaaaaaaaaaaaaaaaaaaaaaaaaaaaaaaaaaaaaaaaaaaaaaaaaaaaaaaaaaaaaaaaaaaaaaaaaaaaaaaaaaaaaaaaaaaaaaaaaaaaaaaaaaaaaaaaaaaaaaaaaaaaaaaaaaaaaaaaaaaaaaaaaaaaaaaaaaaaaaaaaaaaaaaaaaaaaaaaaaaaaaaaaaaaaaaaaaaaaaaaaaaaaaaaaaaaaaaaaaaaaaaaaaaaaaaaaaaaaaaaaaaaaaaaaaaaaaaaaaaaaaaaaaaaaaaaaaaaaaaaaaaaaaaaaaaaaaaaaaaaaaaaaaaaaaaaaaaaaaaaaaaaaaaaaaaaaaaaaaaaaaaaaaaaaaaaaaaaaaaaaaaaaaaaaaaaaaaaaaaaaaaaaaaaaaaaaaaaaaaaaaaaaaaaaaaaaaaaaaaaaaaaaaaaaaaaaaaaaaaaaaaaaaaaaaaaaaaaaaaaaaaaaaaaaaaaaaaaaaaaaaaaaaaaaaaaaaaaaaaaaaaaaaaaaaaaaaaaaaaaaaaaaaaaaaaaaaaaaaaaaaaaaaaaaaaaaaaaaaaaaaaaaaaaaaaaaaaaaaaaaaaaaaaaaaaaaaaaaaaaaaaaaaaaaaaaaaaaaaaaaaaaaaaaaaaaaaaaaaaaaaaaaaaaaaaaaaaaaaaaaaaaaaaaaaaaaaaaaaaaaaaaaaaaaaaaaaaaaaaaaaaaaaaaaaaaaaaaaaaaaaaaaaaaaaaaaaaaaaaaaaaaaaaaaaaaaaaaaaaaaaaaaaaaaaaaaaaaaaaaaaaaaaaaaaaaaaaaaaaaaaaaaaaaaaaaaaaaaaaaaaaaaaaaaaaaaaaaaaaaaaaaaaaaaaaaaaaaaaaaaaaaaaaaaaaaaaaaaaaaaaaaaaaaaaaaaaaaaaaaaaaaaaaaaaaaaaaaaaaaaaaaaaaaaaaaaaaaaaaaaaaaaaaaaaaaaaaaaaaaaaaaaaaaaaaaaaaaaaaaaaaaaaaaaaaaaaaaaaaaaaaaaaaaaaaaaaaaaaaaaaaaaaaaaaaaaaaaaaaaaaaaaaaaaaaaaaaaaaaaaaaaaaaaaaaaaaaaaaaaaaaaaaaaaaaaaaaaaaaaaaaaaaaaaaaaaaaaaaaaaaaaaaaaaaaaaaaaaaaaaaaaaaaaaaaaaaaaaaaaaaaaaaaaaaaaaaaaaaaaaaaaaaaaaaaaaaaaaaaaaaaaaaaaaaaaaaaaaaaaaaaaaaaaaaaaaaaaaaaaaaaaaaaaaaaaaaaaaaaaaaaaaaaaaaaaaaaaaaaaaaaaaaaaaaaaaaaaaaaaaaaaaaaaaaaaaaaaaaaaaaaaaaaaaaaaaaaaaaaaaaaaaaaaaaaaaaaaaaaaaaaaaaaaaaaaaaaaaaaaaaaaaaaaaaaaaaaaaaaaaaaaaaaaaaaaaaaaaaaaaaaaaaaaaaaaaaaaaaaaaaaaaaaaaaaaaaaaaaaaaaaaaaaaaaaaaaaaaaaaaaaaaaaaaaaaaaaaaaaaaaaaaaaaaaaaaaaaaaaaaaaaaaaaaaaaaaaaaaaaaaaaaaaaaaaaaaaaaaaaaaaaaaaaaaaaaaaaaaaaaaaaaaaaaaaaaaaaaaaaaaaaaaaaaaaaaaaaaaaaaaaaaaaaaaaaaaaaaaaaaaaaaaaaaaaaaaaaaaaaaaaaaaaaaaaaaaaaaaaaaaaaaaaaaaaaaaaaaaaaaaaaaaaaaaaaaaaaaaaaaaaaaaaaaaaaaaaaaaaaaaaaaaaaaaaaaaaaaaaaaaaaaaaaaaaaaaaaaaaaaaaaaaaaaaaaaaaaaaaaaaaaaaaaaaaaaaaaaaaaaaaaaaaaaaaaaaaaaaaaaaaaaaaaaaaaaaaaaaaaaaaaaaaaaaaaaaaaaaaaaaaaaaaaaaaaaaaaaaaaaaaaaaaaaaaaaaaaaaaaaaaaaaaaaaaaaaaaaaaaaaaaaaaaaaaaaaaaaaaaaaaaaaaaaaaaaaaaaaaaaaaaaaaaaaaaaaaaaaaaaaaaaaaaaaaaaaaaaaaaaaaaaaaaaaaaaaaaaaaaaaaaaaaaaaaaaaaaaaaaaaaaaaaaaaaaaaaaaaaaaaaaaaaaaaaaaaaaaaaaaaaaaaaaaaaaaaaaaaaaaaaaaaaaaaaaaaaaaaaaaaaaaaaaaaaaaaaaaaaaaaaaaaaaaaaaaaaaaaaaaaaaaaaaaaaaaaaaaaaaaaaaaaaaaaaaaaaaaaaaaaaaaaaaaaaaaaaaaaaaaaaaaaaaaaaaaaaaaaaaaaaaaaaaaaaaaaaaaaaaaaaaaaaaaaaaaaaaaaaaaaaaaaaaaaaaaaaaaaaaaaaaaaaaaaaaaaaaaaaaaaaaaaaaaaaaaaaaaaaaaaaaaaaaaaaaaaaaaaaaaaaaaaaaaaaaaaaaaaaaaaaaaaaaaaaaaaaaaaaaaaaaaaaaaaaaaaaaaaaaaaaaaaaaaaaaaaaaaaaaaaaaaaaaaaaaaaaaaaaaaaaaaaaaaaaaaaaaaaaaaaaaaaaaaaaaaaaaaaaaaaaaaaaaaaaaaaaaaaaaaaaaaaaaaaaaaaaaaaaaaaaaaaaaaaaaaaaaaaaaaaaaaaaaaaaaaaaaaaaaaaaaaaaaaaaaaaaaaaaaaaaaaaaaaaaaaaaaaaaaaaaaaaaaaaaaaaaaaaaaaaaaaaaaaaaaaaaaaaaaaaaaaaaaaaaaaaaaaaaaaaaaaaaaaaaaaaaaaaaaaaaaaaaaaaaaaaaaaaaaaaaaaaaaaaaaaaaaaaaaaaaaaaaaaaaaaaaaaaaaaaaaaaaaaaaaaaaaaaaaaaaaaaaaaaaaaaaaaaaaaaaaaaaaaaaaaaaaaaaaaaaaaaaaaaaaaaaaaaaaaaaaaaaaaaaaaaaaaaaaaaaaaaaaaaaaaaaaaaaaaaaaaaaaaaaaaaaaaaaaaaaaaaaaaaaaaaaaaaaaaaaaaaaaaaaaaaaaaaaaaaaaaaaaaaaaaaaaaaaaaaaaaaaaaaaaaaaaaaaaaaaaaaaaaaaaaaaaaaaaaaaaaaaaaaaaaaaaaaaaaaaaaaaaaaaaaaaaaaaaaaaaaaaaaaaaaaaaaaaaaaaaaaaaaaaaaaaaaaaaaaaaaaaaaaaaaaaaaaaaaaaaaaaaaaaaaaaaaaaaaaaaaaaaaaaaaaaaaaaaaaaaaaaaaaaaaaaaaaaaaaaaaaaaaaaaaaaaaaaaaaaaaaaaaaaaaaaaaaaaaaaaaaaaaaaaaaaaaaaaaaaaaaaaaaaaaaaaaaaaaaaaaaaaaaaaaaaaaaaaaaaaaaaaaaaaaaaaaaaaaaaaaaaaaaaaaaaaaaaaaaaaaaaaaaaaaaaaaaaaaaaaaaaaaaaaaaaaaaaaaaaaaaaaaaaaaaaaaaaaaaaaaaaaaaaaaaaaaaaaaaaaaaaaaaaaaaaaaaaaaaaaaaaaaaaaaaaaaaaaaaaaaaaaaaaaaaaaaaaaaaaaaaaaaaaaaaaaaaaaaaaaaaaaaaaaaaaaaaaaaaaaaaaaaaaaaaaaaaaaaaaaaaaaaaaaaaaaaaaaaaaaaaaaaaaaaaaaaaaaaaaaaaaaaaaaaaaaaaaaaaaaaaaaaaaaaaaaaaaaaaaaaaaaaaaaaaaaaaaaaaaaaaaaaaaaaaaaaaaaaaaaaaaaaaaaaaaaaaaaaaaaaaaaaaaaaaaaaaaaaaaaaaaaaaaaaaaaaaaaaaaaaaaaaaaaaaaaaaaaaaaaaaaaaaaaaaaaaaaaaaaaaaaaaaaaaaaaaaaaaaaaaaaaaaaaaaaaaaaaaaaaaaaaaaaaaaaaaaaaaaaaaaaaaaaaaaaaaaaaaaaaaaaaaaaaaaaaaaaaaaaaaaaaaaaaaaaaaaaaaaaaaaaaaaaaaaaaaaaaaaaaaaaaaaaaaaaaaaaaaaaaaaaaaaaaaaaaaaaaaaaaaaaaaaaaaaaaaaaaaaaaaaaaaaaaaaaaaaaaaaaaaaaaaaaaaaaaaaaaaaaaaaaaaaaaaaaaaaaaaaaaaaaaaaaaaaaaaaaaaaaaaaaaaaaaaaaaaaaaaaaaaaaaaaaaaaaaaaaaaaaaaaaaaaaaaaaaaaaaaaaaaaaaaaaaaaaaaaaaaaaaaaaaaaaaaaaaaaaaaaaaaaaaaaaaaaaaaaaaaaaaaaaaaaaaaaaaaaaaaaaaaaaaaaaaaaaaaaaaaaaaaaaaaaaaaaaaaaaaaaaaaaaaaaaaaaaaaaaaaaaaaaaaaaaaaaaaaaaaaaaaaaaaaaaaaaaaaaaaaaaaaaaaaaaaaaaaaaaaaaaaaaaaaaaaaaaaaaaaaaaaaaaaaaaaaaaaaaaaaaaaaaabaaaaaaaaaaaaaaaaaaaaaaaaaaaaaaaaaaaaaaaaaaaaaaaaaaaaaaaaaaaaaaaaaaaaaaaaaaaaaaaaaaaaaaaaaaaaaaaaaaaaaaaaaaaaaaaaaaaaaaaaaaaaaaaaaaaaaaaaaaaaaaaaaaaaaaaaaaaaaaaaaaaaaaaaaaaaaaaaaaaaaaaaaaaaaaaaaaaaaaaaaaaaaaaaaaaaaaaaaaaaaaaaaaaaaaaaaaaaaaaaaaaaaaaaaaaaaaaaaaaaaaaaaaaaaaaaaaaaaaaaaaaaaaaaaaaaaaaaaaaaaaaaaaaaaaaaaaaaaaaaaaaaaaaaaaaaaaaaaaaaaaaaaaaaaaaaaaaaaaaaaaaaaaaaaaaaaaaaaaaaaaaaaaaaaaaaaaaaaaaaaaaaaaaaaaaaaaaaaaaaaaaaaaaaaaaaaaaaaaaaaaaaaaaaaaaaaaaaaaaaaaaaaaaaaaaaaaaaaaaaaaaaaaaaaaaaaaaaaaaaaaaaaaaaaaaaaaaaaaaaaaaaaaaaaaaaaaaaaaaaaaaaaaaaaaaaaaaaaaaaaaaaaaaaaaaaaaaaaaaaaaaaaaaaaaaaaaaaaaaaaaaaaaaaaaaaaaaaaaaaaaaaaaaaaaaaaaaaaaaaaaaaaaaaaaaaaaaaaaaaaaaaaaaaaaaaaaaaaaaaaaaaaaaaaaaaaaaaaaaaaaaaaaaaaaaaaaaaaaaaaaaaaaaaaaaaaaaaaaaaaaaaaaaaaaaaaaaaaaaaaaaaaaaaaaaaaaaaaaaaaaaaaaaaaaaaaaaaaaaaaaaaaaaaaaaaaaaaaaaaaaaaaaaaaaaaaaaaaaaaaaaaaaaaaaaaaaaaaaaaaaaaaaaaaaaaaaaaaaaaaaaaaaaaaaaaaaaaaaaaaaaaaaaaaaaaaaaaaaaaaaaaaaaaaaaaaaaaaaaaaaaaaaaaaaaaaaaaaaaaaaaaaaaaaaaaaaaaaaaaaaaaaaaaaaaaaaaaaaaaaaaaaaaaaaaaaaaaaaaaaaaaaaaaaaaaaaaaaaaaaaaaaaaaaaaaaaaaaaaaaaaaaaaaaaaaaaaaaaaaaaaaaaaaaaaaaaaaaaaaaaaaaaaaaaaaaaaaaaaaaaaaaaaaaaaaaaaaaaaaaaaaaaaaaaaaaaaaaaaaaaaaaaaaaaaaaaaaaaaaaaaaaaaaaaaaaaaaaaaaaaaaaaaaaaaaaaaaaaaaaaaaaaaaaaaaaaaaaaaaaaaaaaaaaaaaaaaaaaaaaaaaaaaaaaaaaaaaaaaaaaaaaaaaaaaaaaaaaaaaaaaaaaaaaaaaaaaaaaaaaaaaaaaaaaaaaaaaaaaaaaaaaaaaaaaaaaaaaaaaaaaaaaaaaaaaaaaaaaaaaaaaaaaaaaaaaaaaaaaaaaaaaaaaaaaaaaaaaaaaaaaaaaaaaaaaaaaaaaaaaaaaaaaaaaaaaaaaaaaaaaaaaaaaaaaaaaaaaaaaaaaaaaaaaaaaaaaaaaaaaaaaaaaaaaaaaaaaaaaaaaaaaaaaaaaaaaaaaaaaaaaaaaaaaaaaaaaaaaaaaaaaaaaaaaaaaaaaaaaaaaaaaaaaaaaaaaaaaaaaaaaaaaaaaaaaaaaaaaaaaaaaaaaaaaaaaaaaaaaaaaaaaaaaaaaaaaaaaaaaaaaaaaaaaaaaaaaaaaaaaaaaaaaaaaaaaaaaaaaaaaaaaaaaaaaaaaaaaaaaaaaaaaaaaaaaaaaaaaaaaaaaaaaaaaaaaaaaaaaaaaaaaaaaaaaaaaaaaaaaaaaaaaaaaaaaaaaaaaaaaaaaaaaaaaaaaaaaaaaaaaaaaaaaaaaaaaaaaaaaaaaaaaaaaaaaaaaaaaaaaaaaaaaaaaaaaaaaaaaaaaaaaaaaaaaaaaaaaaaaaaaaaaaaaaaaaaaaaaaaaaaaaaaaaaaaaaaaaaaaaaaaaaaaaaaaaaaaaaaaaaaaaaaaaaaaaaaaaaaaaaaaaaaaaaaaaaaaaaaaaaaaaaaaaaaaaaaaaaaaaaaaaaaaaaaaaaaaaaaaaaaaaaaaaaaaaaaaaaaaaaaaaaaaaaaaaaaaaaaaaaaaaaaaaaaaaaaaaaaaaaaaaaaaaaaaaaaaaaaaaaaaaaaaaaaaaaaaaaaaaaaaaaaaaaaaaaaaaaaaaaaaaaaaaaaaaaaaaaaaaaaaaaaaaaaaaaaaaaaaaaaaaaaaaaaaaaaaaaaaaaaaaaaaaaaaaaaaaaaaaaaaaaaaaaaaaaaaaaaaaaaaaaaaaaaaaaaaaaaaaaaaaaaaaaaaaaaaaaaaaaaaaaaaaaaaaaaaaaaaaaaaaaaaaaaaaaaaaaaaaaaaaaaaaaaaaaaaaaaaaaaaaaaaaaaaaaaaaaaaaaaaaaaaaaaaaaaaaaaaaaaaaaaaaaaaaaaaaaaaaaaaaaaaaaaaaaaaaaaaaaaaaaaaaaaaaaaaaaaaaaaaaaaaaaaaaaaaaaaaaaaaaaaaaaaaaaaaaaaaaaaaaaaaaaaaaaaaaaaaaaaaaaaaaaaaaaaaaaaaaaaaaaaaaaaaaaaaaaaaaaaaaaaaaaaaaaaaaaaaaaaaaaaaaaaaaaaaaaaaaaaaaaaaaaaaaaaaaaaaaaaaaaaaaaaaaaaaaaaaaaaaaaaaaaaaaaaaaaaaaaaaaaaaaaaaaaaaaaaaaaaaaaaaaaaaaaaaaaaaaaaaaaaaaaaaaaaaaaaaaaaaaaaaaaaaaaaaaaaaaaaaaaaaaaaaaaaaaaaaaaaaaaaaaaaaaaaaaaaaaaaaaaaaaaaaaaaaaaaaaaaaaaaaaaaaaaaaaaaaaaaaaaaaaaaaaaaaaaaaaaaaaaaaaaaaaaaaaaaaaaaaaaaaaaaaaaaaaaaaaaaaaaaaaaaaaaaaaaaaaaaaaaaaaaaaaaaaaaaaaaaaaaaaaaaaaaaaaaaaaaaaaaaaaaaaaaaaaaaaaaaaaaaaaaaaaaaaaaaaaaaaaaaaaaaaaaaaaaaaaaaaaaaaaaaaaaaaaaaaaaaaaaaaaaaaaaaaaaaaaaaaaaaaaaaaaaaaaaaaaaaaaaaaaaaaaaaaaaaaaaaaaaaaaaaaaaaaaaaaaaaaaaaaaaaaaaaaaaaaaaaaaaaaaaaaaaaaaaaaaaaaaaaaaaaaaaaaaaaaaaaaaaaaaaaaaaaaaaaaaaaaaaaaaaaaaaaaaaaaaaaaaaaaaaaaaaaaaaaaaaaaaaaaaaaaaaaaaaaaaaaaaaaaaaaaaaaaaaaaaaaaaaaaaaaaaaaaaaaaaaaaaaaaaaaaaaaaaaaaaaaaaaaaaaaaaaaaaaaaaaaaaaaaaaaaaaaaaaaaaaaaaaaaaaaaaaaaaaaaaaaaaaaaaaaaaaaaaaaaaaaaaaaaaaaaaaaaaaaaaaaaaaaaaaaaaaaaaaaaaaaaaaaaaaaaaaaaaaaaaaaaaaaaaaaaaaaaaaaaaaaaaaaaaaaaaaaaaaaaaaaaaaaaaaaaaaaaaaaaaaaaaaaaaaaaaaaaaaaaaaaaaaaaaaaaaaaaaaaaaaaaaaaaaaaaaaaaaaaaaaaaaaaaaaaaaaaaaaaaaaaaaaaaaaaaaaaaaaaaaaaaaaaaaaaaaaaaaaaaaaaaaaaaaaaaaaaaaaaaaaaaaaaaaaaaaaaaaaaaaaaaaaaaaaaaaaaaaaaaaaaaaaaaaaaaaaaaaaaaaaaaaaaaaaaaaaaaaaaaaaaaaaaaaaaaaaaaaaaaaaaaaaaaaaaaaaaaaaaaaaaaaaaaaaaaaaaaaaaaaaaaaaaaaaaaaaaaaaaaaaaaaaaaaaaaaaaaaaaaaaaaaaaaaaaaaaaaaaaaaaaaaaaaaaaaaaaaaaaaaaaaaaaaaaaaaaaaaaaaaaaaaaaaaaaaaaaaaaaaaaaaaaaaaaaaaaaaaaaaaaaaaaaaaaaaaaaaaaaaaaaaaaaaaaaaaaaaaaaaaaaaaaaaaaaaaaaaaaaaaaaaaaaaaaaaaaaaaaaaaaaaaaaaaaaaaaaaaaaaaaaaaaaaaaaaaaaaaaaaaaaaaaaaaaaaaaaaaaaaaaaaaaaaaaaaaaaaaaaaaaaaaaaaaaaaaaaaaaaaaaaaaaaaaaaaaaaaaaaaaaaaaaaaaaaaaaaaaaaaaaaaaaaaaaaaaaaaaaaaaaaaaaaaaaaaaaaaaaaaaaaaaaaaaaaaaaaaaaaaaaaaaaaaaaaaaaaaaaaaaaaaaaaaaaaaaaaaaaaaaaaaaaaaaaaaaaaaaaaaaaaaaaaaaaaaaaaaaaaaaaaaaaaaaaaaaaaaaaaaaaaaaaaaaaaaaaaaaaaaaaaaaaaaaaaaaaaaaaaaaaaaaaaaaaaaaaaaaaaaaaaaaaaaaaaaaaaaaaaaaaaaaaaaaaaaaaaaaaaaaaaaaaaaaaaaaaaaaaaaaaaaaaaaaaaaaaaaaaaaaaaaaaaaaaaaaaaaaaaaaaaaaaaaaaaaaaaaaaaaaaaaaaaaaaaaaaaaaaaaaaaaaaaaaaaaaaaaaaaaaaaaaaaaaaaaaaaaaaaaaaaaaaaaaaaaaaaaaaaaaaaaaaaaaaaaaaaaaaaaaaaaaaaaaaaaaaaaaaaaaaaaaaaaaaaaaaaaaaaaaaaaaaaaaaaaaaaaaaaaaaaaaaaaaaaaaaaaaaaaaaaaaaaaaaaaaaaaaaaaaaaaaaaaaaaaaaaaaaaaaaaaaaaaaaaaaaaaaaaaaaaaaaaaaaaaaaaaaaaaaaaaaaaaaaaaaaaaaaaaaaaaaaaaaaaaaaaaaaaaaaaaaaaaaaaaaaaaaaaaaaaaaaaaaaaaaaaaaaaaaaaaaaaaaaaaaaaaaaaaaaaaaaaaaaaaaaaaaaaaaaaaaaaaaaaaaaaaaaaaaaaaaaaaaaaaaaaaaaaaaaaaaaaaaaaaaaaaaaaaaaaaaaaaaaaaaaaaaaaaaaaaaaaaaaaaaaaaaaaaaaaaaaaaaaaaaaaaaaaaaaaaaaaaaaaaaaaaaaaaaaaaaaaaaaaaaaaaaaaaaaaaaaaaaaaaaaaaaaaaaaaaaaaaaaaaaaaaaaaaaaaaaaaaaaaaaaaaaaaaaaaaaaaaaaaaaaaaaaaaaaaaaaaaaaaaaaaaaaaaaaaaaaaaaaaaaaaaaaaaaaaaaaaaaaaaaaaaaaaaaaaaaaaaaaaaaaaaaaaaaaaaaaaaaaaaaaaaaaaaaaaaaaaaaaaaaaaaaaaaaaaaaaaaaaaaaaaaaaaaaaaaaaaaaaaaaaaaaaaaaaaaaaaaaaaaaaaaaaaaaaaaaaaaaaaaaaaaaaaaaaaaaaaaaaaaaaaaaaaaaaaaaaaaaaaaaaaaaaaaaaaaaaaaaaaaaaaaaaaaaaaaaaaaaaaaaaaaaaaaaaaaaaaaaaaaaaaaaaaaaaaaaaaaaaaaaaaaaaaaaaaaaaaaaaaaaaaaaaaaaaaaaaaaaaaaaaaaaaaaaaaaaaaaaaaaaaaaaaaaaaaaaaaaaaaaaaaaaaaaaaaaaaaaaaaaaaaaaaaaaaaaaaaaaaaaaaaaaaaaaaaaaaaaaaaaaaaaaaaaaaaaaaaaaaaaaaaaaaaaaaaaaaaaaaaaaaaaaaaaaaaaaaaaaaaaaaaaaaaaaaaaaaaaaaaaaaaaaaaaaaaaaaaaaaaaaaaaaaaaaaaaaaaaaaaaaaaaaaaaaaaaaaaaaaaaaaaaaaaaaaaaaaaaaaaaaaaaaaaaaaaaaaaaaaaaaaaaaaaaaaaaaaaaaaaaaaaaaaaaaaaaaaaaaaaaaaaaaaaaaaaaaaaaaaaaaaaaaaaaaaaaaaaaaaaaaaaaaaaaaaaaaaaaaaaaaaaaaaaaaaaaaaaaaaaaaaaaaaaaaaaaaaaaaaaaaaaaaaaaaaaaaaaaaaaaaaaaaaaaaaaaaaaaaaaaaaaaaaaaaaaaaaaaaaaaaaaaaaaaaaaaaaaaaaaaaaaaaaaaaaaaaaaaaaaaaaaaaaaaaaaaaaaaaaaaaaaaaaaaaaaaaaaaaaaaaaaaaaaaaaaaaaaaaaaaaaaaaaaaaaaaaaaaaaaaaaaaaaaaaaaaaaaaaaaaaaaaaaaaaaaaaaaaaaaaaaaaaaaaaaaaaaaaaaaaaaaaaaaaaaaaaaaaaaaaaaaaaaaaaaaaaaaaaaaaaaaaaaaaaaaaaaaaaaaaaaaaaaaaaaaaaaaaaaaaaaaaaaaaaaaaaaaaaaaaaaaaaaaaaaaaaaaaaaaaaaaaaaaaaaaaaaaaaaaaaaaaaaaaaaaaaaaaaaaaaaaaaaaaaaaaaaaaaaaaaaaaaaaaaaaaaaaaaaaaaaaaaaaaaaaaaaaaaaaaaaaaaaaaaaaaaaaaaaaaaaaaaaaaaaaaaaaaaaaaaaaaaaaaaaaaaaaaaaaaaaaaaaaaaaaaaaaaaaaaaaaaaaaaaaaaaaaaaaaaaaaaaaaaaaaaaaaaaaaaaaaaaaaaaaaaaaaaaaaaaaaaaaaaaaaaaaaaaaaaaaaaaaaaaaaaaaaaaaaaaaaaaaaaaaaaaaaaaaaaaaaaaaaaaaaaaaaaaaaaaaaaaaaaaaaaaaaaaaaaaaaaaaaaaaaaaaaaaaaaaaaaaaaaaaaaaaaaaaaaaaaaaaaaaaaaaaaaaaaaaaaaaaaaaaaaaaaaaaaaaaaaaaaaaaaaaaaaaaaaaaaaaaaaaaaaaaaaaaaaaaaaaaaaaaaaaaaaaaaaaaaaaaaaaaaaaaaaaaaaaaaaaaaaaaaaaaaaaaaaaaaaaaaaaaaaaaaaaaaaaaaaaaaaaaaaaaaaaaaaaaaaaaaaaaaaaaaaaaaaaaaaaaaaaaaaaaaaaaaaaaaaaaaaaaaaaaaaaaaaaaaaaaaaaaaaaaaaaaaaaaaaaaaaaaaaaaaaaaaaaaaaaaaaaaaaaaaaaaaaaaaaaaaaaaaaaaaaaaaaaaaaaaaaaaaaaaaaaaaaaaaaaaaaaaaaaaaaaaaaaaaaaaaaaaaaaaaaaaaaaaaaaaaaaaaaaaaaaaaaaaaaaaaaaaaaaaaaaaaaaaaaaaaaaaaaaaaaaaaaaaaaaaaaaaaaaaaaaaaaaaaaaaaaaaaaaaaaaaaaaaaaaaaaaaaaaaaaaaaaaaaaaaaaaaaaaaaaaaaaaaaaaaaaaaaaaaaaaaaaaaaaaaaaaaaaaaaaaaaaaaaaaaaaaaaaaaaaaaaaaaaaaaaaaaaaaaaaaaaaaaaaaaaaaaaaaaaaaaaaaaaaaaaaaaaaaaaaaaaaaaaaaaaaaaaaaaaaaaaaaaaaaaaaaaaaaaaaaaaaaaaaaaaaaaaaaaaaaaaaaaaaaaaaaaaaaaaaaaaaaaaaaaaaaaaaaaaaaaaaaaaaaaaaaaaaaaaaaaaaaaaaaaaaaaaaaaaaaaaaaaaaaaaaaaaaaaaaaaaaaaaaaaaaaaaaaaaaaaaaaaaaaaaaaaaaaaaaaaaaaaaaaaaaaaaaaaaaaaaaaaaaaaaaaaaaaaaaaaaaaaaaaaaaaaaaaaaaaaaaaaaaaaaaaaaaaaaaaaaaaaaaaaaaaaaaaaaaaaaaaaaaaaaaaaaaaaaaaaaaaaaaaaaaaaaaaaaaaaaaaaaaaaaaaaaaaaaaaaaaaaaaaaaaaaaaaaaaaaaaaaaaaaaaaaaaaaaaaaaaaaaaaaaaaaaaaaaaaaaaaaaaaaaaaaaaaaaaaaaaaaaaaaaaaaaaaaaaaaaaaaaaaaaaaaaaaaaaaaaaaaaaaaaaaaaaaaaaaaaaaaaaaaaaaaaaaaaaaaaaaaaaaaaaaaaaaaaaaaaaaaaaaaaaaaaaaaaaaaaaaaaaaaaaaaaaaaaaaaaaaaaaaaaaaaaaaaaaaaaaaaaaaaaaaaaaaaaaaaaaaaaaaaaaaaaaaaaaaaaaaaaaaaaaaaaaaaaaaaaaaaaaaaaaaaaaaaaaaaaaaaaaaaaaaaaaaaaaaaaaaaaaaaaaaaaaaaaaaaaaaaaaaaaaaaaaaaaaaaaaaaaaaaaaaaaaaaaaaaaaaaaaaaaaaaaaaaaaaaaaaaaaaaaaaaaaaaaaaaaaaaaaaaaaaaaaaaaaaaaaaaaaaaaaaaaaaaaaaaaaaaaaaaaaaaaaaaaaaaaaaaaaaaaaaaaaaaaaaaaaaaaaaaaaaaaaaaaaaaaaaaaaaaaaaaaaaaaaaaaaaaaaaaaaaaaaaaaaaaaaaaaaaaaaaaaaaaaaaaaaaaaaaaaaaaaaaaaaaaaaaaaaaaaaaaaaaaaaaaaaaaaaaaaaaaaaaaaaaaaaaaaaaaaaaaaaaaaaaaaaaaaaaaaaaaaaaaaaaaaaaaaaaaaaaaaaaaaaaaaaaaaaaaaaaaaaaaaaaaaaaaaaaaaaaaaaaaaaaaaaaaaaaaaaaaaaaaaaaaaaaaaaaaaaaaaaaaaaaaaaaaaaaaaaaaaaaaaaaaaaaaaaaaaaaaaaaaaaaaaaaaaaaaaaaaaaaaaaaaaaaaaaaaaaaaaaaaaaaaaaaaaaaaaaaaaaaaaaaaaaaaaaaaaaaaaaaaaaaaaaaaaaaaaaaaaaaaaaaaaaaaaaaaaaaaaaaaaaaaaaaaaaaaaaaaaaaaaaaaaaaaaaaaaaaaaaaaaaaaaaaaaaaaaaaaaaaaaaaaaaaaaaaaaaaaaaaaaaaaaaaaaaaaaaaaaaaaaaaaaaaaaaaaaaaaaaaaaaaaaaaaaaaaaaaaaaaaaaaaaaaaaaaaaaaaaaaaaaaaaaaaaaaaaaaaaaaaaaaaaaaaaaaaaaaaaaaaaaaaaaaaaaaaaaaaaaaaaaaaaaaaaaaaaaaaaaaaaaaaaaaaaaaaaaaaaaaaaaaaaaaaaaaaaaaaaaaaaaaaaaaaaaaaaaaaaaaaaaaaaaaaaaaaaaaaaaaaaaaaaaaaaaaaaaaaaaaaaaaaaaaaaaaaaaaaaaaaaaaaaaaaaaaaaaaaaaaaaaaaaaaaaaaaaaaaaaaaaaaaaaaaaaaaaaaaaaaaaaaaaaaaaaaaaaaaaaaaaaaaaaaaaaaaaaaaaaaaaaaaaaaaaaaaaaaaaaaaaaaaaaaaaaaaaaaaaaaaaaaaaaaaaaaaaaaaaaaaaaaaaaaaaaaaaaaaaaaaaaaaaaaaaaaaaaaaaaaaaaaaaaaaaaaaaaaaaaaaaaaaaaaaaaaaaaaaaaaaaaaaaaaaaaaaaaaaaaaaaaaaaaaaaaaaaaaaaaaaaaaaaaaaaaaaaaaaaaaaaaaaaaaaaaaaaaaaaaaaaaaaaaaaaaaaaaaaaaaaaaaaaaaaaaaaaaaaaaaaaaaaaaaaaaaaaaaaaaaaaaaaaaaaaaaaaaaaaaaaaaaaaaaaaaaaaaaaaaaaaaaaaaaaaaaaaaaaaaaaaaaaaaaaaaaaaaaaaaaaaaaaaaaaaaaaaaaaaaaaaaaaaaaaaaaaaaaaaaaaaaaaaaaaaaaaaaaaaaaaaaaaaaaaaaaaaaaaaaaaaaaaaaaaaaaaaaaaaaaaaaaaaaaaaaaaaaaaaaaaaaaaaaaaaaaaaaaaaaaaaaaaaaaaaaaaaaaaaaaaaaaaaaaaaaaaaaaaaaaaaaaaaaaaaaaaaaaaaaaaaaaaaaaaaaaaaaaaaaaaaaaaaaaaaaaaaaaaaaaaaaaaaaaaaaaaaaaaaaaaaaaaaaaaaaaaaaaaaaaaaaaaaaaaaaaaaaaaaaaaaaaaaaaaaaaaaaaaaaaaaaaaaaaaaaaaaaaaaaaaaaaaaaaaaaaaaaaaaaaaaaaaaaaaaaaaaaaaaaaaaaaaaaaaaaaaaaaaaaaaaaaaaaaaaaaaaaaaaaaaaaaaaaaaaaaaaaaaaaaaaaaaaaaaaaaaaaaaaaaaaaaaaaaaaaaaaaaaaaaaaaaaaaaaaaaaaaaaaaaaaaaaaaaaaaaaaaaaaaaaaaaaaaaaaaaaaaaaaaaaaaaaaaaaaaaaaaaaaaaaaaaaaaaaaaaaaaaaaaaaaaaaaaaaaaaaaaaaaaaaaaaaaaaaaaaaaa\"\n",
    "b = \"aaaaaaaaaaaaaaaaaaaaaaaaaaaaaaaaaaaaaaaaaaaaaaaaaaaaaaaaaaaaaaaaaaaaaaaaaaaaaaaaaaaaaaaaaaaaaaaaaaaaaaaaaaaaaaaaaaaaaaaaaaaaaaaaaaaaaaaaaaaaaaaaaaaaaaaaaaaaaaaaaaaaaaaaaaaaaaaaaaaaaaaaaaaaaaaaaaaaaaaaaaaaaaaaaaaaaaaaaaaaaaaaaaaaaaaaaaaaaaaaaaaaaaaaaaaaaaaaaaaaaaaaaaaaaaaaaaaaaaaaaaaaaaaaaaaaaaaaaaaaaaaaaaaaaaaaaaaaaaaaaaaaaaaaaaaaaaaaaaaaaaaaaaaaaaaaaaaaaaaaaaaaaaaaaaaaaaaaaaaaaaaaaaaaaaaaaaaaaaaaaaaaaaaaaaaaaaaaaaaaaaaaaaaaaaaaaaaaaaaaaaaaaaaaaaaaaaaaaaaaaaaaaaaaaaaaaaaaaaaaaaaaaaaaaaaaaaaaaaaaaaaaaaaaaaaaaaaaaaaaaaaaaaaaaaaaaaaaaaaaaaaaaaaaaaaaaaaaaaaaaaaaaaaaaaaaaaaaaaaaaaaaaaaaaaaaaaaaaaaaaaaaaaaaaaaaaaaaaaaaaaaaaaaaaaaaaaaaaaaaaaaaaaaaaaaaaaaaaaaaaaaaaaaaaaaaaaaaaaaaaaaaaaaaaaaaaaaaaaaaaaaaaaaaaaaaaaaaaaaaaaaaaaaaaaaaaaaaaaaaaaaaaaaaaaaaaaaaaaaaaaaaaaaaaaaaaaaaaaaaaaaaaaaaaaaaaaaaaaaaaaaaaaaaaaaaaaaaaaaaaaaaaaaaaaaaaaaaaaaaaaaaaaaaaaaaaaaaaaaaaaaaaaaaaaaaaaaaaaaaaaaaaaaaaaaaaaaaaaaaaaaaaaaaaaaaaaaaaaaaaaaaaaaaaaaaaaaaaaaaaaaaaaaaaaaaaaaaaaaaaaaaaaaaaaaaaaaaaaaaaaaaaaaaaaaaaaaaaaaaaaaaaaaaaaaaaaaaaaaaaaaaaaaaaaaaaaaaaaaaaaaaaaaaaaaaaaaaaaaaaaaaaaaaaaaaaaaaaaaaaaaaaaaaaaaaaaaaaaaaaaaaaaaaaaaaaaaaaaaaaaaaaaaaaaaaaaaaaaaaaaaaaaaaaaaaaaaaaaaaaaaaaaaaaaaaaaaaaaaaaaaaaaaaaaaaaaaaaaaaaaaaaaaaaaaaaaaaaaaaaaaaaaaaaaaaaaaaaaaaaaaaaaaaaaaaaaaaaaaaaaaaaaaaaaaaaaaaaaaaaaaaaaaaaaaaaaaaaaaaaaaaaaaaaaaaaaaaaaaaaaaaaaaaaaaaaaaaaaaaaaaaaaaaaaaaaaaaaaaaaaaaaaaaaaaaaaaaaaaaaaaaaaaaaaaaaaaaaaaaaaaaaaaaaaaaaaaaaaaaaaaaaaaaaaaaaaaaaaaaaaaaaaaaaaaaaaaaaaaaaaaaaaaaaaaaaaaaaaaaaaaaaaaaaaaaaaaaaaaaaaaaaaaaaaaaaaaaaaaaaaaaaaaaaaaaaaaaaaaaaaaaaaaaaaaaaaaaaaaaaaaaaaaaaaaaaaaaaaaaaaaaaaaaaaaaaaaaaaaaaaaaaaaaaaaaaaaaaaaaaaaaaaaaaaaaaaaaaaaaaaaaaaaaaaaaaaaaaaaaaaaaaaaaaaaaaaaaaaaaaaaaaaaaaaaaaaaaaaaaaaaaaaaaaaaaaaaaaaaaaaaaaaaaaaaaaaaaaaaaaaaaaaaaaaaaaaaaaaaaaaaaaaaaaaaaaaaaaaaaaaaaaaaaaaaaaaaaaaaaaaaaaaaaaaaaaaaaaaaaaaaaaaaaaaaaaaaaaaaaaaaaaaaaaaaaaaaaaaaaaaaaaaaaaaaaaaaaaaaaaaaaaaaaaaaaaaaaaaaaaaaaaaaaaaaaaaaaaaaaaaaaaaaaaaaaaaaaaaaaaaaaaaaaaaaaaaaaaaaaaaaaaaaaaaaaaaaaaaaaaaaaaaaaaaaaaaaaaaaaaaaaaaaaaaaaaaaaaaaaaaaaaaaaaaaaaaaaaaaaaaaaaaaaaaaaaaaaaaaaaaaaaaaaaaaaaaaaaaaaaaaaaaaaaaaaaaaaaaaaaaaaaaaaaaaaaaaaaaaaaaaaaaaaaaaaaaaaaaaaaaaaaaaaaaaaaaaaaaaaaaaaaaaaaaaaaaaaaaaaaaaaaaaaaaaaaaaaaaaaaaaaaaaaaaaaaaaaaaaaaaaaaaaaaaaaaaaaaaaaaaaaaaaaaaaaaaaaaaaaaaaaaaaaaaaaaaaaaaaaaaaaaaaaaaaaaaaaaaaaaaaaaaaaaaaaaaaaaaaaaaaaaaaaaaaaaaaaaaaaaaaaaaaaaaaaaaaaaaaaaaaaaaaaaaaaaaaaaaaaaaaaaaaaaaaaaaaaaaaaaaaaaaaaaaaaaaaaaaaaaaaaaaaaaaaaaaaaaaaaaaaaaaaaaaaaaaaaaaaaaaaaaaaaaaaaaaaaaaaaaaaaaaaaaaaaaaaaaaaaaaaaaaaaaaaaaaaaaaaaaaaaaaaaaaaaaaaaaaaaaaaaaaaaaaaaaaaaaaaaaaaaaaaaaaaaaaaaaaaaaaaaaaaaaaaaaaaaaaaaaaaaaaaaaaaaaaaaaaaaaaaaaaaaaaaaaaaaaaaaaaaaaaaaaaaaaaaaaaaaaaaaaaaaaaaaaaaaaaaaaaaaaaaaaaaaaaaaaaaaaaaaaaaaaaaaaaaaaaaaaaaaaaaaaaaaaaaaaaaaaaaaaaaaaaaaaaaaaaaaaaaaaaaaaaaaaaaaaaaaaaaaaaaaaaaaaaaaaaaaaaaaaaaaaaaaaaaaaaaaaaaaaaaaaaaaaaaaaaaaaaaaaaaaaaaaaaaaaaaaaaaaaaaaaaaaaaaaaaaaaaaaaaaaaaaaaaaaaaaaaaaaaaaaaaaaaaaaaaaaaaaaaaaaaaaaaaaaaaaaaaaaaaaaaaaaaaaaaaaaaaaaaaaaaaaaaaaaaaaaaaaaaaaaaaaaaaaaaaaaaaaaaaaaaaaaaaaaaaaaaaaaaaaaaaaaaaaaaaaaaaaaaaaaaaaaaaaaaaaaaaaaaaaaaaaaaaaaaaaaaaaaaaaaaaaaaaaaaaaaaaaaaaaaaaaaaaaaaaaaaaaaaaaaaaaaaaaaaaaaaaaaaaaaaaaaaaaaaaaaaaaaaaaaaaaaaaaaaaaaaaaaaaaaaaaaaaaaaaaaaaaaaaaaaaaaaaaaaaaaaaaaaaaaaaaaaaaaaaaaaaaaaaaaaaaaaaaaaaaaaaaaaaaaaaaaaaaaaaaaaaaaaaaaaaaaaaaaaaaaaaaaaaaaaaaaaaaaaaaaaaaaaaaaaaaaaaaaaaaaaaaaaaaaaaaaaaaaaaaaaaaaaaaaaaaaaaaaaaaaaaaaaaaaaaaaaaaaaaaaaaaaaaaaaaaaaaaaaaaaaaaaaaaaaaaaaaaaaaaaaaaaaaaaaaaaaaaaaaaaaaaaaaaaaaaaaaaaaaaaaaaaaaaaaaaaaaaaaaaaaaaaaaaaaaaaaaaaaaaaaaaaaaaaaaaaaaaaaaaaaaaaaaaaaaaaaaaaaaaaaaaaaaaaaaaaaaaaaaaaaaaaaaaaaaaaaaaaaaaaaaaaaaaaaaaaaaaaaaaaaaaaaaaaaaaaaaaaaaaaaaaaaaaaaaaaaaaaaaaaaaaaaaaaaaaaaaaaaaaaaaaaaaaaaaaaaaaaaaaaaaaaaaaaaaaaaaaaaaaaaaaaaaaaaaaaaaaaaaaaaaaaaaaaaaaaaaaaaaaaaaaaaaaaaaaaaaaaaaaaaaaaaaaaaaaaaaaaaaaaaaaaaaaaaaaaaaaaaaaaaaaaaaaaaaaaaaaaaaaaaaaaaaaaaaaaaaaaaaaaaaaaaaaaaaaaaaaaaaaaaaaaaaaaaaaaaaaaaaaaaaaaaaaaaaaaaaaaaaaaaaaaaaaaaaaaaaaaaaaaaaaaaaaaaaaaaaaaaaaaaaaaaaaaaaaaaaaaaaaaaaaaaaaaaaaaaaaaaaaaaaaaaaaaaaaaaaaaaaaaaaaaaaaaaaaaaaaaaaaaaaaaaaaaaaaaaaaaaaaaaaaaaaaaaaaaaaaaaaaaaaaaaaaaaaaaaaaaaaaaaaaaaaaaaaaaaaaaaaaaaaaaaaaaaaaaaaaaaaaaaaaaaaaaaaaaaaaaaaaaaaaaaaaaaaaaaaaaaaaaaaaaaaaaaaaaaaaaaaaaaaaaaaaaaaaaaaaaaaaaaaaaaaaaaaaaaaaaaaaaaaaaaaaaaaaaaaaaaaaaaaaaaaaaaaaaaaaaaaaaaaaaaaaaaaaaaaaaaaaaaaaaaaaaaaaaaaaaaaaaaaaaaaaaaaaaaaaaaaaaaaaaaaaaaaaaaaaaaaaaaaaaaaaaaaaaaaaaaaaaaaaaaaaaaaaaaaaaaaaaaaaaaaaaaaaaaaaaaaaaaaaaaaaaaaaaaaaaaaaaaaaaaaaaaaaaaaaaaaaaaaaaaaaaaaaaaaaaaaaaaaaaaaaaaaaaaaaaaaaaaaaaaaaaaaaaaaaaaaaaaaaaaaaaaaaaaaaaaaaaaaaaaaaaaaaaaaaaaaaaaaaaaaaaaaaaaaaaaaaaaaaaaaaaaaaaaaaaaaaaaaaaaaaaaaaaaaaaaaaaaaaaaaaaaaaaaaaaaaaaaaaaaaaaaaaaaaaaaaaaaaaaaaaaaaaaaaaaaaaaaaaaaaaaaaaaaaaaaaaaaaaaaaaaaaaaaaaaaaaaaaaaaaaaaaaaaaaaaaaaaaaaaaaaaaaaaaaaaaaaaaaaaaaaaaaaaaaaaaaaaaaaaaaaaaaaaaaaaaaaaaaaaaaaaaaaaaaaaaaaaaaaaaaaaaaaaaaaaaaaaaaaaaaaaaaaaaaaaaaaaaaaaaaaaaaaaaaaaaaaaaaaaaaaaaaaaaaaaaaaaaaaaaaaaaaaaaaaaaaaaaaaaaaaaaaaaaaaaaaaaaaaaaaaaaaaaaaaaaaaaaaaaaaaaaaaaaaaaaaaaaaaaaaaaaaaaaaaaaaaaaaaaaaaaaaaaaaaaaaaaaaaaaaaaaaaaaaaaaaaaaaaaaaaaaaaaaaaaaaaaaaaaaaaaaaaaaaaaaaaaaaaaaaaaaaaaaaaaaaaaaaaaaaaaaaaaaaaaaaaaaaaaaaaaaaaaaaaaaaaaaaaaaaaaaaaaaaaaaaaaaaaaaaaaaaaaaaaaaaaaaaaaaaaaaaaaaaaaaaaaaaaaaaaaaaaaaaaaaaaaaaaaaaaaaaaaaaaaaaaaaaaaaaaaaaaaaaaaaaaaaaaaaaaaaaaaaaaaaaaaaaaaaaaaaaaaaaaaaaaaaaaaaaaaaaaaaaaaaaaaaaaaaaaaaaaaaaaaaaaaaaaaaaaaaaaaaaaaaaaaaaaaaaaaaaaaaaaaaaaaaaaaaaaaaaaaaaaaaaaaaaaaaaaaaaaaaaaaaaaaaaaaaaaaaaaaaaaaaaaaaaaaaaaaaaaaaaaaaaaaaaaaaaaaaaaaaaaaaaaaaaaaaaaaaaaaaaaaaaaaaaaaaaaaaaaaaaaaaaaaaaaaaaaaaaaaaaaaaaaaaaaaaaaaaaaaaaaaaaaaaaaaaaaaaaaaaaaaaaaaaaaaaaaaaaaaaaaaaaaaaaaaaaaaaaaaaaaaaaaaaaaaaaaaaaaaaaaaaaaaaaaaaaaaaaaaaaaaaaaaaaaaaaaaaaaaaaaaaaaaaaaaaaaaaaaaaaaaaaaaaaaaaaaaaaaaaaaaaaaaaaaaaaaaaaaaaaaaaaaaaaaaaaaaaaaaaaaaaaaaaaaaaaaaaaaaaaaaaaaaaaaaaaaaaaaaaaaaaaaaaaaaaaaaaaaaaaaaaaaaaaaaaaaaaaaaaaaaaaaaaaaaaaaaaaaaaaaaaaaaaaaaaaaaaaaaaaaaaaaaaaaaaaaaaaaaaaaaaaaaaaaaaaaaaaaaaaaaaaaaaaaaaaaaaaaaaaaaaaaaaaaaaaaaaaaaaaaaaaaaaaaaaaaaaaaaaaaaaaaaaaaaaaaaaaaaaaaaaaaaaaaaaaaaaaaaaaaaaaaaaaaaaaaaaaaaaaaaaaaaaaaaaaaaaaaaaaaaaaaaaaaaaaaaaaaaaaaaaaaaaaaaaaaaaaaaaaaaaaaaaaaaaaaaaaaaaaaaaaaaaaaaaaaaaaaaaaaaaaaaaaaaaaaaaaaaaaaaaaaaaaaaaaaaaaaaaaaaaaaaaaaaaaaaaaaaaaaaaaaaaaaaaaaaaaaaaaaaaaaaaaaaaaaaaaaaaaaaaaaaaaaaaaaaaaaaaaaaaaaaaaaaaaaaaaaaaaaaaaaaaaaaaaaaaaaaaaaaaaaaaaaaaaaaaaaaaaaaaaaaaaaaaaaaaaaaaaaaaaaaaaaaaaaaaaaaaaaaaaaaaaaaaaaaaaaaaaaaaaaaaaaaaaaaaaaaaaaaaaaaaaaaaaaaaaaaaaaaaaaaaaaaaaaaaaaaaaaaaaaaaaaaaaaaaaaaaaaaaaaaaaaaaaaaaaaaaaaaaaaaaaaaaaaaaaaaaaaaaaaaaaaaaaaaaaaaaaaaaaaaaaaaaaaaaaaaaaaaaaaaaaaaaaaaaaaaaaaaaaaaaaaaaaaaaaaaaaaaaaaaaaaaaaaaaaaaaaaaaaaaaaaaaaaaaaaaaaaaaaaaaaaaaaaaaaaaaaaaaaaaaaaaaaaaaaaaaaaaaaaaaaaaaaaaaaaaaaaaaaaaaaaaaaaaaaaaaaaaaaaaaaaaaaaaaaaaaaaaaaaaaaaaaaaaaaaaaaaaaaaaaaaaaaaaaaaaaaaaaaaaaaaaaaaaaaaaaaaaaaaaaaaaaaaaaaaaaaaaaaaaaaaaaaaaaaaaaaaaaaaaaaaaaaaaaaaaaaaaaaaaaaaaaaaaaaaaaaaaaaaaaaaaaaaaaaaaaaaaaaaaaaaaaaaaaaaaaaaaaaaaaaaaaaaaaaaaaaaaaaaaaaaaaaaaaaaaaaaaaaaaaaaaaaaaaaaaaaaaaaaaaaaaaaaaaaaaaaaaaaaaaaaaaaaaaaaaaaaaaaaaaaaaaaaaaaaaaaaaaaaaaaaaaaaaaaaaaaaaaaaaaaaaaaaaaaaaaaaaaaaaaaaaaaaaaaaaaaaaaaaaaaaaaaaaaaaaaaaaaaaaaaaaaaaaaaaaaaaaaaaaaaaaaaaaaaaaaaaaaaaaaaaaaaaaaaaaaaaaaaaaaaaaaaaaaaaaaaaaaaaaaaaaaaaaaaaaaaaaaaaaaaaaaaaaaaaaaaaaaaaaaaaaaaaaaaaaaaaaaaaaaaaaaaaaaaaaaaaaaaaaaaaaaaaaaaaaaaaaaaaaaaaaaaaaaaaaaaaaaaaaaaaaaaaaaaaaaaaaaaaaaaaaaaaaaaaaaaaaaaaaaaaaaaaaaaaaaaaaaaaaaaaaaaaaaaaaaaaaaaaaaaaaaaaaaaaaaaaaaaaaaaaaaaaaaaaaaaaaaaaaaaaaaaaaaaaaaaaaaaaaaaaaaaaaaaaaaaaaaaaaaaaaaaaaaaaaaaaaaaaaaaaaaaaaaaaaaaaaaaaaaaaaaaaaaaaaaaaaaaaaaaaaaaaaaaaaaaaaaaaaaaaaaaaaaaaaaaaaaaaaaaaaaaaaaaaaaaaaaaaaaaaaaaaaaaaaaaaaaaaaaaaaaaaaaaaaaaaaaaaaaaaaaaaaaaaaaaaaaaaaaaaaaaaaaaaaaaaaaaaaaaaaaaaaaaaaaaaaaaaaaaaaaaaaaaaaaaaaaaaaaaaaaaaaaaaaaaaaaaaaaaaaaaaaaaaaaaaaaaaaaaaaaaaaaaaaaaaaaaaaaaaaaaaaaaaaaaaaaaaaaaaaaaaaaaaaaaaaaaaaaaaaaaaaaaaaaaaaaaaaaaaaaaaaaaaaaaaaaaaaaaaaaaaaaaaaaaaaaaaaaaaaaaaaaaaaaaaaaaaaaaaaaaaaaaaaaaaaaaaaaaaaaaaaaaaaaaaaaaaaaaaaaaaaaaaaaaaaaaaaaaaaaaaaaaaaaaaaaaaaaaaaaaaaaaaaaaaaaaaaaaaaaaaaaaaaaaaaaaaaaaaaaaaaaaaaaaaaaaaaaaaaaaaaaaaaaaaaaaaaaaaaaaaaaaaaaaaaaaaaaaaaaaaaaaaaaaaaaaaaaaaaaaaaaaaaaaaaaaaaaaaaaaaaaaaaaaaaaaaaaaaaaaaaaaaaaaaaaaaaaaaaaaaaaaaaaaaaaaaaaaaaaaaaaaaaaaaaaaaaaaaaaaaaaaaaaaaaaaaaaaaaaaaaaaaaaaaaaaaaaaaaaaaaaaaaaaaaaaaaaaaaaaaaaaaaaaaaaaaaaaaaaaaaaaaaaaaaaaaaaaaaaaaaaaaaaaaaaaaaaaaaaaaaaaaaaaaaaaaaaaaaaaaaaaaaaaaaaaaaaaaaaaaaaaaaaaaaaaaaaaaaaaaaaaaaaaaaaaaaaaaaaaaaaaaaaaaaaaaaaaaaaaaaaaaaaaaaaaaaaaaaaaaaaaaaaaaaaaaaaaaaaaaaaaaaaaaaaaaaaaaaaaaaaaaaaaaaaaaaaaaaaaaaaaaaaaaaaaaaaaaaaaaaaaaaaaaaaaaaaaaaaaaaaaaaaaaaaaaaaaaaaaaaaaaaaaaaaaaaaaaaaaaaaaaaaaaaaaaaaaaaaaaaaaaaaaaaaaaaaaaaaaaaaaaaaaaaaaaaaaaaaaaaaaaaaaaaaaaaaaaaaaaaaaaaaaaaaaaaaaaaaaaaaaaaaaaaaaaaaaaaaaaaaaaaaaaaaaaaaaaaaaaaaaaaaaaaaaaaaaaaaaaaaaaaaaaaaaaaaaaaaaaaaaaaaaaaaaaaaaaaaaaaaaaaaaaaaaaaaaaaaaaaaaaaaaaaaaaaaaaaaaaaaaaaaaaaaaaaaaaaaaaaaaaaaaaaaaaaaaaaaaaaaaaaaaaaaaaaaaaaaaaaaaaaaaaaaaaaaaaaaaaaaaaaaaaaaaaaaaaaaaaaaaaaaaaaaaaaaaaaaaaaaaaaaaaaaaaaaaaaaaaaaaaaaaaaaaaaaaaaaaaaaaaaaaaaaaaaaaaaaaaaaaaaaaaaaaaaaaaaaaaaaaaaaaaaaaaaaaaaaaaaaaaaaaaaaaaaaaaaaaaaaaaaaaaaaaaaaaaaaaaaaaaaaaaaaaaaaaaaaaaaaaaaaaaaaaaaaaaaaaaaaaaaaaaaaaaaaaaaaaaaaaaaaaaaaaaaaaaaaaaaaaaaaaaaaaaaaaaaaaaaaaaaaaaaaaaaaaaaaaaaaaaaaaaaaaaaaaaaaaaaaaaaaaaaaaaaaaaaaaaaaaaaaaaaaaaaaaaaaaaaaaaaaaaaaaaaaaaaaaaaaaaaaaaaaaaaaaaaaaaaaaaaaaaaaaaaaaaaaaaaaaaaaaaaaaaaaaaaaaaaaaaaaaaaaaaaaaaaaaaaaaaaaaaaaaaaaaaaaaaaaaaaaaaaaaaaaaaaaaaaaaaaaaaaaaaaaaaaaaaaaaaaaaaaaaaaaaaaaaaaaaaaaaaaaaaaaaaaaaaaaaaaaaaaaaaaaaaaaaaaaaaaaaaaaaaaaaaaaaaaaaaaaaaaaaaaaaaaaaaaaaaaaaaaaaaaaaaaaaaaaaaaaaaaaaaaaaaaaaaaaaaaaaaaaaaaaaaaaaaaaaaaaaaaaaaaaaaaaaaaaaaaaaaaaaaaaaaaaaaaaaaaaaaaaaaaaaaaaaaaaaaaaaaaaaaaaaaaaaaaaaaaaaaaaaaaaaaaaaaaaaaaaaaaaaaaaaaaaaaaaaaaaaaaaaaaaaaaaaaaaaaaaaaaaaaaaaaaaaaaaaaaaaaaaaaaaaaaaaaaaaaaaaaaaaaaaaaaaaaaaaaaaaaaaaaaaaaaaaaaaaaaaaaaaaaaaaaaaaaaaaaaaaaaaaaaaaaaaaaaaaaaaaaaaaaaaaaaaaaaaaaaaaaaaaaaaaaaaaaaaaaaaaaaaaaaaaaaaaaaaaaaaaaaaaaaaaaaaaaaaaaaaaaaaaaaaaaaaaaaaaaaaaaaaaaaaaaaaaaaaaaaaaaaaaaaaaaaaaaaaaaaaaaaaaaaaaaaaaaaaaaaaaaaaaa\""
   ]
  },
  {
   "cell_type": "code",
   "execution_count": 84,
   "metadata": {
    "scrolled": false
   },
   "outputs": [
    {
     "data": {
      "text/plain": [
       "[0, 10001]"
      ]
     },
     "execution_count": 84,
     "metadata": {},
     "output_type": "execute_result"
    }
   ],
   "source": [
    "findAnagrams1(a,b)"
   ]
  },
  {
   "cell_type": "code",
   "execution_count": 85,
   "metadata": {
    "scrolled": true
   },
   "outputs": [
    {
     "data": {
      "text/plain": [
       "[0,\n",
       " 1,\n",
       " 2,\n",
       " 3,\n",
       " 4,\n",
       " 5,\n",
       " 6,\n",
       " 7,\n",
       " 8,\n",
       " 9,\n",
       " 10,\n",
       " 11,\n",
       " 12,\n",
       " 13,\n",
       " 14,\n",
       " 15,\n",
       " 16,\n",
       " 17,\n",
       " 18,\n",
       " 19,\n",
       " 20,\n",
       " 21,\n",
       " 22,\n",
       " 23,\n",
       " 24,\n",
       " 25,\n",
       " 26,\n",
       " 27,\n",
       " 28,\n",
       " 29,\n",
       " 30,\n",
       " 31,\n",
       " 32,\n",
       " 33,\n",
       " 34,\n",
       " 35,\n",
       " 36,\n",
       " 37,\n",
       " 38,\n",
       " 39,\n",
       " 40,\n",
       " 41,\n",
       " 42,\n",
       " 43,\n",
       " 44,\n",
       " 45,\n",
       " 46,\n",
       " 47,\n",
       " 48,\n",
       " 49,\n",
       " 50,\n",
       " 51,\n",
       " 52,\n",
       " 53,\n",
       " 54,\n",
       " 55,\n",
       " 56,\n",
       " 57,\n",
       " 58,\n",
       " 59,\n",
       " 60,\n",
       " 61,\n",
       " 62,\n",
       " 63,\n",
       " 64,\n",
       " 65,\n",
       " 66,\n",
       " 67,\n",
       " 68,\n",
       " 69,\n",
       " 70,\n",
       " 71,\n",
       " 72,\n",
       " 73,\n",
       " 74,\n",
       " 75,\n",
       " 76,\n",
       " 77,\n",
       " 78,\n",
       " 79,\n",
       " 80,\n",
       " 81,\n",
       " 82,\n",
       " 83,\n",
       " 84,\n",
       " 85,\n",
       " 86,\n",
       " 87,\n",
       " 88,\n",
       " 89,\n",
       " 90,\n",
       " 91,\n",
       " 92,\n",
       " 93,\n",
       " 94,\n",
       " 95,\n",
       " 96,\n",
       " 97,\n",
       " 98,\n",
       " 99,\n",
       " 100,\n",
       " 101,\n",
       " 102,\n",
       " 103,\n",
       " 104,\n",
       " 105,\n",
       " 106,\n",
       " 107,\n",
       " 108,\n",
       " 109,\n",
       " 110,\n",
       " 111,\n",
       " 112,\n",
       " 113,\n",
       " 114,\n",
       " 115,\n",
       " 116,\n",
       " 117,\n",
       " 118,\n",
       " 119,\n",
       " 120,\n",
       " 121,\n",
       " 122,\n",
       " 123,\n",
       " 124,\n",
       " 125,\n",
       " 126,\n",
       " 127,\n",
       " 128,\n",
       " 129,\n",
       " 130,\n",
       " 131,\n",
       " 132,\n",
       " 133,\n",
       " 134,\n",
       " 135,\n",
       " 136,\n",
       " 137,\n",
       " 138,\n",
       " 139,\n",
       " 140,\n",
       " 141,\n",
       " 142,\n",
       " 143,\n",
       " 144,\n",
       " 145,\n",
       " 146,\n",
       " 147,\n",
       " 148,\n",
       " 149,\n",
       " 150,\n",
       " 151,\n",
       " 152,\n",
       " 153,\n",
       " 154,\n",
       " 155,\n",
       " 156,\n",
       " 157,\n",
       " 158,\n",
       " 159,\n",
       " 160,\n",
       " 161,\n",
       " 162,\n",
       " 163,\n",
       " 164,\n",
       " 165,\n",
       " 166,\n",
       " 167,\n",
       " 168,\n",
       " 169,\n",
       " 170,\n",
       " 171,\n",
       " 172,\n",
       " 173,\n",
       " 174,\n",
       " 175,\n",
       " 176,\n",
       " 177,\n",
       " 178,\n",
       " 179,\n",
       " 180,\n",
       " 181,\n",
       " 182,\n",
       " 183,\n",
       " 184,\n",
       " 185,\n",
       " 186,\n",
       " 187,\n",
       " 188,\n",
       " 189,\n",
       " 190,\n",
       " 191,\n",
       " 192,\n",
       " 193,\n",
       " 194,\n",
       " 195,\n",
       " 196,\n",
       " 197,\n",
       " 198,\n",
       " 199,\n",
       " 200,\n",
       " 201,\n",
       " 202,\n",
       " 203,\n",
       " 204,\n",
       " 205,\n",
       " 206,\n",
       " 207,\n",
       " 208,\n",
       " 209,\n",
       " 210,\n",
       " 211,\n",
       " 212,\n",
       " 213,\n",
       " 214,\n",
       " 215,\n",
       " 216,\n",
       " 217,\n",
       " 218,\n",
       " 219,\n",
       " 220,\n",
       " 221,\n",
       " 222,\n",
       " 223,\n",
       " 224,\n",
       " 225,\n",
       " 226,\n",
       " 227,\n",
       " 228,\n",
       " 229,\n",
       " 230,\n",
       " 231,\n",
       " 232,\n",
       " 233,\n",
       " 234,\n",
       " 235,\n",
       " 236,\n",
       " 237,\n",
       " 238,\n",
       " 239,\n",
       " 240,\n",
       " 241,\n",
       " 242,\n",
       " 243,\n",
       " 244,\n",
       " 245,\n",
       " 246,\n",
       " 247,\n",
       " 248,\n",
       " 249,\n",
       " 250,\n",
       " 251,\n",
       " 252,\n",
       " 253,\n",
       " 254,\n",
       " 255,\n",
       " 256,\n",
       " 257,\n",
       " 258,\n",
       " 259,\n",
       " 260,\n",
       " 261,\n",
       " 262,\n",
       " 263,\n",
       " 264,\n",
       " 265,\n",
       " 266,\n",
       " 267,\n",
       " 268,\n",
       " 269,\n",
       " 270,\n",
       " 271,\n",
       " 272,\n",
       " 273,\n",
       " 274,\n",
       " 275,\n",
       " 276,\n",
       " 277,\n",
       " 278,\n",
       " 279,\n",
       " 280,\n",
       " 281,\n",
       " 282,\n",
       " 283,\n",
       " 284,\n",
       " 285,\n",
       " 286,\n",
       " 287,\n",
       " 288,\n",
       " 289,\n",
       " 290,\n",
       " 291,\n",
       " 292,\n",
       " 293,\n",
       " 294,\n",
       " 295,\n",
       " 296,\n",
       " 297,\n",
       " 298,\n",
       " 299,\n",
       " 300,\n",
       " 301,\n",
       " 302,\n",
       " 303,\n",
       " 304,\n",
       " 305,\n",
       " 306,\n",
       " 307,\n",
       " 308,\n",
       " 309,\n",
       " 310,\n",
       " 311,\n",
       " 312,\n",
       " 313,\n",
       " 314,\n",
       " 315,\n",
       " 316,\n",
       " 317,\n",
       " 318,\n",
       " 319,\n",
       " 320,\n",
       " 321,\n",
       " 322,\n",
       " 323,\n",
       " 324,\n",
       " 325,\n",
       " 326,\n",
       " 327,\n",
       " 328,\n",
       " 329,\n",
       " 330,\n",
       " 331,\n",
       " 332,\n",
       " 333,\n",
       " 334,\n",
       " 335,\n",
       " 336,\n",
       " 337,\n",
       " 338,\n",
       " 339,\n",
       " 340,\n",
       " 341,\n",
       " 342,\n",
       " 343,\n",
       " 344,\n",
       " 345,\n",
       " 346,\n",
       " 347,\n",
       " 348,\n",
       " 349,\n",
       " 350,\n",
       " 351,\n",
       " 352,\n",
       " 353,\n",
       " 354,\n",
       " 355,\n",
       " 356,\n",
       " 357,\n",
       " 358,\n",
       " 359,\n",
       " 360,\n",
       " 361,\n",
       " 362,\n",
       " 363,\n",
       " 364,\n",
       " 365,\n",
       " 366,\n",
       " 367,\n",
       " 368,\n",
       " 369,\n",
       " 370,\n",
       " 371,\n",
       " 372,\n",
       " 373,\n",
       " 374,\n",
       " 375,\n",
       " 376,\n",
       " 377,\n",
       " 378,\n",
       " 379,\n",
       " 380,\n",
       " 381,\n",
       " 382,\n",
       " 383,\n",
       " 384,\n",
       " 385,\n",
       " 386,\n",
       " 387,\n",
       " 388,\n",
       " 389,\n",
       " 390,\n",
       " 391,\n",
       " 392,\n",
       " 393,\n",
       " 394,\n",
       " 395,\n",
       " 396,\n",
       " 397,\n",
       " 398,\n",
       " 399,\n",
       " 400,\n",
       " 401,\n",
       " 402,\n",
       " 403,\n",
       " 404,\n",
       " 405,\n",
       " 406,\n",
       " 407,\n",
       " 408,\n",
       " 409,\n",
       " 410,\n",
       " 411,\n",
       " 412,\n",
       " 413,\n",
       " 414,\n",
       " 415,\n",
       " 416,\n",
       " 417,\n",
       " 418,\n",
       " 419,\n",
       " 420,\n",
       " 421,\n",
       " 422,\n",
       " 423,\n",
       " 424,\n",
       " 425,\n",
       " 426,\n",
       " 427,\n",
       " 428,\n",
       " 429,\n",
       " 430,\n",
       " 431,\n",
       " 432,\n",
       " 433,\n",
       " 434,\n",
       " 435,\n",
       " 436,\n",
       " 437,\n",
       " 438,\n",
       " 439,\n",
       " 440,\n",
       " 441,\n",
       " 442,\n",
       " 443,\n",
       " 444,\n",
       " 445,\n",
       " 446,\n",
       " 447,\n",
       " 448,\n",
       " 449,\n",
       " 450,\n",
       " 451,\n",
       " 452,\n",
       " 453,\n",
       " 454,\n",
       " 455,\n",
       " 456,\n",
       " 457,\n",
       " 458,\n",
       " 459,\n",
       " 460,\n",
       " 461,\n",
       " 462,\n",
       " 463,\n",
       " 464,\n",
       " 465,\n",
       " 466,\n",
       " 467,\n",
       " 468,\n",
       " 469,\n",
       " 470,\n",
       " 471,\n",
       " 472,\n",
       " 473,\n",
       " 474,\n",
       " 475,\n",
       " 476,\n",
       " 477,\n",
       " 478,\n",
       " 479,\n",
       " 480,\n",
       " 481,\n",
       " 482,\n",
       " 483,\n",
       " 484,\n",
       " 485,\n",
       " 486,\n",
       " 487,\n",
       " 488,\n",
       " 489,\n",
       " 490,\n",
       " 491,\n",
       " 492,\n",
       " 493,\n",
       " 494,\n",
       " 495,\n",
       " 496,\n",
       " 497,\n",
       " 498,\n",
       " 499,\n",
       " 500,\n",
       " 501,\n",
       " 502,\n",
       " 503,\n",
       " 504,\n",
       " 505,\n",
       " 506,\n",
       " 507,\n",
       " 508,\n",
       " 509,\n",
       " 510,\n",
       " 511,\n",
       " 512,\n",
       " 513,\n",
       " 514,\n",
       " 515,\n",
       " 516,\n",
       " 517,\n",
       " 518,\n",
       " 519,\n",
       " 520,\n",
       " 521,\n",
       " 522,\n",
       " 523,\n",
       " 524,\n",
       " 525,\n",
       " 526,\n",
       " 527,\n",
       " 528,\n",
       " 529,\n",
       " 530,\n",
       " 531,\n",
       " 532,\n",
       " 533,\n",
       " 534,\n",
       " 535,\n",
       " 536,\n",
       " 537,\n",
       " 538,\n",
       " 539,\n",
       " 540,\n",
       " 541,\n",
       " 542,\n",
       " 543,\n",
       " 544,\n",
       " 545,\n",
       " 546,\n",
       " 547,\n",
       " 548,\n",
       " 549,\n",
       " 550,\n",
       " 551,\n",
       " 552,\n",
       " 553,\n",
       " 554,\n",
       " 555,\n",
       " 556,\n",
       " 557,\n",
       " 558,\n",
       " 559,\n",
       " 560,\n",
       " 561,\n",
       " 562,\n",
       " 563,\n",
       " 564,\n",
       " 565,\n",
       " 566,\n",
       " 567,\n",
       " 568,\n",
       " 569,\n",
       " 570,\n",
       " 571,\n",
       " 572,\n",
       " 573,\n",
       " 574,\n",
       " 575,\n",
       " 576,\n",
       " 577,\n",
       " 578,\n",
       " 579,\n",
       " 580,\n",
       " 581,\n",
       " 582,\n",
       " 583,\n",
       " 584,\n",
       " 585,\n",
       " 586,\n",
       " 587,\n",
       " 588,\n",
       " 589,\n",
       " 590,\n",
       " 591,\n",
       " 592,\n",
       " 593,\n",
       " 594,\n",
       " 595,\n",
       " 596,\n",
       " 597,\n",
       " 598,\n",
       " 599,\n",
       " 600,\n",
       " 601,\n",
       " 602,\n",
       " 603,\n",
       " 604,\n",
       " 605,\n",
       " 606,\n",
       " 607,\n",
       " 608,\n",
       " 609,\n",
       " 610,\n",
       " 611,\n",
       " 612,\n",
       " 613,\n",
       " 614,\n",
       " 615,\n",
       " 616,\n",
       " 617,\n",
       " 618,\n",
       " 619,\n",
       " 620,\n",
       " 621,\n",
       " 622,\n",
       " 623,\n",
       " 624,\n",
       " 625,\n",
       " 626,\n",
       " 627,\n",
       " 628,\n",
       " 629,\n",
       " 630,\n",
       " 631,\n",
       " 632,\n",
       " 633,\n",
       " 634,\n",
       " 635,\n",
       " 636,\n",
       " 637,\n",
       " 638,\n",
       " 639,\n",
       " 640,\n",
       " 641,\n",
       " 642,\n",
       " 643,\n",
       " 644,\n",
       " 645,\n",
       " 646,\n",
       " 647,\n",
       " 648,\n",
       " 649,\n",
       " 650,\n",
       " 651,\n",
       " 652,\n",
       " 653,\n",
       " 654,\n",
       " 655,\n",
       " 656,\n",
       " 657,\n",
       " 658,\n",
       " 659,\n",
       " 660,\n",
       " 661,\n",
       " 662,\n",
       " 663,\n",
       " 664,\n",
       " 665,\n",
       " 666,\n",
       " 667,\n",
       " 668,\n",
       " 669,\n",
       " 670,\n",
       " 671,\n",
       " 672,\n",
       " 673,\n",
       " 674,\n",
       " 675,\n",
       " 676,\n",
       " 677,\n",
       " 678,\n",
       " 679,\n",
       " 680,\n",
       " 681,\n",
       " 682,\n",
       " 683,\n",
       " 684,\n",
       " 685,\n",
       " 686,\n",
       " 687,\n",
       " 688,\n",
       " 689,\n",
       " 690,\n",
       " 691,\n",
       " 692,\n",
       " 693,\n",
       " 694,\n",
       " 695,\n",
       " 696,\n",
       " 697,\n",
       " 698,\n",
       " 699,\n",
       " 700,\n",
       " 701,\n",
       " 702,\n",
       " 703,\n",
       " 704,\n",
       " 705,\n",
       " 706,\n",
       " 707,\n",
       " 708,\n",
       " 709,\n",
       " 710,\n",
       " 711,\n",
       " 712,\n",
       " 713,\n",
       " 714,\n",
       " 715,\n",
       " 716,\n",
       " 717,\n",
       " 718,\n",
       " 719,\n",
       " 720,\n",
       " 721,\n",
       " 722,\n",
       " 723,\n",
       " 724,\n",
       " 725,\n",
       " 726,\n",
       " 727,\n",
       " 728,\n",
       " 729,\n",
       " 730,\n",
       " 731,\n",
       " 732,\n",
       " 733,\n",
       " 734,\n",
       " 735,\n",
       " 736,\n",
       " 737,\n",
       " 738,\n",
       " 739,\n",
       " 740,\n",
       " 741,\n",
       " 742,\n",
       " 743,\n",
       " 744,\n",
       " 745,\n",
       " 746,\n",
       " 747,\n",
       " 748,\n",
       " 749,\n",
       " 750,\n",
       " 751,\n",
       " 752,\n",
       " 753,\n",
       " 754,\n",
       " 755,\n",
       " 756,\n",
       " 757,\n",
       " 758,\n",
       " 759,\n",
       " 760,\n",
       " 761,\n",
       " 762,\n",
       " 763,\n",
       " 764,\n",
       " 765,\n",
       " 766,\n",
       " 767,\n",
       " 768,\n",
       " 769,\n",
       " 770,\n",
       " 771,\n",
       " 772,\n",
       " 773,\n",
       " 774,\n",
       " 775,\n",
       " 776,\n",
       " 777,\n",
       " 778,\n",
       " 779,\n",
       " 780,\n",
       " 781,\n",
       " 782,\n",
       " 783,\n",
       " 784,\n",
       " 785,\n",
       " 786,\n",
       " 787,\n",
       " 788,\n",
       " 789,\n",
       " 790,\n",
       " 791,\n",
       " 792,\n",
       " 793,\n",
       " 794,\n",
       " 795,\n",
       " 796,\n",
       " 797,\n",
       " 798,\n",
       " 799,\n",
       " 800,\n",
       " 801,\n",
       " 802,\n",
       " 803,\n",
       " 804,\n",
       " 805,\n",
       " 806,\n",
       " 807,\n",
       " 808,\n",
       " 809,\n",
       " 810,\n",
       " 811,\n",
       " 812,\n",
       " 813,\n",
       " 814,\n",
       " 815,\n",
       " 816,\n",
       " 817,\n",
       " 818,\n",
       " 819,\n",
       " 820,\n",
       " 821,\n",
       " 822,\n",
       " 823,\n",
       " 824,\n",
       " 825,\n",
       " 826,\n",
       " 827,\n",
       " 828,\n",
       " 829,\n",
       " 830,\n",
       " 831,\n",
       " 832,\n",
       " 833,\n",
       " 834,\n",
       " 835,\n",
       " 836,\n",
       " 837,\n",
       " 838,\n",
       " 839,\n",
       " 840,\n",
       " 841,\n",
       " 842,\n",
       " 843,\n",
       " 844,\n",
       " 845,\n",
       " 846,\n",
       " 847,\n",
       " 848,\n",
       " 849,\n",
       " 850,\n",
       " 851,\n",
       " 852,\n",
       " 853,\n",
       " 854,\n",
       " 855,\n",
       " 856,\n",
       " 857,\n",
       " 858,\n",
       " 859,\n",
       " 860,\n",
       " 861,\n",
       " 862,\n",
       " 863,\n",
       " 864,\n",
       " 865,\n",
       " 866,\n",
       " 867,\n",
       " 868,\n",
       " 869,\n",
       " 870,\n",
       " 871,\n",
       " 872,\n",
       " 873,\n",
       " 874,\n",
       " 875,\n",
       " 876,\n",
       " 877,\n",
       " 878,\n",
       " 879,\n",
       " 880,\n",
       " 881,\n",
       " 882,\n",
       " 883,\n",
       " 884,\n",
       " 885,\n",
       " 886,\n",
       " 887,\n",
       " 888,\n",
       " 889,\n",
       " 890,\n",
       " 891,\n",
       " 892,\n",
       " 893,\n",
       " 894,\n",
       " 895,\n",
       " 896,\n",
       " 897,\n",
       " 898,\n",
       " 899,\n",
       " 900,\n",
       " 901,\n",
       " 902,\n",
       " 903,\n",
       " 904,\n",
       " 905,\n",
       " 906,\n",
       " 907,\n",
       " 908,\n",
       " 909,\n",
       " 910,\n",
       " 911,\n",
       " 912,\n",
       " 913,\n",
       " 914,\n",
       " 915,\n",
       " 916,\n",
       " 917,\n",
       " 918,\n",
       " 919,\n",
       " 920,\n",
       " 921,\n",
       " 922,\n",
       " 923,\n",
       " 924,\n",
       " 925,\n",
       " 926,\n",
       " 927,\n",
       " 928,\n",
       " 929,\n",
       " 930,\n",
       " 931,\n",
       " 932,\n",
       " 933,\n",
       " 934,\n",
       " 935,\n",
       " 936,\n",
       " 937,\n",
       " 938,\n",
       " 939,\n",
       " 940,\n",
       " 941,\n",
       " 942,\n",
       " 943,\n",
       " 944,\n",
       " 945,\n",
       " 946,\n",
       " 947,\n",
       " 948,\n",
       " 949,\n",
       " 950,\n",
       " 951,\n",
       " 952,\n",
       " 953,\n",
       " 954,\n",
       " 955,\n",
       " 956,\n",
       " 957,\n",
       " 958,\n",
       " 959,\n",
       " 960,\n",
       " 961,\n",
       " 962,\n",
       " 963,\n",
       " 964,\n",
       " 965,\n",
       " 966,\n",
       " 967,\n",
       " 968,\n",
       " 969,\n",
       " 970,\n",
       " 971,\n",
       " 972,\n",
       " 973,\n",
       " 974,\n",
       " 975,\n",
       " 976,\n",
       " 977,\n",
       " 978,\n",
       " 979,\n",
       " 980,\n",
       " 981,\n",
       " 982,\n",
       " 983,\n",
       " 984,\n",
       " 985,\n",
       " 986,\n",
       " 987,\n",
       " 988,\n",
       " 989,\n",
       " 990,\n",
       " 991,\n",
       " 992,\n",
       " 993,\n",
       " 994,\n",
       " 995,\n",
       " 996,\n",
       " 997,\n",
       " 998,\n",
       " 999,\n",
       " ...]"
      ]
     },
     "execution_count": 85,
     "metadata": {},
     "output_type": "execute_result"
    }
   ],
   "source": [
    "findAnagrams1(\"abcdefghijklmnopqrstuvwxyzabcdefghijklmnopqrstuvwxyzabcdefghijklmnopqrstuvwxyzabcdefghijklmnopqrstuvwxyzabcdefghijklmnopqrstuvwxyzabcdefghijklmnopqrstuvwxyzabcdefghijklmnopqrstuvwxyzabcdefghijklmnopqrstuvwxyzabcdefghijklmnopqrstuvwxyzabcdefghijklmnopqrstuvwxyzabcdefghijklmnopqrstuvwxyzabcdefghijklmnopqrstuvwxyzabcdefghijklmnopqrstuvwxyzabcdefghijklmnopqrstuvwxyzabcdefghijklmnopqrstuvwxyzabcdefghijklmnopqrstuvwxyzabcdefghijklmnopqrstuvwxyzabcdefghijklmnopqrstuvwxyzabcdefghijklmnopqrstuvwxyzabcdefghijklmnopqrstuvwxyzabcdefghijklmnopqrstuvwxyzabcdefghijklmnopqrstuvwxyzabcdefghijklmnopqrstuvwxyzabcdefghijklmnopqrstuvwxyzabcdefghijklmnopqrstuvwxyzabcdefghijklmnopqrstuvwxyzabcdefghijklmnopqrstuvwxyzabcdefghijklmnopqrstuvwxyzabcdefghijklmnopqrstuvwxyzabcdefghijklmnopqrstuvwxyzabcdefghijklmnopqrstuvwxyzabcdefghijklmnopqrstuvwxyzabcdefghijklmnopqrstuvwxyzabcdefghijklmnopqrstuvwxyzabcdefghijklmnopqrstuvwxyzabcdefghijklmnopqrstuvwxyzabcdefghijklmnopqrstuvwxyzabcdefghijklmnopqrstuvwxyzabcdefghijklmnopqrstuvwxyzabcdefghijklmnopqrstuvwxyzabcdefghijklmnopqrstuvwxyzabcdefghijklmnopqrstuvwxyzabcdefghijklmnopqrstuvwxyzabcdefghijklmnopqrstuvwxyzabcdefghijklmnopqrstuvwxyzabcdefghijklmnopqrstuvwxyzabcdefghijklmnopqrstuvwxyzabcdefghijklmnopqrstuvwxyzabcdefghijklmnopqrstuvwxyzabcdefghijklmnopqrstuvwxyzabcdefghijklmnopqrstuvwxyzabcdefghijklmnopqrstuvwxyzabcdefghijklmnopqrstuvwxyzabcdefghijklmnopqrstuvwxyzabcdefghijklmnopqrstuvwxyzabcdefghijklmnopqrstuvwxyzabcdefghijklmnopqrstuvwxyzabcdefghijklmnopqrstuvwxyzabcdefghijklmnopqrstuvwxyzabcdefghijklmnopqrstuvwxyzabcdefghijklmnopqrstuvwxyzabcdefghijklmnopqrstuvwxyzabcdefghijklmnopqrstuvwxyzabcdefghijklmnopqrstuvwxyzabcdefghijklmnopqrstuvwxyzabcdefghijklmnopqrstuvwxyzabcdefghijklmnopqrstuvwxyzabcdefghijklmnopqrstuvwxyzabcdefghijklmnopqrstuvwxyzabcdefghijklmnopqrstuvwxyzabcdefghijklmnopqrstuvwxyzabcdefghijklmnopqrstuvwxyzabcdefghijklmnopqrstuvwxyzabcdefghijklmnopqrstuvwxyzabcdefghijklmnopqrstuvwxyzabcdefghijklmnopqrstuvwxyzabcdefghijklmnopqrstuvwxyzabcdefghijklmnopqrstuvwxyzabcdefghijklmnopqrstuvwxyzabcdefghijklmnopqrstuvwxyzabcdefghijklmnopqrstuvwxyzabcdefghijklmnopqrstuvwxyzabcdefghijklmnopqrstuvwxyzabcdefghijklmnopqrstuvwxyzabcdefghijklmnopqrstuvwxyzabcdefghijklmnopqrstuvwxyzabcdefghijklmnopqrstuvwxyzabcdefghijklmnopqrstuvwxyzabcdefghijklmnopqrstuvwxyzabcdefghijklmnopqrstuvwxyzabcdefghijklmnopqrstuvwxyzabcdefghijklmnopqrstuvwxyzabcdefghijklmnopqrstuvwxyzabcdefghijklmnopqrstuvwxyzabcdefghijklmnopqrstuvwxyzabcdefghijklmnopqrstuvwxyzabcdefghijklmnopqrstuvwxyzabcdefghijklmnopqrstuvwxyzabcdefghijklmnopqrstuvwxyzabcdefghijklmnopqrstuvwxyzabcdefghijklmnopqrstuvwxyzabcdefghijklmnopqrstuvwxyzabcdefghijklmnopqrstuvwxyzabcdefghijklmnopqrstuvwxyzabcdefghijklmnopqrstuvwxyzabcdefghijklmnopqrstuvwxyzabcdefghijklmnopqrstuvwxyzabcdefghijklmnopqrstuvwxyzabcdefghijklmnopqrstuvwxyzabcdefghijklmnopqrstuvwxyzabcdefghijklmnopqrstuvwxyzabcdefghijklmnopqrstuvwxyzabcdefghijklmnopqrstuvwxyzabcdefghijklmnopqrstuvwxyzabcdefghijklmnopqrstuvwxyzabcdefghijklmnopqrstuvwxyzabcdefghijklmnopqrstuvwxyzabcdefghijklmnopqrstuvwxyzabcdefghijklmnopqrstuvwxyzabcdefghijklmnopqrstuvwxyzabcdefghijklmnopqrstuvwxyzabcdefghijklmnopqrstuvwxyzabcdefghijklmnopqrstuvwxyzabcdefghijklmnopqrstuvwxyzabcdefghijklmnopqrstuvwxyzabcdefghijklmnopqrstuvwxyzabcdefghijklmnopqrstuvwxyzabcdefghijklmnopqrstuvwxyzabcdefghijklmnopqrstuvwxyzabcdefghijklmnopqrstuvwxyzabcdefghijklmnopqrstuvwxyzabcdefghijklmnopqrstuvwxyzabcdefghijklmnopqrstuvwxyzabcdefghijklmnopqrstuvwxyzabcdefghijklmnopqrstuvwxyzabcdefghijklmnopqrstuvwxyzabcdefghijklmnopqrstuvwxyzabcdefghijklmnopqrstuvwxyzabcdefghijklmnopqrstuvwxyzabcdefghijklmnopqrstuvwxyzabcdefghijklmnopqrstuvwxyzabcdefghijklmnopqrstuvwxyzabcdefghijklmnopqrstuvwxyzabcdefghijklmnopqrstuvwxyzabcdefghijklmnopqrstuvwxyzabcdefghijklmnopqrstuvwxyzabcdefghijklmnopqrstuvwxyzabcdefghijklmnopqrstuvwxyzabcdefghijklmnopqrstuvwxyzabcdefghijklmnopqrstuvwxyzabcdefghijklmnopqrstuvwxyzabcdefghijklmnopqrstuvwxyzabcdefghijklmnopqrstuvwxyzabcdefghijklmnopqrstuvwxyzabcdefghijklmnopqrstuvwxyzabcdefghijklmnopqrstuvwxyzabcdefghijklmnopqrstuvwxyzabcdefghijklmnopqrstuvwxyzabcdefghijklmnopqrstuvwxyzabcdefghijklmnopqrstuvwxyzabcdefghijklmnopqrstuvwxyzabcdefghijklmnopqrstuvwxyzabcdefghijklmnopqrstuvwxyzabcdefghijklmnopqrstuvwxyzabcdefghijklmnopqrstuvwxyzabcdefghijklmnopqrstuvwxyzabcdefghijklmnopqrstuvwxyzabcdefghijklmnopqrstuvwxyzabcdefghijklmnopqrstuvwxyzabcdefghijklmnopqrstuvwxyzabcdefghijklmnopqrstuvwxyzabcdefghijklmnopqrstuvwxyzabcdefghijklmnopqrstuvwxyzabcdefghijklmnopqrstuvwxyzabcdefghijklmnopqrstuvwxyzabcdefghijklmnopqrstuvwxyzabcdefghijklmnopqrstuvwxyzabcdefghijklmnopqrstuvwxyzabcdefghijklmnopqrstuvwxyzabcdefghijklmnopqrstuvwxyzabcdefghijklmnopqrstuvwxyzabcdefghijklmnopqrstuvwxyzabcdefghijklmnopqrstuvwxyzabcdefghijklmnopqrstuvwxyzabcdefghijklmnopqrstuvwxyzabcdefghijklmnopqrstuvwxyzabcdefghijklmnopqrstuvwxyzabcdefghijklmnopqrstuvwxyzabcdefghijklmnopqrstuvwxyzabcdefghijklmnopqrstuvwxyzabcdefghijklmnopqrstuvwxyzabcdefghijklmnopqrstuvwxyzabcdefghijklmnopqrstuvwxyzabcdefghijklmnopqrstuvwxyzabcdefghijklmnopqrstuvwxyzabcdefghijklmnopqrstuvwxyzabcdefghijklmnopqrstuvwxyzabcdefghijklmnopqrstuvwxyzabcdefghijklmnopqrstuvwxyzabcdefghijklmnopqrstuvwxyzabcdefghijklmnopqrstuvwxyzabcdefghijklmnopqrstuvwxyzabcdefghijklmnopqrstuvwxyzabcdefghijklmnopqrstuvwxyzabcdefghijklmnopqrstuvwxyzabcdefghijklmnopqrstuvwxyzabcdefghijklmnopqrstuvwxyzabcdefghijklmnopqrstuvwxyzabcdefghijklmnopqrstuvwxyzabcdefghijklmnopqrstuvwxyzabcdefghijklmnopqrstuvwxyzabcdefghijklmnopqrstuvwxyzabcdefghijklmnopqrstuvwxyzabcdefghijklmnopqrstuvwxyzabcdefghijklmnopqrstuvwxyzabcdefghijklmnopqrstuvwxyzabcdefghijklmnopqrstuvwxyzabcdefghijklmnopqrstuvwxyzabcdefghijklmnopqrstuvwxyzabcdefghijklmnopqrstuvwxyzabcdefghijklmnopqrstuvwxyzabcdefghijklmnopqrstuvwxyzabcdefghijklmnopqrstuvwxyzabcdefghijklmnopqrstuvwxyzabcdefghijklmnopqrstuvwxyzabcdefghijklmnopqrstuvwxyzabcdefghijklmnopqrstuvwxyzabcdefghijklmnopqrstuvwxyzabcdefghijklmnopqrstuvwxyzabcdefghijklmnopqrstuvwxyzabcdefghijklmnopqrstuvwxyzabcdefghijklmnopqrstuvwxyzabcdefghijklmnopqrstuvwxyzabcdefghijklmnopqrstuvwxyzabcdefghijklmnopqrstuvwxyzabcdefghijklmnopqrstuvwxyzabcdefghijklmnopqrstuvwxyzabcdefghijklmnopqrstuvwxyzabcdefghijklmnopqrstuvwxyzabcdefghijklmnopqrstuvwxyzabcdefghijklmnopqrstuvwxyzabcdefghijklmnopqrstuvwxyzabcdefghijklmnopqrstuvwxyzabcdefghijklmnopqrstuvwxyzabcdefghijklmnopqrstuvwxyzabcdefghijklmnopqrstuvwxyzabcdefghijklmnopqrstuvwxyzabcdefghijklmnopqrstuvwxyzabcdefghijklmnopqrstuvwxyzabcdefghijklmnopqrstuvwxyzabcdefghijklmnopqrstuvwxyzabcdefghijklmnopqrstuvwxyzabcdefghijklmnopqrstuvwxyzabcdefghijklmnopqrstuvwxyzabcdefghijklmnopqrstuvwxyzabcdefghijklmnopqrstuvwxyzabcdefghijklmnopqrstuvwxyzabcdefghijklmnopqrstuvwxyzabcdefghijklmnopqrstuvwxyzabcdefghijklmnopqrstuvwxyzabcdefghijklmnopqrstuvwxyzabcdefghijklmnopqrstuvwxyzabcdefghijklmnopqrstuvwxyzabcdefghijklmnopqrstuvwxyzabcdefghijklmnopqrstuvwxyzabcdefghijklmnopqrstuvwxyzabcdefghijklmnopqrstuvwxyzabcdefghijklmnopqrstuvwxyzabcdefghijklmnopqrstuvwxyzabcdefghijklmnopqrstuvwxyzabcdefghijklmnopqrstuvwxyzabcdefghijklmnopqrstuvwxyzabcdefghijklmnopqrstuvwxyzabcdefghijklmnopqrstuvwxyzabcdefghijklmnopqrstuvwxyzabcdefghijklmnopqrstuvwxyzabcdefghijklmnopqrstuvwxyzabcdefghijklmnopqrstuvwxyzabcdefghijklmnopqrstuvwxyzabcdefghijklmnopqrstuvwxyzabcdefghijklmnopqrstuvwxyzabcdefghijklmnopqrstuvwxyzabcdefghijklmnopqrstuvwxyzabcdefghijklmnopqrstuvwxyzabcdefghijklmnopqrstuvwxyzabcdefghijklmnopqrstuvwxyzabcdefghijklmnopqrstuvwxyzabcdefghijklmnopqrstuvwxyzabcdefghijklmnopqrstuvwxyzabcdefghijklmnopqrstuvwxyzabcdefghijklmnopqrstuvwxyzabcdefghijklmnopqrstuvwxyzabcdefghijklmnopqrstuvwxyzabcdefghijklmnopqrstuvwxyzabcdefghijklmnopqrstuvwxyzabcdefghijklmnopqrstuvwxyzabcdefghijklmnopqrstuvwxyzabcdefghijklmnopqrstuvwxyzabcdefghijklmnopqrstuvwxyzabcdefghijklmnopqrstuvwxyzabcdefghijklmnopqrstuvwxyzabcdefghijklmnopqrstuvwxyzabcdefghijklmnopqrstuvwxyzabcdefghijklmnopqrstuvwxyzabcdefghijklmnopqrstuvwxyzabcdefghijklmnopqrstuvwxyzabcdefghijklmnopqrstuvwxyzabcdefghijklmnopqrstuvwxyzabcdefghijklmnopqrstuvwxyzabcdefghijklmnopqrstuvwxyzabcdefghijklmnopqrstuvwxyzabcdefghijklmnopqrstuvwxyzabcdefghijklmnopqrstuvwxyzabcdefghijklmnopqrstuvwxyzabcdefghijklmnopqrstuvwxyzabcdefghijklmnopqrstuvwxyzabcdefghijklmnopqrstuvwxyzabcdefghijklmnopqrstuvwxyzabcdefghijklmnopqrstuvwxyzabcdefghijklmnopqrstuvwxyzabcdefghijklmnopqrstuvwxyzabcdefghijklmnopqrstuvwxyzabcdefghijklmnopqrstuvwxyzabcdefghijklmnopqrstuvwxyzabcdefghijklmnopqrstuvwxyzabcdefghijklmnopqrstuvwxyzabcdefghijklmnopqrstuvwxyzabcdefghijklmnopqrstuvwxyzabcdefghijklmnopqrstuvwxyzabcdefghijklmnopqrstuvwxyzabcdefghijklmnopqrstuvwxyzabcdefghijklmnopqrstuvwxyzabcdefghijklmnopqrstuvwxyzabcdefghijklmnopqrstuvwxyzabcdefghijklmnopqrstuvwxyzabcdefghijklmnopqrstuvwxyzabcdefghijklmnopqrstuvwxyzabcdefghijklmnopqrstuvwxyzabcdefghijklmnopqrstuvwxyzabcdefghijklmnopqrstuvwxyzabcdefghijklmnopqrstuvwxyzabcdefghijklmnopqrstuvwxyzabcdefghijklmnopqrstuvwxyzabcdefghijklmnopqrstuvwxyzabcdefghijklmnopqrstuvwxyzabcdefghijklmnopqrstuvwxyzabcdefghijklmnopqrstuvwxyzabcdefghijklmnopqrstuvwxyzabcdefghijklmnopqrstuvwxyzabcdefghijklmnopqrstuvwxyzabcdefghijklmnopqrstuvwxyzabcdefghijklmnopqrstuvwxyzabcdefghijklmnopqrstuvwxyzabcdefghijklmnopqrstuvwxyzabcdefghijklmnopqrstuvwxyzabcdefghijklmnopqrstuvwxyzabcdefghijklmnopqrstuvwxyzabcdefghijklmnopqrstuvwxyzabcdefghijklmnopqrstuvwxyzabcdefghijklmnopqrstuvwxyzabcdefghijklmnopqrstuvwxyzabcdefghijklmnopqrstuvwxyzabcdefghijklmnopqrstuvwxyzabcdefghijklmnopqrstuvwxyzabcdefghijklmnopqrstuvwxyzabcdefghijklmnopqrstuvwxyzabcdefghijklmnopqrstuvwxyzabcdefghijklmnopqrstuvwxyzabcdefghijklmnopqrstuvwxyzabcdefghijklmnopqrstuvwxyzabcdefghijklmnopqrstuvwxyzabcdefghijklmnopqrstuvwxyzabcdefghijklmnopqrstuvwxyzabcdefghijklmnopqrstuvwxyzabcdefghijklmnopqrstuvwxyzabcdefghijklmnopqrstuvwxyzabcdefghijklmnopqrstuvwxyzabcdefghijklmnopqrstuvwxyzabcdefghijklmnopqrstuvwxyzabcdefghijklmnopqrstuvwxyzabcdefghijklmnopqrstuvwxyzabcdefghijklmnopqrstuvwxyzabcdefghijklmnopqrstuvwxyzabcdefghijklmnopqrstuvwxyzabcdefghijklmnopqrstuvwxyzabcdefghijklmnopqrstuvwxyzabcdefghijklmnopqrstuvwxyzabcdefghijklmnopqrstuvwxyzabcdefghijklmnopqrstuvwxyzabcdefghijklmnopqrstuvwxyzabcdefghijklmnopqrstuvwxyzabcdefghijklmnopqrstuvwxyzabcdefghijklmnopqrstuvwxyzabcdefghijklmnopqrstuvwxyzabcdefghijklmnopqrstuvwxyzabcdefghijklmnopqrstuvwxyzabcdefghijklmnopqrstuvwxyzabcdefghijklmnopqrstuvwxyzabcdefghijklmnopqrstuvwxyzabcdefghijklmnopqrstuvwxyzabcdefghijklmnopqrstuvwxyzabcdefghijklmnopqrstuvwxyzabcdefghijklmnopqrstuvwxyzabcdefghijklmnopqrstuvwxyzabcdefghijklmnopqrstuvwxyzabcdefghijklmnopqrstuvwxyzabcdefghijklmnopqrstuvwxyzabcdefghijklmnopqrstuvwxyzabcdefghijklmnopqrstuvwxyzabcdefghijklmnopqrstuvwxyzabcdefghijklmnopqrstuvwxyzabcdefghijklmnopqrstuvwxyzabcdefghijklmnopqrstuvwxyzabcdefghijklmnopqrstuvwxyzabcdefghijklmnopqrstuvwxyzabcdefghijklmnopqrstuvwxyzabcdefghijklmnopqrstuvwxyzabcdefghijklmnopqrstuvwxyzabcdefghijklmnopqrstuvwxyzabcdefghijklmnopqrstuvwxyzabcdefghijklmnopqrstuvwxyzabcdefghijklmnopqrstuvwxyzabcdefghijklmnopqrstuvwxyzabcdefghijklmnopqrstuvwxyzabcdefghijklmnopqrstuvwxyzabcdefghijklmnopqrstuvwxyzabcdefghijklmnopqrstuvwxyzabcdefghijklmnopqrstuvwxyzabcdefghijklmnopqrstuvwxyzabcdefghijklmnopqrstuvwxyzabcdefghijklmnopqrstuvwxyzabcdefghijklmnopqrstuvwxyzabcdefghijklmnopqrstuvwxyzabcdefghijklmnopqrstuvwxyzabcdefghijklmnopqrstuvwxyzabcdefghijklmnopqrstuvwxyzabcdefghijklmnopqrstuvwxyzabcdefghijklmnopqrstuvwxyzabcdefghijklmnopqrstuvwxyzabcdefghijklmnopqrstuvwxyzabcdefghijklmnopqrstuvwxyzabcdefghijklmnopqrstuvwxyzabcdefghijklmnopqrstuvwxyzabcdefghijklmnopqrstuvwxyzabcdefghijklmnopqrstuvwxyzabcdefghijklmnopqrstuvwxyzabcdefghijklmnopqrstuvwxyzabcdefghijklmnopqrstuvwxyzabcdefghijklmnopqrstuvwxyzabcdefghijklmnopqrstuvwxyzabcdefghijklmnopqrstuvwxyzabcdefghijklmnopqrstuvwxyzabcdefghijklmnopqrstuvwxyzabcdefghijklmnopqrstuvwxyzabcdefghijklmnopqrstuvwxyzabcdefghijklmnopqrstuvwxyzabcdefghijklmnopqrstuvwxyzabcdefghijklmnopqrstuvwxyzabcdefghijklmnopqrstuvwxyzabcdefghijklmnopqrstuvwxyzabcdefghijklmnopqrstuvwxyzabcdefghijklmnopqrstuvwxyzabcdefghijklmnopqrstuvwxyzabcdefghijklmnopqrstuvwxyzabcdefghijklmnopqrstuvwxyzabcdefghijklmnopqrstuvwxyzabcdefghijklmnopqrstuvwxyzabcdefghijklmnopqrstuvwxyzabcdefghijklmnopqrstuvwxyzabcdefghijklmnopqrstuvwxyzabcdefghijklmnopqrstuvwxyzabcdefghijklmnopqrstuvwxyzabcdefghijklmnopqrstuvwxyzabcdefghijklmnopqrstuvwxyzabcdefghijklmnopqrstuvwxyzabcdefghijklmnopqrstuvwxyzabcdefghijklmnopqrstuvwxyzabcdefghijklmnopqrstuvwxyzabcdefghijklmnopqrstuvwxyzabcdefghijklmnopqrstuvwxyzabcdefghijklmnopqrstuvwxyzabcdefghijklmnopqrstuvwxyzabcdefghijklmnopqrstuvwxyzabcdefghijklmnopqrstuvwxyzabcdefghijklmnopqrstuvwxyzabcdefghijklmnopqrstuvwxyzabcdefghijklmnopqrstuvwxyzabcdefghijklmnopqrstuvwxyzabcdefghijklmnopqrstuvwxyzabcdefghijklmnopqrstuvwxyzabcdefghijklmnopqrstuvwxyzabcdefghijklmnopqrstuvwxyzabcdefghijklmnopqrstuvwxyzabcdefghijklmnopqrstuvwxyzabcdefghijklmnopqrstuvwxyzabcdefghijklmnopqrstuvwxyzabcdefghijklmnopqrstuvwxyzabcdefghijklmnopqrstuvwxyzabcdefghijklmnopqrstuvwxyzabcdefghijklmnopqrstuvwxyzabcdefghijklmnopqrstuvwxyzabcdefghijklmnopqrstuvwxyzabcdefghijklmnopqrstuvwxyzabcdefghijklmnopqrstuvwxyzabcdefghijklmnopqrstuvwxyzabcdefghijklmnopqrstuvwxyzabcdefghijklmnopqrstuvwxyzabcdefghijklmnopqrstuvwxyzabcdefghijklmnopqrstuvwxyzabcdefghijklmnopqrstuvwxyzabcdefghijklmnopqrstuvwxyzabcdefghijklmnopqrstuvwxyzabcdefghijklmnopqrstuvwxyzabcdefghijklmnopqrstuvwxyzabcdefghijklmnopqrstuvwxyzabcdefghijklmnopqrstuvwxyzabcdefghijklmnopqrstuvwxyzabcdefghijklmnopqrstuvwxyzabcdefghijklmnopqrstuvwxyzabcdefghijklmnopqrstuvwxyzabcdefghijklmnopqrstuvwxyzabcdefghijklmnopqrstuvwxyzabcdefghijklmnopqrstuvwxyzabcdefghijklmnopqrstuvwxyzabcdefghijklmnopqrstuvwxyzabcdefghijklmnopqrstuvwxyzabcdefghijklmnopqrstuvwxyzabcdefghijklmnopqrstuvwxyzabcdefghijklmnopqrstuvwxyzabcdefghijklmnopqrstuvwxyzabcdefghijklmnopqrstuvwxyzabcdefghijklmnopqrstuvwxyzabcdefghijklmnopqrstuvwxyzabcdefghijklmnopqrstuvwxyzabcdefghijklmnopqrstuvwxyzabcdefghijklmnopqrstuvwxyzabcdefghijklmnopqrstuvwxyzabcdefghijklmnopqrstuvwxyzabcdefghijklmnopqrstuvwxyzabcdefghijklmnopqrstuvwxyzabcdefghijklmnopqrstuvwxyzabcdefghijklmnopqrstuvwxyzabcdefghijklmnopqrstuvwxyzabcdefghijklmnopqrstuvwxyzabcdefghijklmnopqrstuvwxyzabcdefghijklmnopqrstuvwxyzabcdefghijklmnopqrstuvwxyzabcdefghijklmnopqrstuvwxyzabcdefghijklmnopqrstuvwxyzabcdefghijklmnopqrstuvwxyzabcdefghijklmnopqrstuvwxyzabcdefghijklmnopqrstuvwxyzabcdefghijklmnopqrstuvwxyzabcdefghijklmnopqrstuvwxyzabcdefghijklmnopqrstuvwxyzabcdefghijklmnopqrstuvwxyzabcdefghijklmnopqrstuvwxyzabcdefghijklmnopqrstuvwxyzabcdefghijklmnopqrstuvwxyzabcdefghijklmnopqrstuvwxyzabcdefghijklmnopqrstuvwxyzabcdefghijklmnopqrstuvwxyzabcdefghijklmnopqrstuvwxyzabcdefghijklmnopqrstuvwxyzabcdefghijklmnopqrstuvwxyzabcdefghijklmnopqrstuvwxyzabcdefghijklmnopqrstuvwxyzabcdefghijklmnopqrstuvwxyzabcdefghijklmnopqrstuvwxyzabcdefghijklmnopqrstuvwxyzabcdefghijklmnopqrstuvwxyzabcdefghijklmnopqrstuvwxyzabcdefghijklmnopqrstuvwxyzabcdefghijklmnopqrstuvwxyzabcdefghijklmnopqrstuvwxyzabcdefghijklmnopqrstuvwxyzabcdefghijklmnopqrstuvwxyzabcdefghijklmnopqrstuvwxyzabcdefghijklmnopqrstuvwxyzabcdefghijklmnopqrstuvwxyzabcdefghijklmnopqrstuvwxyzabcdefghijklmnopqrstuvwxyzabcdefghijklmnopqrstuvwxyzabcdefghijklmnopqrstuvwxyzabcdefghijklmnopqrstuvwxyzabcdefghijklmnopqrstuvwxyzabcdefghijklmnopqrstuvwxyzabcdefghijklmnopqrstuvwxyzabcdefghijklmnopqrstuvwxyzabcdefghijklmnopqrstuvwxyzabcdefghijklmnopqrstuvwxyzabcdefghijklmnopqrstuvwxyzabcdefghijklmnopqrstuvwxyzabcdefghijklmnopqrstuvwxyzabcdefghijklmnopqrstuvwxyzabcdefghijklmnopqrstuvwxyzabcdefghijklmnopqrstuvwxyzabcdefghijklmnopqrstuvwxyzabcdefghijklmnopqrstuvwxyzabcdefghijklmnopqrstuvwxyzabcdefghijklmnopqrstuvwxyzabcdefghijklmnopqrstuvwxyzabcdefghijklmnopqrstuvwxyzabcdefghijklmnopqrstuvwxyzabcdefghijklmnopqrstuvwxyzabcdefghijklmnopqrstuvwxyzabcdefghijklmnopqrstuvwxyzabcdefghijklmnopqrstuvwxyzabcdefghijklmnopqrstuvwxyzabcdefghijklmnopqrstuvwxyzabcdefghijklmnopqrstuvwxyzabcdefghijklmnopqrstuvwxyzabcdefghijklmnopqrstuvwxyzabcdefghijklmnopqrstuvwxyzabcdefghijklmnopqrstuvwxyzabcdefghijklmnopqrstuvwxyzabcdefghijklmnopqrstuvwxyzabcdefghijklmnopqrstuvwxyzabcdefghijklmnopqrstuvwxyzabcdefghijklmnopqrstuvwxyzabcdefghijklmnopqrstuvwxyzabcdefghijklmnopqrstuvwxyzabcdefghijklmnopqrstuvwxyzabcdefghijklmnopqrstuvwxyzabcdefghijklmnopqrstuvwxyzabcdefghijklmnopqrstuvwxyzabcdefghijklmnopqrstuvwxyzabcdefghijklmnopqrstuvwxyzabcdefghijklmnopqrstuvwxyzabcdefghijklmnopqrstuvwxyzabcdefghijklmnopqrstuvwxyzabcdefghijklmnopqrstuvwxyzabcdefghijklmnopqrstuvwxyzabcdefghijklmnopqrstuvwxyzabcdefghijklmnopqrstuvwxyzabcdefghijklmnopqrstuvwxyzabcdefghijklmnopqrstuvwxyzabcdefghijklmnopqrstuvwxyzabcdefghijklmnopqrstuvwxyzabcdefghijklmnopqrstuvwxyzabcdefghijklmnopqrstuvwxyzabcdefghijklmnopqrstuvwxyzabcdefghijklmnopqrstuvwxyzabcdefghijklmnopqrstuvwxyzabcdefghijklmnopqrstuvwxyzabcdefghijklmnopqrstuvwxyzabcdefghijklmnopqrstuvwxyzabcdefghijklmnopqrstuvwxyzabcdefghijklmnopqrstuvwxyzabcdefghijklmnopqrstuvwxyzabcdefghijklmnopqrstuvwxyzabcdefghijklmnopqrstuvwxyzabcdefghijklmnopqrstuvwxyzabcdefghijklmnopqrstuvwxyzabcdefghijklmnopqrstuvwxyzabcdefghijklmnopqrstuvwxyzabcdefghijklmnopqrstuvwxyzabcdefghijklmnopqrstuvwxyzabcdefghijklmnopqrstuvwxyzabcdefghijklmnopqrstuvwxyzabcdefghijklmnopqrstuvwxyzabcdefghijklmnopqrstuvwxyzabcdefghijklmnopqrstuvwxyzabcdefghijklmnopqrstuvwxyzabcdefghijklmnopqrstuvwxyzabcdefghijklmnopqrstuvwxyzabcdefghijklmnopqrstuvwxyzabcdefghijklmnopqrstuvwxyzabcdefghijklmnopqrstuvwxyzabcdefghijklmnopqrstuvwxyzabcdefghijklmnopqrstuvwxyzabcdefghijklmnopqrstuvwxyzabcdefghijklmnopqrstuvwxyzabcdefghijklmnopqrstuvwxyzabcdefghijklmnopqrstuvwxyzabcdefghijklmnopqrstuvwxyzabcdefghijklmnopqrstuvwxyzabcdefghijklmnopqrstuvwxyzabcdefghijklmnopqrstuvwxyzabcdefghijklmnopqrstuvwxyzabcdefghijklmnopqrstuvwxyzabcdefghijklmnopqrstuvwxyzabcdefghijklmnopqrstuvwxyzabcdefghijklmnopqrstuvwxyzabcdefghijklmnopqrstuvwxyzabcdefghijklmnopqrstuvwxyzabcdefghijklmnopqrstuvwxyzabcdefghijklmnopqrstuvwxyzabcdefghijklmnopqrstuvwxyzabcdefghijklmnopqrstuvwxyzabcdefghijklmnopqrstuvwxyzabcdefghijklmnopqrstuvwxyzabcdefghijklmnopqrstuvwxyzabcdefghijklmnopqrstuvwxyzabcdefghijklmnopqrstuvwxyzabcdefghijklmnopqrstuvwxyzabcdefghijklmnopqrstuvwxyzabcdefghijklmnopqrstuvwxyzabcdefghijklmnopqrstuvwxyzabcdefghijklmnopqrstuvwxyzabcdefghijklmnopqrstuvwxyzabcdefghijklmnopqrstuvwxyzabcdefghijklmnopqrstuvwxyzabcdefghijklmnopqrstuvwxyzabcdefghijklmnopqrstuvwxyzabcdefghijklmnopqrstuvwxyzabcdefghijklmnopqrstuvwxyzabcdefghijklmnopqrstuvwxyzabcdefghijklmnopqrstuvwxyzabcdefghijklmnopqrstuvwxyzabcdefghijklmnopqrstuvwxyzabcdefghijklmnopqrstuvwxyzabcdefghijklmnopqrstuvwxyzabcdefghijklmnopqrstuvwxyzabcdefghijklmnopqrstuvwxyzabcdefghijklmnopqrstuvwxyzabcdefghijklmnopqrstuvwxyzabcdefghijklmnopqrstuvwxyzabcdefghijklmnopqrstuvwxyzabcdefghijklmnopqrstuvwxyzabcdefghijklmnopqrstuvwxyzabcdefghijklmnopqrstuvwxyzabcdefghijklmnopqrstuvwxyzabcdefghijklmnopqrstuvwxyzabcdefghijklmnopqrstuvwxyzabcdefghijklmnopqrstuvwxyzabcdefghijklmnopqrstuvwxyzabcdefghijklmnopqrstuvwxyzabcdefghijklmnopqrstuvwxyzabcdefghijklmnopqrstuvwxyzabcdefghijklmnopqrstuvwxyzabcdefghijklmnopqrstuvwxyzabcdefghijklmnopqrstuvwxyzabcdefghijklmnopqrstuvwxyzabcdefghijklmnopqrstuvwxyzabcdefghijklmnopqrstuvwxyzabcdefghijklmnopqrstuvwxyzabcdefghijklmnopqrstuvwxyzabcdefghijklmnopqrstuvwxyzabcdefghijklmnopqrstuvwxyzabcdefghijklmnopqrstuvwxyzabcdefghijklmnopqrstuvwxyzabcdefghijklmnopqrstuvwxyzabcdefghijklmnopqrstuvwxyzabcdefghijklmnopqrstuvwxyzabcdefghijklmnopqrstuvwxyzabcdefghijklmnopqrstuvwxyzabcdefghijklmnopqrstuvwxyzabcdefghijklmnopqrstuvwxyzabcdefghijklmnopqrstuvwxyzabcdefghijklmnopqrstuvwxyzabcdefghijklmnopqrstuvwxyzabcdefghijklmnopqrstuvwxyzabcdefghijklmnopqrstuvwxyzabcdefghijklmnopqrstuvwxyzabcdefghijklmnopqrstuvwxyzabcdefghijklmnopqrstuvwxyzabcdefghijklmnopqrstuvwxyzabcdefghijklmnopqrstuvwxyzabcdefghijklmnopqrstuvwxyzabcdefghijklmnopqrstuvwxyzabcdefghijklmnopqrstuvwxyzabcdefghijklmnopqrstuvwxyzabcdefghijklmnopqrstuvwxyzabcdefghijklmnopqrstuvwxyzabcdefghijklmnopqrstuvwxyzabcdefghijklmnopqrstuvwxyzabcdefghijklmnopqrstuvwxyzabcdefghijklmnopqrstuvwxyzabcdefghijklmnopqrstuvwxyzabcdefghijklmnopqrstuvwxyzabcdefghijklmnopqrstuvwxyzabcdefghijklmnopqrstuvwxyz\"\n",
    ",\"abcdefghijklmnopqrstuvwxyzabcdefghijklmnopqrstuvwxyzabcdefghijklmnopqrstuvwxyzabcdefghijklmnopqrstuvwxyzabcdefghijklmnopqrstuvwxyzabcdefghijklmnopqrstuvwxyzabcdefghijklmnopqrstuvwxyzabcdefghijklmnopqrstuvwxyzabcdefghijklmnopqrstuvwxyzabcdefghijklmnopqrstuvwxyzabcdefghijklmnopqrstuvwxyzabcdefghijklmnopqrstuvwxyzabcdefghijklmnopqrstuvwxyzabcdefghijklmnopqrstuvwxyzabcdefghijklmnopqrstuvwxyzabcdefghijklmnopqrstuvwxyzabcdefghijklmnopqrstuvwxyzabcdefghijklmnopqrstuvwxyzabcdefghijklmnopqrstuvwxyzabcdefghijklmnopqrstuvwxyzabcdefghijklmnopqrstuvwxyzabcdefghijklmnopqrstuvwxyzabcdefghijklmnopqrstuvwxyzabcdefghijklmnopqrstuvwxyzabcdefghijklmnopqrstuvwxyzabcdefghijklmnopqrstuvwxyzabcdefghijklmnopqrstuvwxyzabcdefghijklmnopqrstuvwxyzabcdefghijklmnopqrstuvwxyzabcdefghijklmnopqrstuvwxyzabcdefghijklmnopqrstuvwxyzabcdefghijklmnopqrstuvwxyzabcdefghijklmnopqrstuvwxyzabcdefghijklmnopqrstuvwxyzabcdefghijklmnopqrstuvwxyzabcdefghijklmnopqrstuvwxyzabcdefghijklmnopqrstuvwxyzabcdefghijklmnopqrstuvwxyzabcdefghijklmnopqrstuvwxyzabcdefghijklmnopqrstuvwxyzabcdefghijklmnopqrstuvwxyzabcdefghijklmnopqrstuvwxyzabcdefghijklmnopqrstuvwxyzabcdefghijklmnopqrstuvwxyzabcdefghijklmnopqrstuvwxyzabcdefghijklmnopqrstuvwxyzabcdefghijklmnopqrstuvwxyzabcdefghijklmnopqrstuvwxyzabcdefghijklmnopqrstuvwxyzabcdefghijklmnopqrstuvwxyzabcdefghijklmnopqrstuvwxyzabcdefghijklmnopqrstuvwxyzabcdefghijklmnopqrstuvwxyzabcdefghijklmnopqrstuvwxyzabcdefghijklmnopqrstuvwxyzabcdefghijklmnopqrstuvwxyzabcdefghijklmnopqrstuvwxyzabcdefghijklmnopqrstuvwxyzabcdefghijklmnopqrstuvwxyzabcdefghijklmnopqrstuvwxyzabcdefghijklmnopqrstuvwxyzabcdefghijklmnopqrstuvwxyzabcdefghijklmnopqrstuvwxyzabcdefghijklmnopqrstuvwxyzabcdefghijklmnopqrstuvwxyzabcdefghijklmnopqrstuvwxyzabcdefghijklmnopqrstuvwxyzabcdefghijklmnopqrstuvwxyzabcdefghijklmnopqrstuvwxyzabcdefghijklmnopqrstuvwxyzabcdefghijklmnopqrstuvwxyzabcdefghijklmnopqrstuvwxyzabcdefghijklmnopqrstuvwxyzabcdefghijklmnopqrstuvwxyzabcdefghijklmnopqrstuvwxyzabcdefghijklmnopqrstuvwxyzabcdefghijklmnopqrstuvwxyzabcdefghijklmnopqrstuvwxyzabcdefghijklmnopqrstuvwxyzabcdefghijklmnopqrstuvwxyzabcdefghijklmnopqrstuvwxyzabcdefghijklmnopqrstuvwxyzabcdefghijklmnopqrstuvwxyzabcdefghijklmnopqrstuvwxyzabcdefghijklmnopqrstuvwxyzabcdefghijklmnopqrstuvwxyzabcdefghijklmnopqrstuvwxyzabcdefghijklmnopqrstuvwxyzabcdefghijklmnopqrstuvwxyzabcdefghijklmnopqrstuvwxyzabcdefghijklmnopqrstuvwxyzabcdefghijklmnopqrstuvwxyzabcdefghijklmnopqrstuvwxyzabcdefghijklmnopqrstuvwxyzabcdefghijklmnopqrstuvwxyzabcdefghijklmnopqrstuvwxyzabcdefghijklmnopqrstuvwxyzabcdefghijklmnopqrstuvwxyzabcdefghijklmnopqrstuvwxyzabcdefghijklmnopqrstuvwxyzabcdefghijklmnopqrstuvwxyzabcdefghijklmnopqrstuvwxyzabcdefghijklmnopqrstuvwxyzabcdefghijklmnopqrstuvwxyzabcdefghijklmnopqrstuvwxyzabcdefghijklmnopqrstuvwxyzabcdefghijklmnopqrstuvwxyzabcdefghijklmnopqrstuvwxyzabcdefghijklmnopqrstuvwxyzabcdefghijklmnopqrstuvwxyzabcdefghijklmnopqrstuvwxyzabcdefghijklmnopqrstuvwxyzabcdefghijklmnopqrstuvwxyzabcdefghijklmnopqrstuvwxyzabcdefghijklmnopqrstuvwxyzabcdefghijklmnopqrstuvwxyzabcdefghijklmnopqrstuvwxyzabcdefghijklmnopqrstuvwxyzabcdefghijklmnopqrstuvwxyzabcdefghijklmnopqrstuvwxyzabcdefghijklmnopqrstuvwxyzabcdefghijklmnopqrstuvwxyzabcdefghijklmnopqrstuvwxyzabcdefghijklmnopqrstuvwxyzabcdefghijklmnopqrstuvwxyzabcdefghijklmnopqrstuvwxyzabcdefghijklmnopqrstuvwxyzabcdefghijklmnopqrstuvwxyzabcdefghijklmnopqrstuvwxyzabcdefghijklmnopqrstuvwxyzabcdefghijklmnopqrstuvwxyzabcdefghijklmnopqrstuvwxyzabcdefghijklmnopqrstuvwxyzabcdefghijklmnopqrstuvwxyzabcdefghijklmnopqrstuvwxyzabcdefghijklmnopqrstuvwxyzabcdefghijklmnopqrstuvwxyzabcdefghijklmnopqrstuvwxyzabcdefghijklmnopqrstuvwxyzabcdefghijklmnopqrstuvwxyzabcdefghijklmnopqrstuvwxyzabcdefghijklmnopqrstuvwxyzabcdefghijklmnopqrstuvwxyzabcdefghijklmnopqrstuvwxyzabcdefghijklmnopqrstuvwxyzabcdefghijklmnopqrstuvwxyzabcdefghijklmnopqrstuvwxyzabcdefghijklmnopqrstuvwxyzabcdefghijklmnopqrstuvwxyzabcdefghijklmnopqrstuvwxyzabcdefghijklmnopqrstuvwxyzabcdefghijklmnopqrstuvwxyzabcdefghijklmnopqrstuvwxyzabcdefghijklmnopqrstuvwxyzabcdefghijklmnopqrstuvwxyzabcdefghijklmnopqrstuvwxyzabcdefghijklmnopqrstuvwxyzabcdefghijklmnopqrstuvwxyzabcdefghijklmnopqrstuvwxyzabcdefghijklmnopqrstuvwxyzabcdefghijklmnopqrstuvwxyzabcdefghijklmnopqrstuvwxyzabcdefghijklmnopqrstuvwxyzabcdefghijklmnopqrstuvwxyzabcdefghijklmnopqrstuvwxyzabcdefghijklmnopqrstuvwxyzabcdefghijklmnopqrstuvwxyzabcdefghijklmnopqrstuvwxyzabcdefghijklmnopqrstuvwxyzabcdefghijklmnopqrstuvwxyzabcdefghijklmnopqrstuvwxyzabcdefghijklmnopqrstuvwxyzabcdefghijklmnopqrstuvwxyzabcdefghijklmnopqrstuvwxyzabcdefghijklmnopqrstuvwxyzabcdefghijklmnopqrstuvwxyzabcdefghijklmnopqrstuvwxyzabcdefghijklmnopqrstuvwxyzabcdefghijklmnopqrstuvwxyzabcdefghijklmnopqrstuvwxyzabcdefghijklmnopqrstuvwxyzabcdefghijklmnopqrstuvwxyzabcdefghijklmnopqrstuvwxyzabcdefghijklmnopqrstuvwxyzabcdefghijklmnopqrstuvwxyzabcdefghijklmnopqrstuvwxyzabcdefghijklmnopqrstuvwxyzabcdefghijklmnopqrstuvwxyzabcdefghijklmnopqrstuvwxyzabcdefghijklmnopqrstuvwxyzabcdefghijklmnopqrstuvwxyzabcdefghijklmnopqrstuvwxyzabcdefghijklmnopqrstuvwxyzabcdefghijklmnopqrstuvwxyzabcdefghijklmnopqrstuvwxyzabcdefghijklmnopqrstuvwxyzabcdefghijklmnopqrstuvwxyzabcdefghijklmnopqrstuvwxyzabcdefghijklmnopqrstuvwxyzabcdefghijklmnopqrstuvwxyzabcdefghijklmnopqrstuvwxyzabcdefghijklmnopqrstuvwxyzabcdefghijklmnopqrstuvwxyzabcdefghijklmnopqrstuvwxyzabcdefghijklmnopqrstuvwxyzabcdefghijklmnopqrstuvwxyzabcdefghijklmnopqrstuvwxyzabcdefghijklmnopqrstuvwxyzabcdefghijklmnopqrstuvwxyzabcdefghijklmnopqrstuvwxyzabcdefghijklmnopqrstuvwxyzabcdefghijklmnopqrstuvwxyzabcdefghijklmnopqrstuvwxyzabcdefghijklmnopqrstuvwxyzabcdefghijklmnopqrstuvwxyzabcdefghijklmnopqrstuvwxyzabcdefghijklmnopqrstuvwxyzabcdefghijklmnopqrstuvwxyzabcdefghijklmnopqrstuvwxyzabcdefghijklmnopqrstuvwxyzabcdefghijklmnopqrstuvwxyzabcdefghijklmnopqrstuvwxyzabcdefghijklmnopqrstuvwxyzabcdefghijklmnopqrstuvwxyzabcdefghijklmnopqrstuvwxyzabcdefghijklmnopqrstuvwxyzabcdefghijklmnopqrstuvwxyzabcdefghijklmnopqrstuvwxyzabcdefghijklmnopqrstuvwxyzabcdefghijklmnopqrstuvwxyzabcdefghijklmnopqrstuvwxyzabcdefghijklmnopqrstuvwxyzabcdefghijklmnopqrstuvwxyzabcdefghijklmnopqrstuvwxyzabcdefghijklmnopqrstuvwxyzabcdefghijklmnopqrstuvwxyzabcdefghijklmnopqrstuvwxyzabcdefghijklmnopqrstuvwxyzabcdefghijklmnopqrstuvwxyzabcdefghijklmnopqrstuvwxyzabcdefghijklmnopqrstuvwxyzabcdefghijklmnopqrstuvwxyzabcdefghijklmnopqrstuvwxyzabcdefghijklmnopqrstuvwxyzabcdefghijklmnopqrstuvwxyzabcdefghijklmnopqrstuvwxyzabcdefghijklmnopqrstuvwxyzabcdefghijklmnopqrstuvwxyzabcdefghijklmnopqrstuvwxyzabcdefghijklmnopqrstuvwxyzabcdefghijklmnopqrstuvwxyzabcdefghijklmnopqrstuvwxyzabcdefghijklmnopqrstuvwxyzabcdefghijklmnopqrstuvwxyzabcdefghijklmnopqrstuvwxyzabcdefghijklmnopqrstuvwxyzabcdefghijklmnopqrstuvwxyzabcdefghijklmnopqrstuvwxyzabcdefghijklmnopqrstuvwxyzabcdefghijklmnopqrstuvwxyzabcdefghijklmnopqrstuvwxyzabcdefghijklmnopqrstuvwxyzabcdefghijklmnopqrstuvwxyzabcdefghijklmnopqrstuvwxyzabcdefghijklmnopqrstuvwxyzabcdefghijklmnopqrstuvwxyzabcdefghijklmnopqrstuvwxyzabcdefghijklmnopqrstuvwxyzabcdefghijklmnopqrstuvwxyzabcdefghijklmnopqrstuvwxyzabcdefghijklmnopqrstuvwxyzabcdefghijklmnopqrstuvwxyzabcdefghijklmnopqrstuvwxyzabcdefghijklmnopqrstuvwxyzabcdefghijklmnopqrstuvwxyzabcdefghijklmnopqrstuvwxyzabcdefghijklmnopqrstuvwxyzabcdefghijklmnopqrstuvwxyzabcdefghijklmnopqrstuvwxyzabcdefghijklmnopqrstuvwxyzabcdefghijklmnopqrstuvwxyzabcdefghijklmnopqrstuvwxyzabcdefghijklmnopqrstuvwxyzabcdefghijklmnopqrstuvwxyzabcdefghijklmnopqrstuvwxyzabcdefghijklmnopqrstuvwxyzabcdefghijklmnopqrstuvwxyzabcdefghijklmnopqrstuvwxyzabcdefghijklmnopqrstuvwxyzabcdefghijklmnopqrstuvwxyzabcdefghijklmnopqrstuvwxyzabcdefghijklmnopqrstuvwxyzabcdefghijklmnopqrstuvwxyzabcdefghijklmnopqrstuvwxyzabcdefghijklmnopqrstuvwxyzabcdefghijklmnopqrstuvwxyzabcdefghijklmnopqrstuvwxyzabcdefghijklmnopqrstuvwxyzabcdefghijklmnopqrstuvwxyzabcdefghijklmnopqrstuvwxyzabcdefghijklmnopqrstuvwxyzabcdefghijklmnopqrstuvwxyzabcdefghijklmnopqrstuvwxyzabcdefghijklmnopqrstuvwxyzabcdefghijklmnopqrstuvwxyzabcdefghijklmnopqrstuvwxyzabcdefghijklmnopqrstuvwxyzabcdefghijklmnopqrstuvwxyzabcdefghijklmnopqrstuvwxyzabcdefghijklmnopqrstuvwxyzabcdefghijklmnopqrstuvwxyzabcdefghijklmnopqrstuvwxyzabcdefghijklmnopqrstuvwxyzabcdefghijklmnopqrstuvwxyzabcdefghijklmnopqrstuvwxyzabcdefghijklmnopqrstuvwxyzabcdefghijklmnopqrstuvwxyzabcdefghijklmnopqrstuvwxyzabcdefghijklmnopqrstuvwxyzabcdefghijklmnopqrstuvwxyzabcdefghijklmnopqrstuvwxyzabcdefghijklmnopqrstuvwxyzabcdefghijklmnopqrstuvwxyzabcdefghijklmnopqrstuvwxyzabcdefghijklmnopqrstuvwxyzabcdefghijklmnopqrstuvwxyzabcdefghijklmnopqrstuvwxyzabcdefghijklmnopqrstuvwxyzabcdefghijklmnopqrstuvwxyzabcdefghijklmnopqrstuvwxyzabcdefghijklmnopqrstuvwxyzabcdefghijklmnopqrstuvwxyzabcdefghijklmnopqrstuvwxyzabcdefghijklmnopqrstuvwxyzabcdefghijklmnopqrstuvwxyzabcdefghijklmnopqrstuvwxyzabcdefghijklmnopqrstuvwxyzabcdefghijklmnopqrstuvwxyzabcdefghijklmnopqrstuvwxyzabcdefghijklmnopqrstuvwxyzabcdefghijklmnopqrstuvwxyzabcdefghijklmnopqrstuvwxyzabcdefghijklmnopqrstuvwxyzabcdefghijklmnopqrstuvwxyzabcdefghijklmnopqrstuvwxyzabcdefghijklmnopqrstuvwxyzabcdefghijklmnopqrstuvwxyzabcdefghijklmnopqrstuvwxyzabcdefghijklmnopqrstuvwxyzabcdefghijklmnopqrstuvwxyzabcdefghijklmnopqrstuvwxyzabcdefghijklmnopqrstuvwxyzabcdefghijklmnopqrstuvwxyzabcdefghijklmnopqrstuvwxyzabcdefghijklmnopqrstuvwxyzabcdefghijklmnopqrstuvwxyzabcdefghijklmnopqrstuvwxyzabcdefghijklmnopqrstuvwxyzabcdefghijklmnopqrstuvwxyzabcdefghijklmnopqrstuvwxyzabcdefghijklmnopqrstuvwxyzabcdefghijklmnopqrstuvwxyzabcdefghijklmnopqrstuvwxyzabcdefghijklmnopqrstuvwxyzabcdefghijklmnopqrstuvwxyzabcdefghijklmnopqrstuvwxyzabcdefghijklmnopqrstuvwxyzabcdefghijklmnopqrstuvwxyzabcdefghijklmnopqrstuvwxyzabcdefghijklmnopqrstuvwxyzabcdefghijklmnopqrstuvwxyzabcdefghijklmnopqrstuvwxyzabcdefghijklmnopqrstuvwxyzabcdefghijklmnopqrstuvwxyzabcdefghijklmnopqrstuvwxyzabcdefghijklmnopqrstuvwxyzabcdefghijklmnopqrstuvwxyzabcdefghijklmnopqrstuvwxyzabcdefghijklmnopqrstuvwxyzabcdefghijklmnopqrstuvwxyzabcdefghijklmnopqrstuvwxyzabcdefghijklmnopqrstuvwxyzabcdefghijklmnopqrstuvwxyzabcdefghijklmnopqrstuvwxyzabcdefghijklmnopqrstuvwxyzabcdefghijklmnopqrstuvwxyz\")"
   ]
  },
  {
   "cell_type": "markdown",
   "metadata": {},
   "source": [
    "### 443 压缩字符串\n",
    "\n",
    "给定一组字符，使用原地算法将其压缩。\n",
    "\n",
    "压缩后的长度必须始终小于或等于原数组长度。\n",
    "\n",
    "数组的每个元素应该是长度为1 的字符（不是 int 整数类型）。\n",
    "\n",
    "在完成原地修改输入数组后，返回数组的新长度。"
   ]
  },
  {
   "cell_type": "code",
   "execution_count": 138,
   "metadata": {
    "scrolled": true
   },
   "outputs": [],
   "source": [
    "    def compress(chars):\n",
    "        taille = len(chars)\n",
    "        if(taille==1):\n",
    "            return taille\n",
    "        else:\n",
    "            tmp = chars[0]\n",
    "            counter = 1\n",
    "            for i in range(1,len(chars)):\n",
    "                if(chars[i]!=tmp):\n",
    "                    chars[i-1]+=str(counter)\n",
    "                    tmp = chars[i]\n",
    "                    counter = 1\n",
    "                else:\n",
    "                    counter+=1\n",
    "            chars[taille-1]+=str(counter)\n",
    "            #print(chars)\n",
    "            for i in range(len(chars) - 1,-1,-1):\n",
    "                if(len(chars[i])==1):\n",
    "                    chars.remove(chars[i])\n",
    "            for i in range(len(chars)):\n",
    "                x = chars[i]\n",
    "                if len(x)==2 and x[1]=='1':\n",
    "                    chars[i] = chars[i][0]\n",
    "            for i in range(len(\"\".join(chars))):\n",
    "                if(len(chars[i])>1):\n",
    "                    s = chars[i]\n",
    "                    chars[i]=chars[i][0]\n",
    "                    for j in range(len(s)-1,0,-1):\n",
    "                        chars.insert(i+1,s[j])\n",
    "            #print(chars)\n",
    "            return len(chars)"
   ]
  },
  {
   "cell_type": "code",
   "execution_count": 139,
   "metadata": {
    "scrolled": true
   },
   "outputs": [
    {
     "data": {
      "text/plain": [
       "224"
      ]
     },
     "execution_count": 139,
     "metadata": {},
     "output_type": "execute_result"
    }
   ],
   "source": [
    "compress([\"b\",\"l\",\"l\",\"l\",\"l\",\"l\",\"l\",\"4\",\"4\",\"W\",\"W\",\"&\",\"d\",\"d\",\"d\",\"@\",\"D\",\"D\",\".\",\".\",\".\",\"8\",\"8\",\"8\",\"U\",\"V\",\">\",\"J\",\"J\",\"k\",\"H\",\"H\",\"=\",\"l\",\"[\",\"[\",\"[\",\"[\",\"[\",\"[\",\"[\",\"a\",\"a\",\"'\",\"<\",\"[\",\"[\",\"y\",\"V\",\"l\",\"l\",\"'\",\"$\",\"E\",\"`\",\"v\",\"k\",\"E\",\"E\",\"t\",\"t\",\"t\",\"t\",\"t\",\"=\",\"=\",\"0\",\"C\",\"a\",\"l\",\"l\",\"l\",\"r\",\"R\",\"M\",\"M\",\"c\",\"c\",\"c\",\"A\",\"A\",\"S\",\"9\",\"9\",\"9\",\"9\",\")\",\")\",\"\\\\\",\"s\",\"\\\\\",\"\\\\\",\"y\",\"W\",\"W\",\"W\",\"J\",\"J\",\"J\",\"J\",\"6\",\"6\",\"<\",\"<\",\"E\",\"u\",\"e\",\"e\",\"e\",\"e\",\"e\",\"e\",\"e\",\"e\",\"e\",\"9\",\"9\",\"9\",\"9\",\"R\",\"8\",\"?\",\"F\",\"3\",\"&\",\"&\",\"&\",\"&\",\"f\",\"%\",\"%\",\"2\",\"2\",\"2\",\")\",\")\",\")\",\"J\",\"p\",\"|\",\"D\",\"D\",\"D\",\"s\",\"t\",\"V\",\"V\",\"?\",\"^\",\"^\",\"S\",\"3\",\"3\",\"3\",\"3\",\"h\",\"*\",\"|\",\"|\",\"b\",\"b\",\"a\",\"a\",\"a\",\"r\",\"r\",\"r\",\"r\",\"J\",\".\",\"^\",\"^\",\"~\",\"g\",\":\",\":\",\":\",\"(\",\"4\",\"4\",\"4\",\"4\",\"w\",\"w\",\"w\",\"w\",\"w\",\"w\",\"w\",\"C\",\"?\",\"=\",\"d\",\"L\",\":\",\"0\",\"0\",\"c\",\"w\",\"w\",\"w\",\"w\",\"w\",\"w\",\"{\",\"{\",\"t\",\"k\",\"k\",\"k\",\"&\",\"&\",\"&\",\"h\",\"j\",\"j\",\"j\",\"0\",\"3\",\"l\",\";\",\";\",\";\",\";\",\";\",\".\",\".\",\".\",\"%\",\"1\",\"1\",\"1\",\"l\",\"9\",\"?\",\"?\",\"?\",\"t\",\">\",\"E\",\"N\",\"N\",\"@\",\">\",\".\",\".\",\"I\",\"a\",\"a\",\"a\",\"a\",\"B\",\"7\",\"7\",\"{\",\"o\",\"o\",\"-\",\"+\",\"+\",\"+\",\"+\",\"o\",\"o\",\"}\",\"B\",\"B\",\"r\",\"r\",\"r\",\"q\",\"4\",\"4\",\"4\",\"9\",\"W\",\"W\",\"W\",\"W\",\"W\",\"'\",\"'\",\"'\",\"g\",\"J\",\"(\",\"(\",\"(\",\"(\",\"t\",\"t\",\"?\",\";\",\"g\",\"g\",\"g\",\"0\",\"]\",\"]\",\"]\"]\n",
    ")"
   ]
  },
  {
   "cell_type": "code",
   "execution_count": 124,
   "metadata": {},
   "outputs": [
    {
     "data": {
      "text/plain": [
       "6"
      ]
     },
     "execution_count": 124,
     "metadata": {},
     "output_type": "execute_result"
    }
   ],
   "source": [
    "compress([\"a\",\"a\",\"b\",\"b\",\"c\",\"c\",\"c\"])"
   ]
  },
  {
   "cell_type": "code",
   "execution_count": 125,
   "metadata": {},
   "outputs": [
    {
     "data": {
      "text/plain": [
       "['a1', 'b12']"
      ]
     },
     "execution_count": 125,
     "metadata": {},
     "output_type": "execute_result"
    }
   ],
   "source": [
    "# Python 原地算法除去多重。\n",
    "l = [\"a1\",\"b\",\"b\",\"b\",\"b\",\"b\",\"b\",\"b\",\"b\",\"b\",\"b\",\"b\",\"b12\"]\n",
    "for i in range(len(l) - 1,-1,-1):\n",
    "    if(len(l[i])==1):\n",
    "        l.remove(l[i])\n",
    "l "
   ]
  },
  {
   "cell_type": "code",
   "execution_count": 99,
   "metadata": {},
   "outputs": [
    {
     "data": {
      "text/plain": [
       "['a', 'b12', 'c3', 'd4']"
      ]
     },
     "execution_count": 99,
     "metadata": {},
     "output_type": "execute_result"
    }
   ],
   "source": [
    "k = ['a1', 'b12', 'c3','d4']\n",
    "i = 0\n",
    "for i in range(len(k)):\n",
    "    x = k[i]\n",
    "    if len(x)==2 and '1' in x:\n",
    "        k[i] = k[i][0]\n",
    "k"
   ]
  },
  {
   "cell_type": "code",
   "execution_count": 101,
   "metadata": {},
   "outputs": [
    {
     "data": {
      "text/plain": [
       "['a', 'b', '1', '2', 'c', '3', 'd', '4']"
      ]
     },
     "execution_count": 101,
     "metadata": {},
     "output_type": "execute_result"
    }
   ],
   "source": [
    "for i in range(len(\"\".join(k))):\n",
    "    if(len(k[i])>1):\n",
    "        s = k[i]\n",
    "        k[i]=k[i][0]\n",
    "        for j in range(len(s)-1,0,-1):\n",
    "            k.insert(i+1,s[j])\n",
    "k"
   ]
  },
  {
   "cell_type": "code",
   "execution_count": 105,
   "metadata": {
    "scrolled": true
   },
   "outputs": [
    {
     "name": "stdout",
     "output_type": "stream",
     "text": [
      "b a\n",
      "['a', '5', 'b', '2']\n"
     ]
    },
    {
     "data": {
      "text/plain": [
       "4"
      ]
     },
     "execution_count": 105,
     "metadata": {},
     "output_type": "execute_result"
    }
   ],
   "source": [
    "compress([\"a\",\"a\",\"a\",\"b\",\"b\",\"a\",\"a\"])"
   ]
  },
  {
   "cell_type": "markdown",
   "metadata": {},
   "source": [
    "### 459. 重复的子字符串\n",
    "\n",
    "给定一个非空的字符串，判断它是否可以由它的一个子串重复多次构成。给定的字符串只含有小写英文字母，并且长度不超过10000。\n",
    "\n",
    "周期函数"
   ]
  },
  {
   "cell_type": "code",
   "execution_count": 89,
   "metadata": {},
   "outputs": [
    {
     "data": {
      "text/plain": [
       "True"
      ]
     },
     "execution_count": 89,
     "metadata": {},
     "output_type": "execute_result"
    }
   ],
   "source": [
    "    def repeatedSubstringPattern(s):\n",
    "        import math\n",
    "        taille = len(s)\n",
    "        if(taille^1==0):\n",
    "            return False\n",
    "        tmp = 1\n",
    "        flag = False\n",
    "        a = math.floor(taille/2)\n",
    "        result = set()\n",
    "        while(tmp<=a):\n",
    "            fin = taille % tmp\n",
    "            if(fin!=0):\n",
    "                tmp+=1\n",
    "            else:\n",
    "                for i in range(0,taille - fin,tmp):\n",
    "                    result.add(s[i:tmp+i])\n",
    "                if(len(result)^1==0):\n",
    "                    return True\n",
    "                else:\n",
    "                    tmp+=1\n",
    "                    result = set()\n",
    "        return flag\n",
    "repeatedSubstringPattern(\"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\")      "
   ]
  },
  {
   "cell_type": "code",
   "execution_count": 92,
   "metadata": {},
   "outputs": [
    {
     "data": {
      "text/plain": [
       "False"
      ]
     },
     "execution_count": 92,
     "metadata": {},
     "output_type": "execute_result"
    }
   ],
   "source": [
    "repeatedSubstringPattern(\"abaabaa\")"
   ]
  },
  {
   "cell_type": "code",
   "execution_count": 64,
   "metadata": {
    "scrolled": true
   },
   "outputs": [
    {
     "data": {
      "text/plain": [
       "False"
      ]
     },
     "execution_count": 64,
     "metadata": {},
     "output_type": "execute_result"
    }
   ],
   "source": [
    "repeatedSubstringPattern(\"pccoaonxwvkhowbzhaoscgykzbiltlwqqatyeczzceuuwgvjxzonhkkfjcbwsezdmifdegsyjtswselknxweimxlnzohgtqthlftjblnphtdwwvsscbhjmruuqscwjpynxbkoomwdecqkrtbxgzgcxhppcjnqtcfqttkkolzcfikwblxkimijeglxsvcrkcqjjwcwuhvzydmegubqavlqffhrzzrhiwxrgftittdxcaybczncsyjlzlxyyklcppoxcgnexmaajzuhabdhaccuualacylsmtkewbprsmoncggqvrvsqqoffmwkplsgbrpurgioajuppvqluhbdetzdzwwzaelmopafumtqugecywglucmugwqiizveswrjevfzdnxlbkakrpzcejvxzeoybbtfdsvewjsivwswzjhudtpqsfclzcmukotirrxxtzksmxnjumofzhhowyftzfzbotrokaxaryxlkmueolqkrdxmzhoqnzvudeowcjloesfmqgvxwfyhnpbepbvbgjtbvqpoeugoqynkbfivmfewjjscjreixyqssxzsydgllfzmobnurxkwcypctjkabigwqtldwhjouaswtovdtkrlonzgeyddkqwuhnimzffxviyvsktqrfafqujhdepvczzhiyjlkxmeplnrvxgshdykehkefpkvepcxhozpjxtreynyliguhuxudbnhmfojordxzmmklgohcmmbukzshyrmooliaobbnlapadutnbetocxylceyxywdsjegdfcrsblbxhjsgcuoxmqftytngzdcmsrfyjjumcbxoleldazwzwtdjoyuqeqjfxazjarqgfmsfxyfqbeoktcctnfqrsjchxpqiltaqzawhguusgenjcfxriyfikpgdvwhbyumthkiktbecjwpccoaonxwvkhowbzhaoscgykzbiltlwqqatyeczzceuuwgvjxzonhkkfjcbwsezdmifdegsyjts\")"
   ]
  },
  {
   "cell_type": "markdown",
   "metadata": {},
   "source": [
    "### 461. 汉明距离\n",
    "\n",
    "https://leetcode-cn.com/problems/hamming-distance/"
   ]
  },
  {
   "cell_type": "code",
   "execution_count": 274,
   "metadata": {},
   "outputs": [
    {
     "name": "stdout",
     "output_type": "stream",
     "text": [
      "00000010\n",
      "<class 'str'>\n"
     ]
    }
   ],
   "source": [
    "a = '{0:08b}'.format(2)\n",
    "print(a)\n",
    "print(type(a))"
   ]
  },
  {
   "cell_type": "code",
   "execution_count": 275,
   "metadata": {},
   "outputs": [
    {
     "name": "stdout",
     "output_type": "stream",
     "text": [
      "00000001\n",
      "00000011\n"
     ]
    },
    {
     "data": {
      "text/plain": [
       "1"
      ]
     },
     "execution_count": 275,
     "metadata": {},
     "output_type": "execute_result"
    }
   ],
   "source": [
    "    def hammingDistance(x,y):\n",
    "        print('{0:08b}'.format(x))\n",
    "        print('{0:08b}'.format(y))\n",
    "        a = '{0:08b}'.format(x^y)\n",
    "        return a.count('1')\n",
    "hammingDistance(1,3)"
   ]
  },
  {
   "cell_type": "markdown",
   "metadata": {},
   "source": [
    "### 532. 数组中的K-diff数对"
   ]
  },
  {
   "cell_type": "code",
   "execution_count": 205,
   "metadata": {},
   "outputs": [
    {
     "data": {
      "text/plain": [
       "1166"
      ]
     },
     "execution_count": 205,
     "metadata": {},
     "output_type": "execute_result"
    }
   ],
   "source": [
    "    def findPairs(nums,k):\n",
    "        taille = len(nums)\n",
    "        if(taille<=1 or k < 0):\n",
    "            return 0\n",
    "        stats = dict()\n",
    "        for c in nums:\n",
    "            stats[c]=stats.get(c,0)+1\n",
    "        if(k^0==0):\n",
    "            return len(list(filter(lambda x:stats[x]>1,stats)))\n",
    "        else:            \n",
    "            nums = list(stats.keys())\n",
    "            nums.sort()\n",
    "            counter = 0\n",
    "            taille = len(nums)\n",
    "            for i in range(taille-1):\n",
    "                #print(\"nums[{}] = \".format(i),nums[i])\n",
    "                tmp = nums[i] + k\n",
    "                if(tmp in stats):\n",
    "                    counter+=1\n",
    "            return counter\n",
    "        \n",
    "findPairs(a,394)"
   ]
  },
  {
   "cell_type": "code",
   "execution_count": 200,
   "metadata": {},
   "outputs": [],
   "source": [
    "a = [25806,34534,41474,41054,50037,27404,32486,53397,16447,29037,44492,12283,4282,54299,41722,41077,21949,45728,30846,2517,43825,17156,11552,7877,47276,16738,32138,39456,51710,47895,24140,3001,18085,37058,41622,12500,45888,41841,52374,38671,25425,30656,49139,40189,32332,50323,40513,20416,22680,6339,24,32989,20439,44872,15616,26159,16761,43008,35801,25045,24445,15517,29560,10721,28145,11158,20672,42649,7242,42647,69,17419,19509,27282,18652,20769,1140,33800,15107,36704,8620,55354,46436,12068,51522,41190,53724,24458,22085,23345,28104,19932,34678,50277,47117,7544,19642,28852,39322,44029,10664,8024,4862,549,47133,52516,23717,28314,40385,34701,5471,47527,12763,42981,46844,36253,33597,44616,27449,36453,21141,1686,11680,10912,44080,46442,24857,32317,49679,52071,50678,3718,6008,18352,20654,15370,5468,31875,15802,46502,34730,9043,14529,7467,16464,48228,51411,18899,43627,51172,45907,47329,39065,51789,33860,4034,17174,39136,9774,14348,44189,30041,32273,5375,18886,51172,53023,10570,43020,14140,45537,28919,5475,37912,33843,3996,55051,8584,50152,38386,51257,14243,33180,18533,3020,51783,3528,21113,7448,22230,7134,1501,47513,51777,29337,51024,48542,23312,54599,5226,37646,52462,10893,19219,13760,41485,12511,2529,52321,50705,25013,44775,29508,35081,26343,54569,14765,20728,27438,49363,8703,26734,15771,24875,25355,44270,36616,10094,4799,23436,24864,37774,48086,34219,30127,48712,36160,30091,43838,9101,13056,17872,23328,41404,21466,46321,9391,42378,5779,23437,39664,21166,12527,54394,14904,24772,22371,3610,906,26586,2128,37524,41691,49131,42156,19077,48158,44408,2333,32919,34550,2175,6600,48643,20215,45300,11368,44276,48217,47913,20120,45180,17439,33086,38914,32049,54431,24680,10215,5710,11838,1762,5122,29464,43154,15525,3298,24021,45816,1124,3233,17700,14804,52863,30576,30036,12143,52574,10788,44612,34562,40163,11378,52240,8663,53506,26374,27577,42820,33390,4538,44750,16692,39784,48313,47468,47559,13107,45935,5593,34122,13201,35307,19530,12543,4846,16608,19128,32546,35684,19352,27458,24269,39694,50638,4473,50484,3257,34212,45870,23129,11924,49512,29963,16986,41527,20027,39191,55416,33473,24514,17804,11506,54909,33208,42622,27577,39227,40808,42387,2487,16294,34680,5366,36705,13898,11410,41816,19382,12945,16919,20853,25697,42543,49850,49509,37226,13978,15312,24865,51893,28215,54988,46200,35243,12704,10416,18317,35107,54075,9489,22851,16192,23723,5010,43682,32261,2876,16303,38758,28019,45432,38074,8799,44817,49761,25013,10927,29316,2115,13942,40793,43478,10303,54703,15931,48444,6863,6284,39914,38628,1692,7891,37569,11412,15970,31301,29525,39286,14602,28984,7160,26728,5887,35031,42038,462,37031,10874,49286,14227,40826,2171,26634,54657,41183,1989,43963,33104,14090,39744,7917,4816,13458,32226,12566,33272,21899,38130,47189,17838,8035,38537,43040,50362,44197,36299,45547,27690,45117,29940,7802,45797,4848,10104,47476,53034,30468,47302,31105,46396,9195,19165,28161,6609,34350,11756,36990,19973,18545,45311,51855,24445,55295,39066,6791,51520,12956,30569,40072,32037,25236,25093,45712,5166,39200,28264,30641,45052,17372,9483,44880,23080,53008,8149,26825,23000,5553,40753,22100,3387,12774,21163,52420,53600,18335,11304,36154,13332,21638,54966,42275,54928,32924,29926,1930,32801,24803,32055,50133,47050,31498,49999,32929,23904,29602,40985,37909,12287,31119,43431,50675,15138,38184,44742,33337,28132,43410,43434,12621,51616,4682,31856,42377,14750,14377,47811,7175,48759,16458,29711,55352,55319,17657,24648,25539,38102,50954,7109,54463,41796,38246,36296,13821,50494,25367,31036,51177,2802,8234,20120,52808,6303,14700,39151,38378,40760,41518,15713,2784,9526,16591,39201,37124,53696,44079,17242,47383,6430,42467,10813,1252,38360,28820,6286,50860,49648,46008,40490,21277,42154,5661,31589,38687,12497,32485,18082,21662,10278,47442,10103,17937,19071,20906,51685,48787,4092,7153,31059,22579,40078,36778,52035,24401,33024,39210,33796,41067,35071,46592,20848,36574,2709,2366,14654,5269,1271,4598,29725,35091,13839,51211,53442,14862,47512,4541,1417,4447,30449,5772,17147,54076,37992,3367,32877,45506,48110,33884,20471,32595,23733,1461,54846,29225,4130,55280,15161,40662,39081,470,49417,10551,1163,32614,35978,14164,7266,27983,32743,7307,421,7408,49261,3624,53174,25813,8475,46036,47191,30098,35692,11784,40275,46708,13872,2565,48474,49084,40421,23858,19339,53085,14211,45203,52712,45844,40009,14672,20100,20607,35941,14112,41008,9671,53540,7612,23616,8625,6522,3299,8048,25492,3315,20548,14014,53776,21925,7342,10866,21419,46307,3583,7498,35855,54559,1167,16901,12404,28125,45973,8595,21510,37362,2626,13362,15829,32516,3575,16603,42207,18283,46020,40092,52610,4716,3086,24323,51146,33262,2510,17684,50781,7298,45535,21802,16388,17242,36213,32942,31424,29200,3863,44914,26590,20876,128,24331,47321,15732,24564,3060,1411,37541,33501,46491,50605,35190,28040,24907,52495,8966,6615,18774,26382,16249,4476,53637,9822,23085,12814,20475,28461,13196,73,20660,13626,23294,34301,24354,22843,49353,48265,54583,13399,12717,55331,15317,16425,2074,49093,7105,44734,35168,25789,47408,33003,5389,34838,1447,43185,26387,22910,34916,33724,22056,16095,50728,43666,34172,3835,6386,37721,45867,12123,27046,2141,48533,51037,2106,24028,19533,48524,11779,15407,20198,13132,19329,50589,7659,15643,17217,50661,40887,14155,52364,28683,5701,25366,19252,22140,16847,30974,26232,47162,51743,592,6265,49769,37641,48166,8678,928,31801,25854,6115,26722,52402,52614,53350,47320,14127,14037,19375,42582,20265,20287,44504,54745,5504,50847,20428,5833,53189,34786,51959,22038,14186,10457,51224,43341,48436,54172,20726,10086,45554,1541,18166,22705,25930,39673,39053,7454,17179,15269,39870,27019,19987,42262,21422,41235,15597,45569,43923,5088,35390,11479,22565,11971,54130,33916,50017,24724,542,13733,23257,45974,31243,25020,50743,4588,12587,34623,18685,41137,9089,10760,23828,46244,48862,9112,29107,15276,11085,24819,49133,3402,21050,12163,19220,50763,40465,23138,35037,2901,8869,54729,55375,20815,15578,44030,53493,1224,32408,55001,21918,4780,13524,51861,13558,31467,18277,34880,21073,24687,5524,638,43245,3226,22718,21905,24873,1414,49789,27311,40852,15721,14080,45183,37128,19780,22532,10401,21929,53163,16030,24588,21458,1431,7837,40097,2212,51812,40340,28303,3474,1133,53660,39989,31779,7490,21559,3851,10135,35884,25235,44913,35186,28633,46445,49996,46753,21140,27315,586,17527,4521,6438,4626,51005,34272,30096,7592,6466,53930,12947,44762,25000,10605,28278,41265,22084,21639,38350,36489,15799,33456,12476,7497,28139,5954,22686,6396,19070,2212,38158,38859,26050,14687,42711,16351,4192,28496,19806,2804,14248,15101,25048,19206,6680,55472,29516,11166,28463,18202,14094,5882,34528,19608,43497,8415,3387,33751,29183,36508,6556,5940,40976,24468,23376,43141,43010,2960,11416,42895,29502,766,29658,25348,14499,42087,27945,20565,12979,22335,3927,13501,7499,5103,1146,8113,6300,41037,10364,47633,1505,405,7578,33421,45677,17286,4810,5314,47959,22860,23741,15653,13869,4724,51516,22518,33547,41262,15829,2971,17541,42661,44219,42928,52849,36349,52768,34713,20432,41596,15264,29463,26655,22497,8627,29733,22140,33962,16248,40129,19137,11376,45749,16784,28338,25189,45558,8083,32627,42891,51584,16018,20100,22783,2546,41744,19000,54206,7532,2414,18909,53445,28709,47357,30822,33516,8452,8348,34939,15768,47963,54197,29319,33093,10554,7567,51592,39290,558,33368,28914,16892,16330,9806,4457,32421,42227,3607,18493,18662,36955,14659,29708,34168,9828,45534,16880,27349,55143,31891,7575,26540,12003,44454,7421,50385,14540,46929,39749,45027,21617,25692,29695,27789,35533,5794,45928,37814,49063,17990,49641,42253,54191,19336,54137,25050,41479,43218,13178,16554,46531,24071,45188,11268,41225,77,32841,23060,50670,15167,32103,5705,9141,25581,42845,17668,1337,53555,48680,47226,49138,20319,19168,43558,33578,24950,32518,50880,32572,14856,33766,45276,20265,43665,48507,47894,46156,45261,25050,20023,47050,51727,3045,33389,1794,34631,20482,30326,16847,2133,21062,2593,41710,3725,19621,44940,42964,12904,46845,42126,32824,53317,6486,47020,22478,48092,25183,36515,18277,39766,41740,48963,22602,19090,20246,20252,51365,36748,4291,29249,24097,23065,5212,18970,30083,9641,39663,24416,47565,3527,17110,21208,31437,24973,12811,11309,52761,53201,55505,6308,3842,4029,30246,3138,3416,1684,256,44031,46168,40711,14921,50828,55097,49857,13419,12366,21597,48792,49954,29937,37373,19038,10368,32603,4704,7585,13098,28543,26970,4953,38992,20738,20230,46320,55209,55137,19489,44424,306,31397,18781,35024,55502,54460,35101,23791,47651,27064,42854,20534,36665,17942,40703,813,8388,31763,17978,14723,2260,7234,25360,519,27385,27496,34358,22068,7186,5897,15628,35299,29196,40161,27414,1116,1488,50958,46943,36104,7746,28337,32187,4042,6556,24569,27889,54424,30529,13247,54311,51168,33663,944,41170,23889,22420,48764,16122,6691,3597,26702,7564,1532,29892,5622,7130,8834,29152,41529,28628,50440,50561,50741,46813,16553,29046,12060,23896,25220,47843,40958,49018,8458,14756,27323,42908,1181,27048,51331,36765,39640,25174,4374,24905,51611,22469,52037,3031,50435,40749,14756,36775,11659,51670,52991,5120,20405,33375,50532,43439,31393,40319,53926,46740,28515,2576,16935,37947,27121,52416,50279,13544,24824,7167,561,12855,39606,46370,45060,14706,16732,45835,9895,27524,21548,42288,29028,33585,42633,27521,18921,44927,21750,4975,20538,25054,10101,4568,31227,45286,33593,17301,45794,20153,27030,45355,30551,20250,52438,53416,9692,27611,24124,54321,15951,12604,9797,18919,13052,42657,16617,7301,52604,42679,54148,43500,10221,48028,20499,45550,5898,11305,25561,17691,53171,26729,31292,7009,531,44575,19638,22428,50069,25940,32585,50267,8374,16066,7636,44024,23348,14283,46233,25096,12667,22448,163,3170,51571,23395,23273,17318,55435,13710,30606,40231,19128,21343,43585,49717,52788,1651,14847,43237,28982,26467,34269,24543,34064,46121,6980,24286,46643,51669,55121,20070,38318,37632,37479,54685,35967,33499,21581,43193,32797,54563,45237,14314,9707,14620,46115,23253,43280,19285,43987,18775,26364,11919,31956,26682,27530,5566,37635,12300,25906,51194,18093,16736,55188,35514,633,42402,41935,28654,11426,40725,27777,31672,21017,50715,44535,31907,14012,1334,12259,6402,14819,32242,35791,7974,6766,32437,37495,16135,48845,55097,21353,53489,27275,40115,48717,13926,44931,1202,4219,14306,22215,48497,26106,2113,17978,54738,80,36590,10694,50762,42747,3142,13074,8562,54539,28338,2266,55411,6923,35415,3233,3245,17934,13828,4561,19282,16570,7356,17568,13656,23650,18229,2083,36161,44008,50982,20082,37170,41605,7033,44575,41233,45752,34954,14203,9059,49996,30187,24872,8358,53369,47630,25711,21423,41116,50904,35137,36649,13928,44934,39363,54646,26528,2081,52796,13087,18825,15758,1978,41414,37666,26758,19507,324,18665,23033,4006,8321,515,46826,18251,20191,15171,35458,45797,49103,39591,40225,4255,23623,33954,48658,26089,10231,28510,48751,3017,1485,13458,40247,42882,49851,27597,31125,22546,37101,23771,48615,10122,26725,13818,2999,52462,55367,13212,48293,44805,39396,50693,3325,43034,12912,16798,953,25340,33989,303,15625,5362,961,50191,28690,17356,54230,45769,22084,41836,2871,3357,41008,49445,43884,45535,53303,25559,36673,47732,49811,12126,39259,39415,21171,14832,37007,21509,7476,12570,18410,41574,43082,2627,10383,41068,1798,19601,22615,23446,20875,16489,23463,11223,48053,19371,15182,37481,29830,42793,18923,7130,2193,37098,53240,29206,49418,37010,42727,13878,36400,26925,49293,50810,27493,53967,8848,34105,53927,49414,53373,36735,46591,49688,14311,20126,26476,19718,39218,30207,31823,49272,48879,29937,37460,30281,6190,25627,54844,16315,44902,5702,19965,40026,4265,49446,39818,53700,25625,21096,2899,7026,25188,40671,49970,38500,8569,812,8163,43901,7057,22241,16886,11352,50219,42986,12027,15264,3546,27467,4785,47107,44380,24066,19832,6751,29053,34378,9944,54988,41175,3017,20520,18584,36533,25128,25793,33945,33782,10659,2314,21272,9763,25338,29697,29221,17612,52869,37445,23422,54563,5631,19381,11260,14582,17281,22209,46687,42520,48838,3466,42556,22740,54095,25483,8564,33057,30953,19674,54755,44334,36905,38528,6525,43082,23247,53560,25409,55124,31324,32548,5670,30575,48526,44610,53936,9428,43883,37961,21996,6667,26849,2697,3325,23451,32203,7635,41568,43962,25785,28300,26493,3677,48449,25917,17509,19828,1791,50171,52270,38051,17817,14773,16020,12595,48609,37820,46926,46623,30924,5542,44454,36370,18688,18967,8486,894,40330,6343,18182,3871,27198,17064,50870,43239,29306,20718,23118,12866,50739,36783,2593,19881,31221,20775,32306,12923,8160,36850,23384,43794,20021,2219,20540,5474,8760,4128,4333,28765,52321,15559,6281,21521,48030,28401,52994,27477,26399,14204,54150,25419,15716,49766,16709,44585,14374,46924,36456,33317,37849,25875,19283,53879,24215,37919,27280,36817,5181,19140,4687,10122,50580,52447,21432,34351,45506,22178,34425,46179,12083,18543,4358,41511,6831,47135,49177,24528,53032,6643,46850,4007,52458,3207,51373,11182,17858,16520,37355,8700,25773,46097,31934,49051,20836,25218,51280,53564,32377,5200,1588,8310,28153,6194,22414,53953,21720,49622,46681,37524,49846,26161,1250,36588,54555,45211,29070,41764,40952,41862,17692,18048,36270,37053,18938,6516,44600,23973,13226,21782,28078,16566,21736,28338,55257,21661,39512,45593,2844,30993,4424,44287,27029,33197,48417,28659,28561,43320,19650,40664,43173,42076,31425,3554,6773,16575,28849,24779,28320,54712,48088,53309,17069,13998,6734,20927,3624,46194,16133,22451,25523,44485,44777,51886,11215,11302,17,19530,24545,4351,4910,54083,31481,37570,40276,54881,7655,8760,33809,52779,8591,628,29903,40541,23270,6825,14148,37113,23629,28902,45571,54513,44689,6734,26854,10466,19392,49717,586,15193,24722,52692,37510,48348,27073,38403,22007,9301,7819,35309,46759,55009,20002,40455,21547,7774,11834,39561,35766,27833,16697,36963,38337,8380,2586,52583,6696,36639,44207,10549,8041,53884,35186,27560,31816,27553,6443,16891,11031,27470,3337,26805,40605,34985,31025,799,20325,51852,43482,837,38365,42619,807,12433,47314,40363,12916,24042,2827,38417,39334,5182,30535,40427,18264,8951,50219,3724,44039,24348,27469,5773,54166,14491,44563,113,33797,28960,54454,36197,45645,20216,7467,6776,53393,36657,24455,37065,27291,30409,19179,12698,32253,18840,1388,50254,4286,12248,37138,41518,40846,15902,50096,48068,37468,8698,36788,18571,4544,24154,45073,10548,35246,35697,16659,14240,16578,4808,53292,18483,11122,2010,48531,3735,47402,27463,29977,34235,17984,16639,47716,53233,14453,12016,47756,49516,23851,14732,46776,53038,53034,45262,25136,54053,46584,36642,34998,50294,18959,13398,1037,29058,17251,21206,42538,49727,25049,10183,51020,3878,20483,10441,14769,28186,21161,37127,23475,44878,20574,28415,10081,17264,6865,25581,51290,11213,45334,32418,11798,51527,46659,35306,37633,8502,37775,44425,42772,18148,52946,44029,18446,8718,37613,18935,52228,15326,51016,9203,28727,24322,3075,32379,4365,39982,46140,7921,29001,31445,39912,52248,29839,34837,13617,25157,23136,30915,35143,44353,54667,25100,31760,9823,43520,48608,32184,1552,13907,45167,12814,92,46922,18662,42471,11767,7633,41379,42108,46697,21043,28215,10721,39979,34116,11202,32231,48683,48319,29802,31340,6137,4967,778,34146,42887,15159,32385,8525,32658,18453,40634,8048,48310,53866,49981,37219,44176,6529,55499,43168,45201,30302,4594,38830,14099,1375,6139,25914,43945,54543,54937,28524,34955,49772,53736,8925,32247,54611,18826,44080,52452,28182,27355,1376,28584,41950,11486,39767,30843,11096,48704,10885,37700,53118,28652,27446,14770,52302,16476,16754,32427,14990,3272,2743,30378,39171,18698,39547,7775,23617,36311,37883,28724,51205,751,31071,43672,3050,24218,32969,4872,24860,478,9413,53230,38696,33079,25677,5334,17718,19385,36141,49499,24224,6817,51426,24334,7330,40837,1009,46412,34262,49821,40436,54523,11751,53808,11626,41637,5638,32109,33688,49720,41811,42124,43429,9481,37247,44734,25409,50068,5132,2657,44642,29042,4142,21529,45943,25198,17575,30385,45922,5288,38001,32371,25350,5871,6490,20769,11971,26324,42237,44144,44842,28540,16225,33874,3181,32612,26751,5707,16619,14270,37006,19668,4260,21141,2741,21365,3699,16560,50985,34626,48504,47431,23069,41640,4009,1907,39925,12948,40048,55047,1397,5654,8966,14788,54073,3085,38948,668,46883,26928,9114,46582,38015,5808,43903,50646,10035,41360,28090,4338,47072,41925,49672,3433,11973,7458,44972,44973,7991,9986,11869,36700,255,38833,41993,9692,12337,28056,2361,25886,50080,44696,34803,9275,12408,12194,51317,18599,17173,35442,6157,50829,12053,12684,32343,6950,44146,4539,14611,41453,36194,16115,40280,11144,23521,40535,41109,48839,28686,46466,6991,32624,35190,26354,6494,26766,14458,53196,14108,5706,11936,4795,17031,33979,47239,20243,16314,5378,33144,44088,4991,27621,27711,17251,618,6750,29630,35329,33703,37666,48279,26078,51189,2117,41121,54263,35077,12274,32672,9173,22074,23026,46363,12279,15240,35909,53324,3991,41409,49430,16795,36386,50546,18748,30917,1568,17058,18752,2777,35232,5354,33168,8748,13873,17752,33913,11377,22811,24779,4635,2744,33495,46691,50528,8328,9937,2929,45526,40454,16353,2762,10323,836,33562,37751,52525,9342,21198,47824,37428,21188,20790,5403,19905,20996,21168,19291,21209,35678,29613,17416,35734,39365,11604,52342,2576,9545,33022,17615,30309,11258,11976,4684,10234,18944,12601,14188,45772,43356,37603,22227,43160,3103,41538,23137,24701,30469,33294,46802,22090,36599,47313,2013,9882,54769,12626,10041,39713,9317,42812,48006,32074,28579,41808,44184,40696,6597,35478,32654,518,32355,18592,35058,52215,27194,38887,42507,52283,33093,35501,3667,8970,27322,30253,30357,12603,39952,5651,38693,7772,33628,6444,19941,35762,47226,25232,50323,10712,32103,19092,25033,12040,7088,14032,43684,18387,52621,7245,7798,15860,33726,30571,30590,6245,52760,26923,21640,42914,28398,9910,50727,15861,21907,6297,41729,38291,38659,35133,6302,10899,12500,29491,2148,25537,2017,3008,11759,18264,9441,612,48868,19042,14323,30796,1985,13277,14650,11565,15897,3575,46127,19759,54058,12893,25088,11434,25803,41155,8700,38990,54263,731,46631,8611,17304,27900,54502,28060,15407,45487,27129,47756,38721,54611,19270,1302,21914,7683,38368,36881,9829,23483,54746,12483,46652,51868,26845,12788,21246,37846,20185,41043,50061,3659,10372,50230,24919,36775,19881,28152,13887,2203,26141,37872,12877,39101,16565,32155,54818,20033,1208,11427,6454,20666,38369,21374,3093,52525,3520,9478,30756,17780,52382,39329,30619,41486,45409,23233,12086,18661,20472,51988,43266,12599,26581,49661,24366,17834,42868,31704,1297,41303,38572,32895,37335,25588,29793,3490,50189,11932,1165,50682,34047,44022,5533,18222,28233,55470,19484,9223,41112,4894,6081,47340,3710,48805,2952,15665,44719,8759,19876,49739,15488,43597,51873,22985,26751,14972,41649,55030,11814,20585,19947,14841,47030,422,19057,27108,33569,25163,26224,23451,52259,6009,18863,13538,12338,19648,39534,1018,4874,3131,25134,1825,46565,38033,39897,13170,28005,8350,46911,50420,1451,52791,54014,7877,13288,46024,19544,11925,14081,15844,7193,17158,4148,30728,38829,33560,38023,36076,45534,13780,45359,29037,44592,32547,32249,34044,20675,19121,40340,46283,17779,46336,32105,26397,5725,10680,32222,8390,5999,30755,43198,37621,40569,35356,14121,15392,30383,10367,41234,22322,8052,48565,17579,37968,9896,503,48840,38934,12030,1131,46953,28349,22544,19935,21383,53522,44999,42160,44984,16720,54203,39783,8110,22968,52445,30644,51017,14057,2690,46035,13019,33002,13712,27730,52158,25265,28390,46528,39900,7879,36650,34294,35566,3511,8580,53026,23852,20235,51074,428,43276,39494,30384,53379,32317,2445,31612,41198,27648,41380,39540,8346,13480,23569,8203,51179,46222,4992,35102,39323,53459,50312,42663,8670,22013,54616,27993,30029,29162,47958,1084,49831,38932,37992,2105,54284,5491,42491,51176,36188,13386,38298,31037,42374,47202,39563,8234,4676,33417,47733,18043,12512,7419,12906,50335,5531,9979,30777,2444,6356,14004,11729,5430,40332,7195,52816,49731,10529,28891,29791,6334,15276,1622,1635,28093,31688,22377,50694,52639,43006,25293,2965,23530,30225,46414,20095,5054,27930,30660,13162,17046,37932,30088,1572,32657,19320,4775,33302,54982,43199,35086,5232,17579,2532,22506,33055,51976,25105,14075,53415,49090,25137,45183,49402,54122,36424,48438,43904,17614,40578,45070,50340,55225,39370,38596,44075,4873,11883,14906,49821,20277,15615,28868,194,10725,9233,16482,46269,45128,4037,10231,8077,18217,16358,7775,222,24124,23010,21895,36287,4090,26021,35171,41640,38148,35304,30580,34193,41048,16164,15555,18873,40092,43927,43895,1041,44490,14766,23092,2925,30706,32234,21630,27320,13448,25370,34480,16557,43044,55272,29610,10685,52455,4992,45792,50103,35490,2119,49449,37251,6734,48599,11927,40204,8407,51586,46075,27517,34905,17726,37256,40026,26777,10995,4001,40263,48893,32438,48118,25876,18637,5565,36303,13371,36052,16290,23166,47874,34248,42723,17671,40262,22735,12830,54735,36513,13167,26248,14878,54628,46874,36507,9278,595,28553,47263,24660,8422,41365,24490,55339,28591,22734,42081,42206,33606,23721,17096,37334,19709,10025,14977,52111,5923,13000,21948,36444,44562,16001,15264,9133,21058,25829,19097,30845,7144,5802,16720,9831,20642,23209,40343,15091,38729,36690,47683,19555,48631,30062,51369,53863,15546,39314,10083,17523,9577,22246,38349,53548,40909,44149,53513,359,37327,35401,32010,42422,26242,38236,22898,17196,47677,40493,40348,46939,16126,37276,11630,45066,26887,21926,22680,1261,45181,15295,53419,3243,568,22036,9298,40508,29945,23096,45790,22499,44302,26908,49534,13041,12288,5990,25757,25388,18224,2266,41910,40511,5006,700,13086,26300,26666,53379,21638,28300,48014,28046,309,16485,29911,28631,50633,30061,48662,25991,7198,16601,44236,54458,52293,442,3364,28,6887,25839,21204,9639,17187,53729,778,48161,43970,46429,9945,54342,13926,28927,27293,12347,38639,41990,18628,53182,21532,54788,7080,51195,5968,33376,27184,55123,50006,54717,450,34683,15448,30530,22866,39059,21746,18504,25787,8091,28739,19604,31996,41080,6968,9495,4774,11304,35302,48848,6880,35217,55365,39927,26840,21228,34403,3146,36747,1992,43100,7294,9279,30271,43962,18903,50901,34724,41492,4207,13083,670,10686,26829,55220,42905,11653,54775,22800,20802,36572,28709,18940,23342,2543,51315,27807,54606,45846,48507,22049,39076,25087,28883,18770,10187,53476,32963,3539,41439,30783,22985,6167,32807,21403,12080,35207,35467,18461,54964,54128,21701,4309,6162,53761,6363,26511,20674,31108,44428,19094,55311,48537,13073,34049,31615,33660,48873,52099,14301,33840,44773,7266,29171,49043,28119,39666,50964,49654,33142,29320,12777,10217,14670,34706,47738,34220,23214,20234,11844,5820,42876,7909,1011,816,6893,1600,10209,53771,3988,47128,24242,21670,31673,33208,54727,52019,1923,24417,15741,5500,13333,50602,5290,18714,21024,16311,20290,22014,50481,9860,52020,14150,15051,41071,17213,28248,1405,18075,55166,30092,42460,12761,8041,22298,3821,20150,21305,1728,17057,5489,19690,30847,35531,8500,12879,26062,42540,31966,47601,25581,39846,30502,14918,15254,2074,18836,29310,7780,24080,1833,3020,36187,18017,32833,32227,27225,50517,36696,2672,18127,49293,24775,39759,47980,31074,55084,7207,43244,6581,52878,38220,1086,47108,11538,54127,11130,50410,48385,29497,31254,35351,46875,24671,51210,31714,23172,43264,18198,3347,46206,18921,13664,12115,13178,27078,31019,14160,46733,19837,13363,42785,46107,33562,3035,55291,36797,24810,52324,50182,12454,47644,41700,7270,47022,46350,55138,54500,33645,43053,24274,18792,13735,3832,15426,6940,41054,22386,27583,16572,21115,33197,2903,4187,15122,24068,38665,30250,51978,5336,28771,35641,2726,25932,12242,12921,35979,39589,44360,8378,12069,55136,18536,11178,27659,14659,20598,51054,16328,18199,4127,15929,51573,53536,1733,7474,13507,28192,25494,20002,19191,31744,13872,36479,54694,30428,38936,16969,13499,2729,22634,9608,26962,47750,23592,15749,49579,49611,43210,17951,44001,53291,43136,24256,38065,33532,48923,18150,28016,749,16426,51524,42555,53014,3933,11190,14712,24399,51002,45440,363,47666,6679,4096,47920,1281,15747,31017,28662,37705,2583,17711,33274,12331,31181,19488,51423,9941,39815,11297,10008,37638,47517,3034,26942,47046,29843,32966,20857,47223,15492,23271,1432,34383,20715,5167,43766,11423,44642,23542,729,53608,35656,48356,36191,21816,49011,27829,44941,2796,51752,22923,15958,47329,21205,35078,24466,50107,54246,15377,33328,54138,6152,20614,38264,54021,869,1074,2925,18704,11664,19506,16570,29522,851,30276,25033,14456,4408,9330,40883,10202,45421,11363,16754,43715,50348,45831,7726,31346,24212,35054,30383,41834,53967,14140,17459,4604,41585,6538,8783,2469,28604,36318,16571,7933,16480,54457,8347,45152,50101,44804,48097,53572,5772,42706,21673,30415,9157,36765,44545,6481,12725,54861,44158,878,4538,7305,28022,41266,38398,43332,17075,52040,51566,53819,50850,28724,16507,8461,32656,43991,22853,3558,52287,32567,52278,33837,44718,46967,30917,12724,41426,27634,52621,2770,34593,14739,51502,3589,28024,54259,31837,31580,18723,16811,18386,50217,47039,33090,19459,18850,38793,52763,53233,43057,31073,46754,33583,53307,9983,13,21996,39411,37310,48411,30425,12641,32485,51268,19160,43718,13093,15325,31045,14611,50086,5747,53679,6718,13163,37633,55443,15981,48682,1734,21266,13738,17900,6623,14799,29580,44318,13801,51577,29258,42546,37084,48833,22206,4247,25792,35814,12802,29059,4786,45660,20676,39063,12217,38539,54074,47185,40529,31175,44461,39422,6352,18072,16238,18511,17281,3530,10779,36036,21174,29017,21125,47627,51611,38184,2855,18950,2682,44328,21948,10972,32682,34997,2498,39788,30749,28139,1818,29379,15057,9527,42351,21434,29225,12015,23184,25856,40515,33016,5861,30745,51737,11094,53757,38845,17164,17521,50319,51934,10941,3654,2926,367,14266,29917,44113,38443,3198,41552,26319,14290,25262,9914,24986,3065,55138,53100,54715,5146,4546,7212,31296,23036,2354,18316,48695,17720,6228,40175,17794,9234,8786,42943,13686,50297,12169,55136,9206,10206,50241,38587,5412,40280,23149,28765,4921,6536,8409,32547,4151,34600,5464,5616,20593,46756,5065,47829,29501,10415,16987,43025,44182,46856,23493,5922,15401,41649,28298,11525,5396,1218,37662,52138,17104,9199,38615,33704,37666,27828,29463,5217,50137,7484,52733,23713,11164,34866,30557,25280,47868,2808,37513,19067,35886,36153,47707,49311,48205,46672,51358,45286,12974,25275,31469,38524,20890,14718,26873,25265,47550,38568,17768,18878,52900,25743,24577,44006,8157,27632,9640,28305,45313,13463,580,44440,3098,52156,30811,27013,17563,3741,39319,16425,39927,45025,50919,39371,30798,11437,48911,14608,48008,35120,53626,51276,26419,721,34444,22550,50657,43284,37184,10118,45911,53445,24657,22892,5470,55204,17721,6940,50348,14605,54728,29186,41702,26192,54150,43283,11660,17307,4253,47903,17879,31886,35224,11783,20759,29310,44592,51635,13317,28196,26519,5068,22088,18292,54083,30031,48508,36113,53079,26563,37299,36019,31631,46465,21921,3334,18933,14225,9901,37641,19407,55490,24018,20530,33154,53562,11109,5943,2840,20159,33505,17261,28061,22798,44450,36143,8741,35302,10399,48743,37485,24297,30087,3395,708,45446,4629,13291,44072,4274,16371,47105,47140,33707,47085,24400,43020,2631,36625,8094,11252,28928,54555,3888,22824,9538,38773,44958,43189,24946,34985,22508,49607,36091,5192,40150,28289,1756,24116,11440,36742,24021,10673,38189,53293,30828,23697,3330,28088,22229,45326,54374,16329,11033,49166,19446,28490,19814,30823,21612,38575,45330,43788,17631,54525,36393,5616,2102,21317,18255,31945,37839,31688,20455,20728,32988,7382,53932,34692,41983,50807,19724,33660,27506,5099,751,37216,40460,21909,29596,48574,28268,54334,10344,55479,17488,15974,18573,4068,37505,48789,26351,4584,426,38046,30583,19689,41642,43020,28221,15986,34674,48880,6950,30948,10338,2245,49635,12603,11365,32575,17702,51159,54409,45448,43964,1434,45691,43625,7050,27275,37681,33057,1019,42544,19592,18976,19819,36075,8873,31631,36195,50663,35048,46603,48224,14921,7065,41643,12865,22625,44096,45354,1263,54772,46891,21285,14440,23052,9610,10106,49591,6360,15236,21229,15626,28825,9974,20882,46567,43826,26863,5369,51795,32831,20495,1157,5619,24496,46220,40697,38032,39235,49791,11272,31777,5346,7790,44745,21115,41604,24044,8673,37987,43221,43962,34415,12044,32685,25411,30082,25507,20290,42655,6685,43420,9812,635,19402,21548,19880,30314,17362,38111,38605,29456,27738,37983,44667,22342,14915,45949,49026,50882,27722,14299,20284,42085,21917,55399,24756,6413,52631,25937,52351,32485,19035,19833,35066,39029,31389,19947,44178,28602,12646,54455,34312,33001,47338,23668,38002,22701,11741,22383,49628,31327,39127,20628,23191,28658,28643,10169,2291,5667,39837,5788,45380,53886,22976,40418,45087,706,34256,23590,3233,38507,17299,46933,23985,34560,45555,34833,41486,25605,31242,21107,21626,40989,23680,29739,21330,14929,2086,43114,12063,49234,46831,53008,22163,16686,28728,38065,25461,24072,35315,24647,53839,52047,30864,34340,29505,34906,12924,4909,9454,50484,9693,8679,6821,21754,14753,7212,47573,11810,45358,53165,41946,44976,32445,44127,38032,21270,16893,31926,32593,23766,24312,24040,27379,3854,20270,24515,33844,49242,40130,11716,45359,29803,12322,47606,28227,31335,54732,4264,27038,42691,47914,2941,24677,38510,30173,16886,15623,20326,44086,18233,49048,33573,39841,38211,16881,42744,39576,37535,47883,50550,55125,47927,25073,2052,53822,36019,25088,12302,41709,22438,16892,20126,47589,163,43012,20329,43408,16017,18479,18561,48786,6133,1812,5616,49880,2599,11104,45627,11667,45157,37765,47990,29705,15353,7322,24786,34440,11509,15375,24556,20674,37151,11904,2381,17154,55377,14638,26025,12171,19214,46416,16282,11439,29555,10358,45159,46106,39999,49104,38399,26442,25131,7360,47868,48954,8611,7820,55027,41544,33839,17052,42635,7892,3073,32650,13356,8928,13943,461,8421,4057,40984,17289,8425,29571,20353,21538,16209,18684,26779,12734,49642,13327,6376,45699,14737,51650,12514,11184,51348,15342,51802,28953,43072,37795,14734,23928,35433,16669,18509,50585,28275,29274,47243,40762,17324,29608,17718,41251,9756,22385,32211,6434,20352,9210,10752,9431,51836,49575,9339,53765,38019,53521,26232,19835,29348,41430,7205,48366,24177,24377,6183,52492,39393,16827,25081,55202,46392,10825,44378,14662,3080,8685,44659,44624,45849,54215,37493,46681,19510,21305,36753,29174,34965,54315,18375,37943,12459,15260,9552,20110,31686,15310,31810,53751,27450,8154,39483,45543,31941,10847,37302,33590,19463,53509,11137,44591,27031,18930,38912,43712,24953,10252,4844,8650,31069,51077,28083,906,48042,13893,54501,39603,22344,48836,29634,38944,55307,25492,8101,20951,50252,35583,5898,6299,9501,9582,18691,34637,47053,40851,40543,2653,35204,36755,3125,1683,21743,16888,53988,20978,40897,12973,44140,52587,15538,11195,35780,33893,2434,8800,19685,14018,25417,52220,23440,5869,29952,53380,6041,7849,51399,37600,48329,53971,43978,17267,49523,32255,54449,29197,16443,28572,13944,42688,52270,38797,47080,47859,5662,190,20579,19976,11413,48087,15082,14101,46108,42773,1586,18727,12711,43150,46785,53402,2100,830,20394,16883,25054,24150,23154,32809,753,38511,17827,41108,7578,10893,14908,3408,22688,17838,44220,2136,49077,38590,55508,15235,22109,9853,4591,50285,19474,23619,37232,43289,40512,13891,11711,40351,14762,28249,52420,34530,22212,7117,28382,7269,18261,51240,15024,32527,28550,54493,37502,49722,37422,42569,29630,21726,19115,41033,33532,12145,44760,666,24730,41309,35241,21420,31816,17438,21575,40339,26103,9704,28221,1956,33320,21101,41521,36417,30041,8163,50079,6859,15289,15321,52186,49490,22105,51903,34615,22527,31324,48450,45722,2472,36184,16070,6448,40309,10751,51691,47413,53509,13589,28533,246,2300,50834,28434,8686,33132,30316,22847,351,41119,15456,49589,39784,50971,23557,44235,22053,5519,34023,3525,44948,3451,38263,42237,9560,43001,18549,14905,47472,27263,34331,1687,30821,39659,53305,45636,38223,49584,12719,33777,41421,51892,20468,31281,31787,24221,30227,14185,16826,28892,2655,50819,55257,49823,16006,41268,48360,44417,42375,45617,55451,9742,22881,36333,3475,13737,55389,20932,36305,8571,45627,24590,17646,19038,35004,20369,24195,4642,5356,22105,36256,41146,30402,50742,44107,35592,35638,40350,2417,52336,49325,30768,44235,632,40277,24947,31139,46330,49326,13178,35063,323,26715,42055,33242,19431,25784,51949,20102,38743,28021,26060,2332,55260,53128,46418,31969,40913,4443,14239,8267,47350,47430,34763,19072,27123,22331,9493,47019,9263,11698,48559,30529,17980,39909,8145,8961,51133,28022,7877,14563,18041,36178,44194,36654,24967,12989,25989,24036,12017,43859,49783,19725,2055,11783,30821,33834,39113,54259,1256,15365,37844,12303,43189,26052,50427,47022,20332,132,54402,36280,48832,53263,23322,44494,9868,36075,6368,32884,39245,5258,49413,9847,49844,51547,18415,851,41531,20715,13478,40539,15675,43013,53704,42146,26935,21635,44576,10328,12796,30127,17348,29500,42086,54335,21207,37142,8697,32567,21320,25391,54475,18325,44634,19310,37983,50880,34206,29686,45705,33849,14289,31119,17485,46570,38685,45974,9701,32098,49664,38431,25423,31402,27116,12754,11474,28010,1598,6755,5865,4750,40242,32794,54256,44094,27969,47765,45777,38150,24273,9951,25710,30584,52639,4935,2753,10720,25778,52063,20004,41601,17468,15051,21455,33490,44896,9034,27065,15561,12989,47650,53388,40735,2639,5592,42327,3016,751,2445,41573,29833,24186,8159,3014,22578,43465,55463,30819,8821,43426,4574,14991,6338,21169,4612,26796,26531,29433,16084,15639,54261,44626,36452,32819,25352,40387,50009,53665,45137,54004,24942,7670,6392,47129,17775,49449,50460,36504,14144,51960,22547,53548,15417,41543,5591,5462,17769,31495,48053,54428,15824,45023,17136,34958,40547,5397,39496,27523,25648,50560,12958,54392,30410,37470,49347,20503,6422,32736,42480,12666,34313,17608,27784,15027,16458,38411,7694,49431,42033,5311,48856,49510,40330,10276,42879,15406,4279,24141,39933,1718,33985,14023,49412,13576,33101,17972,25648,22824,27605,8795,46054,14658,5968,17661,1976,53026,18028,36129,294,3837,14052,36879,44105,25903,28353,52360,36701,20960,28227,2101,40370,9913,28633,24327,35537,30250,32004,45548,20130,32014,30251,42818,10503,3052,44394,43561,40343,22465,11096,10323,50026,8236,9312,33645,40992,1613,33008,27562,44219,7139,46454,39586,31794,4358,39535,43026,47555,22194,3336,44868,15183,20798,23457,19472,49856,41054,40009,38182,51756,5967,48821,7125,35850,53280,23322,28745,42613,8378,53374,19776,7284,40855,39866,46734,2368,47468,34479,26316,39216,38637,50402,34464,20765,3827,38883,16060,46605,53602,9653,4140,21167,36092,34992,49049,23542,7766,55125,47041,6424,3160,40442,49491,39319,22501,12618,14548,52864,10228,37907,15073,43205,39519,26169,13380,16188,44597,33235,41611,22552,12431,30114,2674,35464,33967,49250,36253,30532,38026,24841,19154,5111,20021,34790,41868,41845,43270,15359,7905,20776,11127,45928,3847,30239,24958,36136,14217,6472,6008,33422,52487,37652,2426,11700,29472,40846,38768,29542,22092,17394,53487,18929,54384,3925,27939,20355,33254,11920,24159,26331,39809,257,30117,39457,36678,10145,16872,34237,227,18424,5664,35747,10344,41723,21156,35450,10456,11961,26855,32143,5325,22238,44210,53765,54574,28751,6827,12800,19798,16554,1531,37537,3191,6845,19855,27787,10555,42099,33801,23041,19729,32762,22056,37311,16181,53048,52806,14171,14187,38962,22990,58,15841,6121,40643,26511,49177,32075,17799,31323,10462,16850,2813,19606,40155,49695,14387,32686,26638,52753,45409,49866,43262,15828,4504,40200,39410,11598,10670,38441,26640,12314,24594,13684,24140,45299,26609,42184,27148,35367,36044,36849,13511,42549,41462,19484,33575,12905,30584,46595,42900,23581,25463,49647,50094,44116,3046,4543,19113,21805,32857,5488,51596,30798,25334,9189,28184,49116,31155,50335,15307,11682,11369,46012,37447,25911,37577,25454,123,52506,43969,33727,50325,9796,46400,28865,39299,41361,35671,39481,1970,40043,24021,24604,33768,9299,1362,4341,17772,54571,31915,30487,26587,34651,53980,25804,25422,15824,7072,11054,24771,35992,41392,11763,36967,28959,54436,35041,54070,52392,10169,55006,47834,19341,3472,12167,21235,53975,43965,36428,25593,11135,3794,17566,4770,3004,46982,34814,52686,35221,44354,26849,17372,19119,4938,24044,41517,15387,17897,2397,12469,20039,5743,42812,51649,13723,54216,50421,29103,27786,27732,34690,34544,33414,36865,28034,4737,24374,35312,2034,43365,13928,52409,29820,53906,16306,25138,486,35693,47375,12468,11050,31897,12061,25620,17717,33298,49428,40037,35542,5172,51536,22049,11267,15339,33104,21569,28298,7028,12487,51985,23749,4882,895,24888,10010,41183,49237,13542,44745,32981,34223,6462,37783,53459,19615,11354,31762,10880,286,10754,715,11572,48679,14263,36895,12844,49948,33830,46875,11713,29997,14896,3516,28165,53781,22801,27173,19048,40552,40087,24218,30786,32230,33578,27076,10056,15026,44214,19344,45701,6364,27109,24801,23898,51632,5770,49257,38713,14159,27538,53984,38031,28027,7830,54563,53291,30981,26344,51812,28047,51119,17554,12860,11975,48273,38316,35038,24882,21431,1487,23441,46547,4574,50338,31164,28431,47233,26110,1638,3850,47287,2752,30742,43763,29792,34805,26131,42016,23819,41636,51168,32999,25864,47861,196,48903,13905,45268,14079,6902,8133,2613,51488,11764,5702,26487,32312,18666,47637,1660,54906,7527,41950,38648,50359,25380,29147,16956,35621,3690,30055,9935,21929,42830,25619,42304,40404,41650,38924,5940,8573,17415,12659,46888,50485,37056,12842,2811,16539,28757,34487,49447,16865,5898,45342,10782,26525,46605,43884,33140,46807,4067,4865,21614,36264,21094,53094,37752,16510,48615,36208,20216,51532,18947,30910,14879,54851,46753,53645,40414,21006,3281,42103,28591,50929,5992,12070,16653,46777,30922,43835,38212,15381,4235,15241,23411,19238,7940,37688,26966,53679,34269,32649,49912,36857,20278,41246,23648,17872,7019,45241,14218,34586,52020,18543,8463,4190,17764,635,44227,31005,13464,39725,37919,29341,5018,20622,22402,40521,12898,45629,10631,27399,49883,53462,4940,45259,44833,47701,39341,22744,37787,868,36848,11702,27858,12502,27619,18003,32663,54422,11067,43393,49528,19401,6003,39512,16625,55037,40716,5784,22915,52951,40750,28804,1557,18728,7636,14802,6785,2203,18378,16682,5905,2272,16171,48120,35240,50670,25863,32230,23074,35515,27809,18325,314,19349,26943,18664,51702,54983,11953,33183,22709,14082,25720,13111,13267,51247,53088,38884,24986,54623,2782,4245,20787,54080,11418,24455,23378,22796,53967,52932,44644,3472,48995,8024,33759,41860,51592,39459,10458,13441,27816,25584,33294,37315,24614,45782,42889,28014,27688,26525,27313,4192,23370,9419,40519,34981,14538,28060,27427,32138,17443,32373,43048,48940,30563,5909,1472,25725,43320,35437,2454,42808,15075,49710,20447,53498,1860,43655,43541,54657,41369,21208,28150,28139,32502,12804,29406,51028,21985,32654,50989,18451,28303,36167,45766,12121,28915,21542,23857,29723,14178,24837,30545,35023,16712,113,42466,40661,54338,28735,52174,26250,1990,51098,10924,7280,48732,1192,45962,23547,31164,8593,19941,52772,35177,55355,41175,22228,54979,42001,21572,10199,23790,41705,5643,40492,51365,5809,27608,38678,8333,10877,37538,22125,28956,49425,32152,141,43398,15905,40721,5995,918,2353,4422,19152,8037,37090,52210,41100,39020,35073,22859,16881,25084,10068,16264,44965,15510,17123,19297,34104,28285,33596,21665,46260,15539,32669,50902,14563,46409,44748,7804,12291,41579,23525,28586,45728,42286,22859,46746,9311,51421,53786,1706,41605,28866,30773,1,5156,24939,47183,44290,7811,25496,5379,40468,41398,156,1918,54971,10799,1274,48056,18365,53040,21432,34826,54421,25797,45764,31326,24942,32270,41997,19355,12937,52206,5135,27369,16786,24883,28704,30768,30358,15483,22496,21567,14194,7692,16036,14227,9035,29810,21305,19144,2156,3717,25437,7682,46418,2578,51112,26112,34400,31678,30660,38551,50241,40337,36402,6782,35436,27162,4270,42779,35252,40603,20800,7592,31817,17065,43652,32436,5211,15905,5081,17708,29899,36587,22903,47133,16146,19861,18378,40607,29795,38282,33388,42387,46825,40063,21625,18565,33924,28009,18811,23696,12407,49704,51977,5916,34395,21424,9839,52834,42789,1314,7456,18256,42619,53337,48804,24694,35105,32311,51628,12969,49721,28649,32958,54069,21996,41266,46759,52438,55156,55198,5625,42804,7731,46436,21107,37087,33037,43665,6805,17172,10545,25043,16393,12138,15533,2487,26188,40526,29759,41001,54254,840,4178,21175,32237,14719,3650,41661,19863,17712,54440,5994,48273,34281,4295,3644,54849,20476,33655,410,29466,52269,5919,39233,16316,12721,45033,28488,10328,52076,37520,24098,26489,38566,4433,27472,49367,49692,38324,2475,22717,4742,22304,11659,7603,15109,5938,1233,7998,18165,3344,51514,20661,37088,52279,34976,41657,3801,42690,29319,53982,32771,39639,26674,42883,49240,10209,51114,39121,20468,15870,12143,38065,42351,53292,39901,45015,5583,19195,32395,8113,45787,17338,8816,22235,16079,20472,16865,17732,30572,28956,23223,42431,8102,45030,28859,41170,19497,6835,28017,24626,54308,21454,25758,40324,8502,28117,12404,24348,6558,40443,16681,39041,45616,350,7911,18705,24723,17293,32981,14846,2303,52081,39792,41425,46858,5500,15018,36728,7252,36853,54992,34645,8017,7582,33337,29492,35420,36000,21169,33305,8417,1312,23269,4529,33738,51920,51367,38928,41344,35620,30609,46775,5361,18105,20904,13540,10467,31128,1079,53997,42848,14061,34944,42097,23579,3782,32743,46455,35687,6350,34093,41434,52981,2659,44779,27313,40563,22851,29300,40871,29873,952,5148,12518,55443,14926,2335,50651,1868,24204,1095,7156,52946,53309,27084,47524,38727,18994,32526,29194,505,45453,17596,48678,33381,54553,3491,21976,27028,44721,23591,47933,33785,44816,50425,20544,851,43455,38664,11315,53106,47454,32440,31149,15095,10879,15746,9830,50849,11323,12201,34551,5224,54570,44632,10215,38315,10740,24042,1942,55322,50387,7973,33993,33954,22606,50101,53881,30398,45001,7237,40141,167,10971,5491,24342,45835,37019,20315,18278,17494,12798,12352,16390,40962,3815,4905,2945,20173,33044,23000,25099,39215,43401,31553,39585,2623,10736,14093,35183,31065,24423,19036,43535,35973,5595,43694,28631,3501,2252,5406,6609,26415,52584,46217,46654,30178,43862,14727,26679,26660,5303,438,46913,52485,36833,45196,21662,7877,13731,28686,17215,22173,4502,7966,33101,43532,25532,39014,9764,27589,47022,45907,19151,13350,30513,7017,30627,14970,11018,17326,4158,39100,25401,30698,53204,24976,3446,31311,34118,16258,37520,38315,42687,20548,36594,30401,37546,3880,3352,28298,9923,15753,21096,33091,32145,40301,17809,38962,53383,26869,46394,45767,2447,54937,10559,2057,14900,54552,27345,48769,18309,40687,6330,48678,44024,23212,22994,24752,19251,29204,36885,17754,44217,51424,21930,9848,50697,27867,44728,6523,35841,4008,50981,16689,14514,36310,39990,29411,29666,29763,28453,25274,46913,7243,31601,1821,5492,18738,21408,41115,29060,9489,10265,52281,48177,55155,9293,22525,42099,30138,10737,53823,42018,42450,52221,8779,11998,26367,35675,40119,6054,18981,24149,18065,25120,22945,36435,34863,17781,31016,36425,42684,7945,13665,657,7370,53412,36114,7008,31795,35825,16220,38229,26587,41850,9302,11908,2706,21654,5415,22643,2077,1575,5910,33998,25789,31161,44771,42123,46850,7941,13987,54106,4823,48762,48779,47877,20850,3233,13515,23653,39415,1096,292,4514,54652,31231,51008,54297,28677,12861,19911,38145,26822,2888,51255,39662,15631,40155,45695,46830,33409,47145,51435,47141,39361,24079,3602,18368,40680,17904,43437,43988,17193,44724,18930,11954,39485,32212,47950,44799,4943,37008,42010,51499,40230,24660,15934,29666,51541,31862,6215,37097,7251,19537,15153,21070,43584,17206,34131,55335,9106,8396,31005,16086,46990,13199,19303,9932,15676,34276,26475,33900,48208,2678,53109,4666,11104,1306,50542,10350,13583,34983,28741,19775,27840,16381,40358,42898,12323,12685,14020,48659,27299,43582,28463,40900,13726,51482,402,36368,20863,36317,48822,30454,23759,24155,5181,11207,52362,54836,38480,44052,34101,25438,37241,16647,21995,6020,23812,13667,14621,17320,28531,50134,22789,48594,7770,12886,55254,13060,8785,47063,31548,16200,23715,28277,25716,28022,48028,2606,23624,10268,1679,3161,43914,49468,52781,25021,1367,47971,16745,4015,42151,52500,22972,42233,1706,18750,49393,41360,38461,10349,55045,18779,55147,19840,680,36391,25283,14686,17579,38173,43080,27841,49637,37127,12355,47061,45135,4671,7124,19876,4909,52277,19262,54042,50133,9267,20827,23762,18094,47999,46573,42743,50692,23245,33908,22642,35109,26558,42129,11748,14831,38863,48100,7791,45410,8031,6539,49257,29519,25541,29897,4026,31228,49781,35866,3780,43908,49325,18117,14395,46724,9427,16806,33352,13828,42188,10210,13246,41331,9637,11597,4179,28312,16904,27799,29383,14908,4004,40419,42879,40722,31943,46945,2081,7334,26659,5354,26646,35326,41176,3837,47151,3135,42032,39824,19139,44191,51720,25667,54922,49007,31604,30463,52120,10101,21456,32535,16160,5895,4082,47314,25786,47201,48857,5307,28436,36477,20300,29078,9763,2353,50483,41380,20858,8829,42959,17023,43101,41845,45382,25979,13369,53604,31379,24058,33242,15244,45584,15061,36519,54535,20346,37606,1405,17904,17354,710,51018,54703,25449,54417,45659,33938,12967,45141,45698,13411,23204,16294,26642,21257,415,51996,8695,39240,6139,26680,27272,14076,50915,41412,13486,34915,40434,5333,6856,51145,11398,40596,21374,34388,50685,13312,11145,29428,17336,20122,45712,13951,11535,38237,46893,40357,35301,148,6317,51664,23970,36364,5230,34909,50643,31637,20128,44881,44163,31324,32820,3845,2414,4690,11536,9465,45369,32912,22658,24926,17920,15617,2307,52341,16091,40983,22278,53415,2299,40665,21327,5341,14478,35662,39952,29134,22221,28174,8358,10187,32772,55405,54986,52210,40607,46226,23,30537,1422,28343,22692,37340,50079,5279,8688,25015,8054,24851,51909,14103,23017,49708,50890,18090,19781,39151,35484,54184,40648,38266,45953,11978,41022,4662,41749,21915,3670,41339,48773,53169,14723,53527,13861,48235,4665,18560,51574,6816,33222,14525,14902,46279,44133,47319,2160,44844,37364,47804,18440,26434,42899,33865,4020,4662,48575,37563,21727,35222,22695,4958,25751,6907,46515,4556,34924,24183,18014,44457,30839,55411,7897,2139,21714,25947,13982,10256,27921,4348,34280,7834,25111,21639,14781,37343,25117,26347,4105,20758,10764,35750,29862,27267,44740,13752,4887,9362,32472,41363,34006,24244,798,54464,10245,30752,12528,46871,21776,898,37016,24024,11782,52477,18792,54650,40544,30238,48475,52150,3321,13689,22561,20989,19694,53512,4805,8268,6823,22400,17311,45208,45257,20449,36097,30590,34646,27682,6426,14539,44238,23370,3204,2944,54071,44955,32659,1412,54929,28786,43782,35790,40272,36947,16066,43071,52452,10508,27662,19648,22647,31997,2241,47127,37662,42163,2758,52204,53220,55388,12262,49430,50883,42961,51178,10427,47499,42857,52396,5150,3647,45452,51953,36946,10786,22441,25135,50456,20830,15729,20814,2003,19256,42200,7039,30157,50552,7789,51643,52589,39992,29125,4807,33114,1658,28494,28535,35426,17632,19738,5562,34803,17803,3502,52162,5311,16387,1968,23934,19301,484,33665,49766,7925,30147,26393,38362,41048,8756,7887,47284,12797,55040,9955,46058,30444,21380,29388,11252,0,35941,46905,12651,23743,29327,41765,47696,1740,41061,55409,3617,26655,33854,52485,50505,14959,39749,17576,42394,9948,26661,6670,9228,46443,26068,21364,4051,44794,51373,48608,27024,29188,25784,8135,37553,39372,30374,27757,9281,50997,39185,43662,33909,25064,16922,5053,27994,31428,47542,23779,29792,8393,8438,38712,29027,45843,49271,2155,12043,24068,34477,54425,5145,5582,38980,48670,35726,50219,34457,41971,34937,10541,4862,35183,3580,28763,7111,39754,5325,49976,23014,35844,7265,41446,7273,50346,37402,29914,20002,38889,16325,49048,41844,14167,36813,33901,22908,3784,43694,48996,37823,50300,13346,25707,39965,44130,5700,28139,38528,27622,46495,46694,8321,42180,20911,24296,29459,38655,23635,6978,18208,36884,55486,32920,44324,13242,8841,20886,48819,16488,21945,11939,4664,13637,32449,32997,4121,39689,37758,49413,34110,3547,5999,9231,37422,38554,8477,37987,3343,14192,50307,24521,51934,37470,14268,157,50768,13741,45638,32925,3721,43746,24584,1581,6921,44639,17698,49522,40119,35388,16945,48242,20420,53043,6330,28640,48393,47929,3080,27994,20346,6532,32325,17572,20524,25651,30112,15189,4931,4878,16710,41112,33396,14690,36873,23973,28979,24862,43579,35863,40403,18937,22810,42079,13955,18930,47268,22434,39416,3551,23982,38593,888,39848,25176,49750,28137,42496,45355,8960,47282,25700,18912,2485,7628,10827,4215,26781,47865,50467,41517,17601,36764,29611,41914,8539,54194,30970,46337,49659,44707,48709,32974,20512,25250,49100,6078,49792,14544,25687,44507,19499,50668,4694,40949,12691,9446,1433,9319,51172,17318,9679,10469,15789,9232,14848,46422,47176,30115,54319,31627,51892,25016,11083,26569,12174,6375,21345,19886,28792,41029,2641,28363,44316,7343,7186,33805,34418,9171,45497,11017,32681,5911,49934,4100,30506,51211,5695,47545,21009,29813,51563,22333,27778,2747,21086,29722,37030,17887,42502,26581,29245,22015,21467,29567,43197,5357,32131,32641,31478,39320,5970,26825,46806,29675,7420,22489,14000,51943,39970,20504,40005,14871,1294,2617,43488,52573,32735,41710,49492,43900,2664,12618,12228,41049,44821,11168,17347,48703,29679,19139,16432,14376,8191,46911,30944,43776,49067,5650,40720,34447,19846,37842,33057,52917,3439,49540,46642,4897,33942,35980,6062,40801,42093,16644,128,7011,46661,17738,43311,55145,9930,3178,24881,37641,25722,38939,46717,1179,16831,24728,45515,54711,23566,2053,12036,37069,40697,1728,1478,43759,53134,6206,21101,28325,14602,11458,48814,46977,23263,3482,15410,12746,15514,14150,9192,47104,27880,21855,38103,25467,11169,7437,26510,26549,20357,14273,28581,11022,46071,53071,51721,16470,3452,49248,29407,6267,46823,45443,50548,27315,9066,26401,16490,10827,53391,12406,17265,44292,27719,33809,1289,37160,19526,19772,21449,46353,13665,27628,41683,36594,16458,47435,11852,15350,12784,53953,37878,54225,20342,19,43846,25475,1355,28459,19337,3004,34673,46137,29118,2979,48372,1282,30561,19055,35193,45175,32808,13504,215,39558,33668,12089,18836,33891,46122,8648,38369,44326,34819,26248,22814,28289,33770,19008,18237,29830,5421,15785,4048,22212,37066,4717,24881,14399,11942,22017,50347,40656,18880,13910,53891,22542,41709,28734,1973,30868,22476,19656,42439,30294,29154,29019,16221,19977,14721,10821,4516,4865,46630,19799,53915,53167,31749,22750,19336,24019,41016,315,55294,53695,46598,38885,15465,22460,15619,15744,39664,27552,13524,7385,47179,3151,53611,3103,7281,22259,4067,39888,23617,44075,14769,45641,33082,31060,49928,41796,2725,11115,2868,14709,42511,24397,6663,49150,40182,7669,24575,32697,27350,43686,2844,2150,8004,19757,15848,832,32058,11212,44383,24883,5290,20213,43457,18489,27797,53167,40229,47221,31305,44005,34255,1645,38287,27962,51128,10702,18350,31076,45909,26113,50508,5698,41450,28526,11697,16992,17983,34739,41203,25133,9354,10176,15,20088,28715,26590,19190,18377,12424,28608,47304,26934,21190,1128,43133,23167,36634,36184,15713,41605,40562,69,4686,27674,47419,13245,23470,17752,44399,195,3046,31889,18811,10296,6358,17278,29763,40222,101,31199,33998,53675,49111,1183,50940,12441,48055,3177,19717,50969,20541,38594,54169,23227,33226,6629,17480,47141,39905,38227,14853,8935,40,38489,10756,30106,37062,47602,44531,38989,40419,54644,55180,28663,33094,54300,12316,30554,19300,32048,11317,24284,34211,8373,14665,53532,48313,49018,20223,47012,51687,36173,7785,30505,37383,18842,39991,53709,30506,49252,30144,53854,29961,33350,8056,25976,23751,12090,1523,13349,25673,1038,52779]"
   ]
  },
  {
   "cell_type": "code",
   "execution_count": 201,
   "metadata": {
    "scrolled": true
   },
   "outputs": [
    {
     "data": {
      "text/plain": [
       "8621"
      ]
     },
     "execution_count": 201,
     "metadata": {},
     "output_type": "execute_result"
    }
   ],
   "source": [
    "len(a)"
   ]
  },
  {
   "cell_type": "code",
   "execution_count": 202,
   "metadata": {},
   "outputs": [
    {
     "data": {
      "text/plain": [
       "1166"
      ]
     },
     "execution_count": 202,
     "metadata": {},
     "output_type": "execute_result"
    }
   ],
   "source": [
    "findPairs(a,394)"
   ]
  },
  {
   "cell_type": "markdown",
   "metadata": {},
   "source": [
    "### 540 有序数组中的单一元素\n",
    "\n",
    "O(logn)时间复杂度 O(1)空间复杂度"
   ]
  },
  {
   "cell_type": "code",
   "execution_count": null,
   "metadata": {},
   "outputs": [],
   "source": [
    "    def singleNonDuplicate(nums):   \n",
    "        "
   ]
  },
  {
   "cell_type": "markdown",
   "metadata": {},
   "source": [
    "### 567. 字符串的排列\n",
    "\n",
    "给定两个字符串 s1 和 s2，写一个函数来判断 s2 是否包含 s1 的排列。\n",
    "\n",
    "换句话说，第一个字符串的排列之一是第二个字符串的子串。\n",
    "\n",
    "\"hello\"\n",
    "\"ooolleoooleh\""
   ]
  },
  {
   "cell_type": "code",
   "execution_count": 201,
   "metadata": {
    "scrolled": false
   },
   "outputs": [
    {
     "data": {
      "text/plain": [
       "True"
      ]
     },
     "execution_count": 201,
     "metadata": {},
     "output_type": "execute_result"
    }
   ],
   "source": [
    "    def checkInclusion(s1,s2): \n",
    "        #import time\n",
    "        #t1 = time.time()\n",
    "        tmp = len(s1)\n",
    "        taille = len(s2)\n",
    "        stats = dict()\n",
    "        for x in s1:\n",
    "            stats[x]=stats.get(x,0)+1\n",
    "        left = 0\n",
    "        right = left + tmp\n",
    "        stats1 = dict()\n",
    "        flag = False\n",
    "        while(right<=taille):\n",
    "            s = s2[left]\n",
    "            if(s not in stats):\n",
    "                stats1.clear()\n",
    "                left+=1\n",
    "                right = left + tmp\n",
    "            else:\n",
    "                stats1[s]=stats1.get(s,0)+1\n",
    "                left+=1\n",
    "                if(left>=right):\n",
    "                    if(stats1==stats):\n",
    "                        return True\n",
    "                    else:\n",
    "                        delete = s2[right - tmp]\n",
    "                        stats1[delete]-=1\n",
    "                        if(stats1[delete]^0==0):\n",
    "                            stats1.pop(delete)\n",
    "                        right+=1\n",
    "            #print(stats1,left,right)\n",
    "        return flag\n",
    "checkInclusion(\"adc\",\"dcda\")           "
   ]
  },
  {
   "cell_type": "code",
   "execution_count": 208,
   "metadata": {
    "scrolled": false
   },
   "outputs": [
    {
     "data": {
      "text/plain": [
       "True"
      ]
     },
     "execution_count": 208,
     "metadata": {},
     "output_type": "execute_result"
    }
   ],
   "source": [
    "checkInclusion(\"ckzviabspcfbabslodcxtzanlsnwbqrozvnfadhtskosxhxaxzwcthvirwivsfuyxgkdvvdmmaoohvnfegkzdajhzibfiuxvsihpseyyiapmgldyojfselzzudzrxcksvfoqoeimyfhnvidryqhhpvjawwpzspcfnvmewnhcbbbwfjifmcuspbrrjyhcusyiuydscwenyicdlfzaoaiudsdyjmhmzwmeaozheiaddevjrrgsfgqnyeoyxfvktctazsfizkynlookeorzmdvtloyfpbqjgzhjvykdthwkuubnbalrddjxpizysaptrinlytecouekkpsfzbjaitckodcdinydtaaakbntwbvrcabylllxtgtkdqfkjggvbrnxnvcsfpcutabvazyeqzitpwhhdpcxaklhbjrcsqzveytzbgoeqnyrbkvkfnlqhrnedjomfmkuadwabnzomgvtdypocbvipryedcxnrcrqwpefqducxxilhpoewlliilidxucjydpahcumngpekrlroftwpbaejfjmohnkulxdglcpcszpyqestonhxskshzmdkikjkeymddyiysmigvqjveocbabhcofwyseytwfgiqmufcqrugwofytxzwwwiwlxdshtamwneosotqbfjjdxmhjkmzcvpmkuumycqzvlmwvjdwkcikyewupwaotrseyomhuykdkohveftgqfoqjcnstlxdasnvimslmuqsqrhvbukyfvpswmlavtxegbcesxgzswwnslxymmrdwmpalcazukvyyotlvwvlishtgbmlznrmcjysjemwqfjgbehnowgjlvtgemlkkdqpxiuqwhqkqdkexoflxfescoblknurkntbpfqfiervqgeiasguycmjoyzyujgzdfjobrswjpxixmadnnkdtazbasmnnlbubokkvomtupdpqwnoddummmqbwbthfhqdgdawdwxlmgvelhefvqcrpxbkgvhyrpxmfivrvkkqfpxjhzqesiqoeanqzpvbgonwptzqgtajoiiphivxtefarwjyoklkxumrndswebdsgiipzrcunpnibmxwlkihnzlswaujflztxxnuhojrpkzldwhnuiizxalawskkvaplopthvzjrbqfwpwjfkzrhyciajdsaeusctnvajuubjiqdqsaqjxtxgxabpdwxzgiedyyeosfdbkairekywkilyksjratftctphompqoomxucysbzrpywjzumoiizklkooilgeapimiixawfgiszfqucihxfrtrwijyeiebudncwnxbnafohhhqaltksafjfegxlbbewetsyrtuxxlngffpcnyfdarqwznsuiuhvqshjpvbiqkxgfwyrkdlorlwgexfinunbfzifxlfufalbkyfdekhupuuflsetpbppaahwbtjpjguygpnavimbbaeikwjxurdxyfgmldgdbkyxzhvwlxzlpnpmzlyosvhngmuqkrvcsabhiahhguxuakphuaptbjfpxybqnlfazkagwlbvzcnzorpymafiwvtkjtilwihwoyelogtpdyipzkurqcghpdqgrfpnmrmahbkbyupxwooblaydongjrlnuhoikoyiexgzlzgonceyhfwypsgypilxcnkdhxvbfddnhvdicolrjyzttrymmcvoyswaszbbugsuuewhewtoxgnrbfqsysjqqcutoikssesxaohxxfxofiguvpgzfkimmqdjuyljlpndapzygidopwxnaetmmpyaqozybbpfqlonebiilvckmtyaommksfcrmdeyjjbjncmpruofaaccnvndkovjugcrzcwkbdhqdiwnvnavnngloshyataygyukrecamzftmeephucmofjgrzsexsprpdkazhmtaepqppgzjmxxzlpbkouqlhqcxdpaslrjrsnfbjvbekpyqsldzhxarpzbbjteudfwfjdipgcdwylorxivwbjkegazpcngzkokygjfnmfeumbetznsxsmyhccurqdzznvhrtawpklrrrbedqzkiczignlaoaiydezgktdecaxwxxecymbuisvhlcjlhmnpjuegnaawfxopvvkxihehquxzlveabigomeptsqbfurytjikpbtsotgfghadilylnimxcsvgtmzjgxjyhabtfawzmomctquctwnolglflghdugeutgdmkitunbkhgoceqyrzvwprotiysaiqcnwxflcjgjqobeskizjqqwihnmxyvbeeufyvouupnyuuyauxtmhtqlbgoacjdkvmuqohbkpctfwxvwlghevsuozrgxkrrrllnvjloeligxvnvzluxlajszgeilxdjaviawhlthtxuclqypgdiwgwrhynmzqghyzeednlmyepgxxvtmjsuprisbgyvcojhculwdkjmpmvueaftiujrmdqptrmlrwdyjtjlznuhftzmffbcqsjemrpjrqxtuxhlnqvckgcuvhswgtxonfljjwnexdafpjzwjdypdfwhwogikkpsvuckmgehcqmdecriamdqsdsxuhsdqenrpifzjnpvrbpvetatbmvsncltabzspzedumeclbxiqnsmdkbqfedikoalfsnxkhewwzyeqxlecfimvdpxdnvrtlxlxzakupknvchursvilyjyfxmvdeojclhjjwxtpqiogsfdnzchrlztvxmibbociiberaevpjmyqxvcicxuwkmyjlgxhvrjdqbjzdctzwidoplkvazhgsdbkavmrpfjgebydmloykqtxocdhcpwrtvawhofvwnohtwodppmcrbhvrvexzijiwgkptntyljvikjlzpjvpxaejfwzyldxrckbzylvhpqmjjeyatmrbcgozvcalcctngwuysjqmkmhjwmyyfxhdjswimahqzptrphtjekkabpgopfdnhwaclxzavftmswadgztxceonrkczurtdvxhabiafyzdbdbyorerekjzgpueihiamlscdndjjgqwdjsmeweqrfpypfrfsciclvrrqchnmtxscbvbbipzingkeopuvlnpqaeqidlpvusbkjhntvxbookqctymjmhqjvsnaiblmnofxphanpxspmkmxmyejooqpytdixgguonbpaipurpwwfqxrrtekvvtpgndabbvjcoxonxciuypxqcfolxirvafnmgsrcrenwyuxfekuqyfdtvhvmonvkstbmvygsbguiknltpixsebxktczniurulxpyxckrtmhpvgqpbvlqwvcqwaocalqtdwomgrjyvryodeikbeeebcrrkugliqgktoohsneynmfafykpmndfgwtpdwfrmicenyntbfyyntlqqrujfioycrhopgiadmsjcycucyuqvzufbvachmlwyfxspzrvkkvkhuykoqrwshzmyypmvosuezpsgtqtecayj\",\n",
    "\"livsugnixbcmmajhinduvzfjzxtzneixibupxfezifaovcbowfayjtlcdsjogjytuczxbwluiktkdyecquebuvkgfobhpiqfbyckfbchvfkdowckrvuiblhbmubugrrovdhbyvevwetlusthiyxgtaqcdfytgbkrnnjifdslzntgnryqcmwkumdvqctymyffanmawobfihsfqmtqvivvouunsexpzcfmiituppwxgjyspyoeuspyystyneoonatbojiufzhhfeakqzeypaopkyscadbkzsnnjewgflysazhwaigicrzeccanemfmrvrdzxtcbuqvjblrynlhbmtkzhtiqnhrfclxovtijwucgvsreirqmhweoazxdyydksrchvizmljhdkekaxbqkleaolqnepijxpwbcxfadfsxswhzmmffsmoiyfosbwjjcgqpexddwizaiqpsaagwxkajdhqeyouihwlfrmnelakembxwcrvwqyaguvqewjczfmfqiqmjbqxcmfrpqoewszkomwckfgrlkannjefxsulbpkpxlvbrgwruvhdonuezoomvnyridrosfzhfvhmqbzdsfvjgfdqvafheuhveaqwrofhgkfobkkevdsqyumzrvapfjypvjsdzaxxwcnsbxasqewmkmucxbgjqntdsvrbndebttkoiznatcjgtgklljurkkdvpbrtbolvgrqwsnuoubhgvtmbakwgvxypndpqtireuvbdxfjcioqqsbfrqahqsfbwfnlkwobnqdbptxrizourrxyjejflgkbcwmrtttqeeqkyzrzdcfakwcfajhjfmcpnsbekwtzgpbwrotgsxopaemsnywoxsqxoyricgosfurfggulchgyoocivnkqytgbroijmaduoywbudtgwugekikebdadoygtmikcficifdcsvritesbvznlbrgbveudwzatarhbehowrrakimocgqyxzedhlqxzxtqloupbwbdvewcbehkmoahoykouhilivtxukqhwmyjjqmfxqybahsubfvnhctudtpxwsnwfmsamavjkqiabzzcqgqssygswavqpdtxfyognqybsogsbkzkktfjqebhitvqnawokacbkfkthqoammdscyvxgaaqyaplexhlwweambfwtylvihpdedshaeluxgthrejkgkvwrtyzpuygqghtlkmpnzkyjiwyuaqijkxttvdsxddfkmgnnlmamjumsbjmjxqkrgncrwyoyetdsmtanoasirkfklcsxukfdebnlbgobwgyqrthzwjbwpxuxmheplqyjaucgrptfewjahejsfypktnpafmlrzekbjqsgthrwbdxttitsqyglsjgnzmscncgvkooxdlxsmmugeeayicndgoagpfckerzuwdphqksijniyckzviabspcfbabslodcxtzanlsnwbqrozvnfadhtskosxhxaxzwcthvirwivsfuyxgkdvvdmmaoohvnfegkzdajhzibfiuxvsihpseyyiapmgldyojfselzzudzrxcksvfoqoeimyfhnvidryqhhpvjawwpzspcfnvmewnhcbbbwfjifmcuspbrrjyhcusyiuydscwenyicdlfznoaiudsdyjmcmzwmeaozheiaddevjrrgsfgqnyeoyxfvktctazsfizkynlookeorzmdvtloyfpbqjgzhjvykdthwkuubnbalrddjxpihysaptrinlytecouekkpsfzbjaitckodcdinydtaaakbntwbvrcasylllxtgtkdqfkjggvbanxnvcsfphutabvazyeqzitpwhhdpcxaklhbjrcsqzveytzbgoeqnyrbkvkfnlqhrnedjomfmkuadwabnzomgvtdypocbvipryedcxnrcrqwpefqducxxilhpoewlliilidxucjydpahcumagpekrlroftwpbaejfjmohnkulxdglcpcszpyqestonhxskshzmdkikjkeymdfyiysmigvqjveocbabhcofwyseytwfgiqmufcqrugwofytxzwwwiwlxdshtamwneosotqbfjjdxmhjkmzcvpmkuumycqzvlmwvjdwkcityewupwaotrseyomhuykdkohveftgqfoqjcnstlxdasnvimslmuqsqrhvbukyfvpswmlavtxegbcesxgzswwnslxymmrdwmpalcazukvyyotlvwvlishtgbmlznrmcjysjemwqfjgbehnowgjlvtgemlkkdqpxiuqwhqkqdkexoflxfescoblknurkntbpfqfiervqgeiesguycmjoyzyujgzdfjobrswjpxixmadnnkdtazbasmnnlbubokkvomtupdpqwnoddummmqbwbthfhqdgdawdwxlmgvelhefvqcrpxbkgvhyrpxmfivrvkkqfpxjhzqesiqoeanqzpvbgonwptzqgtajoiiphivxtefarwjyoklkxumrndswebdsghipzrcunpnibmxwlkihnzlswaujflztxxnuhojrpkzldwhnuiizxalawskkvaplopthvzjrbqfwpwjfkzrhyciajdsaeusctnvajuubjiqdqsaqjxtxgxabpdwxzgiedyyeosfdbkrirekywkilyksjratftctphompqoomxucysbzrpywjzumoiizklkooilgeapimiixawfgiszfqucihxfrtrwijyeiebudncwnxbnafohhhqaltksafjfegxlbbewetsyrtuxxlngffpcnyfdarqwznsuiuhvqshjpvbiqkxgfwyrkdlorlwgexfinunbfzifxlfufalbkyddekhupuuflsetpbppaahwbkjpjguygpnavimbbaeikwjxurdxyfgmldgdbkyxzhvwlxzlpnpmzlyosvhngmuqkrvcsabhiahhguxuakphuaptbjfpxybqnlfazkagwlbvzcnzorpymafiwvtkjtilwihwoyelogtpdyipzkurqcghpdqgrfpnmrmahbkbyupxwooblaydongjrlnuhoikoyiexgzlzgonceyhfwypsgypilxcnkdhxvbfddnhvdicolrjyzttrymmcvoyswaszbbugsuuewhawtoxgnrbfqsysjqqcutoikssesxaohxxfxofiguvpgzfkimmqdjuyljlpndapzygidopwxnaetmmpyaqozybbpfqlonebiilvckmtyaommksfcrmdeyjjbjncmpruofaaccnvndkovjugcrzcwkbdhqdiwnvnavnngloshyataygyukrecamzftmeephucmofjgrzsepsprpdkazhmtaepqppgzjmxxzlpbkouqlhqcxdpaslrjrsnfbjvbekpyqsldzhxarpzbbjteudfwfjdipgcdwylorxivwbjkegazpcngzkokygjfnmfeumbetznsxsmyhccurqdzznvhrtawpklrrrbedqzkiczignlaoaiydezgktdecaxwxxecymbuisvhlcjlhmnpjuegnaawfxopvvkxihehquxzlveabigomeptsqbfurytjikpbtsotgfghadilylnimxcsvgtmzjgxjyhabtfawzmomctquctwnolglflghdugeutgdmkitunbkhgoceqyrzvwprotiysaiqcnwnflcjgjqobeskizjqqwihnmxyvbeeufyvouupnyuuyauxtmhtqlbgoacjdkvmuqohbkpctfwxvwlgievsuozrgxkrrrllnvjloeligxvnvzluxlajszgeilxdjaviawhlthtxuclqypgdiwgwrhynmzqghyzeednlmyepgxxvtmjsuprisbgyvcojhculwdkjmpmvueaftiujrmdqptrmlrwdyjtjlznuhftzmffbcqsjemrpjrqxtuxhlnqvckgcuvhswgtxonfljjwnexdafpjzwjdypdfwhwogikkpsvuckmgehcqmdecriamdqsdsxuhsdqenrpifzjnpvrbpvetatbmvsncltabzspzedumeclbxiqnsmdkbqfedikoalfsnxkhewwzyeqxlecfimvdpxdnvrtlxlxzakupknvchursvilyjyfxmvdfojclhjjwxtpqiogsfdxzczrlztvxmibbociiberaevpjmyqxvcicxuwkmyjlgxhvrjdqbjzdctzwidoplkvazhgsdbkavmrpfjgebydmloykqtxocdhcpwrtvawhofvwnohtwodxpmcrbhvrvexzijiwgkptntyljvikjlzpjvpxaejfwzyldxrckbzylvhpqmjjeyatmrbcgozvcalcctngwuysjqmkmhjwmyyfxhdjswimahqzptrphtjekkabpgopfdnhwaclxzavftmswadgztxceonrkczurtdvxhabiafyzdbdbyorerekjzgpueihiamlscdndjjgqwdjsmeweqrfpypfrfsciclvrrqchnmtxscbvbbipzingkeopuvlnpqaeqidlpvusbkjhntvxbookqctymjmhqjvsnaiblmnofxphanpxspmkmxmyejooqpytdixgguonbpaipurpwwfqxrrtekvvtpgndabbvjcoxonxciuypxqcfolxirvafnmgsrcrenwyuxeekuqyfdtvhvmonvkbtbmvygsbguiknltpixsebxktczniurulxpyxckrtmhpvgqpbvlqwvcqwaocalqtdwomgrjyvryodeikbeeebcrrkugliqgktoohsneynmfafykpmndfgwtpdwfrmicenyntbfyyntlqqrujfioycrhopgiadmsjcycucyuqvzufbvachmlwyfxspzrvkkvkhuykoqrwshzmyypmvosuezpsgtqtecayjdasrysrmdewxmqntqmuavczczrcrzokjzqtiucdfmijfqkizfftxsddkdwlofkjbuhzodgzeslpezdifpdfktufgekrrbsxfeqduphoemwhncbblqkoyychuwlkjfxjmvdasfhwxnxjmstabgiujditpmpnojsfzpgqvupkdipphutiewfynvoxmdaloyxsksaxnyyizreshgejskhokarxddrrkoeglwledovrbarhkfcetrshiuucmbrtqjawsavbhuoijshkzcmogbjurybhwduushlmhjzgthhlvftpytayjzzbcxbtvozwhsmtkltgrugyfaoldnnswbohpsqvwbwtjcxeewsvfwpkwltxmomlwsylwvcmmrwjvvbbktqxnypfmhjigzaqacmprjfnooinkgbjzzwyuafxsmqdcmsxhbfoejjzxizufvfejrrcfaijqovlxdngkgwisvryevivawbcttftuxympktxbxotvdycxhfokmtdeqacdceffvhvjpnzfuhqslixvlcxehvbkritokoqqlbmkdkgflthhhdgiaidjjpvcatctiosolfqzcjmdppttztpklgosnshspna\")"
   ]
  },
  {
   "cell_type": "code",
   "execution_count": 209,
   "metadata": {},
   "outputs": [
    {
     "data": {
      "text/plain": [
       "True"
      ]
     },
     "execution_count": 209,
     "metadata": {},
     "output_type": "execute_result"
    }
   ],
   "source": [
    "checkInclusion(\"flxvrcznjvpetwlglbxwjudtqpzqvlnezneorrzorbvcmewanlepafgsrrrnpbephanazfbxrffjpyyfgebnrnezpgbdzgpnpueusqmazuimfswqkcckovejskabxenbcaazsvloswwkeodbqwhvxuvolckoqbbnmylzdykqwihipfbuwqdjtsnprhvbvskjuqwpavovgtwldzlndpwmtapvuwbshlnzftqvikeugeesftjjfqxqckzcmckerqvkfgmutzfspubcmqdxgibkcctysaacjftxofhsyfvzubtlespxdphkcoexblqsywiaewxrypjltlyuktgcisryrodgwvmvnhmhkxvlxwkeuicjolldhvzjbugqbrprkkrptqpvolwbugjviwtewtfcojmeomitugthftnerwxidotaagigjegcqnvnntqaqzhutvwvyhslwxecgnpkbvqcooqyhwfkzigvwvixvthypyxwkwmxljljewnnsjopbgjfeumiafqbnhuusnwuogqobcaurezmvlsekvoxhmlwjvssrtqqhhcoscumxztetoxorhwyypymamovyeupopsxleapzyrwpuovvscxgghurnyabzpgrhjxsfaijsrcgnxafozqzkxzuprajukehkveqoopkbacynmabxkqawbvrtwbycmscktmhrtqzovvuaiaufnjkedpuwmasoxfcupizsiahnqofrqtwiluabwqwgyoeyrvkckqhozzxwqljwdrfcvhgmxgnasznkbxtvsjcunfzlpotxxsnfzuwjzrbvlazfvfobiukbcwqtjspztcsyscfasoauiofidyghfcsprdfzoavbtogicxnqliknlmiktdznjlmzczdtcinkiownvghvtdqfuigzfsumxbczwornoryzaxxvhiwngkconhdullpvkknjaioxwirycxwzxhhvujyliatmygomyisezkekotaxhhgviyonctjcqxxratadwfubdglijbgfvyloeeorwgrzxlhrexoffiamvdvzuujscreombfwukuudpgahcixvbczupnhawfdzfuiuefbnhevggxejbmbqgwxdcjfoxpmstyignzleofrojkxdotjzbgzyacguvmpgbfiemcmgswfzheosyjykvjsxmegdqtsedqxwhizdrtxqfxngqiiqhdqnkucnvlajdqsxthauceyfdxykklduhpfmswacvfcsyoubdrkqvhgmmrgjccdzoojrncgvapuejthnhkouupbvkvynfupbswyybwwiowdrsbpgfdqjyyjhkchhfllhpvnalptuxbpamxowxsragkazpftugfbxsrpzheymxdzisjguptpqsarhcfmhitdijcsdjtbjvciltewuxzckxnomjxzyimkpngwnryirysnihsorufktzhudantlkwpkgvgyannrgjhesrlefdwmkduhlypuivofvpdlzsrateylguvjrgmmpijxrlmcdqljkosrpjslxhpnvpaokqjkzxewjqxuerjyiitblgxpyfkufzuxwaxjougwiycsrwkyydzodmovuweeirbvuhvagqyjuvxchixdeplbmqepstpigawwljxepceapijvbqovlpwykrpmrqfacnfhbwlmisiuvwyijosxkuogtqpnfmqzoynsgfobzzasrwyazkirlsiiysjwysiqedfocdzzyhodvmhxkwroqxqjwfdlgmxlosbcqsgwnrdzjzwlechqalhqucneolyiypgvbnksjmhgildwbirijufnmsncdsakvswmwhzyelfndxxuvpgaeeibtchnxtbqqwqlrnaudohtiqzwlukrhjyhwvzmletyvndyikrpihpablsriolffyfjnopvdookfaccshcanohnjpafoxeszlhzgkwsdbuhrcqysmgwivobhlpiluzqrubblfvjxprjetvaanjxsloekhomfuysdyuyqorcmcjahvcjqkgmubbsfjfvgskbwkoubiremtdoxxztwvzikfumvdewiybnhsdvqaxvicfcokukryovhcynkqzydteyekflfbclzenbucqtzsgnmpemlfxaihaceoeewykkyepswtoxscqneytxctegnhlmvzvpryjmzvwcnoixiszxksjvhktroafqbwvfegjyvolzwqlmbfeoisqjirnprchgtujddwkvvneznqzmsghpokfhziuegdpieqlpfqalfxqbzrpdoqbujwrplehdacigxnieatlhftvgfqssvunkpoqnntybqaankwywnfgnzfkqayzaunlbqvhrzijpxsjyjmuiqhtfmazkvsqzitrwbawfxbsoqiqdtxzciypqurzdoqhhcnokzbuyvuldwkjcbrlcxagrtfjxxqkmisqzsimvnssmuhxwscqtlqplhlalhntclgakvbvtcrrzzesxcrurpqkrrmffwdinnlebzfradplhapmybwfdfdohhonajvyzgosfqrmfjoujmubrnocohzudbjniswmfqolsyigwteuifmasbubrzrjijhkcdxqgqixeoddrhtpmemigpormizdizhdxnazfiqqrywjselyzekpjtpucrtopokqbupebdvcjzazfeyyyhkuagfsmyrnmkewkaxaznwcdzusfajvamlobazycdjcnqxpgwkokvqejkkaumbksrotynsmwddfmykqkwfzxaspoapvbunvmmtllrzmldohpkrkoyotsycrtbtplxxsuvzrkqgqalelevsrdxtbzfpueasccuabjrhxeopzjgyoouzydyvzxnqqefjrwldltfjgtjafwumxsthgvzqcjjtotdbrokenyrfsjiofsxmlkkkmdsjwvqejdnvewslkkhuclfbvucwxwwgobszgmkewcscaupxisowechkjfylkeffpsaenxkhcogiyqmsgpvtdlowfssmolidndirzkcobmcjcyqymhqdgnckakkyjuzpdwgvfwoitfavpycfoocwewxyvgshfpydbhhgkauprdexcnfvxxqymzugwhbxfidemmbeznjneqmeuzrxkyvbyetangjfetehnlzhybsaigwljsktxdcqkpkbvwnlcwrpofcxxethfspabgrmihcgpmsamptaydawwznlcvmqgdalcwxkdnphxrhgkrjtlfbdxtotjrgimshvzljnvjbywuylhwfadtvqkjjevvvbrumdsbcnexsjzlzzmydghsrxerlttsoujuzhdixkrutvzevnealyzfzgzjdzvapyrsuwyplsvufcpbrtadhoyncxdpcfrzcgukjnuvqhrnhzaimsmaekhmutymgvyjikaaibnmvbmgolfuwmopcpiusimdzsqkmeneqbesjlkrsfieypkkztttiqfcnquiknsgurcoertbeehxgwquvkzvwdapsxznannzkqtukcfwafzyxedjnbdrvbtjkqufovtnbmhrxbofqzljltfkinklrsuyckmufosfoncfpvkoqketlcbkvkoxobbncnoiwedzfgvyqtfwlozewaystejiloauopqctjeitjwyqbxdhtogvqmsvplxvmodtcbpmwyqjcspjwxqatwpsjhngsuanvqjtntnuqplajsevmyqschmgwxfcdkynf\",\n",
    "\"yaalpjvqjqqczxgxfyinagfcuvkgoqzeezcgymzlinnibplbkwifxzjazrbaabqstpncuoeuricouwpyqltwwkkojtyqarkuwpmlxchvuwamjzvsqwnzhkneopswdtmvysjumpilfopzeiccnkxjpvdhhqiygpcrnmsarpanfrbdhxpmhuoujxtfyskijevauvojuzzaxxmhtwrtvcjzccwclytwojsbkvbekjdbpmjehgrwyttjakluwhbexeewjfiyjcoqtjehrstjetyyubuhauoqkwojgekglomfrwgknjwbovlnbjqxpgvaqlmhpnuiixtwcxmmwgflkhsclpsgysvuygqswbwblrmvsmyumeylcxufqgrbgrzqelzrsxslomyimfrrvjwkuaezjisnddsqsnonunlqctjlaosplbiyhaptmsjhfeswczhioyclfryrnkkujlrocpzfuiedxvzmmvttixqmaninfadgbogflcukuontwcfpwjargnhyelrlkuziojhfaoyplbtojadvndxihvdhhinjtqetxcgseheunstynawujjipowdnucjzgujzwrwjgiycafkkwzemwpzjxfecefynvoyekfdkgdddyryhlxgtlozjcwyrkokxdlsdsemamcspzriuzlqujsogmgwikksvakmadzwjijhlqsawtrskrqfwunqxzscjiewtibmctcxezflxvrcznjvpetwlglbxwjudtqpzqvlnezneorrzorbvcmewanlepafgsrrrnpbephanazfbxrffjpyyfgebnrnezpgbdzgpnpueusqmazuimfswqkcckovejskabxenbcaazsvloswwkeodbqwhvxuvolckoqbbnmylzdykqwihipfbuwqdjtsnprhvbvskjuqwpavovgtwldzlndpwmtapvuwbshlnzftqvikeugeesftjjfqxqckzcmckerqvkfgmutzfspubcmqdxgibkcctysaacjftzofhsyfvzubtlespxdpukcoexblqsywiaewxrypjltlyuktgcisryrodgwvmvnhmhkxvlxwmeuicjolldhvzjbugqbrprkkrptqpvolwbugjviwtewtfcojmeomitugthftnerwxidotaagigjegcqnvnntqaqzhttvwvyhslwxecgnpkbvqcooqyhwfkzigvwvyxvthypyxwkwmxojljewnnsjopbgjfeumiafqbnhuusnwuogqobcaurezmvlsekvoxhmlwjvssrtqqhhcoscumxztetoxorhwyypymamovyehpopsxleapzyrwpuovvscxgghurnyabzpgrhjxsfaijsqcgnxafozqzkxzuprajukehkveqoopkbacynmabxkqawbvrtwbycmscktmhrtqzovvuaiaufnjkedpuwmasoxfcupizsiahnqofrqtwiluabwqwgyoeyrvkckqhozzxwqljwdrfcvhgmxgnasznkbxtvsjcunfzlpotxxsnfzuwjzrbvlazfvfobiukbcwqtjspztcsyscfasoauiofidyghfcsprdfzoavbtogicxnqliknlmiktdznjlmzczdtcinkiownvghvtdqfuigzfsumxbczwornoryzaxxvhiwngkconhdullpvkknjaioxwirycxwzxhhvrjyliatmygomyisezkekotaxhhgviyonctjcqxxratadwfubdglijbgfvyloeeorwgrzxlhrexoffiamvdvzuujscreombfwukuudpgahcixvbczupnhawfdzfuiuefbnhevggxejbmbqgwxdcjfoxpmstyignzleofrojkxdotjzbgzyacguvmpgbfiemcmgswfzheosyjykvjsxmegdqtsedqxwhixdrtxqfxngqiiqhdqnkucnvlajdqsxthauceyfdxykklduhpfmswacvfcsyoubdrkqvhgmmrgjccdzoojrncgvapuejthnhkouupbvkvynfupbswyybwwiowdrsbpgfdqjyyjhkchhfllhpvnalptuxbpamxowxsragkazpftugfbxsrpzheymxdzisjguptpqsarhcfmhitdijcsdjtbjvciltewuxzckxnomjxzyimkpngwnryirysnihsooufktzhudantlkwpkgvgyannrgjhesrlefdwmkduhlywuivofvpdlzsrateylguvjrgmmpijxrlmcdqljklsrpjslxhpnvpaokqjkzxewjqouerjyiitblqxpyfkufzuxwaxjougwiycsrwkyydzodmovuweeirbvuhvagqyjuvxchixdeplbmqepstpigawwljxepceapijvbqovlpwykrpmrqfacnfhbwlmisiuvwyijosxkuogtqpnfmqzoynsgfobzzasrwyazkirlsiiysjwysiqedfocdzzyhodvmhxkwroqxqjwfdlgmxlosbcqsgwnrdzjzwlechgalhqdcneolyiypgvbnksjmhgildwbirijufnmsncdsakvswmwhzyelfndxxuvpgaeeibtchnxtbqqwqlrnaudohtiqzwlukrhjyhwvzmletyvndyikrpihpablsriolffyfjnopvdookfaccshcanohnjpafoxeszlhzgkwsdbuhrcqysmgwivobhlpiluzqrubblfvjxprjetvaanjxsloekhomfuysdyuyqorcmcjahvcjqkgmubbsfjfvgskbwkoubiremtdoxxztwvzikfumvdewiybnhsdvqaxvicfcokukryovhcynkqzydteyekflfbclzenbucqtzsgnmpemlfxaihaceoeewykkyepswtoxscqneytxctegnhlmvzvpuyjmzvwcnoixiszxksjvhktroafqbwvfegjyvolzwqlmbfeoisqjirnprchgtujddwkvvneznqzmsghpokfhziuegdpieqlpfqalfxqbzrpdoqbujwrplehdacigxnieaulhftvgfqssvunkpoqnntybqaankwywnfgnzfkqayzaunlbqvhrzijpxsjyjmuiqhtfmazkvsqzitrpbawfxbsoqiqdtxzciyqqurzdoqhhcnokzbuyvuldwkjcbrlcxagrtfjxxqkmisqzsimvnsskuhxwscqtlqplhlalhntclgakvbvtcrrzzesxcrurpqkrrmffwdinnlebzfradplhapmybwfdfdohhxnajvyzgosfqrmfjoujmubrnocohzudbjniswmfrolsyigwteuifmasbubrzrjijhkcdxqgqixeoddrhtpmemigpormizdizhdxnazfiqqriwjselyzekpjtpucrtopokqbupebdvcjzazfeyyyhkuagfsmyrnmkewkaxaznwcdzusfajvamlobazycdjcnqxpgwkokvqejkkaumbksrotynsmwddfmykqkwfzxaspoapvbunvmmtllrzmldohpkrkoyotsycrtbtplxxsuvzrkqgqalelevsrdxtbzfpueasccuabjrhxeopzjgyoruzydyvzxnqqefjrwldltfjgtjafwumxsthgvzqcjjtotdbrokenyrfsjiofsxmlkkkmdsjwvqejdnvewslkkhuclfbvucwxwwgobszgmkewcscaupxisowechkjfylkeffpsaenxkhcogiyqmsgpvtdlowfssmolidndirzkcobmcjcyqymhqugnckakkyjuzpdwgvfwoitfavpycfoocwewxyvgshfpydbhhgkauprdexcnfvxxqymzugwhbxfidemmbeznjneqmeuzrxkyvbyetangjfetehnlzhybsaigwldsktxdcqkpkbvwnlcwrpofcxxethfspabgrmihcgpmsamptaydawwznlcvmqgdalcwxkdnphxrhgkrjtlfbdxtotjrgimshvzljnvjbywuylhwfadtvqkjjevvvbrumdsbcnexsjzlzzmydghsrxerlttsoujuzhdixkrutvzevnealyzfzgzjdzvapyrsuwyplsvufcpbrtajhoyncxdpcfrzcgukjnuvqhrnhzaimsmaekhmutymgvyjikaaibnmvbmgolfuwmopcpiusimdzsqkmeneqbesjlkrsfieypkkztttiqfcnquiknsgurcoertbeehxgwquvkzvwdapsxznannzkqtukcfwafzyxedjnbdrvbtjkqufovtnbmhrxbofqzljltfkinklrsuyckmufosfoncfpvkoqketlcbkvkoxobbncnoiwedzfgvyqtfwlozewaystejiloauopqctjeitjwyqbxdhtogvqmsvplxvmodtcbpmwyqjcspjwxqatwpsjhngsuanvqjtntnuqplajsevmypschmgwxfcdkynfzlhsqqwdcgdbxpezgdkpjcoqtaddqfsahlphsqxofdfevbncnjawmmgth\")"
   ]
  },
  {
   "cell_type": "code",
   "execution_count": 177,
   "metadata": {
    "scrolled": true
   },
   "outputs": [
    {
     "data": {
      "text/plain": [
       "5502"
      ]
     },
     "execution_count": 177,
     "metadata": {},
     "output_type": "execute_result"
    }
   ],
   "source": [
    "a = \"livsugnixbcmmajhinduvzfjzxtzneixibupxfezifaovcbowfayjtlcdsjogjytuczxbwluiktkdyecquebuvkgfobhpiqfbyckfbchvfkdowckrvuiblhbmubugrrovdhbyvevwetlusthiyxgtaqcdfytgbkrnnjifdslzntgnryqcmwkumdvqctymyffanmawobfihsfqmtqvivvouunsexpzcfmiituppwxgjyspyoeuspyystyneoonatbojiufzhhfeakqzeypaopkyscadbkzsnnjewgflysazhwaigicrzeccanemfmrvrdzxtcbuqvjblrynlhbmtkzhtiqnhrfclxovtijwucgvsreirqmhweoazxdyydksrchvizmljhdkekaxbqkleaolqnepijxpwbcxfadfsxswhzmmffsmoiyfosbwjjcgqpexddwizaiqpsaagwxkajdhqeyouihwlfrmnelakembxwcrvwqyaguvqewjczfmfqiqmjbqxcmfrpqoewszkomwckfgrlkannjefxsulbpkpxlvbrgwruvhdonuezoomvnyridrosfzhfvhmqbzdsfvjgfdqvafheuhveaqwrofhgkfobkkevdsqyumzrvapfjypvjsdzaxxwcnsbxasqewmkmucxbgjqntdsvrbndebttkoiznatcjgtgklljurkkdvpbrtbolvgrqwsnuoubhgvtmbakwgvxypndpqtireuvbdxfjcioqqsbfrqahqsfbwfnlkwobnqdbptxrizourrxyjejflgkbcwmrtttqeeqkyzrzdcfakwcfajhjfmcpnsbekwtzgpbwrotgsxopaemsnywoxsqxoyricgosfurfggulchgyoocivnkqytgbroijmaduoywbudtgwugekikebdadoygtmikcficifdcsvritesbvznlbrgbveudwzatarhbehowrrakimocgqyxzedhlqxzxtqloupbwbdvewcbehkmoahoykouhilivtxukqhwmyjjqmfxqybahsubfvnhctudtpxwsnwfmsamavjkqiabzzcqgqssygswavqpdtxfyognqybsogsbkzkktfjqebhitvqnawokacbkfkthqoammdscyvxgaaqyaplexhlwweambfwtylvihpdedshaeluxgthrejkgkvwrtyzpuygqghtlkmpnzkyjiwyuaqijkxttvdsxddfkmgnnlmamjumsbjmjxqkrgncrwyoyetdsmtanoasirkfklcsxukfdebnlbgobwgyqrthzwjbwpxuxmheplqyjaucgrptfewjahejsfypktnpafmlrzekbjqsgthrwbdxttitsqyglsjgnzmscncgvkooxdlxsmmugeeayicndgoagpfckerzuwdphqksijniyckzviabspcfbabslodcxtzanlsnwbqrozvnfadhtskosxhxaxzwcthvirwivsfuyxgkdvvdmmaoohvnfegkzdajhzibfiuxvsihpseyyiapmgldyojfselzzudzrxcksvfoqoeimyfhnvidryqhhpvjawwpzspcfnvmewnhcbbbwfjifmcuspbrrjyhcusyiuydscwenyicdlfznoaiudsdyjmcmzwmeaozheiaddevjrrgsfgqnyeoyxfvktctazsfizkynlookeorzmdvtloyfpbqjgzhjvykdthwkuubnbalrddjxpihysaptrinlytecouekkpsfzbjaitckodcdinydtaaakbntwbvrcasylllxtgtkdqfkjggvbanxnvcsfphutabvazyeqzitpwhhdpcxaklhbjrcsqzveytzbgoeqnyrbkvkfnlqhrnedjomfmkuadwabnzomgvtdypocbvipryedcxnrcrqwpefqducxxilhpoewlliilidxucjydpahcumagpekrlroftwpbaejfjmohnkulxdglcpcszpyqestonhxskshzmdkikjkeymdfyiysmigvqjveocbabhcofwyseytwfgiqmufcqrugwofytxzwwwiwlxdshtamwneosotqbfjjdxmhjkmzcvpmkuumycqzvlmwvjdwkcityewupwaotrseyomhuykdkohveftgqfoqjcnstlxdasnvimslmuqsqrhvbukyfvpswmlavtxegbcesxgzswwnslxymmrdwmpalcazukvyyotlvwvlishtgbmlznrmcjysjemwqfjgbehnowgjlvtgemlkkdqpxiuqwhqkqdkexoflxfescoblknurkntbpfqfiervqgeiesguycmjoyzyujgzdfjobrswjpxixmadnnkdtazbasmnnlbubokkvomtupdpqwnoddummmqbwbthfhqdgdawdwxlmgvelhefvqcrpxbkgvhyrpxmfivrvkkqfpxjhzqesiqoeanqzpvbgonwptzqgtajoiiphivxtefarwjyoklkxumrndswebdsghipzrcunpnibmxwlkihnzlswaujflztxxnuhojrpkzldwhnuiizxalawskkvaplopthvzjrbqfwpwjfkzrhyciajdsaeusctnvajuubjiqdqsaqjxtxgxabpdwxzgiedyyeosfdbkrirekywkilyksjratftctphompqoomxucysbzrpywjzumoiizklkooilgeapimiixawfgiszfqucihxfrtrwijyeiebudncwnxbnafohhhqaltksafjfegxlbbewetsyrtuxxlngffpcnyfdarqwznsuiuhvqshjpvbiqkxgfwyrkdlorlwgexfinunbfzifxlfufalbkyddekhupuuflsetpbppaahwbkjpjguygpnavimbbaeikwjxurdxyfgmldgdbkyxzhvwlxzlpnpmzlyosvhngmuqkrvcsabhiahhguxuakphuaptbjfpxybqnlfazkagwlbvzcnzorpymafiwvtkjtilwihwoyelogtpdyipzkurqcghpdqgrfpnmrmahbkbyupxwooblaydongjrlnuhoikoyiexgzlzgonceyhfwypsgypilxcnkdhxvbfddnhvdicolrjyzttrymmcvoyswaszbbugsuuewhawtoxgnrbfqsysjqqcutoikssesxaohxxfxofiguvpgzfkimmqdjuyljlpndapzygidopwxnaetmmpyaqozybbpfqlonebiilvckmtyaommksfcrmdeyjjbjncmpruofaaccnvndkovjugcrzcwkbdhqdiwnvnavnngloshyataygyukrecamzftmeephucmofjgrzsepsprpdkazhmtaepqppgzjmxxzlpbkouqlhqcxdpaslrjrsnfbjvbekpyqsldzhxarpzbbjteudfwfjdipgcdwylorxivwbjkegazpcngzkokygjfnmfeumbetznsxsmyhccurqdzznvhrtawpklrrrbedqzkiczignlaoaiydezgktdecaxwxxecymbuisvhlcjlhmnpjuegnaawfxopvvkxihehquxzlveabigomeptsqbfurytjikpbtsotgfghadilylnimxcsvgtmzjgxjyhabtfawzmomctquctwnolglflghdugeutgdmkitunbkhgoceqyrzvwprotiysaiqcnwnflcjgjqobeskizjqqwihnmxyvbeeufyvouupnyuuyauxtmhtqlbgoacjdkvmuqohbkpctfwxvwlgievsuozrgxkrrrllnvjloeligxvnvzluxlajszgeilxdjaviawhlthtxuclqypgdiwgwrhynmzqghyzeednlmyepgxxvtmjsuprisbgyvcojhculwdkjmpmvueaftiujrmdqptrmlrwdyjtjlznuhftzmffbcqsjemrpjrqxtuxhlnqvckgcuvhswgtxonfljjwnexdafpjzwjdypdfwhwogikkpsvuckmgehcqmdecriamdqsdsxuhsdqenrpifzjnpvrbpvetatbmvsncltabzspzedumeclbxiqnsmdkbqfedikoalfsnxkhewwzyeqxlecfimvdpxdnvrtlxlxzakupknvchursvilyjyfxmvdfojclhjjwxtpqiogsfdxzczrlztvxmibbociiberaevpjmyqxvcicxuwkmyjlgxhvrjdqbjzdctzwidoplkvazhgsdbkavmrpfjgebydmloykqtxocdhcpwrtvawhofvwnohtwodxpmcrbhvrvexzijiwgkptntyljvikjlzpjvpxaejfwzyldxrckbzylvhpqmjjeyatmrbcgozvcalcctngwuysjqmkmhjwmyyfxhdjswimahqzptrphtjekkabpgopfdnhwaclxzavftmswadgztxceonrkczurtdvxhabiafyzdbdbyorerekjzgpueihiamlscdndjjgqwdjsmeweqrfpypfrfsciclvrrqchnmtxscbvbbipzingkeopuvlnpqaeqidlpvusbkjhntvxbookqctymjmhqjvsnaiblmnofxphanpxspmkmxmyejooqpytdixgguonbpaipurpwwfqxrrtekvvtpgndabbvjcoxonxciuypxqcfolxirvafnmgsrcrenwyuxeekuqyfdtvhvmonvkbtbmvygsbguiknltpixsebxktczniurulxpyxckrtmhpvgqpbvlqwvcqwaocalqtdwomgrjyvryodeikbeeebcrrkugliqgktoohsneynmfafykpmndfgwtpdwfrmicenyntbfyyntlqqrujfioycrhopgiadmsjcycucyuqvzufbvachmlwyfxspzrvkkvkhuykoqrwshzmyypmvosuezpsgtqtecayjdasrysrmdewxmqntqmuavczczrcrzokjzqtiucdfmijfqkizfftxsddkdwlofkjbuhzodgzeslpezdifpdfktufgekrrbsxfeqduphoemwhncbblqkoyychuwlkjfxjmvdasfhwxnxjmstabgiujditpmpnojsfzpgqvupkdipphutiewfynvoxmdaloyxsksaxnyyizreshgejskhokarxddrrkoeglwledovrbarhkfcetrshiuucmbrtqjawsavbhuoijshkzcmogbjurybhwduushlmhjzgthhlvftpytayjzzbcxbtvozwhsmtkltgrugyfaoldnnswbohpsqvwbwtjcxeewsvfwpkwltxmomlwsylwvcmmrwjvvbbktqxnypfmhjigzaqacmprjfnooinkgbjzzwyuafxsmqdcmsxhbfoejjzxizufvfejrrcfaijqovlxdngkgwisvryevivawbcttftuxympktxbxotvdycxhfokmtdeqacdceffvhvjpnzfuhqslixvlcxehvbkritokoqqlbmkdkgflthhhdgiaidjjpvcatctiosolfqzcjmdppttztpklgosnshspna\"\n",
    "len(a)"
   ]
  },
  {
   "cell_type": "code",
   "execution_count": 202,
   "metadata": {
    "scrolled": true
   },
   "outputs": [
    {
     "data": {
      "text/plain": [
       "True"
      ]
     },
     "execution_count": 202,
     "metadata": {},
     "output_type": "execute_result"
    }
   ],
   "source": [
    "checkInclusion(\"ab\",\"eidbaooo\")           "
   ]
  },
  {
   "cell_type": "code",
   "execution_count": 203,
   "metadata": {
    "scrolled": false
   },
   "outputs": [
    {
     "data": {
      "text/plain": [
       "False"
      ]
     },
     "execution_count": 203,
     "metadata": {},
     "output_type": "execute_result"
    }
   ],
   "source": [
    "checkInclusion(\"ab\",\"eidboaoo\")"
   ]
  },
  {
   "cell_type": "code",
   "execution_count": 204,
   "metadata": {
    "scrolled": false
   },
   "outputs": [
    {
     "data": {
      "text/plain": [
       "True"
      ]
     },
     "execution_count": 204,
     "metadata": {},
     "output_type": "execute_result"
    }
   ],
   "source": [
    "checkInclusion(\"aaaaaaaaaaaa\",\"aaaaaaaaaaaaaaaaaa\")"
   ]
  },
  {
   "cell_type": "code",
   "execution_count": 206,
   "metadata": {
    "scrolled": false
   },
   "outputs": [
    {
     "data": {
      "text/plain": [
       "True"
      ]
     },
     "execution_count": 206,
     "metadata": {},
     "output_type": "execute_result"
    }
   ],
   "source": [
    "checkInclusion(\"hello\",\"ooolleooolehelooekdxsbdizdsxzholle\") "
   ]
  },
  {
   "cell_type": "code",
   "execution_count": 207,
   "metadata": {
    "scrolled": true
   },
   "outputs": [
    {
     "data": {
      "text/plain": [
       "True"
      ]
     },
     "execution_count": 207,
     "metadata": {},
     "output_type": "execute_result"
    }
   ],
   "source": [
    "checkInclusion1(\"a\",\"ab\")"
   ]
  },
  {
   "cell_type": "code",
   "execution_count": 145,
   "metadata": {},
   "outputs": [
    {
     "name": "stdout",
     "output_type": "stream",
     "text": [
      "{'e': 1, 'i': 1} {'a': 2, 'b': 2}\n",
      "{'i': 1, 'd': 1} {'a': 2, 'b': 2}\n",
      "{'d': 1, 'b': 1} {'a': 2, 'b': 2}\n",
      "{'b': 1, 'a': 1} {'a': 2, 'b': 2}\n",
      "{'a': 1, 'o': 1} {'a': 2, 'b': 2}\n",
      "{'o': 2} {'a': 2, 'b': 2}\n"
     ]
    },
    {
     "data": {
      "text/plain": [
       "False"
      ]
     },
     "execution_count": 145,
     "metadata": {},
     "output_type": "execute_result"
    }
   ],
   "source": [
    "    def checkInclusion1(s1,s2): \n",
    "        stats = dict()\n",
    "        for x in s1:\n",
    "            stats[x]=stats.get(x,0)+1\n",
    "        stats1 = dict()\n",
    "        l1 = len(s1)\n",
    "        l2 = len(s2)\n",
    "        if(l1^1==0):\n",
    "            return s1 in stats\n",
    "        for x in s1:\n",
    "            stats[x]=stats.get(x,0)+1            \n",
    "        flag = False\n",
    "        for i in range(l2-l1+1):\n",
    "            tmp = s2[i:i+l1]\n",
    "            if(i+l1 ^l2==0):\n",
    "                break\n",
    "            for x in tmp:\n",
    "                stats1[x] = stats1.get(x,0)+1\n",
    "            print(stats1,stats)\n",
    "            if(stats1==stats):\n",
    "                flag = True\n",
    "                break\n",
    "            else:\n",
    "                stats1.clear()\n",
    "        return flag\n",
    "checkInclusion1(\"ab\",\"eidbaooo\")  "
   ]
  },
  {
   "cell_type": "code",
   "execution_count": 144,
   "metadata": {
    "scrolled": false
   },
   "outputs": [
    {
     "data": {
      "text/plain": [
       "False"
      ]
     },
     "execution_count": 144,
     "metadata": {},
     "output_type": "execute_result"
    }
   ],
   "source": [
    "checkInclusion1(\"ab\",\"ba\")  "
   ]
  },
  {
   "cell_type": "code",
   "execution_count": 141,
   "metadata": {
    "scrolled": true
   },
   "outputs": [
    {
     "data": {
      "text/plain": [
       "False"
      ]
     },
     "execution_count": 141,
     "metadata": {},
     "output_type": "execute_result"
    }
   ],
   "source": [
    "checkInclusion1(\"hello\",\"ooolleooolehelooekdxsbdizdsxzhole\") "
   ]
  },
  {
   "cell_type": "markdown",
   "metadata": {},
   "source": [
    "### 581. 最短无序连续子数组"
   ]
  },
  {
   "cell_type": "code",
   "execution_count": 86,
   "metadata": {},
   "outputs": [],
   "source": [
    "    def findUnsortedSubarray(nums):\n",
    "        a,b=0,0\n",
    "        L = sorted(nums)\n",
    "        if(L==nums):\n",
    "            return 0\n",
    "        if(L==nums[::-1]):\n",
    "            return len(nums)\n",
    "        for i in range(len(nums)-1):\n",
    "            if(nums[i]!=L[i]):\n",
    "                a = i\n",
    "                break\n",
    "        for j in range(len(nums)-1,0,-1):\n",
    "            if(nums[j]!=L[j]):\n",
    "                b = j\n",
    "                break\n",
    "        return b-a+1"
   ]
  },
  {
   "cell_type": "code",
   "execution_count": 87,
   "metadata": {
    "scrolled": false
   },
   "outputs": [
    {
     "data": {
      "text/plain": [
       "4"
      ]
     },
     "execution_count": 87,
     "metadata": {},
     "output_type": "execute_result"
    }
   ],
   "source": [
    "findUnsortedSubarray([1,3,2,2,2])"
   ]
  },
  {
   "cell_type": "markdown",
   "metadata": {},
   "source": [
    "### 713. 乘积小于K的子数组"
   ]
  },
  {
   "cell_type": "code",
   "execution_count": 94,
   "metadata": {
    "scrolled": true
   },
   "outputs": [
    {
     "name": "stdout",
     "output_type": "stream",
     "text": [
      "0 5 [1, 1, 1, 1]\n",
      "5 9 [1, 1, 1]\n",
      "9 12 [1, 1]\n",
      "12 15 [1, 1]\n",
      "15 18 [1, 1]\n",
      "L1 =  [4, 3, 2, 2, 2, 3]\n",
      "L2 =  [0, 0, 0, 0, 2]\n"
     ]
    },
    {
     "data": {
      "text/plain": [
       "28"
      ]
     },
     "execution_count": 94,
     "metadata": {},
     "output_type": "execute_result"
    }
   ],
   "source": [
    "    def numSubarrayProductLessThanK(nums, k):\n",
    "        test = min(nums)\n",
    "        if(test>=k):\n",
    "            return 0\n",
    "        counter = 0\n",
    "        taille = len(nums)\n",
    "        if taille^1==0:\n",
    "            if nums[0]<k:\n",
    "                return 1\n",
    "            else:\n",
    "                return 0\n",
    "        for x in nums:\n",
    "            if x<k:\n",
    "                counter += 1\n",
    "        j = 1\n",
    "        i = 0\n",
    "        tmp = nums[0]\n",
    "        L1 = []\n",
    "        L2 = []\n",
    "        while j < taille:\n",
    "            while(tmp < k):\n",
    "                tmp *= nums[j]\n",
    "                #print(\"tmp = \",tmp)\n",
    "                j+=1\n",
    "                if(j^taille==0):\n",
    "                    break\n",
    "            #counter += compter(j-i-1)\n",
    "            print(i,j,nums[i:j-1])\n",
    "            L1.append(j-i-1)\n",
    "            while(tmp >= k):\n",
    "                tmp//=nums[i]                   \n",
    "                #print(\"tmp = \",tmp)\n",
    "                i+=1\n",
    "            if(i<j):\n",
    "                L2.append(j-i-1)\n",
    "            else:\n",
    "                L2.append(0)\n",
    "            #print(i,j)\n",
    "            if(j>=taille):\n",
    "                if(tmp < k):\n",
    "                    L1.append(j-i)\n",
    "                else:\n",
    "                    while(tmp >= k):\n",
    "                        tmp//=nums[i]\n",
    "                        i+=1\n",
    "                    L1.append(j-i)                       \n",
    "        #print(\"L1 = \",L1)\n",
    "        #print(\"L2 = \",L2)\n",
    "        L1 = [compter(s) for s in L1]\n",
    "        L2 = [compter(s) for s in L2]\n",
    "        return sum(L1)-sum(L2)+counter\n",
    "                \n",
    "    def compter(nombre):\n",
    "        return (nombre * (nombre-1)) // 2\n",
    "    \n",
    "             \n",
    "numSubarrayProductLessThanK([1,1,1,1,6,1,1,1,7,1,1,8,1,1,9,1,1,1],5)"
   ]
  },
  {
   "cell_type": "code",
   "execution_count": 91,
   "metadata": {},
   "outputs": [
    {
     "data": {
      "text/plain": [
       "[1, 1, 1]"
      ]
     },
     "execution_count": 91,
     "metadata": {},
     "output_type": "execute_result"
    }
   ],
   "source": [
    "[1,1,1,1,6,1,1,1,7,1,1,8,1,1,9,1,1,1][15:18]"
   ]
  },
  {
   "cell_type": "markdown",
   "metadata": {},
   "source": [
    "1,1,1,1,6,1,1,1,7,1,1,8,1,1,9,1,1,1\n",
    "1 1 1 1\n",
    "          1 1 1   \n",
    "                  1 1  \n",
    "                        1 1\n",
    "                              1 1 1"
   ]
  },
  {
   "cell_type": "code",
   "execution_count": 86,
   "metadata": {},
   "outputs": [
    {
     "name": "stdout",
     "output_type": "stream",
     "text": [
      "47220\n",
      "5\n"
     ]
    }
   ],
   "source": [
    "L = [1,1,1,1,1,1,1,1,1,1,1,1,1,1,1,1,1,1,1,1,1,1,1,1,1,1,1,1,1,1,1,1,1,1,1,1,1,1,1,1,1,1,1,1,1,1,1,1,1,1,1,1,1,1,1,1,1,1,1,1,1,1,1,1,1,1,1,1,1,1,1,1,1,1,1,1,1,1,1,1,1,1,1,1,1,1,1,1,1,1,1,1,1,1,1,1,1,1,1,1,1,1,1,1,1,1,1,1,1,1,1,1,1,1,1,1,1,1,1,1,1,1,1,1,1,1,1,1,1,1,1,1,1,1,1,1,1,1,1,1,1,1,1,1,1,1,1,1,1,1,1,1,1,1,1,1,1,1,1,1,1,1,1,1,1,1,1,1,1,1,1,1,1,1,1,1,1,1,1,1,1,1,1,1,1,1,1,1,1,1,1,1,1,1,1,1,1,1,1,1,1,1,1,1,1,1,1,1,1,1,1,1,1,1,1,1,1,1,1,1,1,1,1,1,1,1,1,1,1,1,1,1,1,1,1,1,1,1,1,1,1,1,1,1,1,1,1,1,1,1,1,1,1,1,1,1,1,1,1,1,1,1,1,1,1,1,1,1,1,1,1,1,1,1,1,1,1,1,1,1,1,1,1,1,1,1,1,1,1,1,1,1,1,1,1,1,1,1,1,1,1,1,1,1,1,1,1,1,1,1,1,1,1,1,1,1,1,1,1,1,1,1,1,1,1,1,1,1,1,1,1,1,1,1,1,1,1,1,1,1,1,1,1,1,1,1,1,1,1,1,1,1,1,1,1,1,1,1,1,1,1,1,1,1,1,1,1,1,1,1,1,1,1,1,1,1,1,1,1,1,1,1,1,1,1,1,1,1,1,1,1,1,1,1,1,1,1,1,1,1,1,1,1,1,1,1,1,1,1,1,1,1,1,1,1,1,1,1,1,1,1,1,1,1,1,1,1,1,1,1,1,1,1,1,1,1,1,1,1,1,1,1,1,1,1,1,1,1,1,1,1,1,1,1,1,1,1,1,1,1,1,1,1,1,1,1,1,1,1,1,1,1,1,1,1,1,1,1,1,1,1,1,1,1,1,1,1,1,1,1,1,1,1,1,1,1,1,1,1,1,1,1,1,1,1,1,1,1,1,1,1,1,1,1,1,1,1,1,1,1,1,1,1,1,1,1,1,1,1,1,1,1,1,1,1,1,1,1,1,1,1,1,1,1,1,1,1,1,1,1,1,1,1,1,1,1,1,1,1,1,1,1,1,1,1,1,1,1,1,1,1,1,1,1,1,1,1,1,1,1,1,1,1,1,1,1,1,1,1,1,1,1,1,1,1,1,1,1,1,1,1,1,1,1,1,1,1,1,1,1,1,1,1,1,1,1,1,1,1,1,1,1,1,1,1,1,1,1,1,1,1,1,1,1,1,1,1,1,1,1,1,1,1,1,1,1,1,1,1,1,1,1,1,1,1,1,1,1,1,1,1,1,1,1,1,1,1,1,1,1,1,1,1,1,1,1,1,1,1,1,1,1,1,1,1,1,1,1,1,1,1,1,1,1,1,1,1,1,1,1,1,1,1,1,1,1,1,1,1,1,1,1,1,1,1,1,1,1,1,1,1,1,1,1,1,1,1,1,1,1,1,1,1,1,1,1,1,1,1,1,1,1,1,1,1,1,1,1,1,1,1,1,1,1,1,1,1,1,1,1,1,1,1,1,1,1,1,1,1,1,1,1,1,1,1,1,1,1,1,1,1,1,1,1,1,1,1,1,1,1,1,1,1,1,1,1,1,1,1,1,1,1,1,1,1,1,1,1,1,1,1,1,1,1,1,1,1,1,1,1,1,1,1,1,1,1,1,1,1,1,1,1,1,1,1,1,1,1,1,1,1,1,1,1,1,1,1,1,1,1,1,1,1,1,1,1,1,1,1,1,1,1,1,1,1,1,1,8,1,1,1,1,1,1,1,1,1,1,1,1,1,1,1,1,1,1,1,1,1,1,1,1,1,1,1,1,1,1,1,1,1,1,1,1,1,1,1,1,1,1,1,1,1,1,1,1,1,1,1,1,1,1,1,1,1,1,1,1,1,1,1,1,1,1,1,1,1,1,1,1,1,1,1,1,1,1,1,1,1,1,1,1,1,1,1,1,1,1,1,1,1,1,1,1,1,1,1,1,1,1,1,1,1,1,1,1,1,1,1,1,1,1,1,1,1,1,1,1,1,1,1,1,1,1,1,1,1,1,1,1,1,1,1,1,1,1,1,1,1,1,1,1,1,1,1,1,1,1,1,1,1,1,1,1,1,1,1,1,1,1,1,1,1,1,1,1,1,1,1,1,1,1,1,1,1,1,1,1,1,1,1,1,1,1,1,1,1,1,1,1,1,1,1,1,1,1,1,1,1,1,1,1,1,1,1,1,1,1,1,1,1,1,1,1,1,1,1,1,1,1,1,1,1,1,1,1,1,1,1,1,1,1,1,1,1,1,1,1,1,1,1,1,1,1,1,1,1,1,1,1,1,1,1,1,1,1,1,1,1,1,1,1,1,1,1,1,1,1,1,1,1,1,1,1,1,1,1,1,1,1,1,1,1,1,1,1,1,1,1,1,1,1,1,1,1,1,1,1,1,1,1,1,1,1,1,1,1,1,1,1,1,1,1,1,1,1,1,1,1,1,1,1,1,1,1,1,1,1,1,1,1,1,1,1,1,1,1,1,1,1,1,1,1,1,1,1,1,1,1,1,1,1,1,1,1,1,1,1,1,1,1,1,1,1,1,1,1,1,1,1,1,1,1,1,1,1,1,1,1,1,1,1,1,1,1,1,1,1,1,1,1,1,1,1,1,1,1,1,1,1,1,1,1,1,1,1,1,1,1,1,1,1,1,1,1,1,1,1,1,1,1,1,1,1,1,1,1,1,1,1,1,1,1,1,1,1,1,1,1,1,1,1,1,1,1,1,1,1,1,1,1,1,1,1,1,1,1,1,1,1,1,1,1,1,1,1,1,1,1,1,1,1,1,1,1,1,1,1,1,1,1,1,1,1,1,1,1,1,1,1,1,1,1,1,1,1,1,1,1,1,1,1,1,1,1,1,1,1,1,1,1,1,1,1,1,1,1,1,1,1,1,1,1,1,1,1,1,1,1,1,1,1,1,1,1,1,1,1,1,1,1,1,1,1,1,1,1,1,1,1,1,1,1,1,1,1,1,1,1,1,1,1,1,1,1,1,1,1,1,1,1,1,1,1,1,1,1,1,1,1,1,1,1,1,1,1,1,1,1,1,1,1,1,1,1,1,1,1,1,1,1,1,1,1,1,1,1,1,1,1,1,1,1,1,1,1,1,1,1,1,1,1,1,1,1,1,1,1,1,1,1,1,1,1,1,1,1,1,1,1,1,1,1,1,1,1,1,1,1,1,1,1,1,1,1,1,1,1,1,1,1,1,1,1,1,1,1,1,1,1,1,1,1,1,1,1,1,1,1,1,1,1,1,1,1,1,1,1,1,1,1,1,1,1,1,1,1,1,1,1,1,1,1,1,1,1,1,1,1,1,1,1,1,1,1,1,1,1,1,1,1,1,1,1,1,1,1,1,1,1,1,1,1,1,1,1,1,1,1,1,1,1,1,1,1,1,1,1,1,1,1,1,1,1,1,1,1,1,1,1,1,1,1,1,1,1,1,1,1,1,1,1,1,1,1,1,1,1,1,1,1,1,1,1,1,1,1,1,1,1,1,1,1,1,1,1,1,1,1,1,1,1,1,1,1,1,1,1,1,1,1,1,1,1,1,1,1,1,1,1,1,1,1,1,1,1,1,1,1,1,1,1,1,1,1,1,1,1,1,1,1,1,1,1,1,1,1,1,1,1,1,1,1,1,1,1,1,1,1,1,1,1,1,1,1,1,1,1,1,1,1,1,1,1,1,1,1,1,1,1,1,1,1,1,1,1,1,1,1,1,1,1,1,1,1,1,1,1,1,1,1,1,1,1,1,1,1,1,1,1,1,1,1,1,1,1,1,1,1,1,1,1,1,1,1,1,1,1,1,1,1,1,1,1,1,1,1,1,1,1,1,1,1,1,1,1,1,1,1,1,1,1,1,1,1,1,1,1,1,1,1,1,1,1,1,1,1,1,1,1,1,1,1,1,1,1,1,1,1,1,1,1,1,1,1,1,1,1,1,1,1,1,1,1,1,1,1,1,1,1,1,1,1,1,1,1,1,1,1,1,1,1,1,1,1,1,1,1,1,1,1,1,1,1,1,1,1,1,1,1,1,1,1,1,1,1,1,1,1,1,1,1,1,1,1,1,1,1,1,1,1,1,1,1,1,1,1,1,1,1,1,1,1,1,1,1,1,1,1,1,1,1,1,1,1,1,1,1,1,1,1,1,1,1,1,1,1,1,1,1,1,1,1,1,1,1,1,1,1,1,1,1,1,1,1,1,1,1,1,1,1,1,1,1,1,1,1,1,1,1,1,1,1,1,1,1,1,1,1,1,1,1,1,1,1,1,1,1,1,1,1,1,1,1,1,1,1,1,1,1,1,1,1,1,1,1,1,1,1,1,1,1,1,1,1,1,1,1,1,1,1,1,1,1,1,1,1,1,1,1,1,1,1,1,1,1,1,1,1,1,1,1,1,1,1,1,1,1,1,1,1,1,1,1,1,1,1,1,1,1,1,1,1,1,1,1,1,1,1,1,1,1,1,1,1,1,1,1,1,1,1,1,1,1,1,1,1,1,1,1,1,1,1,1,1,1,1,1,1,1,1,1,1,1,1,1,1,1,1,1,1,1,1,1,1,1,1,1,1,1,1,1,1,1,1,1,1,1,1,1,1,1,1,1,1,1,1,1,1,1,1,1,1,1,1,1,1,1,1,1,1,1,1,1,1,1,1,1,1,1,1,1,1,1,1,1,1,1,1,1,1,1,1,1,1,1,1,1,1,1,1,1,1,1,1,1,1,1,1,1,1,1,1,1,1,1,1,1,1,1,1,1,1,1,1,1,1,1,1,1,1,1,1,1,1,1,1,1,1,1,1,1,1,1,1,1,1,1,1,1,1,1,1,1,1,1,1,1,1,1,1,1,1,1,1,1,1,1,1,1,1,1,1,1,1,1,1,1,1,1,1,1,1,1,1,1,1,1,1,1,1,1,1,1,1,1,1,1,1,1,1,1,1,1,1,1,1,1,1,1,1,1,1,1,1,1,1,1,1,1,1,1,1,1,1,1,1,1,1,1,1,1,1,1,1,1,1,1,1,1,1,1,1,1,1,1,1,1,1,1,1,1,1,1,1,1,1,1,1,1,1,1,1,1,1,1,1,1,1,1,1,1,1,1,1,1,1,1,1,1,1,1,1,1,1,1,1,1,1,1,1,1,1,1,1,1,1,1,1,1,1,1,1,1,1,1,1,1,1,1,1,1,1,1,1,1,1,1,1,1,1,1,1,1,1,1,1,1,1,1,1,1,1,1,1,1,1,1,1,1,1,1,1,1,1,1,1,1,1,1,1,1,1,1,1,1,1,1,1,1,1,1,1,1,1,1,1,1,1,1,1,1,1,1,1,1,1,1,1,1,1,1,1,1,1,1,1,1,1,1,1,1,1,1,1,1,1,1,1,1,1,1,1,1,1,1,1,1,1,1,1,1,1,1,1,1,1,1,1,1,1,1,1,1,1,1,1,1,1,1,1,1,1,1,1,1,1,1,1,1,1,1,1,1,1,1,1,1,1,1,1,1,1,1,1,1,1,1,1,1,1,1,1,1,1,1,1,1,1,1,1,1,1,1,1,1,1,1,1,1,1,1,1,1,1,1,1,1,1,1,1,1,1,1,1,1,1,1,1,1,1,1,1,1,1,1,1,1,1,1,1,1,1,1,1,1,1,1,1,1,1,1,1,1,1,1,1,1,1,1,1,1,1,1,1,1,1,1,1,1,1,1,1,1,1,1,1,1,1,1,1,1,1,1,1,1,1,1,1,1,1,1,1,1,1,1,1,1,1,1,1,1,1,1,1,1,1,1,1,1,1,1,1,1,1,1,1,1,1,1,1,1,1,1,1,1,1,1,1,1,1,1,1,1,1,1,1,1,1,1,1,1,1,1,1,1,1,1,1,1,1,1,1,1,1,1,1,1,1,1,1,1,1,1,1,1,1,1,1,1,1,1,1,1,1,1,1,1,1,1,1,1,1,1,1,1,1,1,1,1,1,1,1,1,1,1,1,1,1,1,1,1,1,1,1,1,1,1,1,1,1,1,1,1,1,1,1,1,1,1,1,1,1,1,1,1,1,1,1,1,1,1,1,1,1,1,1,1,1,1,1,1,1,1,1,1,1,1,1,1,1,1,1,1,1,1,1,1,1,1,1,1,1,1,1,1,1,1,1,1,1,1,1,1,1,1,1,1,1,1,1,1,1,1,1,1,1,1,1,1,1,1,1,1,1,1,1,1,1,1,1,1,1,1,1,1,1,1,1,1,1,1,1,1,1,1,1,1,1,1,1,1,1,1,1,1,1,1,1,1,1,1,1,1,1,1,1,1,1,1,1,1,1,1,1,1,1,1,1,1,1,1,1,1,1,1,1,1,1,1,1,1,1,1,1,1,1,1,1,1,1,1,1,1,1,1,1,1,1,1,1,1,1,1,1,1,1,1,1,1,1,1,1,1,1,1,1,1,1,1,1,1,1,1,1,1,1,1,1,1,1,1,1,1,1,1,1,1,1,1,1,1,1,1,1,1,1,1,1,1,1,1,1,1,1,1,1,1,1,1,1,1,1,1,1,1,1,1,1,1,1,1,1,1,1,1,1,1,1,1,1,1,1,1,1,1,1,1,1,1,1,1,1,1,1,1,1,1,1,1,1,1,1,1,1,1,1,1,1,1,1,1,1,1,1,1,1,1,1,1,1,1,1,1,1,1,1,1,1,1,1,1,1,1,1,1,1,1,1,1,1,1,1,1,1,1,1,1,1,1,1,1,1,1,1,1,1,1,1,1,1,1,1,1,1,1,1,1,1,1,1,1,1,1,1,1,1,1,1,1,1,1,1,1,1,1,1,1,1,1,1,1,1,1,1,1,1,1,1,1,1,1,1,1,1,1,1,1,1,1,1,1,1,1,1,1,1,1,1,1,1,1,1,1,1,1,1,1,1,1,1,1,1,1,1,1,1,1,1,1,1,1,1,1,1,1,1,1,1,1,1,1,1,1,1,1,1,1,1,1,1,1,1,1,1,1,1,1,1,1,1,1,1,1,1,1,1,1,1,1,1,1,1,1,1,1,1,1,1,1,1,1,1,1,1,1,1,1,1,1,1,1,1,1,1,1,1,1,1,1,1,1,1,1,1,1,1,1,1,1,1,1,1,1,1,1,1,1,1,1,1,1,1,1,1,1,1,1,1,1,1,1,1,1,1,1,1,1,1,1,1,1,1,1,1,1,1,1,1,1,1,1,1,1,1,1,1,1,1,1,1,1,1,1,1,1,1,1,1,1,1,1,1,1,1,1,1,1,1,1,1,1,1,1,1,1,1,1,1,1,1,1,1,1,1,1,1,1,1,1,1,1,1,1,1,1,1,1,1,1,1,1,1,1,1,1,1,1,1,1,1,1,1,1,1,1,1,1,1,1,1,1,1,1,1,1,1,1,1,1,1,1,1,1,1,1,1,1,1,1,1,1,1,1,1,1,1,1,1,1,1,1,1,1,1,1,1,1,1,1,1,1,1,1,1,1,1,1,1,1,1,1,1,1,1,1,1,1,1,1,1,1,1,1,1,1,1,1,1,1,1,1,1,1,1,1,1,1,1,1,1,1,1,1,1,1,1,1,1,1,1,1,1,1,1,1,1,1,1,1,1,1,1,1,1,1,1,1,1,1,1,1,1,1,1,1,1,1,1,1,1,1,1,1,1,1,1,1,1,1,1,1,1,1,1,1,1,1,1,1,1,1,1,1,1,1,1,1,1,1,1,1,1,1,1,1,1,1,1,1,1,1,1,1,1,1,1,1,1,1,1,1,1,1,1,1,1,1,1,1,1,1,1,1,1,1,1,1,1,1,1,1,1,1,1,1,1,1,1,1,1,1,1,1,1,1,1,1,1,1,1,1,1,1,1,1,1,1,1,1,1,1,1,1,1,1,1,1,1,1,1,1,1,1,1,1,1,1,1,1,1,1,1,1,1,1,1,1,1,1,1,1,1,1,1,1,1,1,1,1,1,1,1,1,1,1,1,1,1,1,1,1,1,1,1,1,1,1,1,1,1,1,1,1,1,1,1,1,1,1,1,1,1,1,1,1,1,1,1,1,1,1,1,1,1,1,1,1,1,1,1,1,1,1,1,1,1,1,1,1,1,1,1,1,1,1,1,1,1,1,1,1,1,1,1,1,1,1,1,1,1,1,1,1,1,1,1,1,1,1,1,1,1,1,1,1,1,1,1,1,1,1,1,1,1,1,1,1,1,1,1,1,1,1,1,1,1,1,1,1,1,1,1,1,1,1,1,1,1,1,1,1,1,1,1,1,1,1,1,1,1,1,1,1,1,1,1,1,1,1,1,1,1,1,1,1,1,1,1,1,1,1,1,1,1,1,1,1,1,1,1,1,1,1,1,1,1,1,1,1,1,1,1,1,1,1,1,1,1,1,1,1,1,1,1,1,1,1,1,1,1,1,1,1,1,1,1,1,1,1,1,1,1,1,1,1,1,1,1,1,1,1,1,1,1,1,1,1,1,1,1,1,1,1,1,1,1,1,1,1,1,1,1,1,1,1,1,1,1,1,1,1,1,1,1,1,1,1,1,1,1,1,1,1,1,1,1,1,1,1,1,1,1,1,1,1,1,1,1,1,1,1,1,1,1,1,1,1,1,1,1,1,1,1,1,1,1,1,1,1,1,1,1,1,1,1,1,1,1,1,1,1,1,1,1,1,1,1,1,1,1,1,1,1,1,1,1,1,1,1,1,1,1,1,1,1,1,1,1,1,1,1,1,1,1,1,1,1,1,1,1,1,1,1,1,1,1,1,1,1,1,1,1,1,1,1,1,1,1,1,1,1,1,1,1,1,1,1,1,1,1,1,1,1,1,1,1,1,1,1,1,1,1,1,1,1,1,1,1,1,1,1,1,1,1,1,1,1,1,1,1,1,1,1,1,1,1,1,1,1,1,1,1,1,1,1,1,1,1,1,1,1,1,1,1,1,1,1,1,1,1,1,1,1,1,1,1,1,1,1,1,1,1,1,1,1,1,1,1,1,1,1,1,1,1,1,1,1,1,1,1,1,1,1,1,1,1,1,1,1,1,1,1,1,1,1,1,1,1,1,1,1,1,1,1,1,1,1,1,1,1,1,1,1,1,1,1,1,1,1,1,1,1,1,1,1,1,1,1,1,1,1,1,1,1,1,1,1,1,1,1,1,1,1,1,1,1,1,1,1,1,1,1,1,1,1,1,1,1,1,1,1,1,1,1,1,1,1,1,1,1,1,1,1,1,1,1,1,1,1,1,1,1,1,1,1,1,1,1,1,1,1,1,1,1,1,1,1,1,1,1,1,1,1,1,1,1,1,1,1,1,1,1,1,1,1,1,1,1,1,1,1,1,1,1,1,1,1,1,1,1,1,1,1,1,1,1,1,1,1,1,1,1,1,1,1,1,1,1,1,1,1,1,1,1,1,1,1,1,1,1,1,1,1,1,1,1,1,1,1,1,1,1,1,1,1,1,1,1,1,1,1,1,1,1,1,1,1,1,1,1,1,1,1,1,1,1,1,1,1,1,1,1,1,1,1,1,1,1,1,1,1,1,1,1,1,1,1,1,1,1,1,1,1,1,1,1,1,1,1,1,1,1,1,1,1,1,1,1,1,1,1,1,1,1,1,1,1,1,1,1,1,1,1,1,1,1,1,1,1,1,1,1,1,1,1,1,1,1,1,1,1,1,1,1,1,1,1,1,1,1,1,1,1,1,1,1,1,1,1,1,1,1,1,1,1,1,1,1,1,1,1,1,1,1,1,1,1,1,1,1,1,1,1,1,1,1,1,1,1,1,1,1,1,1,1,1,1,1,1,1,1,1,1,1,1,1,1,1,1,1,1,1,1,1,1,1,1,1,1,1,1,1,1,1,1,1,1,1,1,1,1,1,1,1,1,1,1,1,1,1,1,1,1,1,1,1,1,1,1,1,1,1,1,1,1,1,1,1,1,1,1,1,1,1,1,1,1,1,1,1,1,1,1,1,1,1,1,1,1,1,1,1,1,1,1,1,1,1,1,1,1,1,1,1,1,1,1,1,1,1,1,1,1,1,1,1,1,1,1,1,1,1,1,1,1,1,1,1,1,1,1,1,1,1,1,1,1,1,1,1,1,1,1,1,1,1,1,1,1,1,1,1,1,1,1,1,1,1,1,1,1,1,1,1,1,1,1,1,1,1,1,1,1,1,1,1,1,1,1,1,1,1,1,1,1,1,1,1,1,1,1,1,1,1,1,1,1,1,1,1,1,1,1,1,1,1,1,1,1,1,1,1,1,1,1,1,1,1,1,1,1,1,1,1,1,1,1,1,1,1,1,1,1,1,1,1,1,1,1,1,1,1,1,1,1,1,1,1,1,1,1,1,1,1,1,1,1,1,1,1,1,1,1,1,1,1,1,1,1,1,1,1,1,1,1,1,1,1,1,1,1,1,1,1,1,1,1,1,1,1,1,1,1,1,1,1,1,1,1,1,1,1,1,1,1,1,1,1,1,1,1,1,1,1,1,1,1,1,1,1,1,1,1,1,1,1,1,1,1,1,1,1,1,1,1,1,1,1,1,1,1,1,1,1,1,1,1,1,1,1,1,1,1,1,1,1,1,1,1,1,1,1,1,1,1,1,1,1,1,1,1,1,1,1,1,1,1,1,1,1,1,1,1,1,1,1,1,1,1,1,1,1,1,1,1,1,1,1,1,1,1,1,1,1,1,1,1,1,1,1,1,1,1,1,1,1,1,1,1,1,1,1,1,1,1,1,1,1,1,1,1,1,1,1,1,1,1,1,1,1,1,1,1,1,1,1,1,1,1,1,1,1,1,1,1,1,1,1,1,1,1,1,1,1,1,1,1,1,1,1,1,1,1,1,1,1,1,1,1,1,1,1,1,1,1,1,1,1,1,1,1,1,1,1,1,1,1,1,1,1,1,1,1,1,1,1,1,1,1,1,1,1,1,1,1,1,1,1,1,1,1,1,1,1,1,1,1,1,1,1,1,1,1,1,1,1,1,1,1,1,1,1,1,1,1,1,1,1,1,1,1,1,1,1,1,1,1,1,1,1,1,1,1,1,1,1,1,1,1,1,1,1,1,1,1,1,1,1,1,1,1,1,1,1,1,1,1,1,1,1,1,1,1,1,1,1,1,1,1,1,1,1,1,1,1,1,1,1,1,1,1,1,1,1,1,1,1,1,1,1,1,1,1,1,1,1,1,1,1,1,1,1,1,1,1,1,1,1,1,1,1,1,1,1,1,1,1,1,1,1,1,1,1,1,1,1,1,1,1,1,1,1,1,1,1,1,1,1,1,1,1,1,1,1,1,1,1,1,1,1,1,1,1,1,1,1,1,1,1,1,1,1,1,1,1,1,1,1,1,1,1,1,1,1,1,1,1,1,1,1,1,1,1,1,1,1,1,1,1,1,1,1,1,1,1,1,1,1,1,1,1,1,1,1,1,1,1,1,1,1,1,1,1,1,1,1,1,1,1,1,1,1,1,1,1,1,1,1,1,1,1,1,1,1,1,1,1,1,1,1,1,1,1,1,1,1,1,1,1,1,1,1,1,1,1,1,1,1,1,1,1,1,1,1,1,1,1,1,1,1,1,1,1,1,1,1,1,1,1,1,1,1,1,1,1,1,1,1,1,1,1,1,1,1,1,1,1,1,1,1,1,1,1,1,1,1,1,1,1,1,1,1,1,1,1,1,1,1,1,1,1,1,1,1,1,1,1,1,1,1,1,1,1,1,1,1,1,1,1,1,1,1,1,1,1,1,1,1,1,1,1,1,1,1,1,1,1,1,1,1,1,1,1,1,1,1,1,1,1,1,1,1,1,1,1,1,1,1,1,1,1,1,1,1,1,1,1,1,1,1,1,1,1,1,1,1,1,1,1,1,1,1,1,1,1,1,1,1,1,1,1,1,1,1,1,1,1,1,1,1,1,1,1,1,1,1,1,1,1,1,1,1,1,1,1,1,1,1,1,1,1,1,1,1,1,1,1,1,1,1,1,1,1,1,1,1,1,1,1,1,1,1,1,1,1,1,1,1,1,1,1,1,1,1,1,1,1,1,1,1,1,1,1,1,1,1,1,1,1,1,1,1,1,1,1,1,1,1,1,1,1,1,1,1,1,1,1,1,1,1,1,1,1,1,1,1,1,1,1,1,1,1,1,1,1,1,1,1,1,1,1,1,1,1,1,1,1,1,1,1,1,1,1,1,1,1,1,1,1,1,1,1,1,1,1,1,1,1,1,1,1,1,1,1,1,1,1,1,1,1,1,1,1,1,1,1,1,1,1,1,1,1,1,1,1,1,1,1,1,1,1,1,1,1,1,1,1,1,1,1,1,1,1,1,1,1,1,1,1,1,1,1,1,1,1,1,1,1,1,1,1,1,1,1,1,1,1,1,1,1,1,1,1,1,1,1,1,1,1,1,1,1,1,1,1,1,1,1,1,1,1,1,1,1,1,1,1,1,1,1,1,1,1,1,1,1,1,1,1,1,1,1,1,1,1,1,1,1,1,1,1,1,1,1,1,1,1,1,1,1,1,1,1,1,1,1,1,1,1,1,1,1,1,1,1,1,1,1,1,1,1,1,1,1,1,1,1,1,1,1,1,1,1,1,1,1,1,1,1,1,1,1,1,1,1,1,1,1,1,1,1,1,1,1,1,1,1,1,1,1,1,1,1,1,1,1,1,1,1,1,1,1,1,1,1,1,1,1,1,1,1,1,1,1,1,1,1,1,1,1,1,1,1,1,1,1,1,1,1,1,1,1,1,1,1,1,1,1,1,1,1,1,1,1,1,1,1,1,1,1,1,1,1,1,1,1,1,1,1,1,1,1,1,1,1,1,1,1,1,1,1,1,1,1,1,1,1,1,1,1,1,1,1,1,1,1,1,1,1,1,1,1,1,1,1,1,1,1,1,1,1,1,1,1,1,1,1,1,1,1,1,1,1,1,1,1,1,1,1,1,1,1,1,1,1,1,1,1,1,1,1,1,1,1,1,1,1,1,1,1,1,1,1,1,1,1,1,1,1,1,1,1,1,1,1,1,1,1,1,1,1,1,1,1,1,1,1,1,1,1,1,1,1,1,1,1,1,1,1,1,1,1,1,1,1,1,1,1,1,1,1,1,1,1,1,1,1,1,1,1,1,1,1,1,1,1,1,1,1,1,1,1,1,1,1,1,1,1,1,1,1,1,1,1,1,1,1,1,1,1,1,1,1,1,1,1,1,1,1,1,1,1,1,1,1,1,1,1,1,1,1,1,1,1,1,1,1,1,1,1,1,1,1,1,1,1,1,1,1,1,1,1,1,1,1,1,1,1,1,1,1,1,1,1,1,1,1,1,1,1,1,1,1,1,1,1,1,1,1,1,1,1,1,1,1,1,1,1,1,1,1,1,1,1,1,1,1,1,1,1,1,1,1,1,1,1,1,1,1,1,1,1,1,1,1,1,1,1,1,1,1,1,1,1,1,1,1,1,1,1,1,1,1,1,1,1,1,1,1,1,1,1,1,1,1,1,1,1,1,1,1,1,1,1,1,1,1,1,1,1,1,1,1,1,1,1,1,1,1,1,1,1,1,1,1,1,1,1,1,1,1,1,1,1,1,1,1,1,1,1,1,1,1,1,1,1,1,1,1,1,1,1,1,1,1,1,1,1,1,1,1,1,1,1,1,1,1,1,1,1,1,1,1,1,1,1,1,1,1,1,1,1,1,1,1,1,1,1,1,1,1,1,1,1,1,1,1,1,1,1,1,1,1,1,1,1,1,1,1,1,1,1,1,1,1,1,1,1,1,1,1,1,1,1,1,1,1,1,1,1,1,1,1,1,1,1,1,1,1,1,1,1,1,1,1,1,1,1,1,1,1,1,1,1,1,1,1,1,1,1,1,1,1,1,1,1,1,1,1,1,1,1,1,1,1,1,1,1,1,1,1,1,1,1,1,1,1,1,1,1,1,1,1,1,1,1,1,1,1,1,1,1,1,1,1,1,1,1,1,1,1,1,1,1,1,1,1,1,1,1,1,1,1,1,1,1,1,1,1,1,1,1,1,1,1,1,1,1,1,1,1,1,1,1,1,1,1,1,1,1,1,1,1,1,1,1,1,1,1,1,1,1,1,1,1,1,1,1,1,1,1,1,1,1,1,1,1,1,1,1,1,1,1,1,1,1,1,1,1,1,1,1,1,1,1,1,1,1,1,1,1,1,1,1,1,1,1,1,1,1,1,1,1,1,1,1,1,1,1,1,1,1,1,1,1,1,1,1,1,1,1,1,1,1,1,1,1,1,1,1,1,1,1,1,1,1,1,1,1,1,1,1,1,1,1,1,1,1,1,1,1,1,1,1,1,1,1,1,1,1,1,1,1,1,1,1,1,1,1,1,1,1,1,1,1,1,1,1,1,1,1,1,1,1,1,1,1,1,1,1,1,1,1,1,1,1,1,1,1,1,1,1,1,1,1,1,1,1,1,1,1,1,1,1,1,1,1,1,1,1,1,1,1,1,1,1,1,1,1,1,1,1,1,1,1,1,1,1,1,1,1,1,1,1,1,1,1,1,1,1,1,1,1,1,1,1,1,1,1,1,1,1,1,1,1,1,1,1,1,1,1,1,1,1,1,1,1,1,1,1,1,1,1,1,1,1,1,1,1,1,1,1,1,1,1,1,1,1,1,1,1,1,1,1,1,1,1,1,1,1,1,1,1,1,1,1,1,1,1,1,1,1,1,1,1,1,1,1,1,1,1,1,1,1,1,1,1,1,1,1,1,1,1,1,1,1,1,1,1,1,1,1,1,1,1,1,1,1,1,1,1,1,1,1,1,1,1,1,1,1,1,1,1,1,1,1,1,1,1,1,1,1,1,1,1,1,1,1,1,1,1,1,1,1,1,1,1,1,1,1,1,1,1,1,1,1,1,1,1,1,1,1,1,1,1,1,1,1,1,1,1,1,1,1,1,1,1,1,1,1,1,1,1,1,1,1,1,1,1,1,1,1,1,1,1,1,1,1,1,1,1,1,1,1,1,1,1,1,1,1,1,1,1,1,1,1,1,1,1,1,1,1,1,1,1,1,1,1,1,1,1,1,1,1,1,1,1,1,1,1,1,1,1,1,1,1,1,1,1,1,1,1,1,1,1,1,1,1,1,1,1,1,1,1,1,1,1,1,1,1,1,1,1,1,1,1,1,1,1,1,1,1,1,1,1,1,1,1,1,1,1,1,1,1,1,1,1,1,1,1,1,1,1,1,1,1,1,1,1,1,1,1,1,1,1,1,1,1,1,1,1,1,1,1,1,1,1,1,1,1,1,1,1,1,1,1,1,1,1,1,1,1,1,1,1,1,1,1,1,1,1,1,1,1,1,1,1,1,1,1,1,1,1,1,1,1,1,1,1,1,1,1,1,1,1,1,1,1,1,1,1,1,1,1,1,1,1,1,1,1,1,1,1,1,1,1,1,1,1,1,1,1,1,1,1,1,1,1,1,1,1,1,1,1,1,1,1,1,1,1,1,1,1,1,1,1,1,1,1,1,1,1,1,1,1,1,1,1,1,1,1,1,1,1,1,1,1,1,1,1,1,1,1,1,1,1,1,1,1,1,1,1,1,1,1,1,1,1,1,1,1,1,1,1,1,1,1,1,1,1,1,1,1,1,1,1,1,1,1,1,1,1,1,1,1,1,1,1,1,1,1,1,1,1,1,1,1,1,1,1,1,1,1,1,1,1,1,1,1,1,1,1,1,1,1,1,1,1,1,1,1,1,1,1,1,1,1,1,1,1,1,1,1,1,1,1,1,1,1,1,1,1,1,1,1,1,1,1,1,1,1,1,1,1,1,1,1,1,1,1,1,1,1,1,1,1,1,1,1,1,1,1,1,1,1,1,1,1,1,1,1,1,1,1,1,1,1,1,1,1,1,1,1,1,1,1,1,1,1,1,1,1,1,1,1,1,1,1,1,1,1,1,1,1,1,1,1,1,1,1,1,1,1,1,1,1,1,1,1,1,1,1,1,1,1,1,1,1,1,1,1,1,1,1,1,1,1,1,1,1,1,1,1,1,1,1,1,1,1,1,1,1,1,1,1,1,1,1,1,1,1,1,1,1,1,1,1,1,1,1,1,1,1,1,1,1,1,1,1,1,1,1,1,1,1,1,1,1,1,1,1,1,1,1,1,1,1,1,1,1,1,1,1,1,1,1,1,1,1,1,1,1,1,1,1,1,1,1,1,1,1,1,1,1,1,1,1,1,1,1,1,1,1,1,1,1,1,1,1,1,1,1,1,1,1,1,1,1,1,1,1,1,1,1,1,1,1,1,1,1,1,1,1,1,1,1,1,1,1,1,1,1,1,1,1,1,1,1,1,1,1,1,1,1,1,1,1,1,1,1,1,1,1,1,1,1,1,1,1,1,1,1,1,1,1,1,1,1,1,1,1,1,1,1,1,1,1,1,1,1,1,1,1,1,1,1,1,1,1,1,1,1,1,1,1,1,1,1,1,1,1,1,1,1,1,1,1,1,1,1,1,1,1,1,1,1,1,1,1,1,1,1,1,1,1,1,1,1,1,1,1,1,1,1,1,1,1,1,1,1,1,1,1,1,1,1,1,1,1,1,1,1,1,1,1,1,1,1,1,1,1,1,1,1,1,1,1,1,1,1,1,1,1,1,1,1,1,1,1,1,1,1,1,1,1,1,1,1,1,1,1,1,1,1,1,1,1,1,1,1,1,1,1,1,1,1,1,1,1,1,1,1,1,1,1,1,1,1,1,1,1,1,1,1,1,1,1,1,1,1,1,1,1,1,1,1,1,1,1,1,1,1,1,1,1,1,1,1,1,1,1,1,1,1,1,1,1,1,1,1,1,1,1,1,1,1,1,1,1,1,1,1,1,1,1,1,1,1,1,1,1,1,1,1,1,1,1,1,1,1,1,1,1,1,1,1,1,1,1,1,1,1,1,1,1,1,1,1,1,1,1,1,1,1,1,1,1,1,1,1,1,1,1,1,1,1,1,1,1,1,1,1,1,1,1,1,1,1,1,1,1,1,1,1,1,1,1,1,1,1,1,1,1,1,1,1,1,1,1,1,1,1,1,1,1,1,1,1,1,1,1,1,1,1,1,1,1,1,1,1,1,1,1,1,1,1,1,1,1,1,1,1,1,1,1,1,1,1,1,1,1,1,1,1,1,1,1,1,1,1,1,1,1,1,1,1,1,1,1,1,1,1,1,1,1,1,1,1,1,1,1,1,1,1,1,1,1,1,1,1,1,1,1,1,1,1,1,1,1,1,1,1,1,1,1,1,1,1,1,1,1,1,1,1,1,1,1,1,1,1,1,1,1,1,1,1,1,1,1,1,1,1,1,1,1,1,1,1,1,1,1,1,1,1,1,1,1,1,1,1,1,1,1,1,1,1,1,1,1,1,1,1,1,1,1,1,1,1,1,1,1,1,1,1,1,1,1,1,1,1,1,1,1,1,1,1,1,1,1,1,1,1,1,1,1,1,1,1,1,1,1,1,1,1,1,1,1,1,1,1,1,1,1,1,1,1,1,1,1,1,1,1,1,1,1,1,1,1,1,1,1,1,1,1,1,1,1,1,1,1,1,1,1,1,1,1,1,1,1,1,1,1,1,1,1,1,1,1,1,1,1,1,1,1,1,1,1,1,1,1,1,1,1,1,1,1,1,1,1,1,1,1,1,1,1,1,1,1,1,1,1,1,1,1,1,1,1,1,1,1,1,1,1,1,1,1,1,1,1,1,1,1,1,1,1,1,1,1,1,1,1,1,1,1,1,1,1,1,1,1,1,1,1,1,1,1,1,1,1,1,1,1,1,1,1,1,1,1,1,1,1,1,1,1,1,1,1,1,1,1,1,1,1,1,1,1,1,1,1,1,1,1,1,1,1,1,1,1,1,1,1,1,1,1,1,1,1,1,1,1,1,1,1,1,1,1,1,1,1,1,1,1,1,1,1,1,1,1,1,1,1,1,1,1,1,1,1,1,1,1,1,1,1,1,1,1,1,1,1,1,1,1,1,1,1,1,1,1,1,1,1,1,1,1,1,1,1,1,1,1,1,1,1,1,1,1,1,1,1,1,1,1,1,1,1,1,1,1,1,1,1,1,1,1,1,1,1,1,1,1,1,1,1,1,1,1,1,1,1,1,1,1,1,1,1,1,1,1,1,1,1,1,1,1,1,1,1,1,1,1,1,1,1,1,1,1,1,1,1,1,1,1,1,1,1,1,1,1,1,1,1,1,1,1,1,1,1,1,1,1,1,1,1,1,1,1,1,1,1,1,1,1,1,1,1,1,1,1,1,1,1,1,1,1,1,1,1,1,1,1,1,1,1,1,1,1,1,1,1,1,1,1,1,1,1,1,1,1,1,1,1,1,1,1,1,1,1,1,1,1,1,1,1,1,1,1,1,1,1,1,1,1,1,1,1,1,1,1,1,1,1,1,1,1,1,1,1,1,1,1,1,1,1,1,1,1,1,1,1,1,1,1,1,1,1,1,1,1,1,1,1,1,1,1,1,1,1,1,1,1,1,1,1,1,1,1,1,1,1,1,1,1,1,1,1,1,1,1,1,1,1,1,1,1,1,1,1,1,1,1,1,1,1,1,1,1,1,1,1,1,1,1,1,1,1,1,1,1,1,1,1,1,1,1,1,1,1,1,1,1,1,1,1,1,1,1,1,1,1,1,1,1,1,1,1,1,1,1,1,1,1,1,1,1,1,1,1,1,1,1,1,1,1,1,1,1,1,1,1,1,1,1,1,1,1,1,1,1,1,1,1,1,1,1,1,1,1,1,1,1,1,1,1,1,1,1,1,1,1,1,1,1,1,1,1,1,1,1,1,1,1,1,1,1,1,1,1,1,1,1,1,1,1,1,1,1,1,1,1,1,1,1,1,1,1,1,1,1,1,1,1,1,1,1,1,1,1,1,1,1,1,1,1,1,1,1,1,1,1,1,1,1,1,1,1,1,1,1,1,1,1,1,1,1,1,1,1,1,1,1,1,1,1,1,1,1,1,1,1,1,1,1,1,1,1,1,1,1,1,1,1,1,1,1,1,1,1,1,1,1,1,1,1,1,1,1,1,1,1,1,1,1,1,1,1,1,1,1,1,1,1,1,1,1,1,1,1,1,1,1,1,1,1,1,1,1,1,1,1,1,1,1,1,1,1,1,1,1,1,1,1,1,1,1,1,1,1,1,1,1,1,1,1,1,1,1,1,1,1,1,1,1,1,1,1,1,1,1,1,1,1,1,1,1,1,1,1,1,1,1,1,1,1,1,1,1,1,1,1,1,1,1,1,1,1,1,1,1,1,1,1,1,1,1,1,1,1,1,1,1,1,1,1,1,1,1,1,1,1,1,1,1,1,1,1,1,1,1,1,1,1,1,1,1,1,1,1,1,1,1,1,1,1,1,1,1,1,1,1,1,1,1,1,1,1,1,1,1,1,1,1,1,1,1,1,1,1,1,1,1,1,1,1,1,1,1,1,1,1,1,1,1,1,1,1,1,1,1,1,1,1,1,1,1,1,1,1,1,1,1,1,1,1,1,1,1,1,1,1,1,1,1,1,1,1,1,1,1,1,1,1,1,1,1,1,1,1,1,1,1,1,1,1,1,1,1,1,1,1,1,1,1,1,1,1,1,1,1,1,1,1,1,1,1,1,1,1,1,1,1,1,1,1,1,1,1,1,1,1,1,1,1,1,1,1,1,1,1,1,1,1,1,1,1,1,1,1,1,1,1,1,1,1,1,1,1,1,1,1,1,1,1,1,1,1,1,1,1,1,1,1,1,1,1,1,1,1,1,1,1,1,1,1,1,1,1,1,1,1,1,1,1,1,1,1,1,1,1,1,1,1,1,1,1,1,1,1,1,1,1,1,1,1,1,1,1,1,1,1,1,1,1,1,1,1,1,1,1,1,1,1,1,1,1,1,1,1,1,1,1,1,1,1,1,1,1,1,1,1,1,1,1,1,1,1,1,1,1,1,1,1,1,1,1,1,1,1,1,1,1,1,1,1,1,1,1,1,1,1,1,1,1,1,1,1,1,1,1,1,1,1,1,1,1,1,1,1,1,1,1,1,1,1,1,1,1,1,1,1,1,1,1,1,1,1,1,1,1,1,1,1,1,1,1,1,1,1,1,1,1,1,1,1,1,1,1,1,1,1,1,1,1,1,1,1,1,1,1,1,1,1,1,1,1,1,1,1,1,1,1,1,1,1,1,1,1,1,1,1,1,1,1,1,1,1,1,1,1,1,1,1,1,1,1,1,1,1,1,1,1,1,1,1,1,1,1,1,1,1,1,1,1,1,1,1,1,1,1,1,1,1,1,1,1,1,1,1,1,1,1,1,1,1,1,1,1,1,1,1,1,1,1,1,1,1,1,1,1,1,1,1,1,1,1,1,1,1,1,1,1,1,1,1,1,1,1,1,1,1,1,1,1,1,1,1,1,1,1,1,1,1,1,1,1,1,1,1,1,1,1,1,1,1,1,1,1,1,1,1,1,1,1,1,1,1,1,1,1,1,1,1,1,1,1,1,1,1,1,1,1,1,1,1,1,1,1,1,1,1,1,1,1,1,1,1,1,1,1,1,1,1,1,1,1,1,1,1,1,1,1,1,1,1,1,1,1,1,1,1,1,1,1,1,1,1,1,1,1,1,1,1,1,1,1,1,1,1,1,1,1,1,1,1,1,1,1,1,1,1,1,1,1,1,1,1,1,1,1,1,1,1,1,1,1,1,1,1,1,1,1,1,1,1,1,1,1,1,1,1,1,1,1,1,1,1,1,1,1,1,1,1,1,1,1,1,1,1,1,1,1,1,1,1,1,1,1,1,1,1,1,1,1,1,1,1,1,1,1,1,1,1,1,1,1,1,1,1,1,1,1,1,1,1,1,1,1,1,1,1,1,1,1,1,1,1,1,1,1,1,1,1,1,1,1,1,1,1,1,1,1,1,1,1,1,1,1,1,1,1,1,1,1,1,1,1,1,1,1,1,1,1,1,1,1,1,1,1,1,1,1,1,1,1,1,1,1,1,1,1,1,1,1,1,1,1,1,1,1,1,1,1,1,1,1,1,1,1,1,1,1,1,1,1,1,1,1,1,1,1,1,1,1,1,1,1,1,1,1,1,1,1,1,1,1,1,1,1,1,1,1,1,1,1,1,1,1,1,1,1,1,1,1,1,1,1,1,1,1,1,1,1,1,1,1,1,1,1,1,1,1,1,1,1,1,1,1,1,1,1,1,1,1,1,1,1,1,1,1,1,1,1,1,1,1,1,1,1,1,1,1,1,1,1,1,1,1,1,1,1,1,1,1,1,1,1,1,1,1,1,1,1,1,1,1,1,1,1,1,1,1,1,1,1,1,1,1,1,1,1,1,1,1,1,1,1,1,1,1,1,1,1,1,1,1,1,1,1,1,1,1,1,1,1,1,1,1,1,1,1,1,1,1,1,1,1,1,1,1,1,1,1,1,1,1,1,1,1,1,1,1,1,1,1,1,1,1,1,1,1,1,1,1,1,1,1,1,1,1,1,1,1,1,1,1,1,1,1,1,1,1,1,1,1,1,1,1,1,1,1,1,1,1,1,1,1,1,1,1,1,1,1,1,1,1,1,1,1,1,1,1,1,1,1,1,1,1,1,1,1,1,1,1,1,1,1,1,1,1,1,1,1,1,1,1,1,1,1,1,1,1,1,1,1,1,1,1,1,1,1,1,1,1,1,1,1,1,1,1,1,1,1,1,1,1,1,1,1,1,1,1,1,1,1,1,1,1,1,1,1,1,1,1,1,1,1,1,1,1,1,1,1,1,1,1,1,1,1,1,1,1,1,1,1,1,1,1,1,1,1,1,1,1,1,1,1,1,1,1,1,1,1,1,1,1,1,1,1,1,1,1,1,1,1,1,1,1,1,1,1,1,1,1,1,1,1,1,1,1,1,1,1,1,1,1,1,1,1,1,1,1,1,1,1,1,1,1,1,1,1,1,1,1,1,1,1,1,1,1,1,1,1,1,1,1,1,1,1,1,1,1,1,1,1,1,1,1,1,1,1,1,1,1,1,1,1,1,1,1,1,1,1,1,1,1,1,1,1,1,1,1,1,1,1,1,1,1,1,1,1,1,1,1,1,1,1,1,1,1,1,1,1,1,1,1,1,1,1,1,1,1,1,1,1,1,1,1,1,1,1,1,1,1,1,1,1,1,1,1,1,1,1,1,1,1,1,1,1,1,1,1,1,1,1,1,1,1,1,1,1,1,1,1,1,1,1,1,1,1,1,1,1,1,1,1,1,1,1,1,1,1,1,1,1,1,1,1,1,1,1,1,1,1,1,1,1,1,1,1,1,1,1,1,1,1,1,1,1,1,1,1,1,1,1,1,1,1,1,1,1,1,1,1,1,1,1,1,1,1,1,1,1,1,1,1,1,1,1,1,1,1,1,1,1,1,1,1,1,1,1,1,1,1,1,1,1,1,1,1,1,1,1,1,1,1,1,1,1,1,1,1,1,1,1,1,1,1,1,1,1,1,1,1,1,1,1,1,1,1,1,1,1,1,1,1,1,1,1,1,1,1,1,1,1,1,1,1,1,1,1,1,1,1,1,1,1,1,1,1,1,1,1,1,1,1,1,1,1,1,1,1,1,1,1,1,1,1,1,1,1,1,1,1,1,1,1,1,1,1,1,1,1,1,1,1,1,1,1,1,1,1,1,1,1,1,1,1,1,1,1,1,1,1,1,1,1,1,1,1,1,1,1,1,1,1,1,1,1,1,1,1,1,1,1,1,1,1,1,1,1,1,1,1,1,1,1,1,1,1,1,1,1,1,1,1,1,1,1,1,1,1,1,1,1,1,1,1,1,1,1,1,1,1,1,1,1,1,1,1,1,1,1,1,1,1,1,1,1,1,1,1,1,1,1,1,1,1,1,1,1,1,1,1,1,1,1,1,1,1,1,1,1,1,1,1,1,1,1,1,1,1,1,1,1,1,1,1,1,1,1,1,1,1,1,1,1,1,1,1,1,1,1,1,1,1,1,1,1,1,1,1,1,1,1,1,1,1,1,1,1,1,1,1,1,1,1,1,1,1,1,1,1,1,1,1,1,1,1,1,1,1,1,1,1,1,1,1,1,1,1,1,1,1,1,1,1,1,1,1,1,1,1,1,1,1,1,1,1,1,1,1,1,1,1,1,1,1,1,1,1,1,1,1,1,1,1,1,1,1,1,1,1,1,1,1,1,1,1,1,1,1,1,1,1,1,1,1,1,1,1,1,1,1,1,1,1,1,1,1,1,1,1,1,1,1,1,1,1,1,1,1,1,1,1,1,1,1,1,1,1,1,1,1,1,1,1,1,1,1,1,1,1,1,1,1,1,1,1,1,1,1,1,1,1,1,1,1,1,1,1,1,1,1,1,1,1,1,1,1,1,1,1,1,1,1,1,1,1,1,1,1,1,1,1,1,1,1,1,1,1,1,1,1,1,1,1,1,1,1,1,1,1,1,1,1,1,1,1,1,1,1,1,1,1,1,1,1,1,1,1,1,1,1,1,1,1,1,1,1,1,1,1,1,1,1,1,1,1,1,1,1,1,1,1,1,1,1,1,1,1,1,1,1,1,1,1,1,1,1,1,1,1,1,1,1,1,1,1,1,1,1,1,1,1,1,1,1,1,1,1,1,1,1,1,1,1,1,1,1,1,1,1,1,1,1,1,1,1,1,1,1,1,1,1,1,1,1,1,1,1,1,1,1,1,1,1,1,1,1,1,1,1,1,1,1,1,1,1,1,1,1,1,1,1,1,1,1,1,1,1,1,1,1,1,1,1,1,1,1,1,1,1,1,1,1,1,1,1,1,1,1,1,1,1,1,1,1,1,1,1,1,1,1,1,1,1,1,1,1,1,1,1,1,1,1,1,1,1,1,1,1,1,1,1,1,1,1,1,1,1,1,1,1,1,1,1,1,1,1,1,1,1,1,1,1,1,1,1,1,1,1,1,1,1,1,1,1,1,1,1,1,1,1,1,1,1,1,1,1,1,1,1,1,1,1,1,1,1,1,1,1,1,1,1,1,1,1,1,1,1,1,1,1,1,1,1,1,1,1,1,1,1,1,1,1,1,1,1,1,1,1,1,1,1,1,1,1,1,1,1,1,1,1,1,1,1,1,1,1,1,1,1,1,1,1,1,1,1,1,1,1,1,1,1,1,1,1,1,1,1,1,1,1,1,1,1,1,1,1,1,1,1,1,1,1,1,1,1,1,1,1,1,1,1,1,1,1,1,1,1,1,1,1,1,1,1,1,1,1,1,1,1,1,1,1,1,1,1,1,1,1,1,1,1,1,1,1,1,1,1,1,1,1,1,1,1,1,1,1,1,1,1,1,1,1,1,1,1,1,1,1,1,1,1,1,1,1,1,1,1,1,1,1,1,1,1,1,1,1,1,1,1,1,1,1,1,1,1,1,1,1,1,1,1,1,1,1,1,1,1,1,1,1,1,1,1,1,1,1,1,1,1,1,1,1,1,1,1,1,1,1,1,1,1,1,1,1,1,1,1,1,1,1,1,1,1,1,1,1,1,1,1,1,1,1,1,1,1,1,1,1,1,1,1,1,1,1,1,1,1,1,1,1,1,1,1,1,1,1,1,1,1,1,1,1,1,1,1,1,1,1,1,1,1,1,1,1,1,1,1,1,1,1,1,1,1,1,1,1,1,1,1,1,1,1,1,1,1,1,1,1,1,1,1,1,1,1,1,1,1,1,1,1,1,1,1,1,1,1,1,1,1,1,1,1,1,1,1,1,1,1,1,1,1,1,1,1,1,1,1,1,1,1,1,1,1,1,1,1,1,1,1,1,1,1,1,1,1,1,1,1,1,1,1,1,1,1,1,1,1,1,1,1,1,1,1,1,1,1,1,1,1,1,1,1,1,1,1,1,1,1,1,1,1,1,1,1,1,1,1,1,1,1,1,1,1,1,1,1,1,1,1,1,1,1,1,1,1,1,1,1,1,1,1,1,1,1,1,1,1,1,1,1,1,1,1,1,1,1,1,1,1,1,1,1,1,1,1,1,1,1,1,1,1,1,1,1,1,1,1,1,1,1,1,1,1,1,1,1,1,1,1,1,1,1,1,1,1,1,1,1,1,1,1,1,1,1,1,1,1,1,1,1,1,1,1,1,1,1,1,1,1,1,1,1,1,1,1,1,1,1,1,1,1,1,1,1,1,1,1,1,1,1,1,1,1,1,1,1,1,1,1,1,1,1,1,1,1,1,1,1,1,1,1,1,1,1,1,1,1,1,1,1,1,1,1,1,1,1,1,1,1,1,1,1,1,1,1,1,1,1,1,1,1,1,1,1,1,1,1,1,1,1,1,1,1,1,1,1,1,1,1,1,1,1,1,1,1,1,1,1,1,1,1,1,1,1,1,1,1,1,1,1,1,1,1,1,1,1,1,1,1,1,1,1,1,1,1,1,1,1,1,1,1,1,1,1,1,1,1,1,1,1,1,1,1,1,1,1,1,1,1,1,1,1,1,1,1,1,1,1,1,1,1,1,1,1,1,1,1,1,1,1,1,1,1,1,1,1,1,1,1,1,1,1,1,1,1,1,1,1,1,1,1,1,1,1,1,1,1,1,1,1,1,1,1,1,1,1,1,1,1,1,1,1,1,1,1,1,1,1,1,1,1,1,1,1,1,1,1,1,1,1,1,1,1,1,1,1,1,1,1,1,1,1,1,1,1,1,1,1,1,1,1,1,1,1,1,1,1,1,1,1,1,1,1,1,1,1,1,1,1,1,1,1,1,1,1,1,1,1,1,1,1,1,1,1,1,1,1,1,1,1,1,1,1,1,1,1,1,1,1,1,1,1,1,1,1,1,1,1,1,1,1,1,1,1,1,1,1,1,1,1,1,1,1,1,1,1,1,1,1,1,1,1,1,1,1,1,1,1,1,1,1,1,1,1,1,1,1,1,1,1,1,1,1,1,1,1,1,1,1,1,1,1,1,1,1,1,1,1,1,1,1,1,1,1,1,1,1,1,1,1,1,1,1,1,1,1,1,1,1,1,1,1,1,1,1,1,1,1,1,1,1,1,1,1,1,1,1,1,1,1,1,1,1,1,1,1,1,1,1,1,1,1,1,1,1,1,1,1,1,1,1,1,1,1,1,1,1,1,1,1,1,1,1,1,1,1,1,1,1,1,1,1,1,1,1,1,1,1,1,1,1,1,1,1,1,1,1,1,1,1,1,1,1,1,1,1,1,1,1,1,1,1,1,1,1,1,1,1,1,1,1,1,1,1,1,1,1,1,1,1,1,1,1,1,1,1,1,1,1,1,1,1,1,1,1,1,1,1,1,1,1,1,1,1,1,1,1,1,1,1,1,1,1,1,1,1,1,1,1,1,1,1,1,1,1,1,1,1,1,1,1,1,1,1,1,1,1,1,1,1,1,1,1,1,1,1,1,1,1,1,1,1,1,1,1,1,1,1,1,1,1,1,1,1,1,1,1,1,1,1,1,1,1,1,1,1,1,1,1,1,1,1,1,1,1,1,1,1,1,1,1,1,1,1,1,1,1,1,1,1,1,1,1,1,1,1,1,1,1,1,1,1,1,1,1,1,1,1,1,1,1,1,1,1,1,1,1,1,1,1,1,1,1,1,1,1,1,1,1,1,1,1,1,1,1,1,1,1,1,1,1,1,1,1,1,1,1,1,1,1,1,1,1,1,1,1,1,1,1,1,1,1,1,1,1,1,1,1,1,1,1,1,1,1,1,1,1,1,1,1,1,1,1,1,1,1,1,1,1,1,1,1,1,1,1,1,1,1,1,1,1,1,1,1,1,1,1,1,1,1,1,1,1,1,1,1,1,1,1,1,1,1,1,1,1,1,1,1,1,1,1,1,1,1,1,1,1,1,1,1,1,1,1,1,1,1,1,1,1,1,1,1,1,1,1,1,1,1,1,1,1,1,1,1,1,1,1,1,1,1,1,1,1,1,1,1,1,1,1,1,1,1,1,1,1,1,1,1,1,1,1,1,1,1,1,1,1,1,1,1,1,1,1,1,1,1,1,1,1,1,1,1,1,1,1,1,1,1,1,1,1,1,1,1,1,1,1,1,1,1,1,1,1,1,1,1,1,1,1,1,1,1,1,1,1,1,1,1,1,1,1,1,1,1,1,1,1,1,1,1,1,1,1,1,1,1,1,1,1,1,1,1,1,1,1,1,1,1,1,1,1,1,1,1,1,1,1,1,1,1,1,1,1,1,1,1,1,1,1,1,1,1,1,1,1,1,1,1,1,1,1,1,1,1,1,1,1,1,1,1,1,1,1,1,1,1,1,1,1,1,1,1,1,1,1,1,1,1,1,1,1,1,1,1,1,1,1,1,1,1,1,1,1,1,1,1,1,1,1,1,1,1,1,1,1,1,1,1,1,1,1,1,1,1,1,1,1,1,1,1,1,1,1,1,1,1,1,1,1,1,1,1,1,1,1,1,1,1,1,1,1,1,1,1,1,1,1,1,1,1,1,1,1,1,1,1,1,1,1,1,1,1,1,1,1,1,1,1,1,1,1,1,1,1,1,1,1,1,1,1,1,1,1,1,1,1,1,1,1,1,1,1,1,1,1,1,1,1,1,1,1,1,1,1,1,1,1,1,1,1,1,1,1,1,1,1,1,1,1,1,1,1,1,1,1,1,1,1,1,1,1,1,1,1,1,1,1,1,1,1,1,1,1,1,1,1,1,1,1,1,1,1,1,1,1,1,1,1,1,1,1,1,1,1,1,1,1,1,1,1,1,1,1,1,1,1,1,1,1,1,1,1,1,1,1,1,1,1,1,1,1,1,1,1,1,1,1,1,1,1,1,1,1,1,1,1,1,1,1,1,1,1,1,1,1,1,1,1,1,1,1,1,1,1,1,1,1,1,1,1,1,1,1,1,1,1,1,1,1,1,1,1,1,1,1,1,1,1,1,1,1,1,1,1,1,1,1,1,1,1,1,1,1,1,1,1,1,1,1,1,1,1,1,1,1,1,1,1,1,1,1,1,1,1,1,1,1,1,1,1,1,1,1,1,1,1,1,1,1,1,1,1,1,1,1,1,1,1,1,1,1,1,1,1,1,1,1,1,1,1,1,1,1,1,1,1,1,1,1,1,1,1,1,1,1,1,1,1,1,1,1,1,1,1,1,1,1,1,1,1,1,1,1,1,1,1,1,1,1,1,1,1,1,1,1,1,1,1,1,1,1,1,1,1,1,1,1,1,1,1,1,1,1,1,1,1,1,1,1,1,1,1,1,1,1,1,1,1,1,1,1,1,1,1,1,1,1,1,1,1,1,1,1,1,1,1,1,1,1,1,1,1,1,1,1,1,1,1,1,1,1,1,1,1,1,1,1,1,1,1,1,1,1,1,1,1,1,1,1,1,1,1,1,1,1,1,1,1,1,1,1,1,1,1,1,1,1,1,1,1,1,1,1,1,1,1,1,1,1,1,1,1,1,1,1,1,1,1,1,1,1,1,1,1,1,1,1,1,1,1,1,1,1,1,1,6,1,1,1,1,1,1,1,1,1,1,1,1,1,1,1,1,1,1,1,1,1,1,1,1,1,1,1,1,1,1,1,1,1,1,1,1,1,1,1,1,1,1,1,1,1,1,1,1,1,1,1,1,1,1,1,1,1,1,1,1,1,1,1,1,1,1,1,1,1,1,1,1,1,1,1,1,1,1,1,1,1,1,1,1,1,1,1,1,1,1,1,1,1,1,1,1,1,1,1,1,1,1,1,1,1,1,1,1,1,1,1,1,1,1,1,1,1,1,1,1,1,1,1,1,1,1,1,1,1,1,1,1,1,1,1,1,1,1,1,1,1,1,1,1,1,1,1,1,1,1,1,1,1,1,1,1,1,1,1,1,1,1,1,1,1,1,1,1,1,1,1,1,1,1,1,1,1,1,1,1,1,1,1,1,1,1,1,1,1,1,1,1,1,1,1,1,1,1,1,1,1,1,1,1,1,1,1,1,1,1,1,1,1,1,1,1,1,1,1,1,1,1,1,1,1,1,1,1,1,1,1,1,1,1,1,1,1,1,1,1,1,1,1,1,1,1,1,1,1,1,1,1,1,1,1,1,1,1,1,1,1,1,1,1,1,1,1,1,1,1,1,1,1,1,1,1,1,1,1,1,1,1,1,1,1,1,1,1,1,1,1,1,1,1,1,1,1,1,1,1,1,1,1,1,1,1,1,1,1,1,1,1,1,1,1,1,1,1,1,1,1,1,1,1,1,1,1,1,1,1,1,1,1,1,1,1,1,1,1,1,1,1,1,1,1,1,1,1,1,1,1,1,1,1,1,1,1,1,1,1,1,1,1,1,1,1,1,1,1,1,1,1,1,1,1,1,1,1,1,1,1,1,1,1,1,1,1,1,1,1,1,1,1,1,1,1,1,1,1,1,1,1,1,1,1,1,1,1,1,1,1,1,1,1,1,1,1,1,1,1,1,1,1,1,1,1,1,1,1,1,1,1,1,1,1,1,1,1,1,1,1,1,1,1,1,1,1,1,1,1,1,1,1,1,1,1,1,1,1,1,1,1,1,1,1,1,1,1,1,1,1,1,1,1,1,1,1,1,1,1,1,1,1,1,1,1,1,1,1,1,1,1,1,1,1,1,1,1,1,1,1,1,1,1,1,1,1,1,1,1,1,1,1,1,1,1,1,1,1,1,1,1,1,1,1,1,1,1,1,1,1,1,1,1,1,1,1,1,1,1,1,1,1,1,1,1,1,1,1,1,1,1,1,1,1,1,1,1,1,1,1,1,1,1,1,1,1,1,1,1,1,1,1,1,1,1,1,1,1,1,1,1,1,1,1,1,1,1,1,1,1,1,1,1,1,1,1,1,1,1,1,1,1,1,1,1,1,1,1,1,1,1,1,1,1,1,1,1,1,1,1,1,1,1,1,1,1,1,1,1,1,1,1,1,1,1,1,1,1,1,1,1,1,1,1,1,1,1,1,1,1,1,1,1,1,1,1,1,1,1,1,1,1,1,1,1,1,1,1,1,1,1,1,1,1,1,1,1,1,1,1,1,1,1,1,1,1,1,1,1,1,1,1,1,1,1,1,1,1,1,1,1,1,1,1,1,1,1,1,1,1,1,1,1,1,1,1,1,1,1,1,1,1,1,1,1,1,1,1,1,1,1,1,1,1,1,1,1,1,1,1,1,1,1,1,1,1,1,1,1,1,1,1,1,1,1,1,1,1,1,1,1,1,1,1,1,1,1,1,1,1,1,1,1,1,1,1,1,1,1,1,1,1,1,1,1,1,1,1,1,1,1,1,1,1,1,1,1,1,1,1,1,1,1,1,1,1,1,1,1,1,1,1,1,1,1,1,1,1,1,1,1,1,1,1,1,1,1,1,1,1,1,1,1,1,1,1,1,1,1,1,1,1,1,1,1,1,1,1,1,1,1,1,1,1,1,1,1,1,1,1,1,1,1,1,1,1,1,1,1,1,1,1,1,1,1,1,1,1,1,1,1,1,1,1,1,1,1,1,1,1,1,1,1,1,1,1,1,1,1,1,1,1,1,1,1,1,1,1,1,1,1,1,1,1,1,1,1,1,1,1,1,1,1,1,1,1,1,1,1,1,1,1,1,1,1,1,1,1,1,1,1,1,1,1,1,1,1,1,1,1,1,1,1,1,1,1,1,1,1,1,1,1,1,1,1,1,1,1,1,1,1,1,1,1,1,1,1,1,1,1,1,1,1,1,1,1,1,1,1,1,1,1,1,1,1,1,1,1,1,1,1,1,1,1,1,1,1,1,1,1,1,1,1,1,1,1,1,1,1,1,1,1,1,1,1,1,1,1,1,1,1,1,1,1,1,1,1,1,1,1,1,1,1,1,1,1,1,1,1,1,1,1,1,1,1,1,1,1,1,1,1,1,1,1,1,1,1,1,1,1,1,1,1,1,1,1,1,1,1,1,1,1,1,1,1,1,1,1,1,1,1,1,1,1,1,1,1,1,1,1,1,1,1,1,1,1,1,1,1,1,1,1,1,1,1,1,1,1,1,1,1,1,1,1,1,1,1,1,1,1,1,1,1,1,1,1,1,1,1,1,1,1,1,1,1,1,1,1,1,1,1,1,1,1,1,1,1,1,1,1,1,1,1,1,1,1,1,1,1,1,1,1,1,1,1,1,1,1,1,1,1,1,1,1,1,1,1,1,1,1,1,1,1,1,1,1,1,1,1,1,1,1,1,1,1,1,1,1,1,1,1,1,1,1,1,1,1,1,1,1,1,1,1,1,1,1,1,1,1,1,1,1,1,1,1,1,1,1,1,1,1,1,1,1,1,1,1,1,1,1,1,1,1,1,1,1,1,1,1,1,1,1,1,1,1,1,1,1,1,1,1,1,1,1,1,1,1,1,1,1,1,1,1,1,1,1,1,1,1,1,1,1,1,1,1,1,1,1,1,1,1,1,1,1,1,1,1,1,1,1,1,1,1,1,1,1,1,1,1,1,1,1,1,1,1,1,1,1,1,1,1,1,1,1,1,1,1,1,1,1,1,1,1,1,1,1,1,1,1,1,1,1,1,1,1,1,1,1,1,1,1,1,1,1,1,1,1,1,1,1,1,1,1,1,1,1,1,1,1,1,1,1,1,1,1,1,1,1,1,1,1,1,1,1,1,1,1,1,1,1,1,1,1,1,1,1,1,1,1,1,1,1,1,1,1,1,1,1,1,1,1,1,1,1,1,1,1,1,1,1,1,1,1,1,1,1,1,1,1,1,1,1,1,1,1,1,1,1,1,1,1,1,1,1,1,1,1,1,1,1,1,1,1,1,1,1,1,1,1,1,1,1,1,1,1,1,1,1,1,1,1,1,1,1,1,1,1,1,1,1,1,1,1,1,1,1,1,1,1,1,1,1,1,1,1,1,1,1,1,1,1,1,1,1,1,1,1,1,1,1,1,1,1,1,1,1,1,1,1,1,1,1,1,1,1,1,1,1,1,1,1,1,1,1,1,1,1,1,1,1,1,1,1,1,1,1,1,1,1,1,1,1,1,1,1,1,1,1,1,1,1,1,1,1,1,1,1,1,1,1,1,1,1,1,1,1,1,1,1,1,1,1,1,1,1,1,1,1,1,1,1,1,1,1,1,1,1,1,1,1,1,1,1,1,1,1,1,1,1,1,1,1,1,1,1,1,1,1,1,1,1,1,1,1,1,1,1,1,1,1,1,1,1,1,1,1,1,1,1,1,1,1,1,1,1,1,1,1,1,1,1,1,1,1,1,1,1,1,1,1,1,1,1,1,1,1,1,1,1,1,1,1,1,1,1,1,1,1,1,1,1,1,1,1,1,1,1,1,1,1,1,1,1,1,1,1,1,1,1,1,1,1,1,1,1,1,1,1,1,1,1,1,1,1,1,1,1,1,1,1,1,1,1,1,1,1,1,1,1,1,1,1,1,1,1,1,1,1,1,1,1,1,1,1,1,1,1,1,1,1,1,1,1,1,1,1,1,1,1,1,1,1,1,1,1,1,1,1,1,1,1,1,1,1,1,1,1,1,1,1,1,1,1,1,1,1,1,1,1,1,1,1,1,1,1,1,1,1,1,1,1,1,1,1,1,1,1,1,1,1,1,1,1,1,1,1,1,1,1,1,1,1,1,1,1,1,1,1,1,1,1,1,1,1,1,1,1,1,1,1,1,1,1,1,1,1,1,1,1,1,1,1,1,1,1,1,1,1,1,1,1,1,1,1,1,1,1,1,1,1,1,1,1,1,1,1,1,1,1,1,1,1,1,1,1,1,1,1,1,1,1,1,1,1,1,1,1,1,1,1,1,1,1,1,1,1,1,1,1,1,1,1,1,1,1,1,1,1,1,1,1,1,1,1,1,1,1,1,1,1,1,1,1,1,1,1,1,1,1,1,1,1,1,1,1,1,1,1,1,1,1,1,1,1,1,1,1,1,1,1,1,1,1,1,1,1,1,1,1,1,1,1,1,1,1,1,1,1,1,1,1,1,1,1,1,1,1,1,1,1,1,1,1,1,1,1,1,1,1,1,1,1,1,1,1,1,1,1,1,1,1,1,1,1,1,1,1,1,1,1,1,1,1,1,1,1,1,1,1,1,1,1,1,1,1,1,1,1,1,1,1,1,1,1,1,1,1,1,1,1,1,1,1,1,1,1,1,1,1,1,1,1,1,1,1,1,1,1,1,1,1,1,1,1,1,1,1,1,1,1,1,1,1,1,1,1,1,1,1,1,1,1,1,1,1,1,1,1,1,1,1,1,1,1,1,1,1,1,1,1,1,1,1,1,1,1,1,1,1,1,1,1,1,1,1,1,1,1,1,1,1,1,1,1,1,1,1,1,1,1,1,1,1,1,1,1,1,1,1,1,1,1,1,1,1,1,1,1,1,1,1,1,1,1,1,1,1,1,1,1,1,1,1,1,1,1,1,1,1,1,1,1,1,1,1,1,1,1,1,1,1,1,1,1,1,1,1,1,1,1,1,1,1,1,1,1,1,1,1,1,1,1,1,1,1,1,1,1,1,1,1,1,1,1,1,1,1,1,1,1,1,1,1,1,1,1,1,1,1,1,1,1,1,1,1,1,1,1,1,1,1,1,1,1,1,1,1,1,1,1,1,1,1,1,1,1,1,1,1,1,1,1,1,1,1,1,1,1,1,1,1,1,1,1,1,1,1,1,1,1,1,1,1,1,1,1,1,1,1,1,1,1,1,1,1,1,1,1,1,1,1,1,1,1,1,1,1,1,1,1,1,1,1,1,1,1,1,1,1,1,1,1,1,1,1,1,1,1,1,1,1,1,1,1,1,1,1,1,1,1,1,1,1,1,1,1,1,1,1,1,1,1,1,1,1,1,1,1,1,1,1,1,1,1,1,1,1,1,1,1,1,1,1,1,1,1,1,1,1,1,1,1,1,1,1,1,1,1,1,1,1,1,1,1,1,1,1,1,1,1,1,1,1,1,1,1,1,1,1,1,1,1,1,1,1,1,1,1,1,1,1,1,1,1,1,1,1,1,1,1,1,1,1,1,1,1,1,1,1,1,1,1,1,1,1,1,1,1,1,1,1,1,1,1,1,1,1,1,1,1,1,1,1,1,1,1,1,1,1,1,1,1,1,1,1,1,1,1,1,1,1,1,1,1,1,1,1,1,1,1,1,1,1,1,1,1,1,1,1,1,1,1,1,1,1,1,1,1,1,1,1,1,1,1,1,1,1,1,1,1,1,1,1,1,1,1,1,1,1,1,1,1,1,1,1,1,1,1,1,1,1,1,1,1,1,1,1,1,1,1,1,1,1,1,1,1,1,1,1,1,1,1,1,1,1,1,1,1,1,1,1,1,1,1,1,1,1,1,1,1,1,1,1,1,1,1,1,1,1,1,1,1,1,1,1,1,1,1,1,1,1,1,1,1,1,1,1,1,1,1,1,1,1,1,1,1,1,1,1,1,1,1,1,1,1,1,1,1,1,1,1,1,1,1,1,1,1,1,1,1,1,1,1,1,1,1,1,1,1,1,1,1,1,1,1,1,1,1,1,1,1,1,1,1,1,1,1,1,1,1,1,1,1,1,1,1,1,1,1,1,1,1,1,1,1,1,1,1,1,1,1,1,1,1,1,1,1,1,1,1,1,1,1,1,1,1,1,1,1,1,1,1,1,1,1,1,1,1,1,1,1,1,1,1,1,1,1,1,1,1,1,1,1,1,1,1,1,1,1,1,1,1,1,1,1,1,1,1,1,1,1,1,1,1,1,1,1,1,1,1,1,1,1,1,1,1,1,1,1,1,1,1,1,1,1,1,1,1,1,1,1,1,1,1,1,1,1,1,1,1,1,1,1,1,1,1,1,1,1,1,1,1,1,1,1,1,1,1,1,1,1,1,1,1,1,1,1,1,1,1,1,1,1,1,1,1,1,1,1,1,1,1,1,1,1,1,1,1,1,1,1,1,1,1,1,1,1,1,1,1,1,1,1,1,1,1,1,1,1,1,1,1,1,1,1,1,1,1,1,1,1,1,1,1,1,1,1,1,1,1,1,1,1,1,1,1,1,1,1,1,1,1,1,1,1,1,1,1,1,1,1,1,1,1,1,1,1,1,1,1,1,1,1,1,1,1,1,1,1,1,1,1,1,1,1,1,1,1,1,1,1,1,1,1,1,1,1,1,1,1,1,1,1,1,1,1,1,1,1,1,1,1,1,1,1,1,1,1,1,1,1,1,1,1,1,1,1,1,1,1,1,1,1,1,1,1,1,1,1,1,1,1,1,1,1,1,1,1,1,1,1,1,1,1,1,1,1,1,1,1,1,1,1,1,1,1,1,1,1,1,1,1,1,1,1,1,1,1,1,1,1,1,1,1,1,1,1,1,1,1,1,1,1,1,1,1,1,1,1,1,1,1,1,1,1,1,1,1,1,1,1,1,1,1,1,1,1,1,1,1,1,1,1,1,1,1,1,1,1,1,1,1,1,1,1,1,1,1,1,1,1,1,1,1,1,1,1,1,1,1,1,1,1,1,1,1,1,1,1,1,1,1,1,1,1,1,1,1,1,1,1,1,1,1,1,1,1,1,1,1,1,1,1,1,1,1,1,1,1,1,1,1,1,1,1,1,1,1,1,1,1,1,1,1,1,1,1,1,1,1,1,1,1,1,1,1,1,1,1,1,1,1,1,1,1,1,1,1,1,1,1,1,1,1,1,1,1,1,1,1,1,1,1,1,1,1,1,1,1,1,1,1,1,1,1,1,1,1,1,1,1,1,1,1,1,1,1,1,1,1,1,1,1,1,1,1,1,1,1,1,1,1,1,1,1,1,1,1,1,1,1,1,1,1,1,1,1,1,1,1,1,1,1,1,1,1,1,1,1,1,1,1,1,1,1,1,1,1,1,1,1,1,1,1,1,1,1,1,1,1,1,1,1,1,1,1,1,1,1,1,1,1,1,1,1,1,1,1,1,1,1,1,1,1,1,1,1,1,1,1,1,1,1,1,1,1,1,1,1,1,1,1,1,1,1,1,1,1,1,1,1,1,1,1,1,1,1,1,1,1,1,1,1,1,1,1,1,1,1,1,1,1,1,1,1,1,1,1,1,1,1,1,1,1,1,1,1,1,1,1,1,1,1,1,1,1,1,1,1,1,1,1,1,1,1,1,1,1,1,1,1,1,1,1,1,1,1,1,1,1,1,1,1,1,1,1,1,1,1,1,1,1,1,1,1,1,1,1,1,1,1,1,1,1,1,1,1,1,1,1,1,1,1,1,1,1,1,1,1,1,1,1,1,1,1,1,1,1,1,1,1,1,1,1,1,1,1,1,1,1,1,1,1,1,1,1,1,1,1,1,1,1,1,1,1,1,1,1,1,1,1,1,1,1,1,1,1,1,1,1,1,1,1,1,1,1,1,1,1,1,1,1,1,1,1,1,1,1,1,1,1,1,1,1,1,1,1,1,1,1,1,1,1,1,1,1,1,1,1,1,1,1,1,1,1,1,1,1,1,1,1,1,1,1,1,1,1,1,1,1,1,1,1,1,1,1,1,1,1,1,1,1,1,1,1,1,1,1,1,1,1,1,1,1,1,1,1,1,1,1,1,1,1,1,1,1,1,1,1,1,1,1,1,1,1,1,1,1,1,1,1,1,1,1,1,1,1,1,1,1,1,1,1,1,1,1,1,1,1,1,1,1,1,1,1,1,1,1,1,1,1,1,1,1,1,1,1,1,1,1,1,1,1,1,1,1,1,1,1,1,1,1,1,1,1,1,1,1,1,1,1,1,1,1,1,1,1,1,1,1,1,1,1,1,1,1,1,1,1,1,1,1,1,1,1,1,1,1,1,1,1,1,1,1,1,1,1,1,1,1,1,1,1,1,1,1,1,1,1,1,1,1,1,1,1,1,1,1,1,1,1,1,1,1,1,1,1,1,1,1,1,1,1,1,1,1,1,1,1,1,1,1,1,1,1,1,1,1,1,1,1,1,1,1,1,1,1,1,1,1,1,1,1,1,1,1,1,1,1,1,1,1,1,1,1,1,1,1,1,1,1,1,1,1,1,1,1,1,1,1,1,1,1,1,1,1,1,1,1,1,1,1,1,1,1,1,1,1,1,1,1,1,1,1,1,1,1,1,1,1,1,1,1,1,1,1,1,1,1,1,1,1,1,1,1,1,1,1,1,1,1,1,1,1,1,1,1,1,1,1,1,1,1,1,1,1,1,1,1,1,1,1,1,1,1,1,1,1,1,1,1,1,1,1,1,1,1,1,1,1,1,1,1,1,1,1,1,1,1,1,1,1,1,1,1,1,1,1,1,1,1,1,1,1,1,1,1,1,1,1,1,1,1,1,1,1,1,1,1,1,1,1,1,1,1,1,1,1,1,1,1,1,1,1,1,1,1,1,1,1,1,1,1,1,1,1,1,1,1,1,1,1,1,1,1,1,1,1,1,1,1,1,1,1,1,1,1,1,1,1,1,1,1,1,1,1,1,1,1,1,1,1,1,1,1,1,1,1,1,1,1,1,1,1,1,1,1,1,1,1,1,1,1,1,1,1,1,1,1,1,1,1,1,1,1,1,1,1,1,1,1,1,1,1,1,1,1,1,1,1,1,1,1,1,1,1,1,1,1,1,1,1,1,1,1,1,1,1,1,1,1,1,1,1,1,1,1,1,1,1,1,1,1,1,1,1,1,1,1,1,1,1,1,1,1,1,1,1,1,1,1,1,1,1,1,1,1,1,1,1,1,1,1,1,1,1,1,1,1,1,1,1,1,1,1,1,1,1,1,1,1,1,1,1,1,1,1,1,1,1,1,1,1,1,1,1,1,1,1,1,1,1,1,1,1,1,1,1,1,1,1,1,1,1,1,1,1,1,1,1,1,1,1,1,1,1,1,1,1,1,1,1,1,1,1,1,1,1,1,1,1,1,1,1,1,1,1,1,1,1,1,1,1,1,1,1,1,1,1,1,1,1,1,1,1,1,1,1,1,1,1,1,1,1,1,1,1,1,1,1,1,1,1,1,1,1,1,1,1,1,1,1,1,1,1,1,1,1,1,1,1,1,1,1,1,1,1,1,1,1,1,1,1,1,1,1,1,1,1,1,1,1,1,1,1,1,1,1,1,1,1,1,1,1,1,1,1,1,1,1,1,1,1,1,1,1,1,1,1,1,1,1,1,1,1,1,1,1,1,1,1,1,1,1,1,1,1,1,1,1,1,1,1,1,1,1,1,1,1,1,1,1,1,1,1,1,1,1,1,1,1,1,1,1,1,1,1,1,1,1,1,1,1,1,1,1,1,1,1,1,1,1,1,1,1,1,1,1,1,1,1,1,1,1,1,1,1,1,1,1,1,1,1,1,1,1,1,1,1,1,1,1,1,1,1,1,1,1,1,1,1,1,1,1,1,1,1,1,1,1,1,1,1,1,1,1,1,1,1,1,1,1,1,1,1,1,1,1,1,1,1,1,1,1,1,1,1,1,1,1,1,1,1,1,1,1,1,1,1,1,1,1,1,1,1,1,1,1,1,1,1,1,1,1,1,1,1,1,1,1,1,1,1,1,1,1,1,1,1,1,1,1,1,1,1,1,1,1,1,1,1,1,1,1,1,1,1,1,1,1,1,1,1,1,1,1,1,1,1,1,1,1,1,1,1,1,1,1,1,1,1,1,1,1,1,1,1,1,1,1,1,1,1,1,1,1,1,1,1,1,1,1,1,1,1,1,1,1,1,1,1,1,1,1,1,1,1,1,1,1,1,1,1,1,1,1,1,1,1,1,1,1,1,1,1,1,1,1,1,1,1,1,1,1,1,1,1,1,1,1,1,1,1,1,1,1,1,1,1,1,1,1,1,1,1,1,1,1,1,1,1,1,1,1,1,1,1,1,1,1,1,1,1,1,1,1,1,1,1,1,1,1,1,1,1,1,1,1,1,1,1,1,1,1,1,1,1,1,1,1,1,1,1,1,1,1,1,1,1,1,1,1,1,1,1,1,1,1,1,1,1,1,1,1,1,1,1,1,1,1,1,1,1,1,1,1,1,1,1,1,1,1,1,1,1,1,1,1,1,1,1,1,1,1,1,1,1,1,1,1,1,1,1,1,1,1,1,1,1,1,1,1,1,1,1,1,1,1,1,1,1,1,1,1,1,1,1,1,1,1,1,1,1,1,1,1,1,1,1,1,1,1,1,1,1,1,1,1,1,1,1,1,1,1,1,1,1,1,1,1,1,1,1,1,1,1,1,1,1,1,1,1,1,1,1,1,1,1,1,1,1,1,1,1,1,1,1,1,1,1,1,1,1,1,1,1,1,1,1,1,1,1,1,1,1,1,1,1,1,1,1,1,1,1,1,1,1,1,1,1,1,1,1,1,1,1,1,1,1,1,1,1,1,1,1,1,1,1,1,1,1,1,1,1,1,1,1,1,1,1,1,1,1,1,1,1,1,1,1,1,1,1,1,1,1,1,1,1,1,1,1,1,1,1,1,1,1,1,1,1,1,1,1,1,1,1,1,1,1,1,1,1,1,1,1,1,1,1,1,1,1,1,1,1,1,1,1,1,1,1,1,1,1,1,1,1,1,1,1,1,1,1,1,1,1,1,1,1,1,1,1,1,1,1,1,1,1,1,1,1,1,1,1,1,1,1,1,1,1,1,1,1,1,1,1,1,1,1,1,1,1,1,1,1,1,1,1,1,1,1,1,1,1,1,1,1,1,1,1,1,1,1,1,1,1,1,1,1,1,1,1,1,1,1,1,1,1,1,1,1,1,1,1,1,1,1,1,1,1,1,1,1,1,1,1,1,1,1,1,1,1,1,1,1,1,1,1,1,1,1,1,1,1,1,1,1,1,1,1,1,1,1,1,1,1,1,1,1,1,1,1,1,1,1,1,1,1,1,1,1,1,1,1,1,1,1,1,1,1,1,1,1,1,1,1,1,1,1,1,1,1,1,1,1,1,1,1,1,1,1,1,1,1,1,1,1,1,1,1,1,1,1,1,1,1,1,1,1,1,1,1,1,1,1,1,1,1,1,1,1,1,1,1,1,1,1,1,1,1,1,1,1,1,1,1,1,1,1,1,1,1,1,1,1,1,1,1,1,1,1,1,1,1,1,1,1,1,1,1,1,1,1,1,1,1,1,1,1,1,1,1,1,1,1,1,1,1,1,1,1,1,1,1,1,1,1,1,1,1,1,1,1,1,1,1,1,1,1,1,1,1,1,1,1,1,1,1,1,1,1,1,1,1,1,1,1,1,1,1,1,1,1,1,1,1,1,1,1,1,1,1,1,1,1,1,1,1,1,1,1,1,1,1,1,1,1,1,1,1,1,1,1,1,1,1,1,1,1,1,1,1,1,1,1,1,1,1,1,1,1,1,1,1,1,1,1,1,1,1,1,1,1,1,1,1,1,1,1,1,1,1,1,1,1,1,1,1,1,1,1,1,1,1,1,1,1,1,1,1,1,1,1,1,1,1,1,1,1,1,1,1,1,1,1,1,1,1,1,1,1,1,1,1,1,1,1,1,1,1,1,1,1,1,1,1,1,1,1,1,1,1,1,1,1,1,1,1,1,1,1,1,1,1,1,1,1,1,1,1,1,1,1,1,1,1,1,1,1,1,1,1,1,1,1,1,1,1,1,1,1,1,1,1,1,1,1,1,1,1,1,1,1,1,1,1,1,1,1,1,1,1,1,1,1,1,1,1,1,1,1,1,1,1,1,1,1,1,1,1,1,1,1,1,1,1,1,1,1,1,1,1,1,1,1,1,1,1,1,1,1,1,1,1,1,1,1,1,1,1,1,1,1,1,1,1,1,1,1,1,1,1,1,1,1,1,1,1,1,1,1,1,1,1,1,1,1,1,1,1,1,1,1,1,1,1,1,1,1,1,1,1,1,1,1,1,1,1,1,1,1,1,1,1,1,1,1,1,1,1,1,1,1,1,1,1,1,1,1,1,1,1,1,1,1,1,1,1,1,1,1,1,1,1,1,1,1,1,1,1,1,1,1,1,1,1,1,1,1,1,1,1,1,1,1,1,1,1,1,1,1,1,1,1,1,1,1,1,1,1,1,1,1,1,1,1,1,1,1,1,1,1,1,1,1,1,1,1,1,1,1,1,1,1,1,1,1,1,1,1,1,1,1,1,1,1,1,1,1,1,1,1,1,1,1,1,1,1,1,1,1,1,1,1,1,1,1,1,1,1,1,1,1,1,1,1,1,1,1,1,1,1,1,1,1,1,1,1,1,1,1,1,1,1,1,1,1,1,1,1,1,1,1,1,1,1,1,1,1,1,1,1,1,1,1,1,1,1,1,1,1,1,1,1,1,1,1,1,1,1,1,1,1,1,1,1,1,1,1,1,1,1,1,1,1,1,1,1,1,1,1,1,1,1,1,1,1,1,1,1,1,1,1,1,1,1,1,1,1,1,1,1,1,1,1,1,1,1,1,1,1,1,1,1,1,1,1,1,1,1,1,1,1,1,1,1,1,1,1,1,1,1,1,1,1,1,1,1,1,1,1,1,1,1,1,1,1,1,1,1,1,1,1,1,1,1,1,1,1,1,1,1,1,1,1,1,1,1,1,1,1,1,1,1,1,1,1,1,1,1,1,1,1,1,1,1,1,1,1,1,1,1,1,1,1,1,1,1,1,1,1,1,1,1,1,1,1,1,1,1,1,1,1,1,1,1,1,1,1,1,1,1,1,1,1,1,1,1,1,1,1,1,1,1,1,1,1,1,1,1,1,1,1,1,1,1,1,1,1,1,1,1,1,1,1,1,1,1,1,1,1,1,1,1,1,1,1,1,1,1,1,1,1,1,1,1,1,1,1,1,1,1,1,1,1,1,1,1,1,1,1,1,1,1,1,1,1,1,1,1,1,1,1,1,1,1,1,1,1,1,1,1,1,1,1,1,1,1,1,1,1,1,1,1,1,1,1,1,1,1,1,1,1,1,1,1,1,1,1,1,1,1,1,1,1,1,1,1,1,1,1,1,1,1,1,1,1,1,1,1,1,1,1,1,1,1,1,1,1,1,1,1,1,1,1,1,1,1,1,1,1,1,1,1,1,1,1,1,1,1,1,1,1,1,1,1,1,1,1,1,1,1,1,1,1,1,1,1,1,1,1,1,1,1,1,1,1,1,1,1,1,1,1,1,1,1,1,1,1,1,1,1,1,1,1,1,1,1,1,1,1,1,1,1,1,1,1,1,1,1,1,1,1,1,1,1,1,1,1,1,1,1,1,1,1,1,1,1,1,1,1,1,1,1,1,1,1,1,1,1,1,1,1,1,1,1,1,1,1,1,1,1,1,1,1,1,1,1,1,1,1,1,1,1,1,1,1,1,1,1,1,1,1,1,1,1,1,1,1,1,1,1,1,1,1,1,1,1,1,1,1,1,1,1,1,1,1,1,1,1,1,1,1,1,1,1,1,1,1,1,1,1,1,1,1,1,1,1,1,1,1,1,1,1,1,1,1,1,1,1,1,1,1,1,1,1,1,1,1,1,1,1,1,1,1,1,1,1,1,1,1,1,1,1,1,1,1,1,1,1,1,1,1,1,1,1,1,1,1,1,1,1,1,1,1,1,1,1,1,1,1,1,1,1,1,1,1,1,1,1,1,1,1,1,1,1,1,1,1,1,1,1,1,1,1,1,1,1,1,1,1,1,1,1,1,1,1,1,1,1,1,1,1,1,1,1,1,1,1,1,1,1,1,1,1,1,1,1,1,1,1,1,1,1,1,1,1,1,1,1,1,1,1,1,1,1,1,1,1,1,1,1,1,1,1,1,1,1,1,1,1,1,1,1,1,1,1,1,1,1,1,1,1,1,1,1,1,1,1,1,1,1,1,1,1,1,1,1,1,1,1,1,1,1,1,1,1,1,1,1,1,1,1,1,1,1,1,1,1,1,1,1,1,1,1,1,1,1,1,1,1,1,1,1,1,1,1,1,1,1,1,1,1,1,1,1,1,1,1,1,1,1,1,1,1,1,1,1,1,1,1,1,1,1,1,1,1,1,1,1,1,1,1,1,1,1,1,1,1,1,1,1,1,1,1,1,1,1,1,1,1,1,1,1,1,1,1,1,1,1,1,1,1,1,1,1,1,1,1,1,1,1,1,1,1,1,1,1,1,1,1,1,1,1,1,1,1,1,1,1,1,1,1,1,1,1,1,1,1,1,1,1,1,1,1,1,1,1,1,1,1,1,1,1,1,1,1,1,1,1,1,1,1,1,1,1,1,1,1,1,1,1,1,1,1,1,1,1,1,1,1,1,1,1,1,1,1,1,1,1,1,1,1,1,1,1,1,1,1,1,1,1,1,1,1,1,1,1,1,1,1,1,1,1,1,1,1,1,1,1,1,1,1,1,1,1,1,1,1,1,1,1,1,1,1,1,1,1,1,1,1,1,1,1,1,1,1,1,1,1,1,1,1,1,1,1,1,1,1,1,1,1,1,1,1,1,1,1,1,1,1,1,1,1,1,1,1,1,1,1,1,1,1,1,1,1,1,1,1,1,1,1,1,1,1,1,1,1,1,1,1,1,1,1,1,1,1,1,1,1,1,1,1,1,1,1,1,1,1,1,1,1,1,1,1,1,1,1,1,1,1,1,1,1,1,1,1,1,1,1,1,1,1,1,1,1,1,1,1,1,1,1,1,1,1,1,1,1,1,1,1,1,1,1,1,1,1,1,1,1,1,1,1,1,1,1,1,1,1,1,1,1,1,1,1,1,1,1,1,1,1,1,1,1,1,1,1,1,1,1,1,1,1,1,1,1,1,1,1,1,1,1,1,1,1,1,1,1,1,1,1,1,1,1,1,1,1,1,1,1,1,1,1,1,1,1,1,1,1,1,1,1,1,1,1,1,1,1,1,1,1,1,1,1,1,1,1,1,1,1,1,1,1,1,1,1,1,1,1,1,1,1,1,1,1,1,1,1,1,1,1,1,1,1,1,1,1,1,1,1,1,1,1,1,1,1,1,1,1,1,1,1,1,1,1,1,1,1,1,1,1,1,1,1,1,1,1,1,1,1,1,1,1,1,1,1,1,1,1,1,1,1,1,1,1,1,1,1,1,1,1,1,1,1,1,1,1,1,1,1,1,1,1,1,1,1,1,1,1,1,1,1,1,1,1,1,1,1,1,1,1,1,1,1,1,1,1,1,1,1,1,1,1,1,1,1,1,1,1,1,1,1,1,1,1,1,1,1,1,1,1,1,1,1,1,1,1,1,1,1,1,1,1,1,1,1,1,1,1,1,1,1,1,1,1,1,1,1,1,1,1,1,1,1,1,1,1,1,1,1,1,1,1,1,1,1,1,1,1,1,1,1,1,1,1,1,1,1,1,1,1,1,1,1,1,1,1,1,1,1,1,1,1,1,1,1,1,1,1,1,1,1,1,1,1,1,1,1,1,1,1,1,1,1,1,1,1,1,1,1,1,1,1,1,1,1,1,1,1,1,1,1,1,1,1,1,1,1,1,1,1,1,1,1,1,1,1,1,1,1,1,1,1,1,1,1,1,1,1,1,1,1,1,1,1,1,1,1,1,1,1,1,1,1,1,1,1,1,1,1,1,1,1,1,1,1,1,1,1,1,1,1,1,1,1,1,1,1,1,1,1,1,1,1,1,1,1,1,1,1,1,1,1,1,1,1,1,1,1,1,1,1,1,1,1,1,1,1,1,1,1,1,1,1,1,1,1,1,1,1,1,1,1,1,1,1,1,1,1,1,1,1,1,1,1,1,1,1,1,1,1,1,1,1,1,1,1,1,1,1,1,1,1,1,1,1,1,1,1,1,1,1,1,1,1,1,1,1,1,1,1,1,1,1,1,1,1,1,1,1,1,1,1,1,1,1,1,1,1,1,1,1,1,1,1,1,1,1,1,1,1,1,1,1,1,1,1,1,1,1,1,1,1,1,1,1,1,1,1,1,1,1,1,1,1,1,1,1,1,1,1,1,1,1,1,1,1,1,1,1,1,1,1,1,1,1,1,1,1,1,1,1,1,1,1,1,1,1,1,1,1,1,1,1,1,1,1,1,1,1,1,1,1,1,1,1,1,1,1,1,1,1,1,1,1,1,1,1,1,1,1,1,1,1,1,1,1,1,1,1,1,1,1,1,1,1,1,1,1,1,1,1,1,1,1,1,1,1,1,1,1,1,1,1,1,1,1,1,1,1,1,1,1,1,1,1,1,1,1,1,1,1,1,1,1,1,1,1,1,1,1,1,1,1,1,1,1,1,1,1,1,1,1,1,1,1,1,1,1,1,1,1,1,1,1,1,1,1,1,1,1,1,1,1,1,1,1,1,1,1,1,1,1,1,1,1,1,1,1,1,1,1,1,1,1,1,1,1,1,1,1,1,1,1,1,1,1,1,1,1,1,1,1,1,1,1,1,1,1,1,1,1,1,1,1,1,1,1,1,1,1,1,1,1,1,1,1,1,1,1,1,1,1,1,1,1,1,1,1,1,1,1,1,1,1,1,1,1,1,1,1,1,1,1,1,1,1,1,1,1,1,1,1,1,1,1,1,1,1,1,1,1,1,1,1,1,1,1,1,1,1,1,1,1,1,1,1,1,1,1,1,1,1,1,1,1,1,1,1,1,1,1,1,1,1,1,1,1,1,1,1,1,1,1,1,1,1,1,1,1,1,1,1,1,1,1,1,1,1,1,1,1,1,1,1,1,1,1,1,1,1,1,1,1,1,1,1,1,1,1,1,1,1,1,1,1,1,1,1,1,1,1,1,1,1,1,1,1,1,1,1,1,1,1,1,1,1,1,1,1,1,1,1,1,1,1,1,1,1,1,1,1,1,1,1,1,1,1,1,1,1,1,1,1,1,1,1,1,1,1,1,1,1,1,1,1,1,1,1,1,1,1,1,1,1,1,1,1,1,1,1,1,1,1,1,1,1,1,1,1,1,1,1,1,1,1,1,1,1,1,1,1,1,1,1,1,1,1,1,1,1,1,1,1,1,1,1,1,1,1,1,1,1,1,1,1,1,1,1,1,1,1,1,1,1,1,1,1,1,1,1,1,1,1,1,1,1,1,1,1,1,1,1,1,1,1,1,1,1,1,1,1,1,1,1,1,1,1,1,1,1,1,1,1,1,1,1,1,1,1,1,1,1,1,1,1,1,1,1,1,1,1,1,1,1,1,1,1,1,1,1,1,1,1,1,1,1,1,1,1,1,1,1,1,1,1,1,1,1,1,1,1,1,1,1,1,1,1,1,1,1,1,1,1,1,1,1,1,1,1,1,1,1,1,1,1,1,1,1,1,1,1,1,1,1,1,1,1,1,1,1,1,1,1,1,1,1,1,1,1,1,1,1,1,1,1,1,1,1,1,1,1,1,1,1,1,1,1,1,1,1,1,1,1,1,1,1,1,1,1,1,1,1,1,1,1,1,1,1,1,1,1,1,1,1,1,1,1,1,1,1,1,1,1,1,1,1,1,1,1,1,1,1,1,1,1,1,1,1,1,1,1,1,1,1,1,1,1,1,1,1,1,1,1,1,1,1,1,1,1,1,1,1,1,1,1,1,1,1,1,1,1,1,1,1,1,1,1,1,1,1,1,1,1,1,1,1,1,1,1,1,1,1,1,1,1,1,1,1,1,1,1,1,1,1,1,1,1,1,1,1,1,1,1,1,1,1,1,1,1,1,1,1,1,1,1,1,1,1,1,1,1,1,1,1,1,1,1,1,1,1,1,1,1,1,1,1,1,1,1,1,1,1,1,1,1,1,1,1,1,1,1,1,1,1,1,1,1,1,1,1,1,1,1,1,1,1,1,1,1,1,1,1,1,1,1,1,1,1,1,1,1,1,1,1,1,1,1,1,1,1,1,1,1,1,1,1,1,1,1,1,1,1,1,1,1,1,1,1,1,1,1,1,1,1,1,1,1,1,1,1,1,1,1,1,1,1,1,1,1,1,1,1,1,1,1,1,1,1,1,1,1,1,1,1,1,1,1,1,1,1,1,1,1,1,1,1,1,1,1,1,1,1,1,1,1,1,1,1,1,1,1,1,1,1,1,1,1,1,1,1,1,1,1,1,1,1,1,1,1,1,1,1,1,1,1,1,1,1,1,1,1,1,1,1,1,1,1,1,1,1,1,1,1,1,1,1,1,1,1,1,1,1,1,1,1,1,1,1,1,1,1,1,1,1,1,1,1,1,1,1,1,1,1,1,1,1,1,1,1,1,1,1,1,1,1,1,1,1,1,1,1,1,1,1,1,1,1,1,1,1,1,1,1,1,1,1,1,1,1,1,1,1,1,1,1,1,1,1,1,1,1,1,1,1,1,1,1,1,1,1,1,1,1,1,1,1,1,1,1,1,1,1,1,1,1,1,1,1,1,1,1,1,1,1,1,1,1,1,1,1,1,1,1,1,1,1,1,1,1,1,1,1,1,1,1,1,1,1,1,1,1,1,1,1,1,1,1,1,1,1,1,1,1,1,1,1,1,1,1,1,1,1,1,1,1,1,1,1,1,1,1,1,1,1,1,1,1,1,1,1,1,1,1,1,1,1,1,1,1,1,1,1,1,1,1,1,1,1,1,1,1,1,1,1,1,1,1,1,1,1,1,1,1,1,1,1,1,1,1,1,1,1,1,1,1,1,1,1,1,1,1,1,1,1,1,1,1,1,1,1,1,1,1,1,1,1,1,1,1,1,1,1,1,1,1,1,1,1,1,1,1,1,1,1,1,1,1,1,1,1,1,1,1,1,1,1,1,1,1,1,1,1,1,1,1,1,1,1,1,1,1,1,1,1,1,1,1,1,1,1,1,1,1,1,1,1,1,1,1,1,1,1,1,1,1,1,1,1,1,1,1,1,1,1,1,1,1,1,1,1,1,1,1,1,1,1,1,1,1,1,1,1,1,1,1,1,1,1,1,1,1,1,1,1,1,1,1,1,1,1,1,1,1,1,1,1,1,1,1,1,1,1,1,1,1,1,1,1,1,1,1,1,1,1,1,1,1,1,1,1,1,1,1,1,1,1,1,1,1,1,1,1,1,1,1,1,1,1,1,1,1,1,1,1,1,1,1,1,1,1,1,1,1,1,1,1,1,1,1,1,1,1,1,1,1,1,1,1,1,1,1,1,1,1,1,1,1,1,1,1,1,1,1,1,1,1,1,1,1,1,1,1,1,1,1,1,1,1,1,1,1,1,1,1,1,1,1,1,1,1,1,1,1,1,1,1,1,1,1,1,1,1,1,1,1,1,1,1,1,1,1,1,1,1,1,1,1,1,1,1,1,1,1,1,1,1,1,1,1,1,1,1,1,1,1,1,1,1,1,1,1,1,1,1,1,1,1,1,1,1,1,1,1,1,1,1,1,1,1,1,1,1,1,1,1,1,1,1,1,1,1,1,1,1,1,1,1,1,1,1,1,1,1,1,1,1,1,1,1,1,1,1,1,1,1,1,1,1,1,1,1,1,1,1,1,1,1,1,1,1,1,1,1,1,1,1,1,1,1,1,1,1,1,1,1,1,1,1,1,1,1,1,1,1,1,1,1,1,1,1,1,1,1,1,1,1,1,1,1,1,1,1,1,1,1,1,1,1,1,1,1,1,1,1,1,1,1,1,1,1,1,1,1,1,1,1,1,1,1,1,1,1,1,1,1,1,1,1,1,1,1,1,1,1,1,1,1,1,1,1,1,1,1,1,1,1,1,1,1,1,1,1,1,1,1,1,1,1,1,1,1,1,1,1,1,1,1,1,1,1,1,1,1,1,1,1,1,1,1,1,1,1,1,1,1,1,1,1,1,1,1,1,1,1,1,1,1,1,1,1,1,1,1,1,1,1,1,1,1,1,1,1,1,1,1,1,1,1,1,1,1,1,1,1,1,1,1,1,1,1,1,1,1,1,1,1,1,1,1,1,1,1,1,1,1,1,1,1,1,1,1,1,1,1,1,1,1,1,1,1,1,1,1,1,1,1,1,1,1,1,1,1,1,1,1,1,1,1,1,1,1,1,1,9,1,1,1,1,1,1,1,1,1,1,1,1,1,1,1,1,1,1,1,1,1,1,1,1,1,1,1,1,1,1,1,1,1,1,1,1,1,1,1,1,1,1,1,1,1,1,1,1,1,1,1,1,1,1,1,1,1,1,1,1,1,1,1,1,1,1,1,1,1,1,1,1,1,1,1,1,1,1,1,1,1,1,1,1,1,1,1,1,1,1,1,1,1,1,1,1,1,1,1,1,1,1,1,1,1,1,1,1,1,1,1,1,1,1,1,1,1,1,1,1,1,1,1,1,1,1,1,1,1,1,1,1,1,1,1,1,1,1,1,1,1,1,1,1,1,1,1,1,1,1,1,1,1,1,1,1,1,1,1,1,1,1,1,1,1,1,1,1,1,1,1,1,1,1,1,1,1,1,1,1,1,1,1,1,1,1,1,1,1,1,1,1,1,1,1,1,1,1,1,1,1,1,1,1,1,1,1,1,1,1,1,1,1,1,1,1,1,1,1,1,1,1,1,1,1,1,1,1,1,1,1,1,1,1,1,1,1,1,1,1,1,1,1,1,1,1,1,1,1,1,1,1,1,1,1,1,1,1,1,1,1,1,1,1,1,1,1,1,1,1,1,1,1,1,1,1,1,1,1,1,1,1,1,1,1,1,1,1,1,1,1,1,1,1,1,1,1,1,1,1,1,1,1,1,1,1,1,1,1,1,1,1,1,1,1,1,1,1,1,1,1,1,1,1,1,1,1,1,1,1,1,1,1,1,1,1,1,1,1,1,1,1,1,1,1,1,1,1,1,1,1,1,1,1,1,1,1,1,1,1,1,1,1,1,1,1,1,1,1,1,1,1,1,1,1,1,1,1,1,1,1,1,1,1,1,1,1,1,1,1,1,1,1,1,1,1,1,1,1,1,1,1,1,1,1,1,1,1,1,1,1,1,1,1,1,1,1,1,1,1,1,1,1,1,1,1,1,1,1,1,1,1,1,1,1,1,1,1,1,1,1,1,1,1,1,1,1,1,1,1,1,1,1,1,1,1,1,1,1,1,1,1,1,1,1,1,1,1,1,1,1,1,1,1,1,1,1,1,1,1,1,1,1,1,1,1,1,1,1,1,1,1,1,1,1,1,1,1,1,1,1,1,1,1,1,1,1,1,1,1,1,1,1,1,1,1,1,1,1,1,1,1,1,1,1,1,1,1,1,1,1,1,1,1,1,1,1,1,1,1,1,1,1,1,1,1,1,1,1,1,1,1,1,1,1,1,1,1,1,1,1,1,1,1,1,1,1,1,1,1,1,1,1,1,1,1,1,1,1,1,1,1,1,1,1,1,1,1,1,1,1,1,1,1,1,1,1,1,1,1,1,1,1,1,1,1,1,1,1,1,1,1,1,1,1,1,1,1,1,1,1,1,1,1,1,1,1,1,1,1,1,1,1,1,1,1,1,1,1,1,1,1,1,1,1,1,1,1,1,1,1,1,1,1,1,1,1,1,1,1,1,1,1,1,1,1,1,1,1,1,1,1,1,1,1,1,1,1,1,1,1,1,1,1,1,1,1,1,1,1,1,1,1,1,1,1,1,1,1,1,1,1,1,1,1,1,1,1,1,1,1,1,1,1,1,1,1,1,1,1,1,1,1,1,1,1,1,1,1,1,1,1,1,1,1,1,1,1,1,1,1,1,1,1,1,1,1,1,1,1,1,1,1,1,1,1,1,1,1,1,1,1,1,1,1,1,1,1,1,1,1,1,1,1,1,1,1,1,1,1,1,1,1,1,1,1,1,1,1,1,1,1,1,1,1,1,1,1,1,1,1,1,1,1,1,1,1,1,1,1,1,1,1,1,1,1,1,1,1,1,1,1,1,1,1,1,1,1,1,1,1,1,1,1,1,1,1,1,1,1,1,1,1,1,1,1,1,1,1,1,1,1,1,1,1,1,1,1,1,1,1,1,1,1,1,1,1,1,1,1,1,1,1,1,1,1,1,1,1,1,1,1,1,1,1,1,1,1,1,1,1,1,1,1,1,1,1,1,1,1,1,1,1,1,1,1,1,1,1,1,1,1,1,1,1,1,1,1,1,1,1,1,1,1,1,1,1,1,1,1,1,1,1,1,1,1,1,1,1,1,1,1,1,1,1,1,1,1,1,1,1,1,1,1,1,1,1,1,1,1,1,1,1,1,1,1,1,1,1,1,1,1,1,1,1,1,1,1,1,1,1,1,1,1,1,1,1,1,1,1,1,1,1,1,1,1,1,1,1,1,1,1,1,1,1,1,1,1,1,1,1,1,1,1,1,1,1,1,1,1,1,1,1,1,1,1,1,1,1,1,1,1,1,1,1,1,1,1,1,1,1,1,1,1,1,1,1,1,1,1,1,1,1,1,1,1,1,1,1,1,1,1,1,1,1,1,1,1,1,1,1,1,1,1,1,1,1,1,1,1,1,1,1,1,1,1,1,1,1,1,1,1,1,1,1,1,1,1,1,1,1,1,1,1,1,1,1,1,1,1,1,1,1,1,1,1,1,1,1,1,1,1,1,1,1,1,1,1,1,1,1,1,1,1,1,1,1,1,1,1,1,1,1,1,1,1,1,1,1,1,1,1,1,1,1,1,1,1,1,1,1,1,1,1,1,1,1,1,1,1,1,1,1,1,1,1,1,1,1,1,1,1,1,1,1,1,1,1,1,1,1,1,1,1,1,1,1,1,1,1,1,1,1,1,1,1,1,1,1,1,1,1,1,1,1,1,1,1,1,1,1,1,1,1,1,1,1,1,1,1,1,1,1,1,1,1,1,1,1,1,1,1,1,1,1,1,1,1,1,1,1,1,1,1,1,1,1,1,1,1,1,1,1,1,1,1,1,1,1,1,1,1,1,1,1,1,1,1,1,1,1,1,1,1,1,1,1,1,1,1,1,1,1,1,1,1,1,1,1,1,1,1,1,1,1,1,1,1,1,1,1,1,1,1,1,1,1,1,1,1,1,1,1,1,1,1,1,1,1,1,1,1,1,1,1,1,1,1,1,1,1,1,1,1,1,1,1,1,1,1,1,1,1,1,1,1,1,1,1,1,1,1,1,1,1,1,1,1,1,1,1,1,1,1,1,1,1,1,1,1,1,1,1,1,1,1,1,1,1,1,1,1,1,1,1,1,1,1,1,1,1,1,1,1,1,1,1,1,1,1,1,1,1,1,1,1,1,1,1,1,1,1,1,1,1,1,1,1,1,1,1,1,1,1,1,1,1,1,1,1,1,1,1,1,1,1,1,1,1,1,1,1,1,1,1,1,1,1,1,1,1,1,1,1,1,1,1,1,1,1,1,1,1,1,1,1,1,1,1,1,1,1,1,1,1,1,1,1,1,1,1,1,1,1,1,1,1,1,1,1,1,1,1,1,1,1,1,1,1,1,1,1,1,1,1,1,1,1,1,1,1,1,1,1,1,1,1,1,1,1,1,1,1,1,1,1,1,1,1,1,1,1,1,1,1,1,1,1,1,1,1,1,1,1,1,1,1,1,1,1,1,1,1,1,1,1,1,1,1,1,1,1,1,1,1,1,1,1,1,1,1,1,1,1,1,1,1,1,1,1,1,1,1,1,1,1,1,1,1,1,1,1,1,1,1,1,1,1,1,1,1,1,1,1,1,1,1,1,1,1,1,1,1,1,1,1,1,1,1,1,1,1,1,1,1,1,1,1,1,1,1,1,1,1,1,1,1,1,1,1,1,1,1,1,1,1,1,1,1,1,1,1,1,1,1,1,1,1,1,1,1,1,1,1,1,1,1,1,1,1,1,1,1,1,1,1,1,1,1,1,1,1,1,1,1,1,1,1,1,1,1,1,1,1,1,1,1,1,1,1,1,1,1,1,1,1,1,1,1,1,1,1,1,1,1,1,1,1,1,1,1,1,1,1,1,1,1,1,1,1,1,1,1,1,1,1,1,1,1,1,1,1,1,1,1,1,1,1,1,1,1,1,1,1,1,1,1,1,1,1,1,1,1,1,1,1,1,1,1,1,1,1,1,1,1,1,1,1,1,1,1,1,1,1,1,1,1,1,1,1,1,1,1,1,1,1,1,1,1,1,1,1,1,1,1,1,1,1,1,1,1,1,1,1,1,1,1,1,1,1,1,1,1,1,1,1,1,1,1,1,1,1,1,1,1,1,1,1,1,1,1,1,1,1,1,1,1,1,1,1,1,1,1,1,1,1,1,1,1,1,1,1,1,1,1,1,1,1,1,1,1,1,1,1,1,1,1,1,1,1,1,1,1,1,1,1,1,1,1,1,1,1,1,1,1,1,1,1,1,1,1,1,1,1,1,1,1,1,1,1,1,1,1,1,1,1,1,1,1,1,1,1,1,1,1,1,1,1,1,1,1,1,1,1,1,1,1,1,1,1,1,1,1,1,1,1,1,1,1,1,1,1,1,1,1,1,1,1,1,1,1,1,1,1,1,1,1,1,1,1,1,1,1,1,1,1,1,1,1,1,1,1,1,1,1,1,1,1,1,1,1,1,1,1,1,1,1,1,1,1,1,1,1,1,1,1,1,1,1,1,1,1,1,1,1,1,1,1,1,1,1,1,1,1,1,1,1,1,1,1,1,1,1,1,1,1,1,1,1,1,1,1,1,1,1,1,1,1,1,1,1,1,1,1,1,1,1,1,1,1,1,1,1,1,1,1,1,1,1,1,1,1,1,1,1,1,1,1,1,1,1,1,1,1,1,1,1,1,1,1,1,1,1,1,1,1,1,1,1,1,1,1,1,1,1,1,1,1,1,1,1,1,1,1,1,1,1,1,1,1,1,1,1,1,1,1,1,1,1,1,1,1,1,1,1,1,1,1,1,1,1,1,1,1,1,1,1,1,1,1,1,1,1,1,1,1,1,1,1,1,1,1,1,1,1,1,1,1,1,1,1,1,1,1,1,1,1,1,1,1,1,1,1,1,1,1,1,1,1,1,1,1,1,1,1,1,1,1,1,1,1,1,1,1,1,1,1,1,1,1,1,1,1,1,1,1,1,1,1,1,1,1,1,1,1,1,1,1,1,1,1,1,1,1,1,1,1,1,1,1,1,1,1,1,1,1,1,1,1,1,1,1,1,1,1,1,1,1,1,1,1,1,1,1,1,1,1,1,1,1,1,1,1,1,1,1,1,1,1,1,1,1,1,1,1,1,1,1,1,1,1,1,1,1,1,1,1,1,1,1,1,1,1,1,1,1,1,1,1,1,1,1,1,1,1,1,1,1,1,1,1,1,1,1,1,1,1,1,1,1,1,1,1,1,1,1,1,1,1,1,1,1,1,1,1,1,1,1,1,1,1,1,1,1,1,1,1,1,1,1,1,1,1,1,1,1,1,1,1,1,1,1,1,1,1,1,1,1,1,1,1,1,1,1,1,1,1,1,1,1,1,1,1,1,1,1,1,1,1,1,1,1,1,1,1,1,1,1,1,1,1,1,1,1,1,1,1,1,1,1,1,1,1,1,1,1,1,1,1,1,1,1,1,1,1,1,1,1,1,1,1,1,1,1,1,1,1,1,1,1,1,1,1,1,1,1,1,1,1,1,1,1,1,1,1,1,1,1,1,1,1,1,1,1,1,1,1,1,1,1,1,1,1,1,1,1,1,1,1,1,1,1,1,1,1,1,1,1,1,1,1,1,1,1,1,1,1,1,1,1,1,1,1,1,1,1,1,1,1,1,1,1,1,1,1,1,1,1,1,1,1,1,1,1,1,1,1,1,1,1,1,1,1,1,1,1,1,1,1,1,1,1,1,1,1,1,1,1,1,1,1,1,1,1,1,1,1,1,1,1,1,1,1,1,1,1,1,1,1,1,1,1,1,1,1,1,1,1,1,1,1,1,1,1,1,1,1,1,1,1,1,1,1,1,1,1,1,1,1,1,1,1,1,1,1,1,1,1,1,1,1,1,1,1,1,1,1,1,1,1,1,1,1,1,1,1,1,1,1,1,1,1,1,1,1,1,1,1,1,1,1,1,1,1,1,1,1,1,1,1,1,1,1,1,1,1,1,1,1,1,1,1,1,1,1,1,1,1,1,1,1,1,1,1,1,1,1,1,1,1,1,1,1,1,1,1,1,1,1,1,1,1,1,1,1,1,1,1,1,1,1,1,1,1,1,1,1,1,1,1,1,1,1,1,1,1,1,1,1,1,1,1,1,1,1,1,1,1,1,1,1,1,1,1,1,1,1,1,1,1,1,1,1,1,1,1,1,1,1,1,1,1,1,1,1,1,1,1,1,1,1,1,1,1,1,1,1,1,1,1,1,1,1,1,1,1,1,1,1,1,1,1,1,1,1,1,1,1,1,1,1,1,1,1,1,1,1,1,1,1,1,1,1,1,1,1,1,1,1,1,1,1,1,1,1,1,1,1,1,1,1,1,1,1,1,1,1,1,1,1,1,1,1,1,1,1,1,1,1,1,1,1,1,1,1,1,1,1,1,1,1,1,1,1,1,1,1,1,1,1,1,1,1,1,1,1,1,1,1,1,1,1,1,1,1,1,1,1,1,1,1,1,1,1,1,1,1,1,1,1,1,1,1,1,1,1,1,1,7,1,1,1,1,1,1,1,1,1,1,1,1,1,1,1,1,1,1,1,1,1,1,1,1,1,1,1,1,1,1,1,1,1,1,1,1,1,1,1,1,1,1,1,1,1,1,1,1,1,1,1,1,1,1,1,1,1,1,1,1,1,1,1,1,1,1,1,1,1,1,1,1,1,1,1,1,1,1,1,1,1,1,1,1,1,1,1,1,1,1,1,1,1,1,1,1,1,1,1,1,1,1,1,1,1,1,1,1,1,1,1,1,1,1,1,1,1,1,1,1,1,1,1,1,1,1,1,1,1,1,1,1,1,1,1,1,1,1,1,1,1,1,1,1,1,1,1,1,1,1,1,1,1,1,1,1,1,1,1,1,1,1,1,1,1,1,1,1,1,1,1,1,1,1,1,1,1,1,1,1,1,1,1,1,1,1,1,1,1,1,1,1,1,1,1,1,1,1,1,1,1,1,1,1,1,1,1,1,1,1,1,1,1,1,1,1,1,1,1,1,1,1,1,1,1,1,1,1,1,1,1,1,1,1,1,1,1,1,1,1,1,1,1,1,1,1,1,1,1,1,1,1,1,1,1,1,1,1,1,1,1,1,1,1,1,1,1,1,1,1,1,1,1,1,1,1,1,1,1,1,1,1,1,1,1,1,1,1,1,1,1,1,1,1,1,1,1,1,1,1,1,1,1,1,1,1,1,1,1,1,1,1,1,1,1,1,1,1,1,1,1,1,1,1,1,1,1,1,1,1,1,1,1,1,1,1,1,1,1,1,1,1,1,1,1,1,1,1,1,1,1,1,1,1,1,1,1,1,1,1,1,1,1,1,1,1,1,1,1,1,1,1,1,1,1,1,1,1,1,1,1,1,1,1,1,1,1,1,1,1,1,1,1,1,1,1,1,1,1,1,1,1,1,1,1,1,1,1,1,1,1,1,1,1,1,1,1,1,1,1,1,1,1,1,1,1,1,1,1,1,1,1,1,1,1,1,1,1,1,1,1,1,1,1,1,1,1,1,1,1,1,1,1,1,1,1,1,1,1,1,1,1,1,1,1,1,1,1,1,1,1,1,1,1,1,1,1,1,1,1,1,1,1,1,1,1,1,1,1,1,1,1,1,1,1,1,1,1,1,1,1,1,1,1,1,1,1,1,1,1,1,1,1,1,1,1,1,1,1,1,1,1,1,1,1,1,1,1,1,1,1,1,1,1,1,1,1,1,1,1,1,1,1,1,1,1,1,1,1,1,1,1,1,1,1,1,1,1,1,1,1,1,1,1,1,1,1,1,1,1,1,1,1,1,1,1,1,1,1,1,1,1,1,1,1,1,1,1,1,1,1,1,1,1,1,1,1,1,1,1,1,1,1,1,1,1,1,1,1,1,1,1,1,1,1,1,1,1,1,1,1,1,1,1,1,1,1,1,1,1,1,1,1,1,1,1,1,1,1,1,1,1,1,1,1,1,1,1,1,1,1,1,1,1,1,1,1,1,1,1,1,1,1,1,1,1,1,1,1,1,1,1,1,1,1,1,1,1,1,1,1,1,1,1,1,1,1,1,1,1,1,1,1,1,1,1,1,1,1,1,1,1,1,1,1,1,1,1,1,1,1,1,1,1,1,1,1,1,1,1,1,1,1,1,1,1,1,1,1,1,1,1,1,1,1,1,1,1,1,1,1,1,1,1,1,1,1,1,1,1,1,1,1,1,1,1,1,1,1,1,1,1,1,1,1,1,1,1,1,1,1,1,1,1,1,1,1,1,1,1,1,1,1,1,1,1,1,1,1,1,1,1,1,1,1,1,1,1,1,1,1,1,1,1,1,1,1,1,1,1,1,1,1,1,1,1,1,1,1,1,1,1,1,1,1,1,1,1,1,1,1,1,1,1,1,1,1,1,1,1,1,1,1,1,1,1,1,1,1,1,1,1,1,1,1,1,1,1,1,1,1,1,1,1,1,1,1,1,1,1,1,1,1,1,1,1,1,1,1,1,1,1,1,1,1,1,1,1,1,1,1,1,1,1,1,1,1,1,1,1,1,1,1,1,1,1,1,1,1,1,1,1,1,1,1,1,1,1,1,1,1,1,1,1,1,1,1,1,1,1,1,1,1,1,1,1,1,1,1,1,1,1,1,1,1,1,1,1,1,1,1,1,1,1,1,1,1,1,1,1,1,1,1,1,1,1,1,1,1,1,1,1,1,1,1,1,1,1,1,1,1,1,1,1,1,1,1,1,1,1,1,1,1,1,1,1,1,1,1,1,1,1,1,1,1,1,1,1,1,1,1,1,1,1,1,1,1,1,1,1,1,1,1,1,1,1,1,1,1,1,1,1,1,1,1,1,1,1,1,1,1,1,1,1,1,1,1,1,1,1,1,1,1,1,1,1,1,1,1,1,1,1,1,1,1,1,1,1,1,1,1,1,1,1,1,1,1,1,1,1,1,1,1,1,1,1,1,1,1,1,1,1,1,1,1,1,1,1,1,1,1,1,1,1,1,1,1,1,1,1,1,1,1,1,1,1,1,1,1,1,1,1,1,1,1,1,1,1,1,1,1,1,1,1,1,1,1,1,1,1,1,1,1,1,1,1,1,1,1,1,1,1,1,1,1,1,1,1,1,1,1,1,1,1,1,1,1,1,1,1,1,1,1,1,1,1,1,1,1,1,1,1,1,1,1,1,1,1,1,1,1,1,1,1,1,1,1,1,1,1,1,1,1,1,1,1,1,1,1,1,1,1,1,1,1,1,1,1,1,1,1,1,1,1,1,1,1,1,1,1,1,1,1,1,1,1,1,1,1,1,1,1,1,1,1,1,1,1,1,1,1,1,1,1,1,1,1,1,1,1,1,1,1,1,1,1,1,1,1,1,1,1,1,1,1,1,1,1,1,1,1,1,1,1,1,1,1,1,1,1,1,1,1,1,1,1,1,1,1,1,1,1,1,1,1,1,1,1,1,1,1,1,1,1,1,1,1,1,1,1,1,1,1,1,1,1,1,1,1,1,1,1,1,1,1,1,1,1,1,1,1,1,1,1,1,1,1,1,1,1,1,1,1,1,1,1,1,1,1,1,1,1,1,1,1,1,1,1,1,1,1,1,1,1,1,1,1,1,1,1,1,1,1,1,1,1,1,1,1,1,1,1,1,1,1,1,1,1,1,1,1,1,1,1,1,1,1,1,1,1,1,1,1,1,1,1,1,1,1,1,1,1,1,1,1,1,1,1,1,1,1,1,1,1,1,1,1,1,1,1,1,1,1,1,1,1,1,1,1,1,1,1,1,1,1,1,1,1,1,1,1,1,1,1,1,1,1,1,1,1,1,1,1,1,1,1,1,1,1,1,1,1,1,1,1,1,1,1,1,1,1,1,1,1,1,1,1,1,1,1,1,1,1,1,1,1,1,1,1,1,1,1,1,1,1,1,1,1,1,1,1,1,1,1,1,1,1,1,1,1,1,1,1,1,1,1,1,1,1,1,1,1,1,1,1,1,1,1,1,1,1,1,1,1,1,1,1,1,1,1,1,1,1,1,1,1,1,1,1,1,1,1,1,1,1,1,1,1,1,1,1,1,1,1,1,1,1,1,1,1,1,1,1,1,1,1,1,1,1,1,1,1,1,1,1,1,1,1,1,1,1,1,1,1,1,1,1,1,1,1,1,1,1,1,1,1,1,1,1,1,1,1,1,1,1,1,1,1,1,1,1,1,1,1,1,1,1,1,1,1,1,1,1,1,1,1,1,1,1,1,1,1,1,1,1,1,1,1,1,1,1,1,1,1,1,1,1,1,1,1,1,1,1,1,1,1,1,1,1,1,1,1,1,1,1,1,1,1,1,1,1,1,1,1,1,1,1,1,1,1,1,1,1,1,1,1,1,1,1,1,1,1,1,1,1,1,1,1,1,1,1,1,1,1,1,1,1,1,1,1,1,1,1,1,1,1,1,1,1,1,1,1,1,1,1,1,1,1,1,1,1,1,1,1,1,1,1,1,1,1,1,1,1,1,1,1,1,1,1,1,1,1,1,1,1,1,1,1,1,1,1,1,1,1,1,1,1,1,1,1,1,1,1,1,1,1,1,1,1,1,1,1,1,1,1,1,1,1,1,1,1,1,1,1,1,1,1,1,1,1,1,1,1,1,1,1,1,1,1,1,1,1,1,1,1,1,1,1,1,1,1,1,1,1,1,1,1,1,1,1,1,1,1,1,1,1,1,1,1,1,1,1,1,1,1,1,1,1,1,1,1,1,1,1,1,1,1,1,1,1,1,1,1,1,1,1,1,1,1,1,1,1,1,1,1,1,1,1,1,1,1,1,1,1,1,1,1,1,1,1,1,1,1,1,1,1,1,1,1,1,1,1,1,1,1,1,1,1,1,1,1,1,1,1,1,1,1,1,1,1,1,1,1,1,1,1,1,1,1,1,1,1,1,1,1,1,1,1,1,1,1,1,1,1,1,1,1,1,1,1,1,1,1,1,1,1,1,1,1,1,1,1,1,1,1,1,1,1,1,1,1,1,1,1,1,1,1,1,1,1,1,1,1,1,1,1,1,1,1,1,1,1,1,1,1,1,1,1,1,1,1,1,1,1,1,1,1,1,1,1,1,1,1,1,1,1,1,1,1,1,1,1,1,1,1,1,1,1,1,1,1,1,1,1,1,1,1,1,1,1,1,1,1,1,1,1,1,1,1,1,1,1,1,1,1,1,1,1,1,1,1,1,1,1,1,1,1,1,1,1,1,1,1,1,1,1,1,1,1,1,1,1,1,1,1,1,1,1,1,1,1,1,1,1,1,1,1,1,1,1,1,1,1,1,1,1,1,1,1,1,1,1,1,1,1,1,1,1,1,1,1,1,1,1,1,1,1,1,1,1,1,1,1,1,1,1,1,1,1,1,1,1,1,1,1,1,1,1,1,1,1,1,1,1,1,1,1,1,1,1,1,1,1,1,1,1,1,1,1,1,1,1,1,1,1,1,1,1,1,1,1,1,1,1,1,1,1,1,1,1,1,1,1,1,1,1,1,1,1,1,1,1,1,1,1,1,1,1,1,1,1,1,1,1,1,1,1,1,1,1,1,1,1,1,1,1,1,1,1,1,1,1,1,1,1,1,1,1,1,1,1,1,1,1,1,1,1,1,1,1,1,1,1,1,1,1,1,1,1,1,1,1,1,1,1,1,1,1,1,1,1,1,1,1,1,1,1,1,1,1,1,1,1,1,1,1,1,1,1,1,1,1,1,1,1,1,1,1,1,1,1,1,1,1,1,1,1,1,1,1,1,1,1,1,1,1,1,1,1,1,1,1,1,1,1,1,1,1,1,1,1,1,1,1,1,1,1,1,1,1,1,1,1,1,1,1,1,1,1,1,1,1,1,1,1,1,1,1,1,1,1,1,1,1,1,1,1,1,1,1,1,1,1,1,1,1,1,1,1,1,1,1,1,1,1,1,1,1,1,1,1,1,1,1,1,1,1,1,1,1,1,1,1,1,1,1,1,1,1,1,1,1,1,1,1,1,1,1,1,1,1,1,1,1,1,1,1,1,1,1,1,1,1,1,1,1,1,1,1,1,1,1,1,1,1,1,1,1,1,1,1,1,1,1,1,1,1,1,1,1,1,1,1,1,1,1,1,1,1,1,1,1,1,1,1,1,1,1,1,1,1,1,1,1,1,1,1,1,1,1,1,1,1,1,1,1,1,1,1,1,1,1,1,1,1,1,1,1,1,1,1,1,1,1,1,1,1,1,1,1,1,1,1,1,1,1,1,1,1,1,1,1,1,1,1,1,1,1,1,1,1,1,1,1,1,1,1,1,1,1,1,1,1,1,1,1,1,1,1,1,1,1,1,1,1,1,1,1,1,1,1,1,1,1,1,1,1,1,1,1,1,1,1,1,1,1,1,1,1,1,1,1,1,1,1,1,1,1,1,1,1,1,1,1,1,1,1,1,1,1,1,1,1,1,1,1,1,1,1,1,1,1,1,1,1,1,1,1,1,1,1,1,1,1,1,1,1,1,1,1,1,1,1,1,1,1,1,1,1,1,1,1,1,1,1,1,1,1,1,1,1,1,1,1,1,1,1,1,1,1,1,1,1,1,1,1,1,1,1,1,1,1,1,1,1,1,1,1,1,1,1,1,1,1,1,1,1,1,1,1,1,1,1,1,1,1,1,1,1,1,1,1,1,1,1,1,1,1,1,1,1,1,1,1,1,1,1,1,1,1,1,1,1,1,1,1,1,1,1,1,1,1,1,1,1,1,1,1,1,1,1,1,1,1,1,1,1,1,1,1,1,1,1,1,1,1,1,1,1,1,1,1,1,1,1,1,1,1,1,1,1,1,1,1,1,1,1,1,1,1,1,1,1,1,1,1,1,1,1,1,1,1,1,1,1,1,1,1,1,1,1,1,1,1,1,1,1,1,1,1,1,1,1,1,1,1,1,1,1,1,1,1,1,1,1,1,1,1,1,1,1,1,1,1,1,1,1,1,1,1,1,1,1,1,1,1,1,1,1,1,1,1,1,1,1,1,1,1,1,1,1,1,1,1,1,1,1,1,1,1,1,1,1,1,1,1,1,1,1,1,1,1,1,1,1,1,1,1,1,1,1,1,1,1,1,1,1,1,1,1,1,1,1,1,1,1,1,1,1,1,1,1,1,1,1,1,1,1,1,1,1,1,1,1,1,1,1,1,1,1,1,1,1,1,1,1,1,1,1,1,1,1,1,1,1,1,1,1,1,1,1,1,1,1,1,1,1,1,1,1,1,1,1,1,1,1,1,1,1,1,1,1,1,1,1,1,1,1,1,1,1,1,1,1,1,1,1,1,1,1,1,1,1,1,1,1,1,1,1,1,1,1,1,1,1,1,1,1,1,1,1,1,1,1,1,1,1,1,1,1,1,1,1,1,1,1,1,1,1,1,1,1,1,1,1,1,1,1,1,1,1,1,1,1,1,1,1,1,1,1,1,1,1,1,1,1,1,1,1,1,1,1,1,1,1,1,1,1,1,1,1,1,1,1,1,1,1,1,1,1,1,1,1,1,1,1,1,1,1,1,1,1,1,1,1,1,1,1,1,1,1,1,1,1,1,1,1,1,1,1,1,1,1,1,1,1,1,1,1,1,1,1,1,1,1,1,1,1,1,1,1,1,1,1,1,1,1,1,1,1,1,1,1,1,1,1,1,1,1,1,1,1,1,1,1,1,1,1,1,1,1,1,1,1,1,1,1,1,1,1,1,1,1,1,1,1,1,1,1,1,1,1,1,1,1,1,1,1,1,1,1,1,1,1,1,1,1,1,1,1,1,1,1,1,1,1,1,1,1,1,1,1,1,1,1,1,1,1,1,1,1,1,1,1,1,1,1,1,1,1,1,1,1,1,1,1,1,1,1,1,1,1,1,1,1,1,1,1,1,1,1,1,1,1,1,1,1,1,1,1,1,1,1,1,1,1,1,1,1,1,1,1,1,1,1,1,1,1,1,1,1,1,1,1,1,1,1,1,1,1,1,1,1,1,1,1,1,1,1,1,1,1,1,1,1,1,1,1,1,1,1,1,1,1,1,1,1,1,1,1,1,1,1,1,1,1,1,1,1,1,1,1,1,1,1,1,1,1,1,1,1,1,1,1,1,1,1,1,1,1,1,1,1,1,1,1,1,1,1,1,1,1,1,1,1,1,1,1,1,1,1,1,1,1,1,1,1,1,1,1,1,1,1,1,1,1,1,1,1,1,1,1,1,1,1,1,1,1,1,1,1,1,1,1,1,1,1,1,1,1,1,1,1,1,1,1,1,1,1,1,1,1,1,1,1,1,1,1,1,1,1,1,1,1,1,1,1,1,1,1,1,1,1,1,1,1,1,1,1,1,1,1,1,1,1,1,1,1,1,1,1,1,1,1,1,1,1,1,1,1,1,1,1,1,1,1,1,1,1,1,1,1,1,1,1,1,1,1,1,1,1,1,1,1,1,1,1,1,1,1,1,1,1,1,1,1,1,1,1,1,1,1,1,1,1,1,1,1,1,1,1,1,1,1,1,1,1,1,1,1,1,1,1,1,1,1,1,1,1,1,1,1,1,1,1,1,1,1,1,1,1,1,1,1,1,1,1,1,1,1,1,1,1,1,1,1,1,1,1,1,1,1,1,1,1,1,1,1,1,1,1,1,1,1,1,1,1,1,1,1,1,1,1,1,1,1,1,1,1,1,1,1,1,1,1,1,1,1,1,1,1,1,1,1,1,1,1,1,1,1,1,1,1,1,1,1,1,1,1,1,1,1,1,1,1,1,1,1,1,1,1,1,1,1,1,1,1,1,1,1,1,1,1,1,1,1,1,1,1,1,1,1,1,1,1,1,1,1,1,1,1,1,1,1,1,1,1,1,1,1,1,1,1,1,1,1,1,1,1,1,1,1,1,1,1,1,1,1,1,1,1,1,1,1,1,1,1,1,1,1,1,1,1,1,1,1,1,1,1,1,1,1,1,1,1,1,1,1,1,1,1,1,1,1,1,1,1,1,1,1,1,1,1,1,1,1,1,1,1,1,1,1,1,1,1,1,1,1,1,1,1,1,1,1,1,1,1,1,1,1,1,1,1,1,1,1,1,1,1,1,1,1,1,1,1,1,1,1,1,1,1,1,1,1,1,1,1,1,1,1,1,1,1,1,1,1,1,1,1,1,1,1,1,1,1,1,1,1,1,1,1,1,1,1,1,1,1,1,1,1,1,1,1,1,1,1,1,1,1,1,1,1,1,1,1,1,1,1,1,1,1,1,1,1,1,1,1,1,1,1,1,1,1,1,1,1,1,1,1,1,1,1,1,1,1,1,1,1,1,1,1,1,1,1,1,1,1,1,1,1,1,1,1,1,1,1,1,1,1,1,1,1,1,1,1,1,1,1,1,1,1,1,1,1,1,1,1,1,1,1,1,1,1,1,1,1,1,1,1,1,1,1,1,1,1,1,1,1,1,1,1,1,1,1,1,1,1,1,1,1,1,1,1,1,1,1,1,1,1,1,1,1,1,1,1,1,1,1,1,1,1,1,1,1,1,1,1,1,1,1,1,1,1,1,1,1,1,1,1,1,1,1,1,1,1,1,1,1,1,1,1,1,1,1,1,1,1,1,1,1,1,1,1,1,1,1,1,1,1,1,1,1,1,1,1,1,1,1,1,1,1,1,1,1,1,1,1,1,1,1,1,1,1,1,1,1,1,1,1,1,1,1,1,1,1,1,1,1,1,1,1,1,1,1,1,1,1,1,1,1,1,1,1,1,1,1,1,1,1,1,1,1,1,1,1,1,1,1,1,1,1,1,1,1,1,1,1,1,1,1,1,1,1,1,1,1,1,1,1,1,1,1,1,1,1,1,1,1,1,1,1,1,1,1,1,1,1,1,1,1,1,1,1,1,1,1,1,1,1,1,1,1,1,1,1,1,1,1,1,1,1,1,1,1,1,1,1,1,1,1,1,1,1,1,1,1,1,1,1,1,1,1,1,1,1,1,1,1,1,1,1,1,1,1,1,1,1,1,1,1,1,1,1,1,1,1,1,1,1,1,1,1,1,1,1,1,1,1,1,1,1,1,1,1,1,1,1,1,1,1,1,1,1,1,1,1,1,1,1,1,1,1,1,1,1,1,1,1,1,1,1,1,1,1,1,1,1,1,1,1,1,1,1,1,1,1,1,1,1,1,1,1,1,1,1,1,1,1,1,1,1,1,1,1,1,1,1,1,1,1,1,1,1,1,1,1,1,1,1,1,1,1,1,1,1,1,1,1,1,1,1,1,1,1,1,1,1,1,1,1,1,1,1,1,1,1,1,1,1,1,1,1,1,1,1,1,1,1,1,1,1,1,1,1,1,1,1,1,1,1,1,1,1,1,1,1,1,1,1,1,1,1,1,1,1,1,1,1,1,1,1,1,1,1,1,1,1,1,1,1,1,1,1,1,1,1,1,1,1,1,1,1,1,1,1,1,1,1,1,1,1,1,1,1,1,1,1,1,1,1,1,1,1,1,1,1,1,1,1,1,1,1,1,1,1,1,1,1,1,1,1,1,1,1,1,1,1,1,1,1,1,1,1,1,1,1,1,1,1,1,1,1,1,1,1,1,1,1,1,1,1,1,1,1,1,1,1,1,1,1,1,1,1,1,1,1,1,1,1,1,1,1,1,1,1,1,1,1,1,1,1,1,1,1,1,1,1,1,1,1,1,1,1,1,1,1,1,1,1,1,1,1,1,1,1,1,1,1,1,1,1,1,1,1,1,1,1,1,1,1,1,1,1,1,1,1,1,1,1,1,1,1,1,1,1,1,1,1,1,1,1,1,1,1,1,1,1,1,1,1,1,1,1,1,1,1,1,1,1,1,1,1,1,1,1,1,1,1,1,1,1,1,1,1,1,1,1,1,1,1,1,1,1,1,1,1,1,1,1,1,1,1,1,1,1,1,1,1,1,1,1,1,1,1,1,1,1,1,1,1,1,1,1,1,1,1,1,1,1,1,1,1,1,1,1,1,1,1,1,1,1,1,1,1,1,1,1,1,1,1,1,1,1,1,1,1,1,1,1,1,1,1,1,1,1,1,1,1,1,1,1,1,1,1,1,1,1,1,1,1,1,1,1,1,1,1,1,1,1,1,1,1,1,1,1,1,1,1,1,1,1,1,1,1,1,1,1,1,1,1,1,1,1,1,1,1,1,1,1,1,1,1,1,1,1,1,1,1,1,1,1,1,1,1,1,1,1,1,1,1,1,1,1,1,1,1,1,1,1,1,1,1,1,1,1,1,1,1,1,1,1,1,1,1,1,1,1,1,1,1,1,1,1,1,1,1,1,1,1,1,1,1,1,1,1,1,1,1,1,1,1,1,1,1,1,1,1,1,1,1,1,1,1,1,1,1,1,1,1,1,1,1,1,1,1,1,1,1,1,1,1,1,1,1,1,1,1,1,1,1,1,1,1,1,1,1,1,1,1,1,1,1,1,1,1,1,1,1,1,1,1,1,1,1,1,1,1,1,1,1,1,1,1,1,1,1,1,1,1,1,1,1,1,1,1,1,1,1,1,1,1,1,1,1,1,1,1,1,1,1,1,1,1,1,1,1,1,1,1,1,1,1,1,1,1,1,1,1,1,1,1,1,1,1,1,1,1,1,1,1,1,1,1,1,1,1,1,1,1,1,1,1,1,1,1,1,1,1,1,1,1,1,1,1,1,1,1,1,1,1,1,1,1,1,1,1,1,1,1,1,1,1,1,1,1,1,1,1,1,1,1,1,1,1,1,1,1,1,1,1,1,1,1,1,1,1,1,1,1,1,1,1,1,1,1,1,1,1,1,1,1,1,1,1,1,1,1,1,1,1,1,1,1,1,1,1,1,1,1,1,1,1,1,1,1,1,1,1,1,1,1,1,1,1,1,1,1,1,1,1,1,1,1,1,1,1,1,1,1,1,1,1,1,1,1,1,1,1,1,1,1,1,1,1,1,1,1,1,1,1,1,1,1,1,1,1,1,1,1,1,1,1,1,1,1,1,1,1,1,1,1,1,1,1,1,1,1,1,1,1,1,1,1,1,1,1,1,1,1,1,1,1,1,1,1,1,1,1,1,1,1,1,1,1,1,1,1,1,1,1,1,1,1,1,1,1,1,1,1,1,1,1,1,1,1,1,1,1,1,1,1,1,1,1,1,1,1,1,1,1,1,1,1,1,1,1,1,1,1,1,1,1,1,1,1,1,1,1,1,1,1,1,1,1,1,1,1,1,1,1,1,1,1,1,1,1,1,1,1,1,1,1,1,1,1,1,1,1,1,1,1,1,1,1,1,1,1,1,1,1,1,1,1,1,1,1,1,1,1,1,1,1,1,1,1,1,1,1,1,1,1,1,1,1,1,1,1,1,1,1,1,1,1,1,1,1,1,1,1,1,1,1,1,1,1,1,1,1,1,1,1,1,1,1,1,1,1,1,1,1,1,1,1,1,1,1,1,1,1,1,1,1,1,1,1,1,1,1,1,1,1,1,1,1,1,1,1,1,1,1,1,1,1,1,1,1,1,1,1,1,1,1,1,1,1,1,1,1,1,1,1,1,1,1,1,1,1,1,1,1,1,1,1,1,1,1,1,1,1,1,1,1,1,1,1,1,1,1,1,1,1,1,1,1,1,1,1,1,1,1,1,1,1,1,1,1,1,1,1,1,1,1,1,1,1,1,1,1,1,1,1,1,1,1,1,1,1,1,1,1,1,1,1,1,1,1,1,1,1,1,1,1,1,1,1,1,1,1,1,1,1,1,1,1,1,1,1,1,1,1,1,1,1,1,1,1,1,1,1,1,1,1,1,1,1,1,1,1,1,1,1,1,1,1,1,1,1,1,1,1,1,1,1,1,1,1,1,1,1,1,1,1,1,1,1,1,1,1,1,1,1,1,1,1,1,1,1,1,1,1,1,1,1,1,1,1,1,1,1,1,1,1,1,1,1,1,1,1,1,1,1,1,1,1,1,1,1,1,1,1,1,1,1,1,1,1,1,1,1,1,1,1,1,1,1,1,1,1,1,1,1,1,1,1,1,1,1,1,1,1,1,1,1,1,1,1,1,1,1,1,1,1,1,1,1,1,1,1,1,1,1,1,1,1,1,1,1,1,1,1,1,1,1,1,1,1,1,1,1,1,1,1,1,1,1,1,1,1,1,1,1,1,1,1,1,1,1,1,1,1,1,1,1,1,1,1,1,1,1,1,1,1,1,1,1,1,1,1,1,1,1,1,1,1,1,1,1,1,1,1,1,1,1,1,1,1,1,1,1,1,1,1,1,1,1,1,1,1,1,1,1,1,1,1,1,1,1,1,1,1,1,1,1,1,1,1,1,1,1,1,1,1,1,1,1,1,1,1,1,1,1,1,1,1,1,1,1,1,1,1,1,1,1,1,1,1,1,1,1,1,1,1,1,1,1,1,1,1,1,1,1,1,1,1,1,1,1,1,1,1,1,1,1,1,1,1,1,1,1,1,1,1,1,1,1,1,1,1,1,1,1,1,1,1,1,1,1,1,1,1,1,1,1,1,1,1,1,1,1,1,1,1,1,1,1,1,1,1,1,1,1,1,1,1,1,1,1,1,1,1,1,1,1,1,1,1,1,1,1,1,1,1,1,1,1,1,1,1,1,1,1,1,1,1,1,1,1,1,1,1,1,1,1,1,1,1,1,1,1,1,1,1,1,1,1,1,1,1,1,1,1,1,1,1,1,1,1,1,1,1,1,1,1,1,1,1,1,1,1,1,1,1,1,1,1,1,1,1,1,1,1,1,1,1,1,1,1,1,1,1,1,1,1,1,1,1,1,1,1,1,1,1,1,1,1,1,1,1,1,1,1,1,1,1,1,1,1,1,1,1,1,1,1,1,1,1,1,1,1,1,1,1,1,1,1,1,1,1,1,1,1,1,1,1,1,1,1,1,1,1,1,1,1,1,1,1,1,1,1,1,1,1,1,1,1,1,1,1,1,1,1,1,1,1,1,1,1,1,1,1,1,1,1,1,1,1,1,1,1,1,1,1,1,1,1,1,1,1,1,1,1,1,1,1,1,1,1,1,1,1,1,1,1,1,1,1,1,1,1,1,1,1,1,1,1,1,1,1,1,1,1,1,1,1,1,1,1,1,1,1,1,1,1,1,1,1,1,1,1,1,1,1,1,1,1,1,1,1,1,1,1,1,1,1,1,1,1,1,1,1,1,1,1,1,1,1,1,1,1,1,1,1,1,1,1,1,1,1,1,1,1,1,1,1,1,1,1,1,1,1,1,1,1,1,1,1,1,1,1,1,1,1,1,1,1,1,1,1,1,1,1,1,1,1,1,1,1,1,1,1,1,1,1,1,1,1,1,1,1,1,1,1,1,1,1,1,1,1,1,1,1,1,1,1,1,1,1,1,1,1,1,1,1,1,1,1,1,1,1,1,1,1,1,1,1,1,1,1,1,1,1,1,1,1,1,1,1,1,1,1,1,1,1,1,1,1,1,1,1,1,1,1,1,1,1,1,1,1,1,1,1,1,1,1,1,1,1,1,1,1,1,1,1,1,1,1,1,1,1,1,1,1,1,1,1,1,1,1,1,1,1,1,1,1,1,1,1,1,1,1,1,1,1,1,1,1,1,1,1,1,1,1,1,1,1,1,1,1,1,1,1,1,1,1,1,1,1,1,1,1,1,1,1,1,1,1,1,1,1,1,1,1,1,1,1,1,1,1,1,1,1,1,1,1,1,1,1,1,1,1,1,1,1,1,1,1,1,1,1,1,1,1,1,1,1,1,1,1,1,1,1,1,1,1,1,1,1,1,1,1,1,1,1,1,1,1,1,1,1,1,1,1,1,1,1,1,1,1,1,1,1,1,1,1,1,1,1,1,1,1,1,1,1,1,1,1,1,1,1,1,1,1,1,1,1,1,1,1,1,1,1,1,1,1,1,1,1,1,1,1,1,1,1,1,1,1,1,1,1,1,1,1,1,1,1,1,1,1,1,1,1,1,1,1,1,1,1,1,1,1,1,1,1,1,1,1,1,1,1,1,1,1,1,1,1,1,1,1,1,1,1,1,1,1,1,1,1,1,1,1,1,1,1,1,1,1,1,1,1,1,1,1,1,1,1,1,1,1,1,1,1,1,1,1,1,1,1,1,1,1,1,1,1,1,1,1,1,1,1,1,1,1,1,1,1,1,1,1,1,1,1,1,1,1,1,1,1,1,1,1,1,1,1,1,1,1,1,1,1,1,1,1,1,1,1,1,1,1,1,1,1,1,1,1,1,1,1,1,1,1,1,1,1,1,1,1,1,1,1,1,1,1,1,1,1,1,1,1,1,1,1,1,1,1,1,1,1,1,1,1,1,1,1,1,1,1,1,1,1,1,1,1,1,1,1,1,1,1,1,1,1,1,1,1,1,1,1,1,1,1,1,1,1,1,1,1,1,1,1,1,1,1,1,1,1,1,1,1,1,1,1,1,1,1,1,1,1,1,1,1,1,1,1,1,1,1,1,1,1,1,1,1,1,1,1,1,1,1,1,1,1,1,1,1,1,1,1,1,1,1,1,1,1,1,1,1,1,1,1,1,1,1,1,1,1,1,1,1,1,1,1,1,1,1,1,1,1,1,1,1,1,1,1,1,1,1,1,1,1,1,1,1,1,1,1,1,1,1,1,1,1,1,1,1,1,1,1,1,1,1,1,1,1,1,1,1,1,1,1,1,1,1,1,1,1,1,1,1,1,1,1,1,1,1,1,1,1,1,1,1,1,1,1,1,1,1,1,1,1,1,1,1,1,1,1,1,1,1,1,1,1,1,1,1,1,1,1,1,1,1,1,1,1,1,1,1,1,1,1,1,1,1,1,1,1,1,1,1,1,1,1,1,1,1,1,1,1,1,1,1,1,1,1,1,1,1,1,1,1,1,1,1,1,1,1,1,1,1,1,1,1,1,1,1,1,1,1,1,1,1,1,1,1,1,1,1,1,1,1,1,1,1,1,1,1,1,1,1,1,1,1,1,1,1,1,1,1,1,1,1,1,1,1,1,1,1,1,1,1,1,1,1,1,1,1,1,1,1,1,1,1,1,1,1,1,1,1,1,1,1,1,1,1,1,1,1,1,1,1,1,1,1,1,1,1,1,1,1,1,1,1,1,1,1,1,1,1,1,1,1,1,1,1,1,1,1,1,1,1,1,1,1,1,1,1,1,1,1,1,1,1,1,1,1,1,1,1,1,1,1,1,1,1,1,1,1,1,1,1,1,1,1,1,1,1,1,1,1,1,1,1,1,1,1,1,1,1,1,1,1,1,1,1,1,1,1,1,1,1,1,1,1,1,1,1,1,1,1,1,1,1,1,1,1,1,1,1,1,1,1,1,1,1,1,1,1,1,1,1,1,1,1,1,1,1,1,1,1,1,1,1,1,1,1,1,1,1,1,1,1,1,1,1,1,1,1,1,1,1,1,1,1,1,1,1,1,1,1,1,1,1,1,1,1,1,1,1,1,1,1,1,1,1,1,1,1,1,1,1,1,1,1,1,1,1,1,1,1,1,1,1,1,1,1,1,1,1,1,1,1,1,1,1,1,1,1,1,1,1,1,1,1,1,1,1,1,1,1,1,1,1,1,1,1,1,1,1,1,1,1,1,1,1,1,1,1,1,1,1,1,1,1,1,1,1,1,1,1,1,1,1,1,1,1,1,1,1,1,1,1,1,1,1,1,1,1,1,1,1,1,1,1,1,1,1,1,1,1,1,1,1,1,1,1,1,1,1,1,1,1,1,1,1,1,1,1,1,1,1,1,1,1,1,1,1,1,1,1,1,1,1,1,1,1,1,1,1,1,1,1,1,1,1,1,1,1,1,1,1,1,1,1,1,1,1,1,1,1,1,1,1,1,1,1,1,1,1,1,1,1,1,1,1,1,1,1,1,1,1,1,1,1,1,1,1,1,1,1,1,1,1,1,1,1,1,1,1,1,1,1,1,1,1,1,1,1,1,1,1,1,1,1,1,1,1,1,1,1,1,1,1,1,1,1,1,1,1,1,1,1,1,1,1,1,1,1,1,1,1,1,1,1,1,1,1,1,1,1,1,1,1,1,1,1,1,1,1,1,1,1,1,1,1,1,1,1,1,1,1,1,1,1,1,1,1,1,1,1,1,1,1,1,1,1,1,1,1,1,1,1,1,1,1,1,1,1,1,1,1,1,1,1,1,1,1,1,1,1,1,1,1,1,1,1,1,1,1,1,1,1,1,1,1,1,1,1,1,1,1,1,1,1,1,1,1,1,1,1,1,1,1,1,1,1,1,1,1,1,1,1,1,1,1,1,1,1,1,1,1,1,1,1,1,1,1,1,1,1,1,1,1,1,1,1,1,1,1,1,1,1,1,1,1,1,1,1,1,1,1,1,1,1,1,1,1,1,1,1,1,1,1,1,1,1,1,1,1,1,1,1,1,1,1,1,1,1,1,1,1,1,1,1,1,1,1,1,1,1,1,1,1,1,1,1,1,1,1,1,1,1,1,1,1,1,1,1,1,1,1,1,1,1,1,1,1,1,1,1,1,1,1,1,1,1,1,1,1,1,1,1,1,1,1,1,1,1,1,1,1,1,1,1,1,1,1,1,1,1,1,1,1,1,1,1,1,1,1,1,1,1,1,1,1,1,1,1,1,1,1,1,1,1,1,1,1,1,1,1,1,1,1,1,1,1,1,1,1,1,1,1,1,1,1,1,1,1,1,1,1,1,1,1,1,1,1,1,1,1,1,1,1,1,1,1,1,1,1,1,1,1,1,1,1,1,1,1,1,1,1,1,1,1,1,1,1,1,1,1,1,1,1,1,1,1,1,1,1,1,1,1,1,1,1,1,1,1,1,1,1,1,1,1,1,1,1,1,1,1,1,1,1,1,1,1,1,1,1,1,1,1,1,1,1,1,1,1,1,1,1,1,1,1,1,1,1,1,1,1,1,1,1,1,1,1,1,1,1,1,1,1,1,1,1,1,1,1,1,1,1,1,1,1,1,1,1,1,1,1,1,1,1,1,1,1,1,1,1,1,1,1,1,1,1,1,1,1,1,1,1,1,1,1,1,1,1,1,1,1,1,1,1,1,1,1,1,1,1,1,1,1,1,1,1,1,1,1,1,1,1,1,1,1,1,1,1,1,1,1,1,1,1,1,1,1,1,1,1,1,1,1,1,1,1,1,1,1,1,1,1,1,1,1,1,1,1,1,1,1,1,1,1,1,1,1,1,1,1,1,1,1,1,1,1,1,1,1,1,1,1,1,1,1,1,1,1,1,1,1,1,1,1,1,1,1,1,1,1,1,1,1,1,1,1,1,1,1,1,1,1,1,1,1,1,1,1,1,1,1,1,1,1,1,1,1,1,1,1,1,1,1,1,1,1,1,1,1,1,1,1,1,1,1,1,1,1,1,1,1,1,1,1,1,1,1,1,1,1,1,1,1,1,1,1,1,1,1,1,1,1,1,1,1,1,1,1,1,1,1,1,1,1,1,1,1,1,1,1,1,1,1,1,1,1,1,1,1,1,1,1,1,1,1,1,1,1,1,1,1,1,1,1,1,1,1,1,1,1,1,1,1,1,1,1,1,1,1,1,1,1,1,1,1,1,1,1,1,1,1,1,1,1,1,1,1,1,1,1,1,1,1,1,1,1,1,1,1,1,1,1,1,1,1,1,1,1,1,1,1,1,1,1,1,1,1,1,1,1,1,1,1,1,1,1,1,1,1,1,1,1,1,1,1,1,1,1,1,1,1,1,1,1,1,1,1,1,1,1,1,1,1,1,1,1,1,1,1,1,1,1,1,1,1,1,1,1,1,1,1,1,1,1,1,1,1,1,1,1,1,1,1,1,1,1,1,1,1,1,1,1,1,1,1,1,1,1,1,1,1,1,1,1,1,1,1,1,1,1,1,1,1,1,1,1,1,1,1,1,1,1,1,1,1,1,1,1,1,1,1,1,1,1,1,1,1,1,1,1,1,1,1,1,1,1,1,1,1,1,1,1,1,1,1,1,1,1,1,1,1,1,1,1,1,1,1,1,1,1,1,1,1,1,1,1,1,1,1,1,1,1,1,1,1,1,1,1,1,1,1,1,1,1,1,1,1,1,1,1,1,1,1,1,1,1,1,1,1,1,1,1,1,1,1,1,1,1,1,1,1,1,1,1,1,1,1,1,1,1,1,1,1,1,1,1,1,1,1,1,1,1,1,1,1,1,1,1,1,1,1,1,1,1,1,1,1,1,1,1,1,1,1,1,1,1,1,1,1,1,1,1,1,1,1,1,1,1,1,1,1,1,1,1,1,1,1,1,1,1,1,1,1,1,1,1,1,1,1,1,1,1,1,1,1,1,1,1,1,1,1,1,1,1,1,1,1,1,1,1,1,1,1,1,1,1,1,1,1,1,1,1,1,1,1,1,1,1,1,1,1,1,1,1,1,1,1,1,1,1,1,1,1,1,1,1,1,1,1,1,1,1,1,1,1,1,1,1,1,1,1,1,1,1,1,1,1,1,1,1,1,1,1,1,1,1,1,1,1,1,1,1,1,1,1,1,1,1,1,1,1,1,1,1,1,1,1,1,1,1,1,1,1,1,1,1,1,1,1,1,1,1,1,1,1,1,1,1,1,1,1,1,1,1,1,1,1,1,1,1,1,1,1,1,1,1,1,1,1,1,1,1,1,1,1,1,1,1,1,1,1,1,1,1,1,1,1,1,1,1,1,1,1,1,1,1,1,1,1,1,1,1,1,1,1,1,1,1,1,1,1,1,1,1,1,1,1,1,1,1,1,1,1,1,1,1,1,1,1,1,1,1,1,1,1,1,1,1,1,1,1,1,1,1,1,1,1,1,1,1,1,1,1,1,1,1,1,1,1,1,1,1,1,1,1,1,1,1,1,1,1,1,1,1,1,1,1,1,1,1,1,1,1,1,1,1,1,1,1,1,1,1,1,1,1,1,1,1,1,1,1,1,1,1,1,1,1,1,1,1,1,1,1,1,1,1,1,1,1,1,1,1,1,1,1,1,1,1,1,1,1,1,1,1,1,1,1,1,1,1,1,1,1,1,1,1,1,1,1,1,1,1,1,1,1,1,1,1,1,1,1,1,1,1,1,1,1,1,1,1,1,1,1,1,1,1,1,1,1,1,1,1,1,1,1,1,1,1,1,1,1,1,1,1,1,1,1,1,1,1,1,1,1,1,1,1,1,1,1,1,1,1,1,1,1,1,1,1,1,1,1,1,1,1,1,1,1,1,1,1,1,1,1,1,1,1,1,1,1,1,1,1,1,1,1,1,1,1,1,1,1,1,1,1,1,1,1,1,1,1,1,1,1,1,1,1,1,1,1,1,1,1,1,1,1,1,1,1,1,1,1,1,1,1,1,1,1,1,1,1,1,1,1,1,1,1,1,1,1,1,1,1,1,1,1,1,1,1,1,1,1,1,1,1,1,1,1,1,1,1,1,1,1,1,1,1,1,1,1,1,1,1,1,1,1,1,1,1,1,1,1,1,1,1,1,1,1,1,1,1,1,1,1,1,1,1,1,1,1,1,1,1,1,1,1,1,1,1,1,1,1,1,1,1,1,1,1,1,1,1,1,1,1,1,1,1,1,1,1,1,1,1,1,1,1,1,1,1,1,1,1,1,1,1,1,1,1,1,1,1,1,1,1,1,1,1,1,1,1,1,1,1,1,1,1,1,1,1,1,1,1,1,1,1,1,1,1,1,1,1,1,1,1,1,1,1,1,1,1,1,1,1,1,1,1,1,1,1,1,1,1,1,1,1,1,1,1,1,1,1,1,1,1,1,1,1,1,1,1,1,1,1,1,1,1,1,1,1,1,1,1,1,1,1,1,1,1,1,1,1,1,1,1,1,1,1,1,1,1,1,1,1,1,1,1,1,1,1,1,1,1,1,1,1,1,1,1,1,1,1,1,1,1,1,1,1,1,1,1,1,1,1,1,1,1,1,1,1,1,1,1,1,1,1,1,1,1,1,1,1,1,1,1,1,1,1,1,1,1,1,1,1,1,1,1,1,1,1,1,1,1,1,1,1,1,1,1,1,1,1,1,1,1,1,1,1,1,1,1,1,1,1,1,1,1,1,1,1,1,1,1,1,1,1,1,1,1,1,1,1,1,1,1,1,1,1,1,1,1,1,1,1,1,1,1,1,1,1,1,1,1,1,1,1,1,1,1,1,1,1,1,1,1,1,1,1,1,1,1,1,1,1,1,1,1,1,1,1,1,1,1,1,1,1,1,1,1,1,1,1,1,1,1,1,1,1,1,1,1,1,1,1,1,1,1,1,1,1,1,1,1,1,1,1,1,1,1,1,1,1,1,1,1,1,1,1,1,1,1,1,1,1,1,1,1,1,1,1,1,1,1,1,1,1,1,1,1,1,1,1,1,1,1,1,1,1,1,1,1,1,1,1,1,1,1,1,1,1,1,1,1,1,1,1,1,1,1,1,1,1,1,1,1,1,1,1,1,1,1,1,1,1,1,1,1,1,1,1,1,1,1,1,1,1,1,1,1,1,1,1,1,1,1,1,1,1,1,1,1,1,1,1,1,1,1,1,1,1,1,1,1,1,1,1,1,1,1,1,1,1,1,1,1,1,1,1,1,1,1,1,1,1,1,1,1,1,1,1,1,1,1,1,1,1,1,1,1,1,1,1,1,1,1,1,1,1,1,1,1,1,1,1,1,1,1,1,1,1,1,1,1,1,1,1,1,1,1,1,1,1,1,1,1,1,1,1,1,1,1,1,1,1,1,1,1,1,1,1,1,1,1,1,1,1,1,1,1,1,1,1,1,1,1,1,1,1,1,1,1,1,1,1,1,1,1,1,1,1,1,1,1,1,1,1,1,1,1,1,1,1,1,1,1,1,1,1,1,1,1,1,1,1,1,1,1,1,1,1,1,1,1,1,1,1,1,1,1,1,1,1,1,1,1,1,1,1,1,1,1,1,1,1,1,1,1,1,1,1,1,1,1,1,1,1,1,1,1,1,1,1,1,1,1,1,1,1,1,1,1,1,1,1,1,1,1,1,1,1,1,1,1,1,1,1,1,1,1,1,1,1,1,1,1,1,1,1,1,1,1,1,1,1,1,1,1,1,1,1,1,1,1,1,1,1,1,1,1,1,1,1,1,1,1,1,1,1,1,1,1,1,1,1,1,1,1,1,1,1,1,1,1,1,1,1,1,1,1,1,1,1,1,1,1,1,1,1,1,1,1,1,1,1,1,1,1,1,1,1,1,1,1,1,1,1,1,1,1,1,1,1,1,1,1,1,1,1,1,1,1,1,1,1,1,1,1,1,1,1,1,1,1,1,1,1,1,1,1,1,1,1,1,1,1,1,1,1,1,1,1,1,1,1,1,1,1,1,1,1,1,1,1,1,1,1,1,1,1,1,1,1,1,1,1,1,1,1,1,1,1,1,1,1,1,1,1,1,1,1,1,1,1,1,1,1,1,1,1,1,1,1,1,1,1,1,1,1,1,1,1,1,1,1,1,1,1,1,1,1,1,1,1,1,1,1,1,1,1,1,1,1,1,1,1,1,1,1,1,1,1,1,1,1,1,1,1,1,1,1,1,1,1,1,1,1,1,1,1,1,1,1,1,1,1,1,1,1,1,1,1,1,1,1,1,1,1,1,1,1,1,1,1,1,1,1,1,1,1,1,1,1,1,1,1,1,1,1,1,1,1,1,1,1,1,1,1,1,1,1,1,1,1,1,1,1,1,1,1,1,1,1,1,1,1,1,1,1,1,1,1,1,1,1,1,1,1,1,1,1,1,1,1,1,1,1,1,1,1,1,1,1,1,1,1,1,1,1,1,1,1,1,1,1,1,1,1,1,1,1,1,1,1,1,1,1,1,1,1,1,1,1,1,1,1,1,1,1,1,1,1,1,1,1,1,1,1,1,1,1,1,1,1,1,1,1,1,1,1,1,1,1,1,1,1,1,1,1,1,1,1,1,1,1,1,1,1,1,1,1,1,1,1,1,1,1,1,1,1,1,1,1,1,1,1,1,1,1,1,1,1,1,1,1,1,1,1,1,1,1,1,1,1,1,1,1,1,1,1,1,1,1,1,1,1,1,1,1,1,1,1,1,1,1,1,1,1,1,1,1,1,1,1,1,1,1,1,1,1,1,1,1,1,1,1,1,1,1,1,1,1,1,1,1,1,1,1,1,1,1,1,1,1,1,1,1,1,1,1,1,1,1,1,1,1,1,1,1,1,1,1,1,1,1,1,1,1,1,1,1,1,1,1,1,1,1,1,1,1,1,1,1,1,1,1,1,1,1,1,1,1,1,1,1,1,1,1,1,1,1,1,1,1,1,1,1,1,1,1,1,1,1,1,1,1,1,1,1,1,1,1,1,1,1,1,1,1,1,1,1,1,1,1,1,1,1,1,1,1,1,1,1,1,1,1,1,1,1,1,1,1,1,1,1,1,1,1,1,1,1,1,1,1,1,1,1,1,1,1,1,1,1,1,1,1,1,1,1,1,1,1,1,1,1,1,1,1,1,1,1,1,1,1,1,1,1,1,1,1,1,1,1,1,1,1,1,1,1,1,1,1,1,1,1,1,1,1,1,1,1,1,1,1,1,1,1,1,1,1,1,1,1,1,1,1,1,1,1,1,1,1,1,1,1,1,1,1,1,1,1,1,1,1,1,1,1,1,1,1,1,1,1,1,1,1,1,1,1,1,1,1,1,1,1,1,1,1,1,1,1,1,1,1,1,1,1,1,1,1,1,1,1,1,1,1,1,1,1,1,1,1,1,1,1,1,1,1,1,1,1,1,1,1,1,1,1,1,1,1,1,1,1,1,1,1,1,1,1,1,1,1,1,1,1,1,1,1,1,1,1,1,1,1,1,1,1,1,1,1,1,1,1,1,1,1,1,1,1,1,1,1,1,1,1,1,1,1,1,1,1,1,1,1,1,1,1,1,1,1,1,1,1,1,1,1,1,1,1,1,1,1,1,1,1,1,1,1,1,1,1,1,1,1,1,1,1,1,1,1,1,1,1,1,1,1,1,1,1,1,1,1,1,1,1,1,1,1,1,1,1,1,1,1,1,1,1,1,1,1,1,1,1,1,1,1,1,1,1,1,1,1,1,1,1,1,1,1,1,1,1,1,1,1,1,1,1,1,1,1,1,1,1,1,1,1,1,1,1,1,1,1,1,1,1,1,1,1,1,1,1,1,1,1,1,1,1,1,1,1,1,1,1,1,1,1,1,1,1,1,1,1,1,1,1,1,1,1,1,1,1,1,1,1,1,1,1,1,1,1,1,1,1,1,1,1,1,1,1,1,1,1,1,1,1,1,1,1,1,1,1,1,1,1,1,1,1,1,1,1,1,1,1,1,1,1,1,1,1,1,1,1,1,1,1,1,1,1,1,1,1,1,1,1,1,1,1,1,1,1,1,1,1,1,1,1,1,1,1,1,1,1,1,1,1,1,1,1,1,1,1,1,1,1,1,1,1,1,1,1,1,1,1,1,1,1,1,1,1,1,1,1,1,1,1,1,1,1,1,1,1,1,1,1,1,1,1,1,1,1,1,1,1,1,1,1,1,1,1,1,1,1,1,1,1,1,1,1,1,1,1,1,1,1,1,1,1,1,1,1,1,1,1,1,1,1,1,1,1,1,1,1,1,1,1,1,1,1,1,1,1,1,1,1,1,1,1,1,1,1,1,1,1,1,1,1,1,1,1,1,1,1,1,1,1,1,1,1,1,1,1,1,1,1,1,1,1,1,1,1,1,1,1,1,1,1,1,1,1,1,1,1,1,1,1,1,1,1,1,1,1,1,1,1,1,1,1,1,1,1,1,1,1,1,1,1,1,1,1,1,1,1,1,1,1,1,1,1,1,1,1,1,1,1,1,1,1,1,1,1,1,1,1,1,1,1,1,1,1,1,1,1,1,1,1,1,1,1,1,1,1,1,1,1,1,1,1,1,1,1,1,1,1,1,1,1,1,1,1,1,1,1,1,1,1,1,1,1,1,1,1,1,1,1,1,1,1,1,1,1,1,1,1,1,1,1,1,1,1,1,1,1,1,1,1,1,1,1,1,1,1,1,1,1,1,1,1,1,1,1,1,1,1,1,1,1,1,1,1,1,1,1,1,1,1,1,1,1,1,1,1,1,1,1,1,1,1,1,1,1,1,1,1,1,1,1,1,1,1,1,1,1,1,1,1,1,1,1,1,1,1,1,1,1,1,1,1,1,1,1,1,1,1,1,1,1,1,1,1,1,1,1,1,1,1,1,1,1,1,1,1,1,1,1,1,1,1,1,1,1,1,1,1,1,1,1,1,1,1,1,1,1,1,1,1,1,1,1,1,1,1,1,1,1,1,1,1,1,1,1,1,1,1,1,1,1,1,1,1,1,1,1,1,1,1,1,1,1,1,1,1,1,1,1,1,1,1,1,1,1,1,1,1,1,1,1,1,1,1,1,1,1,1,1,1,1,1,1,1,1,1,1,1,1,1,1,1,1,1,1,1,1,1,1,1,1,1,1,1,1,1,1,1,1,1,1,1,1,1,1,1,1,1,1,1,1,1,1,1,1,1,1,1,1,1,1,1,1,1,1,1,1,1,1,1,1,1,1,1,1,1,1,1,1,1,1,1,1,1,1,1,1,1,1,1,1,1,1,1,1,1,1,1,1,1,1,1,1,1,1,1,1,1,1,1,1,1,1,1,1,1,1,1,1,1,1,1,1,1,1,1,1,1,1,1,1,1,1,1,1,1,1,1,1,1,1,1,1,1,1,1,1,1,1,1,1,1,1,1,1,1,1,1,1,1,1,1,1,1,1,1,1,1,1,1,1,1,1,1,1,1,1,1,1,1,1,1,1,1,1,1,1,1,1,1,1,1,1,1,1,1,1,1,1,1,1,1,1,1,1,1,1,1,1,1,1,1,1,1,1,1,1,1,1,1,1,1,1,1,1,1,1,1,1,1,1,1,1,1,1,1,1,1,1,1,1,1,1,1,1,1,1,1,1,1,1,1,1,1,1,1,1,1,1,1,1,1,1,1,1,1,1,1,1,1,1,1,1,1,1,1,1,1,1,1,1,1,1,1,1,1,1,1,1,1,1,1,1,1,1,1,1,1,1,1,1,1,1,1,1,1,1,1,1,1,1,1,1,1,1,1,1,1,1,1,1,1,1,1,1,1,1,1,1,1,1,1,1,1,1,1,1,1,1,1,1,1,1,1,1,1,1,1,1,1,1,1,1,1,1,1,1,1,1,1,1,1,1,1,1,1,1,1,1,1,1,1,1,1,1,1,1,1,1,1,1,1,1,1,1,1,1,1,1,1,1,1,1,1,1,1,1,1,1,1,1,1,1,1,1,1,1,1,1,1,1,1,1,1,1,1,1,1,1,1,1,1,1,1,1,1,1,1,1,1,1,1,1,1,1,1,1,1,1,1,1,1,1,1,1,1,1,1,1,1,1,1,1,1,1,1,1,1,1,1,1,1,1,1,1,1,1,1,1,1,1,1,1,1,1,1,1,1,1,1,1,1,1,1,1,1,1,1,1,1,1,1,1,1,1,1,1,1,1,1,1,1,1,1,1,1,1,1,1,1,1,1,1,1,1,1,1,1,1,1,1,1,1,1,1,1,1,1,1,1,1,1,1,1,1,1,1,1,1,1,1,1,1,1,1,1,1,1,1,1,1,1,1,1,1,1,1,1,1,1,1,1,1,1,1,1,1,1,1,1,1,1,1,1,1,1,1,1,1,1,1,1,1,1,1,1,1,1,1,1,1,1,1,1,1,1,1,1,1,1,1,1,1,1,1,1,1,1,1,1,1,1,1,1,1,1,1,1,1,1,1,1,1,1,1,1,1,1,1,1,1,1,1,1,1,1,1,1,1,1,1,1,1,1,1,1,1,1,1,1,1,1,1,1,1,1,1,1,1,1,1,1,1,1,1,1,1,1,1,1,1,1,1,1,1,1,1,1,1,1,1,1,1,1,1,1,1,1,1,1,1,1,1,1,1,1,1,1,1,1,1,1,1,1,1,1,1,1,1,1,1,1,1,1,1,1,1,1,1,1,1,1,1,1,1,1,1,1,1,1,1,1,1,1,1,1,1,1,1,1,1,1,1,1,1,1,1,1,1,1,1,1,1,1,1,1,1,1,1,1,1,1,1,1,1,1,1,1,1,1,1,1,1,1,1,1,1,1,1,1,1,1,1,1,1,1,1,1,1,1,1,1,1,1,1,1,1,1,1,1,1,1,1,1,1,1,1,1,1,1,1,1,1,1,1,1,1,1,1,1,1,1,1,1,1,1,1,1,1,1,1,1,1,1,1,1,1,1,1,1,1,1,1,1,1,1,1,1,1,1,1,1,1,1,1,1,1,1,1,1,1,1,1,1,1,1,1,1,1,1,1,1,1,1,1,1,1,1,1,1,1,1,1,1,1,1,1,1,1,1,1,1,1,1,1,1,1,1,1,1,1,1,1,1,1,1,1,1,1,1,1,1,1,1,1,1,1,1,1,1,1,1,1,1,1,1,1,1,1,1,1,1,1,1,1,1,1,1,1,1,1,1,1,1,1,1,1,1,1,1,1,1,1,1,1,1,1,1,1,1,1,1,1,1,1,1,1,1,1,1,1,1,1,1,1,1,1,1,1,1,1,1,1,1,1,1,1,1,1,1,1,1,1,1,1,1,1,1,1,1,1,1,1,1,1,1,1,1,1,1,1,1,1,1,1,1,1,1,1,1,1,1,1,1,1,1,1,1,1,1,1,1,1,1,1,1,1,1,1,1,1,1,1,1,1,1,1,1,1,1,1,1,1,1,1,1,1,1,1,1,1,1,1,1,1,1,1,1,1,1,1,1,1,1,1,1,1,1,1,1,1,1,1,1,1,1,1,1,1,1,1,1,1,1,1,1,1,1,1,1,1,1,1,1,1,1,1,1,1,1,1,1,1,1,1,1,1,1,1,1,1,1,1,1,1,1,1,1,1,1,1,1,1,1,1,1,1,1,1,1,1,1,1,1,1,1,1,1,1,1,1,1,1,1,1,1,1,1,1,1,1,1,1,1,1,1,1,1,1,1,1,1,1,1,1,1,1,1,1,1,1,1,1,1,1,1,1,1,1,1,1,1,1,1,1,1,1,1,1,1,1,1,1,1,1,1,1,1,1,1,1,1,1,1,1,1,1,1,1,1,1,1,1,1,1,1,1,1,1,1,1,1,1,1,1,1,1,1,1,1,1,1,1,1,1,1,1,1,1,1,1,1,1,1,1,1,1,1,1,1,1,1,1,1,1,1,1,1,1,1,1,1,1,1,1,1,1,1,1,1,1,1,1,1,1,1,1,1,1,1,1,1,1,1,1,1,1,1,1,1,1,1,1,1,1,1,1,1,1,1,1,1,1,1,1,1,1,1,1,1,1,1,1,1,1,1,1,1,1,1,1,1,1,1,1,1,1,1,1,1,1,1,1,1,1,1,1,1,1,1,1,1,1,1,1,1,1,1,1,1,1,1,1,1,1,1,1,1,1,1,1,1,1,1,1,1,1,1,1,1,1,1,1,1,1,1,1,1,1,1,1,1,1,1,1,1,1,1,1,1,1,1,1,1,1,1,1,1,1,1,1,1,1,1,1,1,1,1,1,1,1,1,1,1,1,1,1,1,1,1,1,1,1,1,1,1,1,1,1,1,1,1,1,1,1,1,1,1,1,1,1,1,1,1,1,1,1,1,1,1,1,1,1,1,1,1,1,1,1,1,1,1,1,1,1,1,1,1,1,1,1,1,1,1,1,1,1,1,1,1,1,1,1,1,1,1,1,1,1,1,1,1,1,1,1,1,1,1,1,1,1,1,1,1,1,1,1,1,1,1,1,1,1,1,1,1,1,1,1,1,1,1,1,1,1,1,1,1,1,1,1,1,1,1,1,1,1,1,1,1,1,1,1,1,1,1,1,1,1,1,1,1,1,1,1,1,1,1,1,1,1,1,1,1,1,1,1,1,1,1,1,1,1,1,1,1,1,1,1,1,1,1,1,1,1,1,1,1,1,1,1,1,1,1,1,1,1,1,1,1,1,1,1,1,1,1,1,1,1,1,1,1,1,1,1,1,1,1,1,1,1,1,1,1,1,1,1,1,1,1,1,1,1,1,1,1,1,1,1,1,1,1,1,1,1,1,1,1,1,1,1,1,1,1,1,1,1,1,1,1,1,1,1,1,1,1,1,1,1,1,1,1,1,1,1,1,1,1,1,1,1,1,1,1,1,1,1,1,1,1,1,1,1,1,1,1,1,1,1,1,1,1,1,1,1,1,1,1,1,1,1,1,1,1,1,1,1,1,1,1,1,1,1,1,1,1,1,1,1,1,1,1,1,1,1,1,1,1,1,1,1,1,1,1,1,1,1,1,1,1,1,1,1,1,1,1,1,1,1,1,1,1,1,1,1,1,1,1,1,1,1,1,1,1,1,1,1,1,1,1,1,1,1,1,1,1,1,1,1,1,1,1,1,1,1,1,1,1,1,1,1,1,1,1,1,1,1,1,1,1,1,1,1,1,1,1,1,1,1,1,1,1,1,1,1,1,1,1,1,1,1,1,1,1,1,1,1,1,1,1,1,1,1,1,1,1,1,1,1,1,1,1,1,1,1,1,1,1,1,1,1,1,1,1,1,1,1,1,1,1,1,1,1,1,1,1,1,1,1,1,1,1,1,1,1,1,1,1,1,1,1,1,1,1,1,1,1,1,1,1,1,1,1,1,1,1,1,1,1,1,1,1,1,1,1,1,1,1,1,1,1,1,1,1,1,1,1,1,1,1,1,1,1,1,1,1,1,1,1,1,1,1,1,1,1,1,1,1,1,1,1,1,1,1,1,1,1,1,1,1,1,1,1,1,1,1,1,1,1,1,1,1,1,1,1,1,1,1,1,1,1,1,1,1,1,1,1,1,1,1,1,1,1,1,1,1,1,1,1,1,1,1,1,1,1,1,1,1,1,1,1,1,1,1,1,1,1,1,1,1,1,1,1,1,1,1,1,1,1,1,1,1,1,1,1,1,1,1,1,1,1,1,1,1,1,1,1,1,1,1,1,1,1,1,1,1,1,1,1,1,1,1,1,1,1,1,1,1,1,1,1,1,1,1,1,1,1,1,1,1,1,1,1,1,1,1,1,1,1,1,1,1,1,1,1,1,1,1,1,1,1,1,1,1,1,1,1,1,1,1,1,1,1,1,1,1,1,1,1,1,1,1,1,1,1,1,1,1,1,1,1,1,1,1,1,1,1,1,1,1,1,1,1,1,1,1,1,1,1,1,1,1,1,1,1,1,1,1,1,1,1,1,1,1,1,1,1,1,1,1,1,1,1,1,1,1,1,1,1,1,1,1,1,1,1,1,1,1,1,1,1,1,1,1,1,1,1,1,1,1,1,1,1,1,1,1,1,1,1,1,1,1,1,1,1,1,1,1,1,1,1,1,1,1,1,1,1,1,1,1,1,1,1,1,1,1,1,1,1,1,1,1,1,1,1,1,1,1,1,1,1,1,1,1,1,1,1,1,1,1,1,1,1,1,1,1,1,1,1,1,1,1,1,1,1,1,1,1,1,1,1,1,1,1,1,1,1,1,1,1,1,1,1,1,1,1,1,1,1,1,1,1,1,1,1,1,1,1,1,1,1,1,1,1,1,1,1,1,1,1,1,1,1,1,1,1,1,1,1,1,1,1,1,1,1,1,1,1,1,1,1,1,1,1,1,1,1,1,1,1,1,1,1,1,1,1,1,1,1,1,1,1,1,1,1,1,1,1,1,1,1,1,1,1,1,1,1,1,1,1,1,1,1,1,1,1,1,1,1,1,1,1,1,1,1,1,1,1,1,1,1,1,1,1,1,1,1,1,1,1,1,1,1,1,1,1,1,1,1,1,1,1,1,1,1,1,1,1,1,1,1,1,1,1,1,1,1,1,1,1,1,1,1,1,1,1,1,1,1,1,1,1,1,1,1,1,1,1,1,1,1,1,1,1,1,1,1,1,1,1,1,1,1,1,1,1,1,1,1,1,1,1,1,1,1,1,1,1,1,1,1,1,1,1,1,1,1,1,1,1,1,1,1,1,1,1,1,1,1,1,1,1,1,1,1,1,1,1,1,1,1,1,1,1,1,1,1,1,1,1,1,1,1,1,1,1,1,1,1,1,1,1,1,1,1,1,1,1,1,1,1,1,1,1,1,1,1,1,1,1,1,1,1,1,1,1,1,1,1,1,1,1,1,1,1,1,1,1,1,1,1,1,1,1,1,1,1,1,1,1,1,1,1,1,1,1,1,1,1,1,1,1,1,1,1,1,1,1,1,1,1,1,1,1,1,1,1,1,1,1,1,1,1,1,1,1,1,1,1,1,1,1,1,1,1,1,1,1,1,1,1,1,1,1,1,1,1,1,1,1,1,1,1,1,1,1,1,1,1,1,1,1,1,1,1,1,1,1,1,1,1,1,1,1,1,1,1,1,1,1,1,1,1,1,1,1,1,1,1,1,1,1,1,1,1,1,1,1,1,1,1,1,1,1,1,1,1,1,1,1,1,1,1,1,1,1,1,1,1,1,1,1,1,1,1,1,1,1,1,1,1,1,1,1,1,1,1,1,1,1,1,1,1,1,1,1,1,1,1,1,1,1,1,1,1,1,1,1,1,1,1,1,1,1,1,1,1,1,1,1,1,1,1,1,1,1,1,1,1,1,1,1,1,1,1,1,1,1,1,1,1,1,1,1,1,1,1,1,1,1,1,1,1,1,1,1,1,1,1,1,1,1,1,1,1,1,1,1,1,1,1,1,1,1,1,1,1,1,1,1,1,1,1,1,1,1,1,1,1,1,1,1,1,1,1,1,1,1,1,1,1,1,1,1,1,1,1,1,1,1,1,1,1,1,1,1,1,1,1,1,1,1,1,1,1,1,1,1,1,1,1,1,1,1,1,1,1,1,1,1,1,1,1,1,1,1,1,1,1,1,1,1,1,1,1,1,1,1,1,1,1,1,1,1,1,1,1,1,1,1,1,1,1,1,1,1,1,1,1,1,1,1,1,1,1,1,1,1,1,1,1,1,1,1,1,1,1,1,1,1,1,1,1,1,1,1,1,1,1,1,1,1,1,1,1,1,1,1,1,1,1,1,1,1,1,1,1,1,1,1,1,1,1,1,1,1,1,1,1,1,1,1,1,1,1,1,1,1,1,1,1,1,1,1,1,1,1,1,1,1,1,1,1,1,1,1,1,1,1,1,1,1,1,1,1,1,1,1,1,1,1,1,1,1,1,1,1,1,1,1,1,1,1,1,1,1,1,1,1,1,1,1,1,1,1,1,1,1,1,1,1,1,1,1,1,1,1,1,1,1,1,1,1,1,1,1,1,1,1,1,1,1,1,1,1,1,1,1,1,1,1,1,1,1,1,1,1,1,1,1,1,1,1,1,1,1,1,1,1,1,1,1,1,1,1,1,1,1,1,1,1,1,1,1,1,1,1,1,1,1,1,1,1,1,1,1,1,1,1,1,1,1,1,1,1,1,1,1,1,1,1,1,1,1,1,1,1,1,1,1,1,1,1,1,1,1,1,1,1,1,1,1,1,1,1,1,1,1,1,1,1,1,1,1,1,1,1,1,1,1,1,1,1,1,1,1,1,1,1,1,1,1,1,1,1,1,1,1,1,1,1,1,1,1,1,1,1,1,1,1,1,1,1,1,1,1,1,1,1,1,1,1,1,1,1,1,1,1,1,1,1,1,1,1,1,1,1,1,1,1,1,1,1,1,1,1,1,1,1,1,1,1,1,1,1,1,1,1,1,1,1,1,1,1,1,1,1,1,1,1,1,1,1,1,1,1,1,1,1,1,1,1,1,1,1,1,1,1,1,1,1,1,1,1,1,1,1,1,1,1,1,1,1,1,1,1,1,1,1,1,1,1,1,1,1,1,1,1,1,1,1,1,1,1,1,1,1,1,1,1,1,1,1,1,1,1,1,1,1,1,1,1,1,1,1,1,1,1,1,1,1,1,1,1,1,1,1,1,1,1,1,1,1,1,1,1,1,1,1,1,1,1,1,1,1,1,1,1,1,1,1,1,1,1,1,1,1,1,1,1,1,1,1,1,1,1,1,1,1,1,1,1,1,1,1,1,1,1,1,1,1,1,1,1,1,1,1,1,1,1,1,1,1,1,1,1,1,1,1,1,1,1,1,1,1,1,1,1,1,1,1,1,1,1,1,1,1,1,1,1,1,1,1,1,1,1,1,1,1,1,1,1,1,1,1,1,1,1,1,1,1,1,1,1,1,1,1,1,1,1,1,1,1,1,1,1,1,1,1,1,1,1,1,1,1,1,1,1,1,1,1,1,1,1,1,1,1,1,1,1,1,1,1,1,1,1,1,1,1,1,1,1,1,1,1,1,1,1,1,1,1,1,1,1,1,1,1,1,1,1,1,1,1,1,1,1,1,1,1,1,1,1,1,1,1,1,1,1,1,1,1,1,1,1,1,1,1,1,1,1,1,1,1,1,1,1,1,1,1,1,1,1,1,1,1,1,1,1,1,1,1,1,1,1,1,1,1,1,1,1,1,1,1,1,1,1,1,1,1,1,1,1,1,1,1,1,1,1,1,1,1,1,1,1,1,1,1,1,1,1,1,1,1,1,1,1,1,1,1,1,1,1,1,1,1,1,1,1,1,1,1,1,1,1,1,1,1,1,1,1,1,1,1,1,1,1,1,1,1,1,1,1,1,1,1,1,1,1,1,1,1,1,1,1,1,1,1,1,1,1,1,1,1,1,1,1,1,1,1,1,1,1,1,1,1,1,1,1,1,1,1,1,1,1,1,1,1,1,1,1,1,1,1,1,1,1,1,1,1,1,1,1,1,1,1,1,1,1,1,1,1,1,1,1,1,1,1,1,1,1,1,1,1,1,1,1,1,1,1,1,1,1,1,1,1,1,1,1,1,1,1,1,1,1,1,1,1,1,1,1,1,1,1,1,1,1,1,1,1,1,1,1,1,1,1,1,1,1,1,1,1,1,1,1,1,1,1,1,1,1,1,1,1,1,1,1,1,1,1,1,1,1,1,1,1,1,1,1,1,1,1,1,1,1,1,1,1,1,1,1,1,1,1,1,1,1,1,1,1,1,1,1,1,1,1,1,1,1,1,1,1,1,1,1,1,1,1,1,1,1,1,1,1,1,1,1,1,1,1,1,1,1,1,1,1,1,1,1,1,1,1,1,1,1,1,1,1,1,1,1,1,1,1,1,1,1,1,1,1,1,1,1,1,1,1,1,1,1,1,1,1,1,1,1,1,1,1,1,1,1,1,1,1,1,1,1,1,1,1,1,1,1,1,1,1,1,1,1,1,1,1,1,1,1,1,1,1,1,1,1,1,1,1,1,1,1,1,1,1,1,1,1,1,1,1,1,1,1,1,1,1,1,1,1,1,1,1,1,1,1,1,1,1,1,1,1,1,1,1,1,1,1,1,1,1,1,1,1,1,1,1,1,1,1,1,1,1,1,1,1,1,1,1,1,1,1,1,1,1,1,1,1,1,1,1,1,1,1,1,1,1,1,1,1,1,1,1,1,1,1,1,1,1,1,1,1,1,1,1,1,1,1,1,1,1,1,1,1,1,1,1,1,1,1,1,1,1,1,1,1,1,1,1,1,1,1,1,1,1,1,1,1,1,1,1,1,1,1,1,1,1,1,1,1,1,1,1,1,1,1,1,1,1,1,1,1,1,1,1,1,1,1,1,1,1,1,1,1,1,1,1,1,1,1,1,1,1,1,1,1,1,1,1,1,1,1,1,1,1,1,1,1,1,1,1,1,1,1,1,1,1,1,1,1,1,1,1,1,1,1,1,1,1,1,1,1,1,1,1,1,1,1,1,1,1,1,1,1,1,1,1,1,1,1,1,1,1,1,1,1,1,1,1,1,1,1,1,1,1,1,1,1,1,1,1,1,1,1,1,1,1,1,1,1,1,1,1,1,1,1,1,1,1,1,1,1,1,1,1,1,1,1,1,1,1,1,1,1,1,1,1,1,1,1,1,1,1,1,1,1,1,1,1,1,1,1,1,1,1,1,1,1,1,1,1,1,1,1,1,1,1,1,1,1,1,1,1,1,1,1,1,1,1,1,1,1,1,1,1,1,1,1,1,1,1,1,1,1,1,1,1,1,1,1,1,1,1,1,1,1,1,1,1,1,1,1,1,1,1,1,1,1,1,1,1,1,1,1,1,1,1,1,1,1,1,1,1,1,1,1,1,1,1,1,1,1,1,1,1,1,1,1,1,1,1,1,1,1,1,1,1,1,1,1,1,1,1,1,1,1,1,1,1,1,1,1,1,1,1,1,1,1,1,1,1,1,1,1,1,1,1,1,1,1,1,1,1,1,1,1,1,1,1,1,1,1,1,1,1,1,1,1,1,1,1,1,1,1,1,1,1,1,1,1,1,1,1,1,1,1,1,1,1,1,1,1,1,1,1,1,1,1,1,1,1,1,1,1,1,1,1,1,1,1,1,1,1,1,1,1,1,1,1,1,1,1,1,1,1,1,1,1,1,1,1,1,1,1,1,1,1,1,1,1,1,1,1,1,1,1,1,1,1,1,1,1,1,1,1,1,1,1,1,1,1,1,1,1,1,1,1,1,1,1,1,1,1,1,1,1,1,1,1,1,1,1,1,1,1,1,1,1,1,1,1,1,1,1,1,1,1,1,1,1,1,1,1,1,1,1,1,1,1,1,1,1,1,1,1,1,1,1,1,1,1,1,1,1,1,1,1,1,1,1,1,1,1,1,1,1,1,1,1,1,1,1,1,1,1,1,1,1,1,1,1,1,1,1,1,1,1,1,1,1,1,1,1,1,1,1,1,1,1,1,1,1,1,1,1,1,1,1,1,1,1,1,1,1,1,1,1,1,1,1,1,1,1,1,1,1,1,1,1,1,1,1,1,1,1,1,1,1,1,1,1,1,1,1,1,1,1,1,1,1,1,1,1,1,1,1,1,1,1,1,1,1,1,1,1,1,1,1,1,1,1,1,1,1,1,1,1,1,1,1,1,1,1,1,1,1,1,1,1,1,1,1,1,1,1,1,1,1,1,1,1,1,1,1,1,1,1,1,1,1,1,1,1,1,1,1,1,1,1,1,1,1,1,1,1,1,1,1,1,1,1,1,1,1,1,1,1,1,1,1,1,1,1,1,1,1,1,1,1,1,1,1,1,1,1,1,1,1,1,1,1,1,1,1,1,1,1,1,1,1,1,1,1,1,1,1,1,1,1,1,1,1,1,1,1,1,1,1,1,1,1,1,1,1,1,1,1,1,1,1,1,1,1,1,1,1,1,1,1,1,1,1,1,1,1,1,1,1,1,1,1,1,1,1,1,1,1,1,1,1,1,1,1,1,1,1,1,1,1,1,1,1,1,1,1,1,1,1,1,1,1,1,1,1,1,1,1,1,1,1,1,1,1,1,1,1,1,1,1,1,1,1,1,1,1,1,1,1,1,1,1,1,1,1,1,1,1,1,1,1,1,1,1,1,1,1,1,1,1,1,1,1,1,1,1,1,1,1,1,1,1,1,1,1,1,1,1,1,1,1,1,1,1,1,1,1,1,1,1,1,1,1,1,1,1,1,1,1,1,1,1,1,1,1,1,1,1,1,1,1,1,1,1,1,1,1,1,1,1,1,1,1,1,1,1,1,1,1,1,1,1,1,1,1,1,1,1,1,1,1,1,1,1,1,1,1,1,1,1,1,1,1,1,1,1,1,1,1,1,1,1,1,1,1,1,1,1,1,1,1,1,1,1,1,1,1,1,1,1,1,1,1,1,1,1,1,1,1,1,1,1,1,1,1,1,1,1,1,1,1,1,1,1,1,1,1,1,1,1,1,1,1,1,1,1,1,1,1,1,1,1,1,1,1,1,1,1,1,1,1,1,1,1,1,1,1,1,1,1,1,1,1,1,1,1,1,1,1,1,1,1,1,1,1,1,1,1,1,1,1,1,1,1,1,1,1,1,1,1,1,1,1,1,1,1,1,1,1,1,1,1,1,1,1,1,1,1,1,1,1,1,1,1,1,1,1,1,1,1,1,1,1,1,1,1,1,1,1,1,1,1,1,1,1,1,1,1,1,1,1,1,1,1,1,1,1,1,1,1,1,1,1,1,1,1,1,1,1,1,1,1,1,1,1,1,1,1,1,1,1,1,1,1,1,1,1,1,1,1,1,1,1,1,1,1,1,1,1,1,1,1,1,1,1,1,1,1,1,1,1,1,1,1,1,1,1,1,1,1,1,1,1,1,1,1,1,1,1,1,1,1,1,1,1,1,1,1,1,1,1,1,1,1,1,1,1,1,1,1,1,1,1,1,1,1,1,1,1,1,1,1,1,1,1,1,1,1,1,1,1,1,1,1,1,1,1,1,1,1,1,1,1,1,1,1,1,1,1,1,1,1,1,1,1,1,1,1,1,1,1,1,1,1,1,1,1,1,1,1,1,1,1,1,1,1,1,1,1,1,1,1,1,1,1,1,1,1,1,1,1,1,1,1,1,1,1,1,1,1,1,1,1,1,1,1,1,1,1,1,1,1,1,1,1,1,1,1,1,1,1,1,1,1,1,1,1,1,1,1,1,1,1,1,1,1,1,1,1,1,1,1,1,1,1,1,1,1,1,1,1,1,1,1,1,1,1,1,1,1,1,1,1,1,1,1,1,1,1,1,1,1,1,1,1,1,1,1,1,1,1,1,1,1,1,1,1,1,1,1,1,1,1,1,1,1,1,1,1,1,1,1,1,1,1,1,1,1,1,1,1,1,1,1,1,1,1,1,1,1,1,1,1,1,1,1,1,1,1,1,1,1,1,1,1,1,1,1,1,1,1,1,1,1,1,1,1,1,1,1,1,1,1,1,1,1,1,1,1,1,1,1,1,1,1,1,1,1,1,1,1,1,1,1,1,1,1,1,1,1,1,1,1,1,1,1,1,1,1,1,1,1,1,1,1,1,1,1,1,1,1,1,1,1,1,1,1,1,1,1,1,1,1,1,1,1,1,1,1,1,1,1,1,1,1,1,1,1,1,1,1,1,1,1,1,1,1,1,1,1,1,1,1,1,1,1,1,1,1,1,1,1,1,1,1,1,1,1,1,1,1,1,1,1,1,1,1,1,1,1,1,1,1,1,1,1,1,1,1,1,1,1,1,1,1,1,1,1,1,1,1,1,1,1,1,1,1,1,1,1,1,1,1,1,1,1,1,1,1,1,1,1,1,1,1,1,1,1,1,1,1,1,1,1,1,1,1,1,1,1,1,1,1,1,1,1,1,1,1,1,1,1,1,1,1,1,1,1,1,1,1,1,1,1,1,1,1,1,1,1,1,1,1,1,1,1,1,1,1,1,1,1,1,1,1,1,1,1,1,1,1,1,1,1,1,1,1,1,1,1,1,1,1,1,1,1,1,1,1,1,1,1,1,1,1,1,1,1,1,1,1,1,1,1,1,1,1,1,1,1,1,1,1,1,1,1,1,1,1,1,1,1,1,1,1,1,1,1,1,1,1,1,1,1,1,1,1,1,1,1,1,1,1,1,1,1,1,1,1,1,1,1,1,1,1,1,1,1,1,1,1,1,1,1,1,1,1,1,1,1,1,1,1,1,1,1,1,1,1,1,1,1,1,1,1,1,1,1,1,1,1,1,1,1,1,1,1,1,1,1,1,1,1,1,1,1,1,1,1,1,1,1,1,1,1,1,1,1,1,1,1,1,1,1,1,1,1,1,1,1,1,1,1,1,1,1,1,1,1,1,1,1,1,1,1,1,1,1,1,1,1,1,1,1,1,1,1,1,1,1,1,1,1,1,1,1,1,1,1,1,1,1,1,1,1,1,1,1,1,1,1,1,1,1,1,1,1,1,1,1,1,1,1,1,1,1,1,1,1,1,1,1,1,1,1,1,1,1,1,1,1,1,1,1,1,1,1,1,1,1,1,1,1,1,1,1,1,1,1,1,1,1,1,1,1,1,1,1,1,1,1,1,1,1,1,1,1,1,1,1,1,1,1,1,1,1,1,1,1,1,1,1,1,1,1,1,1,1,1,1,1,1,1,1,1,1,1,1,1,1,1,1,1,1,1,1,1,1,1,1,1,1,1,1,1,1,1,1,1,1,1,1,1,1,1,1,1,1,1,1,1,1,1,1,1,1,1,1,1,1,1,1,1,1,1,1,1,1,1,1,1,1,1,1,1,1,1,1,1,1,1,1,1,1,1,1,1,1,1,1,1,1,1,1,1,1,1,1,1,1,1,1,1,1,1,1,1,1,1,1,1,1,1,1,1,1,1,1,1,1,1,1,1,1,1,1,1,1,1,1,1,1,1,1,1,1,1,1,1,1,1,1,1,1,1,1,1,1,1,1,1,1,1,1,1,1,1,1,1,1,1,1,1,1,1,1,1,1,1,1,1,1,1,1,1,1,1,1,1,1,1,1,1,1,1,1,1,1,1,1,1,1,1,1,1,1,1,1,1,1,1,1,1,1,1,1,1,1,1,1,1,1,1,1,1,1,1,1,1,1,1,1,1,1,1,1,1,1,1,1,1,1,1,1,1,1,1,1,1,1,1,1,1,1,1,1,1,1,1,1,1,1,1,1,1,1,1,1,1,1,1,1,1,1,1,1,1,1,1,1,1,1,1,1,1,1,1,1,1,1,1,1,1,1,1,1,1,1,1,1,1,1,1,1,1,1,1,1,1,1,1,1,1,1,1,1,1,1,1,1,1,1,1,1,1,1,1,1,1,1,1,1,1,1,1,1,1,1,1,1,1,1,1,1,1,1,1,1,1,1,1,1,1,1,1,1,1,1,1,1,1,1,1,1,1,1,1,1,1,1,1,1,1,1,1,1,1,1,1,1,1,1,1,1,1,1,1,1,1,1,1,1,1,1,1,1,1,1,1,1,1,1,1,1,1,1,1,1,1,1,1,1,1,1,1,1,1,1,1,1,1,1,1,1,1,1,1,1,1,1,1,1,1,1,1,1,1,1,1,1,1,1,1,1,1,1,1,1,1,1,1,1,1,1,1,1,1,1,1,1,1,1,1,1,1,1,1,1,1,1,1,1,1,1,1,1,1,1,1,1,1,1,1,1,1,1,1,1,1,1,1,1,1,1,1,1,1,1,1,1,1,1,1,1,1,1,1,1,1,1,1,1,1,1,1,1,1,1,1,1,1,1,1,1,1,1,1,1,1,1,1,1,1,1,1,1,1,1,1,1,1,1,1,1,1,1,1,1,1,1,1,1,1,1,1,1,1,1,1,1,1,1,1,1,1,1,1,1,1,1,1,1,1,1,1,1,1,1,1,1,1,1,1,1,1,1,1,1,1,1,1,1,1,1,1,1,1,1,1,1,1,1,1,1,1,1,1,1,1,1,1,1,1,1,1,1,1,1,1,1,1,1,1,1,1,1,1,1,1,1,1,1,1,1,1,1,1,1,1,1,1,1,1,1,1,1,1,1,1,1,1,1,1,1,1,1,1,1,1,1,1,1,1,1,1,1,1,1,1,1,1,1,1,1,1,1,1,1,1,1,1,1,1,1,1,1,1,1,1,1,1,1,1,1,1,1,1,1,1,1,1,1,1,1,1,1,1,1,1,1,1,1,1,1,1,1,1,1,1,1,1,1,1,1,1,1,1,1,1,1,1,1,1,1,1,1,1,1,1,1,1,1,1,1,1,1,1,1,1,1,1,1,1,1,1,1,1,1,1,1,1,1,1,1,1,1,1,1,1,1,1,1,1,1,1,1,1,1,1,1,1,1,1,1,1,1,1,1,1,1,1,1,1,1,1,1,1,1,1,1,1,1,1,1,1,1,1,1,1,1,1,1,1,1,1,1,1,1,1,1,1,1,1,1,1,1,1,1,1,1,1,1,1,1,1,1,1,1,1,1,1,1,1,1,1,1,1,1,1,1,1,1,1,1,1,1,1,1,1,1,1,1,1,1,1,1,1,1,1,1,1,1,1,1,1,1,1,1,1,1,1,1,1,1,1,1,1,1,1,1,1,1,1,1,1,1,1,1,1,1,1,1,1,1,1,1,1,1,1,1,1,1,1,1,1,1,1,1,1,1,1,1,1,1,1,1,1,1,1,1,1,1,1,1,1,1,1,1,1,1,1,1,1,1,1,1,1,1,1,1,1,1,1,1,1,1,1,1,1,1,1,1,1,1,1,1,1,1,1,1,1,1,1,1,1,1,1,1,1,1,1,1,1,1,1,1,1,1,1,1,1,1,1,1,1,1,1,1,1,1,1,1,1,1,1,1,1,1,1,1,1,1,1,1,1,1,1,1,1,1,1,1,1,1,1,1,1,1,1,1,1,1,1,1,1,1,1,1,1,1,1,1,1,1,1,1,1,1,1,1,1,1,1,1,1,1,1,1,1,1,1,1,1,1,1,1,1,1,1,1,1,1,1,1,1,1,1,1,1,1,1,1,1,1,1,1,1,1,1,1,1,1,1,1,1,1,1,1,1,1,1,1,1,1,1,1,1,1,1,1,1,1,1,1,1,1,1,1,1,1,1,1,1,1,1,1,1,1,1,1,1,1,1,1,1,1,1,1,1,1,1,1,1,1,1,1,1,1,1,1,1,1,1,1,1,1,1,1,1,1,1,1,1,1,1,1,1,1,1,1,1,1,1,1,1,1,1,1,1,1,1,1,1,1,1,1,1,1,1,1,1,1,1,1,1,1,1,1,1,1,1,1,1,1,1,1,1,1,1,1,1,1,1,1,1,1,1,1,1,1,1,1,1,1,1,1,1,1,1,1,1,1,1,1,1,1,1,1,1,1,1,1,1,1,1,1,1,1,1,1,1,1,1,1,1,1,1,1,1,1,1,1,1,1,1,1,1,1,1,1,1,1,1,1,1,1,1,1,1,1,1,1,1,1,1,1,1,1,1,1,1,1,1,1,1,1,1,1,1,1,1,1,1,1,1,1,1,1,1,1,1,1,1,1,1,1,1,1,1,1,1,1,1,1,1,1,1,1,1,1,1,1,1,1,1,1,1,1,1,1,1,1,1,1,1,1,1,1,1,1,1,1,1,1,1,1,1,1,1,1,1,1,1,1,1,1,1,1,1,1,1,1,1,1,1,1,1,1,1,1,1,1,1,1,1,1,1,1,1,1,1,1,1,1,1,1,1,1,1,1,1,1,1,1,1,1,1,1,1,1,1,1,1,1,1,1,1,1,1,1,1,1,1,1,1,1,1,1,1,1,1,1,1,1,1,1,1,1,1,1,1,1,1,1,1,1,1,1,1,1,1,1,1,1,1,1,1,1,1,1,1,1,1,1,1,1,1,1,1,1,1,1,1,1,1,1,1,1,1,1,1,1,1,1,1,1,1,1,1,1,1,1,1,1,1,1,1,1,1,1,1,1,1,1,1,1,1,1,1,1,1,1,1,1,1,1,1,1,1,1,1,1,1,1,1,1,1,1,1,1,1,1,1,1,1,1,1,1,1,1,1,1,1,1,1,1,1,1,1,1,1,1,1,1,1,1,1,1,1,1,1,1,1,1,1,1,1,1,1,1,1,1,1,1,1,1,1,1,1,1,1,1,1,1,1,1,1,1,1,1,1,1,1,1,1,1,1,1,1,1,1,1,1,1,1,1,1,1,1,1,1,1,1,1,1,1,1,1,1,1,1,1,1,1,1,1,1,1,1,1,1,1,1,1,1,1,1,1,1,1,1,1,1,1,1,1,1,1,1,1,1,1,1,1,1,1,1,1,1,1,1,1,1,1,1,1,1,1,1,1,1,1,1,1,1,1,1,1,1,1,1,1,1,1,1,1,1,1,1,1,1,1,1,1,1,1,1,1,1,1,1,1,1,1,1,1,1,1,1,1,1,1,1,1,1,1,1,1,1,1,1,1,1,1,1,1,1,1,1,1,1,1,1,1,1,1,1,1,1,1,1,1,1,1,1,1,1,1,1,1,1,1,1,1,1,1,1,1,1,1,1,1,1,1,1,1,1,1,1,1,1,1,1,1,1,1,1,1,1,1,1,1,1,1,1,1,1,1,1,1,1,1,1,1,1,1,1,1,1,1,1,1,1,1,1,1,1,1,1,1,1,1,1,1,1,1,1,1,1,1,1,1,1,1,1,1,1,1,1,1,1,1,1,1,1,1,1,1,1,1,1,1,1,1,1,1,1,1,1,1,1,1,1,1,1,1,1,1,1,1,1,1,1,1,1,1,1,1,1,1,1,1,1,1,1,1,1,1,1,1,1,1,1,1,1,1,1,1,1,1,1,1,1,1,1,1,1,1,1,1,1,1,1,1,1,1,1,1,1,1,1,1,1,1,1,1,1,1,1,1,1,1,1,1,1,1,1,1,1,1,1,1,1,1,1,1,1,1,1,1,1,1,1,1,1,1,1,1,1,1,1,1,1,1,1,1,1,1,1,1,1,1,1,1,1,1,1,1,1,1,1,1,1,1,1,1,1,1,1,1,1,1,1,1,1,1,1,1,1,1,1,1,1,1,1,1,1,1,1,1,1,1,1,1,1,1,1,1,1,1,1,1,1,1,1,1,1,1,1,1,1,1,1,1,1,1,1,1,1,1,1,1,1,1,1,1,1,1,1,1,1,1,1,1,1,1,1,1,1,1,1,1,1,1,1,1,1,1,1,1,1,1,1,1,1,1,1,1,1,1,1,1,1,1,1,1,1,1,1,1,1,1,1,1,1,1,1,1,1,1,1,1,1,1,1,1,1,1,1,1,1,1,1,1,1,1,1,1,1,1,1,1,1,1,1,1,1,1,1,1,1,1,1,1,1,1,1,1,1,1,1,1,1,1,1,1,1,1,1,1,1,1,1,1,1,1,1,1,1,1,1,1,1,1,1,1,1,1,1,1,1,1,1,1,1,1,1,1,1,1,1,1,1,1,1,1,1,1,1,1,1,1,1,1,1,1,1,1,1,1,1,1,1,1,1,1,1,1,1,1,1,1,1,1,1,1,1,1,1,1,1,1,1,1,1,1,1,1,1,1,1,1,1,1,1,1,1,1,1,1,1,1,1,1,1,1,1,1,1,1,1,1,1,1,1,1,1,1,1,1,1,1,1,1,1,1,1,1,1,1,1,1,1,1,1,1,1,1,1,1,1,1,1,1,1,1,1,1,1,1,1,1,1,1,1,1,1,1,1,1,1,1,1,1,1,1,1,1,1,1,1,1,1,1,1,1,1,1,1,1,1,1,1,1,1,1,1,1,1,1,1,1,1,1,1,1,1,1,1,1,1,1,1,1,1,1,1,1,1,1,1,1,1,1,1,1,1,1,1,1,1,1,1,1,1,1,1,1,1,1,1,1,1,1,1,1,1,1,1,1,1,1,1,1,1,1,1,1,1,1,1,1,1,1,1,1,1,1,1,1,1,1,1,1,1,1,1,1,1,1,1,1,1,1,1,1,1,1,1,1,1,1,1,1,1,1,1,1,1,1,1,1,1,1,1,1,1,1,1,1,1,1,1,1,1,1,1,1,1,1,1,1,1,1,1,1,1,1,1,1,1,1,1,1,1,1,1,1,1,1,1,1,1,1,1,1,1,1,1,1,1,1,1,1,1,1,1,1,1,1,1,1,1,1,1,1,1,1,1,1,1,1,1,1,1,1,1,1,1,1,1,1,1,1,1,1,1,1,1,1,1,1,1,1,1,1,1,1,1,1,1,1,1,1,1,1,1,1,1,1,1,1,1,1,1,1,1,1,1,1,1,1,1,1,1,1,1,1,1,1,1,1,1,1,1,1,1,1,1,1,1,1,1,1,1,1,1,1,1,1,1,1,1,1,1,1,1,1,1,1,1,1,1,1,1,1,1,1,1,1,1,1,1,1,1,1,1,1,1,1,1,1,1,1,1,1,1,1,1,1,1,1,1,1,1,1,1,1,1,1,1,1,1,1,1,1,1,1,1,1,1,1,1,1,1,1,1,1,1,1,1,1,1,1,1,1,1,1,1,1,1,1,1,1,1,1,1,1,1,1,1,1,1,1,1,1,1,1,1,1,1,1,1,1,1,1,1,1,1,1,1,1,1,1,1,1,1,1,1,1,1,1,1,1,1,1,1,1,1,1,1,1,1,1,1,1,1,1,1,1,1,1,1,1,1,1,1,1,1,1,1,1,1,1,1,1,1,1,1,1,1,1,1,1,1,1,1,1,1,1,1,1,1,1,1,1,1,1,1,1,1,1,1,1,1,1,1,1,1,1,1,1,1,1,1,1,1,1,1,1,1,1,1,1,1,1,1,1,1,1,1,1,1,1,1,1,1,1,1,1,1,1,1,1,1,1,1,1,1,1,1,1,1,1,1,1,1,1,1,1,1,1,1,1,1,1,1,1,1,1,1,1,1,1,1,1,1,1,1,1,1,1,1,1,1,1,1,1,1,1,1,1,1,1,1,1,1,1,1,1,1,1,1,1,1,1,1,1,1,1,1,1,1,1,1,1,1,1,1,1,1,1,1,1,1,1,1,1,1,1,1,1,1,1,1,1,1,1,1,1,1,1,1,1,1,1,1,1,1,1,1,1,1,1,1,1,1,1,1,1,1,1,1,1,1,1,1,1,1,1,1,1,1,1,1,1,1,1,1,1,1,1,1,1,1,1,1,1,1,1,1,1,1,1,1,1,1,1,1,1,1,1,1,1,1,1,1,1,1,1,1,1,1,1,1,1,1,1,1,1,1,1,1,1,1,1,1,1,1,1,1,1,1,1,1,1,1,1,1,1,1,1,1,1,1,1,1,1,1,1,1,1,1,1,1,1,1,1,1,1,1,1,1,1,1,1,1,1,1,1,1,1,1,1,1,1,1,1,1,1,1,1,1,1,1,1,1,1,1,1,1,1,1,1,1,1,1,1,1,1,1,1,1,1,1,1,1,1,1,1,1,1,1,1,1,1,1,1,1,1,1,1,1,1,1,1,1,1,1,1,1,1,1,1,1,1,1,1,1,1,1,1,1,1,1,1,1,1,1,1,1,1,1,1,1,1,1,1,1,1,1,1,1,1,1,1,1,1,1,1,1,1,1,1,1,1,1,1,1,1,1,1,1,1,1,1,1,1,1,1,1,1,1,1,1,1,1,1,1,1,1,1,1,1,1,1,1,1,1,1,1,1,1,1,1,1,1,1,1,1,1,1,1,1,1,1,1,1,1,1,1,1,1,1,1,1,1,1,1,1,1,1,1,1,1,1,1,1,1,1,1,1,1,1,1,1,1,1,1,1,1,1,1,1,1,1,1,1,1,1,1,1,1,1,1,1,1,1,1,1,1,1,1,1,1,1,1,1,1,1,1,1,1,1,1,1,1,1,1,1,1,1,1,1,1,1,1,1,1,1,1,1,1,1,1,1,1,1,1,1,1,1,1,1,1,1,1,1,1,1,1,1,1,1,1,1,1,1,1,1,1,1,1,1,1,1,1,1,1,1,1,1,1,1,1,1,1,1,1,1,1,1,1,1,1,1,1,1,1,1,1,1,1,1,1,1,1,1,1,1,1,1,1,1,1,1,1,1,1,1,1,1,1,1,1,1,1,1,1,1,1,1,1,1,1,1,1,1,1,1,1,1,1,1,1,1,1,1,1,1,1,1,1,1,1,1,1,1,1,1,1,1,1,1,1,1,1,1,1,1,1,1,1,1,1,1,1,1,1,1,1,1,1,1,1,1,1,1,1,1,1,1,1,1,1,1,1,1,1,1,1,1,1,1,1,1,1,1,1,1,1,1,1,1,1,1,1,1,1,1,1,1,1,1,1,1,1,1,1,1,1,1,1,1,1,1,1,1,1,1,1,1,1,1,1,1,1,1,1,1,1,1,1,1,1,1,1,1,1,1,1,1,1,1,1,1,1,1,1,1,1,1,1,1,1,1,1,1,1,1,1,1,1,1,1,1,1,1,1,1,1,1,1,1,1,1,1,1,1,1,1,1,1,1,1,1,1,1,1,1,1,1,1,1,1,1,1,1,1,1,1,1,1,1,1,1,1,1,1,1,1,1,1,1,1,1,1,1,1,1,1,1,1,1,1,1,1,1,1,1,1,1,1,1,1,1,1,1,1,1,1,1,1,1,1,1,1,1,1,1,1,1,1,1,1,1,1,1,1,1,1,1,1,1,1,1,1,1,1,1,1,1,1,1,1,1,1,1,1,1,1,1,1,1,1,1,1,1,1,1,1,1,1,1,1,1,1,1,1,1,1,1,1,1,1,1,1,1,1,1,1,1,1,1,1,1,1,1,1,1,1,1,1,1,1,1,1,1,1,1,1,1,1,1,1,1,1,1,1,1,1,1,1,1,1,1,1,1,1,1,1,1,1,1,1,1,1,1,1,1,1,1,1,1,1,1,1,1,1,1,1,1,1,1,1,1,1,1,1,1,1,1,1,1,1,1,1,1,1,1,1,1,1,1,1,1,1,1,1,1,1,1,1,1,1,1,1,1,1,1,1,1,1,1,1,1,1,1,1,1,1,1,1,1,1,1,1,1,1,1,1,1,1,1,1,1,1,1,1,1,1,1,1,1,1,1,1,1,1,1,1,1,1,1,1,1,1,1,1,1,1,1,1,1,1,1,1,1,1,1,1,1,1,1,1,1,1,1,1,1,1,1,1,1,1,1,1,1,1,1,1,1,1,1,1,1,1,1,1,1,1,1,1,1,1,1,1,1,1,1,1,1,1,1,1,1,1,1,1,1,1,1,1,1,1,1,1,1,1,1,1,1,1,1,1,1,1,1,1,1,1,1,1,1,1,1,1,1,1,1,1,1,1,1,1,1,1,1,1,1,1,1,1,1,1,1,1,1,1,1,1,1,1,1,1,1,1,1,1,1,1,1,1,1,1,1,1,1,1,1,1,1,1,1,1,1,1,1,1,1,1,1,1,1,1,1,1,1,1,1,1,1,1,1,1,1,1,1,1,1,1,1,1,1,1,1,1,1,1,1,1,1,1,1,1,1,1,1,1,1,1,1,1,1,1,1,1,1,1,1,1,1,1,1,1,1,1,1,1,1,1,1,1,1,1,1,1,1,1,1,1,1,1,1,1,1,1,1,1,1,1,1,1,1,1,1,1,1,1,1,1,1,1,1,1,1,1,1,1,1,1,1,1,1,1,1,1,1,1,1,1,1,1,1,1,1,1,1,1,1,1,1,1,1,1,1,1,1,1,1,1,1,1,1,1,1,1,1,1,1,1,1,1,1,1,1,1,1,1,1,1,1,1,1,1,1,1,1,1,1,1,1,1,1,1,1,1,1,1,1,1,1,1,1,1,1,1,1,1,1,1,1,1,1,1,1,1,1,1,1,1,1,1,1,1,1,1,1,1,1,1,1,1,1,1,1,1,1,1,1,1,1,1,1,1,1,1,1,1,1,1,1,1,1,1,1,1,1,1,1,1,1,1,1,1,1,1,1,1,1,1,1,1,1,1,1,1,1,1,1,1,1,1,1,1,1,1,1,1,1,1,1,1,1,1,1,1,1,1,1,1,1,1,1,1,1,1,1,1,1,1,1,1,1,1,1,1,1,1,1,1,1,1,1,1,1,1,1,1,1,1,1,1,1,1,1,1,1,1,1,1,1,1,1,1,1,1,1,1,1,1,1,1,1,1,1,1,1,1,1,1,1,1,1,1,1,1,1,1,1,1,1,1,1,1,1,1,1,1,1,1,1,1,1,1,1,1,1,1,1,1,1,1,1,1,1,1,1,1,1,1,1,1,1,1,1,1,1,1,1,1,1,1,1,1,1,1,1,1,1,1,1,1,1,1,1,1,1,1,1,1,1,1,1,1,1,1,1,1,1,1,1,1,1,1,1,1,1,1,1,1,1,1,1,1,1,1,1,1,1,1,1,1,1,1,1,1,1,1,1,1,1,1,1,1,1,1,1,1,1,1,1,1,1,1,1,1,1,1,1,1,1,1,1,1,1,1,1,1,1,1,1,1,1,1,1,1,1,1,1,1,1,1,1,1,1,1,1,1,1,1,1,1,1,1,1,1,1,1,1,1,1,1,1,1,1,1,1,1,1,1,1,1,1,1,1,1,1,1,1,1,1,1,1,1,1,1,1,1,1,1,1,1,1,1,1,1,1,1,1,1,1,1,1,1,1,1,1,1,1,1,1,1,1,1,1,1,1,1,1,1,1,1,1,1,1,1,1,1,1,1,1,1,1,1,1,1,1,1,1,1,1,1,1,1,1,1,1,1,1,1,1,1,1,1,1,1,1,1,1,1,1,1,1,1,1,1,1,1,1,1,1,1,1,1,1,1,1,1,1,1,1,1,1,1,1,1,1,1,1,1,1,1,1,1,1,1,1,1,1,1,1,1,1,1,1,1,1,1,1,1,1,1,1,1,1,1,1,1,1,1,1,1,1,1,1,1,1,1,1,1,1,1,1,1,1,1,1,1,1,1,1,1,1,1,1,1,1,1,1,1,1,1,1,1,1,1,1,1,1,1,1,1,1,1,1,1,1,1,1,1,1,1,1,1,1,1,1,1,1,1,1,1,1,1,1,1,1,1,1,1,1,1,1,1,1,1,1,1,1,1,1,1,1,1,1,1,1,1,1,1,1,1,1,1,1,1,1,1,1,1,1,1,1,1,1,1,1,1,1,1,1,1,1,1,1,1,1,1,1,1,1,1,1,1,1,1,1,1,1,1,1,1,1,1,1,1,1,1,1,1,1,1,1,1,1,1,1,1,1,1,1,1,1,1,1,1,1,1,1,1,1,1,1,1,1,1,1,1,1,1,1,1,1,1,1,1,1,1,1,1,1,1,1,1,1,1,1,1,1,1,1,1,1,1,1,1,1,1,1,1,1,1,1,1,1,1,1,1,1,1,1,1,1,1,1,1,1,1,1,1,1,1,1,1,1,1,1,1,1,1,1,1,1,1,1,1,1,1,1,1,1,1,1,1,1,1,1,1,1,1,1,1,1,1,1,1,1,1,1,1,1,1,1,1,1,1,1,1,1,1,1,1,1,1,1,1,1,1,1,1,1,1,1,1,1,1,1,1,1,1,1,1,1,1,1,1,1,1,1,1,1,1,1,1,1,1,1,1,1,1,1,1,1,1,1,1,1,1,1,1,1,1,1,1,1,1,1,1,1,1,1,1,1,1,1,1,1,1,1,1,1,1,1,1,1,1,1,1,1,1,1,1,1,1,1,1,1,1,1,1,1,1,1,1,1,1,1,1,1,1,1,1,1,1,1,1,1,1,1,1,1,1,1,1,1,1,1,1,1,1,1,1,1,1,1,1,1,1,1,1,1,1,1,1,1,1,1,1,1,1,1,1,1,1,1,1,1,1,1,1,1,1,1,1,1,1,1,1,1,1,1,1,1,1,1,1,1,1,1,1,1,1,1,1,1,1,1,1,1,1,1,1,1,1,1,1,1,1,1,1,1,1,1,1,1,1,1,1,1,1,1,1,1,1,1,1,1,1,1,1,1,1,1,1,1,1,1,1,1,1,1,1,1,1,1,1,1,1,1,1,1,1,1,1,1,1,1,1,1,1,1,1,1,1,1,1,1,1,1,1,1,1,1,1,1,1,1,1,1,1,1,1,1,1,1,1,1,1,1,1,1,1,1,1,1,1,1,1,1,1,1,1,1,1,1,1,1,1,1,1,1,1,1,1,1,1,1,1,1,1,1,1,1,1,1,1,1,1,1,1,1,1,1,1,1,1,1,1,1,1,1,1,1,1,1,1,1,1,1,1,1,1,1,1,1,1,1,1,1,1,1,1,1,1,1,1,1,1,1,1,1,1,1,1,1,1,1,1,1,1,1,1,1,1]\n",
    "print(len(L))\n",
    "print(len(set(L)))"
   ]
  },
  {
   "cell_type": "code",
   "execution_count": 87,
   "metadata": {},
   "outputs": [
    {
     "name": "stdout",
     "output_type": "stream",
     "text": [
      "{1, 6, 7, 8, 9}\n"
     ]
    }
   ],
   "source": [
    "print(set(L))"
   ]
  },
  {
   "cell_type": "code",
   "execution_count": 88,
   "metadata": {
    "scrolled": true
   },
   "outputs": [
    {
     "name": "stdout",
     "output_type": "stream",
     "text": [
      "0 3 [10, 5]\n",
      "1 4 [5, 2]\n",
      "L1 =  [2, 2, 3]\n",
      "L2 =  [1, 2]\n"
     ]
    },
    {
     "data": {
      "text/plain": [
       "8"
      ]
     },
     "execution_count": 88,
     "metadata": {},
     "output_type": "execute_result"
    }
   ],
   "source": [
    "numSubarrayProductLessThanK([10,5,2,6],100)"
   ]
  },
  {
   "cell_type": "code",
   "execution_count": 89,
   "metadata": {},
   "outputs": [
    {
     "name": "stdout",
     "output_type": "stream",
     "text": [
      "0 5 [10, 2, 2, 5]\n",
      "1 6 [2, 2, 5, 4]\n",
      "2 7 [2, 5, 4, 4]\n",
      "4 9 [4, 4, 4, 3]\n",
      "6 10 [4, 3, 7]\n",
      "L1 =  [4, 4, 4, 4, 3, 3]\n",
      "L2 =  [3, 3, 2, 2, 2]\n"
     ]
    },
    {
     "data": {
      "text/plain": [
       "31"
      ]
     },
     "execution_count": 89,
     "metadata": {},
     "output_type": "execute_result"
    }
   ],
   "source": [
    "numSubarrayProductLessThanK([10,2,2,5,4,4,4,3,7,7],289)"
   ]
  },
  {
   "cell_type": "markdown",
   "metadata": {},
   "source": [
    "10,2,2,5,4,4,4,3,7,7   289\n",
    "10 2 2 5                    ----- 6\n",
    "   2 2 5 4                  ----- 6 - 3 = 3\n",
    "     2 5 4 4                ----- 6 - 3 = 3\n",
    "         4 4 4 3            ----- 6 - 1 = 5\n",
    "             4 3 7          ----- 3 - 1 = 2\n",
    "               3 7 7        ----- 3 - 1 = 2\n",
    "10 + 6 + 3 + 3 + 5 + 2 + 2 = 31\n",
    "\n",
    "重3减3\n",
    "重2减1\n",
    "重4减6\n",
    "\n",
    "10 2  2  5       -- [10,2]  [2,2]    [2,5]    [10,2,2]  [2,2,5]   [10,2,2,5]\n",
    "2  2  5  4       -- [5,4]   [2,5,4]  [2,2,5,4]\n",
    "2  5  4  4       -- [4,4]   [5,4,4]  [2,5,4,4]\n",
    "4  4  4  3       -- [4,4]   [4,3]    [4,4,4]  [4,4,3]  [4,4,4,3]\n",
    "4  3  7          -- [3,7]   [4,3,7]\n",
    "3  7  7          -- [7,7]   [3,7,7]\n",
    "\n",
    "8  2  1  5  6\n",
    "          \n",
    "   2  1  5  10  2\n",
    "   \n",
    "10 \n",
    "\n",
    "            \n",
    "2 -- 1\n",
    "3 -- 3\n",
    "4 -- 6\n",
    "5 -- 10\n",
    "6 -- 15\n",
    "\n",
    "\n",
    "n -- 1 + 2 + 3 +...+ n-1 = n*(n-1) // 2"
   ]
  },
  {
   "cell_type": "code",
   "execution_count": null,
   "metadata": {},
   "outputs": [],
   "source": []
  },
  {
   "cell_type": "markdown",
   "metadata": {},
   "source": [
    "### 739. 每日温度\n",
    "\n",
    "根据每日 气温 列表，请重新生成一个列表，对应位置的输入是你需要再等待多久温度才会升高超过该日的天数。如果之后都不会升高，请在该位置用 0 来代替。\n",
    "\n",
    "例如，给定一个列表 temperatures = [73, 74, 75, 71, 69, 72, 76, 73]，你的输出应该是 [1, 1, 4, 2, 1, 1, 0, 0]。\n",
    "\n",
    "提示：气温 列表长度的范围是 [1, 30000]。每个气温的值的均为华氏度，都是在 [30, 100] 范围内的整数。"
   ]
  },
  {
   "cell_type": "code",
   "execution_count": 90,
   "metadata": {},
   "outputs": [
    {
     "ename": "NameError",
     "evalue": "name 'dailyTemperatures1' is not defined",
     "output_type": "error",
     "traceback": [
      "\u001b[0;31m---------------------------------------------------------------------------\u001b[0m",
      "\u001b[0;31mNameError\u001b[0m                                 Traceback (most recent call last)",
      "\u001b[0;32m<ipython-input-90-63558f4e47d7>\u001b[0m in \u001b[0;36m<module>\u001b[0;34m\u001b[0m\n\u001b[1;32m     42\u001b[0m \u001b[0;34m\u001b[0m\u001b[0m\n\u001b[1;32m     43\u001b[0m \u001b[0;34m\u001b[0m\u001b[0m\n\u001b[0;32m---> 44\u001b[0;31m \u001b[0mdailyTemperatures1\u001b[0m\u001b[0;34m(\u001b[0m\u001b[0ma\u001b[0m\u001b[0;34m)\u001b[0m\u001b[0;34m\u001b[0m\u001b[0;34m\u001b[0m\u001b[0m\n\u001b[0m",
      "\u001b[0;31mNameError\u001b[0m: name 'dailyTemperatures1' is not defined"
     ]
    }
   ],
   "source": [
    "a = [34,34,47,47,34,34,34,47,34,47,47,47,34,34,34,47,47,34,47,47,34,34,34,34,47,34,34,47,34,\n",
    "     34,34,47,47,47,47,47,47,34,34,34,47,34,34,47,34,47,47,47,34,47,47,34,47,34,47,47,34,47,\n",
    "     47,34,34,47,47,47,34,34,47,47,47,34,34,47,34,34,34,47,47,34,34,47,47,47,47,47,34,34,34,\n",
    "     47,47,34,47,34,47,34,34,47,34,47,47,47,47,47,47,34,34,34,47,34,47,34,47,34,34,34,34,47,\n",
    "     34,34,34,34,34,34,34,47,34,34,47,47,34,47,47,47,47,47,47,47,34,34,47,34,47,34,47,34,34,\n",
    "     34,47,34,34,47,34,47,47,34,47,47,47,47,34,34,34,34,47,47,34,34,34,47,34,34,47,34,34,47,\n",
    "     34,34,34,34,47,34,34,34,47,34,34,47,47,34,47,47,34,34,34,34,34,34,47,47,34,47,34,47,34,\n",
    "     47,47,47,34,47,34,34,34,34,34,47,47,47,47,47,47,34,47,34,47,34,34,34,47,47,47,34,47,47,\n",
    "     34,47,47,47,34,47,47,34,47,47,34,47,34,34,47,47,34,34,34,34,47,34,34,47,47,34,47,47,34,\n",
    "     34,34,34,47,47,34,34,47,47,34,47,34,47,34,47,47,47,47,34,34,47,47,34,34,34,47,34,47,47,\n",
    "     47,34,47,47,34,34,34,34,34,47,47,34,47,47,34,34,47,34,47,47,34,47,47,47,47,47,47,47,34,\n",
    "     34,34,34,47,47,34,47,34,47,47,34,47,47,34,34,34,47,47,47,34,47,34,47,47,47,34,34,34,34,\n",
    "     34,34,34,47,34,34,34,34,47,47,34,34,47,34,47,47,34,47,34,34,47,47,47,47,47,47,34,34,47,\n",
    "     34,34,47,34,47,47,47,47,47,34,34,34,47,47,34,47,34,34,47,47,47,34,34,47,47,47,34,34,47,\n",
    "     47,34,34,47,47,47,47,34,34,34,47,34,34,47,47,34,34,34,47,34,34,47,34,34,34,34,47,34,47,\n",
    "     34,47,47,47,34,34,47,47,47,47,47,34,47,34,34,34,34,34,47,47,34,34,47,47,34,34,47,34,47,\n",
    "     34,47,34,47,47,47,47,47,47,47,47,47,34,47,47,47,34,47,47,34,34,47,34,47,34,34,47,47,47,\n",
    "     47,34,47,34,34,34,47,47,47,34,34,47,47,34,34,34,34,47,47,34,47,34,34,47,47,34,47,34,47,\n",
    "     34,47,34,34,47,34,47,34,47,34,47,47,47,47,47,34,34,47,47,34,34,34,47,34,34,34,34,34,47,\n",
    "     47,47,34,47,47,47,47,47,47,47,47,34,34,34,34,47,34,47,34,47,47,47,34,34,34,34,47,34,47,\n",
    "     34,47,34,47,34,34,34,47,34,47,34,34,47,34,34,47,34,34,47,47,47,34,47,47,47,34,34,34,34,\n",
    "     34,34,34,47,34,34,47,34,47,34,47,34,34,34,34,47,47,47,47,34,47,34,34,34,47,34,47,47,47,\n",
    "     34,34,47,34,47,47,34,47,34,34,34,47,34,34,34,47,34,34,34,34,34,34,47,47,47,47,34,47,47,\n",
    "     34,47,34,47,34,47,34,47,34,34,47,34,47,34,47,34,34,34,34,34,47,47,47,47,47,47,47,47,47,\n",
    "     34,47,47,34,34,34,47,34,34,47,47,34,47,47,47,47,47,47,47,34,47,34,47,47,47,47,47,47,34,\n",
    "     47,47,34,34,34,47,47,47,47,34,34,47,47,34,34,34,34,34,47,34,34,34,34,47,47,34,47,47,47,\n",
    "     47,47,47,47,34,34,47,34,47,34,47,47,47,47,34,47,47,47,34,34,34,34,34,34,47,47,47,34,34,\n",
    "     34,47,47,34,47,34,47,47,47,34,47,47,47,47,47,47,47,34,47,47,47,34,34,47,47,34,47,47,34,\n",
    "     34,34,47,34,47,34,34,47,34,47,34,34,34,34,47,47,47,34,47,34,47,47,34,47,34,47,34,47,34,\n",
    "     47,47,47,34,34,47,34,47,34,47,47,47,47,47,34,47,34,47,34,47,34,34,47,47,47,47,47,34,47,\n",
    "     34,47,47,47,47,47,47,47,34,47,47,47,34,34,34,47,34,47,47,47,47,34,47,47,34,47,34,34,47,\n",
    "     47,34,34,47,34,47,47,47,47,34,47,47,34,34,34,47,47,34,34,47,34,47,34,47,34,47,47,47,47,\n",
    "     34,47,47,34,34,34,47,34,47,34,47,34,34,34,47,34,34,34,34,34,34,47,47,47,34,47,47,47,34,\n",
    "     34,34,34,47,34,34,47,34,34,47,47,34,34,47,34,34,47,34,34,47,34,47,47,34,47,47,34,34,47,\n",
    "     47,34,34,47,34,34,47,47,34,47,34,34,47,47,47,34,34,47,47,34,34,34,47,47,34,47,34,47,47,\n",
    "     34,34,34,47,47,47,47,34,47,47,34,47,47,34,47,34,47,34,47,47,34,34,47,47,47,34,47,47,47,\n",
    "     34,34,34,47,47,47,47,34,47,47,34,34,34,34,34,34,34,34,47,34,47,47,34,47,47,34,47,47,47,\n",
    "     47,47,34,47,34,34,34,34,47,47,47,47,34,34,34,47,34,34,34,47,47,34,47,47,34,47,34,34,34,\n",
    "     47,34,47,47,47,34,34,34,34,47,47,47,34,47,47,47,34,47,34,47,34,34,47,47,47,47,34,47,34,47,34,47,34,34,34,47,34,34,34,47,34,34,47,34,47,34,47,47,34,34,47,34,47,47,47,34,47,34,47,34,47,47,47,47,34,34,34,34,34,34,34,47,47,47,47,34,47,34,34,47,34,47,34,34,34,47,47,34,34,34,47,34,47,47,47,34,34,47,47,47,47,34,34,34,47,47,34,47,34,34,34,34,34,47,47,47,47,47,34,34,34,34,47,47,34,47,47,47,34,34,47,34,34,34,34,34,34,34,47,47,34,47,34,47,47,34,47,47,47,34,34,47,47,34,34,34,47,47,47,34,34,34,34,47,34,47,34,34,47,47,47,47,34,47,34,47,47,47,47,34,34,47,47,47,34,47,34,47,34,34,47,34,47,47,47,34,34,34,34,47,47,47,34,34,47,47,47,34,34,47,34,47,34,47,34,47,34,34,47,47,47,34,47,34,47,47,47,34,34,34,34,34,47,34,47,47,47,47,34,47,47,47,47,34,34,47,47,47,34,34,34,34,34,47,34,47,47,34,47,47,47,34,47,34,47,47,34,47,34,47,34,34,47,34,34,47,34,34,34,34,34,47,34,47,34,47,47,34,47,47,34,34,47,34,34,47,34,34,47,47,34,47,34,34,47,47,47,47,47,34,47,47,47,47,34,34,34,47,47,34,34,34,47,34,34,47,47,34,34,47,34,34,34,47,47,47,34,34,34,47,47,47,34,47,47,34,47,34,34,47,47,47,34,47,34,47,34,34,47,34,34,47,47,34,34,47,47,34,34,47,47,47,34,34,47,34,34,47,47,47,34,34,47,34,34,34,47,47,47,34,34,47,47,34,34,47,47,34,34,47,47,47,47,47,34,47,47,47,34,47,47,34,34,47,34,47,34,34,34,47,47,47,47,47,47,34,34,47,47,47,34,34,34,34,34,34,34,34,47,34,34,34,34,34,47,34,34,34,47,47,34,34,34,47,34,47,47,34,47,34,34,34,47,47,34,47,34,47,34,34,47,34,47,34,34,47,47,34,34,34,47,34,34,34,34,47,34,47,47,34,34,34,47,47,34,34,34,47,47,47,34,34,47,34,47,34,47,34,34,34,47,34,47,34,34,34,47,47,34,34,47,34,47,34,34,34,34,47,47,47,47,47,34,47,47,34,47,34,34,34,34,34,34,34,47,47,34,34,47,47,47,34,34,34,47,34,34,34,34,34,47,34,47,47,34,47,47,34,34,34,34,47,34,34,47,47,34,34,34,34,47,47,47,47,34,47,34,47,47,34,34,47,34,47,47,34,34,34,34,34,34,34,47,34,34,34,47,34,34,34,34,34,47,47,47,47,34,47,47,34,34,47,34,47,47,34,34,34,47,47,34,47,47,47,47,47,34,47,34,34,47,47,34,34,34,47,47,34,34,47,34,34,34,47,34,34,47,47,34,47,34,34,47,47,47,47,34,34,34,34,34,34,34,47,47,47,34,34,47,47,47,34,47,34,47,34,34,47,47,47,47,34,47,34,47,47,34,34,34,34,47,47,47,47,34,34,47,34,34,47,34,34,47,34,47,34,34,47,34,34,34,47,34,34,34,47,47,47,34,47,34,34,47,47,47,34,34,47,34,47,47,34,47,47,47,47,47,34,34,34,47,34,34,34,34,47,34,34,47,34,34,34,34,47,47,34,47,47,34,47,34,34,47,34,47,47,47,34,47,34,34,34,47,47,47,47,34,47,47,34,34,47,47,34,47,47,34,47,34,34,47,34,34,34,34,34,34,47,47,47,34,47,34,34,34,47,47,34,47,34,47,34,47,34,34,47,34,34,34,47,34,34,47,34,34,47,47,47,34,47,47,34,34,47,47,34,34,34,34,34,34,47,47,34,34,47,34,34,47,34,47,47,34,47,47,34,47,34,34,34,47,34,34,47,34,34,34,34,47,47,34,47,34,34,34,47,47,47,34,34,34,47,34,47,34,34,34,34,47,34,34,34,34,34,47,34,34,34,47,47,34,34,34,47,34,34,47,34,34,34,34,47,34,47,34,34,47,34,34,47,47,47,47,47,34,47,34,47,47,47,47,47,47,47,47,47,34,34,34,34,47,47,47,34,47,47,34,47,47,47,47,34,47,34,34,34,47,34,34,47,47,34,47,47,34,34,34,47,34,34,47,47,47,47,47,34,47,34,34,34,47,47,47,47,47,47,34,47,47,47,47,34,47,34,34,34,34,34,34,47,47,34,34,34,34,47,34,47,47,47,34,34,47,47,47,34,47,34,47,47,34,47,47,34,47,47,34,34,47,47,47,47,34,47,47,47,34,47,47,34,34,34,34,34,34,47,34,47,47,47,47,34,34,34,34,47,47,34,47,34,47,47,34,47,34,34,34,47,34,34,47,47,47,47,47,34,34,34,47,34,47,47,34,34,47,34,34,34,47,34,47,34,47,34,47,47,47,34,34,34,34,34,34,47,47,47,47,34,34,47,47,34,34,47,47,47,34,34,34,47,34,34,34,34,34,47,34,34,34,34,34,34,47,34,47,34,34,47,47,47,47,34,34,34,34,47,47,34,47,34,47,34,34,47,34,47,47,47,34,34,34,34,47,34,47,34,47,47,47,34,34,47,47,47,47,34,34,34,47,34,47,47,34,47,34,47,34,47,47,47,47,34,34,47,47,47,47,47,47,47,34,47,34,34,47,47,47,34,47,34,34,47,34,47,47,34,47,47,34,34,34,34,34,47,34,34,34,34,47,34,47,34,34,47,47,47,47,47,34,34,34,47,34,34,47,47,47,47,34,34,34,47,34,34,47,34,47,34,34,47,47,47,34,34,34,47,34,47,47,47,47,34,47,34,47,34,47,34,47,34,34,47,34,47,34,47,47,47,34,34,47,47,34,34,34,47,47,34,34,34,34,34,34,47,34,34,34,47,34,34,34,47,47,34,34,47,47,34,47,47,34,47,34,47,47,47,47,34,34,47,34,34,47,34,34,47,47,34,47,34,34,34,34,34,34,34,47,34,34,47,47,34,47,34,34,34,47,34,34,34,47,47,47,47,47,47,47,47,47,47,34,47,47,47,34,47,34,34,47,34,47,34,47,47,47,34,34,47,34,34,34,47,34,47,34,34,34,47,34,34,47,34,34,34,34,47,47,34,47,34,47,34,47,47,47,34,34,47,34,34,34,47,47,34,34,34,47,47,47,47,34,34,47,47,47,47,34,34,47,47,47,34,34,47,34,47,34,34,34,47,34,34,34,47,34,47,47,34,47,34,34,34,34,47,34,47,34,47,47,47,47,47,34,34,34,47,47,34,34,34,47,47,34,34,34,47,47,47,47,47,34,34,47,47,34,34,47,34,47,47,47,47,47,34,34,47,47,34,34,47,34,34,47,34,34,47,47,47,47,34,34,47,34,34,34,34,34,47,34,47,47,47,47,47,47,34,34,47,34,34,34,47,47,34,47,34,34,34,34,47,34,47,47,34,34,34,34,34,34,47,47,47,47,34,34,47,34,47,34,47,47,34,34,34,34,34,47,34,47,34,34,47,34,47,47,47,34,34,34,34,47,34,47,34,47,47,34,34,47,34,34,34,34,34,47,47,34,47,47,34,47,47,34,34,47,47,47,47,34,47,47,34,34,34,34,34,34,47,34,47,34,47,34,47,34,47,34,47,34,34,47,47,47,47,34,47,34,47,34,34,34,34,47,47,34,34,47,34,34,47,47,34,34,47,47,34,34,34,34,47,47,47,34,47,47,34,47,34,47,47,47,34,47,47,34,47,34,34,34,34,34,34,34,34,47,47,34,34,34,34,47,34,47,47,47,47,47,34,47,47,47,34,47,47,47,47,47,34,47,34,34,47,47,34,47,34,34,34,47,47,34,34,47,47,47,47,34,47,34,47,47,34,34,34,47,47,47,47,34,34,34,47,47,34,34,34,47,34,47,47,47,34,47,34,34,47,34,47,47,34,34,34,34,47,47,47,34,34,34,34,47,47,34,47,47,47,34,34,34,47,47,34,47,34,47,34,47,34,47,47,47,34,34,34,34,34,47,34,47,47,47,47,34,47,34,34,47,34,34,34,47,34,47,34,34,47,47,47,47,34,34,47,34,47,34,34,34,34,34,34,34,47,47,47,34,47,47,34,47,47,34,34,34,34,47,34,47,47,34,34,47,34,47,34,34,34,47,34,47,34,34,34,47,34,34,47,34,47,34,47,34,47,47,34,34,34,34,47,47,34,34,34,34,34,34,34,47,47,34,34,47,47,47,47,34,34,47,34,34,47,34,47,34,34,47,47,47,34,34,47,34,34,34,47,47,47,34,34,47,34,34,34,47,34,34,34,47,34,34,47,34,34,47,34,47,34,34,34,34,47,34,34,34,34,47,34,47,47,47,34,34,34,34,34,47,47,47,47,34,34,47,47,34,47,47,34,34,34,47,34,47,34,47,47,34,34,34,47,47,47,34,47,34,47,34,47,47,47,34,34,47,34,34,47,34,34,47,34,47,34,47,34,34,47,34,34,34,47,34,34,34,47,34,34,47,34,47,34,47,34,34,34,34,47,34,34,47,47,47,47,47,47,34,47,47,34,47,34,34,34,47,34,34,47,47,47,34,34,34,47,34,47,47,47,47,47,47,47,34,34,47,34,47,34,34,47,34,34,47,47,34,34,47,47,47,34,34,34,47,47,34,47,47,34,34,34,47,34,47,47,47,47,47,47,47,47,34,47,34,34,47,47,34,34,34,34,47,34,47,47,34,47,34,47,47,47,34,34,47,34,47,47,47,47,34,34,47,34,34,47,47,34,47,47,47,47,34,47,47,47,47,47,47,47,34,34,47,47,47,34,47,47,34,34,47,47,34,47,34,47,47,47,34,47,47,47,47,47,34,47,47,47,47,34,47,34,34,47,34,47,34,34,34,34,34,34,34,34,34,47,47,34,47,34,47,47,47,34,34,47,34,47,34,47,47,47,47,47,34,34,34,34,34,34,47,47,47,34,34,34,47,47,34,34,47,47,34,47,34,34,47,34,34,34,47,47,34,34,34,47,47,34,47,34,47,47,34,47,34,34,34,34,47,47,47,34,47,47,47,47,47,47,47,47,47,34,47,34,47,34,47,47,34,34,34,34,34,47,47,47,34,34,47,34,47,34,47,34,34,47,34,47,47,47,34,47,34,47,34,34,34,34,47,34,47,47,34,34,34,34,47,34,47,47,47,34,47,47,34,34,47,34,34,34,47,47,47,34,47,47,34,34,34,47,34,47,34,47,47,47,34,34,47,34,34,47,34,34,34,47,34,47,47,47,47,47,47,34,34,34,47,47,47,34,47,47,47,34,47,34,34,34,34,47,47,47,47,34,34,34,34,34,47,47,34,47,34,34,47,34,34,47,34,47,47,34,47,34,34,47,34,34,34,47,47,34,47,34,34,47,47,47,34,47,34,47,47,34,34,47,47,47,47,47,47,47,34,34,47,34,34,47,47,47,47,47,47,47,34,47,47,47,34,34,47,34,47,47,34,34,34,34,47,47,34,34,34,34,34,34,34,34,34,34,47,34,47,47,34,34,34,47,47,47,34,34,34,34,47,34,47,47,34,47,47,47,34,34,34,34,34,47,34,47,47,34,34,34,47,34,34,47,47,47,47,47,34,34,47,47,34,47,34,34,47,34,47,34,47,34,47,47,34,34,34,34,34,47,34,34,34,47,47,47,34,34,47,47,47,47,34,34,34,34,47,47,47,34,34,34,47,47,34,47,34,47,34,47,47,47,47,34,34,47,47,34,34,47,34,47,47,34,47,34,47,47,47,47,34,34,47,47,34,34,47,34,47,34,34,34,47,47,47,47,34,34,47,47,47,34,47,34,34,47,47,34,34,34,47,34,34,47,47,34,47,47,34,34,47,34,47,34,47,34,47,34,47,47,34,47,47,34,47,34,34,34,34,47,47,47,34,47,47,47,47,47,34,47,34,34,47,34,47,34,34,34,34,47,47,47,47,34,47,34,34,34,34,34,47,47,34,34,47,47,34,34,34,34,47,34,34,47,47,34,47,34,47,34,34,47,47,47,47,34,47,34,34,34,34,34,34,34,34,47,47,34,47,34,47,47,47,34,47,34,47,47,34,34,34,47,34,47,34,34,34,34,47,47,34,34,34,47,34,34,34,34,34,47,34,47,47,47,47,34,34,47,47,34,34,47,47,34,47,47,47,34,34,47,34,47,34,47,34,34,47,47,47,47,34,34,34,47,34,47,34,34,47,47,47,34,47,47,47,47,47,47,34,47,47,47,47,47,34,47,34,47,34,34,34,34,47,34,47,34,34,47,34,34,34,34,47,47,47,47,47,47,47,47,34,47,34,34,47,34,47,34,47,47,47,34,47,34,47,34,34,47,47,47,47,47,47,34,34,34,47,47,47,47,34,34,47,34,34,34,34,47,34,34,34,34,34,47,47,47,47,47,47,47,47,47,47,34,47,47,34,47,47,47,34,34,34,47,47,47,47,47,34,47,47,47,47,34,34,34,47,34,34,47,47,34,47,34,34,47,47,47,34,47,47,47,34,34,34,34,34,47,47,47,47,34,47,34,47,47,34,34,34,34,34,47,34,47,34,47,34,34,47,47,47,47,47,34,34,47,47,47,34,47,34,34,47,47,47,47,34,34,34,34,34,34,47,47,34,34,34,34,34,34,47,47,34,47,47,34,34,47,34,47,34,47,34,47,47,34,34,47,47,34,47,34,47,34,47,34,34,34,34,34,34,47,47,34,34,34,47,47,34,34,34,34,47,34,34,34,47,47,34,47,34,34,34,47,47,47,34,47,34,34,47,34,34,47,47,47,47,47,34,34,34,34,47,34,47,34,47,34,34,47,34,47,34,47,34,34,47,47,47,47,34,47,47,47,47,47,47,47,34,47,47,34,47,47,47,34,47,47,47,34,34,47,47,34,47,34,47,47,34,47,47,47,47,34,47,47,47,34,34,47,47,47,34,34,34,34,47,34,47,34,47,34,47,47,34,47,47,34,34,34,47,34,34,34,47,34,34,34,47,34,47,47,34,34,34,47,34,47,47,34,34,47,34,34,47,47,34,34,34,34,47,34,47,34,47,47,34,47,34,34,47,47,47,34,47,47,34,34,47,47,47,34,34,47,34,47,47,47,47,47,34,47,47,34,47,47,47,47,47,47,47,34,34,47,47,47,47,34,34,47,47,47,47,34,47,47,34,34,34,47,34,34,34,34,34,47,34,47,34,34,47,34,47,47,34,34,34,47,34,47,34,47,34,47,34,47,34,47,47,47,34,47,47,34,34,34,34,47,34,34,47,47,34,47,34,34,47,47,34,47,47,34,34,47,34,34,34,47,34,47,47,47,34,47,34,47,47,34,47,34,47,34,47,47,47,34,47,47,47,47,47,34,34,47,47,34,34,34,47,47,47,34,47,34,47,34,47,47,47,34,47,34,47,34,47,34,34,47,47,34,34,47,47,47,34,34,34,47,34,47,34,34,34,47,34,34,47,34,47,47,34,34,34,34,47,47,47,47,47,47,34,47,34,34,47,47,47,34,47,47,47,34,34,34,34,34,47,47,47,47,34,34,47,47,47,47,47,34,34,47,34,47,47,47,34,34,34,34,47,47,34,47,34,47,34,34,34,47,34,47,47,47,34,34,34,47,47,34,34,34,34,47,47,47,47,47,34,34,47,47,34,34,34,34,47,47,47,34,34,34,34,34,34,34,34,47,34,47,34,34,34,47,47,34,34,47,34,47,47,34,34,47,47,47,34,47,34,47,34,34,34,47,47,47,47,47,34,34,34,47,47,47,34,34,34,47,34,34,47,34,34,47,47,34,34,34,34,34,47,47,47,34,47,47,47,34,34,47,34,47,34,34,34,47,34,47,47,34,47,47,47,47,47,47,47,47,47,47,34,34,47,47,47,47,34,47,47,34,47,34,34,47,47,34,47,47,34,47,34,34,34,34,47,47,34,47,34,47,34,47,47,34,47,34,47,34,47,34,47,47,34,47,47,47,47,47,47,34,47,47,34,34,34,34,47,34,47,47,47,34,34,47,34,47,34,34,47,34,34,34,34,34,34,34,47,47,47,47,47,34,34,47,47,47,47,34,34,47,34,34,34,47,47,34,47,47,34,34,47,47,34,47,34,47,34,47,47,47,47,34,34,34,47,34,47,34,34,47,47,34,47,34,34,34,34,47,47,47,34,47,47,47,47,47,47,47,34,34,34,34,34,34,34,34,47,34,34,47,34,47,34,47,34,34,47,47,47,34,47,47,34,47,47,34,47,34,34,47,34,47,34,34,47,34,34,34,34,34,47,47,47,47,47,47,47,34,34,47,47,47,34,47,47,34,47,34,34,34,47,34,34,47,34,47,47,34,47,47,47,47,47,34,34,47,34,34,34,34,47,47,47,47,34,34,34,34,34,34,47,34,34,34,47,34,47,47,34,34,34,47,34,34,34,47,34,47,34,47,34,47,47,34,47,47,34,47,47,47,47,34,34,47,47,47,34,34,47,34,34,34,47,34,34,34,47,47,34,47,47,34,34,34,34,47,47,47,47,47,47,34,34,34,47,34,34,34,34,34,47,34,34,47,34,34,34,47,47,34,47,47,47,47,34,34,47,34,34,47,47,34,47,34,34,47,34,47,34,47,34,47,34,34,34,34,34,34,47,34,34,47,47,34,34,34,47,34,34,34,34,47,34,34,47,47,47,47,34,34,34,47,34,47,34,34,47,47,34,47,47,34,47,47,34,34,34,34,47,47,47,34,34,47,47,47,34,34,47,47,34,47,34,34,34,47,47,47,34,34,34,34,34,34,47,34,47,34,34,34,34,47,47,47,34,47,47,34,47,34,47,47,34,34,47,47,47,34,47,47,34,34,34,34,34,47,34,47,34,47,47,34,34,47,47,34,47,47,34,47,47,34,47,47,47,34,47,34,47,34,34,47,47,47,34,47,34,47,47,47,47,47,47,47,34,34,34,47,47,47,34,47,47,34,47,34,47,47,47,34,47,47,34,47,47,47,47,47,34,34,47,47,34,47,47,34,47,34,34,47,34,34,34,34,34,47,34,34,47,34,34,47,34,47,47,47,34,34,34,47,34,47,34,34,47,47,34,34,34,34,34,34,34,34,47,34,47,47,34,47,34,47,34,34,34,47,34,47,34,47,47,34,47,47,47,47,47,34,34,34,47,34,34,34,47,34,47,47,34,34,34,34,34,34,34,47,47,47,34,34,47,34,34,47,47,47,47,34,47,34,47,34,47,34,47,47,47,47,47,47,47,47,47,47,47,34,47,34,34,34,47,34,34,47,47,47,34,34,47,34,34,34,34,34,47,34,47,47,34,34,34,47,47,47,47,47,47,34,47,34,34,47,47,34,47,47,34,47,34,34,34,34,34,47,34,34,47,34,34,34,34,47,34,34,34,34,47,34,47,34,34,47,47,47,47,47,34,47,34,47,34,34,34,47,34,47,47,47,34,47,34,34,47,34,34,47,47,47,34,34,34,47,34,47,47,47,34,47,47,34,34,34,34,34,34,34,34,34,47,34,47,34,34,34,34,47,47,34,47,34,34,34,47,47,47,47,47,34,34,34,47,34,47,47,47,47,34,47,34,34,34,34,47,47,34,47,34,47,47,47,34,34,34,34,34,47,47,47,47,34,34,34,47,47,47,34,47,47,47,34,47,34,34,47,47,47,34,47,34,34,34,47,34,34,47,47,47,34,34,47,34,34,34,47,47,34,34,34,47,34,47,34,34,47,34,34,34,47,47,47,34,34,34,47,47,34,47,47,34,47,34,47,47,47,34,47,47,34,34,34,47,34,34,34,34,34,34,47,47,34,34,47,34,34,34,34,34,47,34,47,34,47,34,34,47,34,47,47,34,47,34,34,47,34,34,47,47,47,34,47,34,47,47,47,47,34,34,47,47,34,34,34,34,34,47,34,47,34,34,34,47,47,34,34,47,47,34,47,34,47,34,34,47,34,34,47,34,47,34,47,34,47,47,47,34,34,34,34,34,34,47,47,34,34,34,34,34,34,34,34,34,47,34,47,47,34,47,34,47,34,34,47,47,47,34,34,47,34,47,47,34,47,34,34,34,47,34,34,34,47,47,34,34,47,34,34,34,47,34,47,34,34,34,47,47,34,34,47,34,34,34,47,47,34,34,47,34,34,47,34,47,34,47,47,34,47,47,34,34,34,47,34,47,47,47,47,47,47,34,47,34,47,34,34,34,47,47,34,34,47,34,34,47,34,34,47,34,34,34,34,47,34,34,34,34,34,47,47,47,34,47,47,47,34,34,34,34,47,34,34,47,47,34,34,34,47,34,47,47,34,47,47,34,47,34,34,34,47,34,47,47,34,47,34,34,47,47,34,34,47,34,47,47,47,47,34,47,47,34,34,47,47,47,47,47,47,47,47,47,47,47,34,47,34,47,47,47,47,47,34,47,47,34,34,34,34,34,47,34,47,47,34,34,47,34,47,34,34,47,47,34,47,47,47,47,34,47,34,47,34,34,47,47,34,34,34,34,47,47,47,47,34,34,34,47,34,34,47,47,34,47,34,47,34,47,47,34,47,47,47,34,47,34,47,34,34,47,47,47,34,47,47,47,47,47,34,47,47,47,34,34,47,47,47,47,34,34,47,34,34,47,47,34,34,47,34,47,47,34,34,47,34,47,47,47,34,34,47,47,47,34,34,47,34,34,34,47,47,47,47,47,47,34,34,47,34,34,34,34,47,34,34,47,34,47,47,34,47,34,47,47,34,47,47,34,34,47,34,47,34,47,34,47,47,34,47,47,34,47,34,47,34,47,34,34,34,47,47,47,34,34,47,34,34,47,47,47,47,47,47,47,34,34,47,34,34,34,47,34,34,34,47,34,47,34,34,34,47,34,47,47,47,47,34,47,47,34,47,47,47,34,47,34,34,34,47,34,34,34,34,34,47,34,47,47,34,47,47,47,47,34,47,47,47,47,34,47,47,47,47,34,47,47,47,47,47,34,34,34,47,34,34,47,34,47,47,34,47,47,34,34,47,34,34,47,34,47,47,34,34,34,47,47,47,47,34,34,34,47,34,47,47,34,34,47,34,34,47,34,47,47,34,47,47,34,34,34,47,47,47,34,34,47,34,47,47,34,34,47,47,34,47,47,47,47,47,47,47,34,47,47,47,34,34,34,34,47,47,34,47,34,34,47,34,34,34,47,34,34,34,47,34,34,34,47,34,34,34,47,47,34,47,47,34,47,34,47,47,34,34,34,47,34,47,34,47,47,47,34,47,47,47,47,47,34,47,34,47,47,34,34,34,47,34,34,47,47,34,34,34,34,47,47,47,47,47,34,34,47,47,34,47,34,34,34,47,34,34,34,47,34,34,34,34,34,47,47,47,34,47,34,34,34,47,34,34,47,34,47,34,47,34,47,47,34,34,47,34,47,34,34,47,47,34,47,47,34,34,47,47,34,34,34,47,34,34,47,34,47,34,34,47,47,34,34,47,47,47,34,47,47,47,47,47,34,47,34,34,47,34,34,47,47,34,47,34,34,47,34,34,47,47,34,47,34,47,34,47,47,47,47,34,34,47,47,34,47,34,47,34,34,47,34,47,47,47,47,34,34,47,47,47,47,34,47,47,47,47,34,34,47,34,47,47,47,34,34,34,34,34,34,47,47,47,34,34,47,47,47,34,34,34,34,47,34,47,34,47,34,34,34,34,47,47,47,34,47,34,47,34,34,47,47,34,34,47,47,47,34,34,34,34,47,47,47,34,34,47,47,47,47,47,47,34,34,47,47,47,47,34,34,47,34,34,34,34,34,34,47,47,47,47,34,47,34,47,34,34,47,47,47,34,34,47,47,47,34,47,34,47,34,34,47,34,34,34,34,34,34,34,34,34,34,34,47,47,47,34,34,34,47,47,34,34,34,47,47,47,34,47,34,34,34,34,34,34,34,47,34,34,47,47,47,47,34,47,34,34,47,34,34,47,34,34,47,47,47,47,47,47,47,34,34,34,34,47,34,34,34,34,47,34,47,47,34,47,34,34,47,34,47,34,47,47,47,34,34,47,47,47,47,47,47,34,47,34,34,47,34,34,47,47,47,47,47,47,34,47,34,34,34,34,47,47,34,34,47,34,34,47,47,47,34,34,47,34,34,34,34,34,47,34,47,34,47,34,34,34,47,34,34,34,34,47,47,47,47,47,34,34,47,34,34,47,34,34,34,34,47,34,34,47,47,47,47,47,34,34,47,47,34,47,34,34,34,34,47,34,34,47,47,47,47,47,34,34,34,47,34,34,34,34,34,47,47,47,34,47,34,47,34,47,47,47,34,47,47,47,47,47,34,34,34,47,34,47,34,47,47,47,34,47,34,34,47,34,34,34,47,47,47,47,34,34,47,34,47,34,47,34,34,34,34,34,34,47,47,34,34,47,34,34,47,34,34,47,34,34,47,47,47,34,34,34,47,47,47,47,34,47,47,47,34,47,34,47,47,47,34,47,34,34,47,34,47,47,47,47,34,47,47,34,47,34,47,47,47,34,47,47,47,47,47,34,47,47,34,34,47,34,47,34,34,34,47,47,34,47,34,47,34,34,34,47,47,47,34,47,34,34,47,34,34,34,47,47,47,47,47,47,47,34,47,34,34,47,34,34,47,47,34,47,34,34,34,34,47,34,47,34,47,47,47,47,47,34,47,47,47,34,34,47,47,34,34,47,47,47,34,47,47,34,34,34,47,47,47,34,34,34,47,34,47,47,34,47,47,47,34,47,47,34,47,47,34,47,47,34,34,34,47,47,47,34,47,34,34,47,34,47,34,47,47,34,47,47,47,47,47,34,47,34,47,47,34,34,34,47,47,34,34,47,47,47,47,47,34,34,34,47,47,34,47,47,47,34,34,34,34,47,47,34,34,47,47,47,47,47,34,34,34,47,47,34,47,47,47,34,34,47,34,34,47,34,47,34,47,34,34,47,34,47,47,34,34,47,34,34,34,34,47,34,34,47,47,47,47,47,47,47,34,34,34,34,34,34,34,34,47,47,34,34,47,47,47,47,34,47,47,47,34,34,47,47,34,34,34,34,47,34,34,47,47,34,34,47,47,34,34,34,34,34,34,47,47,34,47,47,34,34,47,34,34,34,34,47,34,34,34,34,34,34,47,47,47,47,34,47,34,34,34,34,47,47,34,34,47,47,47,47,47,34,34,47,47,47,47,47,47,47,47,47,34,34,47,34,47,47,34,47,47,47,34,34,47,47,34,34,47,47,47,34,34,47,34,34,34,34,34,34,47,47,47,47,34,47,47,34,34,47,34,47,34,34,34,47,34,34,47,34,34,34,34,34,47,34,34,47,47,34,34,34,47,47,34,47,47,47,47,47,34,47,34,47,34,34,34,34,47,34,47,34,34,47,47,34,34,47,34,34,34,34,47,47,34,47,34,34,34,34,47,47,47,47,47,47,34,34,47,47,34,34,34,34,34,34,47,34,47,47,34,47,34,47,34,34,34,47,34,34,34,34,34,34,47,47,34,34,47,34,34,47,47,34,34,47,34,34,47,47,34,34,34,34,34,47,34,47,47,47,47,47,34,47,47,34,47,47,34,47,47,34,34,47,34,47,47,47,47,34,47,34,47,34,47,34,47,47,34,47,47,47,47,47,34,34,34,47,47,34,47,47,47,47,34,34,47,47,34,47,34,47,34,34,34,47,34,47,47,34,47,47,34,34,34,47,47,34,34,34,47,47,34,47,47,34,34,34,34,34,47,34,47,34,47,47,34,34,47,34,47,34,34,34,34,47,47,34,47,34,47,34,34,47,34,47,34,34,34,47,47,47,47,34,34,47,47,47,47,34,34,47,47,34,34,47,34,34,47,34,47,47,34,47,34,34,47,47,47,34,47,47,47,47,34,47,34,34,34,34,34,34,34,34,47,34,34,34,34,47,47,47,47,34,47,34,34,34,47,34,34,34,47,34,47,34,34,34,34,47,34,34,34,47,34,47,47,47,34,34,47,47,47,47,47,34,47,47,47,47,34,34,47,34,34,47,34,47,34,47,34,34,47,47,47,34,47,47,34,34,34,47,34,34,47,47,47,34,47,34,34,47,47,47,47,34,34,47,34,47,34,47,34,47,34,34,47,47,47,34,34,34,34,47,34,47,47,47,47,47,34,47,47,47,34,34,47,47,34,47,34,34,34,34,47,34,34,47,34,47,34,47,47,34,34,47,47,34,34,47,34,47,47,34,47,47,34,34,34,34,47,34,47,47,47,34,47,34,34,34,34,34,47,47,34,47,47,47,34,34,47,34,47,34,34,47,34,34,47,47,47,34,47,34,34,34,47,34,34,34,47,47,47,34,34,34,47,47,47,34,34,34,34,34,34,47,34,47,34,34,47,34,34,47,34,47,47,34,47,47,34,47,34,34,47,34,34,34,47,34,47,47,47,34,47,34,47,47,34,47,34,34,47,47,34,34,47,47,47,34,47,47,47,34,34,47,47,34,34,47,34,47,34,34,34,34,47,47,34,47,47,47,47,34,34,47,34,34,34,47,47,34,34,34,47,34,47,34,34,34,47,47,47,47,34,34,47,47,34,47,47,47,47,34,34,47,47,47,34,47,47,47,47,47,47,34,34,47,47,34,34,34,34,47,47,47,34,34,47,47,47,47,47,34,47,34,47,47,34,34,34,47,34,34,34,34,47,47,34,47,47,34,34,47,34,34,47,34,34,34,47,47,34,34,47,34,34,47,47,47,34,34,47,34,47,34,34,34,47,34,47,47,34,34,34,34,34,47,34,47,47,47,47,47,34,34,34,34,47,34,47,34,47,47,34,34,34,47,47,47,47,47,47,34,47,47,47,47,47,34,47,34,34,34,34,47,34,34,34,34,47,47,34,47,34,47,34,47,47,34,34,34,47,34,47,47,47,34,47,34,47,47,34,47,34,47,47,34,47,47,47,47,34,47,34,47,47,47,34,34,47,47,34,47,34,34,34,34,47,34,47,34,47,34,34,34,34,34,47,34,47,47,34,34,34,47,34,34,34,47,47,47,47,34,34,47,34,34,47,47,47,34,47,34,34,47,47,47,34,34,34,34,34,34,47,34,34,34,47,47,47,34,34,34,34,47,47,47,34,34,47,47,47,47,47,34,47,34,34,34,47,34,34,47,47,34,34,47,34,34,47,47,47,34,47,34,47,34,47,47,47,34,47,47,47,34,47,34,47,47,34,47,34,34,47,34,47,34,34,47,47,47,34,47,34,34,47,47,47,47,47,34,47,47,47,34,34,34,34,47,34,47,34,34,34,34,34,34,34,47,47,47,47,34,47,47,47,47,47,34,34,34,47,47,47,47,47,34,34,47,47,34,34,47,47,34,34,47,34,34,34,34,34,47,47,34,34,47,34,34,34,47,47,47,47,47,34,34,34,47,34,34,47,34,47,47,47,47,47,47,34,34,47,47,47,34,34,47,47,47,34,47,34,34,34,47,47,47,47,47,47,47,34,47,34,34,34,34,47,47,34,47,47,34,47,47,34,34,47,47,34,47,47,47,34,34,34,34,34,34,34,34,34,34,47,34,47,34,47,34,34,34,34,47,34,34,34,34,34,34,47,34,47,34,34,34,47,47,34,47,47,34,34,47,34,47,34,47,34,34,47,47,47,34,47,34,47,34,47,47,34,47,34,47,47,34,34,34,34,47,34,47,34,34,34,34,34,34,34,47,47,34,47,34,47,47,34,47,34,34,34,47,47,34,34,47,34,47,47,34,47,34,47,47,34,34,47,47,34,34,34,47,34,34,34,47,47,34,34,47,47,34,47,34,47,34,47,47,34,34,47,34,47,34,47,47,34,47,47,34,47,47,34,34,47,34,34,34,34,47,47,47,34,34,34,47,34,47,47,34,34,34,34,47,34,34,47,47,47,47,47,34,34,34,47,34,47,34,47,34,34,34,34,47,47,47,47,47,34,47,47,34,34,34,47,34,47,34,47,34,47,34,47,34,34,34,47,47,47,34,34,34,47,34,34,34,47,47,47,34,47,34,47,34,34,47,34,47,34,34,34,34,34,47,47,47,47,34,34,34,34,47,34,47,47,34,47,34,34,47,47,47,34,34,47,47,34,47,34,34,34,34,34,34,34,47,47,34,34,47,34,34,34,47,47,47,34,34,34,47,47,34,34,47,34,47,47,34,47,47,47,47,34,34,47,47,47,47,34,34,47,34,47,47,47,47,34,34,34,47,47,34,34,47,34,47,34,47,34,47,47,47,34,47,47,34,47,34,34,34,34,47,34,34,47,34,34,47,47,34,47,34,34,47,47,47,47,34,47,47,34,34,34,34,47,34,34,34,34,47,47,34,34,47,47,34,34,34,47,47,34,34,47,34,47,47,47,47,47,34,34,47,34,47,34,47,47,47,47,47,47,47,34,47,34,47,47,47,47,47,47,47,47,34,34,34,47,47,34,47,34,47,34,34,47,47,47,47,47,34,47,34,47,34,34,47,47,47,47,34,34,34,34,47,34,34,34,34,47,34,47,34,34,47,34,34,47,47,34,34,47,47,47,47,47,34,34,47,34,34,34,34,47,47,34,47,47,47,47,47,47,34,47,47,47,47,47,47,47,47,47,47,34,47,47,34,34,47,47,47,34,47,34,34,34,34,34,34,47,47,47,34,34,34,47,34,34,34,34,47,47,34,34,47,47,47,47,34,47,34,47,47,47,47,47,34,34,34,47,34,34,47,47,34,47,34,34,47,34,47,47,47,34,34,47,34,34,47,34,34,47,47,47,47,47,47,47,47,47,34,47,34,34,34,47,47,34,34,47,34,47,34,34,34,47,47,47,34,47,47,34,34,47,47,34,34,34,47,47,47,47,34,47,47,47,34,34,47,47,34,34,47,47,47,47,47,47,34,34,34,47,34,34,34,47,34,47,47,34,34,47,47,34,47,34,47,47,47,34,34,47,47,34,34,34,34,47,47,47,47,34,34,34,34,34,47,34,34,47,34,47,34,34,34,47,47,47,34,47,34,34,34,47,34,34,47,47,47,47,47,47,34,47,47,34,47,47,34,47,47,34,47,47,47,34,34,47,47,34,34,34,34,34,34,47,34,34,47,34,34,34,34,47,47,47,34,34,47,34,34,34,34,47,34,34,34,47,34,47,47,34,47,34,34,34,47,34,34,34,47,34,47,34,34,47,34,47,47,34,47,47,34,34,34,34,34,34,47,47,47,47,47,34,47,34,34,47,47,34,47,47,34,47,47,47,34,34,47,47,47,34,34,47,34,47,47,47,34,34,34,47,47,47,47,47,47,34,47,47,47,47,47,34,34,34,47,34,34,47,47,47,47,34,47,34,34,34,47,47,34,34,47,47,47,47,47,47,34,47,34,47,47,34,34,47,34,34,34,47,34,47,47,47,34,47,47,34,47,34,34,47,34,34,47,47,47,47,47,34,34,34,47,34,34,34,47,34,47,47,47,47,47,34,47,34,47,47,47,47,34,47,34,47,47,47,47,47,47,47,34,34,34,34,34,47,34,34,47,34,47,34,34,47,47,47,47,47,47,47,34,47,47,47,47,34,34,47,47,34,34,34,47,47,34,34,34,47,34,47,34,34,34,34,47,34,47,47,34,47,47,47,47,47,47,47,47,47,34,47,47,34,47,47,47,47,47,34,47,34,34,34,47,34,34,47,47,47,34,47,34,34,34,47,47,34,34,34,47,47,34,34,47,34,34,47,34,34,34,47,34,34,34,34,34,47,47,47,34,47,47,34,47,47,34,34,47,34,34,34,47,34,34,47,34,34,47,34,34,34,34,34,34,34,34,47,47,47,47,34,34,34,34,47,34,47,47,47,47,47,34,34,34,34,47,47,47,34,47,34,34,47,47,47,47,34,47,34,47,47,47,34,34,34,47,34,47,47,34,34,34,34,34,47,47,34,34,47,47,47,47,34,47,47,34,47,47,34,47,34,34,34,47,34,34,47,34,34,47,34,47,47,34,47,34,47,34,34,34,34,47,34,47,34,34,34,47,47,47,47,47,47,47,34,34,47,34,34,34,47,47,47,34,47,34,34,47,34,47,47,47,47,34,47,47,47,34,34,47,47,47,34,34,47,34,47,34,34,47,34,34,47,34,34,34,47,47,47,34,34,34,47,34,47,34,47,34,34,47,34,34,47,34,47,47,47,34,34,34,47,47,34,47,34,47,34,47,34,34,34,47,47,47,47,34,47,47,34,47,34,34,34,34,34,34,34,34,47,47,34,34,34,34,34,47,34,34,47,47,34,47,34,34,47,47,34,47,34,34,34,34,34,34,47,47,34,34,34,47,47,47,47,47,47,47,34,34,34,47,34,34,47,47,47,47,34,47,47,34,34,47,47,34,47,47,34,34,47,47,47,47,47,34,34,34,34,47,34,47,34,34,47,34,47,47,47,34,34,47,47,47,47,34,47,34,34,47,34,34,47,34,47,47,34,47,34,47,47,47,47,47,47,47,34,34,34,34,34,34,34,34,34,47,34,47,47,47,47,47,47,47,47,34,47,47,47,47,47,47,34,47,47,47,47,34,34,34,47,47,34,47,47,47,47,47,47,34,47,34,34,34,34,34,34,34,47,34,34,47,34,47,47,34,47,34,34,34,47,34,34,34,34,34,47,47,34,34,34,47,47,47,47,47,34,47,47,34,47,34,47,47,47,34,47,34,34,47,47,47,34,47,47,47,47,47,34,47,34,34,47,34,34,47,34,34,47,34,34,47,47,34,34,47,47,47,34,47,47,47,34,47,34,34,47,47,34,34,34,47,34,34,34,34,47,34,34,47,34,34,47,34,47,47,34,47,47,34,34,47,34,34,34,47,34,47,34,34,34,34,34,47,34,34,47,34,34,34,47,34,47,34,47,47,34,34,34,34,34,47,34,47,34,34,47,47,47,34,47,34,34,47,47,47,34,34,34,34,34,34,47,47,34,47,47,47,34,34,34,34,34,34,47,47,47,47,34,34,47,47,47,47,34,34,34,34,34,47,34,47,34,34,47,47,47,47,47,34,34,34,34,47,34,34,34,34,34,34,47,34,47,34,34,47,47,34,34,47,34,47,34,34,34,47,47,34,34,47,47,47,47,34,34,34,47,34,47,47,34,47,34,34,47,34,47,47,34,47,34,34,47,47,47,47,34,47,47,47,34,47,34,34,47,34,34,47,34,47,47,47,34,34,47,34,47,34,34,34,34,47,47,34,34,34,47,34,47,34,47,34,34,34,47,34,34,47,34,34,34,47,34,34,34,47,34,47,47,47,34,47,34,34,47,47,34,47,47,47,47,47,47,47,47,34,34,47,34,34,34,34,34,47,47,47,34,34,34,47,47,34,47,34,34,34,47,47,47,47,34,34,34,34,47,47,47,34,47,34,34,47,47,47,34,47,47,34,34,47,47,34,47,47,47,34,47,47,47,34,47,34,47,47,34,34,34,47,34,47,47,47,34,47,47,47,47,34,34,34,47,34,34,47,47,34,34,34,34,34,47,34,34,47,47,34,34,47,34,34,34,34,47,47,47,47,47,47,34,34,34,34,47,34,34,34,47,47,34,34,47,47,47,47,47,47,47,34,47,47,47,47,34,34,34,34,34,34,34,34,47,34,34,34,47,47,34,34,47,34,34,34,34,47,47,47,47,47,47,34,34,47,47,34,47,47,34,47,47,34,47,34,47,34,47,47,34,47,34,34,47,34,47,34,34,34,47,47,34,34,34,47,34,47,34,34,34,47,34,47,34,47,34,47,47,34,34,47,47,47,34,47,47,47,34,34,47,34,47,47,47,\n",
    "     47,34,47,34,47,34,34,47,34,34,47,47,47,47,47,34,47,47,47,47,47,34,47,34,47,34,34,34,47,47,47,34,47,34,34,34,47,47,47,34,47,47,34,34,34,34,34,47,47,47,47,47,47,34,47,34,47,34,34,34,34,47,47,47,47,47,34,\n",
    "     34,47,34,47,34,34,34,34]\n",
    "\n",
    "\n",
    "dailyTemperatures1(a)"
   ]
  },
  {
   "cell_type": "code",
   "execution_count": null,
   "metadata": {
    "scrolled": true
   },
   "outputs": [],
   "source": [
    "b = [44,35,67,81,94,70,48,33,61,36,95,99,83,83,90,68,39,41,53,58,49,38,67,45,58,86,39,96,78,37,58,90,37,69,99,100,74,84,71,33,95,44,84,53,84,86,70,69,53,39,54,64,46,53,63,72,88,47,36,90,70,83,69,33,67,88,69,36,44,33,37,99,35,56,71,31,95,34,40,55,75,96,43,39,77,35,99,68,74,91,62,52,54,40,72,85,96,31,64,99,36,89,36,42,49,82,52,98,99,73,94,42,54,70,43,38,49,50,60,87,76,82,68,52,77,31,36,43,53,39,71,73,55,61,73,58,55,96,64,74,30,97,66,87,34,40,83,94,90,42,81,89,51,39,66,67,79,78,95,62,65,61,65,32,77,71,34,83,30,67,98,53,31,81,78,46,96,35,50,63,61,65,69,43,55,69,32,69,30,48,43,31,65,82,54,91,70,98,49,43,85,89,75,78,88,54,96,47,85,40,37,66,64,84,56,70,93,46,91,62,88,37,92,97,79,66,65,95,94,89,34,38,99,40,48,85,32,58,32,88,60,36,82,42,42,48,60,52,64,45,56,75,85,32,56,63,78,60,61,97,93,64,72,42,44,94,34,48,45,95,50,60,93,32,74,47,84,37,91,32,53,84,62,38,82,68,93,34,49,50,67,68,49,90,54,61,58,77,85,63,60,70,87,65,45,70,87,36,62,37,36,87,94,70,92,58,80,46,60,93,48,85,98,38,87,53,91,34,31,33,84,47,48,93,36,35,62,65,84,32,69,79,95,38,48,52,86,86,37,31,73,81,87,64,60,82,100,58,73,87,56,60,38,37,39,56,45,60,94,88,95,59,87,79,77,48,56,32,95,94,45,55,97,52,88,41,55,86,96,60,32,65,75,93,90,39,56,43,67,76,32,92,39,73,87,87,58,57,64,85,42,77,47,65,42,46,91,91,36,74,77,61,40,61,76,60,70,59,58,79,53,74,42,89,70,74,48,73,65,95,100,70,88,84,80,79,93,33,55,86,40,53,35,94,98,40,71,83,82,89,71,50,83,34,89,32,51,53,71,100,89,45,66,59,48,54,53,35,73,53,72,36,97,55,80,76,39,70,88,88,97,87,39,66,48,83,77,88,95,59,98,94,57,92,99,54,79,47,56,79,64,98,30,70,38,83,54,88,71,65,37,56,97,95,38,31,78,36,94,98,95,64,30,98,63,65,78,99,30,83,59,43,45,49,44,58,31,61,78,31,55,41,63,68,68,90,100,32,75,44,56,35,98,48,82,32,35,71,51,38,85,68,63,31,79,47,44,94,40,51,53,43,90,42,48,41,32,56,89,56,67,34,65,87,39,50,33,94,94,31,50,84,70,39,78,57,98,57,30,66,52,79,96,66,38,76,100,75,45,30,81,78,32,97,45,61,43,70,50,47,89,71,84,40,56,89,89,77,66,38,31,40,67,83,47,38,98,46,66,52,53,74,39,88,68,57,63,74,68,37,77,80,51,61,63,86,68,52,78,38,38,60,60,63,97,100,71,87,47,37,96,87,51,88,57,60,85,34,65,100,39,44,51,41,66,56,44,81,86,36,65,52,61,96,58,88,34,40,99,88,51,89,97,46,100,53,46,64,69,94,37,51,39,88,94,53,53,38,86,66,44,37,90,72,85,99,81,46,46,89,100,76,89,53,63,51,63,100,90,77,76,67,41,32,66,98,54,84,65,82,71,82,81,69,91,91,38,99,47,35,73,58,95,61,68,45,72,39,63,87,88,39,45,62,68,56,61,59,52,82,43,93,56,54,70,43,51,50,40,62,78,61,70,86,68,82,94,79,39,85,91,32,60,64,50,88,92,50,58,97,30,83,48,59,62,86,42,98,57,56,85,43,38,35,75,60,49,49,58,97,53,47,83,40,85,76,64,58,76,88,86,95,89,69,47,66,93,72,63,91,99,70,35,39,71,64,32,68,79,38,70,47,86,100,73,97,40,71,64,42,86,75,72,41,47,58,92,47,64,41,99,65,55,73,79,80,33,60,95,87,78,60,58,70,83,36,40,80,88,99,45,37,72,82,83,59,46,69,68,66,43,80,64,99,86,62,69,83,73,84,34,33,56,63,62,44,81,94,74,57,36,49,32,33,34,31,38,40,70,97,43,57,74,92,96,59,77,53,32,77,83,38,50,35,80,93,100,41,70,72,43,96,37,38,91,91,98,85,42,30,33,79,70,56,72,71,97,50,94,79,98,67,95,59,100,73,72,96,80,50,86,60,89,92,52,81,98,63,78,62,100,40,36,66,35,76,68,92,31,53,91,56,42,50,69,88,50,96,52,37,84,77,49,70,61,53,35,44,50,40,71,80,63,56,46,62,39,57,84,63,49,95,85,55,65,30,68,34,98,64,44,31,36,94,49,72,68,72,45,88,34,94,98,49,66,68,87,100,61,73,42,94,45,73,74,59,36,86,86,81,97,41,76,30,33,58,61,57,64,93,50,72,91,97,35,80,65,97,73,82,83,100,36,40,100,37,63,64,57,31,70,76,86,95,59,75,61,41,70,63,60,60,66,49,49,61,47,74,49,48,82,69,95,63,47,66,83,100,99,94,30,93,83,40,42,45,72,94,39,50,47,56,73,97,32,58,89,37,75,99,55,42,46,76,89,40,89,53,31,46,56,68,44,89,67,94,93,68,66,30,59,66,81,81,38,90,36,52,61,90,55,58,37,90,60,82,33,87,47,92,51,30,90,88,31,43,51,50,50,70,94,63,63,52,97,94,66,83,57,99,83,56,35,50,70,88,67,71,86,97,67,78,57,39,75,66,57,37,51,71,85,76,90,85,95,92,37,51,57,38,60,88,75,75,50,34,87,88,82,73,41,67,96,99,86,39,95,72,43,43,97,100,91,40,67,46,69,98,90,70,100,48,100,54,80,96,55,75,51,100,40,34,76,54,60,92,97,96,62,95,52,34,45,55,89,92,45,35,79,88,43,63,67,47,43,38,50,37,86,44,40,73,76,100,76,91,89,35,51,80,43,99,46,82,54,79,87,40,47,84,42,35,74,80,98,52,72,75,52,60,74,65,37,42,60,78,64,76,55,60,90,82,68,72,30,90,43,54,40,49,56,86,100,39,88,52,41,50,82,52,88,65,98,98,36,68,79,66,69,78,54,64,72,62,56,38,97,49,38,77,41,37,70,66,59,61,54,39,93,96,77,100,55,78,45,72,59,42,34,61,60,84,50,88,56,96,56,58,35,97,58,70,37,99,61,69,45,85,53,70,89,60,52,45,40,32,86,74,87,88,92,86,94,96,44,86,41,66,47,31,82,91,97,65,39,88,60,83,64,58,93,100,75,34,75,36,88,92,39,76,85,95,65,56,39,51,90,43,95,99,58,54,55,94,74,89,43,44,31,80,94,31,86,43,49,83,48,41,36,64,60,60,59,38,92,50,74,71,97,47,84,54,75,58,32,66,62,94,67,92,98,92,69,55,34,60,94,47,38,57,38,95,87,87,89,46,54,60,61,95,74,30,99,67,74,100,95,75,41,76,74,81,63,44,52,77,54,96,75,90,31,62,38,38,48,81,74,75,59,52,30,67,45,89,68,81,50,48,60,31,46,59,75,30,61,47,57,31,73,80,42,39,30,74,89,97,60,70,46,34,30,38,72,62,51,65,60,60,99,55,64,74,39,76,37,75,54,80,36,39,90,36,85,40,59,88,80,76,48,88,49,79,51,94,61,60,60,69,73,57,93,94,33,53,66,65,62,35,81,47,45,57,30,70,92,91,85,52,78,66,93,97,100,64,100,46,45,76,31,82,85,32,59,38,98,97,51,67,45,71,64,37,90,86,47,42,61,68,48,43,42,84,96,42,61,84,43,84,99,80,70,38,95,75,90,44,30,78,53,35,96,61,69,92,82,81,50,34,90,92,48,98,30,52,91,63,58,93,100,37,72,71,84,90,31,100,44,69,86,38,86,73,100,88,30,78,48,53,54,64,50,68,80,72,53,70,35,45,75,43,63,97,34,57,77,50,66,83,96,40,70,62,53,94,48,42,69,69,45,71,75,41,90,82,93,54,81,61,77,69,86,73,39,56,55,84,41,46,36,66,34,55,83,71,41,100,32,49,56,32,64,89,39,34,94,43,47,31,88,69,68,76,98,100,49,44,60,42,66,72,59,88,94,71,96,94,75,63,74,74,91,57,58,39,84,40,40,36,45,36,46,57,53,85,65,78,71,78,46,95,59,42,80,100,41,87,81,35,36,42,74,84,72,51,50,81,56,53,70,38,32,95,72,78,74,54,30,60,71,99,96,57,99,42,76,52,59,79,64,65,82,46,84,94,44,48,39,42,63,62,69,72,75,97,48,72,68,93,60,76,32,52,40,83,52,51,49,84,67,52,83,32,67,100,59,33,88,73,38,86,44,92,85,94,33,46,57,75,84,78,89,98,82,90,77,40,44,53,35,35,74,61,42,70,80,100,34,77,84,43,96,86,68,65,100,50,87,94,92,35,41,80,66,62,64,72,85,37,82,39,92,99,33,40,63,50,67,90,47,39,50,69,75,59,69,85,61,80,70,59,48,48,42,37,35,43,51,100,60,45,58,96,79,38,60,48,84,85,76,46,83,76,56,37,83,63,54,33,67,71,80,79,62,64,74,78,47,39,92,72,67,53,74,97,49,32,49,40,40,91,84,66,32,54,35,53,48,68,74,73,83,45,64,52,88,49,38,84,99,53,56,68,70,35,41,42,81,97,55,51,70,84,49,95,49,81,87,43,30,39,72,39,45,31,50,72,72,52,85,54,72,56,47,52,42,41,87,52,81,95,94,35,71,71,35,40,90,66,70,50,66,36,46,67,53,62,60,41,100,85,44,97,59,36,62,72,70,42,70,37,72,74,96,95,36,60,42,49,72,98,53,94,57,31,86,61,49,95,77,43,38,83,39,89,59,47,79,66,60,62,38,97,86,79,90,46,63,43,89,59,54,51,96,73,37,63,96,65,78,42,43,95,46,93,59,80,54,33,87,75,73,32,86,30,55,78,94,30,34,89,48,37,52,45,37,59,83,96,79,95,64,53,68,70,71,41,57,100,82,68,56,51,97,75,85,63,50,52,51,60,30,60,93,60,50,88,53,41,35,36,84,57,35,99,91,77,59,38,62,33,42,61,54,88,70,40,46,37,94,62,82,99,89,84,74,69,77,72,79,82,46,40,88,66,90,59,84,41,59,61,60,70,93,80,95,48,65,96,45,74,78,60,94,91,88,45,75,32,34,50,80,50,63,64,53,62,85,47,43,73,75,85,48,37,93,58,54,94,96,53,96,97,61,31,50,85,54,63,55,35,81,72,74,40,60,71,81,84,81,45,53,45,88,58,99,61,88,43,51,43,98,64,55,96,94,33,77,52,34,83,90,96,49,72,57,51,68,91,53,98,91,30,75,87,65,35,59,56,73,39,56,40,36,49,35,67,62,43,83,32,93,60,40,83,78,80,58,76,99,55,65,70,44,53,80,93,51,51,68,38,91,43,72,94,72,63,37,44,92,55,33,62,42,63,56,74,73,41,46,77,41,67,34,37,38,62,67,74,40,76,75,73,80,97,50,63,81,70,85,66,74,63,81,41,87,63,60,53,88,96,86,92,79,32,56,98,78,62,55,82,71,46,64,63,80,78,94,73,47,48,88,92,77,48,84,43,88,67,51,82,35,94,98,41,40,66,87,46,56,35,33,47,68,70,90,80,65,69,62,68,45,47,61,39,92,73,44,78,77,64,91,84,87,95,73,40,52,44,90,55,82,70,39,90,68,32,98,83,83,85,55,78,50,59,42,36,46,67,69,94,63,41,39,73,32,58,31,100,71,61,30,78,59,38,84,100,41,34,86,93,31,85,36,62,89,57,57,75,42,77,38,60,38,42,60,71,93,80,69,56,93,74,44,47,66,90,35,88,32,85,82,57,76,48,79,68,69,98,40,52,94,83,47,40,74,74,52,70,81,60,73,33,72,74,48,85,31,47,63,45,67,89,99,97,43,59,53,66,62,78,51,53,75,84,43,67,70,37,72,81,98,42,66,84,79,52,44,57,72,61,65,66,76,88,61,53,43,79,71,84,67,70,60,66,43,73,33,44,83,89,83,62,42,52,45,98,34,73,74,98,38,59,34,55,98,49,77,92,69,59,77,54,52,74,53,71,67,98,96,66,98,76,81,68,83,95,41,59,62,68,42,75,59,78,82,53,100,68,63,54,66,98,93,88,31,43,69,59,90,80,59,67,66,54,39,41,61,64,47,86,69,60,89,76,82,68,54,33,93,46,73,36,68,74,99,70,89,32,50,95,31,58,75,97,58,40,46,98,60,62,98,39,75,35,52,81,58,96,53,32,75,63,59,70,92,93,100,91,33,92,48,68,53,100,74,53,94,30,74,97,71,55,34,33,72,39,95,100,84,48,72,98,40,38,35,76,83,43,65,90,37,33,58,89,94,75,97,63,92,73,87,58,39,46,98,45,91,77,65,34,75,82,80,55,63,95,100,100,55,87,32,77,67,92,82,85,38,99,75,35,44,85,44,70,37,95,97,42,92,62,30,32,54,57,71,83,91,38,70,93,72,85,40,33,89,53,53,51,75,45,83,99,92,53,71,60,64,41,83,38,66,31,91,100,61,61,91,71,64,55,31,45,67,50,50,47,99,73,64,83,90,33,37,34,74,34,41,59,34,92,59,73,40,30,90,50,40,51,66,37,43,38,98,88,42,81,37,65,75,65,35,84,88,79,69,44,62,68,66,83,89,34,30,57,97,92,63,32,91,97,67,97,99,86,37,91,53,84,46,74,99,54,51,85,79,98,71,63,97,40,92,72,82,77,38,61,52,68,62,76,37,32,56,65,80,69,85,80,82,88,80,92,92,49,34,100,96,69,46,69,52,32,60,33,89,30,97,41,45,40,45,90,89,51,50,46,91,92,62,35,58,86,63,76,99,76,54,37,93,87,95,98,74,94,37,52,43,97,53,76,98,68,98,35,78,91,46,98,96,75,52,80,30,77,61,66,44,60,43,99,96,86,94,64,42,73,90,67,43,97,85,65,95,56,78,43,63,59,98,47,33,62,81,46,80,78,83,63,69,63,39,96,39,42,79,49,60,40,74,93,65,90,52,59,54,84,45,67,86,71,34,37,90,50,43,36,54,71,100,88,85,36,53,41,51,73,42,60,58,65,84,67,85,82,82,43,35,81,75,99,41,30,43,81,90,78,52,82,78,45,77,76,36,50,59,87,75,80,92,38,47,81,85,69,81,49,57,95,89,83,49,99,56,56,37,93,45,47,82,38,42,100,48,94,34,62,50,58,39,47,86,33,51,43,63,71,65,31,68,69,81,80,97,98,72,42,92,53,50,35,38,32,100,34,57,40,54,57,95,32,75,87,66,98,74,95,35,39,62,90,65,77,56,56,46,97,58,87,53,83,58,100,44,50,35,51,87,30,64,33,38,30,48,54,37,83,65,55,31,84,90,66,82,84,72,36,40,65,77,30,70,90,50,100,65,62,48,45,87,94,36,96,31,63,44,68,66,86,72,61,39,77,76,67,89,65,43,34,84,100,73,94,38,55,69,67,49,31,71,58,83,48,64,53,95,83,74,53,75,79,41,53,99,69,65,73,54,82,67,59,66,45,100,90,86,43,68,39,64,89,94,51,33,79,69,33,54,40,67,76,91,51,72,61,70,60,30,50,72,53,57,30,44,99,56,54,80,82,94,83,66,45,39,38,93,95,59,78,77,85,95,33,73,50,64,57,75,100,30,65,42,33,63,54,70,97,74,63,95,73,90,31,97,86,66,70,59,92,34,89,63,36,59,48,71,62,35,93,68,41,76,81,30,38,31,44,58,34,94,66,55,88,59,66,50,65,57,82,60,100,59,53,74,95,54,76,70,35,55,35,71,80,53,57,35,97,50,89,64,68,41,51,81,69,63,71,44,84,59,95,93,45,57,63,67,43,75,82,72,55,66,82,78,36,31,82,62,92,46,89,46,63,76,78,88,31,76,32,95,83,89,49,73,34,52,38,31,56,98,73,68,62,67,99,75,35,50,94,92,90,73,38,87,37,50,47,45,67,51,69,49,97,71,33,59,98,68,50,46,39,35,51,94,80,71,80,96,61,51,92,30,42,45,33,72,98,30,69,63,90,47,94,48,51,72,68,53,95,30,86,88,89,81,64,38,92,58,58,97,36,66,94,56,50,44,49,98,77,59,36,98,100,64,61,97,95,64,98,56,68,93,91,78,53,56,52,89,47,67,40,31,87,80,36,72,99,85,91,86,97,53,35,66,33,98,51,57,52,83,63,32,87,81,86,33,90,39,49,44,33,62,71,36,55,84,38,53,56,89,87,40,47,74,56,33,80,36,80,88,96,78,75,67,59,63,51,83,51,54,48,73,78,30,71,31,96,95,60,54,35,87,42,80,80,40,75,40,39,75,63,93,91,82,74,37,51,72,39,91,68,85,76,48,76,50,61,38,44,37,100,68,68,57,72,73,84,66,37,96,77,89,89,30,96,62,59,82,31,92,55,100,66,45,62,100,40,56,69,77,52,56,32,83,84,98,49,38,100,74,63,82,82,59,62,33,54,78,80,43,59,89,90,59,77,75,93,81,37,85,31,79,94,79,92,36,86,100,87,72,84,73,87,35,57,30,51,40,88,37,43,72,44,83,31,53,38,57,79,31,72,30,49,49,45,55,98,53,79,58,78,91,95,30,46,43,60,61,81,72,31,61,90,54,88,48,45,78,36,35,80,90,48,40,83,35,65,53,33,42,55,92,84,52,65,49,40,96,100,96,45,36,48,34,64,39,65,46,47,64,77,100,77,38,54,33,48,56,42,77,50,67,86,31,72,52,88,87,96,70,48,95,31,81,91,78,59,54,85,93,77,95,53,60,42,56,56,100,90,76,94,74,82,51,72,80,49,78,53,85,44,75,76,31,50,40,76,80,90,63,71,81,75,37,38,78,63,44,100,49,32,78,46,34,38,85,42,46,96,81,71,45,77,79,67,43,80,64,96,91,96,46,58,59,52,38,42,34,76,65,44,84,82,81,34,88,45,55,74,69,74,67,92,40,82,90,70,71,82,32,64,71,80,46,94,53,99,45,48,72,85,52,97,90,77,82,46,50,58,47,85,93,75,35,62,51,57,80,87,56,61,37,70,81,42,33,43,89,99,42,91,74,42,47,95,52,84,93,34,77,96,74,50,82,96,66,77,61,55,44,40,63,81,40,98,83,30,83,52,45,53,62,58,42,51,44,32,77,64,77,70,93,73,78,67,67,83,36,54,94,99,51,60,52,77,43,41,31,77,62,44,72,70,39,39,73,40,85,71,61,76,50,56,81,71,66,67,51,71,80,75,50,52,30,92,34,67,85,33,63,72,90,46,58,62,42,87,33,62,39,80,86,83,66,42,65,50,85,46,63,43,61,60,93,89,56,78,66,57,85,61,89,69,97,41,31,52,51,85,45,74,60,76,44,61,91,73,69,60,41,59,31,64,100,55,45,40,66,43,61,65,60,45,54,82,71,61,45,56,98,52,66,33,52,51,89,55,89,74,70,87,50,78,32,41,49,64,61,73,39,76,32,72,78,89,34,63,38,67,45,38,34,93,57,47,68,67,66,67,74,79,40,34,55,87,70,40,77,56,84,31,33,34,74,100,81,56,76,94,76,54,72,47,64,42,76,66,61,56,47,80,95,82,49,81,37,53,76,53,99,96,31,74,97,59,73,51,91,77,45,87,68,51,55,97,36,31,33,95,47,85,65,53,35,60,40,95,62,81,45,50,81,46,69,40,66,77,61,67,66,41,68,97,60,36,62,36,43,64,37,79,71,87,53,76,31,74,47,54,97,91,71,37,50,96,86,35,31,58,80,96,41,82,34,84,67,44,65,90,36,38,57,71,88,93,64,33,97,58,94,70,38,31,73,91,99,76,66,56,58,64,78,43,77,87,56,32,80,93,68,38,82,83,96,87,53,81,63,72,39,73,35,93,46,36,79,37,67,59,35,59,53,68,53,77,53,87,81,72,53,71,67,48,88,63,54,35,35,91,59,72,66,70,83,66,44,91,56,67,37,84,82,80,69,89,63,89,68,41,93,42,87,39,47,94,46,59,34,92,53,51,71,80,100,40,73,88,52,49,84,100,62,80,33,67,99,82,96,100,39,72,95,48,81,88,64,97,64,94,53,60,39,50,43,35,33,54,92,65,54,96,65,78,67,48,34,37,56,86,35,46,62,84,95,46,43,57,73,52,35,54,59,32,61,74,49,54,95,92,54,81,37,82,93,90,46,63,31,30,30,91,65,99,52,32,36,48,39,92,37,95,46,95,44,72,87,99,76,76,82,31,74,69,51,56,38,34,39,65,43,69,97,100,91,78,80,78,41,45,42,44,51,52,93,74,88,39,78,88,76,98,67,54,45,61,63,46,81,38,38,78,53,50,49,100,61,83,90,92,50,95,96,38,34,50,98,68,35,50,65,92,96,73,47,68,67,78,63,97,98,88,80,73,63,45,89,64,80,81,59,64,54,98,89,56,98,39,83,40,80,44,48,36,90,43,68,64,30,43,37,58,77,98,60,60,98,87,37,48,75,98,47,71,55,67,86,91,35,66,74,77,38,43,40,74,35,67,43,64,52,47,78,50,53,80,67,67,74,68,100,75,39,88,46,42,45,52,66,37,83,90,53,72,63,100,89,77,72,85,77,46,52,76,78,86,56,84,42,69,75,38,43,87,32,46,38,51,64,94,98,82,52,93,77,50,61,72,84,48,34,44,92,59,63,46,84,44,90,57,71,41,30,70,80,99,72,52,31,50,72,96,71,75,50,49,51,36,96,87,31,78,76,62,82,53,75,72,37,71,67,72,69,86,41,43,95,95,93,38,64,74,32,82,47,36,77,55,82,68,58,32,40,90,37,90,86,51,47,32,89,66,32,66,42,35,45,93,73,37,46,81,40,89,40,77,90,100,79,43,82,37,45,73,64,79,52,97,63,30,72,36,82,85,48,100,66,89,91,85,62,90,51,78,42,44,62,64,46,75,99,85,52,94,57,80,94,92,37,82,48,80,70,99,97,68,55,76,35,38,69,61,80,46,41,59,70,76,91,93,43,46,87,60,72,58,52,59,85,42,32,55,51,86,35,61,73,86,94,36,53,48,62,65,89,80,95,80,54,92,75,35,38,94,87,93,37,62,67,93,60,45,77,87,39,96,36,39,61,83,87,81,81,70,95,94,74,77,85,48,55,68,80,94,54,85,49,72,72,74,83,35,41,79,36,54,52,54,52,45,80,47,64,94,34,96,91,60,73,82,90,53,61,61,71,76,33,32,50,53,46,76,84,91,32,44,76,82,86,76,48,72,73,30,90,36,72,83,41,77,70,34,92,53,75,37,54,72,87,85,32,31,85,88,96,33,87,73,92,56,46,33,87,93,31,49,77,64,45,40,46,54,34,81,91,86,56,35,66,78,47,74,65,83,60,77,60,69,93,86,59,89,77,98,52,72,73,89,95,99,35,33,54,43,59,95,51,58,36,47,47,39,97,63,90,37,98,97,66,100,39,56,88,74,86,78,94,65,45,31,55,64,36,60,78,77,30,93,33,97,94,44,78,76,72,57,88,37,77,96,52,84,32,85,64,59,89,30,69,98,86,62,94,90,71,83,79,44,87,55,81,95,62,60,62,89,69,81,96,60,84,64,45,55,45,71,77,87,62,73,85,39,78,63,35,92,60,52,53,65,41,74,67,67,56,76,76,44,43,44,68,32,71,48,78,45,84,37,93,85,79,93,51,37,88,33,33,61,31,66,85,67,87,80,89,62,46,99,51,30,32,92,78,99,82,37,65,85,36,39,71,51,85,51,65,70,39,70,65,42,42,47,61,84,70,61,97,89,30,69,73,73,73,75,57,50,84,74,60,30,43,80,54,53,47,66,63,77,67,43,43,31,44,87,66,46,91,31,62,45,87,43,85,65,36,45,89,64,89,66,93,94,92,94,40,92,68,80,65,70,49,44,91,96,35,93,39,46,63,92,67,30,60,74,67,34,95,31,42,89,78,77,63,97,69,30,95,100,78,67,54,49,97,91,97,43,87,79,84,67,38,80,42,91,65,60,61,50,78,83,90,79,87,95,42,66,57,81,37,34,52,89,54,54,46,73,67,96,81,32,63,35,57,100,68,98,46,66,31,71,84,69,84,64,40,42,94,100,57,58,77,72,63,71,71,84,83,44,52,36,98,41,77,39,67,38,81,80,85,89,40,68,63,71,74,59,42,64,82,34,92,35,70,38,78,51,92,79,45,71,33,64,59,32,46,71,90,97,43,38,73,37,70,91,78,86,65,83,87,96,65,92,84,98,96,41,55,75,83,31,57,59,37,55,31,58,47,51,83,40,92,64,86,98,47,43,37,56,67,37,93,100,36,93,43,99,47,40,37,78,93,70,66,67,80,99,63,75,63,42,35,46,88,75,75,58,39,30,48,88,31,30,85,35,42,90,42,61,36,49,81,63,41,35,52,59,81,37,37,52,41,46,98,70,52,32,62,69,88,38,68,56,77,63,64,91,47,35,93,42,95,47,54,34,93,93,61,84,41,64,46,46,71,70,49,54,59,50,68,33,64,50,92,76,86,52,100,86,90,88,51,45,30,53,30,89,81,94,50,53,59,67,96,81,39,48,50,36,31,92,35,77,71,50,30,97,57,97,30,81,49,35,51,96,70,64,59,60,87,46,49,57,96,31,33,93,31,83,63,76,58,63,77,44,79,73,71,44,49,49,77,92,97,92,84,60,94,41,33,48,98,63,40,88,42,43,35,75,73,85,87,50,88,48,70,86,65,62,39,92,59,38,100,65,38,92,97,33,95,51,84,98,35,63,61,97,35,50,31,31,75,88,69,39,68,82,81,89,45,51,92,35,84,51,89,86,35,38,92,37,81,95,41,60,32,44,98,100,86,80,49,57,51,45,97,59,60,88,49,50,72,43,88,58,66,71,77,43,68,85,41,89,79,93,65,37,87,51,51,52,51,41,91,36,61,85,41,49,71,63,100,76,55,98,44,44,66,77,72,83,92,32,85,51,65,97,31,50,78,34,100,74,88,54,78,89,65,45,43,33,94,87,76,64,95,67,44,36,67,85,73,67,87,57,32,95,56,47,49,72,84,80,41,91,38,90,77,34,59,50,87,56,67,89,41,86,53,52,70,67,42,46,65,66,44,94,30,69,91,55,100,99,69,66,96,44,36,71,77,34,69,69,57,52,50,48,50,50,54,45,65,54,81,50,70,88,58,71,45,47,33,51,95,74,94,76,41,67,96,78,51,64,45,62,54,74,94,73,69,72,100,72,43,55,77,69,75,60,54,46,33,54,47,85,39,70,75,72,87,65,30,95,74,97,55,73,58,54,78,53,52,34,34,82,53,37,36,80,35,64,42,30,76,51,66,91,49,60,95,45,31,57,34,35,42,47,69,72,43,75,79,59,87,76,75,75,77,87,51,74,95,98,73,38,67,82,91,44,30,42,65,36,65,68,73,81,97,71,96,75,37,73,91,30,43,93,100,50,70,36,42,79,90,87,31,61,62,99,75,50,97,52,39,89,63,66,64,32,70,33,58,64,35,99,80,93,44,31,35,59,63,47,75,69,85,74,86,95,36,49,87,94,56,64,54,64,75,34,95,33,40,55,86,70,58,41,54,67,55,99,53,69,67,41,59,32,97,46,65,70,53,96,98,82,55,58,89,47,91,40,68,33,87,42,73,65,34,83,91,81,89,92,49,91,58,41,73,49,61,39,38,44,90,94,70,35,66,62,70,34,45,50,32,39,77,75,33,83,61,98,100,68,91,65,60,42,54,86,49,59,32,61,84,71,44,54,70,80,44,59,55,53,86,32,46,93,54,48,86,38,100,74,74,76,65,91,75,37,94,35,47,89,69,68,76,45,95,74,56,85,78,97,34,35,84,84,45,80,66,51,93,72,53,44,55,72,58,33,95,73,100,84,44,44,94,49,56,74,41,73,37,48,48,70,83,45,53,62,60,81,59,79,59,64,34,85,80,63,90,71,79,65,86,58,32,64,69,75,43,49,60,66,96,53,31,96,48,74,33,43,55,50,60,41,79,47,80,99,89,45,56,91,83,45,65,80,58,87,92,52,83,65,50,93,97,100,94,52,67,83,76,90,81,43,84,82,55,39,67,72,83,99,92,53,45,52,70,83,74,37,94,81,72,46,79,51,39,38,67,96,37,82,96,50,95,55,93,85,79,59,49,59,90,79,100,39,72,79,64,88,79,97,52,31,41,74,34,56,44,84,47,96,62,30,51,97,68,38,88,86,93,79,68,39,41,59,31,47,99,66,89,69,98,88,71,85,88,42,85,98,36,39,60,31,100,74,87,43,76,66,71,71,62,81,42,42,56,43,88,51,82,41,82,43,99,50,43,69,80,37,84,83,45,94,86,53,37,96,61,51,64,91,96,99,47,61,74,42,87,56,57,68,95,46,72,66,52,98,93,77,71,32,99,95,80,60,45,43,44,30,43,71,38,50,66,81,88,35,78,52,78,94,35,82,95,64,58,64,82,65,70,43,66,82,86,91,70,95,45,92,94,41,90,65,42,35,64,65,74,60,41,47,82,33,62,75,93,62,85,80,82,52,76,66,61,55,43,79,72,82,39,62,72,88,75,47,82,55,62,90,83,52,67,38,40,54,84,83,75,30,65,76,72,60,93,81,59,94,37,57,49,32,75,35,61,89,84,95,97,70,36,75,90,39,31,93,80,53,77,87,52,47,97,76,81,64,71,38,75,48,87,97,96,75,34,89,96,79,77,41,54,41,98,61,85,97,56,60,76,80,50,57,50,82,82,45,55,94,97,41,99,81,60,61,74,85,93,69,77,61,77,94,81,47,38,96,39,41,100,60,99,33,71,32,39,38,76,55,55,72,44,85,37,95,82,57,40,65,64,33,56,96,92,48,83,58,54,36,67,99,96,44,68,85,77,48,86,99,71,43,45,51,82,30,50,92,98,49,97,94,90,36,64,85,79,89,64,68,44,35,66,51,48,87,98,88,43,97,36,51,98,57,35,43,32,48,87,59,39,83,83,87,49,39,53,88,59,92,82,75,87,84,67,56,32,45,99,79,87,88,77,57,42,51,37,74,96,94,73,40,63,74,61,51,65,76,56,69,93,88,41,80,70,61,79,33,97,59,85,49,91,72,50,63,56,70,39,39,93,82,76,85,76,33,43,83,39,30,49,99,94,63,60,50,59,93,51,89,69,87,33,50,37,36,95,95,45,100,42,60,69,33,56,76,69,73,52,47,40,94,63,55,52,84,91,59,39,44,34,46,63,70,48,47,87,62,100,63,60,55,82,55,34,55,51,48,78,74,34,66,38,52,96,41,94,80,47,31,31,31,89,78,100,64,93,94,90,79,59,65,33,88,96,88,89,51,37,73,35,32,45,90,79,35,90,42,77,71,39,80,64,32,89,71,55,65,92,58,73,37,74,100,61,48,42,45,63,90,49,43,60,36,83,88,53,92,51,96,84,47,63,55,98,80,40,56,84,87,83,92,92,97,86,73,34,95,49,36,64,48,87,83,35,54,90,96,78,84,59,42,43,98,51,65,57,34,38,35,86,55,56,55,62,92,33,68,40,34,30,96,80,33,49,97,85,61,76,91,65,57,40,98,52,69,66,84,64,32,79,40,46,79,92,99,83,69,63,86,33,91,34,98,88,71,51,82,56,63,88,85,86,32,49,99,93,80,100,97,55,52,89,84,82,30,85,74,37,45,51,65,53,95,63,45,59,55,45,64,91,39,47,79,36,42,71,95,34,92,38,55,69,55,56,57,57,67,92,70,81,73,70,47,99,67,87,82,97,100,52,98,47,46,70,98,61,39,100,31,95,69,45,33,55,75,54,71,58,86,88,70,79,70,50,31,39,54,95,56,74,82,77,97,47,100,39,46,89,93,75,35,34,47,87,64,66,59,54,81,59,51,30,48,40,75,39,100,95,34,68,60,45,54,88,97,49,49,60,82,72,100,59,97,92,42,95,68,39,69,52,53,100,49,41,68,39,61,92,82,32,64,67,37,41,62,68,57,50,97,83,33,90,70,100,47,66,49,74,38,88,40,72,80,96,51,71,84,30,96,39,57,80,68,49,79,93,86,74,43,98,97,61,48,72,97,59,69,83,84,57,54,43,47,72,91,44,54,95,88,88,66,42,37,33,89,40,95,100,49,70,57,55,86,64,48,33,96,85,99,88,60,60,93,90,44,54,68,61,43,68,76,70,47,79,39,62,48,84,30,94,99,100,82,45,66,98,73,82,67,33,34,33,34,76,76,49,35,45,74,37,39,50,72,69,30,61,94,50,32,65,96,45,34,72,77,63,86,97,32,67,70,30,66,74,70,72,47,50,77,70,87,42,87,80,73,31,44,52,74,64,40,83,84,94,56,52,30,30,98,70,57,96,80,57,85,67,40,59,39,96,100,40,75,39,67,88,95,42,61,42,60,54,91,65,65,91,67,68,79,48,71,94,70,81,90,70,62,89,91,54,61,36,69,78,37,91,41,36,94,50,95,86,55,43,68,48,87,42,50,37,84,30,70,89,88,53,99,69,38,98,80,36,45,78,39,54,85,82,36,43,51,97,68,97,62,73,64,90,37,38,71,73,69,73,49,72,74,88,74,53,73,81,65,92,100,57,76,88,67,30,66,45,62,87,50,56,37,41,64,30,49,42,89,81,67,64,79,94,40,80,63,48,71,98,93,41,78,56,85,62,76,76,64,87,76,65,45,54,72,74,98,97,49,96,41,65,61,73,41,66,64,53,82,36,32,33,30,58,91,70,86,52,93,63,78,49,95,94,32,45,32,97,72,33,99,32,34,100,80,64,47,90,76,69,73,84,62,87,65,74,76,66,85,48,79,79,88,58,73,53,39,79,34,60,99,38,86,58,99,57,71,76,49,34,33,98,33,86,92,92,55,32,86,80,65,61,60,55,63,98,58,55,88,53,86,97,46,39,63,78,80,42,57,40,98,47,32,73,43,94,59,98,51,66,52,95,92,48,89,91,81,70,95,95,99,89,61,78,69,59,70,92,54,51,68,77,52,71,91,59,63,56,35,44,44,55,76,94,59,95,77,77,98,60,38,48,79,54,33,94,48,49,30,74,70,46,33,50,68,74,31,72,95,65,32,72,78,38,52,89,78,55,84,81,32,71,77,71,73,72,87,99,31,96,84,59,60,60,58,52,40,31,31,77,72,61,93,46,36,69,100,73,72,97,70,43,38,62,68,90,88,75,85,49,70,45,67,87,73,78,60,52,36,82,60,48,31,58,79,42,86,65,45,75,60,95,32,88,86,36,78,72,88,85,100,92,47,33,81,87,99,78,85,63,90,39,36,46,38,78,60,40,50,37,63,35,86,32,49,54,70,37,63,67,93,52,87,73,77,76,36,97,89,36,65,68,76,81,89,90,79,45,78,80,86,91,69,73,59,94,96,36,70,86,48,78,42,94,97,45,73,65,98,61,90,75,97,37,80,34,35,49,91,91,61,77,40,66,76,41,53,54,77,38,50,66,67,80,80,55,59,35,30,46,82,66,40,57,42,31,67,100,41,33,64,88,69,100,97,68,33,42,69,36,70,87,41,78,47,87,31,31,42,75,32,84,68,39,48,79,92,53,61,90,51,90,36,93,47,56,53,54,82,30,85,52,63,67,97,57,34,73,38,92,61,58,38,89,61,83,99,62,58,92,32,83,74,60,38,32,48,51,74,77,64,99,72,59,77,30,88,30,85,70,65,54,43,34,93,87,77,33,98,51,44,38,93,82,84,45,80,100,56,57,78,47,92,69,38,74,30,90,88,69,73,53,79,97,47,58,71,73,95,83,78,100,88,52,69,75,60,43,36,50,57,52,94,87,82,73,47,56,80,48,73,41,68,32,32,31,89,80,87,56,91,54,90,68,33,96,35,64,81,95,37,67,89,70,33,49,55,62,65,41,94,52,93,44,44,47,68,46,77,93,31,83,39,90,39,53,60,50,88,35,80,35,58,100,54,68,73,55,91,97,93,95,64,68,94,70,96,86,30,44,87,67,36,43,42,96,36,44,76,54,90,95,49,71,82,82,33,57,33,51,68,93,41,30,78,71,91,45,55,99,44,80,62,48,79,51,71,93,76,58,92,96,79,78,33,62,91,52,63,78,56,97,35,40,58,30,40,86,44,78,31,59,64,80,43,39,89,53,47,50,48,43,97,38,59,97,68,44,71,39,50,59,98,56,90,96,36,34,54,40,36,61,43,90,90,63,78,86,30,37,56,33,93,97,54,90,42,60,91,53,89,38,30,46,70,54,85,40,62,88,31,87,84,66,84,97,92,60,94,32,37,62,37,78,86,76,74,58,80,45,39,55,82,68,48,33,91,91,62,58,91,55,49,65,60,71,46,42,57,39,51,83,85,55,61,59,98,45,47,89,55,60,43,93,76,49,95,80,35,66,65,98,66,59,37,41,41,33,41,66,98,58,79,90,40,69,71,44,58,90,67,42,82,59,55,47,64,36,46,34,68,60,48,82,43,87,98,89,45,70,39,89,54,61,70,81,49,57,52,46,84,52,32,69,89,34,75,87,87,52,34,67,97,66,69,89,82,36,63,61,62,57,98,30,76,43,72,46,59,87,47,69,50,84,54,91,37,54,64,90,64,46,43,74,51,91,100,95,63,98,67,56,96,87,45,53,62,89,34,67,53,53,88,56,38,79,63,68,100,76,61,98,82,32,78,35,90,55,42,72,68,98,58,46,87,50,58,40,100,46,60,57,49,63,66,75,57,71,87,55,86,82,97,74,91,96,71,90,98,86,40,98,62,100,97,100,73,52,53,94,94,41,97,48,39,61,97,32,75,80,85,48,57,81,86,98,57,52,81,94,30,37,70,73,84,59,72,69,58,67,35,95,59,48,61,84,95,86,90,100,69,77,73,71,51,45,49,85,93,99,30,39,74,44,95,89,61,93,67,60,47,68,42,85,34,73,70,50,56,84,41,30,79,64,60,83,97,38,88,49,48,49,82,88,67,63,78,42,75,94,31,49,78,42,69,85,97,37,32,33,76,55,86,72,77,32,63,83,81,86,84,42,59,83,33,89,51,98,56,41,76,36,64,71,37,55,68,71,37,51,35,94,50,32,56,49,76,56,56,51,58,89,31,62,35,89,86,35,67,48,97,55,46,73,100,69,62,83,30,43,89,78,97,56,50,45,53,87,78,60,47,55,79,36,77,37,62,63,68,33,59,63,80,48,70,38,34,55,80,73,95,92,32,87,95,80,48,57,56,37,88,49,96,89,98,59,70,56,54,43,84,83,82,68,50,87,46,60,74,46,88,67,69,30,55,77,54,58,96,51,32,89,60,78,36,98,79,34,77,93,86,60,62,49,49,79,40,67,94,68,51,64,86,30,83,89,73,42,52,82,97,85,60,63,32,31,33,41,61,34,30,60,54,64,36,83,78,70,69,70,94,91,52,79,70,82,64,87,93,72,89,62,93,32,41,52,76,51,34,45,36,91,37,35,66,74,56,49,38,36,74,74,92,32,98,73,61,74,41,99,43,82,67,59,32,41,72,38,39,95,34,59,73,82,43,41,54,73,52,72,99,85,40,55,89,54,97,82,80,60,69,32,98,49,91,88,56,75,71,64,59,73,84,40,54,30,74,71,86,67,89,69,55,80,92,42,83,33,95,47,94,42,60,56,42,93,64,52,30,41,33,73,70,47,39,52,51,98,54,33,99,43,84,34,98,50,87,57,100,77,31,80,51,42,55,30,53,40,34,56,39,55,87,83,75,84,46,88,32,98,76,70,53,53,85,46,82,81,73,100,60,93,89,84,70,53,67,77,57,90,96,93,71,91,56,74,41,51,71,66,76,72,93,53,53,88,57,87,59,67,69,89,39,50,92,44,54,89,30,44,96,31,87,71,62,42,96,69,54,50,83,78,37,70,60,42,66,71,76,37,52,69,51,76,95,99,57,49,84,62,56,87,54,34,54,92,82,54,50,66,47,66,74,67,35,71,38,88,38,50,91,64,39,97,50,94,45,91,40,77,79,78,53,49,42,74,73,47,97,63,50,48,34,30,60,76,58,47,76,50,39,64,99,86,37,94,79,54,65,51,44,76,63,86,68,67,80,33,92,79,90,46,90,97,97,53,34,54,50,66,67,59,32,51,76,99,69,36,77,85,54,95,51,82,96,63,55,78,55,55,82,71,67,71,42,46,100,48,92,75,83,78,85,34,48,66,40,93,73,78,44,45,73,63,59,41,78,60,60,32,32,51,37,97,77,43,59,43,81,79,88,68,99,64,84,82,98,51,70,71,41,100,49,96,91,96,36,86,83,99,53,94,89,70,59,60,88,68,69,56,47,59,38,80,60,56,93,74,57,70,49,97,69,39,64,86,61,67,75,81,79,49,39,73,71,79,69,95,93,50,95,55,61,46,44,35,42,60,32,99,36,66,75,38,54,63,79,75,92,69,99,99,30,71,77,67,59,71,84,81,64,45,90,41,89,74,68,71,32,98,44,47,85,88,93,92,39,30,61,85,43,76,88,32,97,62,47,89,81,57,76,54,94,62,47,100,31,35,83,90,95,75,93,41,94,92,84,50,54,77,38,47,64,36,65,58,84,88,38,69,89,48,62,30,92,85,94,30,73,91,54,66,31,77,100,40,61,68,32,96,56,59,65,67,79,95,76,94,97,46,32,36,90,89,70,37,42,54,33,60,45,91,66,43,57,54,37,30,30,35,83,72,62,30,69,49,94,66,82,100,42,88,47,45,82,34,61,72,72,72,80,79,31,91,46,93,90,56,54,65,60,34,77,95,50,57,41,40,64,50,91,62,55,44,78,67,65,45,49,77,87,45,63,80,93,75,60,100,65,93,99,90,63,82,97,53,61,64,49,46,57,45,48,75,39,88,71,40,62,67,84,60,67,76,62,84,55,83,72,82,99,44,50,77,50,59,38,91,83,39,88,80,30,61,45,50,45,79,69,96,84,89,31,59,43,92,80,82,77,80,55,34,61,91,69,65,91,54,34,62,75,31,57,49,100,52,57,43,92,34,37,73,56,61,44,72,97,67,90,87,41,46,72,64,95,73,95,43,93,62,73,42,86,50,55,86,47,39,42,49,94,61,52,73,78,77,86,36,38,83,38,41,81,91,57,34,56,37,94,91,64,60,40,76,44,76,68,31,46,92,86,89,69,65,40,68,39,54,49,67,89,90,93,36,49,79,70,35,97,91,56,92,78,43,87,40,84,52,41,86,74,35,71,73,100,52,33,63,82,37,43,94,90,85,67,92,69,91,91,95,41,32,90,36,67,43,80,93,90,78,54,31,57,61,58,76,49,93,48,67,90,54,58,31,34,100,38,84,54,97,58,91,80,44,90,70,86,60,72,34,41,80,92,94,56,46,33,92,82,48,84,93,58,43,46,46,96,89,75,81,43,40,30,72,77,99,65,78,75,77,48,89,75,61,95,60,95,31,46,40,67,82,48,79,66,99,69,58,88,63,66,92,43,53,34,86,82,46,78,76,34,52,92,94,48,92,98,35,44,43,83,88,52,76,41,96,61,96,49,34,69,92,92,63,57,84,68,45,60,62,43,38,86,55,40,90,49,51,69,78,31,97,68,56,57,64,91,51,41,58,52,83,79,79,79,53,79,73,35,76,100,56,34,79,45,74,32,30,35,46,52,87,81,74,38,58,30,98,59,68,38,70,80,98,79,88,49,83,66,92,40,64,37,85,99,44,38,94,51,61,80,37,57,49,69,37,69,30,77,98,72,73,56,96,41,72,40,55,35,93,56,43,88,78,38,95,61,61,34,32,94,47,50,50,70,64,67,77,40,73,78,50,53,93,81,75,99,82,31,61,78,79,32,67,57,57,39,99,78,60,53,95,80,71,69,37,95,55,37,36,47,64,59,35,78,54,57,31,82,85,94,71,67,84,70,47,38,92,88,64,48,73,56,34,97,84,31,80,84,38,52,61,69,33,52,74,75,61,93,51,94,39,45,43,54,46,70,40,50,79,83,80,39,73,47,41,85,62,66,69,77,74,88,86,63,88,94,48,79,47,38,87,94,50,72,41,48,57,52,66,47,67,68,41,37,56,49,38,97,75,51,97,45,62,42,45,67,66,92,77,44,31,92,63,79,36,61,35,72,55,43,75,30,71,66,63,77,44,60,99,82,45,53,38,35,91,46,78,95,51,99,71,81,53,97,85,45,30,90,37,65,69,43,66,68,63,37,87,90,30,76,90,78,90,57,92,59,61,50,77,73,63,35,44,95,32,85,70,73,91,61,86,64,50,31,50,93,57,69,66,97,98,95,62,31,93,50,54,44,95,36,67,88,99,57,100,48,47,60,68,33,32,33,98,50,68,69,35,36,93,74,68,34,65,53,65,69,49,66,71,62,99,86,86,75,43,75,36,35]\n",
    "print(len(set(b)))\n",
    "\n",
    "dailyTemperatures1(b)"
   ]
  },
  {
   "cell_type": "code",
   "execution_count": null,
   "metadata": {
    "scrolled": false
   },
   "outputs": [],
   "source": [
    "    def dailyTemperatures(T):\n",
    "        L = []\n",
    "        i = 1\n",
    "        while(len(T)>1):\n",
    "            while not T[0]<T[i]:\n",
    "                if(T[0]^tmp==0):\n",
    "                    L.append(0)\n",
    "                    T.pop(0)\n",
    "                    i=1\n",
    "                    break \n",
    "                i+=1\n",
    "                if(i>=len(T)):\n",
    "                    L.append(0)\n",
    "                    T.pop(0)\n",
    "                    i=1\n",
    "                    break\n",
    "            else:\n",
    "                L.append(i)\n",
    "                T.pop(0)\n",
    "                i=1\n",
    "        L.append(0)\n",
    "        return L\n",
    "dailyTemperatures([0])"
   ]
  },
  {
   "cell_type": "code",
   "execution_count": null,
   "metadata": {},
   "outputs": [],
   "source": [
    "    def dailyTemperatures1(T):\n",
    "        if(len(T)^1==0):\n",
    "            return [0]\n",
    "        if(len(T)^2==0):\n",
    "            if(T[0]<T[1]):\n",
    "                return [1,0]\n",
    "            else:\n",
    "                return [0,0]\n",
    "        L = []\n",
    "        tmp = max(T)\n",
    "        if(len(set(T))^2==0):\n",
    "            while(len(T)>1):\n",
    "                L.append(findMax2(T[0],T,tmp))\n",
    "                T.pop(0)\n",
    "            L.append(0)\n",
    "            return L           \n",
    "        while(len(T)>1):\n",
    "            if(T[0]^tmp==0):\n",
    "                L.append(0)\n",
    "            else:\n",
    "                L.append(findMax(T[0],T))\n",
    "            T.pop(0)\n",
    "        L.append(0)\n",
    "        return L\n",
    "    \n",
    "    def findMax(nombre,T):\n",
    "        i = 1\n",
    "        while not nombre < T[i]:\n",
    "            i+=1\n",
    "            if(i>=len(T)):\n",
    "                return 0\n",
    "        return i\n",
    "    \n",
    "    def findMax2(nombre,T,tmp):\n",
    "        i = 1\n",
    "        if not nombre^tmp==0:\n",
    "            if(tmp in T):\n",
    "                return T.index(tmp)\n",
    "            else:\n",
    "                return 0\n",
    "        else:\n",
    "            return 0"
   ]
  },
  {
   "cell_type": "code",
   "execution_count": null,
   "metadata": {
    "scrolled": true
   },
   "outputs": [],
   "source": [
    "dailyTemperatures1([73, 74, 75, 71, 69, 72, 76, 73])"
   ]
  },
  {
   "cell_type": "code",
   "execution_count": null,
   "metadata": {},
   "outputs": [],
   "source": [
    "l = [71,71,71,71,71,71,71,71,71,71,71,71,71,71,71,71,71,71,71,71,71,71,71,71,71,71,71,71,71,71,71,71,71,71,71,71,71,71,71,71,71,71,71,71,71,71,71,71,71,71,71,71,71,71,71,71,71,71,71,71,71,71,71,71,71,71,71,71,71,71,71,71,71,71,71,71,71,71,71,71,71,71,71,71,71,71,71,71,71,71,71,71,71,71,71,71,71,71,71,71,71,71,71,71,71,71,71,71,71,71,71,71,71,71,71,71,71,71,71,71,71,71,71,71,71,71,71,71,71,71,71,71,71,71,71,71,71,71,71,71,71,71,71,71,71,71,71,71,71,71,71,71,71,71,71,71,71,71,71,71,71,71,71,71,71,71,71,71,71,71,71,71,71,71,71,71,71,71,71,71,71,71,71,71,71,71,71,71,71,71,71,71,71,71,71,71,71,71,71,71,71,71,71,71,71,71,71,71,71,71,71,71,71,71,71,71,71,71,71,71,71,71,71,71,71,71,71,71,71,71,71,71,71,71,71,71,71,71,71,71,71,71,71,71,71,71,71,71,71,71,71,71,71,71,71,71,71,71,71,71,71,71,71,71,71,71,71,71,71,71,71,71,71,71,71,71,71,71,71,71,71,71,71,71,71,71,71,71,71,71,71,71,71,71,71,71,71,71,71,71,71,71,71,71,71,71,71,71,71,71,71,71,71,71,71,71,71,71,71,71,71,71,71,71,71,71,71,71,71,71,71,71,71,71,71,71,71,71,71,71,71,71,71,71,71,71,71,71,71,71,71,71,71,71,71,71,71,71,71,71,71,71,71,71,71,71,71,71,71,71,71,71,71,71,71,71,71,71,71,71,71,71,71,71,71,71,71,71,71,71,71,71,71,71,71,71,71,71,71,71,71,71,71,71,71,71,71,71,71,71,71,71,71,71,71,71,71,71,71,71,71,71,71,71,71,71,71,71,71,71,71,71,71,71,71,71,71,71,71,71,71,71,71,71,71,71,71,71,71,71,71,71,71,71,71,71,71,71,71,71,71,71,71,71,71,71,71,71,71,71,71,71,71,71,71,71,71,71,71,71,71,71,71,71,71,71,71,71,71,71,71,71,71,71,71,71,71,71,71,71,71,71,71,71,71,71,71,71,71,71,71,71,71,71,71,71,71,71,71,71,71,71,71,71,71,71,71,71,71,71,71,71,71,71,71,71,71,71,71,71,71,71,71,71,71,71,71,71,71,71,71,71,71,71,71,71,71,71,71,71,71,71,71,71,71,71,71,71,71,71,71,71,71,71,71,71,71,71,71,71,71,71,71,71,71,71,71,71,71,71,71,71,71,71,71,71,71,71,71,71,71,71,71,71,71,71,71,71,71,71,71,71,71,71,71,71,71,71,71,71,71,71,71,71,71,71,71,71,71,71,71,71,71,71,71,71,71,71,71,71,71,71,71,71,71,71,71,71,71,71,71,71,71,71,71,71,71,71,71,71,71,71,71,71,71,71,71,71,71,71,71,71,71,71,71,71,71,71,71,71,71,71,71,71,71,71,71,71,71,71,71,71,71,71,71,71,71,71,71,71,71,71,71,71,71,71,71,71,71,71,71,71,71,71,71,71,71,71,71,71,71,71,71,71,71,71,71,71,71,71,71,71,71,71,71,71,71,71,71,71,71,71,71,71,71,71,71,71,71,71,71,71,71,71,71,71,71,71,71,71,71,71,71,71,71,71,71,71,71,71,71,71,71,71,71,71,71,71,71,71,71,71,71,71,71,71,71,71,71,71,71,71,71,71,71,71,71,71,71,71,71,71,71,71,71,71,71,71,71,71,71,71,71,71,71,71,71,71,71,71,71,71,71,71,71,71,71,71,71,71,71,71,71,71,71,71,71,71,71,71,71,71,71,71,71,71,71,71,71,71,71,71,71,71,71,71,71,71,71,71,71,71,71,71,71,71,71,71,71,71,71,71,71,71,71,71,71,71,71,71,71,71,71,71,71,71,71,71,71,71,71,71,71,71,71,71,71,71,71,71,71,71,71,71,71,71,71,71,71,71,71,71,71,71,71,71,71,71,71,71,71,71,71,71,71,71,71,71,71,71,71,71,71,71,71,71,71,71,71,71,71,71,71,71,71,71,71,71,71,71,71,71,71,71,71,71,71,71,71,71,71,71,71,71,71,71,71,71,71,71,71,71,71,71,71,71,71,71,71,71,71,71,71,71,71,71,71,71,71,71,71,71,71,71,71,71,71,71,71,71,71,71,71,71,71,71,71,71,71,71,71,71,71,71,71,71,71,71,71,71,71,71,71,71,71,71,71,71,71,71,71,71,71,71,71,71,71,71,71,71,71,71,71,71,71,71,71,71,71,71,71,71,71,71,71,71,71,71,71,71,71,71,71,71,71,71,71,71,71,71,71,71,71,71,71,71,71,71,71,71,71,71,71,71,71,71,71,71,71,71,71,71,71,71,71,71,71,71,71,71,71,71,71,71,71,71,71,71,71,71,71,76,71,71,71,71,71,71,71,71,71,71,71,71,71,71,71,71,71,71,71,71,71,71,71,71,71,71,71,71,71,71,71,71,71,71,71,71,71,71,71,71,71,71,71,71,71,71,71,71,71,71,71,71,71,71,71,71,71,71,71,71,71,71,71,71,71,71,71,71,71,71,71,71,71,71,71,71,71,71,71,71,71,71,71,71,71,71,71,71,71,71,71,71,71,71,71,71,71,71,71,71,71,71,71,71,71,71,71,71,71,71,71,71,71,71,71,71,71,71,71,71,71,71,71,71,71,71,71,71,71,71,71,71,71,71,71,71,71,71,71,71,71,71,71,71,71,71,71,71,71,71,71,71,71,71,71,71,71,71,71,71,71,71,71,71,71,71,71,71,71,71,71,71,71,71,71,71,71,71,71,71,71,71,71,71,71,71,71,71,71,71,71,71,71,71,71,71,71,71,71,71,71,71,71,71,71,71,71,71,71,71,71,71,71,71,71,71,71,71,71,71,71,71,71,71,71,71,71,71,71,71,71,71,71,71,71,71,71,71,71,71,71,71,71,71,71,71,71,71,71,71,71,71,71,71,71,71,71,71,71,71,71,71,71,71,71,71,71,71,71,71,71,71,71,71,71,71,71,71,71,71,71,71,71,71,71,71,71,71,71,71,71,71,71,71,71,71,71,71,71,71,71,71,71,71,71,71,71,71,71,71,71,71,71,71,71,71,71,71,71,71,71,71,71,71,71,71,71,71,71,71,71,71,71,71,71,71,71,71,71,71,71,71,71,71,71,71,71,71,71,71,71,71,71,71,71,71,71,71,71,71,71,71,71,71,71,71,71,71,71,71,71,71,71,71,71,71,71,71,71,71,71,71,71,71,71,71,71,71,71,71,71,71,71,71,71,71,71,71,71,71,71,71,71,71,71,71,71,71,71,71,71,71,71,71,71,71,71,71,71,71,71,71,71,71,71,71,71,71,71,71,71,71,71,71,71,71,71,71,71,71,71,71,71,71,71,71,71,71,71,71,71,71,71,71,71,71,71,71,71,71,71,71,71,71,71,71,71,71,71,71,71,71,71,71,71,71,71,71,71,71,71,71,71,71,71,71,71,71,71,71,71,71,71,71,71,71,71,71,71,71,71,71,71,71,71,71,71,71,71,71,71,71,71,71,71,71,71,71,71,71,71,71,71,71,71,71,71,71,71,71,71,71,71,71,71,71,71,71,71,71,71,71,71,71,71,71,71,71,71,71,71,71,71,71,71,71,71,71,71,71,71,71,71,71,71,71,71,71,71,71,71,71,71,71,71,71,71,71,71,71,71,71,71,71,71,71,71,71,71,71,71,71,71,71,71,71,71,71,71,71,71,71,71,71,71,71,71,71,71,71,71,71,71,71,71,71,71,71,71,71,71,71,71,71,71,71,71,71,71,71,71,71,71,71,71,71,71,71,71,71,71,71,71,71,71,71,71,71,71,71,71,71,71,71,71,71,71,71,71,71,71,71,71,71,71,71,71,71,71,71,71,71,71,71,71,71,71,71,71,71,71,71,71,71,71,71,71,71,71,71,71,71,71,71,71,71,71,71,71,71,71,71,71,71,71,71,71,71,71,71,71,71,71,71,71,71,71,71,71,71,71,71,71,71,71,71,71,71,71,71,71,71,71,71,71,71,71,71,71,71,71,71,71,71,71,71,71,71,71,71,71,71,71,71,71,71,71,71,71,71,71,71,71,71,71,71,71,71,71,71,71,71,71,71,71,71,71,71,71,71,71,71,71,71,71,71,71,71,71,71,71,71,71,71,71,71,71,71,71,71,71,71,71,71,71,71,71,71,71,71,71,71,71,71,71,71,71,71,71,71,71,71,71,71,71,71,71,71,71,71,71,71,71,71,71,71,71,71,71,71,71,71,71,71,71,71,71,71,71,71,71,71,71,71,71,71,71,71,71,71,71,71,71,71,71,71,71,71,71,71,71,71,71,71,71,71,71,71,71,71,71,71,71,71,71,71,71,71,71,71,71,71,71,71,71,71,71,71,71,71,71,71,71,71,71,71,71,71,71,71,71,71,71,71,71,71,71,71,71,71,71,71,71,71,71,71,71,71,71,71,71,71,71,71,71,71,71,71,71,71,71,71,71,71,71,71,71,71,71,71,71,71,71,71,71,71,71,71,71,71,71,71,71,71,71,71,71,71,71,71,71,71,71,71,71,71,71,71,71,71,71,71,71,71,71,71,71,71,71,76,71,71,71,71,71,71,71,71,71,71,71,71,71,71,71,71,71,71,71,71,71,71,71,71,71,71,71,71,71,71,71,71,71,71,71,71,71,71,71,71,71,71,71,71,71,71,71,71,71,71,71,71,71,71,71,71,71,71,71,71,71,71,71,71,71,71,71,71,71,71,71,71,71,71,71,71,71,71,71,71,71,71,71,71,71,71,71,71,71,71,71,71,71,71,71,71,71,71,71,71,71,71,71,71,71,71,71,71,71,71,71,71,71,71,71,71,71,71,71,71,71,71,71,71,71,71,71,71,71,71,71,71,71,71,71,71,71,71,71,71,71,71,71,71,71,71,71,71,71,71,71,71,71,71,71,71,71,71,71,71,71,71,71,71,71,71,71,71,71,71,71,71,71,71,71,71,71,71,71,71,71,71,71,71,71,71,71,71,71,71,71,71,71,71,71,71,71,71,71,71,71,71,71,71,71,71,71,76,71,71,71,71,71,71,71,71,71,71,71,71,71,71,71,71,71,71,71,71,71,71,71,71,71,71,71,71,71,71,71,71,71,71,71,71,71,71,71,71,71,71,71,71,71,71,71,71,71,71,71,71,71,71,71,71,71,71,71,71,71,71,71,71,71,71,71,71,71,71,71,71,71,71,71,71,71,71,71,71,71,71,71,71,71,71,71,71,71,71,71,71,71,71,71,71,71,71,71,71,71,71,71,71,71,71,71,71,71,71,71,71,71,71,71,71,71,71,71,71,71,71,71,71,71,71,71,71,71,71,71,71,71,71,71,71,71,71,71,71,71,71,71,71,71,71,71,71,71,71,71,71,71,71,71,71,71,71,71,71,71,71,71,71,71,71,71,71,71,71,71,71,71,71,71,71,71,71,71,71,71,71,71,71,71,71,71,71,71,71,71,71,71,71,71,71,71,71,71,71,71,71,71,71,71,71,71,71,71,71,71,71,71,71,71,71,71,71,71,71,71,71,71,71,71,71,71,71,71,71,71,71,71,71,71,71,71,71,71,71,71,71,71,71,71,71,71,71,71,71,71,71,71,71,71,71,71,71,71,71,71,71,71,71,71,71,71,71,71,71,71,71,71,71,71,71,71,71,71,71,71,71,71,71,71,71,71,71,71,71,71,71,71,71,71,71,71,71,71,71,71,71,71,71,71,71,71,71,71,71,71,71,71,71,71,71,71,71,71,71,71,71,71,71,71,71,71,71,71,71,71,71,71,71,71,71,71,71,71,71,71,71,71,71,71,71,71,71,71,71,71,71,71,71,71,71,71,71,71,71,71,71,71,71,71,71,71,71,71,71,71,71,71,71,71,71,71,71,71,71,71,71,71,71,71,71,71,71,71,71,71,71,71,71,71,71,71,71,71,71,71,71,71,71,71,71,71,71,71,71,71,71,71,71,71,71,71,71,71,71,71,71,71,71,71,71,71,71,71,71,71,71,71,71,71,71,71,71,71,71,71,71,71,71,71,71,71,71,71,71,71,71,71,71,71,71,71,71,71,71,71,71,71,71,71,71,71,71,71,71,71,71,71,71,71,71,71,71,71,71,71,71,71,71,71,71,71,71,71,71,71,71,71,71,71,71,71,71,71,71,71,71,71,71,71,71,71,71,71,71,71,71,71,71,71,71,71,71,71,71,71,71,71,71,71,71,71,71,71,71,71,71,71,71,71,71,71,71,71,71,71,71,71,71,71,71,71,71,71,71,71,71,71,71,71,71,71,71,71,71,71,71,71,71,71,71,71,71,71,71,71,71,71,71,71,71,71,71,71,71,71,71,71,71,71,71,71,71,71,71,71,71,71,71,71,71,71,71,71,71,71,71,71,71,71,71,71,71,71,71,71,71,71,71,71,71,71,71,71,71,71,71,71,71,71,71,71,71,71,71,71,71,71,71,71,71,71,71,71,71,71,71,71,71,71,71,71,71,71,71,71,71,71,71,71,71,71,71,71,71,71,71,71,71,71,71,71,71,71,71,71,71,71,71,71,71,71,71,71,71,71,71,71,71,71,71,71,71,71,71,71,71,71,71,71,71,71,71,71,71,71,71,71,71,71,71,71,71,71,71,71,71,71,71,71,71,71,71,71,71,71,71,71,71,71,71,71,71,71,71,71,71,71,71,71,71,71,71,71,71,71,71,71,71,71,71,71,71,71,71,71,71,71,71,71,71,71,71,71,71,71,71,71,71,71,71,71,71,71,71,71,71,71,71,71,71,71,71,71,71,71,71,71,71,71,71,71,71,71,71,71,71,71,71,71,71,71,71,71,71,71,71,71,71,71,71,71,71,71,71,71,71,71,71,71,71,71,71,71,71,71,71,71,71,71,71,71,71,71,71,71,71,71,71,71,71,71,71,71,71,71,71,71,71,71,71,71,71,71,71,71,71,71,71,71,71,71,71,71,71,71,71,71,71,71,71,71,71,71,71,71,71,71,71,71,71,71,71,71,71,71,71,71,71,71,71,71,71,71,71,71,71,71,71,71,71,71,71,71,71,71,71,71,71,71,71,71,71,71,71,71,71,71,71,71,71,71,71,71,71,71,71,71,71,71,71,71,71,71,71,71,71,71,71,71,71,71,71,71,71,71,71,71,71,71,71,71,71,71,71,71,71,71,71,71,71,71,71,71,71,71,71,71,71,71,71,71,71,71,71,71,71,71,71,71,71,71,71,71,71,71,71,71,71,71,71,71,71,71,71,71,71,71,71,71,71,71,71,71,71,71,71,71,71,71,71,71,71,71,71,71,71,71,71,71,71,71,71,71,71,71,71,71,71,71,71,71,71,71,71,71,71,71,71,71,71,71,71,71,71,71,71,71,71,71,71,71,71,71,71,71,71,71,71,71,71,71,71,71,71,71,71,71,71,71,71,71,71,71,71,71,71,71,71,71,71,71,71,71,71,71,71,71,71,71,71,71,71,71,71,71,71,71,71,71,71,71,71,71,71,71,71,71,71,71,71,71,71,71,71,71,71,71,71,71,71,71,71,71,71,71,71,71,71,71,71,71,71,71,71,71,71,71,71,71,71,71,71,71,71,71,71,71,71,71,71,71,71,71,71,71,71,71,71,71,71,71,71,71,71,71,71,71,71,71,71,71,71,71,71,71,71,71,71,71,71,71,71,71,71,71,71,71,71,71,71,71,71,71,71,71,71,71,71,71,71,71,71,71,71,71,71,71,71,71,71,71,71,71,71,71,71,71,71,71,71,71,71,71,71,71,71,71,71,71,71,71,71,71,71,71,71,71,71,71,71,71,71,71,71,71,71,71,71,71,71,71,71,71,71,71,71,71,71,71,71,71,71,71,71,71,71,71,71,71,71,71,71,71,71,71,71,71,71,71,71,71,71,71,71,71,71,71,71,71,71,71,71,71,71,71,71,71,71,71,71,71,71,71,71,71,71,71,71,71,71,71,71,71,71,71,71,71,71,71,71,71,71,71,71,71,71,71,71,71,71,71,71,71,71,71,71,71,71,71,71,71,71,71,71,71,71,71,71,71,71,71,71,71,71,71,71,71,71,71,71,71,71,71,71,71,71,71,71,71,71,71,71,71,71,71,71,71,71,71,71,71,71,71,71,71,71,71,71,71,71,71,71,71,71,71,71,71,71,71,71,71,71,71,71,71,71,71,71,71,71,71,71,71,71,71,71,71,71,71,71,71,71,71,71,71,71,71,71,71,71,71,71,71,71,71,71,71,71,71,71,71,71,71,71,71,71,71,71,71,71,71,71,71,71,71,71,71,71,71,71,71,71,71,71,71,71,71,71,71,71,71,71,71,71,71,71,71,71,71,71,71,71,71,71,71,71,71,71,71,71,71,71,71,71,71,71,71,71,71,71,71,71,71,71,71,71,71,71,71,71,71,71,71,71,71,71,71,71,71,71,71,71,71,71,71,71,71,71,71,71,71,71,71,71,71,71,71,71,71,71,71,71,71,71,71,71,71,71,71,71,71,71,71,71,71,71,71,71,71,71,71,71,71,71,71,71,71,71,71,71,71,71,71,71,71,71,71,71,71,71,71,71,71,71,71,71,71,71,71,71,71,71,71,71,71,71,71,71,71,71,71,71,71,71,71,71,71,71,71,71,71,71,71,71,71,71,71,71,71,71,71,71,71,71,71,71,71,71,71,71,71,71,71,71,71,71,71,71,71,71,71,71,71,71,71,71,71,71,71,71,71,71,71,71,71,71,71,71,71,71,71,71,71,71,71,71,71,71,71,71,71,71,71,71,71,71,71,71,71,71,71,71,71,71,71,71,71,71,71,71,71,71,71,71,71,71,71,71,71,71,71,71,71,71,71,71,71,71,71,71,71,71,71,71,71,71,71,71,71,71,71,71,71,71,71,71,71,71,71,71,71,71,71,71,71,71,71,71,71,71,71,71,71,71,71,71,71,71,71,71,71,71,71,71,71,71,71,71,71,71,71,71,71,71,71,71,71,71,71,71,71,71,71,71,71,71,71,71,71,71,71,71,71,71,71,71,71,71,71,71,71,71,71,71,71,71,71,71,71,71,71,71,71,71,71,71,71,71,71,71,71,71,71,71,71,71,71,71,71,71,71,71,71,71,71,71,71,71,71,71,71,71,71,71,71,71,71,71,71,71,71,71,71,71,71,71,71,71,71,71,71,71,71,71,71,71,71,71,71,71,71,71,71,71,71,71,71,71,71,71,71,71,71,71,71,71,71,71,71,71,71,71,71,71,71,71,71,71,71,71,71,71,71,71,71,71,71,71,71,71,71,71,71,71,71,71,71,71,71,71,71,71,71,71,71,71,71,71,71,71,71,71,71,71,71,71,71,71,71,71,71,71,71,71,71,71,71,71,71,71,71,71,71,71,71,71,71,71,71,71,71,71,71,71,71,71,71,71,71,71,71,71,71,71,71,71,71,71,71,71,71,71,71,71,71,71,71,71,71,71,71,71,71,71,71,71,71,71,71,71,71,71,71,71,71,71,71,71,71,71,71,71,71,71,71,71,71,71,71,71,71,71,71,71,71,71,71,71,71,71,71,71,71,71,71,71,71,71,71,71,71,71,71,71,71,71,71,71,71,71,71,71,71,71,71,71,71,71,71,71,71,71,71,71,71,71,71,71,71,71,71,71,71,71,71,71,71,71,71,71,71,71,71,71,71,71,71,71,71,71,71,71,71,71,71,71,71,71,71,71,71,71,71,71,71,71,71,71,71,71,71,71,71,71,71,71,71,71,71,71,71,71,71,71,71,71,71,71,71,71,71,71,71,71,71,71,71,71,71,71,71,71,71,71,71,71,71,71,71,71,71,71,71,71,71,71,71,71,71,71,71,71,71,71,71,71,71,71,71,71,71,71,71,71,71,71,71,71,71,71,71,71,71,71,71,71,71,71,71,71,71,71,71,71,71,71,71,71,71,71,71,71,71,71,71,71,71,71,71,71,71,71,71,71,71,71,71,71,71,71,71,71,71,71,71,71,71,71,71,71,71,71,71,71,71,71,71,71,71,71,71,71,71,71,71,71,71,71,71,71,71,71,71,71,71,71,71,71,71,71,71,71,71,71,71,71,71,71,71,71,71,71,71,71,71,71,71,71,71,71,71,71,71,71,71,71,71,71,71,71,71,71,71,71,71,71,71,71,71,71,71,71,71,71,71,71,71,71,71,71,71,71,71,71,71,71,71,71,71,71,71,71,71,71,71,71,71,71,71,71,71,71,71,71,71,71,71,71,71,71,71,71,71,71,71,71,71,71,71,71,71,71,71,71,71,71,71,71,71,71,71,71,71,71,71,71,71,71,71,71,71,71,71,71,71,71,71,71,71,71,71,71,71,71,71,71,71,71,71,71,71,71,71,71,71,71,71,71,71,71,71,71,71,71,71,71,71,71,71,71,71,71,71,71,71,71,71,71,71,71,71,71,71,71,71,71,71,71,71,71,71,71,71,71,71,71,71,71,71,71,71,71,71,71,71,71,71,71,71,71,71,71,71,71,71,71,71,71,71,71,71,71,71,71,71,71,71,71,71,71,71,71,71,71,71,71,71,71,71,71,71,71,71,71,71,71,71,71,71,71,71,71,71,71,71,71,71,71,71,71,71,71,71,71,71,71,71,71,71,71,71,71,71,71,71,71,71,71,71,71,71,71,71,71,71,71,71,71,71,71,71,71,71,71,71,71,71,71,71,71,71,71,71,71,71,71,71,71,71,71,71,71,71,71,71,71,71,71,71,71,71,71,71,71,71,71,71,71,71,71,71,71,71,71,71,71,71,71,71,71,71,71,71,71,71,71,71,71,71,71,71,71,71,71,71,71,71,71,71,71,71,71,71,71,71,71,71,71,71,71,71,71,71,71,71,71,71,71,71,71,71,71,71,71,71,71,71,71,71,71,71,71,71,71,71,71,71,71,71,71,71,71,71,71,71,71,71,71,71,71,71,71,71,71,71,71,71,71,71,71,71,71,71,71,71,71,71,71,71,71,71,71,71,71,71,71,71,71,71,71,71,71,71,71,71,71,71,71,71,71,71,71,71,71,71,71,71,71,71,71,71,71,71,71,71,71,71,71,71,71,71,71,71,71,71,71,71,71,71,71,71,71,71,71,71,71,71,71,71,71,71,71,71,71,71,71,71,71,71,71,71,71,71,71,71,71,71,71,71,71,71,71,71,71,71,71,71,71,71,71,71,71,71,71,71,71,71,71,71,71,71,71,71,71,71,71,71,71,71,71,71,71,71,71,71,71,71,71,71,71,71,71,71,71,71,71,71,71,71,71,71,71,71,71,71,71,71,71,71,71,71,71,71,71,71,71,71,71,71,71,71,71,71,71,71,71,71,71,71,71,71,71,71,71,71,71,71,71,71,71,71,71,71,71,71,71,71,71,71,71,71,71,71,71,71,71,71,71,71,71,71,71,71,71,71,71,71,71,71,71,71,71,71,71,71,71,71,71,71,71,71,71,71,71,71,71,71,71,71,71,71,71,71,71,71,71,71,71,71,71,71,71,71,71,71,71,71,71,71,71,71,71,71,71,71,71,71,71,71,71,71,71,71,71,71,71,71,71,71,71,71,71,71,71,71,71,71,71,71,71,71,71,71,71,71,71,71,71,71,71,71,71,71,71,71,71,71,71,71,71,71,71,71,71,71,71,71,71,71,71,71,71,71,71,71,71,71,71,71,71,71,71,71,71,71,71,71,71,71,71,71,71,71,71,71,71,71,71,71,71,71,71,71,71,71,71,71,71,71,71,71,71,71,71,71,71,71,71,71,71,71,71,71,71,71,71,71,71,71,71,71,71,71,71,71,71,71,71,71,71,71,71,71,71,71,71,71,71,71,71,71,71,71,71,71,71,71,71,71,71,71,71,71,71,71,71,71,71,71,71,71,71,71,71,71,71,71,71,71,71,71,71,71,71,71,71,71,71,71,71,71,71,71,71,71,71,71,71,71,71,71,71,71,71,71,71,71,71,71,71,71,71,71,71,71,71,71,71,71,71,71,71,71,71,71,71,71,71,71,71,71,71,71,71,71,71,71,71,71,71,71,71,71,71,71,71,71,71,71,71,71,71,71,71,71,71,71,71,71,71,71,71,71,71,71,71,71,71,71,71,71,71,71,71,71,71,71,71,71,71,71,71,71,71,71,71,71,71,71,71,71,71,71,71,71,71,71,71,71,71,71,71,71,71,71,71,71,71,71,71,71,71,71,71,71,71,71,71,71,71,71,71,71,71,71,71,71,71,71,71,71,71,71,71,71,71,71,71,71,71,71,71,71,71,71,71,71,71,71,71,71,71,71,71,71,71,71,71,71,71,71,71,71,71,71,71,71,71,71,71,71,71,71,71,71,71,71,71,71,71,71,71,71,71,71,71,71,71,71,71,71,71,71,71,71,71,71,71,71,71,71,71,71,71,71,71,71,71,71,71,71,71,71,71,71,71,71,71,71,71,71,71,71,71,71,71,71,71,71,71,71,71,71,71,71,71,71,71,71,71,71,71,71,71,71,71,71,71,71,71,71,71,71,71,71,71,71,71,71,71,71,71,71,71,71,71,71,71,71,71,71,71,71,71,71,71,71,71,71,71,71,71,71,71,71,71,71,71,71,71,71,71,71,71,71,71,71,71,71,71,71,71,71,71,71,71,71,71,71,71,71,71,71,71,71,71,71,71,71,71,71,71,71,71,71,71,71,71,71,71,71,71,71,71,71,71,71,71,71,71,71,71,71,71,71,71,71,71,71,71,71,71,71,71,71,71,71,71,71,71,71,71,71,71,71,71,71,71,71,71,71,71,71,71,71,71,71,71,71,71,71,71,71,71,71,71,71,71,71,71,71,71,71,71,71,71,71,71,71,71,71,71,71,71,71,71,71,71,71,71,71,71,71,71,71,71,71,71,71,71,71,71,71,71,71,71,71,71,71,71,71,71,71,71,71,71,71,71,71,71,71,71,71,71,71,71,71,71,71,71,71,71,71,71,71,71,71,71,71,71,76,71,71,71,71,71,71,71,71,71,71,71,71,71,71,71,71,71,71,71,71,71,71,71,71,71,71,71,71,71,71,71,71,71,71,71,71,71,71,71,71,71,71,71,71,71,71,71,71,71,71,71,71,71,71,71,71,71,71,71,71,71,71,71,71,71,71,71,71,71,71,71,71,71,71,71,71,71,71,71,71,71,71,71,71,71,71,71,71,71,71,71,71,71,71,71,71,71,71,71,71,71,71,71,71,71,71,71,71,71,71,71,71,71,71,71,71,71,71,71,71,71,71,71,71,71,71,71,71,71,71,71,71,71,71,71,71,71,71,71,71,71,71,71,71,71,71,71,71,71,71,71,71,71,71,71,71,71,71,71,71,71,71,71,71,71,71,71,71,71,71,71,71,71,71,71,71,71,71,71,71,71,71,71,71,71,71,71,71,71,71,71,71,71,71,71,71,71,71,71,71,71,71,71,71,71,71,71,71,71,71,71,71,71,71,71,71,71,71,71,71,71,71,71,71,71,71,71,71,71,71,71,71,71,71,71,71,71,71,71,71,71,71,71,71,71,71,71,71,71,71,71,71,71,71,71,71,71,71,71,71,71,71,71,71,71,71,71,71,71,71,71,71,71,71,71,71,71,71,71,71,71,71,71,71,71,71,71,71,71,71,71,71,71,71,71,71,71,71,71,71,71,71,71,71,71,71,71,71,71,71,71,71,71,71,71,71,71,71,71,71,71,71,71,71,71,71,71,71,71,71,71,71,71,71,71,71,71,71,71,71,71,71,71,71,71,71,71,71,71,71,71,71,71,71,71,71,71,71,71,71,71,71,71,71,71,71,71,71,71,71,71,71,71,71,71,71,71,71,71,71,71,71,71,71,71,71,71,71,71,71,71,71,71,71,71,71,71,71,71,71,71,71,71,71,71,71,71,71,71,71,71,71,71,71,71,71,71,71,71,71,71,71,71,71,71,71,71,71,71,71,71,71,71,71,71,71,71,71,71,71,71,71,71,71,71,71,71,71,71,71,71,71,71,71,71,71,71,71,71,71,71,71,71,71,71,71,71,71,71,71,71,71,71,71,71,71,71,71,71,71,71,71,71,71,71,71,71,71,71,71,71,71,71,71,71,71,71,71,71,71,71,71,71,71,71,71,71,71,71,71,71,71,71,71,71,71,71,71,71,71,71,71,71,71,71,71,71,71,71,71,71,71,71,71,71,71,71,71,71,71,71,71,71,71,71,71,71,71,71,71,71,71,71,71,71,71,71,71,71,71,71,71,71,71,71,71,71,71,71,71,71,71,71,71,71,71,71,71,71,71,71,71,71,71,71,71,71,71,71,71,71,71,71,71,71,71,71,71,71,71,71,71,71,71,71,71,71,71,71,71,71,71,71,71,71,71,71,71,71,71,71,71,71,71,71,71,71,71,71,71,71,71,71,71,71,71,71,71,71,71,71,71,71,71,71,71,71,71,71,71,71,71,71,71,71,71,71,71,71,71,71,71,71,71,71,71,71,71,71,71,71,71,71,71,71,71,71,71,71,71,71,71,71,71,71,71,71,71,71,71,71,71,71,71,71,71,71,71,71,71,71,71,71,71,71,71,71,71,71,71,71,71,71,71,71,71,71,71,71,71,71,71,71,71,71,71,71,71,71,71,71,71,71,71,71,71,71,71,71,71,71,71,71,71,71,71,71,71,71,71,71,71,71,71,71,71,71,71,71,71,71,71,71,71,71,71,71,71,71,71,71,71,71,71,71,71,71,71,71,71,71,71,71,71,71,71,71,71,71,71,71,71,71,71,71,71,71,71,71,71,71,71,71,71,71,71,71,71,71,71,71,71,71,71,71,71,71,71,71,71,71,71,71,71,71,71,71,71,71,71,71,71,71,71,71,71,71,71,71,71,71,71,71,71,71,71,71,71,71,71,71,71,71,71,71,71,71,71,71,71,71,71,71,71,71,71,71,71,71,71,71,71,71,71,71,71,71,71,71,71,71,71,71,71,71,71,71,71,71,71,71,71,71,71,71,71,71,71,71,71,71,71,71,71,71,71,71,71,71,71,71,71,71,71,71,71,71,71,71,71,71,71,71,71,71,71,71,71,71,71,71,71,71,71,71,71,71,71,71,71,71,71,71,71,71,71,71,71,71,71,71,71,71,71,71,71,71,71,71,71,71,71,71,71,71,71,71,71,71,71,71,71,71,71,71,71,71,71,71,71,71,71,71,71,71,71,71,71,71,71,71,71,71,71,71,71,71,71,71,71,71,71,71,71,71,71,71,71,71,71,71,71,71,71,71,71,71,71,71,71,71,71,71,71,71,71,71,71,71,71,71,71,71,71,71,71,71,71,71,71,71,71,71,71,71,71,71,71,71,71,71,71,71,71,71,71,71,71,71,71,71,71,71,71,71,71,71,71,71,71,71,71,71,71,71,71,71,71,71,71,71,71,71,71,71,71,71,71,71,71,71,71,71,71,71,71,71,71,71,71,71,71,71,71,71,71,71,71,71,71,71,71,71,71,71,71,71,71,71,71,71,71,71,71,71,71,71,71,71,71,71,71,71,71,71,71,71,71,71,71,71,71,71,71,71,71,71,71,71,71,71,71,71,71,71,71,71,71,71,71,71,71,71,71,71,71,71,71,71,71,71,71,71,71,71,71,71,71,71,71,71,71,71,71,71,71,71,71,71,71,71,71,71,71,71,71,71,71,71,71,71,71,71,71,71,71,71,71,71,71,71,71,71,71,71,71,71,71,71,71,71,71,71,71,71,71,71,71,71,71,71,71,71,71,71,71,71,71,71,71,71,71,71,71,71,71,71,71,71,71,71,71,71,71,71,71,71,71,71,71,71,71,71,71,71,71,71,71,71,71,71,71,71,71,71,71,71,71,71,71,71,71,71,71,71,71,71,71,71,71,71,71,71,71,71,71,71,71,71,71,71,71,71,71,71,71,71,71,71,71,71,71,71,71,71,71,71,71,71,71,71,71,71,71,71,71,71,71,71,71,71,71,71,71,71,71,71,71,71,71,71,71,71,71,71,71,71,71,71,71,71,71,71,71,71,71,71,71,71,71,71,71,71,71,71,71,71,71,71,71,71,71,71,71,71,71,71,71,71,71,71,71,71,71,71,71,71,71,71,71,71,71,71,71,71,71,71,71,71,71,71,71,71,71,71,71,71,71,71,71,71,71,71,71,71,71,71,71,71,71,71,71,71,71,71,71,71,71,71,71,71,71,71,71,71,71,71,71,71,71,71,71,71,71,71,71,71,71,71,71,71,71,71,71,71,71,71,71,71,71,71,71,71,71,71,71,71,71,71,71,71,71,71,71,71,71,71,71,71,71,71,71,71,71,71,71,71,71,71,71,71,71,71,71,71,71,71,71,71,71,71,71,71,71,71,71,71,71,71,71,71,71,71,71,71,71,71,71,71,71,71,71,71,71,71,71,71,71,71,71,71,71,71,71,71,71,71,71,71,71,71,71,71,71,71,71,71,71,71,71,71,71,71,71,71,71,71,71,71,71,71,71,71,71,71,71,71,71,71,71,71,71,71,71,71,71,71,71,71,71,71,71,71,71,71,71,71,71,71,71,71,71,71,71,71,71,71,71,71,71,71,71,71,71,71,71,71,71,71,71,71,71,71,71,71,71,71,71,71,71,71,71,71,71,71,71,71,71,71,71,71,71,71,71,71,71,71,71,71,71,71,71,71,71,71,71,71,71,71,71,71,71,71,71,71,71,71,71,71,71,71,71,71,71,71,71,71,71,71,71,71,71,71,71,71,71,71,71,71,71,71,71,71,71,71,71,71,71,71,71,71,71,71,71,71,71,71,71,71,71,71,71,71,71,71,71,71,71,71,71,71,71,71,71,71,71,71,71,71,71,71,71,71,71,71,71,71,71,71,71,71,71,71,71,71,71,71,71,71,71,71,71,71,71,71,71,71,71,71,71,71,71,71,71,71,71,71,71,71,71,71,71,71,71,71,71,71,71,71,71,71,71,71,71,71,71,71,71,71,71,71,71,71,71,71,71,71,71,71,71,71,71,71,71,71,71,71,71,71,71,71,71,71,71,71,71,71,71,71,71,71,71,71,71,71,71,71,71,71,71,71,71,71,71,71,71,71,71,71,71,71,71,71,71,71,71,71,71,71,71,71,71,71,71,71,71,71,71,71,71,71,71,71,71,71,71,71,71,71,71,71,71,71,71,71,71,71,71,71,71,71,71,71,71,71,71,71,71,71,71,71,71,71,71,71,71,71,71,71,71,71,71,71,71,71,71,71,71,71,71,71,71,71,71,71,71,71,71,71,71,71,71,71,71,71,71,71,71,71,71,71,71,71,71,71,71,71,71,71,71,71,71,71,71,71,71,71,71,71,71,71,71,71,71,71,71,71,71,71,71,71,71,71,71,71,71,71,71,71,71,71,71,71,71,71,71,71,71,71,71,71,71,71,71,71,71,71,71,71,71,71,71,71,71,71,71,71,71,71,71,71,71,71,71,71,71,71,71,71,71,71,71,71,71,71,71,71,71,71,71,71,71,71,71,71,71,71,71,71,71,71,71,71,71,71,71,71,71,71,71,71,71,71,71,71,71,71,71,71,71,71,71,71,71,71,71,71,71,71,71,71,71,71,71,71,71,71,71,71,71,71,71,71,71,71,71,71,71,71,71,71,71,71,71,71,71,71,71,71,71,71,71,71,71,71,71,71,71,71,71,71,71,71,71,71,71,71,71,71,71,71,71,71,71,71,71,71,71,71,71,71,71,71,71,71,71,71,71,71,71,71,71,71,71,71,71,71,71,71,71,71,71,71,71,71,71,71,71,71,71,71,71,71,71,71,71,71,71,71,71,71,71,71,71,71,71,71,71,71,71,71,71,71,71,71,71,71,71,71,71,71,71,71,71,71,71,71,71,71,71,71,71,71,71,71,71,71,71,71,71,71,71,71,71,71,71,71,71,71,71,71,71,71,71,71,71,71,71,71,71,71,71,71,71,71,71,71,71,71,71,71,71,71,71,71,71,71,71,71,71,71,71,71,71,71,71,71,71,71,71,71,71,71,71,71,71,71,71,71,71,71,71,71,71,71,71,71,71,71,71,71,71,71,71,71,71,71,71,71,71,71,71,71,71,71,71,71,71,71,71,71,71,71,71,71,71,71,71,71,71,71,71,71,71,71,71,71,71,71,71,71,71,71,71,71,71,71,71,71,71,71,71,71,71,71,71,71,71,71,71,71,71,71,71,71,71,71,71,71,71,71,71,71,71,71,71,71,71,71,71,71,71,71,71,71,71,71,71,71,71,71,71,71,71,71,71,71,71,71,71,71,71,71,71,71,71,71,71,71,71,71,71,71,71,71,71,71,71,71,71,71,71,71,71,71,71,71,71,71,71,71,71,71,71,71,71,71,71,71,71,71,71,71,71,71,71,71,71,71,71,71,71,71,71,71,71,71,71,71,71,71,71,71,71,71,71,71,71,71,71,71,71,71,71,71,71,71,71,71,71,71,71,71,71,71,71,71,71,71,71,71,71,71,71,71,71,71,71,71,71,71,71,71,71,71,71,71,71,71,71,71,71,71,71,71,71,71,71,71,71,71,71,71,71,71,71,71,71,71,71,71,71,71,71,71,71,71,71,71,71,71,71,71,71,71,71,71,71,71,71,71,71,71,71,71,71,71,71,71,71,71,71,71,71,71,71,71,71,71,71,71,71,71,71,71,71,71,71,71,71,71,71,71,71,71,71,71,71,71,71,71,71,71,71,71,71,71,71,71,71,71,71,71,71,71,71,71,71,71,71,71,71,71,71,71,71,71,71,71,71,71,71,71,71,71,71,71,71,71,71,71,71,71,71,71,71,71,71,71,71,71,71,71,71,71,71,71,71,71,71,71,71,71,71,71,71,71,71,71,71,71,71,71,71,71,71,71,71,71,71,71,71,71,71,71,71,71,71,71,71,71,71,71,71,71,71,71,71,71,71,71,71,71,71,71,71,71,71,71,71,71,71,71,71,71,71,71,71,71,71,71,71,71,71,71,71,71,71,71,71,71,71,71,71,71,71,71,71,71,71,71,71,71,71,71,71,71,71,71,71,71,71,71,71,71,71,71,71,71,71,71,71,71,71,71,71,71,71,71,71,71,71,71,71,71,71,71,71,71,71,71,71,71,71,71,71,71,71,71,71,71,71,71,71,71,71,71,71,71,71,71,71,71,71,71,71,71,71,71,71,71,71,71,71,71,71,71,71,71,71,71,71,71,71,71,71,71,71,71,71,71,71,71,71,71,71,71,71,71,71,71,71,71,71,71,71,71,71,71,71,71,71,71,71,71,71,71,71,71,71,71,71,71,71,71,71,71,71,71,71,71,71,71,71,71,71,71,71,71,71,71,71,71,71,71,71,71,71,71,71,71,71,71,71,71,71,71,71,71,71,71,71,71,71,71,71,71,71,71,71,71,71,71,71,71,71,71,71,71,71,71,71,71,71,71,71,71,71,71,71,71,71,71,71,71,71,71,71,71,71,71,71,71,71,71,71,71,71,71,71,71,71,71,71,71,71,71,71,71,71,71,71,71,71,71,71,71,71,71,71,71,71,71,71,71,71,71,71,71,71,71,71,71,71,71,71,71,71,71,71,71,71,71,71,71,71,71,71,71,71,71,71,71,71,71,71,71,71,71,71,71,71,71,71,71,71,71,71,71,71,71,71,71,71,71,71,71,71,71,71,71,71,71,71,71,71,71,71,71,71,71,71,71,71,71,71,71,71,71,71,71,71,71,71,71,71,71,71,71,71,71,71,71,71,71,71,71,71,71,71,71,71,71,71,71,71,71,71,71,71,71,71,71,71,71,71,71,71,71,71,71,71,71,71,71,71,71,71,71,71,71,71,71,71,71,71,71,71,71,71,71,71,71,71,71,71,71,71,71,71,71,71,71,71,71,71,71,71,71,71,71,71,71,71,71,71,71,71,71,71,71,71,71,71,71,71,71,71,71,71,71,71,71,71,71,71,71,71,71,71,71,71,71,71,71,71,71,71,71,71,71,71,71,71,71,71,71,71,71,71,71,71,71,71,71,71,71,71,71,71,71,71,71,71,71,71,71,71,71,71,71,71,71,71,71,71,71,71,71,71,71,71,71,71,71,71,71,71,71,71,71,71,71,71,71,71,71,71,71,71,71,71,71,71,71,71,71,71,71,71,71,71,71,71,71,71,71,71,71,71,71,71,71,71,71,71,71,71,71,71,71,71,71,71,71,71,71,71,71,71,71,71,71,71,71,71,71,71,71,71,71,71,71,71,71,71,71,71,71,71,71,71,71,71,71,71,71,71,71,71,71,71,71,71,71,71,71,71,71,71,71,71,71,71,71,71,71,71,71,71,71,71,71,71,71,71,71,71,71,71,71,71,71,71,71,71,71,71,71,71,71,71,71,71,71,71,71,71,71,71,71,71,71,71,71,71,71,71,71,71,71,71,71,71,71,71,71,71,71,71,71,71,71,71,71,71,71,71,71,71,71,71,71,71,71,71,71,71,71,71,71,71,71,71,71,71,71,71,71,71,71,71,71,71,71,71,71,71,71,71,71,71,71,71,71,71,71,71,71,71,71,71,71,71,71,71,71,71,71,71,71,71,71,71,71,71,71,71,71,71,71,71,71,71,71,71,71,71,71,71,71,71,71,71,71,71,71,71,71,71,71,71,71,71,71,71,71,71,71,71,71,71,71,71,71,71,71,71,71,71,71,71,71,71,71,71,71,71,71,71,71,71,71,71,71,71,71,71,71,71,71,71,71,71,71,71,71,71,71,71,71,71,71,71,71,71,71,71,71,71,71,71,71,71,71,71,71,71,71,71,71,71,71,71,71,71,71,71,71,71,71,71,71,71,71,71,71,71,71,71,71,71,71,71,71,71,71,71,71,71,71,71,71,71,71,71,71,71,71,71,71,71,71,71,71,71,71,71,71,71,71,71,71,71,71,71,71,71,71,71,71,71,71,71,71,71,71,71,71,71,71,71,71,71,71,71,71,71,71,71,71,71,71,71,71,71,71,71,71,71,71,71,71,71,71,71,71,71,71,71,71,71,71,71,71,71,71,71,71,71,71,71,71,71,71,71,71,71,71,71,71,71,71,71,71,71,71,71,71,71,71,71,71,71,71,71,71,71,71,71,71,71,71,71,71,71,71,71,71,71,71,71,71,71,71,71,71,71,71,71,71,71,71,71,71,71,71,71,71,71,71,71,71,71,71,71,71,71,71,71,71,71,71,71,71,71,71,71,71,71,71,71,71,71,71,71,71,71,71,71,71,71,71,71,71,71,71,71,71,71,71,71,71,71,71,71,71,71,71,71,71,71,71,71,71,71,71,71,71,71,71,71,71,71,71,71,71,71,71,71,71,71,71,71,71,71,71,71,71,71,71,71,71,71,71,71,71,71,71,71,71,71,71,71,71,71,71,71,71,71,71,71,71,71,71,71,71,71,71,71,71,71,71,71,71,71,71,71,71,71,71,71,71,71,71,71,71,71,71,71,71,71,71,71,71,71,71,71,71,71,71,71,71,71,71,71,71,71,71,71,71,71,71,71,71,71,71,71,71,71,71,71,71,71,71,71,71,71,71,71,71,71,71,71,71,71,71,71,71,71,71,71,71,71,71,71,71,71,71,71,71,71,71,71,71,71,71,71,71,71,71,71,71,71,71,71,71,71,71,71,71,71,71,71,71,71,71,71,71,71,71,71,71,71,71,71,71,71,71,71,71,71,71,71,71,71,71,71,71,71,71,71,71,71,71,71,71,71,71,71,71,71,71,71,71,71,71,71,71,71,71,71,71,71,71,71,71,71,71,71,71,71,71,71,71,71,71,71,71,71,71,71,71,71,71,71,71,71,71,71,71,71,71,71,71,71,71,71,71,71,71,71,71,71,71,71,71,71,71,71,71,71,71,71,71,71,71,71,71,71,71,71,71,71,71,71,71,71,71,71,71,71,71,71,71,71,71,71,71,71,71,71,71,71,71,71,71,71,71,71,71,71,71,71,71,71,71,71,71,71,71,71,71,71,71,71,71,71,71,71,71,71,71,71,71,71,71,71,71,71,71,71,71,71,71,71,71,71,71,71,71,71,71,71,71,71,71,71,71,71,71,71,71,71,71,71,71,71,71,71,71,71,71,71,71,71,71,71,71,71,71,71,71,71,71,71,71,71,71,71,71,71,71,71,71,71,71,71,71,71,71,71,71,71,71,71,71,71,71,71,71,71,71,71,71,71,71,71,71,71,71,71,71,71,71,71,71,71,71,71,71,71,71,71,71,71,71,71,71,71,71,71,71,71,71,71,71,71,71,71,71,71,71,71,71,71,71,71,71,71,71,71,71,71,71,71,71,71,71,71,71,71,71,71,71,71,71,71,71,71,71,71,71,71,71,71,71,71,71,71,71,71,71,71,71,71,71,71,71,71,71,71,71,71,71,71,71,71,71,71,71,71,71,71,71,71,71,71,71,71,71,71,71,71,71,71,71,71,71,71,71,71,71,71,71,71,71,71,71,71,71,71,71,71,71,71,71,71,71,71,71,71,71,71,71,71,71,71,71,71,71,71,71,71,71,71,71,71,71,71,71,71,71,71,71,71,71,71,71,71,71,71,71,71,71,71,71,71,71,71,71,71,71,71,71,71,71,71,71,71,71,71,71,71,71,71,71,71,71,71,71,71,71,71,71,71,71,71,71,71,71,71,71,71,71,71,71,71,71,71,71,71,71,71,71,71,71,71,71,71,71,71,71,71,71,71,71,71,71,71,71,71,71,71,71,71,71,71,71,71,71,71,71,71,71,71,71,71,71,71,71,71,71,71,71,71,71,71,71,71,71,71,71,71,71,71,71,71,71,71,71,71,71,71,71,71,71,71,71,71,71,71,71,71,71,71,71,71,71,71,71,71,71,71,71,71,71,71,71,71,71,71,71,71,71,71,71,71,71,71,71,71,71,71,71,71,71,71,71,71,71,71,71,71,71,71,71,71,71,71,71,71,71,71,71,71,71,71,71,71,71,71,71,71,71,71,71,71,71,71,71,71,71,71,71,71,71,71,71,71,71,71,71,71,71,71,71,71,71,71,71,71,71,71,71,71,71,71,71,71,71,71,71,71,71,71,71,71,71,71,71,71,71,71,71,71,71,71,71,71,71,71,71,71,71,71,71,71,71,71,71,71,71,71,71,71,71,71,71,71,71,71,71,71,71,71,71,71,71,71,71,71,71,71,71,71,71,71,71,71,71,71,71,71,71,71,71,71,71,71,71,71,71,71,71,71,71,71,71,71,71,71,71,71,71,71,71,71,71,71,71,71,71,71,71,71,71,71,71,71,71,71,71,71,71,71,71,71,71,71,71,71,71,71,71,71,71,71,71,71,71,71,71,71,71,71,71,71,71,71,71,71,71,71,71,71,71,71,71,71,71,71,71,71,71,71,71,71,71,71,71,71,71,71,71,71,71,71,71,71,71,71,71,71,71,71,71,71,71,71,71,71,71,71,71,71,71,71,71,71,71,71,71,71,71,71,71,71,71,71,71,71,71,71,71,71,71,71,71,71,71,71,71,71,71,71,71,71,71,71,71,71,71,71,71,71,71,71,71,71,71,71,71,71,71,71,71,71,71,71,71,71,71,71,71,71,71,71,71,71,71,71,71,71,71,71,71,71,71,71,71,71,71,71,71,71,71,71,71,71,71,71,71,71,71,71,71,71,71,71,71,71,71,71,71,71,71,71,71,71,71,71,71,71,71,71,71,71,71,71,71,71,71,71,71,71,71,71,71,71,71,71,71,71,71,71,71,71,71,71,71,71,71,71,71,71,71,71,71,71,71,71,71,71,71,71,71,71,71,71,71,71,71,71,71,71,71,71,71,71,71,71,71,71,71,71,71,71,71,71,71,71,71,71,71,71,71,71,71,71,71,71,71,71,71,71,71,71,71,71,71,71,71,71,71,71,71,71,71,71,71,71,71,71,71,71,71,71,71,71,71,71,71,71,71,71,71,71,71,71,71,71,71,71,71,71,71,71,71,71,71,71,71,71,71,71,71,71,71,71,71,71,71,71,71,71,71,71,71,71,71,71,71,71,71,71,71,71,71,71,71,71,71,71,71,71,71,71,71,71,71,71,71,71,71,71,71,71,71,71,71,71,71,71,71,71,71,71,71,71,71,71,71,71,71,71,71,71,71,71,71,71,71,71,71,71,71,71,71,71,71,71,71,71,71,71,71,71,71,71,71,71,71,71,71,71,71,71,71,71,71,71,71,71,71,71,71,71,71,71,71,71,71,71,71,71,71,71,71,71,71,71,71,71,71,71,71,71,71,71,71,71,71,71,71,71,71,71,71,71,71,71,71,71,71,71,71,71,71,71,71,71,71,71,71,71,71,71,71,71,71,71,71,71,71,71,71,71,71,71,71,71,71,71,71,71,71,71,71,71,71,71,71,71,71,71,71,71,71,71,71,71,71,71,71,71,71,71,71,71,71,71,71,71,71,71,71,71,71,71,71,71,71,71,71,71,71,71,71,71,71,71,71,71,71,71,71,71,71,71,71,71,71,71,71,71,71,71,71,71,71,71,71,71,71,71,71,71,71,71,71,71,71,71,71,71,71,71,71,71,71,71,71,71,71,71,71,71,71,71,71,71,71,71,71,71,71,71,71,71,71,71,71,71,71,71,71,71,71,71,71,71,71,71,71,71,71,71,71,71,71,71,71,71,71,71,71,71,71,71,71,71,71,71,71,71,71,71,71,71,71,71,71,71,71,71,71,71,71,71,71,71,71,71,71,71,71,71,71,71,71,71,71,71,71,71,71,71,71,71,71,71,71,71,71,71,71,71,71,71,71,71,71,71,71,71,71,71,71,71,71,71,71,71,71,71,71,71,71,71,71,71,71,71,71,71,71,71,71,71,71,71,71,71,71,71,71,71,71,71,71,71,71,71,71,71,71,71,71,71,71,71,71,71,71,71,71,71,71,71,71,71,71,71,71,71,71,71,71,71,71,71,71,71,71,71,71,71,71,71,71,71,71,71,71,71,71,71,71,71,71,71,71,71,71,71,71,71,71,71,71,71,71,71,71,71,71,71,71,71,71,71,71,71,71,71,71,71,71,71,71,71,71,71,71,71,71,71,71,71,71,71,71,71,71,71,71,71,71,71,71,71,71,71,71,71,71,71,71,71,71,71,71,71,71,71,71,71,71,71,71,71,71,71,71,71,71,71,71,71,71,71,71,71,71,71,71,71,71,71,71,71,71,71,71,71,71,71,71,71,71,71,71,71,71,71,71,71,71,71,71,71,71,71,71,71,71,71,71,71,71,71,71,71,71,71,71,71,71,71,71,71,71,71,71,71,71,71,71,71,71,71,71,71,71,71,71,71,71,71,71,71,71,71,71,71,71,71,71,71,71,71,71,71,71,71,71,71,71,71,71,71,71,71,71,71,71,71,71,71,71,71,71,71,71,71,71,71,71,71,71,71,71,71,71,71,71,71,71,71,71,71,71,71,71,71,71,71,71,71,71,71,71,71,71,71,71,71,71,71,71,71,71,71,71,71,71,71,71,71,71,71,71,71,71,71,71,71,71,71,71,71,71,71,71,71,71,71,71,71,71,71,71,71,71,71,71,71,71,71,71,71,71,71,71,71,71,71,71,71,71,71,71,71,71,71,71,71,71,71,71,71,71,71,71,71,71,71,71,71,71,71,71,71,71,71,71,71,71,71,71,71,71,71,71,71,71,71,71,71,71,71,71,71,71,71,71,71,71,71,71,71,71,71,71,71,71,71,71,71,71,71,71,71,71,71,71,71,71,71,71,71,71,71,71,71,71,71,71,71,71,71,71,71,71,71,71,71,71,71,71,71,71,71,71,71,71,71,71,71,71,71,71,71,71,71,71,71,71,71,71,71,71,71,71,71,71,71,71,71,71,71,71,71,71,71,71,71,71,71,71,71,71,71,71,71,71,71,71,71,71,71,71,71,71,71,71,71,71,71,71,71,71,71,71,71,71,71,71,71,71,71,71,71,71,71,71,71,71,71,71,71,71,71,71,71,71,71,71,71,71,71,71,71,71,71,71,71,71,71,71,71,71,71,71,71,71,71,71,71,71,71,71,71,71,71,71,71,71,71,71,71,71,71,71,71,71,71,71,71,71,71,71,71,71,71,71,71,71,71,71,71,71,71,71,71,71,71,71,71,71,71,71,71,71,71,71,71,71,71,71,71,71,71,71,71,71,71,71,71,71,71,71,71,71,71,71,71,71,71,71,71,71,71,71,71,71,71,71,71,71,71,71,71,71,71,71,71,71,71,71,71,71,71,71,71,71,71,71,71,71,71,71,71,71,71,71,71,71,71,71,71,71,71,71,71,71,71,71,71,71,71,71,71,71,71,71,71,71,71,71,71,71,71,71,71,71,71,71,71,71,71,71,71,71,71,71,71,71,71,71,71,71,71,71,71,71,71,71,71,71,71,71,71,71,71,71,71,71,71,71,71,71,71,71,71,71,71,71,71,71,71,71,71,71,71,71,71,71,71,71,71,71,71,71,71,71,71,71,71,71,71,71,71,71,71,71,71,71,71,71,71,71,71,71,71,71,71,71,71,71,71,71,71,71,71,71,71,71,71,71,71,71,71,71,71,71,71,71,71,71,71,71,71,71,71,71,71,71,71,71,71,71,71,71,71,71,71,71,71,71,71,71,71,71,71,71,71,71,71,71,71,71,71,71,71,71,71,71,71,71,71,71,71,71,71,71,71,71,71,71,71,71,71,71,71,71,71,71,71,71,71,71,71,71,71,71,71,71,71,71,71,71,71,71,71,71,71,71,71,71,71,71,71,71,71,71,71,71,71,71,71,71,71,71,71,71,71,71,71,71,71,71,71,71,71,71,71,71,71,71,71,71,71,71,71,71,71,71,71,71,71,71,71,71,71,71,71,71,71,71,71,71,71,71,71,71,71,71,71,71,71,71,71,71,71,71,71,71,71,71,71,71,71,71,71,71,71,71,71,71,71,71,71,71,71,71,71,71,71,71,71,71,71,71,71,71,71,71,71,71,71,71,71,71,71,71,71,71,71,71,71,71,71,71,71,71,71,71,71,71,71,71,71,71,71,71,71,71,71,71,71,71,71,71,71,71,71,71,71,71,71,71,71,71,71,71,71,71,71,71,71,71,71,71,71,71,71,71,71,71,71,71,71,71,71,71,71,71,71,71,71,71,71,71,71,71,71,71,71,71,71,71,71,71,71,71,71,71,71,71,71,71,71,71,71,71,71,71,71,71,71,71,71,71,71,71,71,71,71,71,71,71,71,71,71,71,71,71,71,71,71,71,71,71,71,71,71,71,71,71,71,71,71,71,71,71,71,71,71,71,71,71,71,71,71,71,71,71,71,71,71,71,71,71,71,71,71,71,71,71,71,71,71,71,71,71,71,71,71,71,71,71,71,71,71,71,71,71,71,71,71,71,71,71,71,71,71,71,71,71,71,71,71,71,71,71,71,71,71,71,71,71,71,71,71,71,71,71,71,71,71,71,71,71,71,71,71,71,71,71,71,71,71,71,71,71,71,71,71,71,71,71,71,71,71,71,71,71,71,71,71,71,71,71,71,71,71,71,71,71,71,71,71,71,71,71,71,71,71,71,71,71,71,71,71,71,71,71,71,71,71,71,71,71,71,71,71,71,71,71,71,71,71,71,71,71,71,71,71,71,71,71,71,71,71,71,71,71,71,71,71,71,71,71,71,71,71,71,71,71,71,71,71,71,71,71,71,71,71,71,71,71,71,71,71,71,71,71,71,71,71,71,71,71,71,71,71,71,71,71,71,71,71,71,71,71,71,71,71,71,71,71,71,71,71,71,71,71,71,71,71,71,71,71,71,71,71,71,71,71,71,71,71,71,71,71,71,71,71,71,71,71,71,71,71,71,71,71,71,71,71,71,71,71,71,71,71,71,71,71,71,71,71,71,71,71,71,71,71,71,71,71,71,71,71,71,71,71,71,71,71,71,71,71,71,71,71,71,71,71,71,71,71,71,71,71,71,71,71,71,71,71,71,71,71,71,71,71,71,71,71,71,71,71,71,71,71,71,71,71,71,71,71,71,71,71,71,71,71,71,71,71,71,71,71,71,71,71,71,71,71,71,71,71,71,71,71,71,71,71,71,71,71,71,71,71,71,71,71,71,71,71,71,71,71,71,71,71,71,71,71,71,71,71,71,71,71,71,71,71,71,71,71,71,71,71,71,71,71,71,71,71,71,71,71,71,71,71,71,71,71,71,71,71,71,71,71,71,71,71,71,71,71,71,71,71,71,71,71,71,71,71,71,71,71,71,71,71,71,71,71,71,71,71,71,71,71,71,71,71,71,71,71,71,71,71,71,71,71,71,71,71,71,71,71,71,71,71,71,71,71,71,71,71,71,71,71,71,71,71,71,71,71,71,71,71,71,71,71,71,71,71,71,71,71,71,71,71,71,71,71,71,71,71,71,71,71,71,71,71,71,71,71,71,71,71,71,71,71,71,71,71,71,71,71,71,71,71,71,71,71,71,71,71,71,71,71,71,71,71,71,71,71,71,71,71,71,71,71,71,71,71,71,71,71,71,71,71,71,71,71,71,71,71,71,71,71,71,71,71,71,71,71,71,71,71,71,71,71,71,71,71,71,71,71,71,71,71,71,71,71,71,71,71,71,71,71,71,71,71,71,71,71,71,71,71,71,71,71,71,71,71,71,71,71,71,71,71,71,71,71,71,71,71,71,71,71,71,71,71,71,71,71,71,71,71,71,71,71,71,71,71,71,71,71,71,71,71,71,71,71,71,71,71,71,71,71,71,71,71,71,71,71,71,71,71,71,71,71,71,71,71,71,71,71,71,71,71,71,71,71,71,71,71,71,71,71,71,71,71,71,71,71,71,71,71,71,71,71,71,71,71,71,71,71,71,71,71,71,71,71,71,71,71,71,71,71,71,71,71,71,71,71,71,71,71,71,71,71,71,71,71,71,71,71,71,71,71,71,71,71,71,71,71,71,71,71,71,71,71,71,71,71,71,71,71,71,71,71,71,71,71,71,71,71,71,71,71,71,71,71,71,71,71,71,71,71,71,71,71,71,71,71,71,71,71,71,71,71,71,71,71,71,71,71,71,71,71,71,71,71,71,71,71,71,71,71,71,71,71,71,71,71,71,71,71,71,71,71,71,71,71,71,71,71,71,71,71,71,71,71,71,71,71,71,71,71,71,71,71,71,71,71,71,71,71,71,71,71,71,71,71,71,71,71,71,71,71,71,71,71,71,71,71,71,71,71,71,71,71,71,71,71,71,71,71,71,71,71,71,71,71,71,71,71,71,71,71,71,71,71,71,71,71,71,71,71,71,71,71,71,71,71,71,71,71,71,71,71,71,71,71,71,71,71,71,71,71,71,71,71,71,71,71,71,71,71,71,71,71,71,71,71,71,71,71,71,71,71,71,71,71,71,71,71,71,71,71,71,71,71,71,71,71,71,71,71,71,71,71,71,71,71,71,71,71,71,71,71,71,71,71,71,71,71,71,71,71,71,71,71,71,71,71,71,71,71,71,71,71,71,71,71,71,71,71,71,71,71,71,71,71,71,71,71,71,71,71,71,71,71,71,71,71,71,71,71,71,71,71,71,71,71,71,71,71,71,71,71,71,71,71,71,71,71,71,71,71,71,71,71,71,71,71,71,71,71,71,71,71,71,71,71,71,71,71,71,71,71,71,71,71,71,71,71,71,71,71,71,71,71,71,71,71,71,71,71,71,71,71,71,71,71,71,71,71,71,71,71,71,71,71,71,71,71,71,71,71,71,71,71,71,71,71,71,71,71,71,71,71,71,71,71,71,71,71,71,71,71,71,71,71,71,71,71,71,71,71,71,71,71,71,71,71,71,71,71,71,71,71,71,71,71,71,71,71,71,71,71,71,71,71,71,71,71,71,71,71,71,71,71,71,71,71,71,71,71,71,71,71,71,71,71,71,71,71,71,71,71,71,71,71,71,71,71,71,71,71,71,71,71,71,71,71,71,71,71,71,71,71,71,71,71,71,71,71,71,71,71,71,71,71,71,71,71,71,71,71,71,71,71,71,71,71,71,71,71,71,71,71,71,71,71,71,71,71,71,71,71,71,71,71,71,71,71,71,71,71,71,71,71,71,71,71,71,71,71,71,71,71,71,71,71,71,71,71,71,71,71,71,71,71,71,71,71,71,71,71,71,71,71,71,71,71,71,71,71,71,71,71,71,71,71,71,71,71,71,71,71,71,71,71,71,71,71,71,71,71,71,71,71,71,71,71,71,71,71,71,71,71,71,71,71,71,71,71,71,71,71,71,71,71,71,71,71,71,71,71,71,71,71,71,71,71,71,71,71,76,71,71,71,71,71,71,71,71,71,71,71,71,71,71,71,71,71,71,71,71,71,71,71,71,71,71,71,71,71,71,71,71,71,71,71,71,71,71,71,71,71,71,71,71,71,71,71,71,71,71,71,71,71,71,71,71,71,71,71,71,71,71,71,71,71,71,71,71,71,71,71,71,71,71,71,71,71,71,71,71,71,71,71,71,71,71,71,71,71,71,71,71,71,71,71,71,71,71,71,71,71,71,71,71,71,71,71,71,71,71,71,71,71,71,71,71,71,71,71,71,71,71,71,71,71,71,71,71,71,71,71,71,71,71,71,71,71,71,71,71,71,71,71,71,71,71,71,71,71,71,71,71,71,71,71,71,71,71,71,71,71,71,71,71,71,71,71,71,71,71,71,71,71,71,71,71,71,71,71,71,71,71,71,71,71,71,71,71,71,71,71,71,71,71,71,71,71,71,71,71,71,71,71,71,71,71,71,71,71,71,71,71,71,71,71,71,71,71,71,71,71,71,71,71,71,71,71,71,71,71,71,71,71,71,71,71,71,71,71,71,71,71,71,71,71,71,71,71,71,71,71,71,71,71,71,71,71,71,71,71,71,71,71,71,71,71,71,71,71,71,71,71,71,71,71,71,71,71,71,71,71,71,71,71,71,71,71,71,71,71,71,71,71,71,71,71,71,71,71,71,71,71,71,71,71,71,71,71,71,71,71,71,71,71,71,71,71,71,71,71,71,71,71,71,71,71,71,71,71,71,71,71,71,71,71,71,71,71,71,71,71,71,71,71,71,71,71,71,71,71,71,71,71,71,71,71,71,71,71,71,71,71,71,71,71,71,71,71,71,71,71,71,71,71,71,71,71,71,71,71,71,71,71,71,71,71,71,71,71,71,71,71,71,71,71,71,71,71,71,71,71,71,71,71,71,71,71,71,71,71,71,71,71,71,71,71,71,71,71,71,71,71,71,71,71,71,71,71,71,71,71,71,71,71,71,71,71,71,71,71,71,71,71,71,71,71,71,71,71,71,71,71,71,71,71,71,71,71,71,71,71,71,71,71,71,71,71,71,71,71,71,71,71,71,71,71,71,71,71,71,71,71,71,71,71,71,71,71,71,71,71,71,71,71,71,71,71,71,71,71,71,71,71,71,71,71,71,71,71,71,71,71,71,71,71,71,71,71,71,71,71,71,71,71,71,71,71,71,71,71,71,71,71,71,71,71,71,71,71,71,71,71,71,71,71,71,71,71,71,71,71,71,71,71,71,71,71,71,71,71,71,71,71,71,71,71,71,71,71,71,71,71,71,71,71,71,71,71,71,71,71,71,71,71,71,71,71,71,71,71,71,71,71,71,71,71,71,71,71,71,71,71,71,71,71,71,71,71,71,71,71,71,71,71,71,71,71,71,71,71,71,71,71,71,71,71,71,71,71,71,71,71,71,71,71,71,71,71,71,71,71,71,71,71,71,71,71,71,71,71,71,71,71,71,71,71,71,71,71,71,71,71,71,71,71,71,71,71,71,71,71,71,71,71,71,71,71,71,71,71,71,71,71,71,71,71,71,71,71,71,71,71,71,71,71,71,71,71,71,71,71,71,71,71,71,71,71,71,71,71,71,71,71,71,71,71,71,71,71,71,71,71,71,71,71,71,71,71,71,71,71,71,71,71,71,71,71,71,71,71,71,71,71,71,71,71,71,71,71,71,71,71,71,71,71,71,71,71,71,71,71,71,71,71,71,71,71,71,71,71,71,71,71,71,71,71,71,71,71,71,71,71,71,71,71,71,71,71,71,71,71,71,71,71,71,71,71,71,71,71,71,71,71,71,71,71,71,71,71,71,71,71,71,71,71,71,71,71,71,71,71,71,71,71,71,71,71,71,71,71,71,71,71,71,71,71,71,71,71,71,71,71,71,71,71,71,71,71,71,71,71,71,71,71,71,71,71,71,71,71,71,71,71,71,71,71,71,71,71,71,71,71,71,71,71,71,71,71,71,71,71,71,71,71,71,71,71,71,71,71,71,71,71,71,71,71,71,71,71,71,71,71,71,71,71,71,71,71,71,71,71,71,71,71,71,71,71,71,71,71,71,71,71,71,71,71,71,71,71,71,71,71,71,71,71,71,71,71,71,71,71,71,71,71,71,71,71,71,71,71,71,71,71,71,71,71,71,71,71,71,71,71,71,71,71,71,71,71,71,71,71,71,71,71,71,71,71,71,71,71,71,71,71,71,71,71,71,71,71,71,71,71,71,71,71,71,71,71,71,71,71,71,71,71,71,71,71,71,71,71,71,71,71,71,71,71,71,71,71,71,71,71,71,71,71,71,71,71,71,71,71,71,71,71,71,71,71,71,71,71,71,71,71,71,71,71,71,71,71,71,71,71,71,71,71,71,71,71,71,71,71,71,71,71,71,71,71,71,71,71,71,71,71,71,71,71,71,71,71,71,71,71,71,71,71,71,71,71,71,71,71,71,71,71,71,71,71,71,71,71,71,71,71,71,71,71,71,71,71,71,71,71,71,71,71,71,71,71,71,71,71,71,71,71,71,71,71,71,71,71,71,71,71,71,71,71,71,71,71,71,71,71,71,71,71,71,71,71,71,71,71,71,71,71,71,71,71,71,71,71,71,71,71,71,71,71,71,71,71,71,71,71,71,71,71,71,71,71,71,71,71,71,71,71,71,71,71,71,71,71,71,71,71,71,71,71,71,71,71,71,71,71,71,71,71,71,71,71,71,71,71,71,71,71,71,71,71,71,71,71,71,71,71,71,71,71,71,71,71,71,71,71,71,71,71,71,71,71,71,71,71,71,71,71,71,71,71,71,71,71,71,71,71,71,71,71,71,71,71,71,71,71,71,71,71,71,71,71,71,71,71,71,71,71,71,71,71,71,71,71,71,71,71,71,71,71,71,71,71,71,71,71,71,71,71,71,71,71,71,71,71,71,71,71,71,71,71,71,71,71,71,71,71,71,71,71,71,71,71,71,71,71,71,71,71,71,71,71,71,71,71,71,71,71,71,71,71,71,71,71,71,71,71,71,71,71,71,71,71,71,71,71,71,71,71,71,71,71,71,71,71,71,71,71,71,71,71,71,71,71,71,71,71,71,71,71,71,71,71,71,71,71,71,71,71,71,71,71,71,71,71,71,71,71,71,71,71,71,71,71,71,71,71,71,71,71,71,71,71,71,71,71,71,71,71,71,71,71,71,71,71,71,71,71,71,71,71,71,71,71,71,71,71,71,71,71,71,71,71,71,71,71,71,71,71,71,71,71,71,71,71,71,71,71,71,71,71,71,71,71,71,71,71,76,71,71,71,71,71,71,71,71,71,71,71,71,71,71,71,71,71,71,71,71,71,71,71,71,71,71,71,71,71,71,71,71,71,71,71,71,71,71,71,71,71,71,71,71,71,71,71,71,71,71,71,71,71,71,71,71,71,71,71,71,71,71,71,71,71,71,71,71,71,71,71,71,71,71,71,71,71,71,71,71,71,71,71,71,71,71,71,71,71,71,71,71,71,71,71,71,71,71,71,71,71,71,71,71,71,71,71,71,71,71,71,71,71,71,71,71,71,71,71,71,71,71,71,71,71,71,71,71,71,71,71,71,71,71,71,71,71,71,71,71,71,71,71,71,71,71,71,71,71,71,71,71,71,71,71,71,71,71,71,71,71,71,71,71,71,71,71,71,71,71,71,71,71,71,71,71,71,71,71,71,71,71,71,71,71,71,71,71,71,71,71,71,71,71,71,71,71,71,71,71,71,71,71,71,71,71,71,71,71,71,71,71,71,71,71,71,71,71,71,71,71,71,71,71,71,71,71,71,71,71,71,71,71,71,71,71,71,71,71,71,71,71,71,71,71,71,71,71,71,71,71,71,71,71,71,71,71,71,71,71,71,71,71,71,71,71,71,71,71,71,71,71,71,71,71,71,71,71,71,71,71,71,71,71,71,71,71,71,71,71,71,71,71,71,71,71,71,71,71,71,71,71,71,71,71,71,71,71,71,71,71,71,71,71,71,71,71,71,71,71,71,71,71,71,71,71,71,71,71,71,71,71,71,71,71,71,71,71,71,71,71,71,71,71,71,71,71,71,71,71,71,71,71,71,71,71,71,71,71,71,71,71,71,71,71,71,71,71,71,71,71,71,71,71,71,71,71,71,71,71,71,71,71,71,71,71,71,71,71,71,71,71,71,71,71,71,71,71,71,71,71,71,71,71,71,71,71,71,71,71,71,71,71,71,71,71,71,71,71,71,71,71,71,71,71,71,71,71,71,71,71,71,71,71,71,71,71,71,71,71,71,71,71,71,71,71,71,71,71,71,71,71,71,71,71,71,71,71,71,71,71,71,71,71,71,71,71,71,71,71,71,71,71,71,71,71,71,71,71,71,71,71,71,71,71,71,71,71,71,71,71,71,71,71,71,71,71,71,71,71,71,71,71,71,71,71,71,71,71,71,71,71,71,71,71,71,71,71,71,71,71,71,71,71,71,71,71,71,71,71,71,71,71,71,71,71,71,71,71,71,71,71,71,71,71,71,71,71,71,71,71,71,71,71,71,71,71,71,71,71,71,71,71,71,71,71,71,71,71,71,71,71,71,71,71,71,71,71,71,71,71,71,71,71,71,71,71,71,71,71,71,71,71,71,71,71,71,71,71,71,71,71,71,71,71,71,71,71,71,71,71,71,71,71,71,71,71,71,71,71,71,71,71,71,71,71,71,71,71,71,71,71,71,71,71,71,71,71,71,71,71,71,71,71,71,71,71,71,71,71,71,71,71,71,71,71,71,71,71,71,71,71,71,71,71,71,71,71,71,71,71,71,71,71,71,71,71,71,71,71,71,71,71,71,71,71,71,71,71,71,71,71,71,71,71,71,71,71,71,71,71,71,71,71,71,71,71,71,71,71,71,71,71,71,71,71,71,71,71,71,71,71,71,71,71,71,71,71,71,71,71,71,71,71,71,71,71,71,71,71,71,71,71,71,71,71,71,71,71,71,71,71,71,71,71,71,71,71,71,71,71,71,71,71,71,71,71,71,71,71,71,71,71,71,71,71,71,71,71,71,71,71,71,71,71,71,71,71,71,71,71,71,71,71,71,71,71,71,71,71,71,71,71,71,71,71,71,71,71,71,71,71,71,71,71,71,71,71,71,71,71,71,71,71,71,71,71,71,71,71,71,71,71,71,71,71,71,71,71,71,71,71,71,71,71,71,71,71,71,71,71,71,71,71,71,71,71,71,71,71,71,71,71,71,71,71,71,71,71,71,71,71,71,71,71,71,71,71,71,71,71,71,71,71,71,71,71,71,71,71,71,71,71,71,71,71,71,71,71,71,71,71,71,71,71,71,71,71,71,71,71,71,71,71,71,71,71,71,71,71,71,71,71,71,71,71,71,71,71,71,71,71,71,71,71,71,71,71,71,71,71,71,71,71,71,71,71,71,71,71,71,71,71,71,71,71,71,71,71,71,71,71,71,71,71,71,71,71,71,71,71,71,71,71,71,71,71,71,71,71,71,71,71,71,71,71,71,71,71,71,71,71,71,71,71,71,71,71,71,71,71,71,71,71,71,71,71,71,71,71,71,71,71,71,71,71,71,71,71,71,71,71,71,71,71,71,71,71,71,71,71,71,71,71,71,71,71,71,71,71,71,71,71,71,71,71,71,71,71,71,71,71,71,71,71,71,71,71,71,71,71,71,71,71,71,71,71,71,71,71,71,71,71,71,71,71,71,71,71,71,71,71,71,71,71,71,71,71,71,71,71,71,71,71,71,71,71,71,71,71,71,71,71,71,71,71,71,71,71,71,71,71,71,71,71,71,71,71,71,71,71,71,71,71,71,71,71,71,71,71,71,71,71,71,71,71,71,71,71,71,71,71,71,71,71,71,71,71,71,71,71,71,71,71,71,71,71,71,71,71,71,71,71,71,71,71,71,71,71,71,71,71,71,71,71,71,71,71,71,71,71,71,71,71,71,71,71,71,71,71,71,71,71,71,71,71,71,71,71,71,71,71,71,71,71,71,71,71,71,71,71,71,71,71,71,71,71,71,71,71,71,71,71,71,71,71,71,71,71,71,71,71,71,71,71,71,71,71,71,71,71,71,71,71,71,71,71,71,71,71,71,71,71,71,71,71,71,71,71,71,71,71,71,71,71,71,71,71,71,71,71,71,71,71,71,71,71,71,71,71,71,71,71,71,71,71,71,71,71,71,71,71,71,71,71,71,71,71,71,71,71,71,71,71,71,71,71,71,71,71,71,71,71,71,71,71,71,71,71,71,71,71,71,71,71,71,71,71,71,71,71,71,71,71,71,71,71,71,71,71,71,71,71,71,71,71,71,71,71,71,71,71,71,71,71,71,71,71,71,71,71,71,71,71,71,71,71,71,71,71,71,71,71,71,71,71,71,71,71,71,71,71,71,71,71,71,71,71,71,71,71,71,71,71,71,71,71,71,71,71,71,71,71,71,71,71,71,71,71,71,71,71,71,71,71,71,71,71,71,71,71,71,71,71,71,71,71,71,71,71,71,71,71,71,71,71,71,71,71,71,71,71,71,71,71,71,71,71,71,71,71,71,71,71,71,71,71,71,71,71,71,71,71,71,71,71,71,71,71,71,71,71,71,71,71,71,71,71,71,71,71,71,71,71,71,71,71,71,71,71,71,71,71,71,71,71,71,71,71,71,71,71,71,71,71,71,71,71,71,71,71,71,71,71,71,71,71,71,71,71,71,71,71,71,71,71,71,71,71,71,71,71,71,71,71,71,71,71,71,71,71,71,71,71,71,71,71,71,71,71,71,71,71,71,71,71,71,71,71,71,71,71,71,71,71,71,71,71,71,71,71,71,71,71,71,71,71,71,71,71,71,71,71,71,71,71,71,71,71,71,71,71,71,71,71,71,71,71,71,71,71,71,71,71,71,71,71,71,71,71,71,71,71,71,71,71,71,71,71,71,71,71,71,71,71,71,71,71,71,71,71,71,71,71,71,71,71,71,71,71,71,71,71,71,71,71,71,71,71,71,71,71,71,71,71,71,71,71,71,71,71,71,71,71,71,71,71,71,71,71,71,71,71,71,71,71,71,71,71,71,71,71,71,71,71,71,71,71,71,71,71,71,71,71,71,71,71,71,71,71,71,71,71,71,71,71,71,71,71,71,71,71,71,71,71,71,71,71,71,71,71,71,71,71,71,71,71,71,71,71,71,71,71,71,71,71,71,71,71,71,71,71,71,71,71,71,71,71,71,71,71,71,71,71,71,71,71,71,71,71,71,71,71,71,71,71,71,71,71,71,71,71,71,71,71,71,71,71,71,71,71,71,71,71,71,71,71,71,71,71,71,71,71,71,71,71,71,71,71,71,71,71,71,71,71,71,71,71,71,71,71,71,71,71,71,71,71,71,71,71,71,71,71,71,71,71,71,71,71,71,71,71,71,71,71,71,71,71,71,71,71,71,71,71,71,71,71,71,71,71,71,71,71,71,71,71,71,71,71,71,71,71,71,71,71,71,71,71,71,71,71,71,71,71,71,71,71,71,71,71,71,71,71,71,71,71,71,71,71,71,71,71,71,71,71,71,71,71,71,71,71,71,71,71,71,71,71,71,71,71,71,71,71,71,71,71,71,71,71,71,71,71,71,71,71,71,71,71,71,71,71,71,71,71,71,71,71,71,71,71,71,71,71,71,71,71,71,71,71,71,71,71,71,71,71,71,71,71,71,71,71,71,71,71,71,71,71,71,71,71,71,71,71,71,71,71,71,71,71,71,71,71,71,71,71,71,71,71,71,71,71,71,71,71,71,71,71,71,71,71,71,71,71,71,71,71,71,71,71,71,71,71,71,71,71,71,71,71,71,71,71,71,71,71,71,71,71,71,71,71,71,71,71,71,71,71,71,71,71,71,71,71,71,71,71,71,71,71,71,71,71,71,71,71,71,71,71,71,71,71,71,71,71,71,71,71,71,71,71,71,71,71,71,71,71,71,71,71,71,71,71,71,71,71,71,71,71,71,71,71,71,71,71,71,71,71,71,71,71,71,71,71,71,71,71,71,71,71,71,71,71,71,71,71,71,71,71,71,71,71,71,71,71,71,71,71,71,71,71,71,71,71,71,71,71,71,71,71,71,71,71,71,71,71,71,71,71,71,71,71,71,71,71,71,71,71,71,71,71,71,71,71,71,71,71,71,71,71,71,71,71,71,71,71,71,71,71,71,71,71,71,71,71,71,71,71,71,71,71,71,71,71,71,71,71,71,71,71,71,71,71,71,71,71,71,71,71,71,71,71,71,71,71,71,71,71,71,71,71,71,71,71,71,71,71,71,71,71,71,71,71,71,71,71,71,71,71,71,71,71,71,71,71,71,71,71,71,71,71,71,71,71,71,71,71,71,71,71,71,71,71,71,71,71,71,71,71,71,71,71,71,71,71,71,71,71,71,71,71,71,71,71,71,71,71,71,71,71,71,71,71,71,71,71,71,71,71,71,71,71,71,71,71,71,71,71,71,71,71,71,71,71,71,71,71,71,71,71,71,71,71,71,71,71,71,71,71,71,71,71,71,71,71,71,71,71,71,71,71,71,71,71,71,71,71,71,71,71,71,71,71,71,71,71,71,71,71,71,71,71,71,71,71,71,71,71,71,71,71,71,71,71,71,71,71,71,71,71,71,71,71,71,71,71,71,71,71,71,71,71,71,71,71,71,71,71,71,71,71,71,71,71,71,71,71,71,71,71,71,71,71,71,71,71,71,71,71,71,71,71,71,71,71,71,71,71,71,71,71,71,71,71,71,71,71,71,71,71,71,71,71,71,71,71,71,71,71,71,71,71,71,71,71,71,71,71,71,71,71,71,71,71,71,71,71,71,71,71,71,71,71,71,71,71,71,71,71,71,71,71,71,71,71,71,71,71,71,71,71,71,71,71,71,71,71,71,71,71,71,71,71,71,71,71,71,71,71,71,71,71,71,71,71,71,71,71,71,71,71,71,71,71,71,71,71,71,71,71,71,71,71,71,71,71,71,71,71,71,71,71,71,71,71,71,71,76,71,71,71,71,71,71,71,71,71,71,71,71,71,71,71,71,71,71,71,71,71,71,71,71,71,71,71,71,71,71,71,71,71,71,71,71,71,71,71,71,71,71,71,71,71,71,71,71,71,71,71,71,71,71,71,71,71,71,71,71,71,71,71,71,71,71,71,71,71,71,71,71,71,71,71,71,71,71,71,71,71,71,71,71,71,71,71,71,71,71,71,71,71,71,71,71,71,71,71,71,71,71,71,71,71,71,71,71,71,71,71,71,71,71,71,71,71,71,71,71,71,71,71,71,71,71,71,71,71,71,71,71,71,71,71,71,71,71,71,71,71,71,71,71,71,71,71,71,71,71,71,71,71,71,71,71,71,71,71,71,71,71,71,71,71,71,71,71,71,71,71,71,71,71,71,71,71,71,71,71,76,71,71,71,71,71,71,71,71,71,71,71,71,71,71,71,71,71,71,71,71,71,71,71,71,71,71,71,71,71,71,71,71,71,71,71,71,71,71,71,71,71,71,71,71,71,71,71,71,71,71,71,71,71,71,71,71,71,71,71,71,71,71,71,71,71,71,71,71,71,71,71,71,71,71,71,71,71,71,71,71,71,71,71,71,71,71,71,71,71,71,71,71,71,71,71,71,71,71,71,71,71,71,71,71,71,71,71,71,71,71,71,71,71,71,71,71,71,71,71,71,71,71,71,71,71,71,71,71,71,71,71,71,71,71,71,71,71,71,71,71,71,71,71,71,71,71,71,71,71,71,71,71,71,71,71,71,71,71,71,71,71,71,71,71,71,71,71,71,71,71,71,71,71,71,71,71,71,71,71,71,71,71,71,71,71,71,71,71,71,71,71,71,71,71,71,71,71,71,71,71,71,71,71,71,71,71,71,71,71,71,71,71,71,71,71,71,71,71,71,71,71,71,71,71,71,71,71,71,71,71,71,71,71,71,71,71,71,71,71,71,71,71,71,71,71,71,71,71,71,71,71,71,71,71,71,71,71,71,71,71,71,71,71,71,71,71,71,71,71,71,71,71,71,71,71,71,71,71,71,71,71,71,71,71,71,71,71,71,71,71,71,71,71,71,71,71,71,71,71,71,71,71,71,71,71,71,71,71,71,71,71,71,71,71,71,71,71,71,71,71,71,71,71,71,71,71,71,71,71,71,71,71,71,71,71,71,71,71,71,71,71,71,71,71,71,71,71,71,71,71,71,71,71,71,71,71,71,71,71,71,71,71,71,71,71,71,71,71,71,71,71,71,71,71,71,71,71,71,71,71,71,71,71,71,71,71,71,71,71,71,71,71,71,71,71,71,71,71,71,71,71,71,71,71,71,71,71,71,71,71,71,71,71,71,71,71,71,71,71,71,71,71,71,71,71,71,71,71,71,71,71,71,71,71,71,71,71,71,71,71,71,71,71,71,71,71,71,71,71,71,71,71,71,71,71,71,71,71,71,71,71,71,71,71,71,71,71,71,71,71,71,71,71,71,71,71,71,71,71,71,71,71,71,71,71,71,71,71,71,71,71,71,71,71,71,71,76,71,71,71,71,71,71,71,71,71,71,71,71,71,71,71,71,71,71,71,71,71,71,71,71,71,71,71,71,71,71,71,71,71,71,71,71,71,71,71,71,71,71,71,71,71,71,71,71,71,71,71,71,71,71,71,71,71,71,71,71,71,71,71,71,71,71,71,71,71,71,71,71,71,71,71,71,71,71,71,71,71,71,71,71,71,71,71,71,71,71,71,71,71,71,71,71,71,71,71,71,71,71,71,71,71,71,71,71,71,71,71,71,71,71,71,71,71,71,71,71,71,71,71,71,71,71,71,71,71,71,71,71,71,71,71,71,71,71,71,71,71,71,71,71,71,71,71,71,71,71,71,71,71,71,71,71,71,71,71,71,71,71,71,71,71,71,71,71,71,71,71,71,71,71,71,71,71,71,71,71,71,71,71,71,71,71,71,71,71,71,71,71,71,71,71,71,71,71,71,71,71,71,71,71,71,71,71,71,71,71,71,71,71,71,71,71,71,71,71,71,71,71,71,71,71,71,71,71,71,71,71,71,71,71,71,71,71,71,71,71,71,71,71,71,71,71,71,71,71,71,71,71,71,71,71,71,71,71,71,71,71,71,71,71,71,71,71,71,71,71,71,71,71,71,71,71,71,71,71,71,71,71,71,71,71,71,71,71,71,71,71,71,71,71,71,71,71,71,71,71,71,71,71,71,71,71,71,71,71,71,71,71,71,71,71,71,71,71,71,71,71,71,71,71,71,71,71,71,71,71,71,71,71,71,71,71,71,71,71,71,71,71,71,71,71,71,71,71,71,71,71,71,71,71,71,71,71,71,71,71,71,71,71,71,71,71,71,71,71,71,71,71,71,71,71,71,71,71,71,71,71,71,71,71,71,71,71,71,71,71,71,71,71,71,71,71,71,71,71,71,71,71,71,71,71,71,71,71,71,71,71,71,71,71,71,71,71,71,71,71,71,71,71,71,71,71,71,71,71,71,71,71,71,71,71,71,71,71,71,71,71,71,71,71,71,71,71,71,71,71,71,71,71,71,71,71,71,71,71,71,71,71,71,71,71,71,71,71,71,71,71,71,71,71,71,71,71,71,71,71,71,71,71,71,71,71,71,71,71,71,71,71,71,71,71,71,71,71,71,71,71,71,71,71,71,71,71,71,71,71,71,71,71,71,71,71,71,71,71,71,71,71,71,71,71,71,71,71,71,71,71,71,71,71,71,71,71,71,71,71,71,71,71,71,71,71,71,71,71,71,71,71,71,71,71,71,71,71,71,71,71,71,71,71,71,71,71,71,71,71,71,71,71,71,71,71,71,71,71,71,71,71,71,71,71,71,71,71,71,71,71,71,71,71,71,71,71,71,71,71,71,71,71,71,71,71,71,71,71,71,71,71,71,71,71,71,71,71,71,71,71,71,71,71,71,71,71,71,71,71,71,71,71,71,71,71,71,71,71,71,71,71,71,71,71,71,71,71,71,71,71,71,71,71,71,71,71,71,71,71,71,71,71,71,71,71,71,71,71,71,71,71,71,71,71,71,71,71,71,71,71,71,71,71,71,71,71,71,71,71,71,71,71,71,71,71,71,71,71,71,71,71,71,71,71,71,71,71,71,71,71,71,71,71,71,71,71,71,71,71,71,71,71,71,71,71,71,71,71,71,71,71,71,71,71,71,71,71,71,71,71,71,71,71,71,71,71,71,71,71,71,71,71,71,71,71,71,71,71,71,71,71,71,71,71,71,71,71,71,71,71,71,71,71,71,71,71,71,71,71,71,71,71,71,71,71,71,71,71,71,71,71,71,71,71,71,71,71,71,71,71,71,71,71,71,71,71,71,71,71,71,71,71,71,71,71,71,71,71,71,71,71,71,71,71,71,71,71,71,71,71,71,71,71,71,71,71,71,71,71,71,71,71,71,71,71,71,71,71,71,71,71,71,71,71,71,71,71,71,71,71,71,71,71,71,71,71,71,71,71,71,71,71,71,71,71,71,71,71,71,71,71,71,71,71,71,71,71,71,71,71,71,71,71,71,71,71,71,71,71,71,71,71,71,71,71,71,71,71,71,71,71,71,71,71,71,71,71,71,71,71,71,71,71,71,71,71,71,71,71,71,71,71,71,71,71,71,71,71,71,71,71,71,71,71,71,71,71,71,71,71,71,71,71,71,71,71,71,71,71,71,71,71,71,71,71,71,71,71,71,71,71,71,71,71,71,71,71,71,71,71,71,71,71,71,71,71,71,71,71,71,71,71,71,71,71,71,71,71,71,71,71,71,71,71,71,71,71,71,71,71,71,71,71,71,71,71,71,71,71,71,71,71,71,71,71,71,71,71,71,71,71,71,71,71,71,71,71,71,71,71,71,71,71,71,71,71,71,71,71,71,71,71,71,71,71,71,71,71,71,71,71,71,71,71,71,71,71,71,71,71,71,71,71,71,71,71,71,71,71,71,71,71,71,71,71,71,71,71,71,71,71,71,71,71,71,71,71,71,71,71,71,71,71,71,71,71,71,71,71,71,71,71,71,71,71,71,71,71,71,71,71,71,71,71,71,71,71,71,71,71,71,71,71,71,71,71,71,71,71,71,71,71,71,71,71,71,71,71,71,71,71,71,71,71,71,71,71,71,71,71,71,71,71,71,71,71,71,71,71,71,71,71,71,71,71,71,71,71,71,71,71,71,71,71,71,71,71,71,71,71,71,71,71,71,71,71,71,71,71,71,71,71,71,71,71,71,71,71,71,71,71,71,71,71,71,71,71,71,71,71,71,71,71,71,71,71,71,71,71,71,71,71,71,71,71,71,71,71,71,71,71,71,71,71,71,71,71,71,71,71,71,71,71,71,71,71,71,71,71,71,71,71,71,71,71,71,71,71,71,71,71,71,71,71,71,71,71,71,71,71,71,71,71,71,71,71,71,71,71,71,71,71,71,71,71,71,71,71,71,71,71,71,71,71,71,71,71,71,71,71,71,71,71,71,71,71,71,71,71,71,71,71,71,71,71,71,71,71,71,71,71,71,71,71,71,71,71,71,71,71,71,71,71,71,71,71,71,71,71,71,71,71,71,71,71,71,71,71,71,71,71,71,71,71,71,71,71,71,71,71,71,71,71,71,71,71,71,71,71,71,71,71,71,71,71,71,71,71,71,71,71,71,71,71,71,71,71,71,71,71,71,71,71,71,71,71,71,71,71,71,71,71,71,71,71,71,71,71,71,71,71,71,71,71,71,71,71,71,71,71,71,71,71,71,71,71,71,71,71,71,71,71,71,71,71,71,71,71,71,71,71,71,71,71,71,71,71,71,71,71,71,71,71,71,71,71,71,71,71,71,71,71,71,71,71,71,71,71,71,71,71,71,71,71,71,71,71,71,71,71,71,71,71,71,71,71,71,71,71,71,71,71,71,71,71,71,71,71,71,71,71,71,71,71,71,71,71,71,71,71,71,71,71,71,71,71,71,71,71,71,71,71,71,71,71,71,71,71,71,71,71,71,71,71,71,71,71,71,71,71,71,71,71,71,71,71,71,71,71,71,71,71,71,71,71,71,71,71,71,71,71,71,71,71,71,71,71,71,71,71,71,71,71,71,71,71,71,71,71,71,71,71,71,71,71,71,71,71,71,71,71,71,71,71,71,71,71,71,71,71,71,71,71,71,71,71,71,71,71,71,71,71,71,71,71,71,71,71,71,71,71,71,71,71,71,71,71,71,71,71,71,71,71,71,71,71,71,71,71,71,71,71,71,71,71,71,71,71,71,71,71,71,71,71,71,71,71,71,71,71,71,71,71,71,71,71,71,71,71,71,71,71,71,71,71,71,71,71,71,71,71,71,71,71,71,71,71,71,71,71,71,71,71,71,71,71,71,71,71,71,71,71,71,71,71,71,71,71,71,71,71,71,71,71,71,71,71,71,71,71,71,71,71,71,71,71,71,71,71,71,71,71,71,71,71,71,71,71,71,71,71,71,71,71,71,71,71,71,71,71,71,71,71,71,71,71,71,71,71,71,71,71,71,71,71,71,71,71,71,71,71,71,71,71,71,71,71,71,71,71,71,71,71,71,71,71,71,71,71,71,71,71,71,71,71,71,71,71,71,71,71,71,71,71,71,71,71,71,71,71,71,71,71,71,71,71,71,71,71,71,71,71,71,71,71,71,71,71,71,71,71,71,71,71,71,71,71,71,71,71,71,71,71,71,71,71,71,71,71,71,71,71,71,71,71,71,71,71,71,71,71,71,71,71,71,71,71,71,71,71,71,71,71,71,71,71,71,71,71,71,71,71,71,71,71,71,71,71,71,71,71,71,71,71,71,71,71,71,71,71,71,71,71,71,71,71,71,71,71,71,71,71,71,71,71,71,71,71,71,71,71,71,71,71,71,71,71,71,71,71,71,71,71,71,71,71,71,71,71,71,71,71,71,71,71,71,71,71,71,71,71,71,71,71,71,71,71,71,71,71,71,71,71,71,71,71,71,71,71,71,71,71,71,71,71,71,71,71,71,71,71,71,71,71,71,71,71,71,71,71,71,71,71,71,71,71,71,71,71,71,71,71,71,71,71,71,71,71,71,71,71,71,71,71,71,71,71,71,71,71,71,71,71,71,71,71,71,71,71,71,71,71,71,71,71,71,71,71,71,71,71,71,71,71,71,71,71,71,71,71,71,71,71,71,71,71,71,71,71,71,71,71,71,71,71,71,71,71,71,71,71,71,71,71,71,71,71,71,71,71,71,71,71,71,71,71,71,71,71,71,71,71,71,71,71,71,71,71,71,71,71,71,71,71,71,71,71,71,71,71,71,71,71,71,71,71,71,71,71,71,71,71,71,71,71,71,71,71,71,71,71,71,71,71,71,71,71,71,71,71,71,71,71,71,71,71,71,71,71,71,71,71,71,71,71,71,71,71,71,71,71,71,71,71,71,71,71,71,71,71,71,71,71,71,71,71,71,71,71,71,71,71,71,71,71,71,71,71,71,71,71,71,71,71,71,71,71,71,71,71,71,71,71,71,71,71,71,71,71,71,71,71,71,71,71,71,71,71,71,71,71,71,71,71,71,71,71,71,71,71,71,71,71,71,71,71,71,71,71,71,71,71,71,71,71,71,71,71,71,71,71,71,71,71,71,71,71,71,71,71,71,71,71,71,71,71,71,71,71,71,71,71,71,71,71,71,71,71,71,71,71,71,71,71,71,71,71,71,71,71,71,71,71,71,71,71,71,71,71,71,71,71,71,71,71,71,71,71,71,71,71,71,71,71,71,71,71,71,71,71,71,71,71,71,71,71,71,71,71,71,71,71,71,71,71,71,71,71,71,71,71,71,71,71,71,71,71,71,71,71,71,71,71,71,71,71,71,71,71,71,71,71,71,71,71,71,71,71,71,71,71,71,71,71,71,71,71,71,71,71,71,71,71,71,71,71,71,71,71,71,71,71,71,71,71,71,71,71,71,71,71,71,71,71,71,71,71,71,71,71,71,71,71,71,71,71,71,71,71,71,71,71,71,71,71,71,71,71,71,71,71,71,71,71,71,71,71,71,71,71,71,71,71,71,71,71,71,71,71,71,71,71,71,71,71,71,71,71,71,71,71,71,71,71,71,71,71,71,71,71,71,71,71,71,71,71,71,71,71,71,71,71,71,71,71,71,71,71,71,71,71,71,71,71,71,71,71,71,71,71,71,71,71,71,71,71,71,71,71,71,71,71,71,71,71,71,71,71,71,71,71,71,71,71,71,71,71,71,71,71,71,71,71,71,71,71,71,71,71,71,71,71,71,71,71,71,71,71,71,71,71,71,71,71,71,71,71,71,71,71,71,71,71,71,71,71,71,71,71,71,71,71,71,71,71,71,71,71,71,71,71,71,71,71,71,71,71,71,71,71,71,71,71,71,71,71,71,71,71,71,71,71,71,71,71,71,71,71,71,71,71,71,71,71,71,71,71,71,71,71,71,71,71,71,71,71,71,71,71,71,71,71,71,71,71,71,71,71,71,71,71,71,71,71,71,71,71,71,71,71,71,71,71,71,71,71,71,71,71,71,71,71,71,71,71,71,71,71,71,71,71,71,71,71,71,71,71,71,71,71,71,71,71,71,71,71,71,71,71,71,71,71,71,71,71,71,71,71,71,71,71,71,71,71,71,71,71,71,71,71,71,71,71,71,71,71,71,71,71,71,71,71,71,71,71,71,71,71,71,71,71,71,71,71,71,71,71,71,71,71,71,71,71,71,71,71,71,71,71,71,71,71,71,71,71,71,71,71,71,71,71,71,71,71,71,71,71,71,71,71,71,71,71,71,71,71,71,71,71,71,71,71,71,71,71,71,71,71,71,71,71,71,71,71,71,71,71,71,71,71,71,71,71,71,71,71,71,71,71,71,71,71,71,71,71,71,71,71,71,71,71,71,71,71,71,71,71,71,71,71,71,71,71,71,71,71,71,71,71,71,71,71,71,71,71,71,71,71,71,71,71,71,71,71,71,71,71,71,71,71,71,71,71,71,71,71,71,71,71,71,71,71,71,71,71,71,71,71,71,71,71,71,71,71,71,71,71,71,71,71,71,71,71,71,71,71,71,71,71,71,71,71,71,71,71,71,71,71,71,71,71,71,71,71,71,71,71,71,71,71,71,71,71,71,71,71,71,71,71,71,71,71,71,71,71,71,71,71,71,71,71,71,71,71,71,71,71,71,71,71,71,71,71,71,71,71,71,71,71,71,71,71,71,71,71,71,71,71,71,71,71,71,71,71,71,71,71,71,71,71,71,71,71,71,71,71,71,71,71,71,71,71,71,71,71,71,71,71,71,71,71,71,71,71,71,71,71,71,71,71,71,71,71,71,71,71,71,71,71,71,71,71,71,71,71,71,71,71,71,71,71,71,71,71,71,71,71,71,71,71,71,71,71,71,71,71,71,71,71,71,71,71,71,71,71,71,71,71,71,71,71,71,71,71,71,71,71,71,71,71,71,71,71,71,71,71,71,71,71,71,71,71,71,71,71,71,71,71,71,71,71,71,71,71,71,71,71,71,71,71,71,71,71,71,71,71,71,71,71,71,71,71,71,71,71,71,71,71,71,71,71,71,71,71,71,71,71,71,71,71,71,71,71,71,71,71,71,71,71,71,71,71,71,71,71,71,71,71,71,71,71,71,71,71,71,71,71,71,71,71,71,71,71,71,71,71,71,71,71,71,71,71,71,71,71,71,71,71,71,71,71,71,71,71,71,71,71,71,71,71,71,71,71,71,71,71,71,71,71,71,71,71,71,71,71,71,71,71,71,71,71,71,71,71,71,71,71,71,71,71,71,71,71,71,71,71,71,71,71,71,71,71,71,71,71,71,71,71,71,71,71,71,71,71,71,71,71,71,71,71,71,71,71,71,71,71,71,71,71,71,71,71,71,71,71,71,71,71,71,71,71,71,71,71,71,71,71,71,71,71,71,71,71,71,71,71,71,71,71,71,71,71,71,71,71,71,71,71,71,71,71,71,71,71,71,71,71,71,71,71,71,71,71,71,71,71,71,71,71,71,71,71,71,71,71,71,71,71,71,71,71,71,71,71,71,71,71,71,71,71,71,71,71,71,71,71,71,71,71,71,71,71,71,71,71,71,71,71,71,71,71,71,71,71,71,71,71,71,71,71,71,71,71,71,71,71,71,71,71,71,71,71,71,71,71,71,71,71,71,71,71,71,71,71,71,71,71,71,71,71,71,71,71,71,71,71,71,71,71,71,71,71,71,71,71,71,71,71,71,71,71,71,71,71,71,71,71,71,71,71,71,71,71,71,71,71,71,71,71,71,71,71,71,71,71,71,71,71,71,71,71,71,71,71,71,71,71,71,71,71,71,71,71,71,71,71,71,71,71,71,71,71,71,71,71,71,71,71,71,71,71,71,71,71,71,71,71,71,71,71,71,71,71,71,71,71,71,71,71,71,71,71,71,71,71,71,71,71,71,71,71,71,71,71,71,71,71,71,71,71,71,71,71,71,71,71,71,71,71,71,71,71,71,71,71,71,71,71,71,71,71,71,71,71,71,71,71,71,71,71,71,71,71,71,71,71,71,71,71,71,71,71,71,71,71,71,71,71,71,71,71,71,71,71,71,71,71,71,71,71,71,71,71,71,71,71,71,71,71,71,71,71,71,71,71,71,71,71,71,71,71,71,71,71,71,71,71,71,71,71,71,71,71,71,71,71,71,71,71,71,71,71,71,71,71,71,71,71,71,71,71,71,71,71,71,71,71,71,71,71,71,71,71,71,71,71,71,71,71,71,71,71,71,71,71,71,71,71,71,71,71,71,71,71,71,71,71,71,71,71,71,71,71,71,71,71,71,71,71,71,71,71,71,71,71,71,71,71,71,71,71,71,71,71,71,71,71,71,71,71,71,71,71,71,71,71,71,71,71,71,71,71,71,71,71,71,71,71,71,71,71,71,71,71,71,71,71,71,71,71,71,71,71,71,71,71,71,71,71,71,71,71,71,71,71,71,71,71,71,71,71,71,71,71,71,71,71,71,71,71,71,71,71,71,71,71,71,71,71,71,71,71,71,71,71,71,71,71,71,71,71,71,71,71,71,71,71,71,71,71,71,71,71,71,71,71,71,71,71,71,71,71,71,71,71,71,71,71,71,71,71,71,71,71,71,71,71,71,71,71,71,71,71,71,71,71,71,71,71,71,71,71,71,71,71,71,71,71,71,71,71,71,71,71,71,71,71,71,71,71,71,71,71,71,71,71,71,71,71,71,71,71,71,71,71,71,71,71,71,71,71,71,71,71,71,71,71,71,71,71,71,71,71,71,71,71,71,71,71,71,71,71,71,71,71,71,71,71,71,71,71,71,71,71,71,71,71,71,71,71,71,71,71,71,71,71,71,71,71,71,71,71,71,71,71,71,71,71,71,71,71,71,71,71,71,71,71,71,71,71,71,71,71,71,71,71,71,71,71,71,71,71,71,71,71,71,71,71,71,71,71,71,71,71,71,71,71,71,71,71,71,71,71,71,71,71,71,71,71,71,71,71,71,71,71,71,71,71,71,71,71,71,71,71,71,71,71,71,71,71,71,71,71,71,71,71,71,71,71,71,71,71,71,71,71,71,71,71,71,71,71,71,71,71,71,71,71,71,71,71,71,71,71,71,71,71,71,71,71,71,71,71,71,71,71,71,71,71,71,71,71,71,71,71,71,71,71,71,71,71,71,71,71,71,71,71,71,71,71,71,71,71,71,71,71,71,71,71,71,71,71,71,71,71,71,71,71,71,71,71,71,71,71,71,71,71,71,71,71,71,71,71,71,71,71,71,71,71,71,71,71,71,71,71,71,71,71,71,71,71,71,71,71,71,71,71,71,71,71,71,71,71,71,71,71,71,71,71,71,71,71,71,71,71,71,71,71,71,71,71,71,71,71,71,71,71,71,71,71,71,71,71,71,71,71,71,71,71,71,71,71,71,71,71,71,71,71,71,71,71,71,71,71,71,71,71,71,71,71,71,71,71,71,71,71,71,71,71,71,71,71,71,71,71,71,71,71,71,71,71,71,71,71,71,71,71,71,71,71,71,71,71,71,71,71,71,71,71,71,71,71,71,71,71,71,71,71,71,71,71,71,71,71,71,71,71,71,71,71,71,71,71,71,71,71,71,71,71,71,71,71,71,71,71,71,71,71,71,71,71,71,71,71,71,71,71,71,71,71,71,71,71,71,71,71,71,71,71,71,71,71,71,71,71,71,71,71,71,71,71,71,71,71,71,71,71,71,71,71,71,71,71,71,71,71,71,71,71,71,71,71,71,71,71,71,71,71,71,71,71,71,71,71,71,71,71,71,71,71,71,71,71,71,71,71,71,71,71,71,71,71,71,71,71,71,71,71,71,71,71,71,71,71,71,71,71,71,71,71,71,71,71,71,71,71,71,71,71,71,71,71,71,71,71,71,71,71,71,71,71,71,71,71,71,71,71,71,71,71,71,71,71,71,71,71,71,71,71,71,71,71,71,71,71,71,71,71,71,71,71,71,71,71,71,71,71,71,71,71,71,71,71,71,71,71,71,71,71,71,71,71,71,71,71,71,71,71,71,71,71,71,71,71,71,71,71,71,71,71,71,71,71,71,71,71,71,71,71,71,71,71,71,71,71,71,71,71,71,71,71,71,71,71,71,71,71,71,71,71,71,71,71,71,71,71,71,71,71,71,71,71,71,71,71,71,71,71,71,71,71,71,71,71,71,71,71,71,71,71,71,71,71,71,71,71,71,71,71,71,71,71,71,71,71,71,71,71,71,71,71,71,71,71,71,71,71,71,71,71,71,71,71,71,71,71,71,71,71,71,71,71,71,71,71,71,71,71,71,71,71,71,71,71,71,71,71,71,71,71,71,71,71,71,71,71,71,71,71,71,71,71,71,71,71,71,71,71,71,71,71,71,71,71,71,71,71,71,71,71,71,71,71,71,71,71,71,71,71,71,71,71,71,71,71,71,71,71,71,71,71,71,71,71,71,71,71,71,71,71,71,71,71,71,71,71,71,71,71,71,71,71,71,71,71,71,71,71,71,71,71,71,71,71,71,71,71,71,71,71,71,71,71,71,71,71,71,71,71,71,71,71,71,71,71,71,71,71,71,71,71,71,71,71,71,71,71,71,71,71,71,71,71,71,71,71,71,71,71,71,71,71,71,71,71,71,71,71,71,71,71,71,71,71,71,71,71,71,71,71,71,71,71,71,71,71,71,71,71,71,71,71,71,71,71,71,71,71,71,71,71,71,71,71,71,71,71,71,71,71,71,71,71,71,71,71,71,71,71,71,71,71,71,71,71,71,71,71,71,71,71,71,71,71,71,71,71,71,71,71,71,71,71,71,71,71,71,71,71,71,71,71,71,71,71,71,71,71,71,71,71,71,71,71,71,71,71,71,71,71,71,71,71,71,71,71,71,71,71,71,71,71,71,71,71,71,71,71,71,71,71,71,71,71,71,71,71,71,71,71,71,71,71,71,71,71,71,71,71,71,71,71,71,71,71,71,71,71,71,71,71,71,71,71,71,71,71,71,71,71,71,71,71,71,71,71,71,71,71,71,71,71,71,71,71,71,71,71,71,71,71,71,71,71,71,71,71,71,71,71,71,71,71,71,71,71,71,71,71,71,71,71,71,71,71,71,71,71,71,71,71,71,71,71,71,71,71,71,71,71,71,71,71,71,71,71,71,71,71,71,71,71,71,71,71,71,71,71,71,71,71,71,71,71,71,71,71,71,71,71,71,71,71,71,71,71,71,71,71,71,71,71,71,71,71,71,71,71,71,71,71,71,71,71,71,71,71,71,71,71,71,71,71,71,71,71,71,71,71,71,71,71,71,71,71,71,71,71,71,71,71,71,71,71,71,71,71,71,71,71,71,71,71,71,71,71,71,71,71,71,71,71,71,71,71,71,71,71,71,71,71,71,71,71,71,71,71,71,71,71,71,71,71,71,71,71,71,71,71,71,71,71,71,71,71,71,71,71,71,71,71,71,71,71,71,71,71,71,71,71,71,71,71,71,71,71,71,71,71,71,71,71,71,71,71,71,71,71,71,71,71,71,71,71,71,71,71,71,71,71,71,71,71,71,71,71,71,71,71,71,71,71,71,71,71,71,71,71,71,71,71,71,71,71,71,71,71,71,71,71,71,71,71,71,71,71,71,71,71,71,71,71,71,71,71,71,71,71,71,71,71,71,71,71,71,71,71,71,71,71,71,71,71,71,71,71,71,71,71,71,71,71,71,71,71,71,71,71,71,71,71,71,71,71,71,71,71,71,71,71,71,71,71,71,71,71,71,71,71,71,71,71,71,71,71,71,71,71,71,71,71,71,71,71,71,71,71,71,71,71,71,71,71,71,71,71,71,71,71,71,71,71,71,71,71,71,71,71,71,71,71,71,71,71,71,71,71,71,71,71,71,71,71,71,71,71,71,71,71,71,71,71,71,71,71,71,71,71,71,71,71,71,71,71,71,71,71,71,71,71,71,71,71,71,71,71,71,71,71,71,71,71,71,71,71,71,71,71,71,71,71,71,71,71,71,71,71,71,71,71,71,71,71,71,71,71,71,71,71,71,71,71,71,71,71,71,71,71,71,71,71,71,71,71,71,71,71,71,71,71,71,71,71,71,71,71,71,71,71,71,71,71,71,71,71,71,71,71,71,71,71,71,71,71,71,71,71,71,71,71,71,71,71,71,71,71,71,71,71,71,71,71,71,71,71,71,71,71,71,71,71,71,71,71,71,71,71,71,71,71,71,71,71,71,71,71,71,71,71,71,71,71,71,71,71,71,71,71,71,71,71,71,71,71,71,71,71,71,71,71,71,71,71,71,71,71,71,71,71,71,71,71,71,71,71,71,71,71,71,71,71,71,71,71,71,71,71,71,71,71,71,71,71,71,71,71,71,71,71,71,71,71,71,71,71,71,71,71,71,71,71,71,71,71,71,71,71,71,71,71,71,71,71,71,71,71,71,71,71,71,71,71,71,71,71,71,71,71,71,71,71,71,71,71,71,71,71,71,71,71,71,71,71,71,71,71,71,71,71,71,71,71,71,71,71,71,71,71,71,71,71,71,71,71,71,71,71,71,71,71,71,71,71,71,71,71,71,71,71,71,71,71,71,71,71,71,71,71,71,71,71,71,71,71,71,71,71,71,71,71,71,71,71,71,71,71,71,71,71,71,71,71,71,71,71,71,71,71,71,71,71,71,71,71,71,71,71,71,71,71,71,71,71,71,71,71,71,71,71,71,71,71,71,71,71,71,71,71,71,71,71,71,71,71,71,71,71,71,71,71,71,71,71,71,71,71,71,71,71,71,71,71,71,71,71,71,71,71,71,71,71,71,71,71,71,71,71,71,71,71,71,71,71,71,71,71,71,71,71,71,71,71,71,71,71,71,71,71,71,71,71,71,71,71,71,71,71,71,71,71,71,71,71,71,71,71,71,71,71,71,71,71,71,71,71,71,71,71,71,71,71,71,71,71,71,71,71,71,71,71,71,71,71,71,71,71,71,71,71,71,71,71,71,71,71,71,71,71,71,71,71,71,71,71,71,71,71,71,71,71,71,71,71,71,71,71,71,71,71,71,71,71,71,71,71,71,71,71,71,71,71,71,71,71,71,71,71,71,71,71,71,71,71,71,71,71,71,71,71,71,71,71,71,71,71,71,71,71,71,71,71,71,71,71,71,71,71,71,71,71,71,71,71,71,71,71,71,71,71,71,71,71,71,71,71,71,71,71,71,71,71,71,71,71,71,71,71,71,71,71,71,71,71,71,71,71,71,71,71,71,71,71,71,71,71,71,71,71,71,71,71,71,71,71,71,71,71,71,71,71,71,71,71,71,71,71,71,71,71,71,71,71,71,71,71,71,71,71,71,71,71,71,71,71,71,71,71,71,71,71,71,71,71,71,71,71,71,71,71,71,71,71,71,71,71,71,71,71,71,71,71,71,71,71,71,71,71,71,71,71,71,71,71,71,71,71,71,71,71,71,71,71,71,71,71,71,71,71,71,71,71,71,71,71,71,71,71,71,71,71,71,71,71,71,71,71,71,71,71,71,71,71,71,71,71,71,71,71,71,71,71,71,71,71,71,71,71,71,71,71,71,71,71,71,71,71,71,71,71,71,71,71,71,71,71,71,71,71,71,71,71,71,71,71,71,71,71,71,71,71,71,71,71,71,71,71,71,71,71,71,71,71,71,71,71,71,71,71,71,71,71,71,71,71,71,71,71,71,71,71,71,71,71,71,71,71,71,71,71,71,71,71,71,71,71,71,71,71,71,71,71,71,71,71,71,71,71,71,71,71,71,71,71,71,71,71,71,71,71,71,71,71,71,71,71,71,71,71,71,71,71,71,71,71,71,71,71,71,71,71,71,71,71,71,71,71,71,71,71,71,71,71,71,71,71,71,71,71,71,71,71,71,71,71,71,71,71,71,71,71,71,71,71,71,71,71,71,71,71,71,71,71,71,71,71,71,71,71,71,71,71,71,71,71,71,71,71,71,71,71,71,71,71,71,71,71,71,71,71,71,71,71,71,71,71,71,71,71,71,71,71,71,71,71,71,71,71,71,71,71,71,71,71,71,71,71,71,71,71,71,71,71,71,71,71,71,71,71,71,71,71,71,71,71,71,71,71,71,71,71,71,71,71,71,71,71,71,71,71,71,71,71,71,71,71,71,71,71,71,71,71,71,71,71,71,71,71,71,71,71,71,71,71,71,71,71,71,71,71,71,71,71,71,71,71,71,71,71,71,71,71,71,71,71,71,71,71,71,71,71,71,71,71,71,71,71,71,71,71,71,71,71,71,71,71,71,71,71,71,71,71,71,71,71,71,71,71,71,71,71,71,71,71,71,71,71,71,71,71,71,71,71,71,71,71,71,71,71,71,71,71,71,71,71,71,71,71,71,71,71,71,71,71,71,71,71,71,71,71,71,71,71,71,71,71,71,71,71,71,71,71,71,71,71,71,71,71,71,71,71,71,71,71,71,71,71,71,71,71,71,71,71,71,71,71,71,71,71,71,71,71,71,71,71,71,71,71,71,71,71,71,71,71,71,71,71,71,71,71,71,71,71,71,71,71,71,71,71,71,71,71,71,71,71,71,71,71,71,71,71,71,71,71,71,71,71,71,71,71,71,71,71,71,71,71,71,71,71,71,71,71,71,71,71,71,71,71,71,71,71,71,71,71,71,71,71,71,71,71,71,71,71,71,71,71,71,71,71,71,71,71,71,71,71,71,71,71,71,71,71,71,71,71,71,71,71,71,71,71,71,71,71,71,71,71,71,71,71,71,71,71,71,71,71,71,71,71,71,71,71,71,71,71,71,71,71,71,71,71,71,71,71,71,71,71,71,71,71,71,71,71,71,71,71,71,71,71,71,71,71,71,71,71,71,71,71,71,71,71,71,71,71,71,71,71,71,71,71,71,71,71,71,71,71,71,71,71,71,71,71,71,71,71,71,71,71,71,71,71,71,71,71,71,71,71,71,71,71,71,71,71,71,71,71,71,71,71,71,71,71,71,71,71,71,71,71,71,71,71,71,71,71,71,71,71,71,71,71,71,71,71,71,71,71,71,71,71,71,71,71,71,71,71,71,71,71,71,71,71,71,71,71,71,71,71,71,71,71,71,71,71,71,71,71,71,71,71,71,71,71,71,71,71,71,71,71,71,71,71,71,71,71,71,71,71,71,71,71,71,71,71,71,71,71,71,71,71,71,71,71,71,71,71,71,71,71,71,71,71,71,71,71,71,71,71,71,71,71,71,71,71,71,71,71,71,71,71,71,71,71,71,71,71,71,71,71,71,71,71,71,71,71,71,71,71,71,71,71,71,71,71,71,71,71,71,71,71,71,71,71,71,71,71,71,71,71,71,71,71,71,71,71,71,71,71,71,71,71,71,71,71,71,71,71,71,71,71,71,71,71,71,71,71,71,71,71,71,71,71,71,71,71,71,71,71,71,71,71,71,71,71,71,71,71,71,71,71,71,71,71,71,71,71,71,71,71,71,71,71,71,71,71,71,71,71,71,71,71,71,71,71,71,71,71,71,71,71,71,71,71,71,71,71,71,71,71,71,71,71,71,71,71,71,71,71,71,71,71,71,71,71,71,71,71,71,71,71,71,71,71,71,71,71,71,71,71,71,71,71,71,71,71,71,71,71,71,71,71,71,71,71,71,71,71,71,71,71,71,71,71,71,71,71,71,71,71,71,71,71,71,71,71,71,71,71,71,71,71,71,71,71,71,71,71,71,71,71,71,71,71,71,71,71,71,71,71,71,71,71,71,71,71,71,71,71,71,71,71,71,71,71,71,71,71,71,71,71,71,71,71,71,71,71,71,71,71,71,71,71,71,71,71,71,71,71,71,71,71,71,71,71,71,71,71,71,71,71,71,71,71,71,71,71,71,71,71,71,71,71,71,71,71,71,71,71,71,71,71,71,71,71,71,71,71,71,71,71,71,71,71,71,71,71,71,71,71,71,71,71,71,71,71,71,71,71,71,71,71,71,71,71,71,71,71,71,71,71,71,71,71,71,71,71,71,71,71,71,71,71,71,71,71,71,71,71,71,71,71,71,71,71,71,71,71,71,71,71,71,71,71,71,71,71,71,71,71,71,71,71,71,71,71,71,71,71,71,71,71,71,71,71,71,71,71,71,71,71,71,71,71,71,71,71,71,71,71,71,71,71,71,71,71,71,71,71,71,71,71,71,71,71,71,71,71,71,71,71,71,71,71,71,71,71,71,71,71,71,71,71,71,71,71,71,71,71,71,71,71,71,71,71,71,71,71,71,71,71,71,71,71,71,71,71,71,71,71,71,71,71,71,71,71,71,71,71,71,71,71,71,71,71,71,71,71,71,71,71,71,71,71,71,71,71,71,71,71,71,71,71,71,71,71,71,71,71,71,71,71,71,71,71,71,71,71,71,71,71,71,71,71,71,71,71,71,71,71,71,71,71,71,71,71,71,71,71,71,71,71,71,71,71,71,71,71,71,71,71,71,71,71,71,71,71,71,71,71,71,71,71,71,71,71,71,71,71,71,71,71,71,71,71,71,71,71,71,71,71,71,71,71,71,71,71,71,71,71,71,71,71,71,71,71,71,71,71,71,71,71,71,71,71,71,71,71,71,71,71,71,71,71,71,71,71,71,71,71,71,71,71,71,71,71,71,71,71,71,71,71,71,71,71,71,71,71,71,71,71,71,71,71,71,71,71,71,71,71,71,71,71,71,71,71,71,71,71,71,71,71,71,71,71,71,71,71,71,71,71,71,71,71,71,71,71,71,71,71,71,71,71,71,71,71,71,71,71,71,71,71,71,71,71,71,71,71,71,71,71,71,71,71,71,71,71,71,71,71,71,71,71,71,71,71,71,71,71,71,71,71,71,71,71,71,71,71,71,71,71,71,71,71,71,71,71,71,71,71,71,71,71,71,71,71,71,71,71,71,71,71,71,71,71,71,71,71,71,71,71,71,71,71,71,71,71,71,71,71,71,71,71,71,71,71,71,71,71,71,71,71,71,71,71,71,71,71,71,71,71,71,71,71,71,71,71,71,71,71,71,71,71,71,71,71,71,71,71,71,71,71,71,71,71,71,71,71,71,71,71,71,71,71,71,71,71,71,71,71,71,71,71,71,71,71,71,71,71,71,71,71,71,71,71,71,71,71,71,71,71,71,71,71,71,71,71,71,71,71,71,71,71,71,71,71,71,71,71,71,71,71,71,71,71,71,71,71,71,71,71,71,71,71,71,71,71,71,71,71,71,71,71,71,71,71,71,71,71,71,71,71,71,71,71,71,71,71,71,71,71,71,71,71,71,71,71,71,71,71,71,71,71,71,71,71,71,71,71,71,71,71,71,71,71,71,71,71,71,71,71,71,71,71,71,71,71,71,71,71,71,71,71,71,71,71,71,71,71,71,71,71,71,71,71,71,71,71,71,71,71,71,71,71,71,71,71,71,71,71,71,71,71,71,71,71,71,71,71,71,71,71,71,71,71,71,71,71,71,71,71,71,71,71,71,71,71,71,71,71,71,71,71,71,71,71,71,71,71,71,71,71,71,71,71,71,71,71,71,71,71,71,71,71,71,71,71,71,71,71,71,71,71,71,71,71,71,71,71,71,71,71,71,71,71,71,71,71,71,71,71,71,71,71,71,71,71,71,71,71,71,71,71,71,71,71,71,71,71,71,71,71,71,71,71,71,71,71,71,71,71,71,71,71,71,71,71,71,71,71,71,71,71,71,71,71,71,71,71,71,71,71,71,71,71,71,71,71,71,71,71,71,71,71,71,71,71,71,71,71,71,71,71,71,71,71,71,71,71,71,71,71,71,71,71,71,71,71,71,71,71,71,71,71,71,71,71,71,71,71,71,71,71,71,71,71,71,71,71,71,71,71,71,71,71,71,71,71,71,71,71,71,71,71,71,71,71,71,71,71,71,71,71,71,71,71,71,71,71,71,71,71,71,71,71,71,71,71,71,71,71,71,71,71,71,71,71,71,71,71,71,71,71,71,71,71,71,71,71,71,71,71,71,71,71,71,71,71,71,71,71,71,71,71,71,71,71,71,71,71,71,71,71,71,71,71,71,71,71,71,71,71,71,71,71,71,71,71,71,71,71,71,71,71,71,71,71,71,71,71,71,71,71,71,71,71,71,71,71,71,71,71,71,71,71,71,71,71,71,71,71,71,71,71,71,71,71,71,71,71,71,71,71,71,71,71,71,71,71,71,71,71,71,71,71,71,71,71,71,71,71,71,71,71,71,71,71,71,71,71,71,71,71,71,71,71,71,71,71,71,71,71,71,71,71,71,71,71,71,71,71,71,71,71,71,71,71,71,71,71,71,71,71,71,71,71,71,71,71,71,71,71,71,71,71,71,71,71,71,71,71,71,71,71,71,71,71,71,71,71,71,71,71,71,71,71,71,71,71,71,71,71,71,71,71,71,71,71,71,71,71,71,71,71,71,71,71,71,71,71,71,71,71,71,71,71,71,71,71,71,71,71,71,71,71,71,71,71,71,71,71,71,71,71,71,71,71,71,71,71,71,71,71,71,71,71,71,71,71,71,71,71,71,71,71,71,71,71,71,71,71,71,71,71,71,71,71,71,71,71,71,71,71,71,71,71,71,71,71,71,71,71,71,71,71,71,71,71,71,71,71,71,71,71,71,71,71,71,71,71,71,71,71,71,71,71,71,71,71,71,71,71,71,71,71,71,71,71,71,71,71,71,71,71,71,71,71,71,71,71,71,71,71,71,71,71,71,71,71,71,71,71,71,71,71,71,71,71,71,71,71,71,71,71,71,71,71,71,71,71,71,71,71,71,71,71,71,71,71,71,71,71,71,71,71,71,71,71,71,71,71,71,71,71,71,71,71,71,71,71,71,71,71,71,71,71,71,71,71,71,71,71,71,71,71,71,71,71,71,71,71,71,71,71,71,71,71,71,71,71,71,71,71,71,71,71,71,71,71,71,71,71,71,71,71,71,71,71,71,71,71,71,71,71,71,71,71,71,71,71,71,71,71,71,71,71,71,71,71,71,71,71,71,71,71,71,71,71,71,71,71,71,71,71,71,71,71,71,71,71,71,71,71,71,71,71,71,71,71,71,71,71,71,71,71,71,71,71,71,71,71,71,71,71,71,71,71,71,71,71,71,71,71,71,71,71,71,71,71,71,71,71,71,71,71,71,71,71,71,71,71,71,71,71,71,71,71,71,71,71,71,71,71,71,71,71,71,71,71,71,71,71,71,71,71,71,71,71,71,71,71,71,71,71,71,71,71,71,71,71,71,71,71,71,71,71,71,71,71,71,71,71,71,71,71,71,71,71,71,71,71,71,71,71,71,71,71,71,71,71,71,71,71,71,71,71,71,71,71,71,71,71,71,71,71,71,71,71,71,71,71,71,71,71,71,71,71,71,71,71,71,71,71,71,71,71,71,71,71,71,71,71,71,71,71,71,71,71,71,71,71,71,71,71,71,71,71,71,71,71,71,71,71,71,71,71,71,71,71,71,71,71,71,71,71,71,71,71,71,71,71,71,71,71,71,71,71,71,71,71,71,71,71,71,71,71,71,71,71,71,71,71,71,71,71,71,71,71,71,71,71,71,71,71,71,71,71,71,71,71,71,71,71,71,71,71,71,71,71,71,71,71,71,71,71,71,71,71,71,71,71,71,71,71,71,71,71,71,71,71,71,71,71,71,71,71,71,71,71,71,71,71,71,71,71,71,71,71,71,71,71,71,71,71,71,71,71,71,71,71,71,71,71,71,71,71,71,71,71,71,71,71,71,71,71,71,71,71,71,71,71,71,71,71,71,71,71,71,71,71,71,71,71,71,71,71,71,71,71,71,71,71,71,71,71,71,71,71,71,71,71,71,71,71,71,71,71,71,71,71,71,71,71,71,71,71,71,71,71,71,71,71,71,71,71,71,71,71,71,71,71,71,71,71,71,71,71,71,71,71,71,71,71,71,71,71,71,71,71,71,71,71,71,71,71,71,71,71,71,71,71,71,71,71,71,71,71,71,71,71,71,71,71,71,71,71,71,71,71,71,71,71,71,71,71,71,71,71,71,71,71,71,71,71,71,71,71,71,71,71,71,71,71,71,71,71,71,71,71,71,71,71,71,71,71,71,71,71,71,71,71,71,71,71,71,71,71,71,71,71,71,71,71,71,71,71,71,71,71,71,71,71,71,71,71,71,71,71,71,71,71,71,71,71,71,71,71,71,71,71,71,71,71,71,71,71,71,71,71,71,71,71,71,71,71,71,71,71,71,71,71,71,71,71,71,71,71,71,71,71,71,71,71,71,71,71,71,71,71,71,71,71,71,71,71,71,71,71,71,71,71,71,71,71,71,71,71,71,71,71,71,71,71,71,71,71,71,71,71,71,71,71,71,71,71,71,71,71,71,71,71,71,71,71,71,71,71,71,71,71,71,71,71,71,71,71,71,71,71,71,71,71,71,71,76,71,71,71,71,71,71,71,71,71,71,71,71,71,71,71,71,71,71,71,71,71,71,71,71,71,71,71,71,71,71,71,71,71,71,71,71,71,71,71,71,71,71,71,71,71,71,71,71,71,71,71,71,71,71,71,71,71,71,71,71,71,71,71,71,71,71,71,71,71,71,71,71,71,71,71,71,71,71,71,71,71,71,71,71,71,71,71,71,71,71,71,71,71,71,71,71,71,71,71,71,71,71,71,71,71,71,71,71,71,71,71,71,71,71,71,71,71,71,71,71,71,71,71,71,71,71,71,71,71,71,71,71,71,71,71,71,71,71,71,71,71,71,71,71,71,71,71,71,71,71,71,71,71,71,71,71,71,71,71,71,71,71,71,71,71,71,71,71,71,71,71,71,71,71,71,71,71,71,71,71,71,71,71,71,71,71,71,71,71,71,71,71,71,71,71,71,71,71,71,71,71,71,71,71,71,71,71,71,71,71,71,71,71,71,71,71,71,71,71,71,71,71,71,71,71,71,71,71,71,71,71,71,71,71,71,71,71,71,71,71,71,71,71,71,71,71,71,71,71,71,71,71,71,71,71,71,71,71,71,71,71,71,71,71,71,71,71,71,71,71,71,71,71,71,71,71,71,71,71,71,71,71,71,71,71,71,71,71,71,71,71,71,71,71,71,71,71,71,71,71,71,71,71,71,71,71,71,71,71,71,71,71,71,71,71,71,71,71,71,71,71,71,71,71,71,71,71,71,71,71,71,71,71,71,71,71,71,71,71,71,71,71,71,71,71,71,71,71,71,71,71,71,71,71,71,71,71,71,71,71,71,71,71,71,71,71,71,71,71,71,71,71,71,71,71,71,71,71,71,71,71,71,71,71,71,71,71,71,71,71,71,71,71,71,71,71,71,71,71,71,71,71,71,71,71,71,71,71,71,71,71,71,71,71,71,71,71,71,71,71,71,71,71,71,71,71,71,71,71,71,71,71,71,71,71,71,71,71,71,71,71,71,71,71,71,71,71,71,71,71,71,71,71,71,71,71,71,71,71,71,71,71,71,71,71,71,71,71,71,71,71,71,71,71,71,71,71,71,71,71,71,71,71,71,71,71,71,71,71,71,71,71,71,71,71,71,71,71,71,71,71,71,71,71,71,71,71,71,71,71,71,71,71,71,71,71,71,71,71,71,71,71,71,71,71,71,71,71,71,71,71,71,71,71,71,71,71,71,71,71,71,71,71,71,71,71,71,71,71,71,71,71,71,71,71,71,71,71,71,71,71,71,71,71,71,71,71,71,71,71,71,71,71,71,71,71,71,71,71,71,71,71,71,71,71,71,71,71,71,71,71,71,71,71,71,71,71,71,71,71,71,71,71,71,71,71,71,71,71,71,71,71,71,71,71,71,71,71,71,71,71,71,71,71,71,71,71,71,71,71,71,71,71,71,71,71,71,71,71,71,71,71,71,71,71,71,71,71,71,71,71,71,71,71,71,71,71,71,71,71,71,71,71,71,71,71,71,71,71,71,71,71,71,71,71,71,71,71,71,71,71,71,71,71,71,71,71,71,71,71,71,71,71,71,71,71,71,71,71,71,71,71,71,71,71,71,71,71,71,71,71,71,71,71,71,71,71,71,71,71,71,71,71,71,71,71,71,71,71,71,71,71,71,71,71,71,71,71,71,71,71,71,71,71,71,71,71,71,71,71,71,71,71,71,71,71,71,71,71,71,71,71,71,71,71,71,71,71,71,71,71,71,71,71,71,71,71,71,71,71,71,71,71,71,71,71,71,71,71,71,71,71,71,71,71,71,71,71,71,71,71,71,71,71,71,71,71,71,71,71,71,71,71,71,71,71,71,71,71,71,71,71,71,71,71,71,71,71,71,71,71,71,71,71,71,71,71,71,71,71,71,71,71,71,71,71,71,71,71,71,71,71,71,71,71,71,71,71,71,71,71,71,71,71,71,71,71,71,71,71,71,71,71,71,71,71,71,71,71,71,71,71,71,71,71,71,71,71,71,71,71,71,71,71,71,71,71,71,71,71,71,71,71,71,71,71,71,71,71,71,71,71,71,71,71,71,71,71,71,71,71,71,71,71,71,71,71,71,71,71,71,71,71,71,71,71,71,71,71,71,71,71,71,71,71,71,71,71,71,71,71,71,71,71,71,71,71,71,71,71,71,71,71,71,71,71,71,71,71,71,71,71,71,71,71,71,71,71,71,71,71,71,71,71,71,71,71,71,71,71,71,71,71,71,71,71,71,71,71,71,71,71,71,71,71,71,71,71,71,71,71,71,71,71,71,71,71,71,71,71,71,71,71,71,71,71,71,71,71,71,71,71,71,71,71,71,71,71,71,71,71,71,71,71,71,71,71,71,71,71,71,71,71,71,71,71,71,71,71,71,71,71,71,71,71,71,71,71,71,71,71,71,71,71,71,71,71,71,71,71,71,71,71,71,71,71,71,71,71,71,71,71,71,71,71,71,71,71,71,71,71,71,71,71,71,71,71,71,71,71,71,71,71,71,71,71,71,71,71,71,71,71,71,71,71,71,71,71,71,71,71,71,71,71,71,71,71,71,71,71,71,71,71,71,71,71,71,71,71,71,71,71,71,71,71,71,71,71,71,71,71,71,71,71,71,71,71,71,71,71,71,71,71,71,71,71,71,71,71,71,71,71,71,71,71,71,71,71,71,71,71,71,71,71,71,71,71,71,71,71,71,71,71,71,71,71,71,71,71,71,71,71,71,71,71,71,71,71,71,71,71,71,71,71,71,71,71,71,71,71,71,71,71,71,71,71,71,71,71,71,71,71,71,71,71,71,71,71,71,71,71,71,71,71,71,71,71,71,71,71,71,71,71,71,71,71,71,71,71,71,71,71,71,71,71,71,71,71,71,71,71,71,71,71,71,71,71,71,71,71,71,71,71,71,71,71,71,71,71,71,71,71,71,71,71,71,71,71,71,71,71,71,71,71,71,71,71,71,71,71,71,71,71,71,71,71,71,71,71,71,71,71,71,71,71,71,71,71,71,71,71,71,71,71,71,71,71,71,71,71,71,71,71,71,71,71,71,71,71,71,71,71,71,71,71,71,71,71,71,71,71,71,71,71,71,71,71,71,71,71,71,71,71,71,71,71,71,71,71,71,71,71,71,71,71,71,71,71,71,71,71,71,71,71,71,71,71,71,71,71,71,71,71,71,71,71,71,71,71,71,71,71,71,71,71,71,71,71,71,71,71,71,71,71,71,71,71,71,71,71,71,71,71,71,71,71,71,71,71,71,71,71,71,71,71,71,71,71,71,71,71,71,71,71,71,71,71,71,71,71,71,71,71,71,71,71,71,71,71,71,71,71,71,71,71,71,71,71,71,71,71,71,71,71,71,71,71,71,71,71,71,71,71,71,71,71,71,71,71,71,71,71,71,71,71,71,71,71,71,71,71,71,71,71,71,71,71,71,71,71,71,71,71,71,71,71,71,71,71,71,71,71,71,71,71,71,71,71,71,71,71,71,71,71,71,71,71,71,71,71,71,71,71,71,71,71,71,71,71,71,71,71,71,71,71,71,71,71,71,71,71,71,71,71,71,71,71,71,71,71,71,71,71,71,71,71,71,71,71,71,71,71,71,71,71,71,71,71,71,71,71,71,71,71,71,71,71,71,71,71,71,71,71,71,71,71,71,71,71,71,71,71,71,71,71,71,71,71,71,71,71,71,71,71,71,71,71,71,71,71,71,71,71,71,71,71,71,71,71,71,71,71,71,71,71,71,71,71,71,71,71,71,71,71,71,71,71,71,71,71,71,71,71,71,71,71,71,71,71,71,71,71,71,71,71,71,71,71,71,71,71,71,71,71,71,71,71,71,71,71,71,71,71,71,71,71,71,71,71,71,71,71,71,71,71,71,71,71,71,71,71,71,71,71,71,71,71,71,71,71,71,71,71,71,71,71,71,71,71,71,71,71,71,71,71,71,71,71,71,71,71,71,71,71,71,71,71,71,71,71,71,71,71,71,71,71,71,71,71,71,71,71,71,71,71,71,71,71,71,71,71,71,71,71,71,71,71,71,71,71,71,71,71,71,71,71,71,71,71,71,71,71,71,71,71,71,71,71,71,71,71,71,71,71,71,71,71,71,71,71,71,71,71,71,71,71,71,71,71,71,71,71,71,71,71,71,71,71,71,71,71,71,71,71,71,71,71,71,71,71,71,71,71,71,71,71,71,71,71,71,71,71,71,71,71,71,71,71,71,71,71,71,71,71,71,71,71,71,71,71,71,71,71,71,71,71,71,71,71,71,71,71,71,71,71,71,71,71,71,71,71,71,71,71,71,71,71,71,71,71,71,71,71,71,71,71,71,71,71,71,71,71,71,71,71,71,71,71,71,71,71,71,71,71,71,71,71,71,71,71,71,71,71,71,71,71,71,71,71,71,71,71,71,71,71,71,71,71,71,71,71,71,71,71,71,71,71,71,71,71,71,71,71,71,71,71,71,71,71,71,71,71,71,71,71,71,71,71,71,71,71,71,71,71,71,71,71,71,71,71,71,71,71,71,71,71,71,71,71,71,71,71,71,71,71,71,71,71,71,71,71,71,71,71,71,71,71,71,71,71,71,71,71,71,71,71,71,71,71,71,71,71,71,71,71,71,71,71,71,71,71,71,71,71,71,71,71,71,71,71,71,71,71,71,71,71,71,71,71,71,71,71,71,71,71,71,71,71,71,71,71,71,71,71,71,71,71,71,71,71,71,71,71,71,71,71,71,71,71,71,71,71,71,71,71,71,71,71,71,71,71,71,71,71,71,71,71,71,71,71,71,71,71,71,71,71,71,71,71,71,71,71,71,71,71,71,71,71,71,71,71,71,71,71,71,71,71,71,71,71,71,71,71,71,71,71,71,71,71,71,71,71,71,71,71,71,71,71,71,71,71,71,71,71,71,71,71,71,71,71,71,71,71,71,71,71,71,71,71,71,71,71,71,71,71,71,71,71,71,71,71,71,71,71,71,71,71,71,71,71,71,71,71,71,71,71,71,71,71,71,71,71,71,71,71,71,71,71,71,71,71,71,71,71,71,71,71,71,71,71,71,71,71,71,71,71,71,71,71,71,71,71,71,71,71,71,71,71,71,71,71,71,71,71,71,71,71,71,71,71,71,71,71,71,71,71,71,71,71,71,71,71,71,71,71,71,71,71,71,71,71,71,71,71,71,71,71,71,71,71,71,71,71,71,71,71,71,71,71,71,71,71,71,71,71,71,71,71,71,71,71,71,71,71,71,71,71,71,71,71,71,71,71,71,71,71,71,71,71,71,71,71,71,71,71,71,71,71,71,71,71,71,71,71,71,71,71,71,71,71,71,71,71,71,71,71,71,71,71,71,71,71,71,71,71,71,71,71,71,71,71,71,71,71,71,71,71,71,71,71,71,71,71,71,71,71,71,71,71,71,71,71,71,71,71,71,71,71,71,71,71,71,71,71,71,71,71,71,71,71,71,71,71,71,71,71,71,71,71,71,71,71,71,71,71,71,71,71,71,71,71,71,71,71,71,71,71,71,71,71,71,71,71,71,71,71,71,71,71,71,71,71,71,71,71,71,71,71,71,71,71,71,71,71,71,71,71,71,71,71,71,71,71,71,71,71,71,71,71,71,71,71,71,71,71,71,71,71,71,71,71,71,71,71,71,71,71,71,71,71,71,71,71,71,71,71,71,71,71,71,71,71,71,71,71,71,71,71,71,71,71,71,71,71,71,71,71,71,71,71,71,71,71,71,71,71,71,71,71,71,71,71,71,71,71,71,71,71,71,71,71,71,71,71,71,71,71,71,71,71,71,71,71,71,71,71,71,71,71,71,71,71,71,71,71,71,71,71,71,71,71,71,71,71,71,71,71,71,71,71,71,71,71,71,71,71,71,71,71,71,71,71,71,71,71,71,71,71,71,71,71,71,71,71,71,71,71,71,71,71,71,71,71,71,71,71,71,71,71,71,71,71,71,71,71]\n",
    "\n",
    "len(l)"
   ]
  },
  {
   "cell_type": "code",
   "execution_count": null,
   "metadata": {
    "scrolled": true
   },
   "outputs": [],
   "source": [
    "dailyTemperatures1(l)"
   ]
  },
  {
   "cell_type": "code",
   "execution_count": null,
   "metadata": {},
   "outputs": [],
   "source": [
    "l.count(76)"
   ]
  },
  {
   "cell_type": "markdown",
   "metadata": {},
   "source": [
    "### 784. 字母大小写全排列"
   ]
  },
  {
   "cell_type": "code",
   "execution_count": null,
   "metadata": {},
   "outputs": [],
   "source": [
    "    def letterCasePermutation(S):\n",
    "        s = set()\n",
    "        \n",
    "        def backtrack(S,k):\n",
    "            s.add(S)\n",
    "            for i in range(k,len(S)):\n",
    "                tmp = S[i]\n",
    "                if(tmp.isalpha()):\n",
    "                    backtrack(S[:i]+tmp.swapcase()+S[i+1:],k+1)\n",
    "                    #print(S[:i]+tmp.swapcase()+S[i+1:])\n",
    "        backtrack(S,0)\n",
    "        return s\n",
    "len(letterCasePermutation(\"xxulYjUwme\"))"
   ]
  },
  {
   "cell_type": "code",
   "execution_count": null,
   "metadata": {},
   "outputs": [],
   "source": [
    "    def letterCasePermutation1(S):    \n",
    "        ans = []\n",
    "        \n",
    "        def backtrack(S, p):\n",
    "            ans.append(S)\n",
    "            for k in range(p, len(S)):\n",
    "                if 'a' <= S[k] <= 'z':\n",
    "                    backtrack(S[:k]+S[k].upper()+S[k+1:], k+1)\n",
    "                elif 'A' <= S[k] <= 'Z':\n",
    "                    backtrack(S[:k]+S[k].lower()+S[k+1:], k+1)\n",
    "        \n",
    "        backtrack(S, 0)\n",
    "        return ans\n",
    "len(letterCasePermutation1(\"xxulYjUwme\"))"
   ]
  },
  {
   "cell_type": "code",
   "execution_count": null,
   "metadata": {},
   "outputs": [],
   "source": [
    "def backtrack1(S,p,s):\n",
    "    s.add(S)\n",
    "    for k in range(p, len(S)):\n",
    "        if 'a' <= S[k] <= 'z':\n",
    "            backtrack(S[:k]+S[k].upper()+S[k+1:], k+1,s)\n",
    "        elif 'A' <= S[k] <= 'Z':\n",
    "            backtrack(S[:k]+S[k].lower()+S[k+1:], k+1,s)\n",
    "    return list(s)"
   ]
  },
  {
   "cell_type": "code",
   "execution_count": null,
   "metadata": {
    "scrolled": true
   },
   "outputs": [],
   "source": [
    "S = \"kMsG6bHsg\"\n",
    "letterCasePermutation(S)"
   ]
  },
  {
   "cell_type": "markdown",
   "metadata": {},
   "source": [
    "### 974. 和可被 K 整除的子数组\n",
    "\n",
    "https://leetcode-cn.com/problems/subarray-sums-divisible-by-k/"
   ]
  },
  {
   "cell_type": "markdown",
   "metadata": {},
   "source": [
    "### 暴力法"
   ]
  },
  {
   "cell_type": "code",
   "execution_count": null,
   "metadata": {},
   "outputs": [],
   "source": [
    "    def subarraysDivByK(A,K):\n",
    "        counter = 0\n",
    "        taille = len(A)\n",
    "        if(taille^1==0):\n",
    "            if(A[0]%K^0==0):\n",
    "                return 1\n",
    "            else:\n",
    "                return 0\n",
    "        for i in range(taille-1):\n",
    "            tmp = A[i]\n",
    "            if(tmp%K^0==0):\n",
    "                counter+=1\n",
    "            for j in range(i+1,taille):\n",
    "                tmp+=A[j]\n",
    "                if(tmp%K^0==0):\n",
    "                    counter+=1   \n",
    "        if(A[-1]%K^0==0):\n",
    "            counter+=1\n",
    "        return counter\n",
    "    \n",
    "subarraysDivByK([4,5,0,-2,-3,1],5)"
   ]
  },
  {
   "cell_type": "code",
   "execution_count": null,
   "metadata": {
    "scrolled": false
   },
   "outputs": [],
   "source": [
    "subarraysDivByK([0 for x in range(30000)],1000)"
   ]
  },
  {
   "cell_type": "markdown",
   "metadata": {},
   "source": [
    "### 791. 自定义字符串排序\n",
    "\n",
    "https://leetcode-cn.com/problems/custom-sort-string/"
   ]
  },
  {
   "cell_type": "code",
   "execution_count": null,
   "metadata": {},
   "outputs": [],
   "source": [
    "    def customSortString(S, T):\n",
    "        l = list(filter(lambda x:x in T,S))\n",
    "        tmp = sorted(list(filter(lambda x:x not in S,T)))\n",
    "        l+=tmp\n",
    "        stats = dict()\n",
    "        for x in T:\n",
    "            stats[x] = stats.get(x,0)+1\n",
    "        #print(stats)\n",
    "        repetition = list(filter(lambda x : stats[x] > 1 and x in S,stats))\n",
    "        #print(\"repetition = \",repetition)\n",
    "        #print(\"l = \",l)\n",
    "        for x in repetition:\n",
    "            index = l.index(x)\n",
    "            times = stats[x]\n",
    "            for i in range(times-1):\n",
    "                l.insert(index,x)\n",
    "        return \"\".join(l)\n",
    "customSortString(\"hucw\",\n",
    "\"utzoampdgkalexslxoqfkdjoczajxtuhqyxvlfatmptqdsochtdzgypsfkgqwbgqbcamdqnqztaqhqanirikahtmalzqjjxtqfnh\")\n",
    "# \"hhhhhuucccwaaaaaaaaabbdddddeffffggggiijjjjkkkkllllmmmmnnnoooopppqqqqqqqqqqqrsssttttttttvxxxxxyyzzzzz\""
   ]
  },
  {
   "cell_type": "code",
   "execution_count": null,
   "metadata": {
    "scrolled": false
   },
   "outputs": [],
   "source": [
    "customSortString(\"cba\",\"abcd\")"
   ]
  },
  {
   "cell_type": "code",
   "execution_count": null,
   "metadata": {
    "scrolled": true
   },
   "outputs": [],
   "source": [
    "customSortString(\"cbafg\",\"abcd\")"
   ]
  },
  {
   "cell_type": "code",
   "execution_count": 112,
   "metadata": {
    "scrolled": true
   },
   "outputs": [
    {
     "data": {
      "text/plain": [
       "'kqeep'"
      ]
     },
     "execution_count": 112,
     "metadata": {},
     "output_type": "execute_result"
    }
   ],
   "source": [
    "customSortString(\"kqep\",\"pekeq\")"
   ]
  },
  {
   "cell_type": "code",
   "execution_count": 113,
   "metadata": {},
   "outputs": [
    {
     "data": {
      "text/plain": [
       "'eexvw'"
      ]
     },
     "execution_count": 113,
     "metadata": {},
     "output_type": "execute_result"
    }
   ],
   "source": [
    "customSortString(\"exv\",\"xwvee\")"
   ]
  },
  {
   "cell_type": "code",
   "execution_count": 97,
   "metadata": {},
   "outputs": [
    {
     "data": {
      "text/plain": [
       "'hhuuccwttzzooaammppddggkkallexxsslxoqqffkdjjozajxtqyyxvlfatmptqdsotdzgypsfkgqbbgqbamdqnnqztaqqaniirikatmalzqjjxtqfn'"
      ]
     },
     "execution_count": 97,
     "metadata": {},
     "output_type": "execute_result"
    }
   ],
   "source": [
    "customSortString(\"hucw\",\n",
    "\"utzoampdgkalexslxoqfkdjoczajxtuhqyxvlfatmptqdsochtdzgypsfkgqwbgqbcamdqnqztaqhqanirikahtmalzqjjxtqfnh\")\n",
    "# \"hhhhhuucccwaaaaaaaaabbdddddeffffggggiijjjjkkkkllllmmmmnnnoooopppqqqqqqqqqqqrsssttttttttvxxxxxyyzzzzz\""
   ]
  },
  {
   "cell_type": "code",
   "execution_count": 99,
   "metadata": {},
   "outputs": [
    {
     "data": {
      "text/plain": [
       "5"
      ]
     },
     "execution_count": 99,
     "metadata": {},
     "output_type": "execute_result"
    }
   ],
   "source": [
    "a = \"utzoampdgkalexslxoqfkdjoczajxtuhqyxvlfatmptqdsochtdzgypsfkgqwbgqbcamdqnqztaqhqanirikahtmalzqjjxtqfnh\"\n",
    "a.count('h')"
   ]
  },
  {
   "cell_type": "markdown",
   "metadata": {},
   "source": [
    "### 819 \n",
    "\n",
    "给定一个段落 (paragraph) 和一个禁用单词列表 (banned)。返回出现次数最多，同时不在禁用列表中的单词。题目保证至少有一个词不在禁用列表中，而且答案唯一。\n",
    "\n",
    "禁用列表中的单词用小写字母表示，不含标点符号。段落中的单词不区分大小写。答案都是小写字母。"
   ]
  },
  {
   "cell_type": "code",
   "execution_count": 11,
   "metadata": {},
   "outputs": [
    {
     "name": "stdout",
     "output_type": "stream",
     "text": [
      "paragraph =  a, a, a, a, b,b,b,c, c \n",
      "paragraph1 =  ['a', 'a', 'a', 'a', 'b', 'b', 'b', 'c', 'c']\n"
     ]
    },
    {
     "data": {
      "text/plain": [
       "'b'"
      ]
     },
     "execution_count": 11,
     "metadata": {},
     "output_type": "execute_result"
    }
   ],
   "source": [
    "    def mostCommonWord(paragraph,banned):\n",
    "        l = []\n",
    "        paragraph1 = []\n",
    "        s = str()\n",
    "        paragraph += \" \"\n",
    "        print(\"paragraph = \",paragraph)\n",
    "        for x in paragraph:\n",
    "            if (x.isalpha()):\n",
    "                s+=x\n",
    "                #if x==paragraph[-1]:\n",
    "                    #paragraph1.append(s)\n",
    "            else:\n",
    "                if(s!=\"\"):\n",
    "                    paragraph1.append(s)\n",
    "                s = str()\n",
    "        #print(\"paragraph1 = \",paragraph1)\n",
    "        for i in range(len(paragraph1)):\n",
    "            paragraph1[i] = paragraph1[i].replace(\",\",\"\")\n",
    "            paragraph1[i] = paragraph1[i].replace(\".\",\"\")\n",
    "            paragraph1[i] = paragraph1[i].replace(\"!\",\"\")\n",
    "            paragraph1[i] = paragraph1[i].replace(\" \",\"\")\n",
    "            paragraph1[i] = paragraph1[i].lower()\n",
    "        if(len(paragraph1)<=1):\n",
    "            if(paragraph1[0] not in banned):\n",
    "                return paragraph1[0]\n",
    "            else:\n",
    "                return \"\"\n",
    "        for x in paragraph1:\n",
    "            l.append(paragraph1.count(x))\n",
    "        l1 = list(zip(l,paragraph1))\n",
    "        l1 = list(set(l1))\n",
    "        l1.sort()\n",
    "        l2 = l1.copy()\n",
    "        for i in range(len(l1)-1,-1,-1):\n",
    "            if l1[i][1] in banned:\n",
    "                l2.remove(l1[i])\n",
    "        return l2[-1][1]\n",
    "mostCommonWord(\"a, a, a, a, b,b,b,c, c\",[\"a\"])"
   ]
  },
  {
   "cell_type": "code",
   "execution_count": 4,
   "metadata": {
    "scrolled": true
   },
   "outputs": [
    {
     "name": "stdout",
     "output_type": "stream",
     "text": [
      "[4, 4, 4, 4, 3, 3, 3, 3, 3, 3]\n"
     ]
    },
    {
     "data": {
      "text/plain": [
       "'c'"
      ]
     },
     "execution_count": 4,
     "metadata": {},
     "output_type": "execute_result"
    }
   ],
   "source": [
    "mostCommonWord(\"a, a, a, a, b,b,b,c, c\",[\"a\"])"
   ]
  },
  {
   "cell_type": "markdown",
   "metadata": {},
   "source": [
    "### 849 到最近人的距离\n",
    "\n",
    "在一排座位（ seats）中，1 代表有人坐在座位上，0 代表座位上是空的。\n",
    "\n",
    "至少有一个空座位，且至少有一人坐在座位上。\n",
    "\n",
    "亚历克斯希望坐在一个能够使他与离他最近的人之间的距离达到最大化的座位上。\n",
    "\n",
    "返回他到离他最近的人的最大距离。"
   ]
  },
  {
   "cell_type": "code",
   "execution_count": 49,
   "metadata": {},
   "outputs": [],
   "source": [
    "    def maxDistToClosest(seats):\n",
    "        tmp = seats.count(1)\n",
    "        i = seats.index(1)\n",
    "        distance = i\n",
    "        taille = len(seats)\n",
    "        print(\"seats = \",seats,\"\\n\")\n",
    "        if(tmp==1):\n",
    "            return max(i,taille - 1 - i)\n",
    "        else:        \n",
    "            while(1 in seats):\n",
    "                seats = seats[i+1:]\n",
    "                print(\"seats = \",seats)\n",
    "                if(1 not in seats and 0 not in seats):\n",
    "                    break\n",
    "                if(1 not in seats and 0 in seats):\n",
    "                    tmp = seats.count(0)\n",
    "                    if(distance < tmp):\n",
    "                        distance = tmp\n",
    "                    print(\"distance = \",distance,\"\\n\")\n",
    "                    return distance\n",
    "                i = seats.index(1)\n",
    "                print(\"i = \",i)\n",
    "                if(i%2==0):\n",
    "                    tmp = int(i/2)\n",
    "                    print(\"tmp = \",tmp)\n",
    "                if(i%2==1):\n",
    "                    tmp = int(i/2)+1\n",
    "                    print(\"tmp = \",tmp)\n",
    "                if(distance < tmp):\n",
    "                    distance = tmp\n",
    "                print(\"distance = \",distance,\"\\n\")\n",
    "            else:\n",
    "                tmp = taille - i\n",
    "                if(distance < tmp):\n",
    "                    distance = tmp\n",
    "                print(\"distance = \",distance,\"\\n\")\n",
    "        return distance"
   ]
  },
  {
   "cell_type": "code",
   "execution_count": 50,
   "metadata": {},
   "outputs": [
    {
     "name": "stdout",
     "output_type": "stream",
     "text": [
      "seats =  [1, 0, 0, 1, 0, 0, 0, 0, 0] \n",
      "\n",
      "seats =  [0, 0, 1, 0, 0, 0, 0, 0]\n",
      "i =  2\n",
      "tmp =  1\n",
      "distance =  1 \n",
      "\n",
      "seats =  [0, 0, 0, 0, 0]\n",
      "distance =  5 \n",
      "\n"
     ]
    },
    {
     "data": {
      "text/plain": [
       "5"
      ]
     },
     "execution_count": 50,
     "metadata": {},
     "output_type": "execute_result"
    }
   ],
   "source": [
    "maxDistToClosest([1,0,0,1,0,0,0,0,0])"
   ]
  },
  {
   "cell_type": "code",
   "execution_count": 51,
   "metadata": {
    "scrolled": true
   },
   "outputs": [
    {
     "name": "stdout",
     "output_type": "stream",
     "text": [
      "seats =  [0, 0, 0, 1, 1, 0, 0, 0, 0] \n",
      "\n",
      "seats =  [1, 0, 0, 0, 0]\n",
      "i =  0\n",
      "tmp =  0\n",
      "distance =  3 \n",
      "\n",
      "seats =  [0, 0, 0, 0]\n",
      "distance =  4 \n",
      "\n"
     ]
    },
    {
     "data": {
      "text/plain": [
       "4"
      ]
     },
     "execution_count": 51,
     "metadata": {},
     "output_type": "execute_result"
    }
   ],
   "source": [
    "maxDistToClosest([0,0,0,1,1,0,0,0,0])"
   ]
  },
  {
   "cell_type": "markdown",
   "metadata": {},
   "source": [
    "### 1029. 两地调度\n",
    "\n",
    "公司计划面试 2N 人。第 i 人飞往 A 市的费用为 costs[i][0]，飞往 B 市的费用为 costs[i][1]。\n",
    "\n",
    "返回将每个人都飞到某座城市的最低费用，要求每个城市都有 N 人抵达。"
   ]
  },
  {
   "cell_type": "code",
   "execution_count": 84,
   "metadata": {
    "scrolled": true
   },
   "outputs": [
    {
     "data": {
      "text/plain": [
       "1222"
      ]
     },
     "execution_count": 84,
     "metadata": {},
     "output_type": "execute_result"
    }
   ],
   "source": [
    "    def twoCitySchedCost(costs):\n",
    "        import itertools\n",
    "        L = []\n",
    "        n = int(len(costs)/2)\n",
    "        N = n * 2\n",
    "        index_total = {i for i in range(N)}\n",
    "        index_costs = list(itertools.permutations(index_total,n))\n",
    "        index_comple = [list(index_total-set(x)) for x in index_costs]\n",
    "        for i in range(len(index_costs)):\n",
    "            t1 = index_costs[i]\n",
    "            t2 = index_comple[i]\n",
    "            l1 = []\n",
    "            l2 = []\n",
    "            for x in index_costs[i]:\n",
    "                l1.append(costs[x][0])\n",
    "            for y in index_comple[i]:\n",
    "                l2.append(costs[y][1])\n",
    "            L.append(sum(l1)+sum(l2))\n",
    "        L.sort()\n",
    "        return L[0]\n",
    "twoCitySchedCost([[70,311],[74,927],[732,711],[126,583]])"
   ]
  },
  {
   "cell_type": "markdown",
   "metadata": {},
   "source": [
    "### 贪心算法\n",
    "\n",
    "假设所有人都去B而不去A，一定不是最优解，如果找出前N个最亏的组合（去B不去A，B比A多的部分全部是亏的），把去B改成去A，即可。"
   ]
  },
  {
   "cell_type": "code",
   "execution_count": 102,
   "metadata": {},
   "outputs": [
    {
     "name": "stdout",
     "output_type": "stream",
     "text": [
      "[[74, 927], [97, 928], [284, 929], [126, 583], [70, 311], [689, 863], [721, 888], [175, 221], [732, 711], [975, 843], [816, 602], [857, 118]]\n"
     ]
    },
    {
     "data": {
      "text/plain": [
       "4723"
      ]
     },
     "execution_count": 102,
     "metadata": {},
     "output_type": "execute_result"
    }
   ],
   "source": [
    "    def twoCitySchedCost(costs):\n",
    "        costs = [[x[0]-x[1],x] for x in costs]\n",
    "        costs.sort()\n",
    "        costs = [x[1] for x in costs]\n",
    "        print(costs)\n",
    "        n = int(len(costs)/2)\n",
    "        N = n<<1\n",
    "        L1 = [x[0] for x in costs[:n]]\n",
    "        L2 = [x[1] for x in costs[n:]]\n",
    "        return sum(L1)+sum(L2)\n",
    "l = [[70,311],[74,927],[732,711],[126,583],[857,118],[97,928],[975,843],[175,221],[284,929],[816,602],[689,863],[721,888]]\n",
    "twoCitySchedCost(l)"
   ]
  },
  {
   "cell_type": "markdown",
   "metadata": {},
   "source": [
    "### 1122. 数组的相对排序\n",
    "\n",
    "给你两个数组，arr1 和 arr2，\n",
    "\n",
    "arr2 中的元素各不相同\n",
    "arr2 中的每个元素都出现在 arr1 中\n",
    "对 arr1 中的元素进行排序，使 arr1 中项的相对顺序和 arr2 中的相对顺序相同。未在 arr2 中出现过的元素需要按照升序放在 arr1 的末尾。"
   ]
  },
  {
   "cell_type": "code",
   "execution_count": 19,
   "metadata": {},
   "outputs": [],
   "source": [
    "    def relativeSortArray(arr1, arr2):\n",
    "        L = []\n",
    "        for x in arr1:\n",
    "            tmp1 = arr1.count(x)\n",
    "            tmp2 = arr2.count(x)\n",
    "            tmp3 = L.count(x)\n",
    "            #print(\"x = \",x,\"tmp1 = \",tmp1,\"tmp2 = \",tmp2)\n",
    "            if(tmp1 > 1 and tmp2 == 1):\n",
    "                position = arr2.index(x)\n",
    "                for i in range(tmp1 - 1):\n",
    "                    arr2.insert(position,x)\n",
    "            if(tmp2 == 0 and tmp3 == 0):\n",
    "                for i in range(tmp1):\n",
    "                    L.append(x)\n",
    "        L.sort()\n",
    "        return arr2+L"
   ]
  },
  {
   "cell_type": "code",
   "execution_count": 20,
   "metadata": {},
   "outputs": [
    {
     "name": "stdout",
     "output_type": "stream",
     "text": [
      "x =  2 tmp1 =  1 tmp2 =  1\n",
      "x =  21 tmp1 =  1 tmp2 =  1\n",
      "x =  43 tmp1 =  1 tmp2 =  1\n",
      "x =  38 tmp1 =  1 tmp2 =  1\n",
      "x =  0 tmp1 =  1 tmp2 =  1\n",
      "x =  42 tmp1 =  1 tmp2 =  1\n",
      "x =  33 tmp1 =  1 tmp2 =  0\n",
      "x =  7 tmp1 =  1 tmp2 =  0\n",
      "x =  24 tmp1 =  2 tmp2 =  0\n",
      "x =  13 tmp1 =  1 tmp2 =  0\n",
      "x =  12 tmp1 =  2 tmp2 =  0\n",
      "x =  27 tmp1 =  1 tmp2 =  0\n",
      "x =  12 tmp1 =  2 tmp2 =  0\n",
      "x =  24 tmp1 =  2 tmp2 =  0\n",
      "x =  5 tmp1 =  1 tmp2 =  0\n",
      "x =  23 tmp1 =  1 tmp2 =  0\n",
      "x =  29 tmp1 =  1 tmp2 =  0\n",
      "x =  48 tmp1 =  1 tmp2 =  0\n",
      "x =  30 tmp1 =  1 tmp2 =  0\n",
      "x =  31 tmp1 =  1 tmp2 =  0\n",
      "[2, 42, 38, 0, 43, 21, 5, 7, 12, 12, 13, 23, 24, 24, 27, 29, 30, 31, 33, 48]\n"
     ]
    }
   ],
   "source": [
    "import pprint\n",
    "pprint.pprint(relativeSortArray([2,21,43,38,0,42,33,7,24,13,12,27,12,24,5,23,29,48,30,31],[2,42,38,0,43,21]))"
   ]
  },
  {
   "cell_type": "code",
   "execution_count": null,
   "metadata": {},
   "outputs": [],
   "source": [
    "numbers = [-9,14,37,102,103]\n",
    "def binarySearch(numbers):\n",
    "    i = 0\n",
    "    j = len(numbers)-1\n",
    "    while i < j:\n",
    "        "
   ]
  },
  {
   "cell_type": "markdown",
   "metadata": {},
   "source": [
    "### 1209  删除字符串中的所有相邻重复项 II\n",
    "\n",
    "https://leetcode-cn.com/problems/remove-all-adjacent-duplicates-in-string-ii/\n",
    "\n",
    "输入：s = \"abcd\", k = 2\n",
    "输出：\"abcd\"\n",
    "解释：没有要删除的内容。\n",
    "\n",
    "输入：s = \"deeedbbcccbdaa\", k = 3\n",
    "输出：\"aa\"\n",
    "解释： \n",
    "先删除 \"eee\" 和 \"ccc\"，得到 \"ddbbbdaa\"\n",
    "再删除 \"bbb\"，得到 \"dddaa\"\n",
    "最后删除 \"ddd\"，得到 \"aa\"\n",
    "\n"
   ]
  },
  {
   "cell_type": "code",
   "execution_count": null,
   "metadata": {},
   "outputs": [],
   "source": [
    "    def removeDuplicates(s,k):\n",
    "        stack = [x for x in s[::-1]]\n",
    "        supprimer = []\n",
    "        stats = dict()\n",
    "        tmp = 0\n",
    "        "
   ]
  }
 ],
 "metadata": {
  "kernelspec": {
   "display_name": "Python 3",
   "language": "python",
   "name": "python3"
  },
  "language_info": {
   "codemirror_mode": {
    "name": "ipython",
    "version": 3
   },
   "file_extension": ".py",
   "mimetype": "text/x-python",
   "name": "python",
   "nbconvert_exporter": "python",
   "pygments_lexer": "ipython3",
   "version": "3.7.3"
  }
 },
 "nbformat": 4,
 "nbformat_minor": 2
}
